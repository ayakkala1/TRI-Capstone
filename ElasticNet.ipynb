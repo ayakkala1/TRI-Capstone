{
 "cells": [
  {
   "cell_type": "code",
   "execution_count": 1,
   "metadata": {},
   "outputs": [],
   "source": [
    "import os\n",
    "import pandas as pd\n",
    "import numpy as np\n",
    "import json\n",
    "import re\n",
    "from matplotlib import pyplot as plt\n",
    "import seaborn as sns"
   ]
  },
  {
   "cell_type": "code",
   "execution_count": 2,
   "metadata": {},
   "outputs": [],
   "source": [
    "results_df = pd.DataFrame()"
   ]
  },
  {
   "cell_type": "markdown",
   "metadata": {},
   "source": [
    "Throughout this notebook, \"old\" data refers to the data used in the Severson et al. paper, while \"new\" data refers to the Battery Archive data. \"Combined\" or \"old+new\" data referes to when these two data sources are combined into one dataset."
   ]
  },
  {
   "cell_type": "markdown",
   "metadata": {},
   "source": [
    "There are quite a few conditionals in this notebook. Here is what the following booleans represent, as well as their recommended settings for the best elastic net model:\n",
    "\n",
    "__ct__ [True]: Indicates whether charge throughput is the response variable (vs. cycle life)\n",
    "\n",
    "__integrated_time_temp_cycles__ [optional]: Indicates whether X.integrated_time_temperature_cycles_1:100' should be a feature in the full model\n",
    "\n",
    "__ir__ [False]: Indicates whether the internal resistance features should be present in the full model for the old data (internal resistance is not present in the new data)\n",
    "\n",
    "__log_transformation__ [True]: Indicates whether a log transformation should be applied to the combined data\n",
    "\n",
    "__scaled__ [True]: Indicates whether a Robust Scaler should be used to scale the data (scaling should always be used in an Elastic Net model)\n",
    "\n",
    "__old_new_scaler__ [True]: Assuming the 'scaled' conditional is true, indicates that the old and new data should be scaled separately before it is combined (vs. combining first and then scaling)\n",
    "    \n",
    "__new_chemistries__ [True]: Indicates that the NCA and NMC battery chemistries should be included in the new data set\n",
    "\n",
    "__chem_sources__ [True]: Assuming the 'new_chemistries' conditional is true, indicates whether the battery's chemistry (LFP, NCA, NMC) should be included as a feature in every model\n",
    "    \n",
    "__test_set__ [2 or 3 (half new or new unchanged)]: Assuming the 'new_chemistries' conditional is true, indicates which test set should be used. Set by stating the index of the desired test set, rather than True/False\n",
    "\n",
    "    combination: Includes half of the old data and half of the new data in the test set\n",
    "    new: Includes all of the new data in the test set\n",
    "    half new: Includes half of the new data in the test set\n",
    "    new unchanged: Includes the same batteries as were in the test set for the new data analyses\n",
    "    LFP: Includes all of the LFP batteries in the new data in the test set\n",
    "    NCA: Includes all of the NCA batteries in the new data in the test set\n",
    "    NMC: Includes all of the NMC batteries in the new data in the test set\n",
    "    old: Includes observations 84-139 of the old data set (these are the indexes not included in the initial old data analysis)\n",
    "    \n",
    "__sources__ [True]: Indicates whether the data's source (old data or battery archive data) should be included as a feature every model for the combined data\n",
    "\n",
    "__environ__ [False]: Indicates whether the data's environment conditions are included. There are four variables:\n",
    "    \n",
    "    Temperature: Temperature the battery is tested at\n",
    "    DOD: Depth of Discharge\n",
    "    Discharge_rate: \n",
    "    Charge_rate: \n",
    "    "
   ]
  },
  {
   "cell_type": "code",
   "execution_count": 126,
   "metadata": {},
   "outputs": [],
   "source": [
    "#True if using charge_throughput as response variable, False if using cycle life (X.capacity_0.8)\n",
    "ct = True\n",
    "\n",
    "#True if including 'X.integrated_time_temperature_cycles_1:100' to full model, False if not\n",
    "integrated_time_temp_cycles = False\n",
    "\n",
    "#True if including internal resistance for old data, False if not (no internal resistance variable for new data)\n",
    "ir = False\n",
    "\n",
    "#True if applying a log transformtion to combined data, False if no transformation\n",
    "log_transformation = True\n",
    "\n",
    "#True if scaling explanatory variables with Robust Scaler, False otherwise (necessary for elastic net)\n",
    "scaled = True\n",
    "\n",
    "if scaled:\n",
    "    #True if using old and new data scaled separately in combined data, False if using a separate scaler for all combined data\n",
    "    old_new_scaler = True\n",
    "\n",
    "#True if using all battery chemistries, False if only LFP\n",
    "new_chemistries = False\n",
    "\n",
    "if new_chemistries:\n",
    "    #True if tracking the sources of the new chemistries, False if not\n",
    "    chem_sources = True\n",
    "    \n",
    "    #Identifies the combined data test set's chemistry, or identifies that there will be all new data or a combination all data\n",
    "    #Old data will not be used if LFP is selected, but will be used if combination is selected\n",
    "    test_set = [\"combination\", \"new\", \"half new\", \"new unchanged\", \"LFP\", \"NCA\", \"NMC\", \"old\"]\n",
    "    test_set = test_set[7]\n",
    "    \n",
    "else:\n",
    "    test_set = [\"combination\", \"new\", \"half new\", \"new unchanged\", \"LFP\", \"old\", \"half\"]\n",
    "    test_set = test_set[6]\n",
    "\n",
    "#True if identifying the source of the data (old, new), False if not\n",
    "sources = True\n",
    "\n",
    "#True if using new environment variables\n",
    "environ = True"
   ]
  },
  {
   "cell_type": "code",
   "execution_count": 127,
   "metadata": {},
   "outputs": [],
   "source": [
    "cond = pd.Series({\"ct\": ct, \"time_temp_cycle\":integrated_time_temp_cycles, \"log_y\": log_transformation, \"ir\": ir, \n",
    "                  \"standardized\": scaled, \"environ\":environ, \"sources_ind\": sources, \"other_chem\": new_chemistries,\n",
    "                  \"separate_scaler\": scaled})"
   ]
  },
  {
   "cell_type": "markdown",
   "metadata": {},
   "source": [
    "When we reach a conditional, we create an if statement indicating whether the conditional is true. If the conditional is true, then we add whatever code necessary to meet the conditional, which is often only a few lines."
   ]
  },
  {
   "cell_type": "markdown",
   "metadata": {},
   "source": [
    "## Reading in the Data"
   ]
  },
  {
   "cell_type": "markdown",
   "metadata": {},
   "source": [
    "You will need to change the path variable to fit where the data is stored. The data must be featurized through TRI's beep library in order to read in correctly. All necessary featurized data should already be present in the TRI-Capstone GitHub repo [https://github.com/ayakkala1/TRI-Capstone]."
   ]
  },
  {
   "cell_type": "code",
   "execution_count": 128,
   "metadata": {},
   "outputs": [],
   "source": [
    "# David\n",
    "# path = \"E:/Data/TRI/\"\n",
    "\n",
    "# old_d_dir = path + \"FastCharge/features/DeltaQFastCharge\"\n",
    "# old_t_dir = path + \"FastCharge/features/TrajectoryFastCharge\"\n",
    "\n",
    "#Folder\n",
    "path = \"./\"\n",
    "\n",
    "old_d_dir = path + \"OldData/\"\n",
    "old_t_dir = path + \"TrajectoryFastCharge/\"\n",
    "\n",
    "\n",
    "def getListOfFiles(dirName):\n",
    "    listOfFile = os.listdir(dirName)\n",
    "    allFiles = list()\n",
    "    for entry in listOfFile:\n",
    "        fullPath = os.path.join(dirName, entry)\n",
    "        if \".json\" in fullPath:\n",
    "            allFiles.append(fullPath)\n",
    "    return allFiles\n",
    "\n",
    "old_d_list = getListOfFiles(old_d_dir)\n",
    "old_t_list = getListOfFiles(old_t_dir)"
   ]
  },
  {
   "cell_type": "code",
   "execution_count": 129,
   "metadata": {},
   "outputs": [],
   "source": [
    "def get_new_names(d_list):\n",
    "    new_names = []\n",
    "    for file in d_list:\n",
    "        new_names.append(re.findall(\"CH(.*?)\\_f\", file)[0])\n",
    "    return new_names\n",
    "\n",
    "def make_df(file_list, batch=False):\n",
    "    df = pd.DataFrame()\n",
    "    for file in file_list:\n",
    "        with open(file) as data_file:    \n",
    "            data = json.load(data_file)\n",
    "            data_df = pd.json_normalize(data)\n",
    "            df = pd.concat([df,data_df])\n",
    "    df.reset_index(drop=True,inplace=True)\n",
    "    if batch:\n",
    "        df['bat_num'] = get_new_names(file_list)\n",
    "    return df\n",
    "\n",
    "def merge_df(d_df, t_df):\n",
    "    df_full = d_df.merge(t_df, left_index=True, right_index=True)\n",
    "\n",
    "    # Making values not stored as lists\n",
    "    for column in df_full.columns:\n",
    "        if \"X.\" in column:\n",
    "            df_full[column] = df_full[column].apply(lambda x: x[0])\n",
    "\n",
    "    df_full.reset_index(inplace=True)\n",
    "    return df_full"
   ]
  },
  {
   "cell_type": "code",
   "execution_count": 130,
   "metadata": {},
   "outputs": [],
   "source": [
    "# old_d_df = make_df(old_d_list, batch=True)\n",
    "# old_d_df.head()\n",
    "\n",
    "# batches = []\n",
    "# for i in old_d_df['metadata.protocol']:\n",
    "#     if '2017-05' in i:\n",
    "#         batches.append('b1')\n",
    "#     elif '2017-06' in i:\n",
    "#         batches.append('b2')\n",
    "#     elif '2018-04' in i:\n",
    "#         batches.append('b3')\n",
    "\n",
    "# old_d_df['batches'] = batches\n",
    "# old_d_df['bat_name'] = old_d_df['batches'] + 'c' + old_d_df['bat_num']"
   ]
  },
  {
   "cell_type": "code",
   "execution_count": 131,
   "metadata": {},
   "outputs": [],
   "source": [
    "# for matt - I don't have the full old data\n",
    "old_d_df = make_df(old_d_list, batch=True)\n",
    "old_d_df.head()\n",
    "\n",
    "batches = []\n",
    "for i in old_d_df['name']:\n",
    "    if \"b1\" in i:\n",
    "        batches.append('b1')\n",
    "    elif 'b2' in i:\n",
    "        batches.append('b2')\n",
    "    elif 'b3' in i:\n",
    "        batches.append('b3')\n",
    "\n",
    "old_d_df['batches'] = batches\n",
    "old_d_df['bat_name'] = old_d_df['batches'] + 'c' + old_d_df['bat_num']"
   ]
  },
  {
   "cell_type": "code",
   "execution_count": 132,
   "metadata": {},
   "outputs": [
    {
     "data": {
      "text/html": [
       "<div>\n",
       "<style scoped>\n",
       "    .dataframe tbody tr th:only-of-type {\n",
       "        vertical-align: middle;\n",
       "    }\n",
       "\n",
       "    .dataframe tbody tr th {\n",
       "        vertical-align: top;\n",
       "    }\n",
       "\n",
       "    .dataframe thead th {\n",
       "        text-align: right;\n",
       "    }\n",
       "</style>\n",
       "<table border=\"1\" class=\"dataframe\">\n",
       "  <thead>\n",
       "    <tr style=\"text-align: right;\">\n",
       "      <th></th>\n",
       "      <th>@module</th>\n",
       "      <th>@class</th>\n",
       "      <th>name</th>\n",
       "      <th>@version</th>\n",
       "      <th>X.capacity_0.98</th>\n",
       "      <th>X.capacity_0.95</th>\n",
       "      <th>X.capacity_0.92</th>\n",
       "      <th>X.capacity_0.89</th>\n",
       "      <th>X.capacity_0.86</th>\n",
       "      <th>X.capacity_0.83</th>\n",
       "      <th>X.capacity_0.8</th>\n",
       "      <th>metadata.barcode</th>\n",
       "      <th>metadata.protocol</th>\n",
       "      <th>metadata.channel_id</th>\n",
       "      <th>metadata.parameters.thresh_max_cap</th>\n",
       "      <th>metadata.parameters.thresh_min_cap</th>\n",
       "      <th>metadata.parameters.interval_cap</th>\n",
       "    </tr>\n",
       "  </thead>\n",
       "  <tbody>\n",
       "    <tr>\n",
       "      <th>0</th>\n",
       "      <td>beep.featurize</td>\n",
       "      <td>TrajectoryFastCharge</td>\n",
       "      <td>C:\\Users\\mattm\\Documents\\CalPoly\\DATA 451\\Prac...</td>\n",
       "      <td>2021.1.11.15</td>\n",
       "      <td>[255]</td>\n",
       "      <td>[609]</td>\n",
       "      <td>[1389]</td>\n",
       "      <td>[1564]</td>\n",
       "      <td>[1698]</td>\n",
       "      <td>[1805]</td>\n",
       "      <td>[1851]</td>\n",
       "      <td>None</td>\n",
       "      <td>None</td>\n",
       "      <td>None</td>\n",
       "      <td>0.98</td>\n",
       "      <td>0.78</td>\n",
       "      <td>0.03</td>\n",
       "    </tr>\n",
       "    <tr>\n",
       "      <th>1</th>\n",
       "      <td>beep.featurize</td>\n",
       "      <td>TrajectoryFastCharge</td>\n",
       "      <td>C:\\Users\\mattm\\Documents\\CalPoly\\DATA 451\\Prac...</td>\n",
       "      <td>2021.1.11.15</td>\n",
       "      <td>[717]</td>\n",
       "      <td>[1177]</td>\n",
       "      <td>[1699]</td>\n",
       "      <td>[1877]</td>\n",
       "      <td>[2011]</td>\n",
       "      <td>[2112]</td>\n",
       "      <td>[2159]</td>\n",
       "      <td>None</td>\n",
       "      <td>None</td>\n",
       "      <td>None</td>\n",
       "      <td>0.98</td>\n",
       "      <td>0.78</td>\n",
       "      <td>0.03</td>\n",
       "    </tr>\n",
       "    <tr>\n",
       "      <th>2</th>\n",
       "      <td>beep.featurize</td>\n",
       "      <td>TrajectoryFastCharge</td>\n",
       "      <td>C:\\Users\\mattm\\Documents\\CalPoly\\DATA 451\\Prac...</td>\n",
       "      <td>2021.1.11.15</td>\n",
       "      <td>[745]</td>\n",
       "      <td>[1175]</td>\n",
       "      <td>[1485]</td>\n",
       "      <td>[1485]</td>\n",
       "      <td>[1485]</td>\n",
       "      <td>[2192]</td>\n",
       "      <td>[2236]</td>\n",
       "      <td>None</td>\n",
       "      <td>None</td>\n",
       "      <td>None</td>\n",
       "      <td>0.98</td>\n",
       "      <td>0.78</td>\n",
       "      <td>0.03</td>\n",
       "    </tr>\n",
       "    <tr>\n",
       "      <th>3</th>\n",
       "      <td>beep.featurize</td>\n",
       "      <td>TrajectoryFastCharge</td>\n",
       "      <td>C:\\Users\\mattm\\Documents\\CalPoly\\DATA 451\\Prac...</td>\n",
       "      <td>2021.1.11.15</td>\n",
       "      <td>[626]</td>\n",
       "      <td>[1018]</td>\n",
       "      <td>[1160]</td>\n",
       "      <td>[1235]</td>\n",
       "      <td>[1305]</td>\n",
       "      <td>[1387]</td>\n",
       "      <td>[1433]</td>\n",
       "      <td>None</td>\n",
       "      <td>None</td>\n",
       "      <td>None</td>\n",
       "      <td>0.98</td>\n",
       "      <td>0.78</td>\n",
       "      <td>0.03</td>\n",
       "    </tr>\n",
       "    <tr>\n",
       "      <th>4</th>\n",
       "      <td>beep.featurize</td>\n",
       "      <td>TrajectoryFastCharge</td>\n",
       "      <td>C:\\Users\\mattm\\Documents\\CalPoly\\DATA 451\\Prac...</td>\n",
       "      <td>2021.1.11.15</td>\n",
       "      <td>[652]</td>\n",
       "      <td>[1156]</td>\n",
       "      <td>[1380]</td>\n",
       "      <td>[1489]</td>\n",
       "      <td>[1578]</td>\n",
       "      <td>[1663]</td>\n",
       "      <td>[1708]</td>\n",
       "      <td>None</td>\n",
       "      <td>None</td>\n",
       "      <td>None</td>\n",
       "      <td>0.98</td>\n",
       "      <td>0.78</td>\n",
       "      <td>0.03</td>\n",
       "    </tr>\n",
       "  </tbody>\n",
       "</table>\n",
       "</div>"
      ],
      "text/plain": [
       "          @module                @class  \\\n",
       "0  beep.featurize  TrajectoryFastCharge   \n",
       "1  beep.featurize  TrajectoryFastCharge   \n",
       "2  beep.featurize  TrajectoryFastCharge   \n",
       "3  beep.featurize  TrajectoryFastCharge   \n",
       "4  beep.featurize  TrajectoryFastCharge   \n",
       "\n",
       "                                                name      @version  \\\n",
       "0  C:\\Users\\mattm\\Documents\\CalPoly\\DATA 451\\Prac...  2021.1.11.15   \n",
       "1  C:\\Users\\mattm\\Documents\\CalPoly\\DATA 451\\Prac...  2021.1.11.15   \n",
       "2  C:\\Users\\mattm\\Documents\\CalPoly\\DATA 451\\Prac...  2021.1.11.15   \n",
       "3  C:\\Users\\mattm\\Documents\\CalPoly\\DATA 451\\Prac...  2021.1.11.15   \n",
       "4  C:\\Users\\mattm\\Documents\\CalPoly\\DATA 451\\Prac...  2021.1.11.15   \n",
       "\n",
       "  X.capacity_0.98 X.capacity_0.95 X.capacity_0.92 X.capacity_0.89  \\\n",
       "0           [255]           [609]          [1389]          [1564]   \n",
       "1           [717]          [1177]          [1699]          [1877]   \n",
       "2           [745]          [1175]          [1485]          [1485]   \n",
       "3           [626]          [1018]          [1160]          [1235]   \n",
       "4           [652]          [1156]          [1380]          [1489]   \n",
       "\n",
       "  X.capacity_0.86 X.capacity_0.83 X.capacity_0.8 metadata.barcode  \\\n",
       "0          [1698]          [1805]         [1851]             None   \n",
       "1          [2011]          [2112]         [2159]             None   \n",
       "2          [1485]          [2192]         [2236]             None   \n",
       "3          [1305]          [1387]         [1433]             None   \n",
       "4          [1578]          [1663]         [1708]             None   \n",
       "\n",
       "  metadata.protocol metadata.channel_id  metadata.parameters.thresh_max_cap  \\\n",
       "0              None                None                                0.98   \n",
       "1              None                None                                0.98   \n",
       "2              None                None                                0.98   \n",
       "3              None                None                                0.98   \n",
       "4              None                None                                0.98   \n",
       "\n",
       "   metadata.parameters.thresh_min_cap  metadata.parameters.interval_cap  \n",
       "0                                0.78                              0.03  \n",
       "1                                0.78                              0.03  \n",
       "2                                0.78                              0.03  \n",
       "3                                0.78                              0.03  \n",
       "4                                0.78                              0.03  "
      ]
     },
     "execution_count": 132,
     "metadata": {},
     "output_type": "execute_result"
    }
   ],
   "source": [
    "old_t_df = make_df(old_t_list)\n",
    "old_t_df.head()"
   ]
  },
  {
   "cell_type": "code",
   "execution_count": 133,
   "metadata": {},
   "outputs": [
    {
     "data": {
      "text/html": [
       "<div>\n",
       "<style scoped>\n",
       "    .dataframe tbody tr th:only-of-type {\n",
       "        vertical-align: middle;\n",
       "    }\n",
       "\n",
       "    .dataframe tbody tr th {\n",
       "        vertical-align: top;\n",
       "    }\n",
       "\n",
       "    .dataframe thead th {\n",
       "        text-align: right;\n",
       "    }\n",
       "</style>\n",
       "<table border=\"1\" class=\"dataframe\">\n",
       "  <thead>\n",
       "    <tr style=\"text-align: right;\">\n",
       "      <th></th>\n",
       "      <th>index</th>\n",
       "      <th>@module_x</th>\n",
       "      <th>@class_x</th>\n",
       "      <th>name_x</th>\n",
       "      <th>@version_x</th>\n",
       "      <th>X.discharge_capacity_cycle_2</th>\n",
       "      <th>X.max_discharge_capacity_difference</th>\n",
       "      <th>X.discharge_capacity_cycle_100</th>\n",
       "      <th>X.integrated_time_temperature_cycles_1:100</th>\n",
       "      <th>X.charge_time_cycles_1:5</th>\n",
       "      <th>...</th>\n",
       "      <th>X.capacity_0.89</th>\n",
       "      <th>X.capacity_0.86</th>\n",
       "      <th>X.capacity_0.83</th>\n",
       "      <th>X.capacity_0.8</th>\n",
       "      <th>metadata.barcode_y</th>\n",
       "      <th>metadata.protocol_y</th>\n",
       "      <th>metadata.channel_id_y</th>\n",
       "      <th>metadata.parameters.thresh_max_cap</th>\n",
       "      <th>metadata.parameters.thresh_min_cap</th>\n",
       "      <th>metadata.parameters.interval_cap</th>\n",
       "    </tr>\n",
       "  </thead>\n",
       "  <tbody>\n",
       "    <tr>\n",
       "      <th>0</th>\n",
       "      <td>0</td>\n",
       "      <td>beep.featurize</td>\n",
       "      <td>DeltaQFastCharge</td>\n",
       "      <td>C:\\Users\\mattm\\Documents\\CalPoly\\DATA 451\\Prac...</td>\n",
       "      <td>2021.1.11.15</td>\n",
       "      <td>1.071900</td>\n",
       "      <td>0.467154</td>\n",
       "      <td>1.075842</td>\n",
       "      <td>3139.433730</td>\n",
       "      <td>13.339999</td>\n",
       "      <td>...</td>\n",
       "      <td>1564</td>\n",
       "      <td>1698</td>\n",
       "      <td>1805</td>\n",
       "      <td>1851</td>\n",
       "      <td>None</td>\n",
       "      <td>None</td>\n",
       "      <td>None</td>\n",
       "      <td>0.98</td>\n",
       "      <td>0.78</td>\n",
       "      <td>0.03</td>\n",
       "    </tr>\n",
       "    <tr>\n",
       "      <th>1</th>\n",
       "      <td>1</td>\n",
       "      <td>beep.featurize</td>\n",
       "      <td>DeltaQFastCharge</td>\n",
       "      <td>C:\\Users\\mattm\\Documents\\CalPoly\\DATA 451\\Prac...</td>\n",
       "      <td>2021.1.11.15</td>\n",
       "      <td>1.076612</td>\n",
       "      <td>0.007977</td>\n",
       "      <td>1.080650</td>\n",
       "      <td>3030.910081</td>\n",
       "      <td>13.339999</td>\n",
       "      <td>...</td>\n",
       "      <td>1877</td>\n",
       "      <td>2011</td>\n",
       "      <td>2112</td>\n",
       "      <td>2159</td>\n",
       "      <td>None</td>\n",
       "      <td>None</td>\n",
       "      <td>None</td>\n",
       "      <td>0.98</td>\n",
       "      <td>0.78</td>\n",
       "      <td>0.03</td>\n",
       "    </tr>\n",
       "    <tr>\n",
       "      <th>2</th>\n",
       "      <td>2</td>\n",
       "      <td>beep.featurize</td>\n",
       "      <td>DeltaQFastCharge</td>\n",
       "      <td>C:\\Users\\mattm\\Documents\\CalPoly\\DATA 451\\Prac...</td>\n",
       "      <td>2021.1.11.15</td>\n",
       "      <td>1.081315</td>\n",
       "      <td>0.006738</td>\n",
       "      <td>1.084945</td>\n",
       "      <td>3044.688062</td>\n",
       "      <td>13.339999</td>\n",
       "      <td>...</td>\n",
       "      <td>1485</td>\n",
       "      <td>1485</td>\n",
       "      <td>2192</td>\n",
       "      <td>2236</td>\n",
       "      <td>None</td>\n",
       "      <td>None</td>\n",
       "      <td>None</td>\n",
       "      <td>0.98</td>\n",
       "      <td>0.78</td>\n",
       "      <td>0.03</td>\n",
       "    </tr>\n",
       "    <tr>\n",
       "      <th>3</th>\n",
       "      <td>3</td>\n",
       "      <td>beep.featurize</td>\n",
       "      <td>DeltaQFastCharge</td>\n",
       "      <td>C:\\Users\\mattm\\Documents\\CalPoly\\DATA 451\\Prac...</td>\n",
       "      <td>2021.1.11.15</td>\n",
       "      <td>1.081228</td>\n",
       "      <td>0.005025</td>\n",
       "      <td>1.084668</td>\n",
       "      <td>2848.782030</td>\n",
       "      <td>12.010000</td>\n",
       "      <td>...</td>\n",
       "      <td>1235</td>\n",
       "      <td>1305</td>\n",
       "      <td>1387</td>\n",
       "      <td>1433</td>\n",
       "      <td>None</td>\n",
       "      <td>None</td>\n",
       "      <td>None</td>\n",
       "      <td>0.98</td>\n",
       "      <td>0.78</td>\n",
       "      <td>0.03</td>\n",
       "    </tr>\n",
       "    <tr>\n",
       "      <th>4</th>\n",
       "      <td>4</td>\n",
       "      <td>beep.featurize</td>\n",
       "      <td>DeltaQFastCharge</td>\n",
       "      <td>C:\\Users\\mattm\\Documents\\CalPoly\\DATA 451\\Prac...</td>\n",
       "      <td>2021.1.11.15</td>\n",
       "      <td>1.079012</td>\n",
       "      <td>0.005304</td>\n",
       "      <td>1.082596</td>\n",
       "      <td>2977.746621</td>\n",
       "      <td>12.010000</td>\n",
       "      <td>...</td>\n",
       "      <td>1489</td>\n",
       "      <td>1578</td>\n",
       "      <td>1663</td>\n",
       "      <td>1708</td>\n",
       "      <td>None</td>\n",
       "      <td>None</td>\n",
       "      <td>None</td>\n",
       "      <td>0.98</td>\n",
       "      <td>0.78</td>\n",
       "      <td>0.03</td>\n",
       "    </tr>\n",
       "  </tbody>\n",
       "</table>\n",
       "<p>5 rows × 53 columns</p>\n",
       "</div>"
      ],
      "text/plain": [
       "   index       @module_x          @class_x  \\\n",
       "0      0  beep.featurize  DeltaQFastCharge   \n",
       "1      1  beep.featurize  DeltaQFastCharge   \n",
       "2      2  beep.featurize  DeltaQFastCharge   \n",
       "3      3  beep.featurize  DeltaQFastCharge   \n",
       "4      4  beep.featurize  DeltaQFastCharge   \n",
       "\n",
       "                                              name_x    @version_x  \\\n",
       "0  C:\\Users\\mattm\\Documents\\CalPoly\\DATA 451\\Prac...  2021.1.11.15   \n",
       "1  C:\\Users\\mattm\\Documents\\CalPoly\\DATA 451\\Prac...  2021.1.11.15   \n",
       "2  C:\\Users\\mattm\\Documents\\CalPoly\\DATA 451\\Prac...  2021.1.11.15   \n",
       "3  C:\\Users\\mattm\\Documents\\CalPoly\\DATA 451\\Prac...  2021.1.11.15   \n",
       "4  C:\\Users\\mattm\\Documents\\CalPoly\\DATA 451\\Prac...  2021.1.11.15   \n",
       "\n",
       "   X.discharge_capacity_cycle_2  X.max_discharge_capacity_difference  \\\n",
       "0                      1.071900                             0.467154   \n",
       "1                      1.076612                             0.007977   \n",
       "2                      1.081315                             0.006738   \n",
       "3                      1.081228                             0.005025   \n",
       "4                      1.079012                             0.005304   \n",
       "\n",
       "   X.discharge_capacity_cycle_100  X.integrated_time_temperature_cycles_1:100  \\\n",
       "0                        1.075842                                 3139.433730   \n",
       "1                        1.080650                                 3030.910081   \n",
       "2                        1.084945                                 3044.688062   \n",
       "3                        1.084668                                 2848.782030   \n",
       "4                        1.082596                                 2977.746621   \n",
       "\n",
       "   X.charge_time_cycles_1:5  ...  X.capacity_0.89  X.capacity_0.86  \\\n",
       "0                 13.339999  ...             1564             1698   \n",
       "1                 13.339999  ...             1877             2011   \n",
       "2                 13.339999  ...             1485             1485   \n",
       "3                 12.010000  ...             1235             1305   \n",
       "4                 12.010000  ...             1489             1578   \n",
       "\n",
       "   X.capacity_0.83  X.capacity_0.8  metadata.barcode_y  metadata.protocol_y  \\\n",
       "0             1805            1851                None                 None   \n",
       "1             2112            2159                None                 None   \n",
       "2             2192            2236                None                 None   \n",
       "3             1387            1433                None                 None   \n",
       "4             1663            1708                None                 None   \n",
       "\n",
       "   metadata.channel_id_y  metadata.parameters.thresh_max_cap  \\\n",
       "0                   None                                0.98   \n",
       "1                   None                                0.98   \n",
       "2                   None                                0.98   \n",
       "3                   None                                0.98   \n",
       "4                   None                                0.98   \n",
       "\n",
       "   metadata.parameters.thresh_min_cap  metadata.parameters.interval_cap  \n",
       "0                                0.78                              0.03  \n",
       "1                                0.78                              0.03  \n",
       "2                                0.78                              0.03  \n",
       "3                                0.78                              0.03  \n",
       "4                                0.78                              0.03  \n",
       "\n",
       "[5 rows x 53 columns]"
      ]
     },
     "execution_count": 133,
     "metadata": {},
     "output_type": "execute_result"
    }
   ],
   "source": [
    "old_df_full = merge_df(old_d_df, old_t_df)\n",
    "old_df_full.sort_values(by=['bat_name'],inplace=True)\n",
    "old_df_full.head()"
   ]
  },
  {
   "cell_type": "code",
   "execution_count": 134,
   "metadata": {},
   "outputs": [],
   "source": [
    "old_ct = pd.read_csv(path + \"OldData/OldDataFullCT.csv\")"
   ]
  },
  {
   "cell_type": "code",
   "execution_count": 135,
   "metadata": {},
   "outputs": [],
   "source": [
    "old_ct.rename(columns={\"X.capacity_0.8\": \"cycle_index\"}, inplace=True)"
   ]
  },
  {
   "cell_type": "code",
   "execution_count": 136,
   "metadata": {},
   "outputs": [],
   "source": [
    "if environ:\n",
    "    old_ct[\"Temperature\"] = 30\n",
    "    old_ct[\"DOD\"] = 100\n",
    "    old_ct[\"Discharge_rate\"] = 4\n",
    "    old_ct[\"Charge_rate\"] = 4.8"
   ]
  },
  {
   "cell_type": "code",
   "execution_count": 137,
   "metadata": {},
   "outputs": [],
   "source": [
    "new_ct = pd.read_csv(path + \"NewData/charge_throughputs_BA.csv\")\n",
    "\n",
    "if new_chemistries:\n",
    "    nca_df = pd.read_csv(path + \"NewData/charge_throughputs_BA_NCA.csv\")\n",
    "    nmc_df = pd.read_csv(path + \"NewData/charge_throughputs_BA_NMC.csv\")\n",
    "    \n",
    "    chemistries = [\"LFP\", \"NCA\", \"NMC\"]\n",
    "    dfs = [new_ct, nca_df, nmc_df]\n",
    "    \n",
    "    for i in range(len(chemistries)):\n",
    "        chem = chemistries[i]\n",
    "        for j in range(len(dfs)):\n",
    "            df = dfs[j]\n",
    "            \n",
    "            if i == j:\n",
    "                df[chem] = 1\n",
    "            else:\n",
    "                df[chem] = -1\n",
    "            \n",
    "            dfs[j] = df\n",
    "        \n",
    "    new_ct = pd.concat([df for df in dfs], ignore_index=True)"
   ]
  },
  {
   "cell_type": "markdown",
   "metadata": {},
   "source": [
    "## Models"
   ]
  },
  {
   "cell_type": "markdown",
   "metadata": {},
   "source": [
    "Setting the model variables for the old data"
   ]
  },
  {
   "cell_type": "markdown",
   "metadata": {},
   "source": [
    "The variance, discharge, and full models were all introduced in the Severson et al. paper. See the paper for more information."
   ]
  },
  {
   "cell_type": "code",
   "execution_count": 138,
   "metadata": {},
   "outputs": [],
   "source": [
    "variance_model_features = ['X.abs_variance_discharge_capacity_difference_cycles_2:100']\n",
    "discharge_model_features = ['X.abs_min_discharge_capacity_difference_cycles_2:100',\n",
    "                            'X.abs_variance_discharge_capacity_difference_cycles_2:100',\n",
    "                            'X.abs_skew_discharge_capacity_difference_cycles_2:100',\n",
    "                            'X.abs_kurtosis_discharge_capacity_difference_cycles_2:100',\n",
    "                            'X.discharge_capacity_cycle_2',\n",
    "                            'X.max_discharge_capacity_difference'\n",
    "                            ]\n",
    "full_model_features = ['X.abs_min_discharge_capacity_difference_cycles_2:100',\n",
    "                       'X.abs_variance_discharge_capacity_difference_cycles_2:100',\n",
    "                       'X.slope_discharge_capacity_cycle_number_2:100',\n",
    "                       'X.intercept_discharge_capacity_cycle_number_2:100',\n",
    "                       'X.discharge_capacity_cycle_2',\n",
    "                       'X.charge_time_cycles_1:5']\n",
    "\n",
    "if integrated_time_temp_cycles:\n",
    "    full_model_features.append('X.integrated_time_temperature_cycles_1:100')\n",
    "\n",
    "if ir:\n",
    "    full_model_features.append('X.min_internal_resistance_cycles_2:100')\n",
    "    full_model_features.append('X.internal_resistance_difference_cycles_2:100')\n",
    "    \n",
    "if environ:\n",
    "    variance_model_features.extend(('Temperature', 'DOD', 'Discharge_rate', 'Charge_rate'))\n",
    "    discharge_model_features.extend(('Temperature', 'DOD', 'Discharge_rate', 'Charge_rate'))\n",
    "    full_model_features.extend(('Temperature', 'DOD', 'Discharge_rate', 'Charge_rate'))\n",
    "\n",
    "if ct:\n",
    "    y = 'charge_throughput'\n",
    "else:\n",
    "    y = 'cycle_index'"
   ]
  },
  {
   "cell_type": "code",
   "execution_count": 139,
   "metadata": {},
   "outputs": [],
   "source": [
    "from sklearn.linear_model import LinearRegression, ElasticNet, ElasticNetCV\n",
    "from sklearn.metrics import mean_squared_error, mean_absolute_percentage_error\n",
    "from sklearn.preprocessing import RobustScaler"
   ]
  },
  {
   "cell_type": "markdown",
   "metadata": {},
   "source": [
    "We fit the 3 model feature groups (variance, discharge, full), 3 data types (old, new, combined), and 2 model types (basic linear regression, elastic net) for 18 total model combinations. Throughout this notebook, we plot true vs. predicted values, RMSE comparisons, and MAPE comparisons to evaluate these models."
   ]
  },
  {
   "cell_type": "markdown",
   "metadata": {},
   "source": [
    "## Old Data"
   ]
  },
  {
   "cell_type": "markdown",
   "metadata": {},
   "source": [
    "The following train-test split does not include all of the old data. This is because observations not included in this train-test split were collected at a separate time. This is the split used in the Severson et al. paper, and it is the one we will use when considering only the old data. Once we combine the old and new data, however, we will use all batteries from the old dataset, not just the 80 or so that are included now."
   ]
  },
  {
   "cell_type": "code",
   "execution_count": 140,
   "metadata": {},
   "outputs": [
    {
     "data": {
      "text/plain": [
       "139"
      ]
     },
     "execution_count": 140,
     "metadata": {},
     "output_type": "execute_result"
    }
   ],
   "source": [
    "len(old_ct)"
   ]
  },
  {
   "cell_type": "code",
   "execution_count": 141,
   "metadata": {},
   "outputs": [],
   "source": [
    "train_ind = [ 1,  3,  5,  7,  9, 11, 13, 15, 17, 19, 21, 23, 25, 27, 29, 31, 33,\n",
    "        35, 37, 39, 41, 43, 45, 47, 49, 51, 53, 55, 57, 59, 61, 63, 65, 67,\n",
    "        69, 71, 73, 75, 77, 79, 81]\n",
    "test_ind = [ 0,  2,  4,  6,  8, 10, 12, 14, 16, 18, 20, 22, 24, 26, 28, 30, 32,\n",
    "        34, 36, 38, 40, 42, 44, 46, 48, 50, 52, 54, 56, 58, 60, 62, 64, 66,\n",
    "        68, 70, 72, 74, 76, 78, 80, 82, 83]"
   ]
  },
  {
   "cell_type": "markdown",
   "metadata": {},
   "source": [
    "We do not want to immediately apply the scaler to old_ct, since we want to still be able to see the true values if necessary. We will fit the scaler to the training set for each model, then apply it to the test set.\n",
    "\n",
    "If 'old_new_scaler' is set to true, we create another file, X_all_old, that is the scaled version of all data in old_ct. This is the dataset we will combine with the scaled new data. The scaler for this data is also fit to the train set, then applied to all of the data."
   ]
  },
  {
   "cell_type": "code",
   "execution_count": 142,
   "metadata": {},
   "outputs": [],
   "source": [
    "if scaled:\n",
    "    \n",
    "    all_model_features = full_model_features + list(set(discharge_model_features)-set(full_model_features))\n",
    "    \n",
    "    def scale(train, test):\n",
    "        scaler = RobustScaler()\n",
    "        scaler.fit(train)\n",
    "        train_data = pd.DataFrame(scaler.transform(train), index=train.index, columns = train.columns)\n",
    "        test_data = pd.DataFrame(scaler.transform(test), index=test.index, columns = test.columns)\n",
    "        return [train_data, test_data]\n",
    "    \n",
    "    if old_new_scaler:\n",
    "        X_train_all_old = old_ct.iloc[train_ind][all_model_features]\n",
    "        temp_test_ind = list(set(old_ct.index)-set(train_ind))\n",
    "        X_test_all_old = old_ct.iloc[temp_test_ind][all_model_features]\n",
    "\n",
    "        X_train_all_old, X_test_all_old = scale(X_train_all_old, X_test_all_old)\n",
    "\n",
    "        X_train_all_old[y] = old_ct.iloc[train_ind][y]\n",
    "        X_test_all_old[y] = old_ct.iloc[temp_test_ind][y]\n",
    "\n",
    "        X_all_old = X_train_all_old.append(X_test_all_old)\n",
    "        \n",
    "        X_test_all_old = X_test_all_old.iloc[test_ind]"
   ]
  },
  {
   "cell_type": "markdown",
   "metadata": {},
   "source": [
    "### Variance Model [Old Data]"
   ]
  },
  {
   "cell_type": "markdown",
   "metadata": {},
   "source": [
    "#### Linear Regression"
   ]
  },
  {
   "cell_type": "code",
   "execution_count": 143,
   "metadata": {},
   "outputs": [],
   "source": [
    "X_train_var = old_ct.iloc[train_ind][variance_model_features]\n",
    "\n",
    "y_train = old_ct.iloc[train_ind][[y]]\n",
    "\n",
    "X_test_var = old_ct.iloc[test_ind][variance_model_features]\n",
    "y_test = old_ct.iloc[test_ind][[y]]\n",
    "\n",
    "if scaled:\n",
    "    X_train_var, X_test_var = scale(X_train_var, X_test_var)"
   ]
  },
  {
   "cell_type": "code",
   "execution_count": 144,
   "metadata": {},
   "outputs": [],
   "source": [
    "reg_var = LinearRegression().fit(X_train_var,y_train)\n",
    "y_pred_train_var = reg_var.predict(X_train_var)\n",
    "y_pred_test_var = reg_var.predict(X_test_var)"
   ]
  },
  {
   "cell_type": "code",
   "execution_count": 145,
   "metadata": {},
   "outputs": [
    {
     "name": "stdout",
     "output_type": "stream",
     "text": [
      "Variance Basic Linear Regression Model\n",
      "Test RMSE:  214.30059910503823\n",
      "Mean % Test Error:  14.850105828362189\n"
     ]
    }
   ],
   "source": [
    "rmse_train_var = np.sqrt(mean_squared_error(y_train, y_pred_train_var))\n",
    "rmse_test_var = np.sqrt(mean_squared_error(y_test, y_pred_test_var))\n",
    "mape_train_var = mean_absolute_percentage_error(y_train, y_pred_train_var)*100\n",
    "mape_test_var = mean_absolute_percentage_error(y_test, y_pred_test_var)*100\n",
    "\n",
    "print(\"Variance Basic Linear Regression Model\")\n",
    "# print(\"Training RMSE: \", rmse_train_var)\n",
    "print(\"Test RMSE: \", rmse_test_var)\n",
    "# print(\"Mean % Train Error: \", mape_train_var)\n",
    "print(\"Mean % Test Error: \", mape_test_var)"
   ]
  },
  {
   "cell_type": "code",
   "execution_count": 146,
   "metadata": {},
   "outputs": [
    {
     "data": {
      "text/plain": [
       "Text(0.5, 1.0, 'Variance Model Predicted vs. True Values (LR) [Old Data]')"
      ]
     },
     "execution_count": 146,
     "metadata": {},
     "output_type": "execute_result"
    },
    {
     "data": {
      "image/png": "[encoded data removed]",
      "text/plain": [
       "<Figure size 432x288 with 1 Axes>"
      ]
     },
     "metadata": {
      "needs_background": "light"
     },
     "output_type": "display_data"
    }
   ],
   "source": [
    "# Variance model\n",
    "max_var = y_test.max()[0]\n",
    "\n",
    "plt.scatter(y_test, y_pred_test_var)\n",
    "plt.plot([0, max_var], [0, max_var], color=\"red\")\n",
    "plt.xlabel(\"True Values\")\n",
    "plt.ylabel(\"Predicted Values\")\n",
    "plt.title(\"Variance Model Predicted vs. True Values (LR) [Old Data]\")"
   ]
  },
  {
   "cell_type": "markdown",
   "metadata": {},
   "source": [
    "#### Elastic Net"
   ]
  },
  {
   "cell_type": "code",
   "execution_count": 147,
   "metadata": {},
   "outputs": [],
   "source": [
    "k_fold = 5\n",
    "l1_ratios = [i/20 for i in range(1, 21)]\n",
    "max_iter = 1000000\n",
    "random_state = 1\n",
    "test_size = 2\n",
    "tol = 0.0001\n",
    "\n",
    "models = []\n",
    "y_pred_trains = []\n",
    "y_pred_tests = []\n",
    "train_rmses = []\n",
    "test_rmses = []\n",
    "train_mapes = []\n",
    "test_mapes = []\n",
    "\n",
    "for l1_ratio in l1_ratios:\n",
    "    elasticnetcv = ElasticNetCV(\n",
    "        fit_intercept=True,\n",
    "        normalize=False,\n",
    "        alphas=None,\n",
    "        cv=k_fold,\n",
    "        l1_ratio=l1_ratio,\n",
    "        max_iter=max_iter,\n",
    "    )\n",
    "    elasticnetcv.fit(X_train_var, y_train.values.ravel())\n",
    "\n",
    "    elasticnet_var = ElasticNet(\n",
    "        fit_intercept=True,\n",
    "        normalize=False,\n",
    "        l1_ratio=elasticnetcv.l1_ratio_,\n",
    "        alpha=elasticnetcv.alpha_,\n",
    "        max_iter=max_iter,\n",
    "    )\n",
    "\n",
    "    elasticnet_var.fit(X_train_var, y_train.values.ravel())\n",
    "    y_pred_train_en_var = elasticnet_var.predict(X_train_var)\n",
    "    y_pred_test_en_var = elasticnet_var.predict(X_test_var)\n",
    "\n",
    "    rmse_train_en_var = np.sqrt(mean_squared_error(y_train, y_pred_train_en_var))\n",
    "    rmse_test_en_var = np.sqrt(mean_squared_error(y_test, y_pred_test_en_var))\n",
    "    mape_train_en_var = mean_absolute_percentage_error(y_train, y_pred_train_en_var)*100\n",
    "    mape_test_en_var = mean_absolute_percentage_error(y_test, y_pred_test_en_var)*100\n",
    "\n",
    "    models.append(elasticnet_var)\n",
    "    y_pred_trains.append(y_pred_train_en_var)\n",
    "    y_pred_tests.append(y_pred_test_en_var)\n",
    "    train_rmses.append(rmse_train_en_var)\n",
    "    test_rmses.append(rmse_test_en_var)\n",
    "    train_mapes.append(mape_train_en_var)\n",
    "    test_mapes.append(mape_test_en_var)\n",
    "\n",
    "best_model_index = test_rmses.index(min(test_rmses))"
   ]
  },
  {
   "cell_type": "code",
   "execution_count": 148,
   "metadata": {},
   "outputs": [
    {
     "name": "stdout",
     "output_type": "stream",
     "text": [
      "Variance Elastic Net Model\n",
      "l1_ratio = 1.0\n",
      "Test RMSE:  214.31490921731066\n",
      "Test Mean Absolute % Error:  14.846083042128644\n"
     ]
    }
   ],
   "source": [
    "elasticnet_var = models[best_model_index]\n",
    "y_pred_train_en_var = y_pred_trains[best_model_index]\n",
    "y_pred_test_en_var = y_pred_tests[best_model_index]\n",
    "rmse_train_var_en = train_rmses[best_model_index]\n",
    "rmse_test_var_en = test_rmses[best_model_index]\n",
    "l1_ratio_var = l1_ratios[best_model_index]\n",
    "mape_train_var_en = train_mapes[best_model_index]\n",
    "mape_test_var_en = test_mapes[best_model_index]\n",
    "\n",
    "print(\"Variance Elastic Net Model\")\n",
    "print(\"l1_ratio =\", l1_ratio_var)\n",
    "print(\"Test RMSE: \", rmse_test_var_en)\n",
    "print(\"Test Mean Absolute % Error: \", mape_test_var_en)"
   ]
  },
  {
   "cell_type": "code",
   "execution_count": 149,
   "metadata": {},
   "outputs": [
    {
     "data": {
      "image/png": "[encoded data removed]",
      "text/plain": [
       "<Figure size 432x288 with 1 Axes>"
      ]
     },
     "metadata": {
      "needs_background": "light"
     },
     "output_type": "display_data"
    }
   ],
   "source": [
    "plt.scatter(l1_ratios, test_rmses)\n",
    "plt.title(\"Test RMSE by Ridge/Lasso Ratio (Variance Model)\")\n",
    "plt.xlabel(\"L1 Ratio (0 = Ridge, 1 = Lasso)\")\n",
    "plt.ylabel(\"Test RMSE\");"
   ]
  },
  {
   "cell_type": "code",
   "execution_count": 150,
   "metadata": {},
   "outputs": [
    {
     "data": {
      "text/plain": [
       "Text(0.5, 1.0, 'Variance Model Predicted vs. True Values (EN) [Old Data]')"
      ]
     },
     "execution_count": 150,
     "metadata": {},
     "output_type": "execute_result"
    },
    {
     "data": {
      "image/png": "[encoded data removed]",
      "text/plain": [
       "<Figure size 432x288 with 1 Axes>"
      ]
     },
     "metadata": {
      "needs_background": "light"
     },
     "output_type": "display_data"
    }
   ],
   "source": [
    "#Elastic Net\n",
    "min_var = y_test.min()[0]\n",
    "max_var = y_test.max()[0]\n",
    "\n",
    "plt.scatter(y_test, y_pred_test_en_var)\n",
    "plt.plot([0, max_var], [0, max_var], color=\"red\")\n",
    "plt.xlabel(\"True Values\")\n",
    "plt.ylabel(\"Predicted Values\")\n",
    "plt.title(\"Variance Model Predicted vs. True Values (EN) [Old Data]\")"
   ]
  },
  {
   "cell_type": "code",
   "execution_count": 151,
   "metadata": {},
   "outputs": [],
   "source": [
    "model_name = \"Variance\"\n",
    "source = \"Old\"\n",
    "\n",
    "results_df = results_df.append(cond.append(pd.Series({\"L_rmse\": rmse_test_var, \"EN_rmse\":rmse_test_var_en, \n",
    "                                                      \"L_mape\": mape_test_var, \"EN_mape\":mape_test_var_en, \n",
    "                                                      \"model\":model_name, \"data\":source, \"coef\":elasticnet_var.coef_})),\n",
    "                               ignore_index=True)"
   ]
  },
  {
   "cell_type": "markdown",
   "metadata": {},
   "source": [
    "#### From paper (Variance Model)\n",
    "* Training RMSE: 103\n",
    "* Test RMSE: 138\n",
    "* Mean % Train Error: 14.1\n",
    "* Mean % Test Error: 14.7"
   ]
  },
  {
   "cell_type": "markdown",
   "metadata": {},
   "source": [
    "### Discharge Model [Old Data]"
   ]
  },
  {
   "cell_type": "markdown",
   "metadata": {},
   "source": [
    "#### Linear Regression"
   ]
  },
  {
   "cell_type": "code",
   "execution_count": 152,
   "metadata": {},
   "outputs": [],
   "source": [
    "X_train_dis = old_ct.iloc[train_ind][discharge_model_features]\n",
    "y_train = old_ct.iloc[train_ind][[y]]\n",
    "\n",
    "X_test_dis = old_ct.iloc[test_ind][discharge_model_features]\n",
    "y_test = old_ct.iloc[test_ind][[y]]\n",
    "\n",
    "if scaled:\n",
    "    X_train_dis, X_test_dis = scale(X_train_dis, X_test_dis)"
   ]
  },
  {
   "cell_type": "code",
   "execution_count": 153,
   "metadata": {},
   "outputs": [],
   "source": [
    "reg_dis = LinearRegression().fit(X_train_dis,y_train)\n",
    "y_pred_train_dis = reg_dis.predict(X_train_dis)\n",
    "y_pred_test_dis = reg_dis.predict(X_test_dis)"
   ]
  },
  {
   "cell_type": "code",
   "execution_count": 154,
   "metadata": {},
   "outputs": [
    {
     "name": "stdout",
     "output_type": "stream",
     "text": [
      "Discharge Basic Linear Regression Model\n",
      "Test RMSE:  335.35099101854763\n",
      "Test Mean % Error:  19.83082949660379\n"
     ]
    }
   ],
   "source": [
    "rmse_train_dis = np.sqrt(mean_squared_error(y_train, y_pred_train_dis))\n",
    "rmse_test_dis = np.sqrt(mean_squared_error(y_test, y_pred_test_dis))\n",
    "mape_train_dis = mean_absolute_percentage_error(y_train, y_pred_train_dis)*100\n",
    "mape_test_dis = mean_absolute_percentage_error(y_test, y_pred_test_dis)*100\n",
    "\n",
    "print(\"Discharge Basic Linear Regression Model\")\n",
    "# print(\"Training RMSE: \", rmse_train_dis)\n",
    "print(\"Test RMSE: \", rmse_test_dis)\n",
    "# print(\"Train Mean % Error: \", mape_train_dis)\n",
    "print(\"Test Mean % Error: \", mape_test_dis)"
   ]
  },
  {
   "cell_type": "code",
   "execution_count": 155,
   "metadata": {},
   "outputs": [
    {
     "data": {
      "text/plain": [
       "Text(0.5, 1.0, 'Discharge Model Predicted vs. True Values (LR) [Old Data]')"
      ]
     },
     "execution_count": 155,
     "metadata": {},
     "output_type": "execute_result"
    },
    {
     "data": {
      "image/png": "[encoded data removed]",
      "text/plain": [
       "<Figure size 432x288 with 1 Axes>"
      ]
     },
     "metadata": {
      "needs_background": "light"
     },
     "output_type": "display_data"
    }
   ],
   "source": [
    "# Discharge model\n",
    "max_dis = y_test.max()[0]\n",
    "\n",
    "plt.scatter(y_test, y_pred_test_dis)\n",
    "plt.plot([0, max_dis], [0, max_dis], color=\"red\")\n",
    "plt.xlabel(\"True Values\")\n",
    "plt.ylabel(\"Predicted Values\")\n",
    "plt.title(\"Discharge Model Predicted vs. True Values (LR) [Old Data]\")"
   ]
  },
  {
   "cell_type": "markdown",
   "metadata": {},
   "source": [
    "#### Elastic Net"
   ]
  },
  {
   "cell_type": "code",
   "execution_count": 156,
   "metadata": {},
   "outputs": [],
   "source": [
    "k_fold = 5\n",
    "l1_ratios = [i/20 for i in range(1, 21)]\n",
    "max_iter = 1000000\n",
    "random_state = 1\n",
    "test_size = 2\n",
    "tol = 0.0001\n",
    "\n",
    "models = []\n",
    "y_pred_trains = []\n",
    "y_pred_tests = []\n",
    "train_rmses = []\n",
    "test_rmses = []\n",
    "train_mapes = []\n",
    "test_mapes = []\n",
    "\n",
    "for l1_ratio in l1_ratios:\n",
    "    elasticnetcv = ElasticNetCV(\n",
    "        fit_intercept=True,\n",
    "        normalize=False,\n",
    "        alphas=None,\n",
    "        cv=k_fold,\n",
    "        l1_ratio=l1_ratio,\n",
    "        max_iter=max_iter,\n",
    "    )\n",
    "    elasticnetcv.fit(X_train_dis, y_train.values.ravel())\n",
    "\n",
    "    elasticnet_dis = ElasticNet(\n",
    "        fit_intercept=True,\n",
    "        normalize=False,\n",
    "        l1_ratio=elasticnetcv.l1_ratio_,\n",
    "        alpha=elasticnetcv.alpha_,\n",
    "        max_iter=max_iter,\n",
    "    )\n",
    "\n",
    "    elasticnet_dis.fit(X_train_dis, y_train.values.ravel())\n",
    "    y_pred_train_en_dis = elasticnet_dis.predict(X_train_dis)\n",
    "    y_pred_test_en_dis = elasticnet_dis.predict(X_test_dis)\n",
    "\n",
    "    rmse_train_en_dis = np.sqrt(mean_squared_error(y_train, y_pred_train_en_dis))\n",
    "    rmse_test_en_dis = np.sqrt(mean_squared_error(y_test, y_pred_test_en_dis))\n",
    "    mape_train_en_dis = mean_absolute_percentage_error(y_train, y_pred_train_en_dis)*100\n",
    "    mape_test_en_dis = mean_absolute_percentage_error(y_test, y_pred_test_en_dis)*100\n",
    "\n",
    "    models.append(elasticnet_dis)\n",
    "    y_pred_trains.append(y_pred_train_en_dis)\n",
    "    y_pred_tests.append(y_pred_test_en_dis)\n",
    "    train_rmses.append(rmse_train_en_dis)\n",
    "    test_rmses.append(rmse_test_en_dis)\n",
    "    train_mapes.append(mape_train_en_dis)\n",
    "    test_mapes.append(mape_test_en_dis)\n",
    "\n",
    "best_model_index = test_rmses.index(min(test_rmses))"
   ]
  },
  {
   "cell_type": "code",
   "execution_count": 157,
   "metadata": {},
   "outputs": [
    {
     "name": "stdout",
     "output_type": "stream",
     "text": [
      "Discharge Elastic Net Model\n",
      "l1_ratio = 1.0\n",
      "Test RMSE:  320.48757241913233\n",
      "Test Mean Absolute % Error:  17.04233578049506\n"
     ]
    }
   ],
   "source": [
    "elasticnet_dis = models[best_model_index]\n",
    "y_pred_train_en_dis = y_pred_trains[best_model_index]\n",
    "y_pred_test_en_dis = y_pred_tests[best_model_index]\n",
    "rmse_train_dis_en = train_rmses[best_model_index]\n",
    "rmse_test_dis_en = test_rmses[best_model_index]\n",
    "l1_ratio_dis = l1_ratios[best_model_index]\n",
    "mape_train_dis_en = train_mapes[best_model_index]\n",
    "mape_test_dis_en = test_mapes[best_model_index]\n",
    "\n",
    "print(\"Discharge Elastic Net Model\")\n",
    "print(\"l1_ratio =\", l1_ratio_dis)\n",
    "print(\"Test RMSE: \", rmse_test_dis_en)\n",
    "print(\"Test Mean Absolute % Error: \", mape_test_dis_en)"
   ]
  },
  {
   "cell_type": "code",
   "execution_count": 158,
   "metadata": {},
   "outputs": [
    {
     "data": {
      "image/png": "[encoded data removed]",
      "text/plain": [
       "<Figure size 432x288 with 1 Axes>"
      ]
     },
     "metadata": {
      "needs_background": "light"
     },
     "output_type": "display_data"
    }
   ],
   "source": [
    "plt.scatter(l1_ratios, test_rmses)\n",
    "plt.title(\"Test RMSE by Ridge/Lasso Ratio (Discharge Model)\")\n",
    "plt.xlabel(\"L1 Ratio (0 = Ridge, 1 = Lasso)\")\n",
    "plt.ylabel(\"Test RMSE\");"
   ]
  },
  {
   "cell_type": "code",
   "execution_count": 159,
   "metadata": {},
   "outputs": [
    {
     "data": {
      "text/plain": [
       "Text(0.5, 1.0, 'Discharge Model Predicted vs. True Values (EN) [Old Data]')"
      ]
     },
     "execution_count": 159,
     "metadata": {},
     "output_type": "execute_result"
    },
    {
     "data": {
      "image/png": "[encoded data removed]",
      "text/plain": [
       "<Figure size 432x288 with 1 Axes>"
      ]
     },
     "metadata": {
      "needs_background": "light"
     },
     "output_type": "display_data"
    }
   ],
   "source": [
    "#Elastic Net\n",
    "max_dis = y_test.max()[0]\n",
    "\n",
    "plt.scatter(y_test, y_pred_test_en_dis)\n",
    "plt.plot([0, max_dis], [0, max_dis], color=\"red\")\n",
    "plt.xlabel(\"True Values\")\n",
    "plt.ylabel(\"Predicted Values\")\n",
    "plt.title(\"Discharge Model Predicted vs. True Values (EN) [Old Data]\")"
   ]
  },
  {
   "cell_type": "markdown",
   "metadata": {},
   "source": [
    "#### From paper (Discharge Model)\n",
    "* Training RMSE: 76\n",
    "* Test RMSE: 91\n",
    "* Mean % Train Error: 9.8\n",
    "* Mean % Test Error: 13.0"
   ]
  },
  {
   "cell_type": "code",
   "execution_count": 160,
   "metadata": {},
   "outputs": [],
   "source": [
    "model_name = \"Discharge\"\n",
    "source = \"Old\"\n",
    "\n",
    "results_df = results_df.append(cond.append(pd.Series({\"L_rmse\": rmse_test_dis, \"EN_rmse\":rmse_test_dis_en, \n",
    "                                                      \"L_mape\": mape_test_dis, \"EN_mape\":mape_test_dis_en, \n",
    "                                                      \"model\":model_name, \"data\":source, \"coef\":elasticnet_dis.coef_})),\n",
    "                               ignore_index=True)"
   ]
  },
  {
   "cell_type": "markdown",
   "metadata": {},
   "source": [
    "### Full Model [Old Data]"
   ]
  },
  {
   "cell_type": "markdown",
   "metadata": {},
   "source": [
    "#### Linear Regression"
   ]
  },
  {
   "cell_type": "code",
   "execution_count": 161,
   "metadata": {},
   "outputs": [],
   "source": [
    "X_train_full = old_ct.iloc[train_ind][full_model_features]\n",
    "y_train = old_ct.iloc[train_ind][[y]]\n",
    "\n",
    "X_test_full = old_ct.iloc[test_ind][full_model_features]\n",
    "y_test = old_ct.iloc[test_ind][[y]]\n",
    "\n",
    "if scaled:\n",
    "    X_train_full, X_test_full = scale(X_train_full, X_test_full)"
   ]
  },
  {
   "cell_type": "code",
   "execution_count": 162,
   "metadata": {},
   "outputs": [],
   "source": [
    "reg_full = LinearRegression().fit(X_train_full,y_train)\n",
    "y_pred_train_full = reg_full.predict(X_train_full)\n",
    "y_pred_test_full = reg_full.predict(X_test_full)"
   ]
  },
  {
   "cell_type": "code",
   "execution_count": 163,
   "metadata": {},
   "outputs": [
    {
     "name": "stdout",
     "output_type": "stream",
     "text": [
      "Full Basic Linear Regression Model\n",
      "Test RMSE:  216.14178331557875\n",
      "Mean % Test Error:  0.16906215860653007\n"
     ]
    }
   ],
   "source": [
    "rmse_train_full = np.sqrt(mean_squared_error(y_train, y_pred_train_full))\n",
    "rmse_test_full = np.sqrt(mean_squared_error(y_test, y_pred_test_full))\n",
    "mape_train_full = mean_absolute_percentage_error(y_train, y_pred_train_full)*100\n",
    "mape_test_full = mean_absolute_percentage_error(y_test, y_pred_test_full)*100\n",
    "\n",
    "print(\"Full Basic Linear Regression Model\")\n",
    "# print(\"Training RMSE: \", np.sqrt(mean_squared_error(y_train, y_pred_train_full)))\n",
    "print(\"Test RMSE: \", np.sqrt(mean_squared_error(y_test, y_pred_test_full)))\n",
    "# print(\"Mean % Train Error: \", mean_absolute_percentage_error(y_train, y_pred_train_full))\n",
    "print(\"Mean % Test Error: \", mean_absolute_percentage_error(y_test, y_pred_test_full))"
   ]
  },
  {
   "cell_type": "code",
   "execution_count": 164,
   "metadata": {},
   "outputs": [
    {
     "data": {
      "text/plain": [
       "Text(0.5, 1.0, 'Full Model Predicted vs. True Values (LR) [Old Data]')"
      ]
     },
     "execution_count": 164,
     "metadata": {},
     "output_type": "execute_result"
    },
    {
     "data": {
      "image/png": "[encoded data removed]",
      "text/plain": [
       "<Figure size 432x288 with 1 Axes>"
      ]
     },
     "metadata": {
      "needs_background": "light"
     },
     "output_type": "display_data"
    }
   ],
   "source": [
    "max_full = y_test.max()[0]\n",
    "\n",
    "plt.scatter(y_test, y_pred_test_full)\n",
    "plt.plot([0, max_full], [0, max_full], color=\"red\")\n",
    "plt.xlabel(\"True Values\")\n",
    "plt.ylabel(\"Predicted Values\")\n",
    "plt.title(\"Full Model Predicted vs. True Values (LR) [Old Data]\")"
   ]
  },
  {
   "cell_type": "markdown",
   "metadata": {},
   "source": [
    "#### Elastic Net"
   ]
  },
  {
   "cell_type": "code",
   "execution_count": 165,
   "metadata": {},
   "outputs": [],
   "source": [
    "k_fold = 5\n",
    "l1_ratios = [i/20 for i in range(1, 21)]\n",
    "max_iter = 1000000\n",
    "random_state = 1\n",
    "test_size = 2\n",
    "tol = 0.0001\n",
    "\n",
    "models = []\n",
    "y_pred_trains = []\n",
    "y_pred_tests = []\n",
    "train_rmses = []\n",
    "test_rmses = []\n",
    "train_mapes = []\n",
    "test_mapes = []\n",
    "\n",
    "for l1_ratio in l1_ratios:\n",
    "    elasticnetcv = ElasticNetCV(\n",
    "        fit_intercept=True,\n",
    "        normalize=False,\n",
    "        alphas=None,\n",
    "        cv=k_fold,\n",
    "        l1_ratio=l1_ratio,\n",
    "        max_iter=max_iter,\n",
    "    )\n",
    "    elasticnetcv.fit(X_train_full, y_train.values.ravel())\n",
    "\n",
    "    elasticnet_full = ElasticNet(\n",
    "        fit_intercept=True,\n",
    "        normalize=False,\n",
    "        l1_ratio=elasticnetcv.l1_ratio_,\n",
    "        alpha=elasticnetcv.alpha_,\n",
    "        max_iter=max_iter,\n",
    "    )\n",
    "\n",
    "    elasticnet_full.fit(X_train_full, y_train.values.ravel())\n",
    "    y_pred_train_en_full = elasticnet_full.predict(X_train_full)\n",
    "    y_pred_test_en_full = elasticnet_full.predict(X_test_full)\n",
    "\n",
    "    rmse_train_en_full = np.sqrt(mean_squared_error(y_train, y_pred_train_en_full))\n",
    "    rmse_test_en_full = np.sqrt(mean_squared_error(y_test, y_pred_test_en_full))\n",
    "    mape_train_en_full = mean_absolute_percentage_error(y_train, y_pred_train_en_full)*100\n",
    "    mape_test_en_full = mean_absolute_percentage_error(y_test, y_pred_test_en_full)*100\n",
    "\n",
    "    models.append(elasticnet_full)\n",
    "    y_pred_trains.append(y_pred_train_en_full)\n",
    "    y_pred_tests.append(y_pred_test_en_full)\n",
    "    train_rmses.append(rmse_train_en_full)\n",
    "    test_rmses.append(rmse_test_en_full)\n",
    "    train_mapes.append(mape_train_en_full)\n",
    "    test_mapes.append(mape_test_en_full)\n",
    "\n",
    "best_model_index = test_rmses.index(min(test_rmses))"
   ]
  },
  {
   "cell_type": "code",
   "execution_count": 166,
   "metadata": {},
   "outputs": [
    {
     "name": "stdout",
     "output_type": "stream",
     "text": [
      "Full Elastic Net Model\n",
      "l1_ratio = 0.9\n",
      "Test RMSE:  202.13017707074727\n",
      "Test Mean Absolute % Error:  14.131775373914499\n"
     ]
    }
   ],
   "source": [
    "elasticnet_full = models[best_model_index]\n",
    "y_pred_train_en_full = y_pred_trains[best_model_index]\n",
    "y_pred_test_en_full = y_pred_tests[best_model_index]\n",
    "rmse_train_full_en = train_rmses[best_model_index]\n",
    "rmse_test_full_en = test_rmses[best_model_index]\n",
    "l1_ratio_full = l1_ratios[best_model_index]\n",
    "mape_train_full_en = train_mapes[best_model_index]\n",
    "mape_test_full_en = test_mapes[best_model_index]\n",
    "\n",
    "print(\"Full Elastic Net Model\")\n",
    "print(\"l1_ratio =\", l1_ratio_full)\n",
    "print(\"Test RMSE: \", rmse_test_full_en)\n",
    "print(\"Test Mean Absolute % Error: \", mape_test_full_en)"
   ]
  },
  {
   "cell_type": "code",
   "execution_count": 167,
   "metadata": {},
   "outputs": [
    {
     "data": {
      "image/png": "[encoded data removed]",
      "text/plain": [
       "<Figure size 432x288 with 1 Axes>"
      ]
     },
     "metadata": {
      "needs_background": "light"
     },
     "output_type": "display_data"
    }
   ],
   "source": [
    "plt.scatter(l1_ratios, test_rmses)\n",
    "plt.title(\"Test RMSE by Ridge/Lasso Ratio (Full Model)\")\n",
    "plt.xlabel(\"L1 Ratio (0 = Ridge, 1 = Lasso)\")\n",
    "plt.ylabel(\"Test RMSE\");"
   ]
  },
  {
   "cell_type": "code",
   "execution_count": 168,
   "metadata": {},
   "outputs": [
    {
     "data": {
      "text/plain": [
       "Text(0.5, 1.0, 'Full Model Predicted vs. True Values (EN) [Old Data]')"
      ]
     },
     "execution_count": 168,
     "metadata": {},
     "output_type": "execute_result"
    },
    {
     "data": {
      "image/png": "[encoded data removed]",
      "text/plain": [
       "<Figure size 432x288 with 1 Axes>"
      ]
     },
     "metadata": {
      "needs_background": "light"
     },
     "output_type": "display_data"
    }
   ],
   "source": [
    "#Elastic Net\n",
    "max_full = y_test.max()[0]\n",
    "\n",
    "plt.scatter(y_test, y_pred_test_en_full)\n",
    "plt.plot([0, max_full], [0, max_full], color=\"red\")\n",
    "plt.xlabel(\"True Values\")\n",
    "plt.ylabel(\"Predicted Values\")\n",
    "plt.title(\"Full Model Predicted vs. True Values (EN) [Old Data]\")"
   ]
  },
  {
   "cell_type": "code",
   "execution_count": 169,
   "metadata": {},
   "outputs": [],
   "source": [
    "model_name = \"Full\"\n",
    "source = \"Old\"\n",
    "\n",
    "results_df = results_df.append(cond.append(pd.Series({\"L_rmse\": rmse_test_full, \"EN_rmse\":rmse_test_full_en, \n",
    "                                                      \"L_mape\": mape_test_full, \"EN_mape\":mape_test_full_en, \n",
    "                                                      \"model\":model_name, \"data\":source, \"coef\":elasticnet_full.coef_})),\n",
    "                               ignore_index=True)"
   ]
  },
  {
   "cell_type": "markdown",
   "metadata": {},
   "source": [
    "#### From paper (Full Model)\n",
    "* Training RMSE: 51\n",
    "* Test RMSE: 118\n",
    "* Mean % Train Error: 5.6\n",
    "* Mean % Test Error: 14.1"
   ]
  },
  {
   "cell_type": "markdown",
   "metadata": {},
   "source": [
    "### Old Data Plots"
   ]
  },
  {
   "cell_type": "code",
   "execution_count": 170,
   "metadata": {},
   "outputs": [
    {
     "data": {
      "image/png": "[encoded data removed]",
      "text/plain": [
       "<Figure size 432x288 with 1 Axes>"
      ]
     },
     "metadata": {
      "needs_background": "light"
     },
     "output_type": "display_data"
    }
   ],
   "source": [
    "plt.hist(old_ct[y])\n",
    "plt.ylabel('Frequency')\n",
    "if ct:\n",
    "    plt.xlabel('Charge Throughput')\n",
    "    plt.title('Frequency of Charge Throughput [Old Data]')\n",
    "else:\n",
    "    plt.xlabel('Cycle Life')\n",
    "    plt.title('Frequency of Cycle Life [Old Data]')"
   ]
  },
  {
   "cell_type": "code",
   "execution_count": 171,
   "metadata": {},
   "outputs": [],
   "source": [
    "old_data_metrics = pd.DataFrame(data = {\n",
    "    \n",
    "                               \"Model & Source\": [\"Var (Linear)\", \"Var (E.N.)\", \"Var (Paper)\",\n",
    "                                                  \"Disc (Linear)\", \"Disc (E.N.)\", \"Disc (Paper)\",\n",
    "                                                  \"Full (Linear)\", \"Full (E.N.)\", \"Full (Paper)\"],\n",
    "                               \n",
    "                               \"Model\": [\"Variance\", \"Variance\", \"Variance\",\n",
    "                                         \"Discharge\", \"Discharge\", \"Discharge\",\n",
    "                                         \"Full\", \"Full\", \"Full\"],\n",
    "                                        \n",
    "                               \"Source\": [\"Us (Basic Linear)\", \"Us (Elastic Net)\", \"Paper (Elastic Net)\",\n",
    "                                          \"Us (Basic Linear)\", \"Us (Elastic Net)\", \"Paper (Elastic Net)\",\n",
    "                                          \"Us (Basic Linear)\", \"Us (Elastic Net)\", \"Paper (Elastic Net)\"],\n",
    "                                        \n",
    "                               \"Train RMSE\": [rmse_train_var, rmse_train_var_en, 103,\n",
    "                                              rmse_train_dis, rmse_train_dis_en, 76,\n",
    "                                              rmse_train_full, rmse_train_full_en, 51],\n",
    "                               \n",
    "                               \"Test RMSE\": [rmse_test_var, rmse_test_var_en, 138,\n",
    "                                             rmse_test_dis, rmse_test_dis_en, 91, \n",
    "                                             rmse_test_full, rmse_test_full_en, 118],\n",
    "                               \n",
    "                               \"Train MAPE\": [mape_train_var, mape_train_var_en, 14.1,\n",
    "                                              mape_train_dis, mape_train_dis_en, 9.8,\n",
    "                                              mape_train_full, mape_train_full_en, 5.6],\n",
    "                               \n",
    "                               \"Test MAPE\": [mape_test_var, mape_test_var_en, 14.7,\n",
    "                                             mape_test_dis, mape_test_dis_en, 13.0,\n",
    "                                             mape_test_full, mape_test_full_en, 14.1]})"
   ]
  },
  {
   "cell_type": "code",
   "execution_count": 172,
   "metadata": {},
   "outputs": [
    {
     "data": {
      "image/png": "[encoded data removed]",
      "text/plain": [
       "<Figure size 480.375x360 with 1 Axes>"
      ]
     },
     "metadata": {
      "needs_background": "light"
     },
     "output_type": "display_data"
    },
    {
     "data": {
      "image/png": "[encoded data removed]",
      "text/plain": [
       "<Figure size 480.375x360 with 1 Axes>"
      ]
     },
     "metadata": {
      "needs_background": "light"
     },
     "output_type": "display_data"
    },
    {
     "data": {
      "image/png": "[encoded data removed]",
      "text/plain": [
       "<Figure size 480.375x360 with 1 Axes>"
      ]
     },
     "metadata": {
      "needs_background": "light"
     },
     "output_type": "display_data"
    },
    {
     "data": {
      "image/png": "[encoded data removed]",
      "text/plain": [
       "<Figure size 480.375x360 with 1 Axes>"
      ]
     },
     "metadata": {
      "needs_background": "light"
     },
     "output_type": "display_data"
    }
   ],
   "source": [
    "if ct:\n",
    "    old_data_metrics = old_data_metrics.iloc[[0,1,3,4,6,7]]\n",
    "for column in old_data_metrics.columns[3:]:\n",
    "    sns.catplot(data = old_data_metrics, kind=\"bar\",\n",
    "               x = \"Model\", y = column, hue = \"Source\")\n",
    "    plt.title(column + \" Comparison [Old Data]\")"
   ]
  },
  {
   "cell_type": "code",
   "execution_count": 173,
   "metadata": {},
   "outputs": [],
   "source": [
    "#Removing internal_resistance features for models with new data\n",
    "if ir:\n",
    "    full_model_features.remove('X.min_internal_resistance_cycles_2:100')\n",
    "    full_model_features.remove('X.internal_resistance_difference_cycles_2:100')\n",
    "    \n",
    "    if scaled:\n",
    "        all_model_features.remove('X.min_internal_resistance_cycles_2:100')\n",
    "        all_model_features.remove('X.internal_resistance_difference_cycles_2:100')"
   ]
  },
  {
   "cell_type": "markdown",
   "metadata": {},
   "source": [
    "## New Data"
   ]
  },
  {
   "cell_type": "markdown",
   "metadata": {},
   "source": [
    "### Reading in the data"
   ]
  },
  {
   "cell_type": "code",
   "execution_count": 174,
   "metadata": {},
   "outputs": [],
   "source": [
    "new_df = pd.read_csv(path + \"NewData/LFPBatteries.csv\")\n",
    "\n",
    "if new_chemistries:\n",
    "    nca = pd.read_csv(path + \"NewData/NCABatteries.csv\")\n",
    "    nmc = pd.read_csv(path + \"NewData/NMCBatteries.csv\")\n",
    "    \n",
    "    new_df = pd.concat([new_df, nca, nmc], ignore_index=True)\n",
    "    \n",
    "    chemistries = [\"X.LFP\", \"X.NCA\", \"X.NMC\"]\n",
    "    \n",
    "    if chem_sources:\n",
    "        variance_model_features = variance_model_features + chemistries\n",
    "        discharge_model_features = discharge_model_features + chemistries\n",
    "        full_model_features = full_model_features + chemistries"
   ]
  },
  {
   "cell_type": "code",
   "execution_count": 175,
   "metadata": {},
   "outputs": [],
   "source": [
    "new_ct_full = new_df.merge(how = 'inner',right = new_ct, left_index = True, right_index=True)\n",
    "new_ct_full = new_ct_full.add_prefix('X.')\n",
    "new_ct_full.rename(columns={\"X.charge_throughput\": \"charge_throughput\"}, inplace=True)\n",
    "new_ct_full.rename(columns={\"X.capacity_0.8\": \"cycle_index\"}, inplace=True)\n",
    "\n",
    "if environ:\n",
    "    new_ct_full[\"Temperature\"] = new_ct_full[\"X.battery\"].str.split(\"_\").apply(lambda x: int(x[1][:2]))\n",
    "    new_ct_full[\"DOD\"] = new_ct_full[\"X.battery\"].str.split(\"_\").apply(lambda x: int(x[2].split(\"-\")[1]))\n",
    "    new_ct_full[\"Charge_rate\"] = new_ct_full[\"X.battery\"].str.split(\"_\").apply(lambda x: float(x[3].split(\"-\")[0]))\n",
    "    new_ct_full[\"Discharge_rate\"] = new_ct_full[\"X.battery\"].str.split(\"_\").apply(lambda x: float(x[3].split(\"-\")[1][:-1]))"
   ]
  },
  {
   "cell_type": "code",
   "execution_count": 176,
   "metadata": {},
   "outputs": [
    {
     "data": {
      "text/html": [
       "<div>\n",
       "<style scoped>\n",
       "    .dataframe tbody tr th:only-of-type {\n",
       "        vertical-align: middle;\n",
       "    }\n",
       "\n",
       "    .dataframe tbody tr th {\n",
       "        vertical-align: top;\n",
       "    }\n",
       "\n",
       "    .dataframe thead th {\n",
       "        text-align: right;\n",
       "    }\n",
       "</style>\n",
       "<table border=\"1\" class=\"dataframe\">\n",
       "  <thead>\n",
       "    <tr style=\"text-align: right;\">\n",
       "      <th></th>\n",
       "      <th>X.abs_first_discharge_capacity_difference_cycles_2:100</th>\n",
       "      <th>X.abs_kurtosis_discharge_capacity_difference_cycles_2:100</th>\n",
       "      <th>X.abs_mean_discharge_capacity_difference_cycles_2:100</th>\n",
       "      <th>X.abs_min_discharge_capacity_difference_cycles_2:100</th>\n",
       "      <th>X.abs_skew_discharge_capacity_difference_cycles_2:100</th>\n",
       "      <th>X.abs_variance_discharge_capacity_difference_cycles_2:100</th>\n",
       "      <th>X.battery_index</th>\n",
       "      <th>X.charge_time_cycles_1:5</th>\n",
       "      <th>X.discharge_capacity_cycle_100</th>\n",
       "      <th>X.discharge_capacity_cycle_2</th>\n",
       "      <th>...</th>\n",
       "      <th>X.capacity_0.92</th>\n",
       "      <th>X.capacity_0.95</th>\n",
       "      <th>X.capacity_0.98</th>\n",
       "      <th>X.battery</th>\n",
       "      <th>charge_throughput</th>\n",
       "      <th>X.cycle_index</th>\n",
       "      <th>Temperature</th>\n",
       "      <th>DOD</th>\n",
       "      <th>Charge_rate</th>\n",
       "      <th>Discharge_rate</th>\n",
       "    </tr>\n",
       "  </thead>\n",
       "  <tbody>\n",
       "    <tr>\n",
       "      <th>0</th>\n",
       "      <td>-3.309824</td>\n",
       "      <td>1.867028</td>\n",
       "      <td>-2.742859</td>\n",
       "      <td>-0.446806</td>\n",
       "      <td>0.584775</td>\n",
       "      <td>-3.166992</td>\n",
       "      <td>0</td>\n",
       "      <td>5760.000000</td>\n",
       "      <td>1.032</td>\n",
       "      <td>1.030</td>\n",
       "      <td>...</td>\n",
       "      <td>506.0</td>\n",
       "      <td>506.0</td>\n",
       "      <td>506.0</td>\n",
       "      <td>LFP_15C_0-100_0.5-1C_a_CH00</td>\n",
       "      <td>4524.021</td>\n",
       "      <td>4550.0</td>\n",
       "      <td>15</td>\n",
       "      <td>100</td>\n",
       "      <td>0.5</td>\n",
       "      <td>1.0</td>\n",
       "    </tr>\n",
       "    <tr>\n",
       "      <th>1</th>\n",
       "      <td>-3.019408</td>\n",
       "      <td>2.349816</td>\n",
       "      <td>-2.648706</td>\n",
       "      <td>-0.208776</td>\n",
       "      <td>0.993881</td>\n",
       "      <td>-3.056759</td>\n",
       "      <td>1</td>\n",
       "      <td>5785.600098</td>\n",
       "      <td>1.042</td>\n",
       "      <td>1.040</td>\n",
       "      <td>...</td>\n",
       "      <td>3552.0</td>\n",
       "      <td>506.0</td>\n",
       "      <td>506.0</td>\n",
       "      <td>LFP_15C_0-100_0.5-1C_a_CH01</td>\n",
       "      <td>3577.625</td>\n",
       "      <td>3552.0</td>\n",
       "      <td>15</td>\n",
       "      <td>100</td>\n",
       "      <td>0.5</td>\n",
       "      <td>1.0</td>\n",
       "    </tr>\n",
       "    <tr>\n",
       "      <th>2</th>\n",
       "      <td>-2.312774</td>\n",
       "      <td>1.694375</td>\n",
       "      <td>-1.917594</td>\n",
       "      <td>-0.195631</td>\n",
       "      <td>0.655882</td>\n",
       "      <td>-2.478396</td>\n",
       "      <td>2</td>\n",
       "      <td>5811.200195</td>\n",
       "      <td>1.030</td>\n",
       "      <td>1.030</td>\n",
       "      <td>...</td>\n",
       "      <td>506.0</td>\n",
       "      <td>506.0</td>\n",
       "      <td>506.0</td>\n",
       "      <td>LFP_15C_0-100_0.5-1C_a_CH02</td>\n",
       "      <td>3680.164</td>\n",
       "      <td>3760.0</td>\n",
       "      <td>15</td>\n",
       "      <td>100</td>\n",
       "      <td>0.5</td>\n",
       "      <td>1.0</td>\n",
       "    </tr>\n",
       "    <tr>\n",
       "      <th>3</th>\n",
       "      <td>-2.677882</td>\n",
       "      <td>1.495850</td>\n",
       "      <td>-2.076420</td>\n",
       "      <td>-0.631730</td>\n",
       "      <td>0.057256</td>\n",
       "      <td>-2.981589</td>\n",
       "      <td>3</td>\n",
       "      <td>5785.600098</td>\n",
       "      <td>1.025</td>\n",
       "      <td>1.029</td>\n",
       "      <td>...</td>\n",
       "      <td>506.0</td>\n",
       "      <td>506.0</td>\n",
       "      <td>506.0</td>\n",
       "      <td>LFP_15C_0-100_0.5-1C_a_CH03</td>\n",
       "      <td>3655.051</td>\n",
       "      <td>3753.0</td>\n",
       "      <td>15</td>\n",
       "      <td>100</td>\n",
       "      <td>0.5</td>\n",
       "      <td>1.0</td>\n",
       "    </tr>\n",
       "    <tr>\n",
       "      <th>4</th>\n",
       "      <td>-2.005443</td>\n",
       "      <td>0.393445</td>\n",
       "      <td>-1.682799</td>\n",
       "      <td>-0.189399</td>\n",
       "      <td>-0.220132</td>\n",
       "      <td>-1.291194</td>\n",
       "      <td>4</td>\n",
       "      <td>5785.600098</td>\n",
       "      <td>1.059</td>\n",
       "      <td>1.067</td>\n",
       "      <td>...</td>\n",
       "      <td>207.0</td>\n",
       "      <td>207.0</td>\n",
       "      <td>207.0</td>\n",
       "      <td>LFP_15C_0-100_0.5-1C_a_CH04</td>\n",
       "      <td>3058.955</td>\n",
       "      <td>3049.0</td>\n",
       "      <td>15</td>\n",
       "      <td>100</td>\n",
       "      <td>0.5</td>\n",
       "      <td>1.0</td>\n",
       "    </tr>\n",
       "    <tr>\n",
       "      <th>5</th>\n",
       "      <td>-2.380008</td>\n",
       "      <td>1.233238</td>\n",
       "      <td>-1.920131</td>\n",
       "      <td>-0.366808</td>\n",
       "      <td>0.547162</td>\n",
       "      <td>-2.368781</td>\n",
       "      <td>5</td>\n",
       "      <td>5785.600098</td>\n",
       "      <td>1.029</td>\n",
       "      <td>1.032</td>\n",
       "      <td>...</td>\n",
       "      <td>506.0</td>\n",
       "      <td>506.0</td>\n",
       "      <td>506.0</td>\n",
       "      <td>LFP_15C_0-100_0.5-1C_a_CH05</td>\n",
       "      <td>3485.849</td>\n",
       "      <td>3544.0</td>\n",
       "      <td>15</td>\n",
       "      <td>100</td>\n",
       "      <td>0.5</td>\n",
       "      <td>1.0</td>\n",
       "    </tr>\n",
       "    <tr>\n",
       "      <th>6</th>\n",
       "      <td>-2.515111</td>\n",
       "      <td>1.724767</td>\n",
       "      <td>-2.258376</td>\n",
       "      <td>-0.141387</td>\n",
       "      <td>0.812973</td>\n",
       "      <td>-2.289163</td>\n",
       "      <td>6</td>\n",
       "      <td>5785.600098</td>\n",
       "      <td>1.035</td>\n",
       "      <td>1.035</td>\n",
       "      <td>...</td>\n",
       "      <td>506.0</td>\n",
       "      <td>506.0</td>\n",
       "      <td>506.0</td>\n",
       "      <td>LFP_15C_0-100_0.5-1C_a_CH06</td>\n",
       "      <td>3530.338</td>\n",
       "      <td>3635.0</td>\n",
       "      <td>15</td>\n",
       "      <td>100</td>\n",
       "      <td>0.5</td>\n",
       "      <td>1.0</td>\n",
       "    </tr>\n",
       "    <tr>\n",
       "      <th>7</th>\n",
       "      <td>-0.943098</td>\n",
       "      <td>0.797936</td>\n",
       "      <td>-2.145172</td>\n",
       "      <td>-0.455522</td>\n",
       "      <td>-0.123878</td>\n",
       "      <td>-2.469690</td>\n",
       "      <td>7</td>\n",
       "      <td>5785.600098</td>\n",
       "      <td>1.048</td>\n",
       "      <td>1.050</td>\n",
       "      <td>...</td>\n",
       "      <td>3037.0</td>\n",
       "      <td>506.0</td>\n",
       "      <td>506.0</td>\n",
       "      <td>LFP_15C_0-100_0.5-1C_a_CH07</td>\n",
       "      <td>3061.070</td>\n",
       "      <td>3037.0</td>\n",
       "      <td>15</td>\n",
       "      <td>100</td>\n",
       "      <td>0.5</td>\n",
       "      <td>1.0</td>\n",
       "    </tr>\n",
       "    <tr>\n",
       "      <th>8</th>\n",
       "      <td>-0.897819</td>\n",
       "      <td>0.712504</td>\n",
       "      <td>-2.048117</td>\n",
       "      <td>-0.525766</td>\n",
       "      <td>-0.122899</td>\n",
       "      <td>-2.473751</td>\n",
       "      <td>8</td>\n",
       "      <td>5785.600098</td>\n",
       "      <td>1.047</td>\n",
       "      <td>1.049</td>\n",
       "      <td>...</td>\n",
       "      <td>3037.0</td>\n",
       "      <td>506.0</td>\n",
       "      <td>471.0</td>\n",
       "      <td>LFP_15C_0-100_0.5-1C_a_CH08</td>\n",
       "      <td>3058.092</td>\n",
       "      <td>3037.0</td>\n",
       "      <td>15</td>\n",
       "      <td>100</td>\n",
       "      <td>0.5</td>\n",
       "      <td>1.0</td>\n",
       "    </tr>\n",
       "    <tr>\n",
       "      <th>9</th>\n",
       "      <td>-2.451741</td>\n",
       "      <td>1.735859</td>\n",
       "      <td>-2.396135</td>\n",
       "      <td>-0.489405</td>\n",
       "      <td>0.711692</td>\n",
       "      <td>-3.078727</td>\n",
       "      <td>9</td>\n",
       "      <td>5811.200195</td>\n",
       "      <td>1.030</td>\n",
       "      <td>1.036</td>\n",
       "      <td>...</td>\n",
       "      <td>506.0</td>\n",
       "      <td>506.0</td>\n",
       "      <td>479.0</td>\n",
       "      <td>LFP_15C_0-100_0.5-1C_a_CH09</td>\n",
       "      <td>3469.676</td>\n",
       "      <td>3543.0</td>\n",
       "      <td>15</td>\n",
       "      <td>100</td>\n",
       "      <td>0.5</td>\n",
       "      <td>1.0</td>\n",
       "    </tr>\n",
       "    <tr>\n",
       "      <th>10</th>\n",
       "      <td>-2.245256</td>\n",
       "      <td>1.463976</td>\n",
       "      <td>-2.389433</td>\n",
       "      <td>-0.713155</td>\n",
       "      <td>0.579099</td>\n",
       "      <td>-3.200381</td>\n",
       "      <td>10</td>\n",
       "      <td>5785.600098</td>\n",
       "      <td>1.026</td>\n",
       "      <td>1.030</td>\n",
       "      <td>...</td>\n",
       "      <td>506.0</td>\n",
       "      <td>506.0</td>\n",
       "      <td>506.0</td>\n",
       "      <td>LFP_15C_0-100_0.5-1C_a_CH10</td>\n",
       "      <td>3449.456</td>\n",
       "      <td>4049.0</td>\n",
       "      <td>15</td>\n",
       "      <td>100</td>\n",
       "      <td>0.5</td>\n",
       "      <td>1.0</td>\n",
       "    </tr>\n",
       "    <tr>\n",
       "      <th>11</th>\n",
       "      <td>-1.821036</td>\n",
       "      <td>1.405901</td>\n",
       "      <td>-2.306444</td>\n",
       "      <td>-0.657584</td>\n",
       "      <td>0.599192</td>\n",
       "      <td>-2.906431</td>\n",
       "      <td>11</td>\n",
       "      <td>5811.200195</td>\n",
       "      <td>1.024</td>\n",
       "      <td>1.036</td>\n",
       "      <td>...</td>\n",
       "      <td>207.0</td>\n",
       "      <td>207.0</td>\n",
       "      <td>207.0</td>\n",
       "      <td>LFP_15C_0-100_0.5-1C_a_CH11</td>\n",
       "      <td>4224.976</td>\n",
       "      <td>4568.0</td>\n",
       "      <td>15</td>\n",
       "      <td>100</td>\n",
       "      <td>0.5</td>\n",
       "      <td>1.0</td>\n",
       "    </tr>\n",
       "    <tr>\n",
       "      <th>12</th>\n",
       "      <td>-1.844457</td>\n",
       "      <td>1.529175</td>\n",
       "      <td>-3.415545</td>\n",
       "      <td>-0.480729</td>\n",
       "      <td>0.185791</td>\n",
       "      <td>-2.845598</td>\n",
       "      <td>12</td>\n",
       "      <td>5760.000000</td>\n",
       "      <td>1.031</td>\n",
       "      <td>1.048</td>\n",
       "      <td>...</td>\n",
       "      <td>207.0</td>\n",
       "      <td>207.0</td>\n",
       "      <td>207.0</td>\n",
       "      <td>LFP_15C_0-100_0.5-1C_a_CH12</td>\n",
       "      <td>3772.288</td>\n",
       "      <td>4061.0</td>\n",
       "      <td>15</td>\n",
       "      <td>100</td>\n",
       "      <td>0.5</td>\n",
       "      <td>1.0</td>\n",
       "    </tr>\n",
       "    <tr>\n",
       "      <th>13</th>\n",
       "      <td>-1.762433</td>\n",
       "      <td>1.142065</td>\n",
       "      <td>-2.504560</td>\n",
       "      <td>-0.995597</td>\n",
       "      <td>0.101981</td>\n",
       "      <td>-3.588974</td>\n",
       "      <td>13</td>\n",
       "      <td>5785.600098</td>\n",
       "      <td>1.021</td>\n",
       "      <td>1.039</td>\n",
       "      <td>...</td>\n",
       "      <td>208.0</td>\n",
       "      <td>208.0</td>\n",
       "      <td>208.0</td>\n",
       "      <td>LFP_15C_0-100_0.5-1C_a_CH13</td>\n",
       "      <td>3248.288</td>\n",
       "      <td>3554.0</td>\n",
       "      <td>15</td>\n",
       "      <td>100</td>\n",
       "      <td>0.5</td>\n",
       "      <td>1.0</td>\n",
       "    </tr>\n",
       "    <tr>\n",
       "      <th>14</th>\n",
       "      <td>-2.857553</td>\n",
       "      <td>0.465665</td>\n",
       "      <td>-1.175380</td>\n",
       "      <td>-0.062535</td>\n",
       "      <td>-0.300394</td>\n",
       "      <td>-1.143150</td>\n",
       "      <td>14</td>\n",
       "      <td>5785.600098</td>\n",
       "      <td>1.043</td>\n",
       "      <td>1.062</td>\n",
       "      <td>...</td>\n",
       "      <td>205.0</td>\n",
       "      <td>205.0</td>\n",
       "      <td>205.0</td>\n",
       "      <td>LFP_15C_0-100_0.5-1C_a_CH14</td>\n",
       "      <td>3832.846</td>\n",
       "      <td>4061.0</td>\n",
       "      <td>15</td>\n",
       "      <td>100</td>\n",
       "      <td>0.5</td>\n",
       "      <td>1.0</td>\n",
       "    </tr>\n",
       "    <tr>\n",
       "      <th>15</th>\n",
       "      <td>-1.897728</td>\n",
       "      <td>-0.127012</td>\n",
       "      <td>-2.733529</td>\n",
       "      <td>-1.897728</td>\n",
       "      <td>-0.867056</td>\n",
       "      <td>-4.552947</td>\n",
       "      <td>15</td>\n",
       "      <td>5824.000000</td>\n",
       "      <td>0.551</td>\n",
       "      <td>1.069</td>\n",
       "      <td>...</td>\n",
       "      <td>7365.0</td>\n",
       "      <td>7365.0</td>\n",
       "      <td>7365.0</td>\n",
       "      <td>LFP_25C_20-80_0.5-0.5C_a_CH15</td>\n",
       "      <td>3484.630</td>\n",
       "      <td>7374.0</td>\n",
       "      <td>25</td>\n",
       "      <td>80</td>\n",
       "      <td>0.5</td>\n",
       "      <td>0.5</td>\n",
       "    </tr>\n",
       "    <tr>\n",
       "      <th>16</th>\n",
       "      <td>-1.768086</td>\n",
       "      <td>1.785174</td>\n",
       "      <td>-2.268007</td>\n",
       "      <td>-0.951845</td>\n",
       "      <td>0.368611</td>\n",
       "      <td>-3.816700</td>\n",
       "      <td>16</td>\n",
       "      <td>5824.000000</td>\n",
       "      <td>0.582</td>\n",
       "      <td>1.045</td>\n",
       "      <td>...</td>\n",
       "      <td>7433.0</td>\n",
       "      <td>7433.0</td>\n",
       "      <td>7433.0</td>\n",
       "      <td>LFP_25C_20-80_0.5-0.5C_b_CH16</td>\n",
       "      <td>4004.892</td>\n",
       "      <td>8395.0</td>\n",
       "      <td>25</td>\n",
       "      <td>80</td>\n",
       "      <td>0.5</td>\n",
       "      <td>0.5</td>\n",
       "    </tr>\n",
       "    <tr>\n",
       "      <th>17</th>\n",
       "      <td>-1.805976</td>\n",
       "      <td>1.893722</td>\n",
       "      <td>-2.325799</td>\n",
       "      <td>-0.890672</td>\n",
       "      <td>0.491380</td>\n",
       "      <td>-3.719892</td>\n",
       "      <td>17</td>\n",
       "      <td>5888.000000</td>\n",
       "      <td>0.589</td>\n",
       "      <td>1.064</td>\n",
       "      <td>...</td>\n",
       "      <td>5938.0</td>\n",
       "      <td>5938.0</td>\n",
       "      <td>5938.0</td>\n",
       "      <td>LFP_25C_20-80_0.5-0.5C_c_CH17</td>\n",
       "      <td>3344.767</td>\n",
       "      <td>5944.0</td>\n",
       "      <td>25</td>\n",
       "      <td>80</td>\n",
       "      <td>0.5</td>\n",
       "      <td>0.5</td>\n",
       "    </tr>\n",
       "    <tr>\n",
       "      <th>18</th>\n",
       "      <td>-1.824312</td>\n",
       "      <td>1.395634</td>\n",
       "      <td>-2.365098</td>\n",
       "      <td>-1.164075</td>\n",
       "      <td>-0.211832</td>\n",
       "      <td>-4.248934</td>\n",
       "      <td>18</td>\n",
       "      <td>5824.000000</td>\n",
       "      <td>0.587</td>\n",
       "      <td>1.047</td>\n",
       "      <td>...</td>\n",
       "      <td>6584.0</td>\n",
       "      <td>6584.0</td>\n",
       "      <td>6584.0</td>\n",
       "      <td>LFP_25C_20-80_0.5-0.5C_d_CH18</td>\n",
       "      <td>3647.947</td>\n",
       "      <td>6591.0</td>\n",
       "      <td>25</td>\n",
       "      <td>80</td>\n",
       "      <td>0.5</td>\n",
       "      <td>0.5</td>\n",
       "    </tr>\n",
       "    <tr>\n",
       "      <th>19</th>\n",
       "      <td>-2.491036</td>\n",
       "      <td>0.512895</td>\n",
       "      <td>-3.891418</td>\n",
       "      <td>-2.491036</td>\n",
       "      <td>0.010516</td>\n",
       "      <td>-5.755608</td>\n",
       "      <td>19</td>\n",
       "      <td>5824.000000</td>\n",
       "      <td>0.660</td>\n",
       "      <td>1.053</td>\n",
       "      <td>...</td>\n",
       "      <td>2953.0</td>\n",
       "      <td>2953.0</td>\n",
       "      <td>2953.0</td>\n",
       "      <td>LFP_25C_20-80_0.5-3C_a_CH19</td>\n",
       "      <td>1960.727</td>\n",
       "      <td>2958.0</td>\n",
       "      <td>25</td>\n",
       "      <td>80</td>\n",
       "      <td>0.5</td>\n",
       "      <td>3.0</td>\n",
       "    </tr>\n",
       "    <tr>\n",
       "      <th>20</th>\n",
       "      <td>-1.341496</td>\n",
       "      <td>0.461667</td>\n",
       "      <td>-2.117065</td>\n",
       "      <td>-inf</td>\n",
       "      <td>0.308505</td>\n",
       "      <td>-3.831441</td>\n",
       "      <td>20</td>\n",
       "      <td>5824.000000</td>\n",
       "      <td>0.220</td>\n",
       "      <td>1.070</td>\n",
       "      <td>...</td>\n",
       "      <td>19151.0</td>\n",
       "      <td>19151.0</td>\n",
       "      <td>19151.0</td>\n",
       "      <td>LFP_25C_40-60_0.5-0.5C_a_CH20</td>\n",
       "      <td>1889.130</td>\n",
       "      <td>19174.0</td>\n",
       "      <td>25</td>\n",
       "      <td>60</td>\n",
       "      <td>0.5</td>\n",
       "      <td>0.5</td>\n",
       "    </tr>\n",
       "    <tr>\n",
       "      <th>21</th>\n",
       "      <td>-1.341496</td>\n",
       "      <td>0.599729</td>\n",
       "      <td>-2.174747</td>\n",
       "      <td>-inf</td>\n",
       "      <td>0.343795</td>\n",
       "      <td>-3.918368</td>\n",
       "      <td>21</td>\n",
       "      <td>5824.000000</td>\n",
       "      <td>0.220</td>\n",
       "      <td>1.066</td>\n",
       "      <td>...</td>\n",
       "      <td>18144.0</td>\n",
       "      <td>18144.0</td>\n",
       "      <td>18144.0</td>\n",
       "      <td>LFP_25C_40-60_0.5-0.5C_b_CH21</td>\n",
       "      <td>2187.720</td>\n",
       "      <td>18165.0</td>\n",
       "      <td>25</td>\n",
       "      <td>60</td>\n",
       "      <td>0.5</td>\n",
       "      <td>0.5</td>\n",
       "    </tr>\n",
       "    <tr>\n",
       "      <th>22</th>\n",
       "      <td>-1.695899</td>\n",
       "      <td>0.585317</td>\n",
       "      <td>-2.438592</td>\n",
       "      <td>-1.695899</td>\n",
       "      <td>0.354652</td>\n",
       "      <td>-4.656284</td>\n",
       "      <td>22</td>\n",
       "      <td>5824.000000</td>\n",
       "      <td>0.220</td>\n",
       "      <td>1.064</td>\n",
       "      <td>...</td>\n",
       "      <td>12609.0</td>\n",
       "      <td>12609.0</td>\n",
       "      <td>12609.0</td>\n",
       "      <td>LFP_25C_40-60_0.5-3C_a_CH22</td>\n",
       "      <td>2871.171</td>\n",
       "      <td>12627.0</td>\n",
       "      <td>25</td>\n",
       "      <td>60</td>\n",
       "      <td>0.5</td>\n",
       "      <td>3.0</td>\n",
       "    </tr>\n",
       "    <tr>\n",
       "      <th>23</th>\n",
       "      <td>-2.115661</td>\n",
       "      <td>0.685729</td>\n",
       "      <td>-3.057653</td>\n",
       "      <td>-2.115661</td>\n",
       "      <td>0.395765</td>\n",
       "      <td>-5.498992</td>\n",
       "      <td>23</td>\n",
       "      <td>5824.000000</td>\n",
       "      <td>0.220</td>\n",
       "      <td>1.050</td>\n",
       "      <td>...</td>\n",
       "      <td>11603.0</td>\n",
       "      <td>11603.0</td>\n",
       "      <td>11603.0</td>\n",
       "      <td>LFP_25C_40-60_0.5-3C_b_CH23</td>\n",
       "      <td>2641.030</td>\n",
       "      <td>11620.0</td>\n",
       "      <td>25</td>\n",
       "      <td>60</td>\n",
       "      <td>0.5</td>\n",
       "      <td>3.0</td>\n",
       "    </tr>\n",
       "    <tr>\n",
       "      <th>24</th>\n",
       "      <td>0.000000</td>\n",
       "      <td>0.000000</td>\n",
       "      <td>0.000000</td>\n",
       "      <td>0.000000</td>\n",
       "      <td>0.000000</td>\n",
       "      <td>0.000000</td>\n",
       "      <td>24</td>\n",
       "      <td>5862.399902</td>\n",
       "      <td>1.058</td>\n",
       "      <td>1.076</td>\n",
       "      <td>...</td>\n",
       "      <td>920.0</td>\n",
       "      <td>383.0</td>\n",
       "      <td>234.0</td>\n",
       "      <td>LFP_35C_0-100_0.5-1C_a_CH24</td>\n",
       "      <td>3086.367</td>\n",
       "      <td>3155.0</td>\n",
       "      <td>35</td>\n",
       "      <td>100</td>\n",
       "      <td>0.5</td>\n",
       "      <td>1.0</td>\n",
       "    </tr>\n",
       "    <tr>\n",
       "      <th>25</th>\n",
       "      <td>0.000000</td>\n",
       "      <td>0.000000</td>\n",
       "      <td>0.000000</td>\n",
       "      <td>0.000000</td>\n",
       "      <td>0.000000</td>\n",
       "      <td>0.000000</td>\n",
       "      <td>25</td>\n",
       "      <td>5862.399902</td>\n",
       "      <td>1.027</td>\n",
       "      <td>1.046</td>\n",
       "      <td>...</td>\n",
       "      <td>1171.0</td>\n",
       "      <td>323.0</td>\n",
       "      <td>241.0</td>\n",
       "      <td>LFP_35C_0-100_0.5-1C_b_CH25</td>\n",
       "      <td>3154.403</td>\n",
       "      <td>3341.0</td>\n",
       "      <td>35</td>\n",
       "      <td>100</td>\n",
       "      <td>0.5</td>\n",
       "      <td>1.0</td>\n",
       "    </tr>\n",
       "    <tr>\n",
       "      <th>26</th>\n",
       "      <td>0.000000</td>\n",
       "      <td>0.000000</td>\n",
       "      <td>0.000000</td>\n",
       "      <td>0.000000</td>\n",
       "      <td>0.000000</td>\n",
       "      <td>0.000000</td>\n",
       "      <td>26</td>\n",
       "      <td>5862.399902</td>\n",
       "      <td>1.037</td>\n",
       "      <td>1.057</td>\n",
       "      <td>...</td>\n",
       "      <td>966.0</td>\n",
       "      <td>126.0</td>\n",
       "      <td>125.0</td>\n",
       "      <td>LFP_35C_0-100_0.5-1C_c_CH26</td>\n",
       "      <td>3188.106</td>\n",
       "      <td>3341.0</td>\n",
       "      <td>35</td>\n",
       "      <td>100</td>\n",
       "      <td>0.5</td>\n",
       "      <td>1.0</td>\n",
       "    </tr>\n",
       "    <tr>\n",
       "      <th>27</th>\n",
       "      <td>0.000000</td>\n",
       "      <td>0.000000</td>\n",
       "      <td>0.000000</td>\n",
       "      <td>0.000000</td>\n",
       "      <td>0.000000</td>\n",
       "      <td>0.000000</td>\n",
       "      <td>27</td>\n",
       "      <td>5836.799805</td>\n",
       "      <td>1.042</td>\n",
       "      <td>1.059</td>\n",
       "      <td>...</td>\n",
       "      <td>681.0</td>\n",
       "      <td>681.0</td>\n",
       "      <td>252.0</td>\n",
       "      <td>LFP_35C_0-100_0.5-1C_d_CH27</td>\n",
       "      <td>3647.473</td>\n",
       "      <td>3797.0</td>\n",
       "      <td>35</td>\n",
       "      <td>100</td>\n",
       "      <td>0.5</td>\n",
       "      <td>1.0</td>\n",
       "    </tr>\n",
       "    <tr>\n",
       "      <th>28</th>\n",
       "      <td>0.000000</td>\n",
       "      <td>0.000000</td>\n",
       "      <td>0.000000</td>\n",
       "      <td>0.000000</td>\n",
       "      <td>0.000000</td>\n",
       "      <td>0.000000</td>\n",
       "      <td>28</td>\n",
       "      <td>5862.399902</td>\n",
       "      <td>1.047</td>\n",
       "      <td>1.064</td>\n",
       "      <td>...</td>\n",
       "      <td>1448.0</td>\n",
       "      <td>484.0</td>\n",
       "      <td>316.0</td>\n",
       "      <td>LFP_35C_0-100_0.5-2C_a_CH28</td>\n",
       "      <td>3702.803</td>\n",
       "      <td>3855.0</td>\n",
       "      <td>35</td>\n",
       "      <td>100</td>\n",
       "      <td>0.5</td>\n",
       "      <td>2.0</td>\n",
       "    </tr>\n",
       "    <tr>\n",
       "      <th>29</th>\n",
       "      <td>0.000000</td>\n",
       "      <td>0.000000</td>\n",
       "      <td>0.000000</td>\n",
       "      <td>0.000000</td>\n",
       "      <td>0.000000</td>\n",
       "      <td>0.000000</td>\n",
       "      <td>29</td>\n",
       "      <td>5862.399902</td>\n",
       "      <td>1.021</td>\n",
       "      <td>1.039</td>\n",
       "      <td>...</td>\n",
       "      <td>514.0</td>\n",
       "      <td>423.0</td>\n",
       "      <td>238.0</td>\n",
       "      <td>LFP_35C_0-100_0.5-2C_b_CH29</td>\n",
       "      <td>3331.642</td>\n",
       "      <td>3597.0</td>\n",
       "      <td>35</td>\n",
       "      <td>100</td>\n",
       "      <td>0.5</td>\n",
       "      <td>2.0</td>\n",
       "    </tr>\n",
       "  </tbody>\n",
       "</table>\n",
       "<p>30 rows × 33 columns</p>\n",
       "</div>"
      ],
      "text/plain": [
       "    X.abs_first_discharge_capacity_difference_cycles_2:100  \\\n",
       "0                                           -3.309824        \n",
       "1                                           -3.019408        \n",
       "2                                           -2.312774        \n",
       "3                                           -2.677882        \n",
       "4                                           -2.005443        \n",
       "5                                           -2.380008        \n",
       "6                                           -2.515111        \n",
       "7                                           -0.943098        \n",
       "8                                           -0.897819        \n",
       "9                                           -2.451741        \n",
       "10                                          -2.245256        \n",
       "11                                          -1.821036        \n",
       "12                                          -1.844457        \n",
       "13                                          -1.762433        \n",
       "14                                          -2.857553        \n",
       "15                                          -1.897728        \n",
       "16                                          -1.768086        \n",
       "17                                          -1.805976        \n",
       "18                                          -1.824312        \n",
       "19                                          -2.491036        \n",
       "20                                          -1.341496        \n",
       "21                                          -1.341496        \n",
       "22                                          -1.695899        \n",
       "23                                          -2.115661        \n",
       "24                                           0.000000        \n",
       "25                                           0.000000        \n",
       "26                                           0.000000        \n",
       "27                                           0.000000        \n",
       "28                                           0.000000        \n",
       "29                                           0.000000        \n",
       "\n",
       "    X.abs_kurtosis_discharge_capacity_difference_cycles_2:100  \\\n",
       "0                                            1.867028           \n",
       "1                                            2.349816           \n",
       "2                                            1.694375           \n",
       "3                                            1.495850           \n",
       "4                                            0.393445           \n",
       "5                                            1.233238           \n",
       "6                                            1.724767           \n",
       "7                                            0.797936           \n",
       "8                                            0.712504           \n",
       "9                                            1.735859           \n",
       "10                                           1.463976           \n",
       "11                                           1.405901           \n",
       "12                                           1.529175           \n",
       "13                                           1.142065           \n",
       "14                                           0.465665           \n",
       "15                                          -0.127012           \n",
       "16                                           1.785174           \n",
       "17                                           1.893722           \n",
       "18                                           1.395634           \n",
       "19                                           0.512895           \n",
       "20                                           0.461667           \n",
       "21                                           0.599729           \n",
       "22                                           0.585317           \n",
       "23                                           0.685729           \n",
       "24                                           0.000000           \n",
       "25                                           0.000000           \n",
       "26                                           0.000000           \n",
       "27                                           0.000000           \n",
       "28                                           0.000000           \n",
       "29                                           0.000000           \n",
       "\n",
       "    X.abs_mean_discharge_capacity_difference_cycles_2:100  \\\n",
       "0                                           -2.742859       \n",
       "1                                           -2.648706       \n",
       "2                                           -1.917594       \n",
       "3                                           -2.076420       \n",
       "4                                           -1.682799       \n",
       "5                                           -1.920131       \n",
       "6                                           -2.258376       \n",
       "7                                           -2.145172       \n",
       "8                                           -2.048117       \n",
       "9                                           -2.396135       \n",
       "10                                          -2.389433       \n",
       "11                                          -2.306444       \n",
       "12                                          -3.415545       \n",
       "13                                          -2.504560       \n",
       "14                                          -1.175380       \n",
       "15                                          -2.733529       \n",
       "16                                          -2.268007       \n",
       "17                                          -2.325799       \n",
       "18                                          -2.365098       \n",
       "19                                          -3.891418       \n",
       "20                                          -2.117065       \n",
       "21                                          -2.174747       \n",
       "22                                          -2.438592       \n",
       "23                                          -3.057653       \n",
       "24                                           0.000000       \n",
       "25                                           0.000000       \n",
       "26                                           0.000000       \n",
       "27                                           0.000000       \n",
       "28                                           0.000000       \n",
       "29                                           0.000000       \n",
       "\n",
       "    X.abs_min_discharge_capacity_difference_cycles_2:100  \\\n",
       "0                                           -0.446806      \n",
       "1                                           -0.208776      \n",
       "2                                           -0.195631      \n",
       "3                                           -0.631730      \n",
       "4                                           -0.189399      \n",
       "5                                           -0.366808      \n",
       "6                                           -0.141387      \n",
       "7                                           -0.455522      \n",
       "8                                           -0.525766      \n",
       "9                                           -0.489405      \n",
       "10                                          -0.713155      \n",
       "11                                          -0.657584      \n",
       "12                                          -0.480729      \n",
       "13                                          -0.995597      \n",
       "14                                          -0.062535      \n",
       "15                                          -1.897728      \n",
       "16                                          -0.951845      \n",
       "17                                          -0.890672      \n",
       "18                                          -1.164075      \n",
       "19                                          -2.491036      \n",
       "20                                               -inf      \n",
       "21                                               -inf      \n",
       "22                                          -1.695899      \n",
       "23                                          -2.115661      \n",
       "24                                           0.000000      \n",
       "25                                           0.000000      \n",
       "26                                           0.000000      \n",
       "27                                           0.000000      \n",
       "28                                           0.000000      \n",
       "29                                           0.000000      \n",
       "\n",
       "    X.abs_skew_discharge_capacity_difference_cycles_2:100  \\\n",
       "0                                            0.584775       \n",
       "1                                            0.993881       \n",
       "2                                            0.655882       \n",
       "3                                            0.057256       \n",
       "4                                           -0.220132       \n",
       "5                                            0.547162       \n",
       "6                                            0.812973       \n",
       "7                                           -0.123878       \n",
       "8                                           -0.122899       \n",
       "9                                            0.711692       \n",
       "10                                           0.579099       \n",
       "11                                           0.599192       \n",
       "12                                           0.185791       \n",
       "13                                           0.101981       \n",
       "14                                          -0.300394       \n",
       "15                                          -0.867056       \n",
       "16                                           0.368611       \n",
       "17                                           0.491380       \n",
       "18                                          -0.211832       \n",
       "19                                           0.010516       \n",
       "20                                           0.308505       \n",
       "21                                           0.343795       \n",
       "22                                           0.354652       \n",
       "23                                           0.395765       \n",
       "24                                           0.000000       \n",
       "25                                           0.000000       \n",
       "26                                           0.000000       \n",
       "27                                           0.000000       \n",
       "28                                           0.000000       \n",
       "29                                           0.000000       \n",
       "\n",
       "    X.abs_variance_discharge_capacity_difference_cycles_2:100  \\\n",
       "0                                           -3.166992           \n",
       "1                                           -3.056759           \n",
       "2                                           -2.478396           \n",
       "3                                           -2.981589           \n",
       "4                                           -1.291194           \n",
       "5                                           -2.368781           \n",
       "6                                           -2.289163           \n",
       "7                                           -2.469690           \n",
       "8                                           -2.473751           \n",
       "9                                           -3.078727           \n",
       "10                                          -3.200381           \n",
       "11                                          -2.906431           \n",
       "12                                          -2.845598           \n",
       "13                                          -3.588974           \n",
       "14                                          -1.143150           \n",
       "15                                          -4.552947           \n",
       "16                                          -3.816700           \n",
       "17                                          -3.719892           \n",
       "18                                          -4.248934           \n",
       "19                                          -5.755608           \n",
       "20                                          -3.831441           \n",
       "21                                          -3.918368           \n",
       "22                                          -4.656284           \n",
       "23                                          -5.498992           \n",
       "24                                           0.000000           \n",
       "25                                           0.000000           \n",
       "26                                           0.000000           \n",
       "27                                           0.000000           \n",
       "28                                           0.000000           \n",
       "29                                           0.000000           \n",
       "\n",
       "    X.battery_index  X.charge_time_cycles_1:5  X.discharge_capacity_cycle_100  \\\n",
       "0                 0               5760.000000                           1.032   \n",
       "1                 1               5785.600098                           1.042   \n",
       "2                 2               5811.200195                           1.030   \n",
       "3                 3               5785.600098                           1.025   \n",
       "4                 4               5785.600098                           1.059   \n",
       "5                 5               5785.600098                           1.029   \n",
       "6                 6               5785.600098                           1.035   \n",
       "7                 7               5785.600098                           1.048   \n",
       "8                 8               5785.600098                           1.047   \n",
       "9                 9               5811.200195                           1.030   \n",
       "10               10               5785.600098                           1.026   \n",
       "11               11               5811.200195                           1.024   \n",
       "12               12               5760.000000                           1.031   \n",
       "13               13               5785.600098                           1.021   \n",
       "14               14               5785.600098                           1.043   \n",
       "15               15               5824.000000                           0.551   \n",
       "16               16               5824.000000                           0.582   \n",
       "17               17               5888.000000                           0.589   \n",
       "18               18               5824.000000                           0.587   \n",
       "19               19               5824.000000                           0.660   \n",
       "20               20               5824.000000                           0.220   \n",
       "21               21               5824.000000                           0.220   \n",
       "22               22               5824.000000                           0.220   \n",
       "23               23               5824.000000                           0.220   \n",
       "24               24               5862.399902                           1.058   \n",
       "25               25               5862.399902                           1.027   \n",
       "26               26               5862.399902                           1.037   \n",
       "27               27               5836.799805                           1.042   \n",
       "28               28               5862.399902                           1.047   \n",
       "29               29               5862.399902                           1.021   \n",
       "\n",
       "    X.discharge_capacity_cycle_2  ...  X.capacity_0.92  X.capacity_0.95  \\\n",
       "0                          1.030  ...            506.0            506.0   \n",
       "1                          1.040  ...           3552.0            506.0   \n",
       "2                          1.030  ...            506.0            506.0   \n",
       "3                          1.029  ...            506.0            506.0   \n",
       "4                          1.067  ...            207.0            207.0   \n",
       "5                          1.032  ...            506.0            506.0   \n",
       "6                          1.035  ...            506.0            506.0   \n",
       "7                          1.050  ...           3037.0            506.0   \n",
       "8                          1.049  ...           3037.0            506.0   \n",
       "9                          1.036  ...            506.0            506.0   \n",
       "10                         1.030  ...            506.0            506.0   \n",
       "11                         1.036  ...            207.0            207.0   \n",
       "12                         1.048  ...            207.0            207.0   \n",
       "13                         1.039  ...            208.0            208.0   \n",
       "14                         1.062  ...            205.0            205.0   \n",
       "15                         1.069  ...           7365.0           7365.0   \n",
       "16                         1.045  ...           7433.0           7433.0   \n",
       "17                         1.064  ...           5938.0           5938.0   \n",
       "18                         1.047  ...           6584.0           6584.0   \n",
       "19                         1.053  ...           2953.0           2953.0   \n",
       "20                         1.070  ...          19151.0          19151.0   \n",
       "21                         1.066  ...          18144.0          18144.0   \n",
       "22                         1.064  ...          12609.0          12609.0   \n",
       "23                         1.050  ...          11603.0          11603.0   \n",
       "24                         1.076  ...            920.0            383.0   \n",
       "25                         1.046  ...           1171.0            323.0   \n",
       "26                         1.057  ...            966.0            126.0   \n",
       "27                         1.059  ...            681.0            681.0   \n",
       "28                         1.064  ...           1448.0            484.0   \n",
       "29                         1.039  ...            514.0            423.0   \n",
       "\n",
       "    X.capacity_0.98                      X.battery  charge_throughput  \\\n",
       "0             506.0    LFP_15C_0-100_0.5-1C_a_CH00           4524.021   \n",
       "1             506.0    LFP_15C_0-100_0.5-1C_a_CH01           3577.625   \n",
       "2             506.0    LFP_15C_0-100_0.5-1C_a_CH02           3680.164   \n",
       "3             506.0    LFP_15C_0-100_0.5-1C_a_CH03           3655.051   \n",
       "4             207.0    LFP_15C_0-100_0.5-1C_a_CH04           3058.955   \n",
       "5             506.0    LFP_15C_0-100_0.5-1C_a_CH05           3485.849   \n",
       "6             506.0    LFP_15C_0-100_0.5-1C_a_CH06           3530.338   \n",
       "7             506.0    LFP_15C_0-100_0.5-1C_a_CH07           3061.070   \n",
       "8             471.0    LFP_15C_0-100_0.5-1C_a_CH08           3058.092   \n",
       "9             479.0    LFP_15C_0-100_0.5-1C_a_CH09           3469.676   \n",
       "10            506.0    LFP_15C_0-100_0.5-1C_a_CH10           3449.456   \n",
       "11            207.0    LFP_15C_0-100_0.5-1C_a_CH11           4224.976   \n",
       "12            207.0    LFP_15C_0-100_0.5-1C_a_CH12           3772.288   \n",
       "13            208.0    LFP_15C_0-100_0.5-1C_a_CH13           3248.288   \n",
       "14            205.0    LFP_15C_0-100_0.5-1C_a_CH14           3832.846   \n",
       "15           7365.0  LFP_25C_20-80_0.5-0.5C_a_CH15           3484.630   \n",
       "16           7433.0  LFP_25C_20-80_0.5-0.5C_b_CH16           4004.892   \n",
       "17           5938.0  LFP_25C_20-80_0.5-0.5C_c_CH17           3344.767   \n",
       "18           6584.0  LFP_25C_20-80_0.5-0.5C_d_CH18           3647.947   \n",
       "19           2953.0    LFP_25C_20-80_0.5-3C_a_CH19           1960.727   \n",
       "20          19151.0  LFP_25C_40-60_0.5-0.5C_a_CH20           1889.130   \n",
       "21          18144.0  LFP_25C_40-60_0.5-0.5C_b_CH21           2187.720   \n",
       "22          12609.0    LFP_25C_40-60_0.5-3C_a_CH22           2871.171   \n",
       "23          11603.0    LFP_25C_40-60_0.5-3C_b_CH23           2641.030   \n",
       "24            234.0    LFP_35C_0-100_0.5-1C_a_CH24           3086.367   \n",
       "25            241.0    LFP_35C_0-100_0.5-1C_b_CH25           3154.403   \n",
       "26            125.0    LFP_35C_0-100_0.5-1C_c_CH26           3188.106   \n",
       "27            252.0    LFP_35C_0-100_0.5-1C_d_CH27           3647.473   \n",
       "28            316.0    LFP_35C_0-100_0.5-2C_a_CH28           3702.803   \n",
       "29            238.0    LFP_35C_0-100_0.5-2C_b_CH29           3331.642   \n",
       "\n",
       "    X.cycle_index  Temperature  DOD  Charge_rate  Discharge_rate  \n",
       "0          4550.0           15  100          0.5             1.0  \n",
       "1          3552.0           15  100          0.5             1.0  \n",
       "2          3760.0           15  100          0.5             1.0  \n",
       "3          3753.0           15  100          0.5             1.0  \n",
       "4          3049.0           15  100          0.5             1.0  \n",
       "5          3544.0           15  100          0.5             1.0  \n",
       "6          3635.0           15  100          0.5             1.0  \n",
       "7          3037.0           15  100          0.5             1.0  \n",
       "8          3037.0           15  100          0.5             1.0  \n",
       "9          3543.0           15  100          0.5             1.0  \n",
       "10         4049.0           15  100          0.5             1.0  \n",
       "11         4568.0           15  100          0.5             1.0  \n",
       "12         4061.0           15  100          0.5             1.0  \n",
       "13         3554.0           15  100          0.5             1.0  \n",
       "14         4061.0           15  100          0.5             1.0  \n",
       "15         7374.0           25   80          0.5             0.5  \n",
       "16         8395.0           25   80          0.5             0.5  \n",
       "17         5944.0           25   80          0.5             0.5  \n",
       "18         6591.0           25   80          0.5             0.5  \n",
       "19         2958.0           25   80          0.5             3.0  \n",
       "20        19174.0           25   60          0.5             0.5  \n",
       "21        18165.0           25   60          0.5             0.5  \n",
       "22        12627.0           25   60          0.5             3.0  \n",
       "23        11620.0           25   60          0.5             3.0  \n",
       "24         3155.0           35  100          0.5             1.0  \n",
       "25         3341.0           35  100          0.5             1.0  \n",
       "26         3341.0           35  100          0.5             1.0  \n",
       "27         3797.0           35  100          0.5             1.0  \n",
       "28         3855.0           35  100          0.5             2.0  \n",
       "29         3597.0           35  100          0.5             2.0  \n",
       "\n",
       "[30 rows x 33 columns]"
      ]
     },
     "execution_count": 176,
     "metadata": {},
     "output_type": "execute_result"
    }
   ],
   "source": [
    "new_ct_full"
   ]
  },
  {
   "cell_type": "code",
   "execution_count": 177,
   "metadata": {},
   "outputs": [],
   "source": [
    "train_ind = [i for i in range(0, len(new_ct_full), 2)]\n",
    "test_ind = [i for i in range(1, len(new_ct_full), 2)]\n",
    "\n",
    "new_test_ind = test_ind"
   ]
  },
  {
   "cell_type": "code",
   "execution_count": 178,
   "metadata": {},
   "outputs": [],
   "source": [
    "if scaled:\n",
    "    if old_new_scaler:\n",
    "        if new_chemistries & chem_sources:\n",
    "            all_model_features = all_model_features + chemistries\n",
    "        X_train_all_new = new_ct_full.iloc[train_ind][all_model_features].replace([np.inf, -np.inf, 0], np.nan)\n",
    "        X_train_all_new.dropna(axis=0, inplace=True)\n",
    "        X_test_all_new = new_ct_full.iloc[test_ind][all_model_features].replace([np.inf, -np.inf, 0], np.nan)\n",
    "        X_test_all_new.dropna(axis=0, inplace=True)\n",
    "\n",
    "        X_train_all_new, X_test_all_new = scale(X_train_all_new, X_test_all_new)\n",
    "\n",
    "        X_train_all_new[y] = new_ct_full.iloc[train_ind][y]\n",
    "        X_test_all_new[y] = new_ct_full.iloc[test_ind][y]\n",
    "        \n",
    "        X_all_new = X_train_all_new.append(X_test_all_new)"
   ]
  },
  {
   "cell_type": "markdown",
   "metadata": {},
   "source": [
    "### Variance Model [New Data]"
   ]
  },
  {
   "cell_type": "markdown",
   "metadata": {},
   "source": [
    "#### Linear Regression"
   ]
  },
  {
   "cell_type": "code",
   "execution_count": 179,
   "metadata": {},
   "outputs": [],
   "source": [
    "X_train_var = new_ct_full.iloc[train_ind][variance_model_features]\n",
    "X_train_var.dropna(axis=0, inplace=True)\n",
    "y_train = new_ct_full.iloc[X_train_var.index][[y]]\n",
    "\n",
    "X_test_var = new_ct_full.iloc[test_ind][variance_model_features]\n",
    "X_test_var.dropna(axis=0, inplace=True)\n",
    "y_test = new_ct_full.iloc[X_test_var.index][[y]]\n",
    "\n",
    "if scaled:\n",
    "    X_train_var, X_test_var = scale(X_train_var, X_test_var)"
   ]
  },
  {
   "cell_type": "code",
   "execution_count": 180,
   "metadata": {},
   "outputs": [],
   "source": [
    "reg_var = LinearRegression().fit(X_train_var,y_train)\n",
    "y_pred_train_var = reg_var.predict(X_train_var)\n",
    "y_pred_test_var = reg_var.predict(X_test_var)"
   ]
  },
  {
   "cell_type": "code",
   "execution_count": 181,
   "metadata": {},
   "outputs": [
    {
     "name": "stdout",
     "output_type": "stream",
     "text": [
      "Variance Basic Linear Regression Model\n",
      "Test RMSE:  782.3137231215597\n",
      "Mean % Test Error:  18.419035425453462\n"
     ]
    }
   ],
   "source": [
    "rmse_train_var = np.sqrt(mean_squared_error(y_train, y_pred_train_var))\n",
    "rmse_test_var = np.sqrt(mean_squared_error(y_test, y_pred_test_var))\n",
    "mape_train_var = mean_absolute_percentage_error(y_train, y_pred_train_var)*100\n",
    "mape_test_var = mean_absolute_percentage_error(y_test, y_pred_test_var)*100\n",
    "\n",
    "print(\"Variance Basic Linear Regression Model\")\n",
    "# print(\"Training RMSE: \", rmse_train_var)\n",
    "print(\"Test RMSE: \", rmse_test_var)\n",
    "# print(\"Mean % Train Error: \", mape_train_var)\n",
    "print(\"Mean % Test Error: \", mape_test_var)"
   ]
  },
  {
   "cell_type": "code",
   "execution_count": 182,
   "metadata": {},
   "outputs": [
    {
     "data": {
      "text/plain": [
       "Text(0.5, 1.0, 'Variance Model Predicted vs. True Values (LR) [New Data]')"
      ]
     },
     "execution_count": 182,
     "metadata": {},
     "output_type": "execute_result"
    },
    {
     "data": {
      "image/png": "[encoded data removed]",
      "text/plain": [
       "<Figure size 432x288 with 1 Axes>"
      ]
     },
     "metadata": {
      "needs_background": "light"
     },
     "output_type": "display_data"
    }
   ],
   "source": [
    "# Linear Regression\n",
    "max_var = y_test.max()[0]\n",
    "\n",
    "plt.scatter(y_test, y_pred_test_var)\n",
    "plt.plot([0, max_var], [0, max_var], color=\"red\")\n",
    "plt.xlabel(\"True Values\")\n",
    "plt.ylabel(\"Predicted Values\")\n",
    "plt.title(\"Variance Model Predicted vs. True Values (LR) [New Data]\")"
   ]
  },
  {
   "cell_type": "markdown",
   "metadata": {},
   "source": [
    "#### Elastic Net"
   ]
  },
  {
   "cell_type": "code",
   "execution_count": 183,
   "metadata": {},
   "outputs": [],
   "source": [
    "k_fold = 5\n",
    "l1_ratios = [i/20 for i in range(1, 21)]\n",
    "max_iter = 1000000\n",
    "random_state = 1\n",
    "test_size = 2\n",
    "tol = 0.0001\n",
    "\n",
    "models = []\n",
    "y_pred_trains = []\n",
    "y_pred_tests = []\n",
    "train_rmses = []\n",
    "test_rmses = []\n",
    "train_mapes = []\n",
    "test_mapes = []\n",
    "\n",
    "for l1_ratio in l1_ratios:\n",
    "    elasticnetcv = ElasticNetCV(\n",
    "        fit_intercept=True,\n",
    "        normalize=False,\n",
    "        alphas=None,\n",
    "        cv=k_fold,\n",
    "        l1_ratio=l1_ratio,\n",
    "        max_iter=max_iter,\n",
    "    )\n",
    "    elasticnetcv.fit(X_train_var, y_train.values.ravel())\n",
    "\n",
    "    elasticnet_var = ElasticNet(\n",
    "        fit_intercept=True,\n",
    "        normalize=False,\n",
    "        l1_ratio=elasticnetcv.l1_ratio_,\n",
    "        alpha=elasticnetcv.alpha_,\n",
    "        max_iter=max_iter,\n",
    "    )\n",
    "\n",
    "    elasticnet_var.fit(X_train_var, y_train.values.ravel())\n",
    "    y_pred_train_en_var = elasticnet_var.predict(X_train_var)\n",
    "    y_pred_test_en_var = elasticnet_var.predict(X_test_var)\n",
    "\n",
    "    rmse_train_en_var = np.sqrt(mean_squared_error(y_train, y_pred_train_en_var))\n",
    "    rmse_test_en_var = np.sqrt(mean_squared_error(y_test, y_pred_test_en_var))\n",
    "    mape_train_en_var = mean_absolute_percentage_error(y_train, y_pred_train_en_var)*100\n",
    "    mape_test_en_var = mean_absolute_percentage_error(y_test, y_pred_test_en_var)*100\n",
    "\n",
    "    models.append(elasticnet_var)\n",
    "    y_pred_trains.append(y_pred_train_en_var)\n",
    "    y_pred_tests.append(y_pred_test_en_var)\n",
    "    train_rmses.append(rmse_train_en_var)\n",
    "    test_rmses.append(rmse_test_en_var)\n",
    "    train_mapes.append(mape_train_en_var)\n",
    "    test_mapes.append(mape_test_en_var)\n",
    "\n",
    "best_model_index = test_rmses.index(min(test_rmses))"
   ]
  },
  {
   "cell_type": "code",
   "execution_count": 184,
   "metadata": {},
   "outputs": [
    {
     "name": "stdout",
     "output_type": "stream",
     "text": [
      "Variance Elastic Net Model\n",
      "l1_ratio = 0.95\n",
      "Test RMSE:  569.2365177816481\n",
      "Test Mean Absolute % Error:  14.8411771550393\n"
     ]
    }
   ],
   "source": [
    "elasticnet_var = models[best_model_index]\n",
    "y_pred_train_en_var = y_pred_trains[best_model_index]\n",
    "y_pred_test_en_var = y_pred_tests[best_model_index]\n",
    "rmse_train_var_en = train_rmses[best_model_index]\n",
    "rmse_test_var_en = test_rmses[best_model_index]\n",
    "l1_ratio_var = l1_ratios[best_model_index]\n",
    "mape_train_var_en = train_mapes[best_model_index]\n",
    "mape_test_var_en = test_mapes[best_model_index]\n",
    "\n",
    "print(\"Variance Elastic Net Model\")\n",
    "print(\"l1_ratio =\", l1_ratio_var)\n",
    "print(\"Test RMSE: \", rmse_test_var_en)\n",
    "print(\"Test Mean Absolute % Error: \", mape_test_var_en)"
   ]
  },
  {
   "cell_type": "code",
   "execution_count": 185,
   "metadata": {},
   "outputs": [
    {
     "data": {
      "image/png": "[encoded data removed]",
      "text/plain": [
       "<Figure size 432x288 with 1 Axes>"
      ]
     },
     "metadata": {
      "needs_background": "light"
     },
     "output_type": "display_data"
    }
   ],
   "source": [
    "plt.scatter(l1_ratios, test_rmses)\n",
    "plt.title(\"Test RMSE by Ridge/Lasso Ratio (Variance Model)\")\n",
    "plt.xlabel(\"L1 Ratio (0 = Ridge, 1 = Lasso)\")\n",
    "plt.ylabel(\"Test RMSE\");"
   ]
  },
  {
   "cell_type": "code",
   "execution_count": 186,
   "metadata": {},
   "outputs": [
    {
     "data": {
      "text/plain": [
       "Text(0.5, 1.0, 'Variance Model Predicted vs. True Values (EN) [New Data]')"
      ]
     },
     "execution_count": 186,
     "metadata": {},
     "output_type": "execute_result"
    },
    {
     "data": {
      "image/png": "[encoded data removed]",
      "text/plain": [
       "<Figure size 432x288 with 1 Axes>"
      ]
     },
     "metadata": {
      "needs_background": "light"
     },
     "output_type": "display_data"
    }
   ],
   "source": [
    "#Elastic Net\n",
    "max_var = y_test.max()[0]\n",
    "\n",
    "plt.scatter(y_test, y_pred_test_en_var)\n",
    "plt.plot([0, max_var], [0, max_var], color=\"red\")\n",
    "plt.xlabel(\"True Values\")\n",
    "plt.ylabel(\"Predicted Values\")\n",
    "plt.title(\"Variance Model Predicted vs. True Values (EN) [New Data]\")"
   ]
  },
  {
   "cell_type": "code",
   "execution_count": 187,
   "metadata": {},
   "outputs": [],
   "source": [
    "model_name = \"Variance\"\n",
    "source = \"New\"\n",
    "\n",
    "results_df = results_df.append(cond.append(pd.Series({\"L_rmse\": rmse_test_var, \"EN_rmse\":rmse_test_var_en, \n",
    "                                                      \"L_mape\": mape_test_var, \"EN_mape\":mape_test_var_en, \n",
    "                                                      \"model\":model_name, \"data\":source, \"coef\":elasticnet_var.coef_})),\n",
    "                               ignore_index=True)"
   ]
  },
  {
   "cell_type": "markdown",
   "metadata": {},
   "source": [
    "### Discharge Model [New Data]"
   ]
  },
  {
   "cell_type": "markdown",
   "metadata": {},
   "source": [
    "#### Linear Regression"
   ]
  },
  {
   "cell_type": "code",
   "execution_count": 188,
   "metadata": {},
   "outputs": [],
   "source": [
    "X_train_dis = new_ct_full.iloc[train_ind][discharge_model_features].replace([np.inf, -np.inf, 0], np.nan)\n",
    "X_train_dis.dropna(axis=0, inplace=True)\n",
    "y_train = new_ct_full.iloc[X_train_dis.index][[y]]\n",
    "\n",
    "X_test_dis = new_ct_full.iloc[test_ind][discharge_model_features].replace([np.inf, -np.inf, 0], np.nan)\n",
    "X_test_dis.dropna(axis=0, inplace=True)\n",
    "y_test = new_ct_full.iloc[X_test_dis.index][[y]]\n",
    "\n",
    "if scaled:\n",
    "    X_train_dis, X_test_dis = scale(X_train_dis, X_test_dis)"
   ]
  },
  {
   "cell_type": "code",
   "execution_count": 189,
   "metadata": {},
   "outputs": [],
   "source": [
    "reg_dis = LinearRegression().fit(X_train_dis,y_train)\n",
    "y_pred_train_dis = reg_dis.predict(X_train_dis)\n",
    "y_pred_test_dis = reg_dis.predict(X_test_dis)"
   ]
  },
  {
   "cell_type": "code",
   "execution_count": 190,
   "metadata": {},
   "outputs": [
    {
     "name": "stdout",
     "output_type": "stream",
     "text": [
      "Discharge Basic Linear Regression Model\n",
      "Test RMSE:  3237.8845029563513\n",
      "Mean % Test Error:  0.7821102845377748\n"
     ]
    }
   ],
   "source": [
    "rmse_train_dis = np.sqrt(mean_squared_error(y_train, y_pred_train_dis))\n",
    "rmse_test_dis = np.sqrt(mean_squared_error(y_test, y_pred_test_dis))\n",
    "mape_train_dis = mean_absolute_percentage_error(y_train, y_pred_train_dis)*100\n",
    "mape_test_dis = mean_absolute_percentage_error(y_test, y_pred_test_dis)*100\n",
    "\n",
    "print(\"Discharge Basic Linear Regression Model\")\n",
    "# print(\"Training RMSE: \", np.sqrt(mean_squared_error(y_train, y_pred_train_dis)))\n",
    "print(\"Test RMSE: \", np.sqrt(mean_squared_error(y_test, y_pred_test_dis)))\n",
    "# print(\"Mean % Train Error: \", mean_absolute_percentage_error(y_train, y_pred_train_dis))\n",
    "print(\"Mean % Test Error: \", mean_absolute_percentage_error(y_test, y_pred_test_dis))"
   ]
  },
  {
   "cell_type": "code",
   "execution_count": 191,
   "metadata": {},
   "outputs": [
    {
     "data": {
      "text/plain": [
       "Text(0.5, 1.0, 'Discharge Model Predicted vs. True Values (LR) [New Data]')"
      ]
     },
     "execution_count": 191,
     "metadata": {},
     "output_type": "execute_result"
    },
    {
     "data": {
      "image/png": "[encoded data removed]",
      "text/plain": [
       "<Figure size 432x288 with 1 Axes>"
      ]
     },
     "metadata": {
      "needs_background": "light"
     },
     "output_type": "display_data"
    }
   ],
   "source": [
    "# Linear Regression\n",
    "max_dis = y_test.max()[0]\n",
    "\n",
    "plt.scatter(y_test, y_pred_test_dis)\n",
    "plt.plot([0, max_dis], [0, max_dis], color=\"red\")\n",
    "plt.xlabel(\"True Values\")\n",
    "plt.ylabel(\"Predicted Values\")\n",
    "plt.title(\"Discharge Model Predicted vs. True Values (LR) [New Data]\")"
   ]
  },
  {
   "cell_type": "markdown",
   "metadata": {},
   "source": [
    "#### Elastic Net"
   ]
  },
  {
   "cell_type": "code",
   "execution_count": 192,
   "metadata": {},
   "outputs": [],
   "source": [
    "k_fold = 5\n",
    "l1_ratios = [i/20 for i in range(1, 21)]\n",
    "max_iter = 1000000\n",
    "random_state = 1\n",
    "test_size = 2\n",
    "tol = 0.0001\n",
    "\n",
    "models = []\n",
    "y_pred_trains = []\n",
    "y_pred_tests = []\n",
    "train_rmses = []\n",
    "test_rmses = []\n",
    "train_mapes = []\n",
    "test_mapes = []\n",
    "\n",
    "for l1_ratio in l1_ratios:\n",
    "    elasticnetcv = ElasticNetCV(\n",
    "        fit_intercept=True,\n",
    "        normalize=False,\n",
    "        alphas=None,\n",
    "        cv=k_fold,\n",
    "        l1_ratio=l1_ratio,\n",
    "        max_iter=max_iter,\n",
    "    )\n",
    "    elasticnetcv.fit(X_train_dis, y_train.values.ravel())\n",
    "\n",
    "    elasticnet_dis = ElasticNet(\n",
    "        fit_intercept=True,\n",
    "        normalize=False,\n",
    "        l1_ratio=elasticnetcv.l1_ratio_,\n",
    "        alpha=elasticnetcv.alpha_,\n",
    "        max_iter=max_iter,\n",
    "    )\n",
    "\n",
    "    elasticnet_dis.fit(X_train_dis, y_train.values.ravel())\n",
    "    y_pred_train_en_dis = elasticnet_dis.predict(X_train_dis)\n",
    "    y_pred_test_en_dis = elasticnet_dis.predict(X_test_dis)\n",
    "\n",
    "    rmse_train_en_dis = np.sqrt(mean_squared_error(y_train, y_pred_train_en_dis))\n",
    "    rmse_test_en_dis = np.sqrt(mean_squared_error(y_test, y_pred_test_en_dis))\n",
    "    mape_train_en_dis = mean_absolute_percentage_error(y_train, y_pred_train_en_dis)*100\n",
    "    mape_test_en_dis = mean_absolute_percentage_error(y_test, y_pred_test_en_dis)*100\n",
    "\n",
    "    models.append(elasticnet_dis)\n",
    "    y_pred_trains.append(y_pred_train_en_dis)\n",
    "    y_pred_tests.append(y_pred_test_en_dis)\n",
    "    train_rmses.append(rmse_train_en_dis)\n",
    "    test_rmses.append(rmse_test_en_dis)\n",
    "    train_mapes.append(mape_train_en_dis)\n",
    "    test_mapes.append(mape_test_en_dis)\n",
    "\n",
    "best_model_index = test_rmses.index(min(test_rmses))"
   ]
  },
  {
   "cell_type": "code",
   "execution_count": 193,
   "metadata": {},
   "outputs": [
    {
     "name": "stdout",
     "output_type": "stream",
     "text": [
      "Discharge Elastic Net Model\n",
      "l1_ratio = 1.0\n",
      "Test RMSE:  493.42788931970017\n",
      "Test Mean Absolute % Error:  14.084639137012866\n"
     ]
    }
   ],
   "source": [
    "elasticnet_dis = models[best_model_index]\n",
    "y_pred_train_en_dis = y_pred_trains[best_model_index]\n",
    "y_pred_test_en_dis = y_pred_tests[best_model_index]\n",
    "rmse_train_dis_en = train_rmses[best_model_index]\n",
    "rmse_test_dis_en = test_rmses[best_model_index]\n",
    "l1_ratio_dis = l1_ratios[best_model_index]\n",
    "mape_train_dis_en = train_mapes[best_model_index]\n",
    "mape_test_dis_en = test_mapes[best_model_index]\n",
    "\n",
    "print(\"Discharge Elastic Net Model\")\n",
    "print(\"l1_ratio =\", l1_ratio_dis)\n",
    "print(\"Test RMSE: \", rmse_test_dis_en)\n",
    "print(\"Test Mean Absolute % Error: \", mape_test_dis_en)"
   ]
  },
  {
   "cell_type": "code",
   "execution_count": 194,
   "metadata": {},
   "outputs": [
    {
     "data": {
      "image/png": "[encoded data removed]",
      "text/plain": [
       "<Figure size 432x288 with 1 Axes>"
      ]
     },
     "metadata": {
      "needs_background": "light"
     },
     "output_type": "display_data"
    }
   ],
   "source": [
    "plt.scatter(l1_ratios, test_rmses)\n",
    "plt.title(\"Test RMSE by Ridge/Lasso Ratio (Discharge Model)\")\n",
    "plt.xlabel(\"L1 Ratio (0 = Ridge, 1 = Lasso)\")\n",
    "plt.ylabel(\"Test RMSE\");"
   ]
  },
  {
   "cell_type": "code",
   "execution_count": 195,
   "metadata": {},
   "outputs": [
    {
     "data": {
      "text/plain": [
       "Text(0.5, 1.0, 'Discharge Model Predicted vs. True Values (EN) [New Data]')"
      ]
     },
     "execution_count": 195,
     "metadata": {},
     "output_type": "execute_result"
    },
    {
     "data": {
      "image/png": "[encoded data removed]",
      "text/plain": [
       "<Figure size 432x288 with 1 Axes>"
      ]
     },
     "metadata": {
      "needs_background": "light"
     },
     "output_type": "display_data"
    }
   ],
   "source": [
    "#Elastic Net\n",
    "max_dis = y_test.max()[0]\n",
    "\n",
    "plt.scatter(y_test, y_pred_test_en_dis)\n",
    "plt.plot([0, max_dis], [0, max_dis], color=\"red\")\n",
    "plt.xlabel(\"True Values\")\n",
    "plt.ylabel(\"Predicted Values\")\n",
    "plt.title(\"Discharge Model Predicted vs. True Values (EN) [New Data]\")"
   ]
  },
  {
   "cell_type": "code",
   "execution_count": 196,
   "metadata": {},
   "outputs": [],
   "source": [
    "model_name = \"Discharge\"\n",
    "source = \"New\"\n",
    "\n",
    "results_df = results_df.append(cond.append(pd.Series({\"L_rmse\": rmse_test_dis, \"EN_rmse\":rmse_test_dis_en, \n",
    "                                                      \"L_mape\": mape_test_dis, \"EN_mape\":mape_test_dis_en, \n",
    "                                                      \"model\":model_name, \"data\":source, \"coef\":elasticnet_dis.coef_})),\n",
    "                               ignore_index=True)"
   ]
  },
  {
   "cell_type": "markdown",
   "metadata": {},
   "source": [
    "### Full Model [New Data]"
   ]
  },
  {
   "cell_type": "markdown",
   "metadata": {},
   "source": [
    "#### Linear Regression"
   ]
  },
  {
   "cell_type": "code",
   "execution_count": 197,
   "metadata": {},
   "outputs": [],
   "source": [
    "X_train_full = new_ct_full.iloc[train_ind][full_model_features].replace([np.inf, -np.inf, 0], np.nan)\n",
    "X_train_full.dropna(axis=0, inplace=True) \n",
    "y_train = new_ct_full.iloc[X_train_full.index][[y]]\n",
    "\n",
    "X_test_full = new_ct_full.iloc[test_ind][full_model_features].replace([np.inf, -np.inf, 0], np.nan)\n",
    "X_test_full.dropna(axis=0, inplace=True) \n",
    "y_test = new_ct_full.iloc[X_test_full.index][[y]]\n",
    "\n",
    "if scaled:\n",
    "    X_train_full, X_test_full = scale(X_train_full, X_test_full)"
   ]
  },
  {
   "cell_type": "code",
   "execution_count": 198,
   "metadata": {},
   "outputs": [],
   "source": [
    "reg_full = LinearRegression().fit(X_train_full,y_train)\n",
    "y_pred_train_full = reg_full.predict(X_train_full)\n",
    "y_pred_test_full = reg_full.predict(X_test_full)"
   ]
  },
  {
   "cell_type": "code",
   "execution_count": 199,
   "metadata": {},
   "outputs": [
    {
     "name": "stdout",
     "output_type": "stream",
     "text": [
      "Full Basic Linear Regression Model\n",
      "Test RMSE:  1685.101193523774\n",
      "Mean % Test Error:  0.38015524889555397\n"
     ]
    }
   ],
   "source": [
    "rmse_train_full = np.sqrt(mean_squared_error(y_train, y_pred_train_full))\n",
    "rmse_test_full = np.sqrt(mean_squared_error(y_test, y_pred_test_full))\n",
    "mape_train_full = mean_absolute_percentage_error(y_train, y_pred_train_full)*100\n",
    "mape_test_full = mean_absolute_percentage_error(y_test, y_pred_test_full)*100\n",
    "\n",
    "print(\"Full Basic Linear Regression Model\")\n",
    "# print(\"Training RMSE: \", np.sqrt(mean_squared_error(y_train, y_pred_train_full)))\n",
    "print(\"Test RMSE: \", np.sqrt(mean_squared_error(y_test, y_pred_test_full)))\n",
    "# print(\"Mean % Train Error: \", mean_absolute_percentage_error(y_train, y_pred_train_full))\n",
    "print(\"Mean % Test Error: \", mean_absolute_percentage_error(y_test, y_pred_test_full))"
   ]
  },
  {
   "cell_type": "code",
   "execution_count": 200,
   "metadata": {},
   "outputs": [
    {
     "data": {
      "text/plain": [
       "Text(0.5, 1.0, 'Full Model Predicted vs. True Values (LR) [New Data]')"
      ]
     },
     "execution_count": 200,
     "metadata": {},
     "output_type": "execute_result"
    },
    {
     "data": {
      "image/png": "[encoded data removed]",
      "text/plain": [
       "<Figure size 432x288 with 1 Axes>"
      ]
     },
     "metadata": {
      "needs_background": "light"
     },
     "output_type": "display_data"
    }
   ],
   "source": [
    "#Linear Regression\n",
    "max_full = y_test.max()[0]\n",
    "\n",
    "plt.scatter(y_test, y_pred_test_full)\n",
    "plt.plot([0, max_full], [0, max_full], color=\"red\")\n",
    "plt.xlabel(\"True Values\")\n",
    "plt.ylabel(\"Predicted Values\")\n",
    "plt.title(\"Full Model Predicted vs. True Values (LR) [New Data]\")"
   ]
  },
  {
   "cell_type": "markdown",
   "metadata": {},
   "source": [
    "#### Elastic Net"
   ]
  },
  {
   "cell_type": "code",
   "execution_count": 201,
   "metadata": {},
   "outputs": [],
   "source": [
    "k_fold = 5\n",
    "l1_ratios = [i/20 for i in range(1, 21)]\n",
    "max_iter = 1000000\n",
    "random_state = 1\n",
    "test_size = 2\n",
    "tol = 0.0001\n",
    "\n",
    "models = []\n",
    "y_pred_trains = []\n",
    "y_pred_tests = []\n",
    "train_rmses = []\n",
    "test_rmses = []\n",
    "train_mapes = []\n",
    "test_mapes = []\n",
    "\n",
    "for l1_ratio in l1_ratios:\n",
    "    elasticnetcv = ElasticNetCV(\n",
    "        fit_intercept=True,\n",
    "        normalize=False,\n",
    "        alphas=None,\n",
    "        cv=k_fold,\n",
    "        l1_ratio=l1_ratio,\n",
    "        max_iter=max_iter,\n",
    "    )\n",
    "    \n",
    "    elasticnetcv.fit(X_train_full, y_train.values.ravel())\n",
    "\n",
    "    elasticnet_full = ElasticNet(\n",
    "        fit_intercept=True,\n",
    "        normalize=False,\n",
    "        l1_ratio=elasticnetcv.l1_ratio_,\n",
    "        alpha=elasticnetcv.alpha_,\n",
    "        max_iter=max_iter,\n",
    "    )\n",
    "    \n",
    "    elasticnet_full.fit(X_train_full, y_train.values.ravel())\n",
    "    y_pred_train_en_full = elasticnet_full.predict(X_train_full)\n",
    "    y_pred_test_en_full = elasticnet_full.predict(X_test_full)\n",
    "\n",
    "    rmse_train_en_full = np.sqrt(mean_squared_error(y_train, y_pred_train_en_full))\n",
    "    rmse_test_en_full = np.sqrt(mean_squared_error(y_test, y_pred_test_en_full))\n",
    "    mape_train_en_full = mean_absolute_percentage_error(y_train, y_pred_train_en_full)*100\n",
    "    mape_test_en_full = mean_absolute_percentage_error(y_test, y_pred_test_en_full)*100\n",
    "\n",
    "    models.append(elasticnet_full)\n",
    "    y_pred_trains.append(y_pred_train_en_full)\n",
    "    y_pred_tests.append(y_pred_test_en_full)\n",
    "    train_rmses.append(rmse_train_en_full)\n",
    "    test_rmses.append(rmse_test_en_full)\n",
    "    train_mapes.append(mape_train_en_full)\n",
    "    test_mapes.append(mape_test_en_full)\n",
    "\n",
    "best_model_index = test_rmses.index(min(test_rmses))"
   ]
  },
  {
   "cell_type": "code",
   "execution_count": 202,
   "metadata": {},
   "outputs": [
    {
     "name": "stdout",
     "output_type": "stream",
     "text": [
      "Full Elastic Net Model\n",
      "l1_ratio = 0.05\n",
      "Test RMSE:  633.876076158717\n",
      "Test Mean Absolute % Error:  16.314351258507102\n"
     ]
    }
   ],
   "source": [
    "elasticnet_full = models[best_model_index]\n",
    "y_pred_train_en_full = y_pred_trains[best_model_index]\n",
    "y_pred_test_en_full = y_pred_tests[best_model_index]\n",
    "rmse_train_full_en = train_rmses[best_model_index]\n",
    "rmse_test_full_en = test_rmses[best_model_index]\n",
    "l1_ratio_full = l1_ratios[best_model_index]\n",
    "mape_train_full_en = train_mapes[best_model_index]\n",
    "mape_test_full_en = test_mapes[best_model_index]\n",
    "\n",
    "print(\"Full Elastic Net Model\")\n",
    "print(\"l1_ratio =\", l1_ratio_full)\n",
    "print(\"Test RMSE: \", rmse_test_full_en)\n",
    "print(\"Test Mean Absolute % Error: \", mape_test_full_en)"
   ]
  },
  {
   "cell_type": "code",
   "execution_count": 203,
   "metadata": {
    "scrolled": true
   },
   "outputs": [
    {
     "data": {
      "image/png": "[encoded data removed]",
      "text/plain": [
       "<Figure size 432x288 with 1 Axes>"
      ]
     },
     "metadata": {
      "needs_background": "light"
     },
     "output_type": "display_data"
    }
   ],
   "source": [
    "plt.scatter(l1_ratios, test_rmses)\n",
    "plt.title(\"Test RMSE by Ridge/Lasso Ratio (Full Model)\")\n",
    "plt.xlabel(\"L1 Ratio (0 = Ridge, 1 = Lasso)\")\n",
    "plt.ylabel(\"Test RMSE\");"
   ]
  },
  {
   "cell_type": "code",
   "execution_count": 204,
   "metadata": {},
   "outputs": [
    {
     "data": {
      "text/plain": [
       "Text(0.5, 1.0, 'Full Model Predicted vs. True Values (EN) [New Data]')"
      ]
     },
     "execution_count": 204,
     "metadata": {},
     "output_type": "execute_result"
    },
    {
     "data": {
      "image/png": "[encoded data removed]",
      "text/plain": [
       "<Figure size 432x288 with 1 Axes>"
      ]
     },
     "metadata": {
      "needs_background": "light"
     },
     "output_type": "display_data"
    }
   ],
   "source": [
    "#Elastic Net\n",
    "max_full = y_test.max()[0]\n",
    "\n",
    "plt.scatter(y_test, y_pred_test_en_full)\n",
    "plt.plot([0, max_full], [0, max_full], color=\"red\")\n",
    "plt.xlabel(\"True Values\")\n",
    "plt.ylabel(\"Predicted Values\")\n",
    "plt.title(\"Full Model Predicted vs. True Values (EN) [New Data]\")"
   ]
  },
  {
   "cell_type": "code",
   "execution_count": 205,
   "metadata": {},
   "outputs": [],
   "source": [
    "model_name = \"Full\"\n",
    "source = \"New\"\n",
    "\n",
    "results_df = results_df.append(cond.append(pd.Series({\"L_rmse\": rmse_test_full, \"EN_rmse\":rmse_test_full_en, \n",
    "                                                      \"L_mape\": mape_test_full, \"EN_mape\":mape_test_full_en, \n",
    "                                                      \"model\":model_name, \"data\":source, \"coef\":elasticnet_full.coef_})),\n",
    "                               ignore_index=True)"
   ]
  },
  {
   "cell_type": "markdown",
   "metadata": {},
   "source": [
    "### New Data Plots"
   ]
  },
  {
   "cell_type": "code",
   "execution_count": 206,
   "metadata": {},
   "outputs": [
    {
     "data": {
      "image/png": "[encoded data removed]",
      "text/plain": [
       "<Figure size 432x288 with 1 Axes>"
      ]
     },
     "metadata": {
      "needs_background": "light"
     },
     "output_type": "display_data"
    }
   ],
   "source": [
    "plt.hist(new_ct_full[y])\n",
    "plt.ylabel('Frequency')\n",
    "if ct:\n",
    "    plt.xlabel('Charge Throughput')\n",
    "    plt.title('Frequency of Charge Throughput')\n",
    "else:\n",
    "    plt.xlabel('Cycle Life')\n",
    "    plt.title('Frequency of Cycle Life (New Data)')"
   ]
  },
  {
   "cell_type": "code",
   "execution_count": 207,
   "metadata": {},
   "outputs": [],
   "source": [
    "new_data_metrics = pd.DataFrame(data = {\n",
    "    \n",
    "                               \"Model & Source\": [\"Var (Linear)\", \"Var (E.N.)\", \n",
    "                                                  \"Disc (Linear)\", \"Disc (E.N.)\",\n",
    "                                                  \"Full (Linear)\", \"Full (E.N.)\"],\n",
    "                               \n",
    "                               \"Model\": [\"Variance\", \"Variance\",\n",
    "                                         \"Discharge\", \"Discharge\",\n",
    "                                         \"Full\", \"Full\"],\n",
    "                                        \n",
    "                               \"Source\": [\"Basic Linear Regression\", \"Elastic Net\",\n",
    "                                          \"Basic Linear Regression\", \"Elastic Net\",\n",
    "                                          \"Basic Linear Regression\", \"Elastic Net\"],\n",
    "                                        \n",
    "                               \"Train RMSE\": [rmse_train_var, rmse_train_var_en,\n",
    "                                              rmse_train_dis, rmse_train_dis_en,\n",
    "                                              rmse_train_full, rmse_train_full_en],\n",
    "                               \n",
    "                               \"Test RMSE\": [rmse_test_var, rmse_test_var_en,\n",
    "                                             rmse_test_dis, rmse_test_dis_en,\n",
    "                                             rmse_test_full, rmse_test_full_en],\n",
    "                               \n",
    "                               \"Train MAPE\": [mape_train_var, mape_train_var_en,\n",
    "                                              mape_train_dis, mape_train_dis_en,\n",
    "                                              mape_train_full, mape_train_full_en],\n",
    "                               \n",
    "                               \"Test MAPE\": [mape_test_var, mape_test_var_en,\n",
    "                                             mape_test_dis, mape_test_dis_en,\n",
    "                                             mape_test_full, mape_test_full_en]})"
   ]
  },
  {
   "cell_type": "code",
   "execution_count": 208,
   "metadata": {},
   "outputs": [
    {
     "data": {
      "image/png": "[encoded data removed]",
      "text/plain": [
       "<Figure size 515.375x360 with 1 Axes>"
      ]
     },
     "metadata": {
      "needs_background": "light"
     },
     "output_type": "display_data"
    },
    {
     "data": {
      "image/png": "[encoded data removed]",
      "text/plain": [
       "<Figure size 515.375x360 with 1 Axes>"
      ]
     },
     "metadata": {
      "needs_background": "light"
     },
     "output_type": "display_data"
    },
    {
     "data": {
      "image/png": "[encoded data removed]",
      "text/plain": [
       "<Figure size 515.375x360 with 1 Axes>"
      ]
     },
     "metadata": {
      "needs_background": "light"
     },
     "output_type": "display_data"
    },
    {
     "data": {
      "image/png": "[encoded data removed]",
      "text/plain": [
       "<Figure size 515.375x360 with 1 Axes>"
      ]
     },
     "metadata": {
      "needs_background": "light"
     },
     "output_type": "display_data"
    }
   ],
   "source": [
    "for column in new_data_metrics.columns[3:]:\n",
    "    sns.catplot(data = new_data_metrics, kind=\"bar\",\n",
    "               x = \"Model\", y = column, hue = \"Source\")\n",
    "    plt.title(column + \" Comparison [New Data]\")"
   ]
  },
  {
   "cell_type": "markdown",
   "metadata": {},
   "source": [
    "## Combined (Old+New) Data"
   ]
  },
  {
   "cell_type": "markdown",
   "metadata": {},
   "source": [
    "### Combining the old and new data"
   ]
  },
  {
   "cell_type": "code",
   "execution_count": 209,
   "metadata": {},
   "outputs": [],
   "source": [
    "if sources:\n",
    "    old_ct[\"Source\"] = -1\n",
    "    new_ct_full[\"Source\"] = 1\n",
    "    variance_model_features.append(\"Source\")\n",
    "    discharge_model_features.append(\"Source\")\n",
    "    full_model_features.append(\"Source\")\n",
    "\n",
    "if new_chemistries & chem_sources:\n",
    "    old_ct[\"X.LFP\"] = new_ct_full.iloc[0][\"X.LFP\"]\n",
    "    old_ct[\"X.NCA\"] = new_ct_full.iloc[0][\"X.NCA\"]\n",
    "    old_ct[\"X.NMC\"] = new_ct_full.iloc[0][\"X.NMC\"]"
   ]
  },
  {
   "cell_type": "code",
   "execution_count": 210,
   "metadata": {},
   "outputs": [],
   "source": [
    "full_data = old_ct.append(new_ct_full)\n",
    "full_data = full_data.reset_index()"
   ]
  },
  {
   "cell_type": "code",
   "execution_count": 211,
   "metadata": {},
   "outputs": [],
   "source": [
    "if scaled:\n",
    "    if old_new_scaler:\n",
    "        if sources:\n",
    "            X_all_old[\"Source\"] = -1\n",
    "            X_all_new[\"Source\"] = 1\n",
    "            all_model_features.append(\"Source\")\n",
    "            \n",
    "        if new_chemistries & chem_sources:\n",
    "            X_all_old[\"X.LFP\"] = 1\n",
    "            X_all_old[\"X.NCA\"] = -1\n",
    "            X_all_old[\"X.NMC\"] = -1\n",
    "\n",
    "            for chem in chemistries:\n",
    "                X_all_new[chem].replace(0, -1, inplace=True)\n",
    "            \n",
    "        full_data = X_all_old.append(X_all_new)\n",
    "        full_data = full_data.reset_index()"
   ]
  },
  {
   "cell_type": "code",
   "execution_count": 212,
   "metadata": {},
   "outputs": [
    {
     "data": {
      "text/html": [
       "<div>\n",
       "<style scoped>\n",
       "    .dataframe tbody tr th:only-of-type {\n",
       "        vertical-align: middle;\n",
       "    }\n",
       "\n",
       "    .dataframe tbody tr th {\n",
       "        vertical-align: top;\n",
       "    }\n",
       "\n",
       "    .dataframe thead th {\n",
       "        text-align: right;\n",
       "    }\n",
       "</style>\n",
       "<table border=\"1\" class=\"dataframe\">\n",
       "  <thead>\n",
       "    <tr style=\"text-align: right;\">\n",
       "      <th></th>\n",
       "      <th>X.abs_min_discharge_capacity_difference_cycles_2:100</th>\n",
       "      <th>X.abs_variance_discharge_capacity_difference_cycles_2:100</th>\n",
       "      <th>X.slope_discharge_capacity_cycle_number_2:100</th>\n",
       "      <th>X.intercept_discharge_capacity_cycle_number_2:100</th>\n",
       "      <th>X.discharge_capacity_cycle_2</th>\n",
       "      <th>X.charge_time_cycles_1:5</th>\n",
       "      <th>Temperature</th>\n",
       "      <th>DOD</th>\n",
       "      <th>Discharge_rate</th>\n",
       "      <th>Charge_rate</th>\n",
       "      <th>X.max_discharge_capacity_difference</th>\n",
       "      <th>X.abs_kurtosis_discharge_capacity_difference_cycles_2:100</th>\n",
       "      <th>X.abs_skew_discharge_capacity_difference_cycles_2:100</th>\n",
       "      <th>charge_throughput</th>\n",
       "      <th>Source</th>\n",
       "    </tr>\n",
       "  </thead>\n",
       "  <tbody>\n",
       "    <tr>\n",
       "      <th>0</th>\n",
       "      <td>0.053006</td>\n",
       "      <td>-0.285155</td>\n",
       "      <td>0.241899</td>\n",
       "      <td>0.000000</td>\n",
       "      <td>-0.739130</td>\n",
       "      <td>-0.800003</td>\n",
       "      <td>0.0</td>\n",
       "      <td>0.0</td>\n",
       "      <td>0.0</td>\n",
       "      <td>0.0</td>\n",
       "      <td>0.003322</td>\n",
       "      <td>0.380001</td>\n",
       "      <td>0.307117</td>\n",
       "      <td>4524.021</td>\n",
       "      <td>1</td>\n",
       "    </tr>\n",
       "    <tr>\n",
       "      <th>2</th>\n",
       "      <td>0.445476</td>\n",
       "      <td>0.325799</td>\n",
       "      <td>0.240202</td>\n",
       "      <td>-0.009250</td>\n",
       "      <td>-0.739130</td>\n",
       "      <td>0.800003</td>\n",
       "      <td>0.0</td>\n",
       "      <td>0.0</td>\n",
       "      <td>0.0</td>\n",
       "      <td>0.0</td>\n",
       "      <td>-0.016611</td>\n",
       "      <td>0.217222</td>\n",
       "      <td>0.402015</td>\n",
       "      <td>3680.164</td>\n",
       "      <td>1</td>\n",
       "    </tr>\n",
       "    <tr>\n",
       "      <th>4</th>\n",
       "      <td>0.455215</td>\n",
       "      <td>1.379139</td>\n",
       "      <td>-0.026823</td>\n",
       "      <td>0.183806</td>\n",
       "      <td>0.869565</td>\n",
       "      <td>0.000000</td>\n",
       "      <td>0.0</td>\n",
       "      <td>0.0</td>\n",
       "      <td>0.0</td>\n",
       "      <td>0.0</td>\n",
       "      <td>0.132890</td>\n",
       "      <td>-1.009307</td>\n",
       "      <td>-0.767091</td>\n",
       "      <td>3058.955</td>\n",
       "      <td>1</td>\n",
       "    </tr>\n",
       "    <tr>\n",
       "      <th>6</th>\n",
       "      <td>0.530235</td>\n",
       "      <td>0.493695</td>\n",
       "      <td>0.201420</td>\n",
       "      <td>0.025241</td>\n",
       "      <td>-0.521739</td>\n",
       "      <td>0.000000</td>\n",
       "      <td>0.0</td>\n",
       "      <td>0.0</td>\n",
       "      <td>0.0</td>\n",
       "      <td>0.0</td>\n",
       "      <td>0.013289</td>\n",
       "      <td>0.245876</td>\n",
       "      <td>0.611664</td>\n",
       "      <td>3530.338</td>\n",
       "      <td>1</td>\n",
       "    </tr>\n",
       "    <tr>\n",
       "      <th>8</th>\n",
       "      <td>-0.070371</td>\n",
       "      <td>0.329920</td>\n",
       "      <td>0.184189</td>\n",
       "      <td>0.083431</td>\n",
       "      <td>0.086957</td>\n",
       "      <td>0.000000</td>\n",
       "      <td>0.0</td>\n",
       "      <td>0.0</td>\n",
       "      <td>0.0</td>\n",
       "      <td>0.0</td>\n",
       "      <td>0.046512</td>\n",
       "      <td>-0.708494</td>\n",
       "      <td>-0.637327</td>\n",
       "      <td>3058.092</td>\n",
       "      <td>1</td>\n",
       "    </tr>\n",
       "    <tr>\n",
       "      <th>10</th>\n",
       "      <td>-0.363174</td>\n",
       "      <td>-0.314779</td>\n",
       "      <td>0.172230</td>\n",
       "      <td>-0.015978</td>\n",
       "      <td>-0.739130</td>\n",
       "      <td>0.000000</td>\n",
       "      <td>0.0</td>\n",
       "      <td>0.0</td>\n",
       "      <td>0.0</td>\n",
       "      <td>0.0</td>\n",
       "      <td>-0.023256</td>\n",
       "      <td>0.000000</td>\n",
       "      <td>0.299542</td>\n",
       "      <td>3449.456</td>\n",
       "      <td>1</td>\n",
       "    </tr>\n",
       "    <tr>\n",
       "      <th>12</th>\n",
       "      <td>0.000000</td>\n",
       "      <td>0.000000</td>\n",
       "      <td>0.000000</td>\n",
       "      <td>0.045036</td>\n",
       "      <td>0.043478</td>\n",
       "      <td>-0.800003</td>\n",
       "      <td>0.0</td>\n",
       "      <td>0.0</td>\n",
       "      <td>0.0</td>\n",
       "      <td>0.0</td>\n",
       "      <td>0.000000</td>\n",
       "      <td>0.061471</td>\n",
       "      <td>-0.225357</td>\n",
       "      <td>3772.288</td>\n",
       "      <td>1</td>\n",
       "    </tr>\n",
       "    <tr>\n",
       "      <th>14</th>\n",
       "      <td>0.653443</td>\n",
       "      <td>1.510491</td>\n",
       "      <td>-0.013347</td>\n",
       "      <td>0.105308</td>\n",
       "      <td>0.652174</td>\n",
       "      <td>0.000000</td>\n",
       "      <td>0.0</td>\n",
       "      <td>0.0</td>\n",
       "      <td>0.0</td>\n",
       "      <td>0.0</td>\n",
       "      <td>0.033223</td>\n",
       "      <td>-0.941217</td>\n",
       "      <td>-0.874207</td>\n",
       "      <td>3832.846</td>\n",
       "      <td>1</td>\n",
       "    </tr>\n",
       "    <tr>\n",
       "      <th>16</th>\n",
       "      <td>-0.736135</td>\n",
       "      <td>-0.861606</td>\n",
       "      <td>-1.632265</td>\n",
       "      <td>-1.866345</td>\n",
       "      <td>-0.086957</td>\n",
       "      <td>1.199997</td>\n",
       "      <td>2.0</td>\n",
       "      <td>-2.0</td>\n",
       "      <td>-0.5</td>\n",
       "      <td>0.0</td>\n",
       "      <td>-1.930233</td>\n",
       "      <td>0.302828</td>\n",
       "      <td>0.018630</td>\n",
       "      <td>4004.892</td>\n",
       "      <td>1</td>\n",
       "    </tr>\n",
       "    <tr>\n",
       "      <th>18</th>\n",
       "      <td>-1.067752</td>\n",
       "      <td>-1.245104</td>\n",
       "      <td>-1.587568</td>\n",
       "      <td>-1.855555</td>\n",
       "      <td>0.000000</td>\n",
       "      <td>1.199997</td>\n",
       "      <td>2.0</td>\n",
       "      <td>-2.0</td>\n",
       "      <td>-0.5</td>\n",
       "      <td>0.0</td>\n",
       "      <td>-1.936877</td>\n",
       "      <td>-0.064433</td>\n",
       "      <td>-0.756014</td>\n",
       "      <td>3647.947</td>\n",
       "      <td>1</td>\n",
       "    </tr>\n",
       "    <tr>\n",
       "      <th>22</th>\n",
       "      <td>-1.898747</td>\n",
       "      <td>-1.606524</td>\n",
       "      <td>-2.173696</td>\n",
       "      <td>-3.543260</td>\n",
       "      <td>0.739130</td>\n",
       "      <td>1.199997</td>\n",
       "      <td>2.0</td>\n",
       "      <td>-4.0</td>\n",
       "      <td>2.0</td>\n",
       "      <td>0.0</td>\n",
       "      <td>-3.425249</td>\n",
       "      <td>-0.828408</td>\n",
       "      <td>0.000000</td>\n",
       "      <td>2871.171</td>\n",
       "      <td>1</td>\n",
       "    </tr>\n",
       "    <tr>\n",
       "      <th>1</th>\n",
       "      <td>0.424937</td>\n",
       "      <td>-0.187351</td>\n",
       "      <td>0.225517</td>\n",
       "      <td>0.052881</td>\n",
       "      <td>-0.304348</td>\n",
       "      <td>0.000000</td>\n",
       "      <td>0.0</td>\n",
       "      <td>0.0</td>\n",
       "      <td>0.0</td>\n",
       "      <td>0.0</td>\n",
       "      <td>0.029900</td>\n",
       "      <td>0.835178</td>\n",
       "      <td>0.853100</td>\n",
       "      <td>3577.625</td>\n",
       "      <td>1</td>\n",
       "    </tr>\n",
       "    <tr>\n",
       "      <th>3</th>\n",
       "      <td>-0.235944</td>\n",
       "      <td>-0.120657</td>\n",
       "      <td>0.177914</td>\n",
       "      <td>-0.020533</td>\n",
       "      <td>-0.782609</td>\n",
       "      <td>0.000000</td>\n",
       "      <td>0.0</td>\n",
       "      <td>0.0</td>\n",
       "      <td>0.0</td>\n",
       "      <td>0.0</td>\n",
       "      <td>-0.026578</td>\n",
       "      <td>0.030051</td>\n",
       "      <td>-0.396897</td>\n",
       "      <td>3655.051</td>\n",
       "      <td>1</td>\n",
       "    </tr>\n",
       "    <tr>\n",
       "      <th>5</th>\n",
       "      <td>0.178006</td>\n",
       "      <td>0.423055</td>\n",
       "      <td>0.177168</td>\n",
       "      <td>-0.002235</td>\n",
       "      <td>-0.652174</td>\n",
       "      <td>0.000000</td>\n",
       "      <td>0.0</td>\n",
       "      <td>0.0</td>\n",
       "      <td>0.0</td>\n",
       "      <td>0.0</td>\n",
       "      <td>-0.006645</td>\n",
       "      <td>-0.217542</td>\n",
       "      <td>0.256920</td>\n",
       "      <td>3485.849</td>\n",
       "      <td>1</td>\n",
       "    </tr>\n",
       "    <tr>\n",
       "      <th>7</th>\n",
       "      <td>0.039387</td>\n",
       "      <td>0.333523</td>\n",
       "      <td>0.184292</td>\n",
       "      <td>0.090090</td>\n",
       "      <td>0.130435</td>\n",
       "      <td>0.000000</td>\n",
       "      <td>0.0</td>\n",
       "      <td>0.0</td>\n",
       "      <td>0.0</td>\n",
       "      <td>0.0</td>\n",
       "      <td>0.046512</td>\n",
       "      <td>-0.627949</td>\n",
       "      <td>-0.638633</td>\n",
       "      <td>3061.070</td>\n",
       "      <td>1</td>\n",
       "    </tr>\n",
       "    <tr>\n",
       "      <th>9</th>\n",
       "      <td>-0.013555</td>\n",
       "      <td>-0.206843</td>\n",
       "      <td>0.183572</td>\n",
       "      <td>0.002866</td>\n",
       "      <td>-0.478261</td>\n",
       "      <td>0.800003</td>\n",
       "      <td>0.0</td>\n",
       "      <td>0.0</td>\n",
       "      <td>0.0</td>\n",
       "      <td>0.0</td>\n",
       "      <td>-0.023256</td>\n",
       "      <td>0.256334</td>\n",
       "      <td>0.476497</td>\n",
       "      <td>3469.676</td>\n",
       "      <td>1</td>\n",
       "    </tr>\n",
       "    <tr>\n",
       "      <th>11</th>\n",
       "      <td>-0.276342</td>\n",
       "      <td>-0.053973</td>\n",
       "      <td>0.036750</td>\n",
       "      <td>0.005570</td>\n",
       "      <td>-0.478261</td>\n",
       "      <td>0.800003</td>\n",
       "      <td>0.0</td>\n",
       "      <td>0.0</td>\n",
       "      <td>0.0</td>\n",
       "      <td>0.0</td>\n",
       "      <td>-0.009967</td>\n",
       "      <td>-0.054753</td>\n",
       "      <td>0.326357</td>\n",
       "      <td>4224.976</td>\n",
       "      <td>1</td>\n",
       "    </tr>\n",
       "    <tr>\n",
       "      <th>13</th>\n",
       "      <td>-0.804499</td>\n",
       "      <td>-0.659557</td>\n",
       "      <td>-0.021577</td>\n",
       "      <td>0.000401</td>\n",
       "      <td>-0.347826</td>\n",
       "      <td>0.000000</td>\n",
       "      <td>0.0</td>\n",
       "      <td>0.0</td>\n",
       "      <td>0.0</td>\n",
       "      <td>0.0</td>\n",
       "      <td>-0.023256</td>\n",
       "      <td>-0.303500</td>\n",
       "      <td>-0.337207</td>\n",
       "      <td>3248.288</td>\n",
       "      <td>1</td>\n",
       "    </tr>\n",
       "    <tr>\n",
       "      <th>15</th>\n",
       "      <td>-2.214112</td>\n",
       "      <td>-1.514838</td>\n",
       "      <td>-1.750360</td>\n",
       "      <td>-2.001073</td>\n",
       "      <td>0.956522</td>\n",
       "      <td>1.199997</td>\n",
       "      <td>2.0</td>\n",
       "      <td>-2.0</td>\n",
       "      <td>-0.5</td>\n",
       "      <td>0.0</td>\n",
       "      <td>-2.156146</td>\n",
       "      <td>-1.499998</td>\n",
       "      <td>-1.630459</td>\n",
       "      <td>3484.630</td>\n",
       "      <td>1</td>\n",
       "    </tr>\n",
       "    <tr>\n",
       "      <th>17</th>\n",
       "      <td>-0.640550</td>\n",
       "      <td>-0.775714</td>\n",
       "      <td>-1.678017</td>\n",
       "      <td>-1.828465</td>\n",
       "      <td>0.739130</td>\n",
       "      <td>3.199997</td>\n",
       "      <td>2.0</td>\n",
       "      <td>-2.0</td>\n",
       "      <td>-0.5</td>\n",
       "      <td>0.0</td>\n",
       "      <td>-1.903654</td>\n",
       "      <td>0.405169</td>\n",
       "      <td>0.182474</td>\n",
       "      <td>3344.767</td>\n",
       "      <td>1</td>\n",
       "    </tr>\n",
       "    <tr>\n",
       "      <th>19</th>\n",
       "      <td>-3.141177</td>\n",
       "      <td>-2.581894</td>\n",
       "      <td>-0.242028</td>\n",
       "      <td>-1.722731</td>\n",
       "      <td>0.260870</td>\n",
       "      <td>1.199997</td>\n",
       "      <td>2.0</td>\n",
       "      <td>-2.0</td>\n",
       "      <td>2.0</td>\n",
       "      <td>0.0</td>\n",
       "      <td>-3.428571</td>\n",
       "      <td>-0.896688</td>\n",
       "      <td>-0.459274</td>\n",
       "      <td>1960.727</td>\n",
       "      <td>1</td>\n",
       "    </tr>\n",
       "    <tr>\n",
       "      <th>23</th>\n",
       "      <td>-2.554641</td>\n",
       "      <td>-2.354213</td>\n",
       "      <td>-2.121850</td>\n",
       "      <td>-3.551315</td>\n",
       "      <td>0.130435</td>\n",
       "      <td>1.199997</td>\n",
       "      <td>2.0</td>\n",
       "      <td>-4.0</td>\n",
       "      <td>2.0</td>\n",
       "      <td>0.0</td>\n",
       "      <td>-3.425249</td>\n",
       "      <td>-0.733738</td>\n",
       "      <td>0.054869</td>\n",
       "      <td>2641.030</td>\n",
       "      <td>1</td>\n",
       "    </tr>\n",
       "  </tbody>\n",
       "</table>\n",
       "</div>"
      ],
      "text/plain": [
       "    X.abs_min_discharge_capacity_difference_cycles_2:100  \\\n",
       "0                                            0.053006      \n",
       "2                                            0.445476      \n",
       "4                                            0.455215      \n",
       "6                                            0.530235      \n",
       "8                                           -0.070371      \n",
       "10                                          -0.363174      \n",
       "12                                           0.000000      \n",
       "14                                           0.653443      \n",
       "16                                          -0.736135      \n",
       "18                                          -1.067752      \n",
       "22                                          -1.898747      \n",
       "1                                            0.424937      \n",
       "3                                           -0.235944      \n",
       "5                                            0.178006      \n",
       "7                                            0.039387      \n",
       "9                                           -0.013555      \n",
       "11                                          -0.276342      \n",
       "13                                          -0.804499      \n",
       "15                                          -2.214112      \n",
       "17                                          -0.640550      \n",
       "19                                          -3.141177      \n",
       "23                                          -2.554641      \n",
       "\n",
       "    X.abs_variance_discharge_capacity_difference_cycles_2:100  \\\n",
       "0                                           -0.285155           \n",
       "2                                            0.325799           \n",
       "4                                            1.379139           \n",
       "6                                            0.493695           \n",
       "8                                            0.329920           \n",
       "10                                          -0.314779           \n",
       "12                                           0.000000           \n",
       "14                                           1.510491           \n",
       "16                                          -0.861606           \n",
       "18                                          -1.245104           \n",
       "22                                          -1.606524           \n",
       "1                                           -0.187351           \n",
       "3                                           -0.120657           \n",
       "5                                            0.423055           \n",
       "7                                            0.333523           \n",
       "9                                           -0.206843           \n",
       "11                                          -0.053973           \n",
       "13                                          -0.659557           \n",
       "15                                          -1.514838           \n",
       "17                                          -0.775714           \n",
       "19                                          -2.581894           \n",
       "23                                          -2.354213           \n",
       "\n",
       "    X.slope_discharge_capacity_cycle_number_2:100  \\\n",
       "0                                        0.241899   \n",
       "2                                        0.240202   \n",
       "4                                       -0.026823   \n",
       "6                                        0.201420   \n",
       "8                                        0.184189   \n",
       "10                                       0.172230   \n",
       "12                                       0.000000   \n",
       "14                                      -0.013347   \n",
       "16                                      -1.632265   \n",
       "18                                      -1.587568   \n",
       "22                                      -2.173696   \n",
       "1                                        0.225517   \n",
       "3                                        0.177914   \n",
       "5                                        0.177168   \n",
       "7                                        0.184292   \n",
       "9                                        0.183572   \n",
       "11                                       0.036750   \n",
       "13                                      -0.021577   \n",
       "15                                      -1.750360   \n",
       "17                                      -1.678017   \n",
       "19                                      -0.242028   \n",
       "23                                      -2.121850   \n",
       "\n",
       "    X.intercept_discharge_capacity_cycle_number_2:100  \\\n",
       "0                                            0.000000   \n",
       "2                                           -0.009250   \n",
       "4                                            0.183806   \n",
       "6                                            0.025241   \n",
       "8                                            0.083431   \n",
       "10                                          -0.015978   \n",
       "12                                           0.045036   \n",
       "14                                           0.105308   \n",
       "16                                          -1.866345   \n",
       "18                                          -1.855555   \n",
       "22                                          -3.543260   \n",
       "1                                            0.052881   \n",
       "3                                           -0.020533   \n",
       "5                                           -0.002235   \n",
       "7                                            0.090090   \n",
       "9                                            0.002866   \n",
       "11                                           0.005570   \n",
       "13                                           0.000401   \n",
       "15                                          -2.001073   \n",
       "17                                          -1.828465   \n",
       "19                                          -1.722731   \n",
       "23                                          -3.551315   \n",
       "\n",
       "    X.discharge_capacity_cycle_2  X.charge_time_cycles_1:5  Temperature  DOD  \\\n",
       "0                      -0.739130                 -0.800003          0.0  0.0   \n",
       "2                      -0.739130                  0.800003          0.0  0.0   \n",
       "4                       0.869565                  0.000000          0.0  0.0   \n",
       "6                      -0.521739                  0.000000          0.0  0.0   \n",
       "8                       0.086957                  0.000000          0.0  0.0   \n",
       "10                     -0.739130                  0.000000          0.0  0.0   \n",
       "12                      0.043478                 -0.800003          0.0  0.0   \n",
       "14                      0.652174                  0.000000          0.0  0.0   \n",
       "16                     -0.086957                  1.199997          2.0 -2.0   \n",
       "18                      0.000000                  1.199997          2.0 -2.0   \n",
       "22                      0.739130                  1.199997          2.0 -4.0   \n",
       "1                      -0.304348                  0.000000          0.0  0.0   \n",
       "3                      -0.782609                  0.000000          0.0  0.0   \n",
       "5                      -0.652174                  0.000000          0.0  0.0   \n",
       "7                       0.130435                  0.000000          0.0  0.0   \n",
       "9                      -0.478261                  0.800003          0.0  0.0   \n",
       "11                     -0.478261                  0.800003          0.0  0.0   \n",
       "13                     -0.347826                  0.000000          0.0  0.0   \n",
       "15                      0.956522                  1.199997          2.0 -2.0   \n",
       "17                      0.739130                  3.199997          2.0 -2.0   \n",
       "19                      0.260870                  1.199997          2.0 -2.0   \n",
       "23                      0.130435                  1.199997          2.0 -4.0   \n",
       "\n",
       "    Discharge_rate  Charge_rate  X.max_discharge_capacity_difference  \\\n",
       "0              0.0          0.0                             0.003322   \n",
       "2              0.0          0.0                            -0.016611   \n",
       "4              0.0          0.0                             0.132890   \n",
       "6              0.0          0.0                             0.013289   \n",
       "8              0.0          0.0                             0.046512   \n",
       "10             0.0          0.0                            -0.023256   \n",
       "12             0.0          0.0                             0.000000   \n",
       "14             0.0          0.0                             0.033223   \n",
       "16            -0.5          0.0                            -1.930233   \n",
       "18            -0.5          0.0                            -1.936877   \n",
       "22             2.0          0.0                            -3.425249   \n",
       "1              0.0          0.0                             0.029900   \n",
       "3              0.0          0.0                            -0.026578   \n",
       "5              0.0          0.0                            -0.006645   \n",
       "7              0.0          0.0                             0.046512   \n",
       "9              0.0          0.0                            -0.023256   \n",
       "11             0.0          0.0                            -0.009967   \n",
       "13             0.0          0.0                            -0.023256   \n",
       "15            -0.5          0.0                            -2.156146   \n",
       "17            -0.5          0.0                            -1.903654   \n",
       "19             2.0          0.0                            -3.428571   \n",
       "23             2.0          0.0                            -3.425249   \n",
       "\n",
       "    X.abs_kurtosis_discharge_capacity_difference_cycles_2:100  \\\n",
       "0                                            0.380001           \n",
       "2                                            0.217222           \n",
       "4                                           -1.009307           \n",
       "6                                            0.245876           \n",
       "8                                           -0.708494           \n",
       "10                                           0.000000           \n",
       "12                                           0.061471           \n",
       "14                                          -0.941217           \n",
       "16                                           0.302828           \n",
       "18                                          -0.064433           \n",
       "22                                          -0.828408           \n",
       "1                                            0.835178           \n",
       "3                                            0.030051           \n",
       "5                                           -0.217542           \n",
       "7                                           -0.627949           \n",
       "9                                            0.256334           \n",
       "11                                          -0.054753           \n",
       "13                                          -0.303500           \n",
       "15                                          -1.499998           \n",
       "17                                           0.405169           \n",
       "19                                          -0.896688           \n",
       "23                                          -0.733738           \n",
       "\n",
       "    X.abs_skew_discharge_capacity_difference_cycles_2:100  charge_throughput  \\\n",
       "0                                            0.307117               4524.021   \n",
       "2                                            0.402015               3680.164   \n",
       "4                                           -0.767091               3058.955   \n",
       "6                                            0.611664               3530.338   \n",
       "8                                           -0.637327               3058.092   \n",
       "10                                           0.299542               3449.456   \n",
       "12                                          -0.225357               3772.288   \n",
       "14                                          -0.874207               3832.846   \n",
       "16                                           0.018630               4004.892   \n",
       "18                                          -0.756014               3647.947   \n",
       "22                                           0.000000               2871.171   \n",
       "1                                            0.853100               3577.625   \n",
       "3                                           -0.396897               3655.051   \n",
       "5                                            0.256920               3485.849   \n",
       "7                                           -0.638633               3061.070   \n",
       "9                                            0.476497               3469.676   \n",
       "11                                           0.326357               4224.976   \n",
       "13                                          -0.337207               3248.288   \n",
       "15                                          -1.630459               3484.630   \n",
       "17                                           0.182474               3344.767   \n",
       "19                                          -0.459274               1960.727   \n",
       "23                                           0.054869               2641.030   \n",
       "\n",
       "    Source  \n",
       "0        1  \n",
       "2        1  \n",
       "4        1  \n",
       "6        1  \n",
       "8        1  \n",
       "10       1  \n",
       "12       1  \n",
       "14       1  \n",
       "16       1  \n",
       "18       1  \n",
       "22       1  \n",
       "1        1  \n",
       "3        1  \n",
       "5        1  \n",
       "7        1  \n",
       "9        1  \n",
       "11       1  \n",
       "13       1  \n",
       "15       1  \n",
       "17       1  \n",
       "19       1  \n",
       "23       1  "
      ]
     },
     "execution_count": 212,
     "metadata": {},
     "output_type": "execute_result"
    }
   ],
   "source": [
    "X_all_new"
   ]
  },
  {
   "cell_type": "code",
   "execution_count": 213,
   "metadata": {},
   "outputs": [],
   "source": [
    "if new_chemistries:\n",
    "    if test_set == \"combination\":\n",
    "        test_ind = [i for i in range(0, len(full_data), 2)]\n",
    "            \n",
    "    elif test_set == \"new\":\n",
    "        test_ind = [j for j in range(len(old_ct),len(full_data))]\n",
    "        \n",
    "    elif test_set == \"half new\":\n",
    "        test_ind = [j for j in range(len(old_ct),len(full_data),2)]\n",
    "\n",
    "    elif test_set == \"new unchanged\":\n",
    "        test_ind = list(full_data.iloc[139:][full_data[\"index\"].isin(new_test_ind)].index)\n",
    "        \n",
    "    elif test_set == \"LFP\":\n",
    "        test_ind = list(full_data.iloc[len(old_ct):][(full_data[\"X.LFP\"] > 0)].index)\n",
    "            \n",
    "    elif test_set == \"NCA\":\n",
    "        test_ind = list(full_data[full_data[\"X.NCA\"] > 0].index)\n",
    "        \n",
    "    elif test_set == \"NMC\":\n",
    "        test_ind = list(full_data[full_data[\"X.NMC\"] > 0].index)\n",
    "        \n",
    "    elif test_set == \"old\":\n",
    "        test_ind = list(full_data.iloc[84:len(old_ct)].index)\n",
    "    \n",
    "else:\n",
    "    if test_set == \"combination\":\n",
    "        test_ind = [i for i in range(0, len(full_data), 2)]\n",
    "            \n",
    "    elif test_set == \"new\":\n",
    "        test_ind = [j for j in range(len(old_ct),len(full_data))]\n",
    "        \n",
    "    elif test_set == \"half new\":\n",
    "        test_ind = [j for j in range(len(old_ct),len(full_data),2)]\n",
    "\n",
    "    elif test_set == \"new unchanged\":\n",
    "        test_ind = list(full_data.iloc[139:][full_data[\"index\"].isin(new_test_ind)].index)\n",
    "        \n",
    "    elif test_set == \"LFP\":\n",
    "        test_ind = list(full_data.iloc[len(old_ct):][(full_data[\"X.LFP\"] > 0)].index)\n",
    "\n",
    "    elif test_set == \"old\":\n",
    "        test_ind = list(full_data.iloc[84:len(old_ct)].index)\n",
    "        \n",
    "    elif test_set == \"half\":\n",
    "        test_ind = [i for i in range(0, len(full_data), 2)]\n",
    "        \n",
    "train_ind = list(set(full_data.index) - set(test_ind))"
   ]
  },
  {
   "cell_type": "markdown",
   "metadata": {},
   "source": [
    "### Variance Model [Combined Data]"
   ]
  },
  {
   "cell_type": "markdown",
   "metadata": {},
   "source": [
    "#### Linear Regression"
   ]
  },
  {
   "cell_type": "code",
   "execution_count": 214,
   "metadata": {},
   "outputs": [],
   "source": [
    "X_train_var = full_data.iloc[train_ind][variance_model_features]\n",
    "X_train_var.dropna(axis=0, inplace=True)\n",
    "y_train = full_data.iloc[X_train_var.index][[y]]\n",
    "\n",
    "X_test_var = full_data.iloc[test_ind][variance_model_features]\n",
    "X_test_var.dropna(axis=0, inplace=True)\n",
    "y_test = full_data.iloc[X_test_var.index][[y]]\n",
    "\n",
    "if scaled:\n",
    "    if not old_new_scaler:\n",
    "        X_train_var, X_test_var = scale(X_train_var, X_test_var)\n",
    "\n",
    "# log transformation\n",
    "if log_transformation:\n",
    "    y_train = np.log(y_train)\n",
    "    y_test = np.log(y_test)"
   ]
  },
  {
   "cell_type": "code",
   "execution_count": 215,
   "metadata": {},
   "outputs": [],
   "source": [
    "reg_var = LinearRegression().fit(X_train_var,y_train)\n",
    "y_pred_train_var = reg_var.predict(X_train_var)\n",
    "y_pred_test_var = reg_var.predict(X_test_var)\n",
    "\n",
    "if log_transformation:\n",
    "    y_train = np.exp(y_train)\n",
    "    y_test = np.exp(y_test)\n",
    "    y_pred_train_var = np.exp(y_pred_train_var)\n",
    "    y_pred_test_var = np.exp(y_pred_test_var)"
   ]
  },
  {
   "cell_type": "code",
   "execution_count": 216,
   "metadata": {},
   "outputs": [
    {
     "name": "stdout",
     "output_type": "stream",
     "text": [
      "Variance Basic Linear Regression Model\n",
      "Training RMSE:  377.58840637190355\n",
      "Test RMSE:  373.90320988528373\n",
      "Mean % Train Error:  16.885671496754437\n",
      "Mean % Test Error:  17.591146885863306\n"
     ]
    }
   ],
   "source": [
    "rmse_train_var = np.sqrt(mean_squared_error(y_train, y_pred_train_var))\n",
    "rmse_test_var = np.sqrt(mean_squared_error(y_test, y_pred_test_var))\n",
    "mape_train_var = mean_absolute_percentage_error(y_train, y_pred_train_var)*100\n",
    "mape_test_var = mean_absolute_percentage_error(y_test, y_pred_test_var)*100\n",
    "\n",
    "print(\"Variance Basic Linear Regression Model\")\n",
    "print(\"Training RMSE: \", rmse_train_var)\n",
    "print(\"Test RMSE: \", rmse_test_var)\n",
    "print(\"Mean % Train Error: \", mape_train_var)\n",
    "print(\"Mean % Test Error: \", mape_test_var)"
   ]
  },
  {
   "cell_type": "code",
   "execution_count": 217,
   "metadata": {},
   "outputs": [
    {
     "data": {
      "text/plain": [
       "Text(0.5, 1.0, 'Variance Model Predicted vs. True Values (LR) [Combined Data]')"
      ]
     },
     "execution_count": 217,
     "metadata": {},
     "output_type": "execute_result"
    },
    {
     "data": {
      "image/png": "[encoded data removed]",
      "text/plain": [
       "<Figure size 432x288 with 1 Axes>"
      ]
     },
     "metadata": {
      "needs_background": "light"
     },
     "output_type": "display_data"
    }
   ],
   "source": [
    "# Variance model\n",
    "max_var = y_test.max()[0]\n",
    "\n",
    "plt.scatter(y_test, y_pred_test_var)\n",
    "plt.plot([0, max_var], [0, max_var], color=\"red\")\n",
    "plt.xlabel(\"True Values\")\n",
    "plt.ylabel(\"Predicted Values\")\n",
    "plt.title(\"Variance Model Predicted vs. True Values (LR) [Combined Data]\")"
   ]
  },
  {
   "cell_type": "markdown",
   "metadata": {},
   "source": [
    "#### Elastic Net"
   ]
  },
  {
   "cell_type": "code",
   "execution_count": 218,
   "metadata": {},
   "outputs": [],
   "source": [
    "k_fold = 5\n",
    "l1_ratios = [i/20 for i in range(1, 21)]\n",
    "max_iter = 1000000\n",
    "random_state = 1\n",
    "test_size = 2\n",
    "tol = 0.0001\n",
    "\n",
    "models = []\n",
    "y_pred_trains = []\n",
    "y_pred_tests = []\n",
    "train_rmses = []\n",
    "test_rmses = []\n",
    "train_mapes = []\n",
    "test_mapes = []\n",
    "\n",
    "for l1_ratio in l1_ratios:\n",
    "    elasticnetcv = ElasticNetCV(\n",
    "        fit_intercept=True,\n",
    "        normalize=False,\n",
    "        alphas=None,\n",
    "        cv=k_fold,\n",
    "        l1_ratio=l1_ratio,\n",
    "        max_iter=max_iter,\n",
    "    )\n",
    "    \n",
    "    if log_transformation:\n",
    "        y_train = np.log(y_train)\n",
    "        y_test = np.log(y_test)\n",
    "        \n",
    "    elasticnetcv.fit(X_train_var, y_train.values.ravel())\n",
    "\n",
    "    elasticnet_var = ElasticNet(\n",
    "        fit_intercept=True,\n",
    "        normalize=False,\n",
    "        l1_ratio=elasticnetcv.l1_ratio_,\n",
    "        alpha=elasticnetcv.alpha_,\n",
    "        max_iter=max_iter,\n",
    "    )\n",
    "    \n",
    "    elasticnet_var.fit(X_train_var, y_train.values.ravel())\n",
    "    y_pred_train_en_var = elasticnet_var.predict(X_train_var)\n",
    "    y_pred_test_en_var = elasticnet_var.predict(X_test_var)\n",
    "\n",
    "    if log_transformation:\n",
    "        y_train = np.exp(y_train)\n",
    "        y_test = np.exp(y_test)\n",
    "        y_pred_train_en_var = np.exp(y_pred_train_en_var)\n",
    "        y_pred_test_en_var = np.exp(y_pred_test_en_var)\n",
    "    \n",
    "    rmse_train_en_var = np.sqrt(mean_squared_error(y_train, y_pred_train_en_var))\n",
    "    rmse_test_en_var = np.sqrt(mean_squared_error(y_test, y_pred_test_en_var))\n",
    "    mape_train_en_var = mean_absolute_percentage_error(y_train, y_pred_train_en_var)*100\n",
    "    mape_test_en_var = mean_absolute_percentage_error(y_test, y_pred_test_en_var)*100\n",
    "\n",
    "    models.append(elasticnet_var)\n",
    "    y_pred_trains.append(y_pred_train_en_var)\n",
    "    y_pred_tests.append(y_pred_test_en_var)\n",
    "    train_rmses.append(rmse_train_en_var)\n",
    "    test_rmses.append(rmse_test_en_var)\n",
    "    train_mapes.append(mape_train_en_var)\n",
    "    test_mapes.append(mape_test_en_var)\n",
    "\n",
    "best_model_index = test_rmses.index(min(test_rmses))"
   ]
  },
  {
   "cell_type": "code",
   "execution_count": 219,
   "metadata": {},
   "outputs": [
    {
     "name": "stdout",
     "output_type": "stream",
     "text": [
      "Variance Elastic Net Model\n",
      "l1_ratio = 0.05\n",
      "Test RMSE:  372.98204515406576\n",
      "Test Mean Absolute % Error:  17.19823771700451\n"
     ]
    }
   ],
   "source": [
    "elasticnet_var = models[best_model_index]\n",
    "y_pred_train_en_var = y_pred_trains[best_model_index]\n",
    "y_pred_test_en_var = y_pred_tests[best_model_index]\n",
    "rmse_train_var_en = train_rmses[best_model_index]\n",
    "rmse_test_var_en = test_rmses[best_model_index]\n",
    "l1_ratio_var = l1_ratios[best_model_index]\n",
    "mape_train_var_en = train_mapes[best_model_index]\n",
    "mape_test_var_en = test_mapes[best_model_index]\n",
    "\n",
    "print(\"Variance Elastic Net Model\")\n",
    "print(\"l1_ratio =\", l1_ratio_var)\n",
    "print(\"Test RMSE: \", rmse_test_var_en)\n",
    "print(\"Test Mean Absolute % Error: \", mape_test_var_en)"
   ]
  },
  {
   "cell_type": "code",
   "execution_count": 220,
   "metadata": {},
   "outputs": [
    {
     "data": {
      "image/png": "[encoded data removed]",
      "text/plain": [
       "<Figure size 432x288 with 1 Axes>"
      ]
     },
     "metadata": {
      "needs_background": "light"
     },
     "output_type": "display_data"
    }
   ],
   "source": [
    "plt.scatter(l1_ratios, test_rmses)\n",
    "plt.title(\"Test RMSE by Ridge/Lasso Ratio (Variance Model)\")\n",
    "plt.xlabel(\"L1 Ratio (0 = Ridge, 1 = Lasso)\")\n",
    "plt.ylabel(\"Test RMSE\");"
   ]
  },
  {
   "cell_type": "code",
   "execution_count": 221,
   "metadata": {},
   "outputs": [
    {
     "data": {
      "text/plain": [
       "Text(0.5, 1.0, 'Variance Model Predicted vs. True Values (EN) [Combined Data]')"
      ]
     },
     "execution_count": 221,
     "metadata": {},
     "output_type": "execute_result"
    },
    {
     "data": {
      "image/png": "[encoded data removed]",
      "text/plain": [
       "<Figure size 432x288 with 1 Axes>"
      ]
     },
     "metadata": {
      "needs_background": "light"
     },
     "output_type": "display_data"
    }
   ],
   "source": [
    "#Elastic Net\n",
    "max_var = y_test.max()[0]\n",
    "\n",
    "plt.scatter(y_test, y_pred_test_en_var)\n",
    "plt.plot([0, max_var], [0, max_var], color=\"red\")\n",
    "plt.xlabel(\"True Values\")\n",
    "plt.ylabel(\"Predicted Values\")\n",
    "plt.title(\"Variance Model Predicted vs. True Values (EN) [Combined Data]\")"
   ]
  },
  {
   "cell_type": "code",
   "execution_count": 222,
   "metadata": {},
   "outputs": [],
   "source": [
    "model_name = \"Variance\"\n",
    "source = \"Old+New\"\n",
    "\n",
    "results_df = results_df.append(cond.append(pd.Series({\"L_rmse\": rmse_test_var, \"EN_rmse\":rmse_test_var_en, \n",
    "                                                      \"L_mape\": mape_test_var, \"EN_mape\":mape_test_var_en, \n",
    "                                                      \"model\":model_name, \"data\":source, \"coef\":elasticnet_var.coef_,\n",
    "                                                      \"test_set\": test_set})),\n",
    "                               ignore_index=True)"
   ]
  },
  {
   "cell_type": "markdown",
   "metadata": {},
   "source": [
    "### Discharge Model [Combined Data]"
   ]
  },
  {
   "cell_type": "markdown",
   "metadata": {},
   "source": [
    "#### Linear Regression"
   ]
  },
  {
   "cell_type": "code",
   "execution_count": 223,
   "metadata": {},
   "outputs": [],
   "source": [
    "if environ:\n",
    "    discharge_model_features.remove(\"Temperature\")\n",
    "    discharge_model_features.remove(\"DOD\")\n",
    "    discharge_model_features.remove(\"Discharge_rate\")\n",
    "    discharge_model_features.remove(\"Charge_rate\")\n",
    "X_train_dis = full_data.iloc[train_ind][discharge_model_features].replace([np.inf, -np.inf, 0], np.nan)\n",
    "X_test_dis = full_data.iloc[test_ind][discharge_model_features].replace([np.inf, -np.inf, 0], np.nan)\n",
    "\n",
    "if environ:\n",
    "    discharge_model_features.extend((\"Temperature\", \"DOD\", \"Discharge_rate\", \"Charge_rate\"))\n",
    "    X_train_dis = full_data.iloc[X_train_dis.index][discharge_model_features]\n",
    "    X_test_dis = full_data.iloc[X_test_dis.index][discharge_model_features]\n",
    "    \n",
    "X_train_dis.dropna(axis=0, inplace=True)\n",
    "y_train = full_data.iloc[X_train_dis.index][[y]]\n",
    "\n",
    "X_test_dis.dropna(axis=0, inplace=True)\n",
    "y_test = full_data.iloc[X_test_dis.index][[y]]\n",
    "\n",
    "if scaled:\n",
    "    if not old_new_scaler:\n",
    "        X_train_dis, X_test_dis = scale(X_train_dis, X_test_dis)\n",
    "    \n",
    "if log_transformation:\n",
    "    y_train = np.log(y_train)\n",
    "    y_test = np.log(y_test)"
   ]
  },
  {
   "cell_type": "code",
   "execution_count": 224,
   "metadata": {},
   "outputs": [],
   "source": [
    "reg_dis = LinearRegression().fit(X_train_dis,y_train)\n",
    "y_pred_train_dis = reg_dis.predict(X_train_dis)\n",
    "y_pred_test_dis = reg_dis.predict(X_test_dis)\n",
    "\n",
    "if log_transformation:\n",
    "    y_train = np.exp(y_train)\n",
    "    y_test = np.exp(y_test)\n",
    "    y_pred_train_dis = np.exp(y_pred_train_dis)\n",
    "    y_pred_test_dis = np.exp(y_pred_test_dis)"
   ]
  },
  {
   "cell_type": "code",
   "execution_count": 225,
   "metadata": {},
   "outputs": [
    {
     "name": "stdout",
     "output_type": "stream",
     "text": [
      "Discharge Basic Linear Regression Model\n",
      "Test RMSE:  251.12598392404152\n",
      "Mean % Test Error:  0.09857289140793625\n"
     ]
    }
   ],
   "source": [
    "rmse_train_dis = np.sqrt(mean_squared_error(y_train, y_pred_train_dis))\n",
    "rmse_test_dis = np.sqrt(mean_squared_error(y_test, y_pred_test_dis))\n",
    "mape_train_dis = mean_absolute_percentage_error(y_train, y_pred_train_dis)*100\n",
    "mape_test_dis = mean_absolute_percentage_error(y_test, y_pred_test_dis)*100\n",
    "\n",
    "print(\"Discharge Basic Linear Regression Model\")\n",
    "# print(\"Training RMSE: \", np.sqrt(mean_squared_error(y_train, y_pred_train_dis)))\n",
    "print(\"Test RMSE: \", np.sqrt(mean_squared_error(y_test, y_pred_test_dis)))\n",
    "# print(\"Mean % Train Error: \", mean_absolute_percentage_error(y_train, y_pred_train_dis))\n",
    "print(\"Mean % Test Error: \", mean_absolute_percentage_error(y_test, y_pred_test_dis))"
   ]
  },
  {
   "cell_type": "code",
   "execution_count": 226,
   "metadata": {},
   "outputs": [
    {
     "data": {
      "text/plain": [
       "Text(0.5, 1.0, 'Discharge Model Predicted vs. True Values (LR) [Combined Data]')"
      ]
     },
     "execution_count": 226,
     "metadata": {},
     "output_type": "execute_result"
    },
    {
     "data": {
      "image/png": "[encoded data removed]",
      "text/plain": [
       "<Figure size 432x288 with 1 Axes>"
      ]
     },
     "metadata": {
      "needs_background": "light"
     },
     "output_type": "display_data"
    }
   ],
   "source": [
    "# Discharge model\n",
    "max_dis = y_test.max()[0]\n",
    "\n",
    "plt.scatter(y_test, y_pred_test_dis)\n",
    "plt.plot([0, max_dis], [0, max_dis], color=\"red\")\n",
    "plt.xlabel(\"True Values\")\n",
    "plt.ylabel(\"Predicted Values\")\n",
    "plt.title(\"Discharge Model Predicted vs. True Values (LR) [Combined Data]\")"
   ]
  },
  {
   "cell_type": "markdown",
   "metadata": {},
   "source": [
    "#### Elastic Net"
   ]
  },
  {
   "cell_type": "code",
   "execution_count": 227,
   "metadata": {},
   "outputs": [],
   "source": [
    "k_fold = 5\n",
    "l1_ratios = [i/20 for i in range(1, 21)]\n",
    "max_iter = 1000000\n",
    "random_state = 1\n",
    "test_size = 2\n",
    "tol = 0.0001\n",
    "\n",
    "models = []\n",
    "y_pred_trains = []\n",
    "y_pred_tests = []\n",
    "train_rmses = []\n",
    "test_rmses = []\n",
    "train_mapes = []\n",
    "test_mapes = []\n",
    "\n",
    "for l1_ratio in l1_ratios:\n",
    "    elasticnetcv = ElasticNetCV(\n",
    "        fit_intercept=True,\n",
    "        normalize=False,\n",
    "        alphas=None,\n",
    "        cv=k_fold,\n",
    "        l1_ratio=l1_ratio,\n",
    "        max_iter=max_iter,\n",
    "    )\n",
    "    \n",
    "    if log_transformation:\n",
    "        y_train = np.log(y_train)\n",
    "        y_test = np.log(y_test)\n",
    "    \n",
    "    elasticnetcv.fit(X_train_dis, y_train.values.ravel())\n",
    "\n",
    "    elasticnet_dis = ElasticNet(\n",
    "        fit_intercept=True,\n",
    "        normalize=False,\n",
    "        l1_ratio=elasticnetcv.l1_ratio_,\n",
    "        alpha=elasticnetcv.alpha_,\n",
    "        max_iter=max_iter,\n",
    "    )\n",
    "\n",
    "    elasticnet_dis.fit(X_train_dis, y_train.values.ravel())\n",
    "    y_pred_train_en_dis = elasticnet_dis.predict(X_train_dis)\n",
    "    y_pred_test_en_dis = elasticnet_dis.predict(X_test_dis)\n",
    "\n",
    "    if log_transformation:\n",
    "        y_train = np.exp(y_train)\n",
    "        y_test = np.exp(y_test)\n",
    "        y_pred_train_en_dis = np.exp(y_pred_train_en_dis)\n",
    "        y_pred_test_en_dis = np.exp(y_pred_test_en_dis)\n",
    "\n",
    "    \n",
    "    rmse_train_en_dis = np.sqrt(mean_squared_error(y_train, y_pred_train_en_dis))\n",
    "    rmse_test_en_dis = np.sqrt(mean_squared_error(y_test, y_pred_test_en_dis))\n",
    "    mape_train_en_dis = mean_absolute_percentage_error(y_train, y_pred_train_en_dis)*100\n",
    "    mape_test_en_dis = mean_absolute_percentage_error(y_test, y_pred_test_en_dis)*100\n",
    "\n",
    "    models.append(elasticnet_dis)\n",
    "    y_pred_trains.append(y_pred_train_en_dis)\n",
    "    y_pred_tests.append(y_pred_test_en_dis)\n",
    "    train_rmses.append(rmse_train_en_dis)\n",
    "    test_rmses.append(rmse_test_en_dis)\n",
    "    train_mapes.append(mape_train_en_dis)\n",
    "    test_mapes.append(mape_test_en_dis)\n",
    "\n",
    "best_model_index = test_rmses.index(min(test_rmses))"
   ]
  },
  {
   "cell_type": "code",
   "execution_count": 228,
   "metadata": {},
   "outputs": [
    {
     "name": "stdout",
     "output_type": "stream",
     "text": [
      "Discharge Elastic Net Model\n",
      "l1_ratio = 1.0\n",
      "Test RMSE:  252.57559060953594\n",
      "Test Mean Absolute % Error:  9.865572139952095\n"
     ]
    }
   ],
   "source": [
    "elasticnet_dis = models[best_model_index]\n",
    "y_pred_train_en_dis = y_pred_trains[best_model_index]\n",
    "y_pred_test_en_dis = y_pred_tests[best_model_index]\n",
    "rmse_train_dis_en = train_rmses[best_model_index]\n",
    "rmse_test_dis_en = test_rmses[best_model_index]\n",
    "l1_ratio_dis = l1_ratios[best_model_index]\n",
    "mape_train_dis_en = train_mapes[best_model_index]\n",
    "mape_test_dis_en = test_mapes[best_model_index]\n",
    "\n",
    "print(\"Discharge Elastic Net Model\")\n",
    "print(\"l1_ratio =\", l1_ratio_dis)\n",
    "print(\"Test RMSE: \", rmse_test_dis_en)\n",
    "print(\"Test Mean Absolute % Error: \", mape_test_dis_en)"
   ]
  },
  {
   "cell_type": "code",
   "execution_count": 229,
   "metadata": {},
   "outputs": [
    {
     "data": {
      "image/png": "[encoded data removed]",
      "text/plain": [
       "<Figure size 432x288 with 1 Axes>"
      ]
     },
     "metadata": {
      "needs_background": "light"
     },
     "output_type": "display_data"
    }
   ],
   "source": [
    "plt.scatter(l1_ratios, test_rmses)\n",
    "plt.title(\"Test RMSE by Ridge/Lasso Ratio (Discharge Model)\")\n",
    "plt.xlabel(\"L1 Ratio (0 = Ridge, 1 = Lasso)\")\n",
    "plt.ylabel(\"Test RMSE\");"
   ]
  },
  {
   "cell_type": "code",
   "execution_count": 230,
   "metadata": {},
   "outputs": [
    {
     "data": {
      "text/plain": [
       "Text(0.5, 1.0, 'Discharge Model Predicted vs. True Values (EN) [Combined Data]')"
      ]
     },
     "execution_count": 230,
     "metadata": {},
     "output_type": "execute_result"
    },
    {
     "data": {
      "image/png": "[encoded data removed]",
      "text/plain": [
       "<Figure size 432x288 with 1 Axes>"
      ]
     },
     "metadata": {
      "needs_background": "light"
     },
     "output_type": "display_data"
    }
   ],
   "source": [
    "#Elastic Net\n",
    "max_dis = y_test.max()[0]\n",
    "\n",
    "plt.scatter(y_test, y_pred_test_en_dis)\n",
    "plt.plot([0, max_dis], [0, max_dis], color=\"red\")\n",
    "plt.xlabel(\"True Values\")\n",
    "plt.ylabel(\"Predicted Values\")\n",
    "plt.title(\"Discharge Model Predicted vs. True Values (EN) [Combined Data]\")"
   ]
  },
  {
   "cell_type": "code",
   "execution_count": 231,
   "metadata": {},
   "outputs": [],
   "source": [
    "model_name = \"Discharge\"\n",
    "source = \"Old+New\"\n",
    "\n",
    "results_df = results_df.append(cond.append(pd.Series({\"L_rmse\": rmse_test_dis, \"EN_rmse\":rmse_test_dis_en, \n",
    "                                                      \"L_mape\": mape_test_dis, \"EN_mape\":mape_test_dis_en, \n",
    "                                                      \"model\":model_name, \"data\":source, \"coef\":elasticnet_dis.coef_,\n",
    "                                                      \"test_set\": test_set})),\n",
    "                               ignore_index=True)"
   ]
  },
  {
   "cell_type": "markdown",
   "metadata": {},
   "source": [
    "### Full Model [Combined Data]"
   ]
  },
  {
   "cell_type": "markdown",
   "metadata": {},
   "source": [
    "#### Linear Regression"
   ]
  },
  {
   "cell_type": "code",
   "execution_count": 232,
   "metadata": {},
   "outputs": [],
   "source": [
    "if environ:\n",
    "    full_model_features.remove(\"Temperature\")\n",
    "    full_model_features.remove(\"DOD\")\n",
    "    full_model_features.remove(\"Discharge_rate\")\n",
    "    full_model_features.remove(\"Charge_rate\")\n",
    "X_train_full = full_data.iloc[train_ind][full_model_features].replace([np.inf, -np.inf, 0], np.nan)\n",
    "X_test_full = full_data.iloc[test_ind][full_model_features].replace([np.inf, -np.inf, 0], np.nan)\n",
    "\n",
    "if environ:\n",
    "    full_model_features.extend((\"Temperature\", \"DOD\", \"Discharge_rate\", \"Charge_rate\"))\n",
    "    X_train_full = full_data.iloc[X_train_full.index][full_model_features]\n",
    "    X_test_full = full_data.iloc[X_test_full.index][full_model_features]\n",
    "    \n",
    "X_train_full.dropna(axis=0, inplace=True)\n",
    "y_train = full_data.iloc[X_train_full.index][[y]]\n",
    "\n",
    "\n",
    "X_test_full.dropna(axis=0, inplace=True)\n",
    "y_test = full_data.iloc[X_test_full.index][[y]]\n",
    "\n",
    "if scaled:\n",
    "    if not old_new_scaler:\n",
    "        X_train_full, X_test_full = scale(X_train_full, X_test_full)\n",
    "\n",
    "if log_transformation:\n",
    "    y_train = np.log(y_train)\n",
    "    y_test = np.log(y_test)"
   ]
  },
  {
   "cell_type": "code",
   "execution_count": 233,
   "metadata": {},
   "outputs": [],
   "source": [
    "reg_full = LinearRegression().fit(X_train_full,y_train)\n",
    "y_pred_train_full = reg_full.predict(X_train_full)\n",
    "y_pred_test_full = reg_full.predict(X_test_full)\n",
    "\n",
    "if log_transformation:\n",
    "    y_train = np.exp(y_train)\n",
    "    y_test = np.exp(y_test)\n",
    "    y_pred_train_full = np.exp(y_pred_train_full)\n",
    "    y_pred_test_full = np.exp(y_pred_test_full)"
   ]
  },
  {
   "cell_type": "code",
   "execution_count": 234,
   "metadata": {},
   "outputs": [
    {
     "name": "stdout",
     "output_type": "stream",
     "text": [
      "Full Basic Linear Regression Model\n",
      "Test RMSE:  273.1781308799871\n",
      "Mean % Test Error:  0.10721482695867147\n"
     ]
    }
   ],
   "source": [
    "rmse_train_full = np.sqrt(mean_squared_error(y_train, y_pred_train_full))\n",
    "rmse_test_full = np.sqrt(mean_squared_error(y_test, y_pred_test_full))\n",
    "mape_train_full = mean_absolute_percentage_error(y_train, y_pred_train_full)*100\n",
    "mape_test_full = mean_absolute_percentage_error(y_test, y_pred_test_full)*100\n",
    "\n",
    "print(\"Full Basic Linear Regression Model\")\n",
    "# print(\"Training RMSE: \", np.sqrt(mean_squared_error(y_train, y_pred_train_full)))\n",
    "print(\"Test RMSE: \", np.sqrt(mean_squared_error(y_test, y_pred_test_full)))\n",
    "# print(\"Mean % Train Error: \", mean_absolute_percentage_error(y_train, y_pred_train_full))\n",
    "print(\"Mean % Test Error: \", mean_absolute_percentage_error(y_test, y_pred_test_full))"
   ]
  },
  {
   "cell_type": "code",
   "execution_count": 235,
   "metadata": {},
   "outputs": [
    {
     "data": {
      "text/plain": [
       "Text(0.5, 1.0, 'Full Model Predicted vs. True Values (LR) [Combined Data]')"
      ]
     },
     "execution_count": 235,
     "metadata": {},
     "output_type": "execute_result"
    },
    {
     "data": {
      "image/png": "[encoded data removed]",
      "text/plain": [
       "<Figure size 432x288 with 1 Axes>"
      ]
     },
     "metadata": {
      "needs_background": "light"
     },
     "output_type": "display_data"
    }
   ],
   "source": [
    "# Linear Regression\n",
    "max_full = y_test.max()[0]\n",
    "\n",
    "plt.scatter(y_test, y_pred_test_full)\n",
    "plt.plot([0, max_full], [0, max_full], color=\"red\")\n",
    "plt.xlabel(\"True Values\")\n",
    "plt.ylabel(\"Predicted Values\")\n",
    "plt.title(\"Full Model Predicted vs. True Values (LR) [Combined Data]\")"
   ]
  },
  {
   "cell_type": "markdown",
   "metadata": {},
   "source": [
    "#### Elastic Net"
   ]
  },
  {
   "cell_type": "code",
   "execution_count": 236,
   "metadata": {},
   "outputs": [],
   "source": [
    "k_fold = 5\n",
    "l1_ratios = [i/20 for i in range(1, 21)]\n",
    "max_iter = 1000000\n",
    "random_state = 1\n",
    "test_size = 2\n",
    "tol = 0.0001\n",
    "\n",
    "models = []\n",
    "y_pred_trains = []\n",
    "y_pred_tests = []\n",
    "train_rmses = []\n",
    "test_rmses = []\n",
    "train_mapes = []\n",
    "test_mapes = []\n",
    "\n",
    "for l1_ratio in l1_ratios:\n",
    "    elasticnetcv = ElasticNetCV(\n",
    "        fit_intercept=True,\n",
    "        normalize=False,\n",
    "        alphas=None,\n",
    "        cv=k_fold,\n",
    "        l1_ratio=l1_ratio,\n",
    "        max_iter=max_iter,\n",
    "    )\n",
    "    \n",
    "    if log_transformation:\n",
    "        y_train = np.log(y_train)\n",
    "        y_test = np.log(y_test)\n",
    "        \n",
    "    elasticnetcv.fit(X_train_full, y_train.values.ravel())\n",
    "\n",
    "    elasticnet_full = ElasticNet(\n",
    "        fit_intercept=True,\n",
    "        normalize=False,\n",
    "        l1_ratio=elasticnetcv.l1_ratio_,\n",
    "        alpha=elasticnetcv.alpha_,\n",
    "        max_iter=max_iter,\n",
    "    )\n",
    "\n",
    "    elasticnet_full.fit(X_train_full, y_train.values.ravel())\n",
    "    y_pred_train_en_full = elasticnet_full.predict(X_train_full)\n",
    "    y_pred_test_en_full = elasticnet_full.predict(X_test_full)\n",
    "\n",
    "    if log_transformation:\n",
    "        y_train = np.exp(y_train)\n",
    "        y_test = np.exp(y_test)\n",
    "        y_pred_train_en_full = np.exp(y_pred_train_en_full)\n",
    "        y_pred_test_en_full = np.exp(y_pred_test_en_full)\n",
    "        \n",
    "    rmse_train_en_full = np.sqrt(mean_squared_error(y_train, y_pred_train_en_full))\n",
    "    rmse_test_en_full = np.sqrt(mean_squared_error(y_test, y_pred_test_en_full))\n",
    "    mape_train_en_full = mean_absolute_percentage_error(y_train, y_pred_train_en_full)*100\n",
    "    mape_test_en_full = mean_absolute_percentage_error(y_test, y_pred_test_en_full)*100\n",
    "\n",
    "    models.append(elasticnet_full)\n",
    "    y_pred_trains.append(y_pred_train_en_full)\n",
    "    y_pred_tests.append(y_pred_test_en_full)\n",
    "    train_rmses.append(rmse_train_en_full)\n",
    "    test_rmses.append(rmse_test_en_full)\n",
    "    train_mapes.append(mape_train_en_full)\n",
    "    test_mapes.append(mape_test_en_full)\n",
    "\n",
    "best_model_index = test_rmses.index(min(test_rmses))"
   ]
  },
  {
   "cell_type": "code",
   "execution_count": 237,
   "metadata": {},
   "outputs": [
    {
     "name": "stdout",
     "output_type": "stream",
     "text": [
      "Full Elastic Net Model\n",
      "l1_ratio = 1.0\n",
      "Test RMSE:  319.7734256482331\n",
      "Test Mean Absolute % Error:  13.713945008824474\n"
     ]
    }
   ],
   "source": [
    "elasticnet_full = models[best_model_index]\n",
    "y_pred_train_en_full = y_pred_trains[best_model_index]\n",
    "y_pred_test_en_full = y_pred_tests[best_model_index]\n",
    "rmse_train_full_en = train_rmses[best_model_index]\n",
    "rmse_test_full_en = test_rmses[best_model_index]\n",
    "l1_ratio_full = l1_ratios[best_model_index]\n",
    "mape_train_full_en = train_mapes[best_model_index]\n",
    "mape_test_full_en = test_mapes[best_model_index]\n",
    "\n",
    "print(\"Full Elastic Net Model\")\n",
    "print(\"l1_ratio =\", l1_ratio_full)\n",
    "print(\"Test RMSE: \", rmse_test_full_en)\n",
    "print(\"Test Mean Absolute % Error: \", mape_test_full_en)"
   ]
  },
  {
   "cell_type": "code",
   "execution_count": 238,
   "metadata": {},
   "outputs": [
    {
     "data": {
      "image/png": "[encoded data removed]",
      "text/plain": [
       "<Figure size 432x288 with 1 Axes>"
      ]
     },
     "metadata": {
      "needs_background": "light"
     },
     "output_type": "display_data"
    }
   ],
   "source": [
    "plt.scatter(l1_ratios, test_rmses)\n",
    "plt.title(\"Test RMSE by Ridge/Lasso Ratio (Full Model)\")\n",
    "plt.xlabel(\"L1 Ratio (0 = Ridge, 1 = Lasso)\")\n",
    "plt.ylabel(\"Test RMSE\");"
   ]
  },
  {
   "cell_type": "code",
   "execution_count": 239,
   "metadata": {},
   "outputs": [
    {
     "data": {
      "text/plain": [
       "Text(0.5, 1.0, 'Full Model Predicted vs. True Values (EN) [Combined Data]')"
      ]
     },
     "execution_count": 239,
     "metadata": {},
     "output_type": "execute_result"
    },
    {
     "data": {
      "image/png": "[encoded data removed]",
      "text/plain": [
       "<Figure size 432x288 with 1 Axes>"
      ]
     },
     "metadata": {
      "needs_background": "light"
     },
     "output_type": "display_data"
    }
   ],
   "source": [
    "#Elastic Net\n",
    "max_full = y_test.max()[0]\n",
    "\n",
    "plt.scatter(y_test, y_pred_test_en_full)\n",
    "plt.plot([0, max_full], [0, max_full], color=\"red\")\n",
    "plt.xlabel(\"True Values\")\n",
    "plt.ylabel(\"Predicted Values\")\n",
    "plt.title(\"Full Model Predicted vs. True Values (EN) [Combined Data]\")"
   ]
  },
  {
   "cell_type": "code",
   "execution_count": 240,
   "metadata": {},
   "outputs": [],
   "source": [
    "model_name = \"Full\"\n",
    "source = \"Old+New\"\n",
    "\n",
    "results_df = results_df.append(cond.append(pd.Series({\"L_rmse\": rmse_test_full, \"EN_rmse\":rmse_test_full_en, \n",
    "                                                      \"L_mape\": mape_test_full, \"EN_mape\":mape_test_full_en, \n",
    "                                                      \"model\":model_name, \"data\":source, \"coef\":elasticnet_full.coef_,\n",
    "                                                      \"test_set\": test_set})),\n",
    "                               ignore_index=True)"
   ]
  },
  {
   "cell_type": "code",
   "execution_count": 241,
   "metadata": {},
   "outputs": [
    {
     "data": {
      "text/html": [
       "<div>\n",
       "<style scoped>\n",
       "    .dataframe tbody tr th:only-of-type {\n",
       "        vertical-align: middle;\n",
       "    }\n",
       "\n",
       "    .dataframe tbody tr th {\n",
       "        vertical-align: top;\n",
       "    }\n",
       "\n",
       "    .dataframe thead th {\n",
       "        text-align: right;\n",
       "    }\n",
       "</style>\n",
       "<table border=\"1\" class=\"dataframe\">\n",
       "  <thead>\n",
       "    <tr style=\"text-align: right;\">\n",
       "      <th></th>\n",
       "      <th>EN_mape</th>\n",
       "      <th>EN_rmse</th>\n",
       "      <th>L_mape</th>\n",
       "      <th>L_rmse</th>\n",
       "      <th>coef</th>\n",
       "      <th>ct</th>\n",
       "      <th>data</th>\n",
       "      <th>environ</th>\n",
       "      <th>ir</th>\n",
       "      <th>log_y</th>\n",
       "      <th>model</th>\n",
       "      <th>other_chem</th>\n",
       "      <th>separate_scaler</th>\n",
       "      <th>sources_ind</th>\n",
       "      <th>standardized</th>\n",
       "      <th>time_temp_cycle</th>\n",
       "      <th>test_set</th>\n",
       "    </tr>\n",
       "  </thead>\n",
       "  <tbody>\n",
       "    <tr>\n",
       "      <th>0</th>\n",
       "      <td>14.846083</td>\n",
       "      <td>214.314909</td>\n",
       "      <td>14.850106</td>\n",
       "      <td>214.300599</td>\n",
       "      <td>[-470.4674340138828, 0.0, 0.0, 0.0, 0.0]</td>\n",
       "      <td>1.0</td>\n",
       "      <td>Old</td>\n",
       "      <td>1.0</td>\n",
       "      <td>0.0</td>\n",
       "      <td>1.0</td>\n",
       "      <td>Variance</td>\n",
       "      <td>1.0</td>\n",
       "      <td>1.0</td>\n",
       "      <td>1.0</td>\n",
       "      <td>1.0</td>\n",
       "      <td>0.0</td>\n",
       "      <td>NaN</td>\n",
       "    </tr>\n",
       "    <tr>\n",
       "      <th>1</th>\n",
       "      <td>17.042336</td>\n",
       "      <td>320.487572</td>\n",
       "      <td>19.830829</td>\n",
       "      <td>335.350991</td>\n",
       "      <td>[-98.68914706029473, -125.29539557843025, 30.2...</td>\n",
       "      <td>1.0</td>\n",
       "      <td>Old</td>\n",
       "      <td>1.0</td>\n",
       "      <td>0.0</td>\n",
       "      <td>1.0</td>\n",
       "      <td>Discharge</td>\n",
       "      <td>1.0</td>\n",
       "      <td>1.0</td>\n",
       "      <td>1.0</td>\n",
       "      <td>1.0</td>\n",
       "      <td>0.0</td>\n",
       "      <td>NaN</td>\n",
       "    </tr>\n",
       "    <tr>\n",
       "      <th>2</th>\n",
       "      <td>14.131775</td>\n",
       "      <td>202.130177</td>\n",
       "      <td>16.906216</td>\n",
       "      <td>216.141783</td>\n",
       "      <td>[-268.91167504993365, -190.43748661936687, -22...</td>\n",
       "      <td>1.0</td>\n",
       "      <td>Old</td>\n",
       "      <td>1.0</td>\n",
       "      <td>0.0</td>\n",
       "      <td>1.0</td>\n",
       "      <td>Full</td>\n",
       "      <td>1.0</td>\n",
       "      <td>1.0</td>\n",
       "      <td>1.0</td>\n",
       "      <td>1.0</td>\n",
       "      <td>0.0</td>\n",
       "      <td>NaN</td>\n",
       "    </tr>\n",
       "    <tr>\n",
       "      <th>3</th>\n",
       "      <td>48.602164</td>\n",
       "      <td>1430.500940</td>\n",
       "      <td>35.860055</td>\n",
       "      <td>1175.038073</td>\n",
       "      <td>[-0.0, -0.0, -293.04399694714783, -0.0, 0.0, 0...</td>\n",
       "      <td>1.0</td>\n",
       "      <td>New</td>\n",
       "      <td>1.0</td>\n",
       "      <td>0.0</td>\n",
       "      <td>1.0</td>\n",
       "      <td>Variance</td>\n",
       "      <td>1.0</td>\n",
       "      <td>1.0</td>\n",
       "      <td>1.0</td>\n",
       "      <td>1.0</td>\n",
       "      <td>0.0</td>\n",
       "      <td>NaN</td>\n",
       "    </tr>\n",
       "    <tr>\n",
       "      <th>4</th>\n",
       "      <td>40.560623</td>\n",
       "      <td>1137.446651</td>\n",
       "      <td>29.745367</td>\n",
       "      <td>924.647886</td>\n",
       "      <td>[-4.88096244246171, -5.911987686128609, 6.1923...</td>\n",
       "      <td>1.0</td>\n",
       "      <td>New</td>\n",
       "      <td>1.0</td>\n",
       "      <td>0.0</td>\n",
       "      <td>1.0</td>\n",
       "      <td>Discharge</td>\n",
       "      <td>1.0</td>\n",
       "      <td>1.0</td>\n",
       "      <td>1.0</td>\n",
       "      <td>1.0</td>\n",
       "      <td>0.0</td>\n",
       "      <td>NaN</td>\n",
       "    </tr>\n",
       "    <tr>\n",
       "      <th>5</th>\n",
       "      <td>36.528570</td>\n",
       "      <td>1302.662862</td>\n",
       "      <td>27.750433</td>\n",
       "      <td>930.103511</td>\n",
       "      <td>[-134.65153702725303, -89.7066555564077, 149.0...</td>\n",
       "      <td>1.0</td>\n",
       "      <td>New</td>\n",
       "      <td>1.0</td>\n",
       "      <td>0.0</td>\n",
       "      <td>1.0</td>\n",
       "      <td>Full</td>\n",
       "      <td>1.0</td>\n",
       "      <td>1.0</td>\n",
       "      <td>1.0</td>\n",
       "      <td>1.0</td>\n",
       "      <td>0.0</td>\n",
       "      <td>NaN</td>\n",
       "    </tr>\n",
       "    <tr>\n",
       "      <th>6</th>\n",
       "      <td>23.610894</td>\n",
       "      <td>159.716456</td>\n",
       "      <td>21.215085</td>\n",
       "      <td>150.788226</td>\n",
       "      <td>[-0.345328825716226, -0.0, -0.0119873317642898...</td>\n",
       "      <td>1.0</td>\n",
       "      <td>Old+New</td>\n",
       "      <td>1.0</td>\n",
       "      <td>0.0</td>\n",
       "      <td>1.0</td>\n",
       "      <td>Variance</td>\n",
       "      <td>1.0</td>\n",
       "      <td>1.0</td>\n",
       "      <td>1.0</td>\n",
       "      <td>1.0</td>\n",
       "      <td>0.0</td>\n",
       "      <td>old</td>\n",
       "    </tr>\n",
       "    <tr>\n",
       "      <th>7</th>\n",
       "      <td>14.105984</td>\n",
       "      <td>98.624570</td>\n",
       "      <td>14.597642</td>\n",
       "      <td>111.312834</td>\n",
       "      <td>[0.0, -0.22834008556794605, 0.0286968761680433...</td>\n",
       "      <td>1.0</td>\n",
       "      <td>Old+New</td>\n",
       "      <td>1.0</td>\n",
       "      <td>0.0</td>\n",
       "      <td>1.0</td>\n",
       "      <td>Discharge</td>\n",
       "      <td>1.0</td>\n",
       "      <td>1.0</td>\n",
       "      <td>1.0</td>\n",
       "      <td>1.0</td>\n",
       "      <td>0.0</td>\n",
       "      <td>old</td>\n",
       "    </tr>\n",
       "    <tr>\n",
       "      <th>8</th>\n",
       "      <td>21.375120</td>\n",
       "      <td>169.949485</td>\n",
       "      <td>20.039381</td>\n",
       "      <td>188.177790</td>\n",
       "      <td>[0.12193371200267246, -0.40473595514946115, 0....</td>\n",
       "      <td>1.0</td>\n",
       "      <td>Old+New</td>\n",
       "      <td>1.0</td>\n",
       "      <td>0.0</td>\n",
       "      <td>1.0</td>\n",
       "      <td>Full</td>\n",
       "      <td>1.0</td>\n",
       "      <td>1.0</td>\n",
       "      <td>1.0</td>\n",
       "      <td>1.0</td>\n",
       "      <td>0.0</td>\n",
       "      <td>old</td>\n",
       "    </tr>\n",
       "    <tr>\n",
       "      <th>9</th>\n",
       "      <td>14.846083</td>\n",
       "      <td>214.314909</td>\n",
       "      <td>14.850106</td>\n",
       "      <td>214.300599</td>\n",
       "      <td>[-470.4674340138828, 0.0, 0.0, 0.0, 0.0]</td>\n",
       "      <td>1.0</td>\n",
       "      <td>Old</td>\n",
       "      <td>1.0</td>\n",
       "      <td>0.0</td>\n",
       "      <td>1.0</td>\n",
       "      <td>Variance</td>\n",
       "      <td>0.0</td>\n",
       "      <td>1.0</td>\n",
       "      <td>1.0</td>\n",
       "      <td>1.0</td>\n",
       "      <td>0.0</td>\n",
       "      <td>NaN</td>\n",
       "    </tr>\n",
       "    <tr>\n",
       "      <th>10</th>\n",
       "      <td>17.042336</td>\n",
       "      <td>320.487572</td>\n",
       "      <td>19.830829</td>\n",
       "      <td>335.350991</td>\n",
       "      <td>[-98.68914706029473, -125.29539557843025, 30.2...</td>\n",
       "      <td>1.0</td>\n",
       "      <td>Old</td>\n",
       "      <td>1.0</td>\n",
       "      <td>0.0</td>\n",
       "      <td>1.0</td>\n",
       "      <td>Discharge</td>\n",
       "      <td>0.0</td>\n",
       "      <td>1.0</td>\n",
       "      <td>1.0</td>\n",
       "      <td>1.0</td>\n",
       "      <td>0.0</td>\n",
       "      <td>NaN</td>\n",
       "    </tr>\n",
       "    <tr>\n",
       "      <th>11</th>\n",
       "      <td>14.131775</td>\n",
       "      <td>202.130177</td>\n",
       "      <td>16.906216</td>\n",
       "      <td>216.141783</td>\n",
       "      <td>[-268.91167504993365, -190.43748661936687, -22...</td>\n",
       "      <td>1.0</td>\n",
       "      <td>Old</td>\n",
       "      <td>1.0</td>\n",
       "      <td>0.0</td>\n",
       "      <td>1.0</td>\n",
       "      <td>Full</td>\n",
       "      <td>0.0</td>\n",
       "      <td>1.0</td>\n",
       "      <td>1.0</td>\n",
       "      <td>1.0</td>\n",
       "      <td>0.0</td>\n",
       "      <td>NaN</td>\n",
       "    </tr>\n",
       "    <tr>\n",
       "      <th>12</th>\n",
       "      <td>14.841177</td>\n",
       "      <td>569.236518</td>\n",
       "      <td>18.419035</td>\n",
       "      <td>782.313723</td>\n",
       "      <td>[0.0, -0.0, 25.596247646575108, -0.0, 0.0]</td>\n",
       "      <td>1.0</td>\n",
       "      <td>New</td>\n",
       "      <td>1.0</td>\n",
       "      <td>0.0</td>\n",
       "      <td>1.0</td>\n",
       "      <td>Variance</td>\n",
       "      <td>0.0</td>\n",
       "      <td>1.0</td>\n",
       "      <td>1.0</td>\n",
       "      <td>1.0</td>\n",
       "      <td>0.0</td>\n",
       "      <td>NaN</td>\n",
       "    </tr>\n",
       "    <tr>\n",
       "      <th>13</th>\n",
       "      <td>14.084639</td>\n",
       "      <td>493.427889</td>\n",
       "      <td>78.211028</td>\n",
       "      <td>3237.884503</td>\n",
       "      <td>[125.01818707973375, 0.0, -232.81819084202127,...</td>\n",
       "      <td>1.0</td>\n",
       "      <td>New</td>\n",
       "      <td>1.0</td>\n",
       "      <td>0.0</td>\n",
       "      <td>1.0</td>\n",
       "      <td>Discharge</td>\n",
       "      <td>0.0</td>\n",
       "      <td>1.0</td>\n",
       "      <td>1.0</td>\n",
       "      <td>1.0</td>\n",
       "      <td>0.0</td>\n",
       "      <td>NaN</td>\n",
       "    </tr>\n",
       "    <tr>\n",
       "      <th>14</th>\n",
       "      <td>16.314351</td>\n",
       "      <td>633.876076</td>\n",
       "      <td>38.015525</td>\n",
       "      <td>1685.101194</td>\n",
       "      <td>[0.0, -0.0, 0.0, 0.0, -0.0, -0.0, -0.0, 1.9024...</td>\n",
       "      <td>1.0</td>\n",
       "      <td>New</td>\n",
       "      <td>1.0</td>\n",
       "      <td>0.0</td>\n",
       "      <td>1.0</td>\n",
       "      <td>Full</td>\n",
       "      <td>0.0</td>\n",
       "      <td>1.0</td>\n",
       "      <td>1.0</td>\n",
       "      <td>1.0</td>\n",
       "      <td>0.0</td>\n",
       "      <td>NaN</td>\n",
       "    </tr>\n",
       "    <tr>\n",
       "      <th>15</th>\n",
       "      <td>17.198238</td>\n",
       "      <td>372.982045</td>\n",
       "      <td>17.591147</td>\n",
       "      <td>373.903210</td>\n",
       "      <td>[-0.4691393226384278, -0.3685767404820886, -0....</td>\n",
       "      <td>1.0</td>\n",
       "      <td>Old+New</td>\n",
       "      <td>1.0</td>\n",
       "      <td>0.0</td>\n",
       "      <td>1.0</td>\n",
       "      <td>Variance</td>\n",
       "      <td>0.0</td>\n",
       "      <td>1.0</td>\n",
       "      <td>1.0</td>\n",
       "      <td>1.0</td>\n",
       "      <td>0.0</td>\n",
       "      <td>[combination, new, half new, new unchanged, LF...</td>\n",
       "    </tr>\n",
       "    <tr>\n",
       "      <th>16</th>\n",
       "      <td>9.865572</td>\n",
       "      <td>252.575591</td>\n",
       "      <td>9.857289</td>\n",
       "      <td>251.125984</td>\n",
       "      <td>[-0.2036418888284369, -0.160653860128058, 0.03...</td>\n",
       "      <td>1.0</td>\n",
       "      <td>Old+New</td>\n",
       "      <td>1.0</td>\n",
       "      <td>0.0</td>\n",
       "      <td>1.0</td>\n",
       "      <td>Discharge</td>\n",
       "      <td>0.0</td>\n",
       "      <td>1.0</td>\n",
       "      <td>1.0</td>\n",
       "      <td>1.0</td>\n",
       "      <td>0.0</td>\n",
       "      <td>[combination, new, half new, new unchanged, LF...</td>\n",
       "    </tr>\n",
       "    <tr>\n",
       "      <th>17</th>\n",
       "      <td>13.713945</td>\n",
       "      <td>319.773426</td>\n",
       "      <td>10.721483</td>\n",
       "      <td>273.178131</td>\n",
       "      <td>[-0.29259688111483567, -0.08101093027862517, 0...</td>\n",
       "      <td>1.0</td>\n",
       "      <td>Old+New</td>\n",
       "      <td>1.0</td>\n",
       "      <td>0.0</td>\n",
       "      <td>1.0</td>\n",
       "      <td>Full</td>\n",
       "      <td>0.0</td>\n",
       "      <td>1.0</td>\n",
       "      <td>1.0</td>\n",
       "      <td>1.0</td>\n",
       "      <td>0.0</td>\n",
       "      <td>[combination, new, half new, new unchanged, LF...</td>\n",
       "    </tr>\n",
       "  </tbody>\n",
       "</table>\n",
       "</div>"
      ],
      "text/plain": [
       "      EN_mape      EN_rmse     L_mape       L_rmse  \\\n",
       "0   14.846083   214.314909  14.850106   214.300599   \n",
       "1   17.042336   320.487572  19.830829   335.350991   \n",
       "2   14.131775   202.130177  16.906216   216.141783   \n",
       "3   48.602164  1430.500940  35.860055  1175.038073   \n",
       "4   40.560623  1137.446651  29.745367   924.647886   \n",
       "5   36.528570  1302.662862  27.750433   930.103511   \n",
       "6   23.610894   159.716456  21.215085   150.788226   \n",
       "7   14.105984    98.624570  14.597642   111.312834   \n",
       "8   21.375120   169.949485  20.039381   188.177790   \n",
       "9   14.846083   214.314909  14.850106   214.300599   \n",
       "10  17.042336   320.487572  19.830829   335.350991   \n",
       "11  14.131775   202.130177  16.906216   216.141783   \n",
       "12  14.841177   569.236518  18.419035   782.313723   \n",
       "13  14.084639   493.427889  78.211028  3237.884503   \n",
       "14  16.314351   633.876076  38.015525  1685.101194   \n",
       "15  17.198238   372.982045  17.591147   373.903210   \n",
       "16   9.865572   252.575591   9.857289   251.125984   \n",
       "17  13.713945   319.773426  10.721483   273.178131   \n",
       "\n",
       "                                                 coef   ct     data  environ  \\\n",
       "0            [-470.4674340138828, 0.0, 0.0, 0.0, 0.0]  1.0      Old      1.0   \n",
       "1   [-98.68914706029473, -125.29539557843025, 30.2...  1.0      Old      1.0   \n",
       "2   [-268.91167504993365, -190.43748661936687, -22...  1.0      Old      1.0   \n",
       "3   [-0.0, -0.0, -293.04399694714783, -0.0, 0.0, 0...  1.0      New      1.0   \n",
       "4   [-4.88096244246171, -5.911987686128609, 6.1923...  1.0      New      1.0   \n",
       "5   [-134.65153702725303, -89.7066555564077, 149.0...  1.0      New      1.0   \n",
       "6   [-0.345328825716226, -0.0, -0.0119873317642898...  1.0  Old+New      1.0   \n",
       "7   [0.0, -0.22834008556794605, 0.0286968761680433...  1.0  Old+New      1.0   \n",
       "8   [0.12193371200267246, -0.40473595514946115, 0....  1.0  Old+New      1.0   \n",
       "9            [-470.4674340138828, 0.0, 0.0, 0.0, 0.0]  1.0      Old      1.0   \n",
       "10  [-98.68914706029473, -125.29539557843025, 30.2...  1.0      Old      1.0   \n",
       "11  [-268.91167504993365, -190.43748661936687, -22...  1.0      Old      1.0   \n",
       "12         [0.0, -0.0, 25.596247646575108, -0.0, 0.0]  1.0      New      1.0   \n",
       "13  [125.01818707973375, 0.0, -232.81819084202127,...  1.0      New      1.0   \n",
       "14  [0.0, -0.0, 0.0, 0.0, -0.0, -0.0, -0.0, 1.9024...  1.0      New      1.0   \n",
       "15  [-0.4691393226384278, -0.3685767404820886, -0....  1.0  Old+New      1.0   \n",
       "16  [-0.2036418888284369, -0.160653860128058, 0.03...  1.0  Old+New      1.0   \n",
       "17  [-0.29259688111483567, -0.08101093027862517, 0...  1.0  Old+New      1.0   \n",
       "\n",
       "     ir  log_y      model  other_chem  separate_scaler  sources_ind  \\\n",
       "0   0.0    1.0   Variance         1.0              1.0          1.0   \n",
       "1   0.0    1.0  Discharge         1.0              1.0          1.0   \n",
       "2   0.0    1.0       Full         1.0              1.0          1.0   \n",
       "3   0.0    1.0   Variance         1.0              1.0          1.0   \n",
       "4   0.0    1.0  Discharge         1.0              1.0          1.0   \n",
       "5   0.0    1.0       Full         1.0              1.0          1.0   \n",
       "6   0.0    1.0   Variance         1.0              1.0          1.0   \n",
       "7   0.0    1.0  Discharge         1.0              1.0          1.0   \n",
       "8   0.0    1.0       Full         1.0              1.0          1.0   \n",
       "9   0.0    1.0   Variance         0.0              1.0          1.0   \n",
       "10  0.0    1.0  Discharge         0.0              1.0          1.0   \n",
       "11  0.0    1.0       Full         0.0              1.0          1.0   \n",
       "12  0.0    1.0   Variance         0.0              1.0          1.0   \n",
       "13  0.0    1.0  Discharge         0.0              1.0          1.0   \n",
       "14  0.0    1.0       Full         0.0              1.0          1.0   \n",
       "15  0.0    1.0   Variance         0.0              1.0          1.0   \n",
       "16  0.0    1.0  Discharge         0.0              1.0          1.0   \n",
       "17  0.0    1.0       Full         0.0              1.0          1.0   \n",
       "\n",
       "    standardized  time_temp_cycle  \\\n",
       "0            1.0              0.0   \n",
       "1            1.0              0.0   \n",
       "2            1.0              0.0   \n",
       "3            1.0              0.0   \n",
       "4            1.0              0.0   \n",
       "5            1.0              0.0   \n",
       "6            1.0              0.0   \n",
       "7            1.0              0.0   \n",
       "8            1.0              0.0   \n",
       "9            1.0              0.0   \n",
       "10           1.0              0.0   \n",
       "11           1.0              0.0   \n",
       "12           1.0              0.0   \n",
       "13           1.0              0.0   \n",
       "14           1.0              0.0   \n",
       "15           1.0              0.0   \n",
       "16           1.0              0.0   \n",
       "17           1.0              0.0   \n",
       "\n",
       "                                             test_set  \n",
       "0                                                 NaN  \n",
       "1                                                 NaN  \n",
       "2                                                 NaN  \n",
       "3                                                 NaN  \n",
       "4                                                 NaN  \n",
       "5                                                 NaN  \n",
       "6                                                 old  \n",
       "7                                                 old  \n",
       "8                                                 old  \n",
       "9                                                 NaN  \n",
       "10                                                NaN  \n",
       "11                                                NaN  \n",
       "12                                                NaN  \n",
       "13                                                NaN  \n",
       "14                                                NaN  \n",
       "15  [combination, new, half new, new unchanged, LF...  \n",
       "16  [combination, new, half new, new unchanged, LF...  \n",
       "17  [combination, new, half new, new unchanged, LF...  "
      ]
     },
     "execution_count": 241,
     "metadata": {},
     "output_type": "execute_result"
    }
   ],
   "source": [
    "results_df"
   ]
  },
  {
   "cell_type": "markdown",
   "metadata": {},
   "source": [
    "## Old + New Data Plots"
   ]
  },
  {
   "cell_type": "code",
   "execution_count": 242,
   "metadata": {},
   "outputs": [
    {
     "name": "stderr",
     "output_type": "stream",
     "text": [
      "c:\\users\\mattm\\appdata\\local\\programs\\python\\python36\\lib\\site-packages\\seaborn\\distributions.py:2557: FutureWarning: `distplot` is a deprecated function and will be removed in a future version. Please adapt your code to use either `displot` (a figure-level function with similar flexibility) or `histplot` (an axes-level function for histograms).\n",
      "  warnings.warn(msg, FutureWarning)\n"
     ]
    },
    {
     "data": {
      "image/png": "[encoded data removed]",
      "text/plain": [
       "<Figure size 432x288 with 1 Axes>"
      ]
     },
     "metadata": {
      "needs_background": "light"
     },
     "output_type": "display_data"
    }
   ],
   "source": [
    "sns.distplot(old_ct[y], kde=False, color=\"yellow\", label='Old Data', bins=5)\n",
    "sns.distplot(new_ct_full[y], kde=False, color=\"red\", label='New Data', bins=10)\n",
    "\n",
    "# Plot formatting\n",
    "plt.legend(prop={'size': 12})\n",
    "if ct:\n",
    "    plt.title('Average Charge Throughput of Data Sources')\n",
    "    plt.xlabel('Charge Throughput')\n",
    "else:\n",
    "    plt.title('Average Cycle Life of Data Sources')\n",
    "    plt.xlabel('Cycle Life')\n",
    "plt.ylabel('Frequency');"
   ]
  },
  {
   "cell_type": "code",
   "execution_count": 243,
   "metadata": {},
   "outputs": [
    {
     "data": {
      "image/png": "[encoded data removed]",
      "text/plain": [
       "<Figure size 432x288 with 1 Axes>"
      ]
     },
     "metadata": {
      "needs_background": "light"
     },
     "output_type": "display_data"
    }
   ],
   "source": [
    "sns.histplot(new_ct_full[y], color=\"red\", label='New Data')\n",
    "sns.histplot(full_data[y], color = \"yellow\", label = 'Combined Data')\n",
    "sns.histplot(old_ct[y], color=\"blue\", label='Old Data')\n",
    "\n",
    "# Plot formatting\n",
    "plt.legend(prop={'size': 12})\n",
    "if ct:\n",
    "    plt.title('Average Charge Throughput of Data Sources')\n",
    "    plt.xlabel('Charge Throughput')\n",
    "else:\n",
    "    plt.title('Average Cycle Life of Data Sources')\n",
    "    plt.xlabel('Cycle Life')\n",
    "plt.ylabel('Frequency');"
   ]
  },
  {
   "cell_type": "code",
   "execution_count": 244,
   "metadata": {},
   "outputs": [],
   "source": [
    "all_data_metrics = pd.DataFrame(data = {\n",
    "    \n",
    "                               \"Model & Source\": [\"Var (Linear)\", \"Var (E.N.)\", \n",
    "                                                  \"Disc (Linear)\", \"Disc (E.N.)\",\n",
    "                                                  \"Full (Linear)\", \"Full (E.N.)\"],\n",
    "                               \n",
    "                               \"Model\": [\"Variance\", \"Variance\",\n",
    "                                         \"Discharge\", \"Discharge\",\n",
    "                                         \"Full\", \"Full\"],\n",
    "                                        \n",
    "                               \"Source\": [\"Basic Linear Regression\", \"Elastic Net\",\n",
    "                                          \"Basic Linear Regression\", \"Elastic Net\",\n",
    "                                          \"Basic Linear Regression\", \"Elastic Net\"],\n",
    "                                        \n",
    "                               \"Train RMSE\": [rmse_train_var, rmse_train_var_en,\n",
    "                                              rmse_train_dis, rmse_train_dis_en,\n",
    "                                              rmse_train_full, rmse_train_full_en],\n",
    "                               \n",
    "                               \"Test RMSE\": [rmse_test_var, rmse_test_var_en,\n",
    "                                             rmse_test_dis, rmse_test_dis_en,\n",
    "                                             rmse_test_full, rmse_test_full_en],\n",
    "                               \n",
    "                               \"Train MAPE\": [mape_train_var, mape_train_var_en,\n",
    "                                              mape_train_dis, mape_train_dis_en,\n",
    "                                              mape_train_full, mape_train_full_en],\n",
    "                               \n",
    "                               \"Test MAPE\": [mape_test_var, mape_test_var_en,\n",
    "                                             mape_test_dis, mape_test_dis_en,\n",
    "                                             mape_test_full, mape_test_full_en]\n",
    "})"
   ]
  },
  {
   "cell_type": "code",
   "execution_count": 245,
   "metadata": {},
   "outputs": [
    {
     "data": {
      "image/png": "[encoded data removed]",
      "text/plain": [
       "<Figure size 515.375x360 with 1 Axes>"
      ]
     },
     "metadata": {
      "needs_background": "light"
     },
     "output_type": "display_data"
    },
    {
     "data": {
      "image/png": "[encoded data removed]",
      "text/plain": [
       "<Figure size 515.375x360 with 1 Axes>"
      ]
     },
     "metadata": {
      "needs_background": "light"
     },
     "output_type": "display_data"
    },
    {
     "data": {
      "image/png": "[encoded data removed]",
      "text/plain": [
       "<Figure size 515.375x360 with 1 Axes>"
      ]
     },
     "metadata": {
      "needs_background": "light"
     },
     "output_type": "display_data"
    },
    {
     "data": {
      "image/png": "[encoded data removed]",
      "text/plain": [
       "<Figure size 515.375x360 with 1 Axes>"
      ]
     },
     "metadata": {
      "needs_background": "light"
     },
     "output_type": "display_data"
    }
   ],
   "source": [
    "for column in all_data_metrics.columns[3:]:\n",
    "    sns.catplot(data = all_data_metrics, kind=\"bar\",\n",
    "               x = \"Model\", y = column, hue = \"Source\")\n",
    "    plt.title(column + \" Comparison [Combined Data]\")"
   ]
  },
  {
   "cell_type": "code",
   "execution_count": 246,
   "metadata": {},
   "outputs": [],
   "source": [
    "enet_mapes = []\n",
    "enet_rmses = []\n",
    "lr_mapes = []\n",
    "lr_rmses = []\n",
    "\n",
    "for data in [old_data_metrics, new_data_metrics, all_data_metrics]:\n",
    "    for i in range(1, 6, 2):\n",
    "        enet_mapes.append(data.iloc[i][\"Test MAPE\"])\n",
    "        enet_rmses.append(data.iloc[i][\"Test RMSE\"])\n",
    "\n",
    "    for i in range(0, 6, 2):\n",
    "        lr_mapes.append(data.iloc[i][\"Test MAPE\"])\n",
    "        lr_rmses.append(data.iloc[i][\"Test RMSE\"])\n",
    "\n",
    "all_metrics = pd.DataFrame(data = {\n",
    "    \n",
    "    \"Model\": [\"Basic Linear Regression\"]*9 + [\"Elastic Net\"]*9,\n",
    "    \n",
    "    \"Data Source\": [\"Old\"]*3 + [\"New\"]*3 + [\"Combined\"]*3 + [\"Old\"]*3 + [\"New\"]*3 + [\"Combined\"]*3,\n",
    "    \n",
    "    \"Model Features\": [\"Variance\", \"Discharge\", \"Full\",\n",
    "                       \"Variance\", \"Discharge\", \"Full\",\n",
    "                       \"Variance\", \"Discharge\", \"Full\",\n",
    "                       \"Variance\", \"Discharge\", \"Full\",\n",
    "                       \"Variance\", \"Discharge\", \"Full\",\n",
    "                       \"Variance\", \"Discharge\", \"Full\"],\n",
    "    \n",
    "    \"Mean Absolute Percent Error\": lr_mapes + enet_mapes,\n",
    "    \n",
    "    \"RSME\": lr_rmses + enet_rmses\n",
    "})"
   ]
  },
  {
   "cell_type": "code",
   "execution_count": 247,
   "metadata": {},
   "outputs": [
    {
     "data": {
      "image/png": "[encoded data removed]",
      "text/plain": [
       "<Figure size 446.5x360 with 1 Axes>"
      ]
     },
     "metadata": {
      "needs_background": "light"
     },
     "output_type": "display_data"
    }
   ],
   "source": [
    "sns.catplot(data = all_metrics, kind=\"bar\",\n",
    "            x = \"Data Source\", y = \"Mean Absolute Percent Error\", hue = \"Model Features\")\n",
    "plt.title(\"Test MAPE Comparison\");"
   ]
  },
  {
   "cell_type": "code",
   "execution_count": 248,
   "metadata": {},
   "outputs": [
    {
     "data": {
      "image/png": "[encoded data removed]",
      "text/plain": [
       "<Figure size 1166.5x360 with 3 Axes>"
      ]
     },
     "metadata": {
      "needs_background": "light"
     },
     "output_type": "display_data"
    }
   ],
   "source": [
    "sns.catplot(data = all_metrics, kind=\"bar\",\n",
    "            x = \"Model\", y = \"Mean Absolute Percent Error\", hue = \"Model Features\", col=\"Data Source\")\n",
    "plt.title(\"Elastic Net MAPE Comparison\");"
   ]
  },
  {
   "cell_type": "code",
   "execution_count": null,
   "metadata": {},
   "outputs": [],
   "source": []
  }
 ],
 "metadata": {
  "kernelspec": {
   "display_name": "Python 3",
   "language": "python",
   "name": "python3"
  },
  "language_info": {
   "codemirror_mode": {
    "name": "ipython",
    "version": 3
   },
   "file_extension": ".py",
   "mimetype": "text/x-python",
   "name": "python",
   "nbconvert_exporter": "python",
   "pygments_lexer": "ipython3",
   "version": "3.6.5"
  }
 },
 "nbformat": 4,
 "nbformat_minor": 5
}
