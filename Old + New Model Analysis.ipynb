{
 "cells": [
  {
   "cell_type": "code",
   "execution_count": 1,
   "id": "sexual-solid",
   "metadata": {},
   "outputs": [],
   "source": [
    "import os\n",
    "import pandas as pd\n",
    "import numpy as np\n",
    "import requests\n",
    "import json\n",
    "import glob\n",
    "import re\n",
    "import seaborn as sns\n",
    "from matplotlib import pyplot as plt\n",
    "from monty.serialization import loadfn"
   ]
  },
  {
   "cell_type": "markdown",
   "id": "reasonable-montreal",
   "metadata": {},
   "source": [
    "Select desired values for booleans:"
   ]
  },
  {
   "cell_type": "code",
   "execution_count": 2,
   "id": "freelance-integration",
   "metadata": {},
   "outputs": [],
   "source": [
    "#True if using charge_throughput as response variable, False if using cycle life (X.capacity_0.8)\n",
    "ct = True\n",
    "\n",
    "#True if including 'X.integrated_time_temperature_cycles_1:100' to full model, False if not\n",
    "integrated_time_temp_cycles = False\n",
    "\n",
    "#True if applying a log transformtion to combined data, False if no transformation\n",
    "log_transformation = True\n",
    "\n",
    "#True if including internal resistance for old data, False if not (no internal resistance variable for new data)\n",
    "ir = False\n",
    "\n",
    "#True if standardizing explanatory variables, False otherwise (necessary for elastic net)\n",
    "standardized = True\n",
    "\n",
    "if standardized:\n",
    "    #True if using old and new data scaled separately in combined data, False if using a separate standard scaler for all combined data\n",
    "    old_new_scaler = False\n",
    "\n",
    "#True if using all battery chemistries, False if only LFP\n",
    "new_chemistries = True\n",
    "\n",
    "if new_chemistries:\n",
    "    #True if tracking the sources of the new chemistries, False if not\n",
    "    chem_sources = True\n",
    "    \n",
    "    #Identifies the combined data test set's chemistry, or identifies that there will be all new data or a combination all data\n",
    "    #Old data will not be used if LFP is selected, but will be used if combination is selected\n",
    "    test_set = [\"combination\", \"new\", \"LFP\", \"NCA\", \"NMC\"]\n",
    "    test_set = test_set[0]\n",
    "\n",
    "#True if identifying the source of the data (old, new), False if not\n",
    "sources = False\n",
    "\n",
    "#True if reading in the old data correctly, False if mistakenly. \n",
    "#The only reason to set this to false is if you're recreating incorrect plots to illustrate the change\n",
    "proper_old_reading = True"
   ]
  },
  {
   "cell_type": "markdown",
   "id": "vietnamese-credits",
   "metadata": {},
   "source": [
    "## Reading in the Data"
   ]
  },
  {
   "cell_type": "code",
   "execution_count": 3,
   "id": "square-illustration",
   "metadata": {},
   "outputs": [],
   "source": [
    "path = \"E:/Data/TRI/\"\n",
    "\n",
    "if proper_old_reading:\n",
    "    old_subpath = \"FastCharge/features/\"\n",
    "\n",
    "    old_d_dir = path + old_subpath + \"DeltaQFastCharge\"\n",
    "    old_t_dir = path + old_subpath + \"TrajectoryFastCharge\"\n",
    "\n",
    "\n",
    "    def getListOfFiles(dirName):\n",
    "        listOfFile = os.listdir(dirName)\n",
    "        allFiles = list()\n",
    "        for entry in listOfFile:\n",
    "            fullPath = os.path.join(dirName, entry)\n",
    "            if \".json\" in fullPath:\n",
    "                allFiles.append(fullPath)\n",
    "        return allFiles\n",
    "\n",
    "    old_d_list = getListOfFiles(old_d_dir)\n",
    "    old_t_list = getListOfFiles(old_t_dir)"
   ]
  },
  {
   "cell_type": "code",
   "execution_count": 4,
   "id": "tribal-publisher",
   "metadata": {},
   "outputs": [],
   "source": [
    "if proper_old_reading:\n",
    "    def get_new_names(d_list):\n",
    "        new_names = []\n",
    "        for file in d_list:\n",
    "            new_names.append(re.findall(\"CH(.*?)\\_f\", file)[0])\n",
    "        return new_names\n",
    "\n",
    "    def make_df(file_list, batch=False):\n",
    "        df = pd.DataFrame()\n",
    "        for file in file_list:\n",
    "            with open(file) as data_file:    \n",
    "                data = json.load(data_file)\n",
    "                data_df = pd.json_normalize(data)\n",
    "                df = pd.concat([df,data_df])\n",
    "        df.reset_index(drop=True,inplace=True)\n",
    "        if batch:\n",
    "            df['bat_num'] = get_new_names(file_list)\n",
    "        return df\n",
    "\n",
    "    def merge_df(d_df, t_df):\n",
    "        df_full = d_df.merge(t_df, left_index=True, right_index=True)\n",
    "\n",
    "        # Making values not stored as lists\n",
    "        for column in df_full.columns:\n",
    "            if \"X.\" in column:\n",
    "                df_full[column] = df_full[column].apply(lambda x: x[0])\n",
    "\n",
    "        df_full.reset_index(inplace=True)\n",
    "        return df_full"
   ]
  },
  {
   "cell_type": "code",
   "execution_count": 5,
   "id": "psychological-alliance",
   "metadata": {},
   "outputs": [],
   "source": [
    "if proper_old_reading:\n",
    "    old_d_df = make_df(old_d_list, batch=True)\n",
    "    old_d_df.head()\n",
    "\n",
    "    batches = []\n",
    "    for i in old_d_df['metadata.protocol']:\n",
    "        if '2017-05' in i:\n",
    "            batches.append('b1')\n",
    "        elif '2017-06' in i:\n",
    "            batches.append('b2')\n",
    "        elif '2018-04' in i:\n",
    "            batches.append('b3')\n",
    "\n",
    "    old_d_df['batches'] = batches\n",
    "    old_d_df['bat_name'] = old_d_df['batches'] + 'c' + old_d_df['bat_num']"
   ]
  },
  {
   "cell_type": "code",
   "execution_count": 6,
   "id": "accompanied-motor",
   "metadata": {},
   "outputs": [],
   "source": [
    "if proper_old_reading:\n",
    "    old_t_df = make_df(old_t_list)\n",
    "    old_t_df.head()"
   ]
  },
  {
   "cell_type": "code",
   "execution_count": 7,
   "id": "annual-emperor",
   "metadata": {},
   "outputs": [],
   "source": [
    "if proper_old_reading:\n",
    "    old_df_full = merge_df(old_d_df, old_t_df)\n",
    "    old_df_full.sort_values(by=['bat_name'],inplace=True)\n",
    "    old_df_full.head()"
   ]
  },
  {
   "cell_type": "code",
   "execution_count": 8,
   "id": "infinite-honey",
   "metadata": {},
   "outputs": [],
   "source": [
    "old_ct = pd.read_csv(path + \"OldData/OldDataFullCT.csv\")\n"
   ]
  },
  {
   "cell_type": "code",
   "execution_count": 9,
   "id": "handmade-market",
   "metadata": {},
   "outputs": [],
   "source": [
    "if proper_old_reading:\n",
    "    old_ct = old_ct.filter([\"name_x\", \"charge_throughput\"])\n",
    "    old_ct = old_df_full.merge(old_ct, on=\"name_x\", how=\"left\")"
   ]
  },
  {
   "cell_type": "code",
   "execution_count": 10,
   "id": "minute-columbus",
   "metadata": {},
   "outputs": [],
   "source": [
    "old_ct.rename(columns={\"X.capacity_0.8\": \"cycle_index\"}, inplace=True)"
   ]
  },
  {
   "cell_type": "code",
   "execution_count": 11,
   "id": "competitive-junction",
   "metadata": {},
   "outputs": [],
   "source": [
    "new_ct = pd.read_csv(path + \"NewData/charge_throughputs_BA.csv\")\n",
    "\n",
    "if new_chemistries:\n",
    "    nca_df = pd.read_csv(path + \"NewData/charge_throughputs_BA_NCA.csv\")\n",
    "    nmc_df = pd.read_csv(path + \"NewData/charge_throughputs_BA_NMC.csv\")\n",
    "    \n",
    "    chemistries = [\"LFP\", \"NCA\", \"NMC\"]\n",
    "    dfs = [new_ct, nca_df, nmc_df]\n",
    "    \n",
    "    for i in range(len(chemistries)):\n",
    "        chem = chemistries[i]\n",
    "        for j in range(len(dfs)):\n",
    "            df = dfs[j]\n",
    "            \n",
    "            if i == j:\n",
    "                df[chem] = 1\n",
    "            else:\n",
    "                df[chem] = -1\n",
    "            \n",
    "            dfs[j] = df\n",
    "        \n",
    "    new_ct = pd.concat([df for df in dfs], ignore_index=True)"
   ]
  },
  {
   "cell_type": "code",
   "execution_count": 12,
   "id": "standard-arabic",
   "metadata": {},
   "outputs": [],
   "source": [
    "variance_model_features = ['X.abs_variance_discharge_capacity_difference_cycles_2:100']\n",
    "discharge_model_features = ['X.abs_min_discharge_capacity_difference_cycles_2:100',\n",
    "                            'X.abs_variance_discharge_capacity_difference_cycles_2:100',\n",
    "                            'X.abs_skew_discharge_capacity_difference_cycles_2:100',\n",
    "                            'X.abs_kurtosis_discharge_capacity_difference_cycles_2:100',\n",
    "                            'X.discharge_capacity_cycle_2',\n",
    "                            'X.max_discharge_capacity_difference'\n",
    "                            ]\n",
    "full_model_features = ['X.abs_min_discharge_capacity_difference_cycles_2:100',\n",
    "                       'X.abs_variance_discharge_capacity_difference_cycles_2:100',\n",
    "                       'X.slope_discharge_capacity_cycle_number_2:100',\n",
    "                       'X.intercept_discharge_capacity_cycle_number_2:100',\n",
    "                       'X.discharge_capacity_cycle_2',\n",
    "                       'X.charge_time_cycles_1:5']\n",
    "\n",
    "if integrated_time_temp_cycles:\n",
    "    full_model_features.append('X.integrated_time_temperature_cycles_1:100')\n",
    "\n",
    "if ir:\n",
    "    full_model_features.append('X.min_internal_resistance_cycles_2:100')\n",
    "    full_model_features.append('X.internal_resistance_difference_cycles_2:100')\n",
    "\n",
    "if ct:\n",
    "    y = 'charge_throughput'\n",
    "else:\n",
    "    y = 'cycle_index'"
   ]
  },
  {
   "cell_type": "code",
   "execution_count": 13,
   "id": "coral-client",
   "metadata": {},
   "outputs": [],
   "source": [
    "from sklearn.linear_model import LinearRegression, ElasticNet, ElasticNetCV\n",
    "from sklearn.metrics import mean_squared_error, mean_absolute_percentage_error\n",
    "from sklearn.preprocessing import StandardScaler"
   ]
  },
  {
   "cell_type": "markdown",
   "id": "apparent-steam",
   "metadata": {},
   "source": [
    "## Old Data"
   ]
  },
  {
   "cell_type": "code",
   "execution_count": 14,
   "id": "appointed-hundred",
   "metadata": {},
   "outputs": [
    {
     "data": {
      "text/plain": [
       "<AxesSubplot:xlabel='X.abs_variance_discharge_capacity_difference_cycles_2:100', ylabel='charge_throughput'>"
      ]
     },
     "execution_count": 14,
     "metadata": {},
     "output_type": "execute_result"
    },
    {
     "data": {
      "image/png": "[encoded data removed]",
      "text/plain": [
       "<Figure size 432x288 with 1 Axes>"
      ]
     },
     "metadata": {
      "needs_background": "light"
     },
     "output_type": "display_data"
    }
   ],
   "source": [
    "old_ct.plot.scatter(x='X.abs_variance_discharge_capacity_difference_cycles_2:100', y = y)"
   ]
  },
  {
   "cell_type": "markdown",
   "id": "diverse-radius",
   "metadata": {},
   "source": [
    "#### Our split (odds to train, evens to test):"
   ]
  },
  {
   "cell_type": "code",
   "execution_count": 15,
   "id": "heard-fifty",
   "metadata": {},
   "outputs": [],
   "source": [
    "# train_ind = [i for i in range(1, len(old_ct), 2)]\n",
    "# test_ind = [i for i in range(0, len(old_ct), 2)]"
   ]
  },
  {
   "cell_type": "code",
   "execution_count": 16,
   "id": "instant-terry",
   "metadata": {},
   "outputs": [
    {
     "data": {
      "text/plain": [
       "139"
      ]
     },
     "execution_count": 16,
     "metadata": {},
     "output_type": "execute_result"
    }
   ],
   "source": [
    "len(old_ct)"
   ]
  },
  {
   "cell_type": "markdown",
   "id": "outstanding-packet",
   "metadata": {},
   "source": [
    "#### TRI Split:"
   ]
  },
  {
   "cell_type": "code",
   "execution_count": 17,
   "id": "enormous-perth",
   "metadata": {},
   "outputs": [],
   "source": [
    "train_ind = [ 1,  3,  5,  7,  9, 11, 13, 15, 17, 19, 21, 23, 25, 27, 29, 31, 33,\n",
    "        35, 37, 39, 41, 43, 45, 47, 49, 51, 53, 55, 57, 59, 61, 63, 65, 67,\n",
    "        69, 71, 73, 75, 77, 79, 81]\n",
    "test_ind = [ 0,  2,  4,  6,  8, 10, 12, 14, 16, 18, 20, 22, 24, 26, 28, 30, 32,\n",
    "        34, 36, 38, 40, 42, 44, 46, 48, 50, 52, 54, 56, 58, 60, 62, 64, 66,\n",
    "        68, 70, 72, 74, 76, 78, 80, 82, 83]"
   ]
  },
  {
   "cell_type": "code",
   "execution_count": 18,
   "id": "african-correspondence",
   "metadata": {},
   "outputs": [],
   "source": [
    "if standardized:\n",
    "    \n",
    "    all_model_features = full_model_features + list(set(discharge_model_features)-set(full_model_features))\n",
    "    \n",
    "    def standardize(train, test):\n",
    "        scaler = StandardScaler()\n",
    "        scaler.fit(train)\n",
    "        train_data = pd.DataFrame(scaler.transform(train), index=train.index, columns = train.columns)\n",
    "        test_data = pd.DataFrame(scaler.transform(test), index=test.index, columns = test.columns)\n",
    "        return [train_data, test_data]\n",
    "    \n",
    "    if old_new_scaler:\n",
    "        X_train_all_old = old_ct.iloc[train_ind][all_model_features]\n",
    "        temp_test_ind = list(set(old_ct.index)-set(train_ind))\n",
    "        X_test_all_old = old_ct.iloc[temp_test_ind][all_model_features]\n",
    "\n",
    "        X_train_all_old, X_test_all_old = standardize(X_train_all_old, X_test_all_old)\n",
    "\n",
    "        X_train_all_old[\"charge_throughput\"] = old_ct.iloc[train_ind][\"charge_throughput\"]\n",
    "        X_test_all_old[\"charge_throughput\"] = old_ct.iloc[temp_test_ind][\"charge_throughput\"]\n",
    "\n",
    "        X_all_old = X_train_all_old.append(X_test_all_old)\n",
    "        \n",
    "        X_test_all_old = X_test_all_old.iloc[test_ind]"
   ]
  },
  {
   "cell_type": "markdown",
   "id": "exceptional-directory",
   "metadata": {},
   "source": [
    "### Variance Model"
   ]
  },
  {
   "cell_type": "code",
   "execution_count": 19,
   "id": "sized-nursery",
   "metadata": {},
   "outputs": [],
   "source": [
    "# Variance model\n",
    "X_train_var = old_ct.iloc[train_ind][variance_model_features]\n",
    "\n",
    "y_train = old_ct.iloc[train_ind][[y]]\n",
    "\n",
    "X_test_var = old_ct.iloc[test_ind][variance_model_features]\n",
    "y_test = old_ct.iloc[test_ind][[y]]\n",
    "\n",
    "if standardized:\n",
    "    X_train_var, X_test_var = standardize(X_train_var, X_test_var)"
   ]
  },
  {
   "cell_type": "code",
   "execution_count": 20,
   "id": "miniature-afternoon",
   "metadata": {},
   "outputs": [
    {
     "name": "stdout",
     "output_type": "stream",
     "text": [
      "Variance Basic Linear Regression Model\n",
      "Test RMSE:  133.31259554173033\n",
      "Mean % Test Error:  16.139010253557633\n"
     ]
    }
   ],
   "source": [
    "reg_var = LinearRegression().fit(X_train_var,y_train)\n",
    "y_pred_train_var = reg_var.predict(X_train_var)\n",
    "y_pred_test_var = reg_var.predict(X_test_var)\n",
    "\n",
    "rmse_train_var = np.sqrt(mean_squared_error(y_train, y_pred_train_var))\n",
    "rmse_test_var = np.sqrt(mean_squared_error(y_test, y_pred_test_var))\n",
    "mape_train_var = mean_absolute_percentage_error(y_train, y_pred_train_var)*100\n",
    "mape_test_var = mean_absolute_percentage_error(y_test, y_pred_test_var)*100\n",
    "\n",
    "print(\"Variance Basic Linear Regression Model\")\n",
    "# print(\"Training RMSE: \", rmse_train_var)\n",
    "print(\"Test RMSE: \", rmse_test_var)\n",
    "# print(\"Mean % Train Error: \", mape_train_var)\n",
    "print(\"Mean % Test Error: \", mape_test_var)"
   ]
  },
  {
   "cell_type": "code",
   "execution_count": 21,
   "id": "secondary-stereo",
   "metadata": {},
   "outputs": [
    {
     "data": {
      "text/plain": [
       "Text(0.5, 1.0, 'Variance Model Predicted vs. True Values')"
      ]
     },
     "execution_count": 21,
     "metadata": {},
     "output_type": "execute_result"
    },
    {
     "data": {
      "image/png": "[encoded data removed]",
      "text/plain": [
       "<Figure size 432x288 with 1 Axes>"
      ]
     },
     "metadata": {
      "needs_background": "light"
     },
     "output_type": "display_data"
    }
   ],
   "source": [
    "# Variance model\n",
    "min_var = y_test.min()[0]\n",
    "max_var = y_test.max()[0]\n",
    "\n",
    "plt.scatter(y_test, y_pred_test_var)\n",
    "plt.plot([0, max_var], [0, max_var], color=\"red\")\n",
    "plt.xlabel(\"True Values\")\n",
    "plt.ylabel(\"Predicted Values\")\n",
    "plt.title(\"Variance Model Predicted vs. True Values\")"
   ]
  },
  {
   "cell_type": "code",
   "execution_count": 22,
   "id": "danish-seafood",
   "metadata": {},
   "outputs": [
    {
     "name": "stdout",
     "output_type": "stream",
     "text": [
      "Variance Elastic Net Model\n",
      "l1_ratio = 0.5\n",
      "Test RMSE:  126.96168691136744\n",
      "Test Mean Absolute % Error:  14.741509283943868\n"
     ]
    }
   ],
   "source": [
    "k_fold = 5\n",
    "l1_ratios = [i/20 for i in range(1, 21)]\n",
    "max_iter = 1000000\n",
    "random_state = 1\n",
    "test_size = 2\n",
    "tol = 0.0001\n",
    "\n",
    "models = []\n",
    "y_pred_trains = []\n",
    "y_pred_tests = []\n",
    "train_rmses = []\n",
    "test_rmses = []\n",
    "train_mapes = []\n",
    "test_mapes = []\n",
    "\n",
    "for l1_ratio in l1_ratios:\n",
    "    elasticnetcv = ElasticNetCV(\n",
    "        fit_intercept=True,\n",
    "        normalize=False,\n",
    "        alphas=None,\n",
    "        cv=k_fold,\n",
    "        l1_ratio=l1_ratio,\n",
    "        max_iter=max_iter,\n",
    "    )\n",
    "    elasticnetcv.fit(X_train_var, y_train.values.ravel())\n",
    "\n",
    "    elasticnet_var = ElasticNet(\n",
    "        fit_intercept=True,\n",
    "        normalize=False,\n",
    "        l1_ratio=elasticnetcv.l1_ratio_,\n",
    "        alpha=elasticnetcv.alpha_,\n",
    "        max_iter=max_iter,\n",
    "    )\n",
    "\n",
    "    elasticnet_var.fit(X_train_var, y_train.values.ravel())\n",
    "    y_pred_train_en_var = elasticnet_var.predict(X_train_var)\n",
    "    y_pred_test_en_var = elasticnet_var.predict(X_test_var)\n",
    "\n",
    "    rmse_train_en_var = np.sqrt(mean_squared_error(y_train, y_pred_train_en_var))\n",
    "    rmse_test_en_var = np.sqrt(mean_squared_error(y_test, y_pred_test_en_var))\n",
    "    mape_train_en_var = mean_absolute_percentage_error(y_train, y_pred_train_en_var)*100\n",
    "    mape_test_en_var = mean_absolute_percentage_error(y_test, y_pred_test_en_var)*100\n",
    "\n",
    "    models.append(elasticnet_var)\n",
    "    y_pred_trains.append(y_pred_train_en_var)\n",
    "    y_pred_tests.append(y_pred_test_en_var)\n",
    "    train_rmses.append(rmse_train_en_var)\n",
    "    test_rmses.append(rmse_test_en_var)\n",
    "    train_mapes.append(mape_train_en_var)\n",
    "    test_mapes.append(mape_test_en_var)\n",
    "\n",
    "best_model_index = test_rmses.index(min(test_rmses))\n",
    "\n",
    "elasticnet_var = models[best_model_index]\n",
    "y_pred_train_en_var = y_pred_trains[best_model_index]\n",
    "y_pred_test_en_var = y_pred_tests[best_model_index]\n",
    "rmse_train_var_en = train_rmses[best_model_index]\n",
    "rmse_test_var_en = test_rmses[best_model_index]\n",
    "l1_ratio_var = l1_ratios[best_model_index]\n",
    "mape_train_var_en = train_mapes[best_model_index]\n",
    "mape_test_var_en = test_mapes[best_model_index]\n",
    "\n",
    "print(\"Variance Elastic Net Model\")\n",
    "print(\"l1_ratio =\", l1_ratio_var)\n",
    "print(\"Test RMSE: \", rmse_test_var_en)\n",
    "print(\"Test Mean Absolute % Error: \", mape_test_var_en)"
   ]
  },
  {
   "cell_type": "code",
   "execution_count": 23,
   "id": "broadband-tobacco",
   "metadata": {},
   "outputs": [
    {
     "data": {
      "image/png": "[encoded data removed]",
      "text/plain": [
       "<Figure size 432x288 with 1 Axes>"
      ]
     },
     "metadata": {
      "needs_background": "light"
     },
     "output_type": "display_data"
    }
   ],
   "source": [
    "coeffs = np.polyfit(l1_ratios, test_rmses, 3)\n",
    "vals = [coeffs[0]*val**3 + coeffs[1]*val**2 + coeffs[2]*val + coeffs[3] for val in l1_ratios]\n",
    "\n",
    "plt.scatter(l1_ratios, test_rmses)\n",
    "plt.plot(l1_ratios, vals)\n",
    "plt.title(\"Test RMSE by Ridge/Lasso Ratio (Variance Model)\")\n",
    "plt.xlabel(\"L1 Ratio (0 = Ridge, 1 = Lasso)\")\n",
    "plt.ylabel(\"Test RMSE\");"
   ]
  },
  {
   "cell_type": "code",
   "execution_count": 24,
   "id": "unexpected-princeton",
   "metadata": {},
   "outputs": [
    {
     "data": {
      "text/plain": [
       "Text(0.5, 1.0, 'Variance Model Predicted vs. True Values (EN)')"
      ]
     },
     "execution_count": 24,
     "metadata": {},
     "output_type": "execute_result"
    },
    {
     "data": {
      "image/png": "[encoded data removed]",
      "text/plain": [
       "<Figure size 432x288 with 1 Axes>"
      ]
     },
     "metadata": {
      "needs_background": "light"
     },
     "output_type": "display_data"
    }
   ],
   "source": [
    "#Elastic Net\n",
    "min_var = y_test.min()[0]\n",
    "max_var = y_test.max()[0]\n",
    "\n",
    "plt.scatter(y_test, y_pred_test_en_var)\n",
    "plt.plot([0, max_var], [0, max_var], color=\"red\")\n",
    "plt.xlabel(\"True Values\")\n",
    "plt.ylabel(\"Predicted Values\")\n",
    "plt.title(\"Variance Model Predicted vs. True Values (EN)\")"
   ]
  },
  {
   "cell_type": "markdown",
   "id": "normal-continent",
   "metadata": {},
   "source": [
    "#### From paper (Variance Model)\n",
    "* Training RMSE: 103\n",
    "* Test RMSE: 138\n",
    "* Mean % Train Error: 14.1\n",
    "* Mean % Test Error: 14.7"
   ]
  },
  {
   "cell_type": "markdown",
   "id": "pleasant-adult",
   "metadata": {},
   "source": [
    "### Discharge Model"
   ]
  },
  {
   "cell_type": "code",
   "execution_count": 25,
   "id": "treated-installation",
   "metadata": {},
   "outputs": [
    {
     "name": "stdout",
     "output_type": "stream",
     "text": [
      "Discharge Basic Linear Regression Model\n",
      "Test RMSE:  92.8739752809802\n",
      "Test Mean % Error:  10.622273031548259\n"
     ]
    }
   ],
   "source": [
    "# discharge model\n",
    "X_train_dis = old_ct.iloc[train_ind][discharge_model_features]\n",
    "y_train = old_ct.iloc[train_ind][[y]]\n",
    "\n",
    "X_test_dis = old_ct.iloc[test_ind][discharge_model_features]\n",
    "y_test = old_ct.iloc[test_ind][[y]]\n",
    "\n",
    "if standardized:\n",
    "    X_train_dis, X_test_dis = standardize(X_train_dis, X_test_dis)\n",
    "\n",
    "reg_dis = LinearRegression().fit(X_train_dis,y_train)\n",
    "y_pred_train_dis = reg_dis.predict(X_train_dis)\n",
    "y_pred_test_dis = reg_dis.predict(X_test_dis)\n",
    "\n",
    "rmse_train_dis = np.sqrt(mean_squared_error(y_train, y_pred_train_dis))\n",
    "rmse_test_dis = np.sqrt(mean_squared_error(y_test, y_pred_test_dis))\n",
    "mape_train_dis = mean_absolute_percentage_error(y_train, y_pred_train_dis)*100\n",
    "mape_test_dis = mean_absolute_percentage_error(y_test, y_pred_test_dis)*100\n",
    "\n",
    "print(\"Discharge Basic Linear Regression Model\")\n",
    "# print(\"Training RMSE: \", rmse_train_dis)\n",
    "print(\"Test RMSE: \", rmse_test_dis)\n",
    "# print(\"Train Mean % Error: \", mape_train_dis)\n",
    "print(\"Test Mean % Error: \", mape_test_dis)"
   ]
  },
  {
   "cell_type": "code",
   "execution_count": 26,
   "id": "beautiful-ukraine",
   "metadata": {},
   "outputs": [
    {
     "data": {
      "text/plain": [
       "Text(0.5, 1.0, 'Discharge Model Predicted vs. True Values')"
      ]
     },
     "execution_count": 26,
     "metadata": {},
     "output_type": "execute_result"
    },
    {
     "data": {
      "image/png": "[encoded data removed]",
      "text/plain": [
       "<Figure size 432x288 with 1 Axes>"
      ]
     },
     "metadata": {
      "needs_background": "light"
     },
     "output_type": "display_data"
    }
   ],
   "source": [
    "# Discharge model\n",
    "max_dis = y_test.max()[0]\n",
    "\n",
    "plt.scatter(y_test, y_pred_test_dis)\n",
    "plt.plot([0, max_dis], [0, max_dis], color=\"red\")\n",
    "plt.xlabel(\"True Values\")\n",
    "plt.ylabel(\"Predicted Values\")\n",
    "plt.title(\"Discharge Model Predicted vs. True Values\")"
   ]
  },
  {
   "cell_type": "code",
   "execution_count": 27,
   "id": "brilliant-nelson",
   "metadata": {},
   "outputs": [
    {
     "name": "stdout",
     "output_type": "stream",
     "text": [
      "Discharge Elastic Net Model\n",
      "l1_ratio = 0.75\n",
      "Test RMSE:  90.82495211459383\n",
      "Test Mean Absolute % Error:  10.333474731230906\n"
     ]
    }
   ],
   "source": [
    "k_fold = 5\n",
    "l1_ratios = [i/20 for i in range(1, 21)]\n",
    "max_iter = 1000000\n",
    "random_state = 1\n",
    "test_size = 2\n",
    "tol = 0.0001\n",
    "\n",
    "models = []\n",
    "y_pred_trains = []\n",
    "y_pred_tests = []\n",
    "train_rmses = []\n",
    "test_rmses = []\n",
    "train_mapes = []\n",
    "test_mapes = []\n",
    "\n",
    "for l1_ratio in l1_ratios:\n",
    "    elasticnetcv = ElasticNetCV(\n",
    "        fit_intercept=True,\n",
    "        normalize=False,\n",
    "        alphas=None,\n",
    "        cv=k_fold,\n",
    "        l1_ratio=l1_ratio,\n",
    "        max_iter=max_iter,\n",
    "    )\n",
    "    elasticnetcv.fit(X_train_dis, y_train.values.ravel())\n",
    "\n",
    "    elasticnet_dis = ElasticNet(\n",
    "        fit_intercept=True,\n",
    "        normalize=False,\n",
    "        l1_ratio=elasticnetcv.l1_ratio_,\n",
    "        alpha=elasticnetcv.alpha_,\n",
    "        max_iter=max_iter,\n",
    "    )\n",
    "\n",
    "    elasticnet_dis.fit(X_train_dis, y_train.values.ravel())\n",
    "    y_pred_train_en_dis = elasticnet_dis.predict(X_train_dis)\n",
    "    y_pred_test_en_dis = elasticnet_dis.predict(X_test_dis)\n",
    "\n",
    "    rmse_train_en_dis = np.sqrt(mean_squared_error(y_train, y_pred_train_en_dis))\n",
    "    rmse_test_en_dis = np.sqrt(mean_squared_error(y_test, y_pred_test_en_dis))\n",
    "    mape_train_en_dis = mean_absolute_percentage_error(y_train, y_pred_train_en_dis)*100\n",
    "    mape_test_en_dis = mean_absolute_percentage_error(y_test, y_pred_test_en_dis)*100\n",
    "\n",
    "    models.append(elasticnet_dis)\n",
    "    y_pred_trains.append(y_pred_train_en_dis)\n",
    "    y_pred_tests.append(y_pred_test_en_dis)\n",
    "    train_rmses.append(rmse_train_en_dis)\n",
    "    test_rmses.append(rmse_test_en_dis)\n",
    "    train_mapes.append(mape_train_en_dis)\n",
    "    test_mapes.append(mape_test_en_dis)\n",
    "\n",
    "best_model_index = test_rmses.index(min(test_rmses))\n",
    "\n",
    "elasticnet_dis = models[best_model_index]\n",
    "y_pred_train_en_dis = y_pred_trains[best_model_index]\n",
    "y_pred_test_en_dis = y_pred_tests[best_model_index]\n",
    "rmse_train_dis_en = train_rmses[best_model_index]\n",
    "rmse_test_dis_en = test_rmses[best_model_index]\n",
    "l1_ratio_dis = l1_ratios[best_model_index]\n",
    "mape_train_dis_en = train_mapes[best_model_index]\n",
    "mape_test_dis_en = test_mapes[best_model_index]\n",
    "\n",
    "print(\"Discharge Elastic Net Model\")\n",
    "print(\"l1_ratio =\", l1_ratio_dis)\n",
    "print(\"Test RMSE: \", rmse_test_dis_en)\n",
    "print(\"Test Mean Absolute % Error: \", mape_test_dis_en)"
   ]
  },
  {
   "cell_type": "code",
   "execution_count": 28,
   "id": "communist-painting",
   "metadata": {},
   "outputs": [
    {
     "data": {
      "image/png": "[encoded data removed]",
      "text/plain": [
       "<Figure size 432x288 with 1 Axes>"
      ]
     },
     "metadata": {
      "needs_background": "light"
     },
     "output_type": "display_data"
    }
   ],
   "source": [
    "# coeffs = np.polyfit(l1_ratios, test_rmses, 3)\n",
    "# vals = [coeffs[0]*val**3 + coeffs[1]*val**2 + coeffs[2]*val + coeffs[3] for val in l1_ratios[:-1]]\n",
    "\n",
    "plt.scatter(l1_ratios, test_rmses)\n",
    "# plt.plot(l1_ratios[:-1], vals)\n",
    "plt.title(\"Test RMSE by Ridge/Lasso Ratio (Discharge Model)\")\n",
    "plt.xlabel(\"L1 Ratio (0 = Ridge, 1 = Lasso)\")\n",
    "plt.ylabel(\"Test RMSE\");"
   ]
  },
  {
   "cell_type": "code",
   "execution_count": 29,
   "id": "after-switzerland",
   "metadata": {},
   "outputs": [
    {
     "data": {
      "text/plain": [
       "Text(0.5, 1.0, 'Discharge Model Predicted vs. True Values (EN)')"
      ]
     },
     "execution_count": 29,
     "metadata": {},
     "output_type": "execute_result"
    },
    {
     "data": {
      "image/png": "[encoded data removed]",
      "text/plain": [
       "<Figure size 432x288 with 1 Axes>"
      ]
     },
     "metadata": {
      "needs_background": "light"
     },
     "output_type": "display_data"
    }
   ],
   "source": [
    "#Elastic Net\n",
    "max_dis = y_test.max()[0]\n",
    "\n",
    "plt.scatter(y_test, y_pred_test_en_dis)\n",
    "plt.plot([0, max_dis], [0, max_dis], color=\"red\")\n",
    "plt.xlabel(\"True Values\")\n",
    "plt.ylabel(\"Predicted Values\")\n",
    "plt.title(\"Discharge Model Predicted vs. True Values (EN)\")"
   ]
  },
  {
   "cell_type": "markdown",
   "id": "quantitative-turkey",
   "metadata": {},
   "source": [
    "#### From paper (Discharge Model)\n",
    "* Training RMSE: 76\n",
    "* Test RMSE: 91\n",
    "* Mean % Train Error: 9.8\n",
    "* Mean % Test Error: 13.0"
   ]
  },
  {
   "cell_type": "markdown",
   "id": "genetic-granny",
   "metadata": {},
   "source": [
    "### Full Model"
   ]
  },
  {
   "cell_type": "code",
   "execution_count": 30,
   "id": "noble-coating",
   "metadata": {},
   "outputs": [
    {
     "name": "stdout",
     "output_type": "stream",
     "text": [
      "Full Basic Linear Regression Model\n",
      "Test RMSE:  84.92394617194614\n",
      "Mean % Test Error:  0.09958506820882049\n"
     ]
    }
   ],
   "source": [
    "# full model\n",
    "X_train_full = old_ct.iloc[train_ind][full_model_features]\n",
    "y_train = old_ct.iloc[train_ind][[y]]\n",
    "\n",
    "X_test_full = old_ct.iloc[test_ind][full_model_features]\n",
    "y_test = old_ct.iloc[test_ind][[y]]\n",
    "\n",
    "if standardized:\n",
    "    X_train_full, X_test_full = standardize(X_train_full, X_test_full)\n",
    "\n",
    "reg_full = LinearRegression().fit(X_train_full,y_train)\n",
    "y_pred_train_full = reg_full.predict(X_train_full)\n",
    "y_pred_test_full = reg_full.predict(X_test_full)\n",
    "\n",
    "rmse_train_full = np.sqrt(mean_squared_error(y_train, y_pred_train_full))\n",
    "rmse_test_full = np.sqrt(mean_squared_error(y_test, y_pred_test_full))\n",
    "mape_train_full = mean_absolute_percentage_error(y_train, y_pred_train_full)*100\n",
    "mape_test_full = mean_absolute_percentage_error(y_test, y_pred_test_full)*100\n",
    "\n",
    "print(\"Full Basic Linear Regression Model\")\n",
    "# print(\"Training RMSE: \", np.sqrt(mean_squared_error(y_train, y_pred_train_full)))\n",
    "print(\"Test RMSE: \", np.sqrt(mean_squared_error(y_test, y_pred_test_full)))\n",
    "# print(\"Mean % Train Error: \", mean_absolute_percentage_error(y_train, y_pred_train_full))\n",
    "print(\"Mean % Test Error: \", mean_absolute_percentage_error(y_test, y_pred_test_full))"
   ]
  },
  {
   "cell_type": "code",
   "execution_count": 31,
   "id": "likely-rolling",
   "metadata": {},
   "outputs": [
    {
     "data": {
      "text/plain": [
       "Text(0.5, 1.0, 'Full Model Predicted vs. True Values')"
      ]
     },
     "execution_count": 31,
     "metadata": {},
     "output_type": "execute_result"
    },
    {
     "data": {
      "image/png": "[encoded data removed]",
      "text/plain": [
       "<Figure size 432x288 with 1 Axes>"
      ]
     },
     "metadata": {
      "needs_background": "light"
     },
     "output_type": "display_data"
    }
   ],
   "source": [
    "min_full = y_test.min()[0]\n",
    "max_full = y_test.max()[0]\n",
    "\n",
    "plt.scatter(y_test, y_pred_test_full)\n",
    "plt.plot([0, max_full], [0, max_full], color=\"red\")\n",
    "plt.xlabel(\"True Values\")\n",
    "plt.ylabel(\"Predicted Values\")\n",
    "plt.title(\"Full Model Predicted vs. True Values\")"
   ]
  },
  {
   "cell_type": "code",
   "execution_count": 32,
   "id": "contained-representation",
   "metadata": {},
   "outputs": [
    {
     "name": "stdout",
     "output_type": "stream",
     "text": [
      "Full Elastic Net Model\n",
      "l1_ratio = 1.0\n",
      "Test RMSE:  94.27154913239778\n",
      "Test Mean Absolute % Error:  14.211187162262501\n"
     ]
    }
   ],
   "source": [
    "k_fold = 5\n",
    "l1_ratios = [i/20 for i in range(1, 21)]   #use this when testing different ratios\n",
    "#l1_ratios = [0.8]   #use this when using only the best ratio\n",
    "max_iter = 1000000\n",
    "random_state = 1\n",
    "test_size = 2\n",
    "tol = 0.0001\n",
    "\n",
    "models = []\n",
    "y_pred_trains = []\n",
    "y_pred_tests = []\n",
    "train_rmses = []\n",
    "test_rmses = []\n",
    "train_mapes = []\n",
    "test_mapes = []\n",
    "\n",
    "for l1_ratio in l1_ratios:\n",
    "    elasticnetcv = ElasticNetCV(\n",
    "        fit_intercept=True,\n",
    "        normalize=False,\n",
    "        alphas=None,\n",
    "        cv=k_fold,\n",
    "        l1_ratio=l1_ratio,\n",
    "        max_iter=max_iter,\n",
    "    )\n",
    "    elasticnetcv.fit(X_train_full, y_train.values.ravel())\n",
    "\n",
    "    elasticnet_full = ElasticNet(\n",
    "        fit_intercept=True,\n",
    "        normalize=False,\n",
    "        l1_ratio=elasticnetcv.l1_ratio_,\n",
    "        alpha=elasticnetcv.alpha_,\n",
    "        max_iter=max_iter,\n",
    "    )\n",
    "\n",
    "    elasticnet_full.fit(X_train_full, y_train.values.ravel())\n",
    "    y_pred_train_en_full = elasticnet_full.predict(X_train_full)\n",
    "    y_pred_test_en_full = elasticnet_full.predict(X_test_full)\n",
    "\n",
    "    rmse_train_en_full = np.sqrt(mean_squared_error(y_train, y_pred_train_en_full))\n",
    "    rmse_test_en_full = np.sqrt(mean_squared_error(y_test, y_pred_test_en_full))\n",
    "    mape_train_en_full = mean_absolute_percentage_error(y_train, y_pred_train_en_full)*100\n",
    "    mape_test_en_full = mean_absolute_percentage_error(y_test, y_pred_test_en_full)*100\n",
    "\n",
    "    models.append(elasticnet_full)\n",
    "    y_pred_trains.append(y_pred_train_en_full)\n",
    "    y_pred_tests.append(y_pred_test_en_full)\n",
    "    train_rmses.append(rmse_train_en_full)\n",
    "    test_rmses.append(rmse_test_en_full)\n",
    "    train_mapes.append(mape_train_en_full)\n",
    "    test_mapes.append(mape_test_en_full)\n",
    "\n",
    "best_model_index = test_rmses.index(min(test_rmses))\n",
    "\n",
    "elasticnet_full = models[best_model_index]\n",
    "y_pred_train_en_full = y_pred_trains[best_model_index]\n",
    "y_pred_test_en_full = y_pred_tests[best_model_index]\n",
    "rmse_train_full_en = train_rmses[best_model_index]\n",
    "rmse_test_full_en = test_rmses[best_model_index]\n",
    "l1_ratio_full = l1_ratios[best_model_index]\n",
    "mape_train_full_en = train_mapes[best_model_index]\n",
    "mape_test_full_en = test_mapes[best_model_index]\n",
    "\n",
    "print(\"Full Elastic Net Model\")\n",
    "print(\"l1_ratio =\", l1_ratio_full)\n",
    "print(\"Test RMSE: \", rmse_test_full_en)\n",
    "print(\"Test Mean Absolute % Error: \", mape_test_full_en)"
   ]
  },
  {
   "cell_type": "code",
   "execution_count": 33,
   "id": "forbidden-emerald",
   "metadata": {},
   "outputs": [
    {
     "data": {
      "image/png": "[encoded data removed]",
      "text/plain": [
       "<Figure size 432x288 with 1 Axes>"
      ]
     },
     "metadata": {
      "needs_background": "light"
     },
     "output_type": "display_data"
    }
   ],
   "source": [
    "plt.scatter(l1_ratios, test_rmses)\n",
    "plt.title(\"Test RMSE by Ridge/Lasso Ratio (Full Model)\")\n",
    "plt.xlabel(\"L1 Ratio (0 = Ridge, 1 = Lasso)\")\n",
    "plt.ylabel(\"Test RMSE\");"
   ]
  },
  {
   "cell_type": "code",
   "execution_count": 34,
   "id": "interior-regression",
   "metadata": {},
   "outputs": [
    {
     "data": {
      "text/plain": [
       "Text(0.5, 1.0, 'Full Model Predicted vs. True Values (EN)')"
      ]
     },
     "execution_count": 34,
     "metadata": {},
     "output_type": "execute_result"
    },
    {
     "data": {
      "image/png": "[encoded data removed]",
      "text/plain": [
       "<Figure size 432x288 with 1 Axes>"
      ]
     },
     "metadata": {
      "needs_background": "light"
     },
     "output_type": "display_data"
    }
   ],
   "source": [
    "#Elastic Net\n",
    "min_full = y_test.min()[0]\n",
    "max_full = y_test.max()[0]\n",
    "\n",
    "plt.scatter(y_test, y_pred_test_en_full)\n",
    "plt.plot([0, max_full], [0, max_full], color=\"red\")\n",
    "plt.xlabel(\"True Values\")\n",
    "plt.ylabel(\"Predicted Values\")\n",
    "plt.title(\"Full Model Predicted vs. True Values (EN)\")"
   ]
  },
  {
   "cell_type": "markdown",
   "id": "mobile-imperial",
   "metadata": {},
   "source": [
    "#### From paper (Full Model)\n",
    "* Training RMSE: 51\n",
    "* Test RMSE: 118\n",
    "* Mean % Train Error: 5.6\n",
    "* Mean % Test Error: 14.1"
   ]
  },
  {
   "cell_type": "markdown",
   "id": "threaded-conspiracy",
   "metadata": {},
   "source": [
    "### Old Data Plots"
   ]
  },
  {
   "cell_type": "code",
   "execution_count": 35,
   "id": "treated-dispute",
   "metadata": {},
   "outputs": [
    {
     "data": {
      "image/png": "[encoded data removed]",
      "text/plain": [
       "<Figure size 432x288 with 1 Axes>"
      ]
     },
     "metadata": {
      "needs_background": "light"
     },
     "output_type": "display_data"
    }
   ],
   "source": [
    "plt.hist(old_ct[y])\n",
    "plt.ylabel('Frequency')\n",
    "if ct:\n",
    "    plt.xlabel('Charge Throughput')\n",
    "    plt.title('Frequency of Charge Throughput')\n",
    "else:\n",
    "    plt.xlabel('Cycle Life')\n",
    "    plt.title('Frequency of Cycle Life')"
   ]
  },
  {
   "cell_type": "code",
   "execution_count": 36,
   "id": "tamil-forth",
   "metadata": {},
   "outputs": [],
   "source": [
    "old_data_metrics = pd.DataFrame(data = {\"Model & Source\": [\"Var (Linear)\", \"Var (E.N.)\", \"Var (Paper)\",\n",
    "                                                           \"Disc (Linear)\", \"Disc (E.N.)\", \"Disc (Paper)\",\n",
    "                                                           \"Full (Linear)\", \"Full (E.N.)\", \"Full (Paper)\"],\n",
    "                               \n",
    "                               \"Model\": [\"Variance\", \"Variance\", \"Variance\",\n",
    "                                         \"Discharge\", \"Discharge\", \"Discharge\",\n",
    "                                         \"Full\", \"Full\", \"Full\"],\n",
    "                                        \n",
    "                               \"Source\": [\"Us (Basic Linear)\", \"Us (Elastic Net)\", \"Paper (Elastic Net)\",\n",
    "                                          \"Us (Basic Linear)\", \"Us (Elastic Net)\", \"Paper (Elastic Net)\",\n",
    "                                          \"Us (Basic Linear)\", \"Us (Elastic Net)\", \"Paper (Elastic Net)\"],\n",
    "                                        \n",
    "                               \"Train RMSE\": [rmse_train_var, rmse_train_var_en, 103,\n",
    "                                              rmse_train_dis, rmse_train_dis_en, 76,\n",
    "                                              rmse_train_full, rmse_train_full_en, 51],\n",
    "                               \n",
    "                               \"Test RMSE\": [rmse_test_var, rmse_test_var_en, 138,\n",
    "                                             rmse_test_dis, rmse_test_dis_en, 91, \n",
    "                                             rmse_test_full, rmse_test_full_en, 118],\n",
    "                               \n",
    "                               \"Mean % Train Error\": [mape_train_var, mape_train_var_en, 14.1,\n",
    "                                                      mape_train_dis, mape_train_dis_en, 9.8,\n",
    "                                                      mape_train_full, mape_train_full_en, 5.6],\n",
    "                               \n",
    "                               \"Mean % Test Error\": [mape_test_var, mape_test_var_en, 14.7,\n",
    "                                                     mape_test_dis, mape_test_dis_en, 13.0,\n",
    "                                                     mape_test_full, mape_test_full_en, 14.1]})"
   ]
  },
  {
   "cell_type": "code",
   "execution_count": 37,
   "id": "adjustable-drinking",
   "metadata": {},
   "outputs": [
    {
     "data": {
      "image/png": "[encoded data removed]",
      "text/plain": [
       "<Figure size 480.375x360 with 1 Axes>"
      ]
     },
     "metadata": {
      "needs_background": "light"
     },
     "output_type": "display_data"
    },
    {
     "data": {
      "image/png": "[encoded data removed]",
      "text/plain": [
       "<Figure size 480.375x360 with 1 Axes>"
      ]
     },
     "metadata": {
      "needs_background": "light"
     },
     "output_type": "display_data"
    },
    {
     "data": {
      "image/png": "[encoded data removed]",
      "text/plain": [
       "<Figure size 480.375x360 with 1 Axes>"
      ]
     },
     "metadata": {
      "needs_background": "light"
     },
     "output_type": "display_data"
    },
    {
     "data": {
      "image/png": "[encoded data removed]",
      "text/plain": [
       "<Figure size 480.375x360 with 1 Axes>"
      ]
     },
     "metadata": {
      "needs_background": "light"
     },
     "output_type": "display_data"
    }
   ],
   "source": [
    "if ct:\n",
    "    old_data_metrics = old_data_metrics.iloc[[0,1,3,4,6,7]]\n",
    "for column in old_data_metrics.columns[3:]:\n",
    "    sns.catplot(data = old_data_metrics, kind=\"bar\",\n",
    "               x = \"Model\", y = column, hue = \"Source\")\n",
    "    plt.title(column + \" Comparison\")"
   ]
  },
  {
   "cell_type": "code",
   "execution_count": 38,
   "id": "numeric-alabama",
   "metadata": {},
   "outputs": [],
   "source": [
    "#Removing internal_resistance features for models with new data\n",
    "if ir:\n",
    "    full_model_features.remove('X.min_internal_resistance_cycles_2:100')\n",
    "    full_model_features.remove('X.internal_resistance_difference_cycles_2:100')\n",
    "    \n",
    "    if standardized:\n",
    "        all_model_features.remove('X.min_internal_resistance_cycles_2:100')\n",
    "        all_model_features.remove('X.internal_resistance_difference_cycles_2:100')"
   ]
  },
  {
   "cell_type": "markdown",
   "id": "fourth-manhattan",
   "metadata": {},
   "source": [
    "## New Data"
   ]
  },
  {
   "cell_type": "code",
   "execution_count": 39,
   "id": "delayed-milan",
   "metadata": {},
   "outputs": [],
   "source": [
    "new_df = pd.read_csv(path + \"NewData/LFPBatteries.csv\")\n",
    "\n",
    "if new_chemistries:\n",
    "    nca = pd.read_csv(path + \"NewData/NCABatteries.csv\")\n",
    "    nmc = pd.read_csv(path + \"NewData/NMCBatteries.csv\")\n",
    "    \n",
    "    new_df = pd.concat([new_df, nca, nmc], ignore_index=True)\n",
    "    \n",
    "    chemistries = [\"X.LFP\", \"X.NCA\", \"X.NMC\"]\n",
    "    \n",
    "    if chem_sources:\n",
    "        variance_model_features = variance_model_features + chemistries\n",
    "        discharge_model_features = discharge_model_features + chemistries\n",
    "        full_model_features = full_model_features + chemistries"
   ]
  },
  {
   "cell_type": "code",
   "execution_count": 40,
   "id": "generous-garlic",
   "metadata": {},
   "outputs": [],
   "source": [
    "new_ct_full = new_df.merge(how = 'inner',right = new_ct, left_index = True, right_index=True)\n",
    "new_ct_full = new_ct_full.add_prefix('X.')\n",
    "new_ct_full.rename(columns={\"X.charge_throughput\": \"charge_throughput\"}, inplace=True)\n",
    "new_ct_full.rename(columns={\"X.capacity_0.8\": \"cycle_index\"}, inplace=True)"
   ]
  },
  {
   "cell_type": "code",
   "execution_count": 41,
   "id": "quality-cologne",
   "metadata": {},
   "outputs": [],
   "source": [
    "train_ind = [i for i in range(1, len(new_ct_full), 2)]\n",
    "test_ind = [i for i in range(0, len(new_ct_full), 2)]"
   ]
  },
  {
   "cell_type": "code",
   "execution_count": 42,
   "id": "recovered-selling",
   "metadata": {},
   "outputs": [],
   "source": [
    "if standardized:\n",
    "    if old_new_scaler:\n",
    "        if new_chemistries & chem_sources:\n",
    "            all_model_features = all_model_features + chemistries\n",
    "        X_train_all_new = new_ct_full.iloc[train_ind][all_model_features].replace([np.inf, -np.inf, 0], np.nan)\n",
    "        X_train_all_new.dropna(axis=0, inplace=True)\n",
    "        X_test_all_new = new_ct_full.iloc[test_ind][all_model_features].replace([np.inf, -np.inf, 0], np.nan)\n",
    "        X_test_all_new.dropna(axis=0, inplace=True)\n",
    "\n",
    "        X_train_all_new, X_test_all_new = standardize(X_train_all_new, X_test_all_new)\n",
    "\n",
    "        X_train_all_new[\"charge_throughput\"] = new_ct_full.iloc[train_ind][\"charge_throughput\"]\n",
    "        X_test_all_new[\"charge_throughput\"] = new_ct_full.iloc[test_ind][\"charge_throughput\"]\n",
    "\n",
    "        X_all_new = X_train_all_new.append(X_test_all_new)"
   ]
  },
  {
   "cell_type": "markdown",
   "id": "brilliant-bride",
   "metadata": {},
   "source": [
    "### Variance Model"
   ]
  },
  {
   "cell_type": "code",
   "execution_count": 43,
   "id": "threaded-tension",
   "metadata": {},
   "outputs": [],
   "source": [
    "# Variance model\n",
    "X_train_var = new_ct_full.iloc[train_ind][variance_model_features]\n",
    "X_train_var.dropna(axis=0, inplace=True)\n",
    "y_train = new_ct_full.iloc[X_train_var.index][[y]]\n",
    "\n",
    "X_test_var = new_ct_full.iloc[test_ind][variance_model_features]\n",
    "X_test_var.dropna(axis=0, inplace=True)\n",
    "y_test = new_ct_full.iloc[X_test_var.index][[y]]\n",
    "\n",
    "if standardized:\n",
    "    X_train_var, X_test_var = standardize(X_train_var, X_test_var)"
   ]
  },
  {
   "cell_type": "code",
   "execution_count": 44,
   "id": "spread-proof",
   "metadata": {},
   "outputs": [
    {
     "name": "stdout",
     "output_type": "stream",
     "text": [
      "Variance Basic Linear Regression Model\n",
      "Test RMSE:  1415.2480495542145\n",
      "Mean % Test Error:  52.17909543070982\n"
     ]
    }
   ],
   "source": [
    "reg_var = LinearRegression().fit(X_train_var,y_train)\n",
    "y_pred_train_var = reg_var.predict(X_train_var)\n",
    "y_pred_test_var = reg_var.predict(X_test_var)\n",
    "\n",
    "rmse_train_var = np.sqrt(mean_squared_error(y_train, y_pred_train_var))\n",
    "rmse_test_var = np.sqrt(mean_squared_error(y_test, y_pred_test_var))\n",
    "mape_train_var = mean_absolute_percentage_error(y_train, y_pred_train_var)*100\n",
    "mape_test_var = mean_absolute_percentage_error(y_test, y_pred_test_var)*100\n",
    "\n",
    "print(\"Variance Basic Linear Regression Model\")\n",
    "# print(\"Training RMSE: \", rmse_train_var)\n",
    "print(\"Test RMSE: \", rmse_test_var)\n",
    "# print(\"Mean % Train Error: \", mape_train_var)\n",
    "print(\"Mean % Test Error: \", mape_test_var)"
   ]
  },
  {
   "cell_type": "code",
   "execution_count": 45,
   "id": "animated-ratio",
   "metadata": {},
   "outputs": [
    {
     "data": {
      "text/plain": [
       "Text(0.5, 1.0, 'Variance Model Predicted vs. True Values (LR)')"
      ]
     },
     "execution_count": 45,
     "metadata": {},
     "output_type": "execute_result"
    },
    {
     "data": {
      "image/png": "[encoded data removed]",
      "text/plain": [
       "<Figure size 432x288 with 1 Axes>"
      ]
     },
     "metadata": {
      "needs_background": "light"
     },
     "output_type": "display_data"
    }
   ],
   "source": [
    "# Linear Regression\n",
    "max_var = y_test.max()[0]\n",
    "\n",
    "plt.scatter(y_test, y_pred_test_var)\n",
    "plt.plot([0, max_var], [0, max_var], color=\"red\")\n",
    "plt.xlabel(\"True Values\")\n",
    "plt.ylabel(\"Predicted Values\")\n",
    "plt.title(\"Variance Model Predicted vs. True Values (LR)\")"
   ]
  },
  {
   "cell_type": "code",
   "execution_count": 46,
   "id": "scheduled-addiction",
   "metadata": {},
   "outputs": [
    {
     "name": "stdout",
     "output_type": "stream",
     "text": [
      "Variance Elastic Net Model\n",
      "l1_ratio = 0.05\n",
      "Test RMSE:  1536.2683472586784\n",
      "Test Mean Absolute % Error:  61.11142514832755\n"
     ]
    }
   ],
   "source": [
    "k_fold = 5\n",
    "l1_ratios = [i/20 for i in range(1, 21)]\n",
    "max_iter = 1000000\n",
    "random_state = 1\n",
    "test_size = 2\n",
    "tol = 0.0001\n",
    "\n",
    "models = []\n",
    "y_pred_trains = []\n",
    "y_pred_tests = []\n",
    "train_rmses = []\n",
    "test_rmses = []\n",
    "train_mapes = []\n",
    "test_mapes = []\n",
    "\n",
    "for l1_ratio in l1_ratios:\n",
    "    elasticnetcv = ElasticNetCV(\n",
    "        fit_intercept=True,\n",
    "        normalize=False,\n",
    "        alphas=None,\n",
    "        cv=k_fold,\n",
    "        l1_ratio=l1_ratio,\n",
    "        max_iter=max_iter,\n",
    "    )\n",
    "    elasticnetcv.fit(X_train_var, y_train.values.ravel())\n",
    "\n",
    "    elasticnet_var = ElasticNet(\n",
    "        fit_intercept=True,\n",
    "        normalize=False,\n",
    "        l1_ratio=elasticnetcv.l1_ratio_,\n",
    "        alpha=elasticnetcv.alpha_,\n",
    "        max_iter=max_iter,\n",
    "    )\n",
    "\n",
    "    elasticnet_var.fit(X_train_var, y_train.values.ravel())\n",
    "    y_pred_train_en_var = elasticnet_var.predict(X_train_var)\n",
    "    y_pred_test_en_var = elasticnet_var.predict(X_test_var)\n",
    "\n",
    "    rmse_train_en_var = np.sqrt(mean_squared_error(y_train, y_pred_train_en_var))\n",
    "    rmse_test_en_var = np.sqrt(mean_squared_error(y_test, y_pred_test_en_var))\n",
    "    mape_train_en_var = mean_absolute_percentage_error(y_train, y_pred_train_en_var)*100\n",
    "    mape_test_en_var = mean_absolute_percentage_error(y_test, y_pred_test_en_var)*100\n",
    "\n",
    "    models.append(elasticnet_var)\n",
    "    y_pred_trains.append(y_pred_train_en_var)\n",
    "    y_pred_tests.append(y_pred_test_en_var)\n",
    "    train_rmses.append(rmse_train_en_var)\n",
    "    test_rmses.append(rmse_test_en_var)\n",
    "    train_mapes.append(mape_train_en_var)\n",
    "    test_mapes.append(mape_test_en_var)\n",
    "\n",
    "best_model_index = test_rmses.index(min(test_rmses))\n",
    "\n",
    "elasticnet_var = models[best_model_index]\n",
    "y_pred_train_en_var = y_pred_trains[best_model_index]\n",
    "y_pred_test_en_var = y_pred_tests[best_model_index]\n",
    "rmse_train_var_en = train_rmses[best_model_index]\n",
    "rmse_test_var_en = test_rmses[best_model_index]\n",
    "l1_ratio_var = l1_ratios[best_model_index]\n",
    "mape_train_var_en = train_mapes[best_model_index]\n",
    "mape_test_var_en = test_mapes[best_model_index]\n",
    "\n",
    "print(\"Variance Elastic Net Model\")\n",
    "print(\"l1_ratio =\", l1_ratio_var)\n",
    "print(\"Test RMSE: \", rmse_test_var_en)\n",
    "print(\"Test Mean Absolute % Error: \", mape_test_var_en)"
   ]
  },
  {
   "cell_type": "code",
   "execution_count": 47,
   "id": "revised-chemical",
   "metadata": {},
   "outputs": [
    {
     "data": {
      "image/png": "[encoded data removed]",
      "text/plain": [
       "<Figure size 432x288 with 1 Axes>"
      ]
     },
     "metadata": {
      "needs_background": "light"
     },
     "output_type": "display_data"
    }
   ],
   "source": [
    "coeffs = np.polyfit(l1_ratios, test_rmses, 3)\n",
    "vals = [coeffs[0]*val**3 + coeffs[1]*val**2 + coeffs[2]*val + coeffs[3] for val in l1_ratios]\n",
    "\n",
    "plt.scatter(l1_ratios, test_rmses)\n",
    "plt.plot(l1_ratios, vals)\n",
    "plt.title(\"Test RMSE by Ridge/Lasso Ratio (Variance Model)\")\n",
    "plt.xlabel(\"L1 Ratio (0 = Ridge, 1 = Lasso)\")\n",
    "plt.ylabel(\"Test RMSE\");"
   ]
  },
  {
   "cell_type": "code",
   "execution_count": 48,
   "id": "deluxe-miami",
   "metadata": {},
   "outputs": [
    {
     "data": {
      "text/plain": [
       "Text(0.5, 1.0, 'Variance Model Predicted vs. True Values (EN)')"
      ]
     },
     "execution_count": 48,
     "metadata": {},
     "output_type": "execute_result"
    },
    {
     "data": {
      "image/png": "[encoded data removed]",
      "text/plain": [
       "<Figure size 432x288 with 1 Axes>"
      ]
     },
     "metadata": {
      "needs_background": "light"
     },
     "output_type": "display_data"
    }
   ],
   "source": [
    "#Elastic Net\n",
    "min_var = y_test.min()[0]\n",
    "max_var = y_test.max()[0]\n",
    "\n",
    "plt.scatter(y_test, y_pred_test_en_var)\n",
    "plt.plot([0, max_var], [0, max_var], color=\"red\")\n",
    "plt.xlabel(\"True Values\")\n",
    "plt.ylabel(\"Predicted Values\")\n",
    "plt.title(\"Variance Model Predicted vs. True Values (EN)\")"
   ]
  },
  {
   "cell_type": "markdown",
   "id": "diagnostic-defendant",
   "metadata": {},
   "source": [
    "### Discharge Model"
   ]
  },
  {
   "cell_type": "code",
   "execution_count": 49,
   "id": "acoustic-villa",
   "metadata": {},
   "outputs": [
    {
     "name": "stdout",
     "output_type": "stream",
     "text": [
      "Discharge Basic Linear Regression Model\n",
      "Test RMSE:  1175.1407569924484\n",
      "Mean % Test Error:  0.3424423551140783\n"
     ]
    }
   ],
   "source": [
    "# discharge model\n",
    "X_train_dis = new_ct_full.iloc[train_ind][discharge_model_features].replace([np.inf, -np.inf, 0], np.nan)\n",
    "X_train_dis.dropna(axis=0, inplace=True)\n",
    "y_train = new_ct_full.iloc[X_train_dis.index][[y]]\n",
    "\n",
    "X_test_dis = new_ct_full.iloc[test_ind][discharge_model_features].replace([np.inf, -np.inf, 0], np.nan)\n",
    "X_test_dis.dropna(axis=0, inplace=True)\n",
    "y_test = new_ct_full.iloc[X_test_dis.index][[y]]\n",
    "\n",
    "if standardized:\n",
    "    X_train_dis, X_test_dis = standardize(X_train_dis, X_test_dis)\n",
    "\n",
    "reg_dis = LinearRegression().fit(X_train_dis,y_train)\n",
    "y_pred_train_dis = reg_dis.predict(X_train_dis)\n",
    "y_pred_test_dis = reg_dis.predict(X_test_dis)\n",
    "\n",
    "rmse_train_dis = np.sqrt(mean_squared_error(y_train, y_pred_train_dis))\n",
    "rmse_test_dis = np.sqrt(mean_squared_error(y_test, y_pred_test_dis))\n",
    "mape_train_dis = mean_absolute_percentage_error(y_train, y_pred_train_dis)*100\n",
    "mape_test_dis = mean_absolute_percentage_error(y_test, y_pred_test_dis)*100\n",
    "\n",
    "print(\"Discharge Basic Linear Regression Model\")\n",
    "# print(\"Training RMSE: \", np.sqrt(mean_squared_error(y_train, y_pred_train_dis)))\n",
    "print(\"Test RMSE: \", np.sqrt(mean_squared_error(y_test, y_pred_test_dis)))\n",
    "# print(\"Mean % Train Error: \", mean_absolute_percentage_error(y_train, y_pred_train_dis))\n",
    "print(\"Mean % Test Error: \", mean_absolute_percentage_error(y_test, y_pred_test_dis))"
   ]
  },
  {
   "cell_type": "code",
   "execution_count": 50,
   "id": "female-saint",
   "metadata": {},
   "outputs": [
    {
     "data": {
      "text/plain": [
       "Text(0.5, 1.0, 'Discharge Model Predicted vs. True Values (LR)')"
      ]
     },
     "execution_count": 50,
     "metadata": {},
     "output_type": "execute_result"
    },
    {
     "data": {
      "image/png": "[encoded data removed]",
      "text/plain": [
       "<Figure size 432x288 with 1 Axes>"
      ]
     },
     "metadata": {
      "needs_background": "light"
     },
     "output_type": "display_data"
    }
   ],
   "source": [
    "# Linear Regression\n",
    "max_dis = y_test.max()[0]\n",
    "\n",
    "plt.scatter(y_test, y_pred_test_dis)\n",
    "plt.plot([0, max_dis], [0, max_dis], color=\"red\")\n",
    "plt.xlabel(\"True Values\")\n",
    "plt.ylabel(\"Predicted Values\")\n",
    "plt.title(\"Discharge Model Predicted vs. True Values (LR)\")"
   ]
  },
  {
   "cell_type": "code",
   "execution_count": 51,
   "id": "million-logan",
   "metadata": {},
   "outputs": [
    {
     "name": "stdout",
     "output_type": "stream",
     "text": [
      "Discharge Elastic Net Model\n",
      "l1_ratio = 0.95\n",
      "Test RMSE:  1257.0408360920376\n",
      "Test Mean Absolute % Error:  44.39443793351402\n"
     ]
    }
   ],
   "source": [
    "k_fold = 5\n",
    "l1_ratios = [i/20 for i in range(1, 21)]\n",
    "max_iter = 1000000\n",
    "random_state = 1\n",
    "test_size = 2\n",
    "tol = 0.0001\n",
    "\n",
    "models = []\n",
    "y_pred_trains = []\n",
    "y_pred_tests = []\n",
    "train_rmses = []\n",
    "test_rmses = []\n",
    "train_mapes = []\n",
    "test_mapes = []\n",
    "\n",
    "for l1_ratio in l1_ratios:\n",
    "    elasticnetcv = ElasticNetCV(\n",
    "        fit_intercept=True,\n",
    "        normalize=False,\n",
    "        alphas=None,\n",
    "        cv=k_fold,\n",
    "        l1_ratio=l1_ratio,\n",
    "        max_iter=max_iter,\n",
    "    )\n",
    "    elasticnetcv.fit(X_train_dis, y_train.values.ravel())\n",
    "\n",
    "    elasticnet_dis = ElasticNet(\n",
    "        fit_intercept=True,\n",
    "        normalize=False,\n",
    "        l1_ratio=elasticnetcv.l1_ratio_,\n",
    "        alpha=elasticnetcv.alpha_,\n",
    "        max_iter=max_iter,\n",
    "    )\n",
    "\n",
    "    elasticnet_dis.fit(X_train_dis, y_train.values.ravel())\n",
    "    y_pred_train_en_dis = elasticnet_dis.predict(X_train_dis)\n",
    "    y_pred_test_en_dis = elasticnet_dis.predict(X_test_dis)\n",
    "\n",
    "    rmse_train_en_dis = np.sqrt(mean_squared_error(y_train, y_pred_train_en_dis))\n",
    "    rmse_test_en_dis = np.sqrt(mean_squared_error(y_test, y_pred_test_en_dis))\n",
    "    mape_train_en_dis = mean_absolute_percentage_error(y_train, y_pred_train_en_dis)*100\n",
    "    mape_test_en_dis = mean_absolute_percentage_error(y_test, y_pred_test_en_dis)*100\n",
    "\n",
    "    models.append(elasticnet_dis)\n",
    "    y_pred_trains.append(y_pred_train_en_dis)\n",
    "    y_pred_tests.append(y_pred_test_en_dis)\n",
    "    train_rmses.append(rmse_train_en_dis)\n",
    "    test_rmses.append(rmse_test_en_dis)\n",
    "    train_mapes.append(mape_train_en_dis)\n",
    "    test_mapes.append(mape_test_en_dis)\n",
    "\n",
    "best_model_index = test_rmses.index(min(test_rmses))\n",
    "\n",
    "elasticnet_dis = models[best_model_index]\n",
    "y_pred_train_en_dis = y_pred_trains[best_model_index]\n",
    "y_pred_test_en_dis = y_pred_tests[best_model_index]\n",
    "rmse_train_dis_en = train_rmses[best_model_index]\n",
    "rmse_test_dis_en = test_rmses[best_model_index]\n",
    "l1_ratio_dis = l1_ratios[best_model_index]\n",
    "mape_train_dis_en = train_mapes[best_model_index]\n",
    "mape_test_dis_en = test_mapes[best_model_index]\n",
    "\n",
    "print(\"Discharge Elastic Net Model\")\n",
    "print(\"l1_ratio =\", l1_ratio_dis)\n",
    "print(\"Test RMSE: \", rmse_test_dis_en)\n",
    "print(\"Test Mean Absolute % Error: \", mape_test_dis_en)"
   ]
  },
  {
   "cell_type": "code",
   "execution_count": 52,
   "id": "fundamental-fossil",
   "metadata": {},
   "outputs": [
    {
     "data": {
      "image/png": "[encoded data removed]",
      "text/plain": [
       "<Figure size 432x288 with 1 Axes>"
      ]
     },
     "metadata": {
      "needs_background": "light"
     },
     "output_type": "display_data"
    }
   ],
   "source": [
    "# coeffs = np.polyfit(l1_ratios, test_rmses, 3)\n",
    "# vals = [coeffs[0]*val**3 + coeffs[1]*val**2 + coeffs[2]*val + coeffs[3] for val in l1_ratios[:-1]]\n",
    "\n",
    "plt.scatter(l1_ratios, test_rmses)\n",
    "# plt.plot(l1_ratios[:-1], vals)\n",
    "plt.title(\"Test RMSE by Ridge/Lasso Ratio (Discharge Model)\")\n",
    "plt.xlabel(\"L1 Ratio (0 = Ridge, 1 = Lasso)\")\n",
    "plt.ylabel(\"Test RMSE\");"
   ]
  },
  {
   "cell_type": "code",
   "execution_count": 53,
   "id": "ideal-project",
   "metadata": {},
   "outputs": [
    {
     "data": {
      "text/plain": [
       "(0.0, 7500.0)"
      ]
     },
     "execution_count": 53,
     "metadata": {},
     "output_type": "execute_result"
    },
    {
     "data": {
      "image/png": "[encoded data removed]",
      "text/plain": [
       "<Figure size 432x288 with 1 Axes>"
      ]
     },
     "metadata": {
      "needs_background": "light"
     },
     "output_type": "display_data"
    }
   ],
   "source": [
    "#Elastic Net\n",
    "max_dis = y_test.max()[0]\n",
    "\n",
    "plt.scatter(y_test, y_pred_test_en_dis)\n",
    "plt.plot([0, max_dis], [0, max_dis], color=\"red\")\n",
    "plt.xlabel(\"True Values\")\n",
    "plt.ylabel(\"Predicted Values\")\n",
    "plt.title(\"Discharge Model Predicted vs. True Values (EN)\")\n",
    "plt.ylim(0,7500)\n",
    "plt.xlim(0,7500)"
   ]
  },
  {
   "cell_type": "markdown",
   "id": "changed-sleeve",
   "metadata": {},
   "source": [
    "### Full Model"
   ]
  },
  {
   "cell_type": "code",
   "execution_count": 54,
   "id": "invisible-bidding",
   "metadata": {},
   "outputs": [
    {
     "name": "stdout",
     "output_type": "stream",
     "text": [
      "Full Basic Linear Regression Model\n",
      "Test RMSE:  1323.583577820373\n",
      "Mean % Test Error:  0.47892705169572763\n"
     ]
    }
   ],
   "source": [
    "# full model\n",
    "X_train_full = new_ct_full.iloc[train_ind][full_model_features].replace([np.inf, -np.inf, 0], np.nan)\n",
    "X_train_full.dropna(axis=0, inplace=True) \n",
    "y_train = new_ct_full.iloc[X_train_full.index][[y]]\n",
    "\n",
    "X_test_full = new_ct_full.iloc[test_ind][full_model_features].replace([np.inf, -np.inf, 0], np.nan)\n",
    "X_test_full.dropna(axis=0, inplace=True) \n",
    "y_test = new_ct_full.iloc[X_test_full.index][[y]]\n",
    "\n",
    "if standardized:\n",
    "    X_train_full, X_test_full = standardize(X_train_full, X_test_full)\n",
    "\n",
    "reg_full = LinearRegression().fit(X_train_full,y_train)\n",
    "y_pred_train_full = reg_full.predict(X_train_full)\n",
    "y_pred_test_full = reg_full.predict(X_test_full)\n",
    "\n",
    "rmse_train_full = np.sqrt(mean_squared_error(y_train, y_pred_train_full))\n",
    "rmse_test_full = np.sqrt(mean_squared_error(y_test, y_pred_test_full))\n",
    "mape_train_full = mean_absolute_percentage_error(y_train, y_pred_train_full)*100\n",
    "mape_test_full = mean_absolute_percentage_error(y_test, y_pred_test_full)*100\n",
    "\n",
    "print(\"Full Basic Linear Regression Model\")\n",
    "# print(\"Training RMSE: \", np.sqrt(mean_squared_error(y_train, y_pred_train_full)))\n",
    "print(\"Test RMSE: \", np.sqrt(mean_squared_error(y_test, y_pred_test_full)))\n",
    "# print(\"Mean % Train Error: \", mean_absolute_percentage_error(y_train, y_pred_train_full))\n",
    "print(\"Mean % Test Error: \", mean_absolute_percentage_error(y_test, y_pred_test_full))"
   ]
  },
  {
   "cell_type": "code",
   "execution_count": 55,
   "id": "alien-republican",
   "metadata": {},
   "outputs": [
    {
     "data": {
      "text/plain": [
       "Text(0.5, 1.0, 'Full Model Predicted vs. True Values (LR)')"
      ]
     },
     "execution_count": 55,
     "metadata": {},
     "output_type": "execute_result"
    },
    {
     "data": {
      "image/png": "[encoded data removed]",
      "text/plain": [
       "<Figure size 432x288 with 1 Axes>"
      ]
     },
     "metadata": {
      "needs_background": "light"
     },
     "output_type": "display_data"
    }
   ],
   "source": [
    "#Linear Regression\n",
    "min_full = y_test.min()[0]\n",
    "max_full = y_test.max()[0]\n",
    "\n",
    "plt.scatter(y_test, y_pred_test_full)\n",
    "plt.plot([0, max_full], [0, max_full], color=\"red\")\n",
    "plt.xlabel(\"True Values\")\n",
    "plt.ylabel(\"Predicted Values\")\n",
    "plt.title(\"Full Model Predicted vs. True Values (LR)\")"
   ]
  },
  {
   "cell_type": "code",
   "execution_count": 56,
   "id": "signal-document",
   "metadata": {},
   "outputs": [
    {
     "name": "stdout",
     "output_type": "stream",
     "text": [
      "Full Elastic Net Model\n",
      "l1_ratio = 1.0\n",
      "Test RMSE:  1440.1316879228134\n",
      "Test Mean Absolute % Error:  51.0002744517273\n"
     ]
    }
   ],
   "source": [
    "k_fold = 5\n",
    "l1_ratios = [i/20 for i in range(1, 21)]   #use this when testing different ratios\n",
    "#l1_ratios = [0.8]   #use this when using only the best ratio\n",
    "max_iter = 1000000\n",
    "random_state = 1\n",
    "test_size = 2\n",
    "tol = 0.0001\n",
    "\n",
    "models = []\n",
    "y_pred_trains = []\n",
    "y_pred_tests = []\n",
    "train_rmses = []\n",
    "test_rmses = []\n",
    "train_mapes = []\n",
    "test_mapes = []\n",
    "\n",
    "for l1_ratio in l1_ratios:\n",
    "    elasticnetcv = ElasticNetCV(\n",
    "        fit_intercept=True,\n",
    "        normalize=False,\n",
    "        alphas=None,\n",
    "        cv=k_fold,\n",
    "        l1_ratio=l1_ratio,\n",
    "        max_iter=max_iter,\n",
    "    )\n",
    "    \n",
    "    elasticnetcv.fit(X_train_full, y_train.values.ravel())\n",
    "\n",
    "    elasticnet_full = ElasticNet(\n",
    "        fit_intercept=True,\n",
    "        normalize=False,\n",
    "        l1_ratio=elasticnetcv.l1_ratio_,\n",
    "        alpha=elasticnetcv.alpha_,\n",
    "        max_iter=max_iter,\n",
    "    )\n",
    "    \n",
    "    elasticnet_full.fit(X_train_full, y_train.values.ravel())\n",
    "    y_pred_train_en_full = elasticnet_full.predict(X_train_full)\n",
    "    y_pred_test_en_full = elasticnet_full.predict(X_test_full)\n",
    "\n",
    "    rmse_train_en_full = np.sqrt(mean_squared_error(y_train, y_pred_train_en_full))\n",
    "    rmse_test_en_full = np.sqrt(mean_squared_error(y_test, y_pred_test_en_full))\n",
    "    mape_train_en_full = mean_absolute_percentage_error(y_train, y_pred_train_en_full)*100\n",
    "    mape_test_en_full = mean_absolute_percentage_error(y_test, y_pred_test_en_full)*100\n",
    "\n",
    "    models.append(elasticnet_full)\n",
    "    y_pred_trains.append(y_pred_train_en_full)\n",
    "    y_pred_tests.append(y_pred_test_en_full)\n",
    "    train_rmses.append(rmse_train_en_full)\n",
    "    test_rmses.append(rmse_test_en_full)\n",
    "    train_mapes.append(mape_train_en_full)\n",
    "    test_mapes.append(mape_test_en_full)\n",
    "\n",
    "best_model_index = test_rmses.index(min(test_rmses))\n",
    "\n",
    "elasticnet_full = models[best_model_index]\n",
    "y_pred_train_en_full = y_pred_trains[best_model_index]\n",
    "y_pred_test_en_full = y_pred_tests[best_model_index]\n",
    "rmse_train_full_en = train_rmses[best_model_index]\n",
    "rmse_test_full_en = test_rmses[best_model_index]\n",
    "l1_ratio_full = l1_ratios[best_model_index]\n",
    "mape_train_full_en = train_mapes[best_model_index]\n",
    "mape_test_full_en = test_mapes[best_model_index]\n",
    "\n",
    "print(\"Full Elastic Net Model\")\n",
    "print(\"l1_ratio =\", l1_ratio_full)\n",
    "print(\"Test RMSE: \", rmse_test_full_en)\n",
    "print(\"Test Mean Absolute % Error: \", mape_test_full_en)"
   ]
  },
  {
   "cell_type": "code",
   "execution_count": 57,
   "id": "bearing-belize",
   "metadata": {
    "scrolled": true
   },
   "outputs": [
    {
     "data": {
      "image/png": "[encoded data removed]",
      "text/plain": [
       "<Figure size 432x288 with 1 Axes>"
      ]
     },
     "metadata": {
      "needs_background": "light"
     },
     "output_type": "display_data"
    }
   ],
   "source": [
    "plt.scatter(l1_ratios, test_rmses)\n",
    "plt.title(\"Test RMSE by Ridge/Lasso Ratio (Full Model)\")\n",
    "plt.xlabel(\"L1 Ratio (0 = Ridge, 1 = Lasso)\")\n",
    "plt.ylabel(\"Test RMSE\");"
   ]
  },
  {
   "cell_type": "code",
   "execution_count": 58,
   "id": "illegal-audience",
   "metadata": {},
   "outputs": [
    {
     "data": {
      "text/plain": [
       "(0.0, 7500.0)"
      ]
     },
     "execution_count": 58,
     "metadata": {},
     "output_type": "execute_result"
    },
    {
     "data": {
      "image/png": "[encoded data removed]",
      "text/plain": [
       "<Figure size 432x288 with 1 Axes>"
      ]
     },
     "metadata": {
      "needs_background": "light"
     },
     "output_type": "display_data"
    }
   ],
   "source": [
    "#Elastic Net\n",
    "max_full = y_test.max()[0]\n",
    "\n",
    "plt.scatter(y_test, y_pred_test_en_full)\n",
    "plt.plot([0, max_full], [0, max_full], color=\"red\")\n",
    "plt.xlabel(\"True Values\")\n",
    "plt.ylabel(\"Predicted Values\")\n",
    "plt.title(\"Full Model Predicted vs. True Values (EN)\")\n",
    "plt.ylim(0,7500)\n",
    "plt.xlim(0,7500)"
   ]
  },
  {
   "cell_type": "markdown",
   "id": "linear-cliff",
   "metadata": {},
   "source": [
    "### New Data Plots"
   ]
  },
  {
   "cell_type": "code",
   "execution_count": 59,
   "id": "determined-emission",
   "metadata": {},
   "outputs": [
    {
     "data": {
      "image/png": "[encoded data removed]",
      "text/plain": [
       "<Figure size 432x288 with 1 Axes>"
      ]
     },
     "metadata": {
      "needs_background": "light"
     },
     "output_type": "display_data"
    }
   ],
   "source": [
    "plt.hist(new_ct_full[y])\n",
    "plt.ylabel('Frequency')\n",
    "if ct:\n",
    "    plt.xlabel('Charge Throughput')\n",
    "    plt.title('Frequency of Charge Throughput')\n",
    "else:\n",
    "    plt.xlabel('Cycle Life')\n",
    "    plt.title('Frequency of Cycle Life (New Data)')"
   ]
  },
  {
   "cell_type": "code",
   "execution_count": 60,
   "id": "north-income",
   "metadata": {},
   "outputs": [],
   "source": [
    "new_data_metrics = pd.DataFrame(data = {\"Model & Source\": [\"Var (Linear)\", \"Var (E.N.)\", \n",
    "                                                           \"Disc (Linear)\", \"Disc (E.N.)\",\n",
    "                                                           \"Full (Linear)\", \"Full (E.N.)\"],\n",
    "                               \n",
    "                               \"Model\": [\"Variance\", \"Variance\",\n",
    "                                         \"Discharge\", \"Discharge\",\n",
    "                                         \"Full\", \"Full\"],\n",
    "                                        \n",
    "                               \"Source\": [\"Basic Linear Regression\", \"Elastic Net\",\n",
    "                                          \"Basic Linear Regression\", \"Elastic Net\",\n",
    "                                          \"Basic Linear Regression\", \"Elastic Net\"],\n",
    "                                        \n",
    "                               \"Train RMSE\": [rmse_train_var, rmse_train_var_en,\n",
    "                                              rmse_train_dis, rmse_train_dis_en,\n",
    "                                              rmse_train_full, rmse_train_full_en],\n",
    "                               \n",
    "                               \"Test RMSE\": [rmse_test_var, rmse_test_var_en,\n",
    "                                             rmse_test_dis, rmse_test_dis_en,\n",
    "                                             rmse_test_full, rmse_test_full_en],\n",
    "                               \n",
    "                               \"Mean % Train Error\": [mape_train_var, mape_train_var_en,\n",
    "                                                      mape_train_dis, mape_train_dis_en,\n",
    "                                                      mape_train_full, mape_train_full_en],\n",
    "                               \n",
    "                               \"Mean % Test Error\": [mape_test_var, mape_test_var_en,\n",
    "                                                     mape_test_dis, mape_test_dis_en,\n",
    "                                                     mape_test_full, mape_test_full_en]})"
   ]
  },
  {
   "cell_type": "code",
   "execution_count": 61,
   "id": "municipal-happening",
   "metadata": {},
   "outputs": [
    {
     "data": {
      "image/png": "[encoded data removed]",
      "text/plain": [
       "<Figure size 514.625x360 with 1 Axes>"
      ]
     },
     "metadata": {
      "needs_background": "light"
     },
     "output_type": "display_data"
    },
    {
     "data": {
      "image/png": "[encoded data removed]",
      "text/plain": [
       "<Figure size 514.625x360 with 1 Axes>"
      ]
     },
     "metadata": {
      "needs_background": "light"
     },
     "output_type": "display_data"
    },
    {
     "data": {
      "image/png": "[encoded data removed]",
      "text/plain": [
       "<Figure size 514.625x360 with 1 Axes>"
      ]
     },
     "metadata": {
      "needs_background": "light"
     },
     "output_type": "display_data"
    },
    {
     "data": {
      "image/png": "[encoded data removed]",
      "text/plain": [
       "<Figure size 514.625x360 with 1 Axes>"
      ]
     },
     "metadata": {
      "needs_background": "light"
     },
     "output_type": "display_data"
    }
   ],
   "source": [
    "for column in new_data_metrics.columns[3:]:\n",
    "    sns.catplot(data = new_data_metrics, kind=\"bar\",\n",
    "               x = \"Model\", y = column, hue = \"Source\")\n",
    "    plt.title(column + \" Comparison\")"
   ]
  },
  {
   "cell_type": "markdown",
   "id": "recreational-collins",
   "metadata": {},
   "source": [
    "## New + Old Data"
   ]
  },
  {
   "cell_type": "code",
   "execution_count": 62,
   "id": "hydraulic-black",
   "metadata": {},
   "outputs": [],
   "source": [
    "if sources:\n",
    "    old_ct[\"Source\"] = -1\n",
    "    new_ct_full[\"Source\"] = 1\n",
    "    variance_model_features.append(\"Source\")\n",
    "    discharge_model_features.append(\"Source\")\n",
    "    full_model_features.append(\"Source\")\n",
    "\n",
    "if new_chemistries & chem_sources:\n",
    "    old_ct[\"X.LFP\"] = new_ct_full.iloc[0][\"X.LFP\"]\n",
    "    old_ct[\"X.NCA\"] = new_ct_full.iloc[0][\"X.NCA\"]\n",
    "    old_ct[\"X.NMC\"] = new_ct_full.iloc[0][\"X.NMC\"]"
   ]
  },
  {
   "cell_type": "code",
   "execution_count": 63,
   "id": "underlying-substitute",
   "metadata": {},
   "outputs": [],
   "source": [
    "full_data = old_ct.append(new_ct_full)\n",
    "full_data = full_data.reset_index()"
   ]
  },
  {
   "cell_type": "code",
   "execution_count": 64,
   "id": "proved-choice",
   "metadata": {},
   "outputs": [],
   "source": [
    "if standardized:\n",
    "    if old_new_scaler:\n",
    "        if sources:\n",
    "            X_all_old[\"Source\"] = -1\n",
    "            X_all_new[\"Source\"] = 1\n",
    "            all_model_features.append(\"Source\")\n",
    "            \n",
    "        if new_chemistries & chem_sources:\n",
    "            X_all_old[\"X.LFP\"] = X_all_new.iloc[0][\"X.LFP\"]\n",
    "            X_all_old[\"X.NCA\"] = X_all_new.iloc[0][\"X.NCA\"]\n",
    "            X_all_old[\"X.NMC\"] = X_all_new.iloc[0][\"X.NMC\"]\n",
    "\n",
    "        full_data = X_all_old.append(X_all_new)\n",
    "        full_data = full_data.reset_index()"
   ]
  },
  {
   "cell_type": "code",
   "execution_count": 65,
   "id": "permanent-marsh",
   "metadata": {},
   "outputs": [
    {
     "data": {
      "text/html": [
       "<div>\n",
       "<style scoped>\n",
       "    .dataframe tbody tr th:only-of-type {\n",
       "        vertical-align: middle;\n",
       "    }\n",
       "\n",
       "    .dataframe tbody tr th {\n",
       "        vertical-align: top;\n",
       "    }\n",
       "\n",
       "    .dataframe thead th {\n",
       "        text-align: right;\n",
       "    }\n",
       "</style>\n",
       "<table border=\"1\" class=\"dataframe\">\n",
       "  <thead>\n",
       "    <tr style=\"text-align: right;\">\n",
       "      <th></th>\n",
       "      <th>level_0</th>\n",
       "      <th>index</th>\n",
       "      <th>@module_x</th>\n",
       "      <th>@class_x</th>\n",
       "      <th>name_x</th>\n",
       "      <th>@version_x</th>\n",
       "      <th>X.discharge_capacity_cycle_2</th>\n",
       "      <th>X.max_discharge_capacity_difference</th>\n",
       "      <th>X.discharge_capacity_cycle_100</th>\n",
       "      <th>X.integrated_time_temperature_cycles_1:100</th>\n",
       "      <th>...</th>\n",
       "      <th>metadata.parameters.thresh_max_cap</th>\n",
       "      <th>metadata.parameters.thresh_min_cap</th>\n",
       "      <th>metadata.parameters.interval_cap</th>\n",
       "      <th>charge_throughput</th>\n",
       "      <th>X.LFP</th>\n",
       "      <th>X.NCA</th>\n",
       "      <th>X.NMC</th>\n",
       "      <th>X.battery_index</th>\n",
       "      <th>X.battery</th>\n",
       "      <th>X.cycle_index</th>\n",
       "    </tr>\n",
       "  </thead>\n",
       "  <tbody>\n",
       "    <tr>\n",
       "      <th>0</th>\n",
       "      <td>0</td>\n",
       "      <td>98.0</td>\n",
       "      <td>beep.featurize</td>\n",
       "      <td>DeltaQFastCharge</td>\n",
       "      <td>/mnt/c/Users/sjrt1/Documents/School/Winter2021...</td>\n",
       "      <td>2021.1.11.15</td>\n",
       "      <td>1.069159</td>\n",
       "      <td>0.609605</td>\n",
       "      <td>1.075878</td>\n",
       "      <td>194523.331238</td>\n",
       "      <td>...</td>\n",
       "      <td>0.98</td>\n",
       "      <td>0.78</td>\n",
       "      <td>0.03</td>\n",
       "      <td>1254.091309</td>\n",
       "      <td>1</td>\n",
       "      <td>-1</td>\n",
       "      <td>-1</td>\n",
       "      <td>NaN</td>\n",
       "      <td>NaN</td>\n",
       "      <td>NaN</td>\n",
       "    </tr>\n",
       "    <tr>\n",
       "      <th>1</th>\n",
       "      <td>1</td>\n",
       "      <td>13.0</td>\n",
       "      <td>beep.featurize</td>\n",
       "      <td>DeltaQFastCharge</td>\n",
       "      <td>/mnt/c/Users/sjrt1/Documents/School/Winter2021...</td>\n",
       "      <td>2021.1.11.15</td>\n",
       "      <td>1.021925</td>\n",
       "      <td>0.234529</td>\n",
       "      <td>1.010972</td>\n",
       "      <td>163310.066862</td>\n",
       "      <td>...</td>\n",
       "      <td>0.98</td>\n",
       "      <td>0.78</td>\n",
       "      <td>0.03</td>\n",
       "      <td>639.746826</td>\n",
       "      <td>1</td>\n",
       "      <td>-1</td>\n",
       "      <td>-1</td>\n",
       "      <td>NaN</td>\n",
       "      <td>NaN</td>\n",
       "      <td>NaN</td>\n",
       "    </tr>\n",
       "    <tr>\n",
       "      <th>2</th>\n",
       "      <td>2</td>\n",
       "      <td>78.0</td>\n",
       "      <td>beep.featurize</td>\n",
       "      <td>DeltaQFastCharge</td>\n",
       "      <td>/mnt/c/Users/sjrt1/Documents/School/Winter2021...</td>\n",
       "      <td>2021.1.11.15</td>\n",
       "      <td>1.072973</td>\n",
       "      <td>0.607773</td>\n",
       "      <td>1.079325</td>\n",
       "      <td>182982.491752</td>\n",
       "      <td>...</td>\n",
       "      <td>0.98</td>\n",
       "      <td>0.78</td>\n",
       "      <td>0.03</td>\n",
       "      <td>664.310181</td>\n",
       "      <td>1</td>\n",
       "      <td>-1</td>\n",
       "      <td>-1</td>\n",
       "      <td>NaN</td>\n",
       "      <td>NaN</td>\n",
       "      <td>NaN</td>\n",
       "    </tr>\n",
       "    <tr>\n",
       "      <th>3</th>\n",
       "      <td>3</td>\n",
       "      <td>96.0</td>\n",
       "      <td>beep.featurize</td>\n",
       "      <td>DeltaQFastCharge</td>\n",
       "      <td>/mnt/c/Users/sjrt1/Documents/School/Winter2021...</td>\n",
       "      <td>2021.1.11.15</td>\n",
       "      <td>1.070200</td>\n",
       "      <td>0.609325</td>\n",
       "      <td>1.061485</td>\n",
       "      <td>178767.125004</td>\n",
       "      <td>...</td>\n",
       "      <td>0.98</td>\n",
       "      <td>0.78</td>\n",
       "      <td>0.03</td>\n",
       "      <td>539.480530</td>\n",
       "      <td>1</td>\n",
       "      <td>-1</td>\n",
       "      <td>-1</td>\n",
       "      <td>NaN</td>\n",
       "      <td>NaN</td>\n",
       "      <td>NaN</td>\n",
       "    </tr>\n",
       "    <tr>\n",
       "      <th>4</th>\n",
       "      <td>4</td>\n",
       "      <td>97.0</td>\n",
       "      <td>beep.featurize</td>\n",
       "      <td>DeltaQFastCharge</td>\n",
       "      <td>/mnt/c/Users/sjrt1/Documents/School/Winter2021...</td>\n",
       "      <td>2021.1.11.15</td>\n",
       "      <td>1.080072</td>\n",
       "      <td>0.606653</td>\n",
       "      <td>1.076906</td>\n",
       "      <td>184036.176107</td>\n",
       "      <td>...</td>\n",
       "      <td>0.98</td>\n",
       "      <td>0.78</td>\n",
       "      <td>0.03</td>\n",
       "      <td>576.926392</td>\n",
       "      <td>1</td>\n",
       "      <td>-1</td>\n",
       "      <td>-1</td>\n",
       "      <td>NaN</td>\n",
       "      <td>NaN</td>\n",
       "      <td>NaN</td>\n",
       "    </tr>\n",
       "    <tr>\n",
       "      <th>...</th>\n",
       "      <td>...</td>\n",
       "      <td>...</td>\n",
       "      <td>...</td>\n",
       "      <td>...</td>\n",
       "      <td>...</td>\n",
       "      <td>...</td>\n",
       "      <td>...</td>\n",
       "      <td>...</td>\n",
       "      <td>...</td>\n",
       "      <td>...</td>\n",
       "      <td>...</td>\n",
       "      <td>...</td>\n",
       "      <td>...</td>\n",
       "      <td>...</td>\n",
       "      <td>...</td>\n",
       "      <td>...</td>\n",
       "      <td>...</td>\n",
       "      <td>...</td>\n",
       "      <td>...</td>\n",
       "      <td>...</td>\n",
       "      <td>...</td>\n",
       "    </tr>\n",
       "    <tr>\n",
       "      <th>217</th>\n",
       "      <td>78</td>\n",
       "      <td>NaN</td>\n",
       "      <td>NaN</td>\n",
       "      <td>NaN</td>\n",
       "      <td>NaN</td>\n",
       "      <td>NaN</td>\n",
       "      <td>2.945000</td>\n",
       "      <td>2.858000</td>\n",
       "      <td>2.617000</td>\n",
       "      <td>688295.406421</td>\n",
       "      <td>...</td>\n",
       "      <td>NaN</td>\n",
       "      <td>NaN</td>\n",
       "      <td>NaN</td>\n",
       "      <td>6965.715000</td>\n",
       "      <td>-1</td>\n",
       "      <td>-1</td>\n",
       "      <td>1</td>\n",
       "      <td>27.0</td>\n",
       "      <td>NMC_25C_40-60_0.5-3C_b_CH25_struct</td>\n",
       "      <td>11148.0</td>\n",
       "    </tr>\n",
       "    <tr>\n",
       "      <th>218</th>\n",
       "      <td>79</td>\n",
       "      <td>NaN</td>\n",
       "      <td>NaN</td>\n",
       "      <td>NaN</td>\n",
       "      <td>NaN</td>\n",
       "      <td>NaN</td>\n",
       "      <td>2.967000</td>\n",
       "      <td>2.866000</td>\n",
       "      <td>2.642000</td>\n",
       "      <td>695101.448533</td>\n",
       "      <td>...</td>\n",
       "      <td>NaN</td>\n",
       "      <td>NaN</td>\n",
       "      <td>NaN</td>\n",
       "      <td>1627.971000</td>\n",
       "      <td>-1</td>\n",
       "      <td>-1</td>\n",
       "      <td>1</td>\n",
       "      <td>28.0</td>\n",
       "      <td>NMC_35C_0-100_0.5-1C_a_CH26_struct</td>\n",
       "      <td>785.0</td>\n",
       "    </tr>\n",
       "    <tr>\n",
       "      <th>219</th>\n",
       "      <td>80</td>\n",
       "      <td>NaN</td>\n",
       "      <td>NaN</td>\n",
       "      <td>NaN</td>\n",
       "      <td>NaN</td>\n",
       "      <td>NaN</td>\n",
       "      <td>2.899000</td>\n",
       "      <td>2.812000</td>\n",
       "      <td>2.645000</td>\n",
       "      <td>691622.108800</td>\n",
       "      <td>...</td>\n",
       "      <td>NaN</td>\n",
       "      <td>NaN</td>\n",
       "      <td>NaN</td>\n",
       "      <td>1956.561000</td>\n",
       "      <td>-1</td>\n",
       "      <td>-1</td>\n",
       "      <td>1</td>\n",
       "      <td>29.0</td>\n",
       "      <td>NMC_35C_0-100_0.5-1C_b_CH27_struct</td>\n",
       "      <td>785.0</td>\n",
       "    </tr>\n",
       "    <tr>\n",
       "      <th>220</th>\n",
       "      <td>81</td>\n",
       "      <td>NaN</td>\n",
       "      <td>NaN</td>\n",
       "      <td>NaN</td>\n",
       "      <td>NaN</td>\n",
       "      <td>NaN</td>\n",
       "      <td>2.957000</td>\n",
       "      <td>2.843000</td>\n",
       "      <td>2.653000</td>\n",
       "      <td>634530.826457</td>\n",
       "      <td>...</td>\n",
       "      <td>NaN</td>\n",
       "      <td>NaN</td>\n",
       "      <td>NaN</td>\n",
       "      <td>1638.455000</td>\n",
       "      <td>-1</td>\n",
       "      <td>-1</td>\n",
       "      <td>1</td>\n",
       "      <td>30.0</td>\n",
       "      <td>NMC_35C_0-100_0.5-1C_c_CH28_struct</td>\n",
       "      <td>784.0</td>\n",
       "    </tr>\n",
       "    <tr>\n",
       "      <th>221</th>\n",
       "      <td>82</td>\n",
       "      <td>NaN</td>\n",
       "      <td>NaN</td>\n",
       "      <td>NaN</td>\n",
       "      <td>NaN</td>\n",
       "      <td>NaN</td>\n",
       "      <td>2.915000</td>\n",
       "      <td>2.771000</td>\n",
       "      <td>2.624000</td>\n",
       "      <td>644289.592570</td>\n",
       "      <td>...</td>\n",
       "      <td>NaN</td>\n",
       "      <td>NaN</td>\n",
       "      <td>NaN</td>\n",
       "      <td>1625.621000</td>\n",
       "      <td>-1</td>\n",
       "      <td>-1</td>\n",
       "      <td>1</td>\n",
       "      <td>31.0</td>\n",
       "      <td>NMC_35C_0-100_0.5-1C_d_CH29_struct</td>\n",
       "      <td>785.0</td>\n",
       "    </tr>\n",
       "  </tbody>\n",
       "</table>\n",
       "<p>222 rows × 61 columns</p>\n",
       "</div>"
      ],
      "text/plain": [
       "     level_0  index       @module_x          @class_x  \\\n",
       "0          0   98.0  beep.featurize  DeltaQFastCharge   \n",
       "1          1   13.0  beep.featurize  DeltaQFastCharge   \n",
       "2          2   78.0  beep.featurize  DeltaQFastCharge   \n",
       "3          3   96.0  beep.featurize  DeltaQFastCharge   \n",
       "4          4   97.0  beep.featurize  DeltaQFastCharge   \n",
       "..       ...    ...             ...               ...   \n",
       "217       78    NaN             NaN               NaN   \n",
       "218       79    NaN             NaN               NaN   \n",
       "219       80    NaN             NaN               NaN   \n",
       "220       81    NaN             NaN               NaN   \n",
       "221       82    NaN             NaN               NaN   \n",
       "\n",
       "                                                name_x    @version_x  \\\n",
       "0    /mnt/c/Users/sjrt1/Documents/School/Winter2021...  2021.1.11.15   \n",
       "1    /mnt/c/Users/sjrt1/Documents/School/Winter2021...  2021.1.11.15   \n",
       "2    /mnt/c/Users/sjrt1/Documents/School/Winter2021...  2021.1.11.15   \n",
       "3    /mnt/c/Users/sjrt1/Documents/School/Winter2021...  2021.1.11.15   \n",
       "4    /mnt/c/Users/sjrt1/Documents/School/Winter2021...  2021.1.11.15   \n",
       "..                                                 ...           ...   \n",
       "217                                                NaN           NaN   \n",
       "218                                                NaN           NaN   \n",
       "219                                                NaN           NaN   \n",
       "220                                                NaN           NaN   \n",
       "221                                                NaN           NaN   \n",
       "\n",
       "     X.discharge_capacity_cycle_2  X.max_discharge_capacity_difference  \\\n",
       "0                        1.069159                             0.609605   \n",
       "1                        1.021925                             0.234529   \n",
       "2                        1.072973                             0.607773   \n",
       "3                        1.070200                             0.609325   \n",
       "4                        1.080072                             0.606653   \n",
       "..                            ...                                  ...   \n",
       "217                      2.945000                             2.858000   \n",
       "218                      2.967000                             2.866000   \n",
       "219                      2.899000                             2.812000   \n",
       "220                      2.957000                             2.843000   \n",
       "221                      2.915000                             2.771000   \n",
       "\n",
       "     X.discharge_capacity_cycle_100  \\\n",
       "0                          1.075878   \n",
       "1                          1.010972   \n",
       "2                          1.079325   \n",
       "3                          1.061485   \n",
       "4                          1.076906   \n",
       "..                              ...   \n",
       "217                        2.617000   \n",
       "218                        2.642000   \n",
       "219                        2.645000   \n",
       "220                        2.653000   \n",
       "221                        2.624000   \n",
       "\n",
       "     X.integrated_time_temperature_cycles_1:100  ...  \\\n",
       "0                                 194523.331238  ...   \n",
       "1                                 163310.066862  ...   \n",
       "2                                 182982.491752  ...   \n",
       "3                                 178767.125004  ...   \n",
       "4                                 184036.176107  ...   \n",
       "..                                          ...  ...   \n",
       "217                               688295.406421  ...   \n",
       "218                               695101.448533  ...   \n",
       "219                               691622.108800  ...   \n",
       "220                               634530.826457  ...   \n",
       "221                               644289.592570  ...   \n",
       "\n",
       "     metadata.parameters.thresh_max_cap  metadata.parameters.thresh_min_cap  \\\n",
       "0                                  0.98                                0.78   \n",
       "1                                  0.98                                0.78   \n",
       "2                                  0.98                                0.78   \n",
       "3                                  0.98                                0.78   \n",
       "4                                  0.98                                0.78   \n",
       "..                                  ...                                 ...   \n",
       "217                                 NaN                                 NaN   \n",
       "218                                 NaN                                 NaN   \n",
       "219                                 NaN                                 NaN   \n",
       "220                                 NaN                                 NaN   \n",
       "221                                 NaN                                 NaN   \n",
       "\n",
       "     metadata.parameters.interval_cap  charge_throughput  X.LFP  X.NCA  X.NMC  \\\n",
       "0                                0.03        1254.091309      1     -1     -1   \n",
       "1                                0.03         639.746826      1     -1     -1   \n",
       "2                                0.03         664.310181      1     -1     -1   \n",
       "3                                0.03         539.480530      1     -1     -1   \n",
       "4                                0.03         576.926392      1     -1     -1   \n",
       "..                                ...                ...    ...    ...    ...   \n",
       "217                               NaN        6965.715000     -1     -1      1   \n",
       "218                               NaN        1627.971000     -1     -1      1   \n",
       "219                               NaN        1956.561000     -1     -1      1   \n",
       "220                               NaN        1638.455000     -1     -1      1   \n",
       "221                               NaN        1625.621000     -1     -1      1   \n",
       "\n",
       "     X.battery_index                           X.battery  X.cycle_index  \n",
       "0                NaN                                 NaN            NaN  \n",
       "1                NaN                                 NaN            NaN  \n",
       "2                NaN                                 NaN            NaN  \n",
       "3                NaN                                 NaN            NaN  \n",
       "4                NaN                                 NaN            NaN  \n",
       "..               ...                                 ...            ...  \n",
       "217             27.0  NMC_25C_40-60_0.5-3C_b_CH25_struct        11148.0  \n",
       "218             28.0  NMC_35C_0-100_0.5-1C_a_CH26_struct          785.0  \n",
       "219             29.0  NMC_35C_0-100_0.5-1C_b_CH27_struct          785.0  \n",
       "220             30.0  NMC_35C_0-100_0.5-1C_c_CH28_struct          784.0  \n",
       "221             31.0  NMC_35C_0-100_0.5-1C_d_CH29_struct          785.0  \n",
       "\n",
       "[222 rows x 61 columns]"
      ]
     },
     "execution_count": 65,
     "metadata": {},
     "output_type": "execute_result"
    }
   ],
   "source": [
    "full_data"
   ]
  },
  {
   "cell_type": "code",
   "execution_count": 66,
   "id": "scheduled-state",
   "metadata": {},
   "outputs": [],
   "source": [
    "if new_chemistries:\n",
    "    if test_set == \"combination\":\n",
    "        test_ind = [i for i in range(0, len(full_data), 2)]\n",
    "            \n",
    "    elif test_set == \"new\":\n",
    "        test_ind = [j for j in range(len(old_ct),len(full_data))]\n",
    "            \n",
    "    elif test_set == \"LFP\":\n",
    "        test_ind = list(full_data.iloc[len(old_ct):][(full_data[\"X.LFP\"] > 0)].index)\n",
    "            \n",
    "    elif test_set == \"NCA\":\n",
    "        test_ind = list(full_data[full_data[\"X.NCA\"] > 0].index)\n",
    "        \n",
    "    elif test_set == \"NMC\":\n",
    "        test_ind = list(full_data[full_data[\"X.NMC\"] > 0].index)\n",
    "    \n",
    "else:\n",
    "    test_ind = [i for i in range(0, len(full_data), 2)]\n",
    "        \n",
    "train_ind = list(set(full_data.index) - set(test_ind))"
   ]
  },
  {
   "cell_type": "markdown",
   "id": "temporal-tribune",
   "metadata": {},
   "source": [
    "### Variance Model"
   ]
  },
  {
   "cell_type": "code",
   "execution_count": 67,
   "id": "representative-despite",
   "metadata": {},
   "outputs": [],
   "source": [
    "# Variance model\n",
    "X_train_var = full_data.iloc[train_ind][variance_model_features]\n",
    "X_train_var.dropna(axis=0, inplace=True)\n",
    "y_train = full_data.iloc[X_train_var.index][[y]]\n",
    "\n",
    "X_test_var = full_data.iloc[test_ind][variance_model_features]\n",
    "X_test_var.dropna(axis=0, inplace=True)\n",
    "y_test = full_data.iloc[X_test_var.index][[y]]\n",
    "\n",
    "# if standardized:\n",
    "#     X_train_var, X_test_var = standardize(X_train_var, X_test_var)\n",
    "\n",
    "# log transformation\n",
    "if log_transformation:\n",
    "    y_train = np.log(y_train)\n",
    "    y_test = np.log(y_test)"
   ]
  },
  {
   "cell_type": "code",
   "execution_count": 68,
   "id": "resistant-given",
   "metadata": {},
   "outputs": [
    {
     "name": "stdout",
     "output_type": "stream",
     "text": [
      "Variance Basic Linear Regression Model\n",
      "Training RMSE:  1304.6001933980428\n",
      "Test RMSE:  1298.3618456674408\n",
      "Mean % Train Error:  51.70883618944624\n",
      "Mean % Test Error:  53.92673755686972\n"
     ]
    }
   ],
   "source": [
    "reg_var = LinearRegression().fit(X_train_var,y_train)\n",
    "y_pred_train_var = reg_var.predict(X_train_var)\n",
    "y_pred_test_var = reg_var.predict(X_test_var)\n",
    "\n",
    "if log_transformation:\n",
    "    y_train = np.exp(y_train)\n",
    "    y_test = np.exp(y_test)\n",
    "    y_pred_train_var = np.exp(y_pred_train_var)\n",
    "    y_pred_test_var = np.exp(y_pred_test_var)\n",
    "\n",
    "rmse_train_var = np.sqrt(mean_squared_error(y_train, y_pred_train_var))\n",
    "rmse_test_var = np.sqrt(mean_squared_error(y_test, y_pred_test_var))\n",
    "mape_train_var = mean_absolute_percentage_error(y_train, y_pred_train_var)*100\n",
    "mape_test_var = mean_absolute_percentage_error(y_test, y_pred_test_var)*100\n",
    "\n",
    "print(\"Variance Basic Linear Regression Model\")\n",
    "print(\"Training RMSE: \", rmse_train_var)\n",
    "print(\"Test RMSE: \", rmse_test_var)\n",
    "print(\"Mean % Train Error: \", mape_train_var)\n",
    "print(\"Mean % Test Error: \", mape_test_var)"
   ]
  },
  {
   "cell_type": "code",
   "execution_count": 69,
   "id": "comprehensive-practitioner",
   "metadata": {},
   "outputs": [
    {
     "data": {
      "text/plain": [
       "Text(0.5, 1.0, 'Variance Model Predicted vs. True Values')"
      ]
     },
     "execution_count": 69,
     "metadata": {},
     "output_type": "execute_result"
    },
    {
     "data": {
      "image/png": "[encoded data removed]",
      "text/plain": [
       "<Figure size 432x288 with 1 Axes>"
      ]
     },
     "metadata": {
      "needs_background": "light"
     },
     "output_type": "display_data"
    }
   ],
   "source": [
    "# Variance model\n",
    "min_var = y_test.min()[0]\n",
    "max_var = y_test.max()[0]\n",
    "\n",
    "plt.scatter(y_test, y_pred_test_var)\n",
    "plt.plot([0, max_var], [0, max_var], color=\"red\")\n",
    "plt.xlabel(\"True Values\")\n",
    "plt.ylabel(\"Predicted Values\")\n",
    "plt.title(\"Variance Model Predicted vs. True Values\")"
   ]
  },
  {
   "cell_type": "code",
   "execution_count": 70,
   "id": "toxic-induction",
   "metadata": {},
   "outputs": [
    {
     "name": "stdout",
     "output_type": "stream",
     "text": [
      "Variance Elastic Net Model\n",
      "l1_ratio = 0.1\n",
      "Test RMSE:  1335.9996525319323\n",
      "Test Mean Absolute % Error:  56.40695423991776\n"
     ]
    }
   ],
   "source": [
    "k_fold = 5\n",
    "l1_ratios = [i/20 for i in range(1, 21)]\n",
    "max_iter = 1000000\n",
    "random_state = 1\n",
    "test_size = 2\n",
    "tol = 0.0001\n",
    "\n",
    "models = []\n",
    "y_pred_trains = []\n",
    "y_pred_tests = []\n",
    "train_rmses = []\n",
    "test_rmses = []\n",
    "train_mapes = []\n",
    "test_mapes = []\n",
    "\n",
    "for l1_ratio in l1_ratios:\n",
    "    elasticnetcv = ElasticNetCV(\n",
    "        fit_intercept=True,\n",
    "        normalize=False,\n",
    "        alphas=None,\n",
    "        cv=k_fold,\n",
    "        l1_ratio=l1_ratio,\n",
    "        max_iter=max_iter,\n",
    "    )\n",
    "    \n",
    "    if log_transformation:\n",
    "        y_train = np.log(y_train)\n",
    "        y_test = np.log(y_test)\n",
    "        \n",
    "    elasticnetcv.fit(X_train_var, y_train.values.ravel())\n",
    "\n",
    "    elasticnet_var = ElasticNet(\n",
    "        fit_intercept=True,\n",
    "        normalize=False,\n",
    "        l1_ratio=elasticnetcv.l1_ratio_,\n",
    "        alpha=elasticnetcv.alpha_,\n",
    "        max_iter=max_iter,\n",
    "    )\n",
    "    \n",
    "    elasticnet_var.fit(X_train_var, y_train.values.ravel())\n",
    "    y_pred_train_en_var = elasticnet_var.predict(X_train_var)\n",
    "    y_pred_test_en_var = elasticnet_var.predict(X_test_var)\n",
    "\n",
    "    if log_transformation:\n",
    "        y_train = np.exp(y_train)\n",
    "        y_test = np.exp(y_test)\n",
    "        y_pred_train_en_var = np.exp(y_pred_train_en_var)\n",
    "        y_pred_test_en_var = np.exp(y_pred_test_en_var)\n",
    "    \n",
    "    rmse_train_en_var = np.sqrt(mean_squared_error(y_train, y_pred_train_en_var))\n",
    "    rmse_test_en_var = np.sqrt(mean_squared_error(y_test, y_pred_test_en_var))\n",
    "    mape_train_en_var = mean_absolute_percentage_error(y_train, y_pred_train_en_var)*100\n",
    "    mape_test_en_var = mean_absolute_percentage_error(y_test, y_pred_test_en_var)*100\n",
    "\n",
    "    models.append(elasticnet_var)\n",
    "    y_pred_trains.append(y_pred_train_en_var)\n",
    "    y_pred_tests.append(y_pred_test_en_var)\n",
    "    train_rmses.append(rmse_train_en_var)\n",
    "    test_rmses.append(rmse_test_en_var)\n",
    "    train_mapes.append(mape_train_en_var)\n",
    "    test_mapes.append(mape_test_en_var)\n",
    "\n",
    "best_model_index = test_rmses.index(min(test_rmses))\n",
    "\n",
    "elasticnet_var = models[best_model_index]\n",
    "y_pred_train_en_var = y_pred_trains[best_model_index]\n",
    "y_pred_test_en_var = y_pred_tests[best_model_index]\n",
    "rmse_train_var_en = train_rmses[best_model_index]\n",
    "rmse_test_var_en = test_rmses[best_model_index]\n",
    "l1_ratio_var = l1_ratios[best_model_index]\n",
    "mape_train_var_en = train_mapes[best_model_index]\n",
    "mape_test_var_en = test_mapes[best_model_index]\n",
    "\n",
    "print(\"Variance Elastic Net Model\")\n",
    "print(\"l1_ratio =\", l1_ratio_var)\n",
    "print(\"Test RMSE: \", rmse_test_var_en)\n",
    "print(\"Test Mean Absolute % Error: \", mape_test_var_en)"
   ]
  },
  {
   "cell_type": "code",
   "execution_count": 71,
   "id": "compact-toilet",
   "metadata": {},
   "outputs": [
    {
     "data": {
      "image/png": "[encoded data removed]",
      "text/plain": [
       "<Figure size 432x288 with 1 Axes>"
      ]
     },
     "metadata": {
      "needs_background": "light"
     },
     "output_type": "display_data"
    }
   ],
   "source": [
    "coeffs = np.polyfit(l1_ratios, test_rmses, 3)\n",
    "vals = [coeffs[0]*val**3 + coeffs[1]*val**2 + coeffs[2]*val + coeffs[3] for val in l1_ratios]\n",
    "\n",
    "plt.scatter(l1_ratios, test_rmses)\n",
    "plt.plot(l1_ratios, vals)\n",
    "plt.title(\"Test RMSE by Ridge/Lasso Ratio (Variance Model)\")\n",
    "plt.xlabel(\"L1 Ratio (0 = Ridge, 1 = Lasso)\")\n",
    "plt.ylabel(\"Test RMSE\");"
   ]
  },
  {
   "cell_type": "code",
   "execution_count": 72,
   "id": "described-musician",
   "metadata": {},
   "outputs": [
    {
     "data": {
      "text/plain": [
       "Text(0.5, 1.0, 'Variance Model Predicted vs. True Values (EN)')"
      ]
     },
     "execution_count": 72,
     "metadata": {},
     "output_type": "execute_result"
    },
    {
     "data": {
      "image/png": "[encoded data removed]",
      "text/plain": [
       "<Figure size 432x288 with 1 Axes>"
      ]
     },
     "metadata": {
      "needs_background": "light"
     },
     "output_type": "display_data"
    }
   ],
   "source": [
    "#Elastic Net\n",
    "max_var = y_test.max()[0]\n",
    "\n",
    "plt.scatter(y_test, y_pred_test_en_var)\n",
    "plt.plot([0, max_var], [0, max_var], color=\"red\")\n",
    "plt.xlabel(\"True Values\")\n",
    "plt.ylabel(\"Predicted Values\")\n",
    "plt.title(\"Variance Model Predicted vs. True Values (EN)\")"
   ]
  },
  {
   "cell_type": "markdown",
   "id": "oriented-christianity",
   "metadata": {},
   "source": [
    "### Discharge Model"
   ]
  },
  {
   "cell_type": "code",
   "execution_count": 73,
   "id": "afraid-fossil",
   "metadata": {},
   "outputs": [
    {
     "name": "stdout",
     "output_type": "stream",
     "text": [
      "Discharge Basic Linear Regression Model\n",
      "Test RMSE:  901.7240849222181\n",
      "Mean % Test Error:  0.36626532244182863\n"
     ]
    }
   ],
   "source": [
    "# discharge model\n",
    "X_train_dis = full_data.iloc[train_ind][discharge_model_features].replace([np.inf, -np.inf, 0], np.nan)\n",
    "X_train_dis.dropna(axis=0, inplace=True)\n",
    "y_train = full_data.iloc[X_train_dis.index][[y]]\n",
    "\n",
    "X_test_dis = full_data.iloc[test_ind][discharge_model_features].replace([np.inf, -np.inf, 0], np.nan)\n",
    "X_test_dis.dropna(axis=0, inplace=True)\n",
    "y_test = full_data.iloc[X_test_dis.index][[y]]\n",
    "\n",
    "# if standardized:\n",
    "#     X_train_dis, X_test_dis = standardize(X_train_dis, X_test_dis)\n",
    "    \n",
    "if log_transformation:\n",
    "    y_train = np.log(y_train)\n",
    "    y_test = np.log(y_test)\n",
    "    \n",
    "reg_dis = LinearRegression().fit(X_train_dis,y_train)\n",
    "y_pred_train_dis = reg_dis.predict(X_train_dis)\n",
    "y_pred_test_dis = reg_dis.predict(X_test_dis)\n",
    "\n",
    "if log_transformation:\n",
    "    y_train = np.exp(y_train)\n",
    "    y_test = np.exp(y_test)\n",
    "    y_pred_train_dis = np.exp(y_pred_train_dis)\n",
    "    y_pred_test_dis = np.exp(y_pred_test_dis)\n",
    "    \n",
    "rmse_train_dis = np.sqrt(mean_squared_error(y_train, y_pred_train_dis))\n",
    "rmse_test_dis = np.sqrt(mean_squared_error(y_test, y_pred_test_dis))\n",
    "mape_train_dis = mean_absolute_percentage_error(y_train, y_pred_train_dis)*100\n",
    "mape_test_dis = mean_absolute_percentage_error(y_test, y_pred_test_dis)*100\n",
    "\n",
    "print(\"Discharge Basic Linear Regression Model\")\n",
    "# print(\"Training RMSE: \", np.sqrt(mean_squared_error(y_train, y_pred_train_dis)))\n",
    "print(\"Test RMSE: \", np.sqrt(mean_squared_error(y_test, y_pred_test_dis)))\n",
    "# print(\"Mean % Train Error: \", mean_absolute_percentage_error(y_train, y_pred_train_dis))\n",
    "print(\"Mean % Test Error: \", mean_absolute_percentage_error(y_test, y_pred_test_dis))"
   ]
  },
  {
   "cell_type": "code",
   "execution_count": 74,
   "id": "monetary-adventure",
   "metadata": {},
   "outputs": [
    {
     "data": {
      "text/plain": [
       "Text(0.5, 1.0, 'Discharge Model Predicted vs. True Values')"
      ]
     },
     "execution_count": 74,
     "metadata": {},
     "output_type": "execute_result"
    },
    {
     "data": {
      "image/png": "[encoded data removed]",
      "text/plain": [
       "<Figure size 432x288 with 1 Axes>"
      ]
     },
     "metadata": {
      "needs_background": "light"
     },
     "output_type": "display_data"
    }
   ],
   "source": [
    "# Discharge model\n",
    "max_dis = y_test.max()[0]\n",
    "\n",
    "plt.scatter(y_test, y_pred_test_dis)\n",
    "plt.plot([0, max_dis], [0, max_dis], color=\"red\")\n",
    "plt.xlabel(\"True Values\")\n",
    "plt.ylabel(\"Predicted Values\")\n",
    "plt.title(\"Discharge Model Predicted vs. True Values\")"
   ]
  },
  {
   "cell_type": "code",
   "execution_count": 75,
   "id": "yellow-label",
   "metadata": {},
   "outputs": [
    {
     "name": "stdout",
     "output_type": "stream",
     "text": [
      "Discharge Elastic Net Model\n",
      "l1_ratio = 1.0\n",
      "Test RMSE:  952.0657002278662\n",
      "Test Mean Absolute % Error:  46.18321995497115\n"
     ]
    }
   ],
   "source": [
    "k_fold = 5\n",
    "l1_ratios = [i/20 for i in range(1, 21)]\n",
    "max_iter = 1000000\n",
    "random_state = 1\n",
    "test_size = 2\n",
    "tol = 0.0001\n",
    "\n",
    "models = []\n",
    "y_pred_trains = []\n",
    "y_pred_tests = []\n",
    "train_rmses = []\n",
    "test_rmses = []\n",
    "train_mapes = []\n",
    "test_mapes = []\n",
    "\n",
    "for l1_ratio in l1_ratios:\n",
    "    elasticnetcv = ElasticNetCV(\n",
    "        fit_intercept=True,\n",
    "        normalize=False,\n",
    "        alphas=None,\n",
    "        cv=k_fold,\n",
    "        l1_ratio=l1_ratio,\n",
    "        max_iter=max_iter,\n",
    "    )\n",
    "    \n",
    "    if log_transformation:\n",
    "        y_train = np.log(y_train)\n",
    "        y_test = np.log(y_test)\n",
    "    \n",
    "    elasticnetcv.fit(X_train_dis, y_train.values.ravel())\n",
    "\n",
    "    elasticnet_dis = ElasticNet(\n",
    "        fit_intercept=True,\n",
    "        normalize=False,\n",
    "        l1_ratio=elasticnetcv.l1_ratio_,\n",
    "        alpha=elasticnetcv.alpha_,\n",
    "        max_iter=max_iter,\n",
    "    )\n",
    "\n",
    "    elasticnet_dis.fit(X_train_dis, y_train.values.ravel())\n",
    "    y_pred_train_en_dis = elasticnet_dis.predict(X_train_dis)\n",
    "    y_pred_test_en_dis = elasticnet_dis.predict(X_test_dis)\n",
    "\n",
    "    if log_transformation:\n",
    "        y_train = np.exp(y_train)\n",
    "        y_test = np.exp(y_test)\n",
    "        y_pred_train_en_dis = np.exp(y_pred_train_en_dis)\n",
    "        y_pred_test_en_dis = np.exp(y_pred_test_en_dis)\n",
    "\n",
    "    \n",
    "    rmse_train_en_dis = np.sqrt(mean_squared_error(y_train, y_pred_train_en_dis))\n",
    "    rmse_test_en_dis = np.sqrt(mean_squared_error(y_test, y_pred_test_en_dis))\n",
    "    mape_train_en_dis = mean_absolute_percentage_error(y_train, y_pred_train_en_dis)*100\n",
    "    mape_test_en_dis = mean_absolute_percentage_error(y_test, y_pred_test_en_dis)*100\n",
    "\n",
    "    models.append(elasticnet_dis)\n",
    "    y_pred_trains.append(y_pred_train_en_dis)\n",
    "    y_pred_tests.append(y_pred_test_en_dis)\n",
    "    train_rmses.append(rmse_train_en_dis)\n",
    "    test_rmses.append(rmse_test_en_dis)\n",
    "    train_mapes.append(mape_train_en_dis)\n",
    "    test_mapes.append(mape_test_en_dis)\n",
    "\n",
    "best_model_index = test_rmses.index(min(test_rmses))\n",
    "\n",
    "elasticnet_dis = models[best_model_index]\n",
    "y_pred_train_en_dis = y_pred_trains[best_model_index]\n",
    "y_pred_test_en_dis = y_pred_tests[best_model_index]\n",
    "rmse_train_dis_en = train_rmses[best_model_index]\n",
    "rmse_test_dis_en = test_rmses[best_model_index]\n",
    "l1_ratio_dis = l1_ratios[best_model_index]\n",
    "mape_train_dis_en = train_mapes[best_model_index]\n",
    "mape_test_dis_en = test_mapes[best_model_index]\n",
    "\n",
    "print(\"Discharge Elastic Net Model\")\n",
    "print(\"l1_ratio =\", l1_ratio_dis)\n",
    "print(\"Test RMSE: \", rmse_test_dis_en)\n",
    "print(\"Test Mean Absolute % Error: \", mape_test_dis_en)"
   ]
  },
  {
   "cell_type": "code",
   "execution_count": 76,
   "id": "molecular-lesbian",
   "metadata": {},
   "outputs": [
    {
     "data": {
      "image/png": "[encoded data removed]",
      "text/plain": [
       "<Figure size 432x288 with 1 Axes>"
      ]
     },
     "metadata": {
      "needs_background": "light"
     },
     "output_type": "display_data"
    }
   ],
   "source": [
    "# coeffs = np.polyfit(l1_ratios, test_rmses, 3)\n",
    "# vals = [coeffs[0]*val**3 + coeffs[1]*val**2 + coeffs[2]*val + coeffs[3] for val in l1_ratios[:-1]]\n",
    "\n",
    "plt.scatter(l1_ratios, test_rmses)\n",
    "# plt.plot(l1_ratios[:-1], vals)\n",
    "plt.title(\"Test RMSE by Ridge/Lasso Ratio (Discharge Model)\")\n",
    "plt.xlabel(\"L1 Ratio (0 = Ridge, 1 = Lasso)\")\n",
    "plt.ylabel(\"Test RMSE\");"
   ]
  },
  {
   "cell_type": "code",
   "execution_count": 77,
   "id": "alleged-professional",
   "metadata": {},
   "outputs": [
    {
     "data": {
      "text/plain": [
       "Text(0.5, 1.0, 'Discharge Model Predicted vs. True Values (EN)')"
      ]
     },
     "execution_count": 77,
     "metadata": {},
     "output_type": "execute_result"
    },
    {
     "data": {
      "image/png": "[encoded data removed]",
      "text/plain": [
       "<Figure size 432x288 with 1 Axes>"
      ]
     },
     "metadata": {
      "needs_background": "light"
     },
     "output_type": "display_data"
    }
   ],
   "source": [
    "#Elastic Net\n",
    "max_dis = y_test.max()[0]\n",
    "\n",
    "plt.scatter(y_test, y_pred_test_en_dis)\n",
    "plt.plot([0, max_dis], [0, max_dis], color=\"red\")\n",
    "plt.xlabel(\"True Values\")\n",
    "plt.ylabel(\"Predicted Values\")\n",
    "plt.title(\"Discharge Model Predicted vs. True Values (EN)\")"
   ]
  },
  {
   "cell_type": "markdown",
   "id": "noble-platform",
   "metadata": {},
   "source": [
    "### Full Model"
   ]
  },
  {
   "cell_type": "code",
   "execution_count": 78,
   "id": "mounted-morris",
   "metadata": {},
   "outputs": [
    {
     "name": "stdout",
     "output_type": "stream",
     "text": [
      "Full Basic Linear Regression Model\n",
      "Test RMSE:  1908.9984311829314\n",
      "Mean % Test Error:  0.34416418386800923\n"
     ]
    }
   ],
   "source": [
    "# full model\n",
    "X_train_full = full_data.iloc[train_ind][full_model_features].replace([np.inf, -np.inf, 0], np.nan)\n",
    "X_train_full.dropna(axis=0, inplace=True)\n",
    "y_train = full_data.loc[X_train_full.index][[y]]\n",
    "\n",
    "X_test_full = full_data.iloc[test_ind][full_model_features].replace([np.inf, -np.inf, 0], np.nan)\n",
    "X_test_full.dropna(axis=0, inplace=True)\n",
    "y_test = full_data.loc[X_test_full.index][[y]]\n",
    "\n",
    "# if standardized:\n",
    "#     X_train_full, X_test_full = standardize(X_train_full, X_test_full)\n",
    "\n",
    "if log_transformation:\n",
    "    y_train = np.log(y_train)\n",
    "    y_test = np.log(y_test)\n",
    "\n",
    "reg_full = LinearRegression().fit(X_train_full,y_train)\n",
    "y_pred_train_full = reg_full.predict(X_train_full)\n",
    "y_pred_test_full = reg_full.predict(X_test_full)\n",
    "\n",
    "if log_transformation:\n",
    "    y_train = np.exp(y_train)\n",
    "    y_test = np.exp(y_test)\n",
    "    y_pred_train_full = np.exp(y_pred_train_full)\n",
    "    y_pred_test_full = np.exp(y_pred_test_full)\n",
    "\n",
    "rmse_train_full = np.sqrt(mean_squared_error(y_train, y_pred_train_full))\n",
    "rmse_test_full = np.sqrt(mean_squared_error(y_test, y_pred_test_full))\n",
    "mape_train_full = mean_absolute_percentage_error(y_train, y_pred_train_full)*100\n",
    "mape_test_full = mean_absolute_percentage_error(y_test, y_pred_test_full)*100\n",
    "\n",
    "print(\"Full Basic Linear Regression Model\")\n",
    "# print(\"Training RMSE: \", np.sqrt(mean_squared_error(y_train, y_pred_train_full)))\n",
    "print(\"Test RMSE: \", np.sqrt(mean_squared_error(y_test, y_pred_test_full)))\n",
    "# print(\"Mean % Train Error: \", mean_absolute_percentage_error(y_train, y_pred_train_full))\n",
    "print(\"Mean % Test Error: \", mean_absolute_percentage_error(y_test, y_pred_test_full))"
   ]
  },
  {
   "cell_type": "code",
   "execution_count": 79,
   "id": "level-island",
   "metadata": {},
   "outputs": [
    {
     "data": {
      "text/plain": [
       "Text(0.5, 1.0, 'Full Model Predicted vs. True Values')"
      ]
     },
     "execution_count": 79,
     "metadata": {},
     "output_type": "execute_result"
    },
    {
     "data": {
      "image/png": "[encoded data removed]",
      "text/plain": [
       "<Figure size 432x288 with 1 Axes>"
      ]
     },
     "metadata": {
      "needs_background": "light"
     },
     "output_type": "display_data"
    }
   ],
   "source": [
    "min_full = y_test.min()[0]\n",
    "max_full = y_test.max()[0]\n",
    "\n",
    "plt.scatter(y_test, y_pred_test_full)\n",
    "plt.plot([0, max_full], [0, max_full], color=\"red\")\n",
    "plt.xlabel(\"True Values\")\n",
    "plt.ylabel(\"Predicted Values\")\n",
    "plt.title(\"Full Model Predicted vs. True Values\")"
   ]
  },
  {
   "cell_type": "code",
   "execution_count": 80,
   "id": "italic-packet",
   "metadata": {},
   "outputs": [
    {
     "data": {
      "text/html": [
       "<div>\n",
       "<style scoped>\n",
       "    .dataframe tbody tr th:only-of-type {\n",
       "        vertical-align: middle;\n",
       "    }\n",
       "\n",
       "    .dataframe tbody tr th {\n",
       "        vertical-align: top;\n",
       "    }\n",
       "\n",
       "    .dataframe thead th {\n",
       "        text-align: right;\n",
       "    }\n",
       "</style>\n",
       "<table border=\"1\" class=\"dataframe\">\n",
       "  <thead>\n",
       "    <tr style=\"text-align: right;\">\n",
       "      <th></th>\n",
       "      <th>X.abs_min_discharge_capacity_difference_cycles_2:100</th>\n",
       "      <th>X.abs_variance_discharge_capacity_difference_cycles_2:100</th>\n",
       "      <th>X.slope_discharge_capacity_cycle_number_2:100</th>\n",
       "      <th>X.intercept_discharge_capacity_cycle_number_2:100</th>\n",
       "      <th>X.discharge_capacity_cycle_2</th>\n",
       "      <th>X.charge_time_cycles_1:5</th>\n",
       "      <th>X.LFP</th>\n",
       "      <th>X.NCA</th>\n",
       "      <th>X.NMC</th>\n",
       "    </tr>\n",
       "  </thead>\n",
       "  <tbody>\n",
       "    <tr>\n",
       "      <th>0</th>\n",
       "      <td>-2.095165</td>\n",
       "      <td>-4.927913</td>\n",
       "      <td>-0.000197</td>\n",
       "      <td>1.090377</td>\n",
       "      <td>1.069159</td>\n",
       "      <td>768.000000</td>\n",
       "      <td>1</td>\n",
       "      <td>-1</td>\n",
       "      <td>-1</td>\n",
       "    </tr>\n",
       "    <tr>\n",
       "      <th>2</th>\n",
       "      <td>-1.415079</td>\n",
       "      <td>-3.537302</td>\n",
       "      <td>0.000001</td>\n",
       "      <td>1.080797</td>\n",
       "      <td>1.072973</td>\n",
       "      <td>563.200012</td>\n",
       "      <td>1</td>\n",
       "      <td>-1</td>\n",
       "      <td>-1</td>\n",
       "    </tr>\n",
       "    <tr>\n",
       "      <th>4</th>\n",
       "      <td>-1.175490</td>\n",
       "      <td>-3.050558</td>\n",
       "      <td>-0.000077</td>\n",
       "      <td>1.086114</td>\n",
       "      <td>1.080072</td>\n",
       "      <td>512.000000</td>\n",
       "      <td>1</td>\n",
       "      <td>-1</td>\n",
       "      <td>-1</td>\n",
       "    </tr>\n",
       "    <tr>\n",
       "      <th>6</th>\n",
       "      <td>-1.624662</td>\n",
       "      <td>-3.970780</td>\n",
       "      <td>0.000028</td>\n",
       "      <td>1.058616</td>\n",
       "      <td>1.050799</td>\n",
       "      <td>716.799988</td>\n",
       "      <td>1</td>\n",
       "      <td>-1</td>\n",
       "      <td>-1</td>\n",
       "    </tr>\n",
       "    <tr>\n",
       "      <th>8</th>\n",
       "      <td>-1.537857</td>\n",
       "      <td>-3.802969</td>\n",
       "      <td>0.000034</td>\n",
       "      <td>1.065840</td>\n",
       "      <td>1.058599</td>\n",
       "      <td>640.000000</td>\n",
       "      <td>1</td>\n",
       "      <td>-1</td>\n",
       "      <td>-1</td>\n",
       "    </tr>\n",
       "    <tr>\n",
       "      <th>...</th>\n",
       "      <td>...</td>\n",
       "      <td>...</td>\n",
       "      <td>...</td>\n",
       "      <td>...</td>\n",
       "      <td>...</td>\n",
       "      <td>...</td>\n",
       "      <td>...</td>\n",
       "      <td>...</td>\n",
       "      <td>...</td>\n",
       "    </tr>\n",
       "    <tr>\n",
       "      <th>210</th>\n",
       "      <td>0.217895</td>\n",
       "      <td>-0.724479</td>\n",
       "      <td>-0.002383</td>\n",
       "      <td>1.961506</td>\n",
       "      <td>2.980000</td>\n",
       "      <td>2048.000000</td>\n",
       "      <td>-1</td>\n",
       "      <td>-1</td>\n",
       "      <td>1</td>\n",
       "    </tr>\n",
       "    <tr>\n",
       "      <th>214</th>\n",
       "      <td>-2.633365</td>\n",
       "      <td>-4.577854</td>\n",
       "      <td>-0.004765</td>\n",
       "      <td>0.922963</td>\n",
       "      <td>2.952000</td>\n",
       "      <td>2112.000000</td>\n",
       "      <td>-1</td>\n",
       "      <td>-1</td>\n",
       "      <td>1</td>\n",
       "    </tr>\n",
       "    <tr>\n",
       "      <th>216</th>\n",
       "      <td>0.363190</td>\n",
       "      <td>-0.298310</td>\n",
       "      <td>-0.004177</td>\n",
       "      <td>2.973259</td>\n",
       "      <td>2.963000</td>\n",
       "      <td>2176.000000</td>\n",
       "      <td>-1</td>\n",
       "      <td>-1</td>\n",
       "      <td>1</td>\n",
       "    </tr>\n",
       "    <tr>\n",
       "      <th>218</th>\n",
       "      <td>0.371751</td>\n",
       "      <td>-0.333385</td>\n",
       "      <td>-0.004237</td>\n",
       "      <td>2.975458</td>\n",
       "      <td>2.967000</td>\n",
       "      <td>2150.399902</td>\n",
       "      <td>-1</td>\n",
       "      <td>-1</td>\n",
       "      <td>1</td>\n",
       "    </tr>\n",
       "    <tr>\n",
       "      <th>220</th>\n",
       "      <td>0.161041</td>\n",
       "      <td>-0.512972</td>\n",
       "      <td>-0.003949</td>\n",
       "      <td>2.968167</td>\n",
       "      <td>2.957000</td>\n",
       "      <td>2150.399902</td>\n",
       "      <td>-1</td>\n",
       "      <td>-1</td>\n",
       "      <td>1</td>\n",
       "    </tr>\n",
       "  </tbody>\n",
       "</table>\n",
       "<p>106 rows × 9 columns</p>\n",
       "</div>"
      ],
      "text/plain": [
       "     X.abs_min_discharge_capacity_difference_cycles_2:100  \\\n",
       "0                                            -2.095165      \n",
       "2                                            -1.415079      \n",
       "4                                            -1.175490      \n",
       "6                                            -1.624662      \n",
       "8                                            -1.537857      \n",
       "..                                                 ...      \n",
       "210                                           0.217895      \n",
       "214                                          -2.633365      \n",
       "216                                           0.363190      \n",
       "218                                           0.371751      \n",
       "220                                           0.161041      \n",
       "\n",
       "     X.abs_variance_discharge_capacity_difference_cycles_2:100  \\\n",
       "0                                            -4.927913           \n",
       "2                                            -3.537302           \n",
       "4                                            -3.050558           \n",
       "6                                            -3.970780           \n",
       "8                                            -3.802969           \n",
       "..                                                 ...           \n",
       "210                                          -0.724479           \n",
       "214                                          -4.577854           \n",
       "216                                          -0.298310           \n",
       "218                                          -0.333385           \n",
       "220                                          -0.512972           \n",
       "\n",
       "     X.slope_discharge_capacity_cycle_number_2:100  \\\n",
       "0                                        -0.000197   \n",
       "2                                         0.000001   \n",
       "4                                        -0.000077   \n",
       "6                                         0.000028   \n",
       "8                                         0.000034   \n",
       "..                                             ...   \n",
       "210                                      -0.002383   \n",
       "214                                      -0.004765   \n",
       "216                                      -0.004177   \n",
       "218                                      -0.004237   \n",
       "220                                      -0.003949   \n",
       "\n",
       "     X.intercept_discharge_capacity_cycle_number_2:100  \\\n",
       "0                                             1.090377   \n",
       "2                                             1.080797   \n",
       "4                                             1.086114   \n",
       "6                                             1.058616   \n",
       "8                                             1.065840   \n",
       "..                                                 ...   \n",
       "210                                           1.961506   \n",
       "214                                           0.922963   \n",
       "216                                           2.973259   \n",
       "218                                           2.975458   \n",
       "220                                           2.968167   \n",
       "\n",
       "     X.discharge_capacity_cycle_2  X.charge_time_cycles_1:5  X.LFP  X.NCA  \\\n",
       "0                        1.069159                768.000000      1     -1   \n",
       "2                        1.072973                563.200012      1     -1   \n",
       "4                        1.080072                512.000000      1     -1   \n",
       "6                        1.050799                716.799988      1     -1   \n",
       "8                        1.058599                640.000000      1     -1   \n",
       "..                            ...                       ...    ...    ...   \n",
       "210                      2.980000               2048.000000     -1     -1   \n",
       "214                      2.952000               2112.000000     -1     -1   \n",
       "216                      2.963000               2176.000000     -1     -1   \n",
       "218                      2.967000               2150.399902     -1     -1   \n",
       "220                      2.957000               2150.399902     -1     -1   \n",
       "\n",
       "     X.NMC  \n",
       "0       -1  \n",
       "2       -1  \n",
       "4       -1  \n",
       "6       -1  \n",
       "8       -1  \n",
       "..     ...  \n",
       "210      1  \n",
       "214      1  \n",
       "216      1  \n",
       "218      1  \n",
       "220      1  \n",
       "\n",
       "[106 rows x 9 columns]"
      ]
     },
     "execution_count": 80,
     "metadata": {},
     "output_type": "execute_result"
    }
   ],
   "source": [
    "X_test_full"
   ]
  },
  {
   "cell_type": "code",
   "execution_count": 81,
   "id": "virgin-camera",
   "metadata": {},
   "outputs": [
    {
     "name": "stdout",
     "output_type": "stream",
     "text": [
      "Full Elastic Net Model\n",
      "l1_ratio = 0.05\n",
      "Test RMSE:  1094.9501669792\n",
      "Test Mean Absolute % Error:  39.721336034483805\n"
     ]
    }
   ],
   "source": [
    "k_fold = 5\n",
    "l1_ratios = [i/20 for i in range(1, 21)]   #use this when testing different ratios\n",
    "#l1_ratios = [0.8]   #use this when using only the best ratio\n",
    "max_iter = 1000000\n",
    "random_state = 1\n",
    "test_size = 2\n",
    "tol = 0.0001\n",
    "\n",
    "models = []\n",
    "y_pred_trains = []\n",
    "y_pred_tests = []\n",
    "train_rmses = []\n",
    "test_rmses = []\n",
    "train_mapes = []\n",
    "test_mapes = []\n",
    "\n",
    "for l1_ratio in l1_ratios:\n",
    "    elasticnetcv = ElasticNetCV(\n",
    "        fit_intercept=True,\n",
    "        normalize=False,\n",
    "        alphas=None,\n",
    "        cv=k_fold,\n",
    "        l1_ratio=l1_ratio,\n",
    "        max_iter=max_iter,\n",
    "    )\n",
    "    \n",
    "    if log_transformation:\n",
    "        y_train = np.log(y_train)\n",
    "        y_test = np.log(y_test)\n",
    "        \n",
    "    elasticnetcv.fit(X_train_full, y_train.values.ravel())\n",
    "\n",
    "    elasticnet_full = ElasticNet(\n",
    "        fit_intercept=True,\n",
    "        normalize=False,\n",
    "        l1_ratio=elasticnetcv.l1_ratio_,\n",
    "        alpha=elasticnetcv.alpha_,\n",
    "        max_iter=max_iter,\n",
    "    )\n",
    "\n",
    "    elasticnet_full.fit(X_train_full, y_train.values.ravel())\n",
    "    y_pred_train_en_full = elasticnet_full.predict(X_train_full)\n",
    "    y_pred_test_en_full = elasticnet_full.predict(X_test_full)\n",
    "\n",
    "    if log_transformation:\n",
    "        y_train = np.exp(y_train)\n",
    "        y_test = np.exp(y_test)\n",
    "        y_pred_train_en_full = np.exp(y_pred_train_en_full)\n",
    "        y_pred_test_en_full = np.exp(y_pred_test_en_full)\n",
    "        \n",
    "    rmse_train_en_full = np.sqrt(mean_squared_error(y_train, y_pred_train_en_full))\n",
    "    rmse_test_en_full = np.sqrt(mean_squared_error(y_test, y_pred_test_en_full))\n",
    "    mape_train_en_full = mean_absolute_percentage_error(y_train, y_pred_train_en_full)*100\n",
    "    mape_test_en_full = mean_absolute_percentage_error(y_test, y_pred_test_en_full)*100\n",
    "\n",
    "    models.append(elasticnet_full)\n",
    "    y_pred_trains.append(y_pred_train_en_full)\n",
    "    y_pred_tests.append(y_pred_test_en_full)\n",
    "    train_rmses.append(rmse_train_en_full)\n",
    "    test_rmses.append(rmse_test_en_full)\n",
    "    train_mapes.append(mape_train_en_full)\n",
    "    test_mapes.append(mape_test_en_full)\n",
    "\n",
    "best_model_index = test_rmses.index(min(test_rmses))\n",
    "\n",
    "elasticnet_full = models[best_model_index]\n",
    "y_pred_train_en_full = y_pred_trains[best_model_index]\n",
    "y_pred_test_en_full = y_pred_tests[best_model_index]\n",
    "rmse_train_full_en = train_rmses[best_model_index]\n",
    "rmse_test_full_en = test_rmses[best_model_index]\n",
    "l1_ratio_full = l1_ratios[best_model_index]\n",
    "mape_train_full_en = train_mapes[best_model_index]\n",
    "mape_test_full_en = test_mapes[best_model_index]\n",
    "\n",
    "print(\"Full Elastic Net Model\")\n",
    "print(\"l1_ratio =\", l1_ratio_full)\n",
    "print(\"Test RMSE: \", rmse_test_full_en)\n",
    "print(\"Test Mean Absolute % Error: \", mape_test_full_en)"
   ]
  },
  {
   "cell_type": "code",
   "execution_count": 82,
   "id": "small-interstate",
   "metadata": {},
   "outputs": [
    {
     "data": {
      "image/png": "[encoded data removed]",
      "text/plain": [
       "<Figure size 432x288 with 1 Axes>"
      ]
     },
     "metadata": {
      "needs_background": "light"
     },
     "output_type": "display_data"
    }
   ],
   "source": [
    "plt.scatter(l1_ratios, test_rmses)\n",
    "plt.title(\"Test RMSE by Ridge/Lasso Ratio (Full Model)\")\n",
    "plt.xlabel(\"L1 Ratio (0 = Ridge, 1 = Lasso)\")\n",
    "plt.ylabel(\"Test RMSE\");"
   ]
  },
  {
   "cell_type": "code",
   "execution_count": 83,
   "id": "official-chile",
   "metadata": {},
   "outputs": [
    {
     "data": {
      "text/html": [
       "<div>\n",
       "<style scoped>\n",
       "    .dataframe tbody tr th:only-of-type {\n",
       "        vertical-align: middle;\n",
       "    }\n",
       "\n",
       "    .dataframe tbody tr th {\n",
       "        vertical-align: top;\n",
       "    }\n",
       "\n",
       "    .dataframe thead th {\n",
       "        text-align: right;\n",
       "    }\n",
       "</style>\n",
       "<table border=\"1\" class=\"dataframe\">\n",
       "  <thead>\n",
       "    <tr style=\"text-align: right;\">\n",
       "      <th></th>\n",
       "      <th>X.abs_min_discharge_capacity_difference_cycles_2:100</th>\n",
       "      <th>X.abs_variance_discharge_capacity_difference_cycles_2:100</th>\n",
       "      <th>X.slope_discharge_capacity_cycle_number_2:100</th>\n",
       "      <th>X.intercept_discharge_capacity_cycle_number_2:100</th>\n",
       "      <th>X.discharge_capacity_cycle_2</th>\n",
       "      <th>X.charge_time_cycles_1:5</th>\n",
       "      <th>X.LFP</th>\n",
       "      <th>X.NCA</th>\n",
       "      <th>X.NMC</th>\n",
       "    </tr>\n",
       "  </thead>\n",
       "  <tbody>\n",
       "    <tr>\n",
       "      <th>1</th>\n",
       "      <td>-1.086545</td>\n",
       "      <td>-2.992572</td>\n",
       "      <td>-0.000139</td>\n",
       "      <td>1.024346</td>\n",
       "      <td>1.021925</td>\n",
       "      <td>819.200012</td>\n",
       "      <td>1</td>\n",
       "      <td>-1</td>\n",
       "      <td>-1</td>\n",
       "    </tr>\n",
       "    <tr>\n",
       "      <th>3</th>\n",
       "      <td>-1.191937</td>\n",
       "      <td>-3.067906</td>\n",
       "      <td>-0.000135</td>\n",
       "      <td>1.076665</td>\n",
       "      <td>1.070200</td>\n",
       "      <td>537.599976</td>\n",
       "      <td>1</td>\n",
       "      <td>-1</td>\n",
       "      <td>-1</td>\n",
       "    </tr>\n",
       "    <tr>\n",
       "      <th>5</th>\n",
       "      <td>-1.549731</td>\n",
       "      <td>-3.800628</td>\n",
       "      <td>0.000031</td>\n",
       "      <td>1.080083</td>\n",
       "      <td>1.072903</td>\n",
       "      <td>716.799988</td>\n",
       "      <td>1</td>\n",
       "      <td>-1</td>\n",
       "      <td>-1</td>\n",
       "    </tr>\n",
       "    <tr>\n",
       "      <th>7</th>\n",
       "      <td>-1.556538</td>\n",
       "      <td>-3.848486</td>\n",
       "      <td>0.000031</td>\n",
       "      <td>1.074474</td>\n",
       "      <td>1.068212</td>\n",
       "      <td>640.000000</td>\n",
       "      <td>1</td>\n",
       "      <td>-1</td>\n",
       "      <td>-1</td>\n",
       "    </tr>\n",
       "    <tr>\n",
       "      <th>9</th>\n",
       "      <td>-1.354583</td>\n",
       "      <td>-3.406424</td>\n",
       "      <td>-0.000006</td>\n",
       "      <td>1.088626</td>\n",
       "      <td>1.082596</td>\n",
       "      <td>588.799988</td>\n",
       "      <td>1</td>\n",
       "      <td>-1</td>\n",
       "      <td>-1</td>\n",
       "    </tr>\n",
       "    <tr>\n",
       "      <th>...</th>\n",
       "      <td>...</td>\n",
       "      <td>...</td>\n",
       "      <td>...</td>\n",
       "      <td>...</td>\n",
       "      <td>...</td>\n",
       "      <td>...</td>\n",
       "      <td>...</td>\n",
       "      <td>...</td>\n",
       "      <td>...</td>\n",
       "    </tr>\n",
       "    <tr>\n",
       "      <th>213</th>\n",
       "      <td>-1.677781</td>\n",
       "      <td>-6.246062</td>\n",
       "      <td>-0.004825</td>\n",
       "      <td>0.927062</td>\n",
       "      <td>2.988000</td>\n",
       "      <td>2176.000000</td>\n",
       "      <td>-1</td>\n",
       "      <td>-1</td>\n",
       "      <td>1</td>\n",
       "    </tr>\n",
       "    <tr>\n",
       "      <th>215</th>\n",
       "      <td>-1.624645</td>\n",
       "      <td>-4.234325</td>\n",
       "      <td>-0.004784</td>\n",
       "      <td>0.924265</td>\n",
       "      <td>2.965000</td>\n",
       "      <td>2112.000000</td>\n",
       "      <td>-1</td>\n",
       "      <td>-1</td>\n",
       "      <td>1</td>\n",
       "    </tr>\n",
       "    <tr>\n",
       "      <th>217</th>\n",
       "      <td>0.351140</td>\n",
       "      <td>-0.327336</td>\n",
       "      <td>-0.004756</td>\n",
       "      <td>2.991382</td>\n",
       "      <td>2.945000</td>\n",
       "      <td>2150.399902</td>\n",
       "      <td>-1</td>\n",
       "      <td>-1</td>\n",
       "      <td>1</td>\n",
       "    </tr>\n",
       "    <tr>\n",
       "      <th>219</th>\n",
       "      <td>0.342701</td>\n",
       "      <td>-0.438810</td>\n",
       "      <td>-0.003515</td>\n",
       "      <td>2.915433</td>\n",
       "      <td>2.899000</td>\n",
       "      <td>2124.800049</td>\n",
       "      <td>-1</td>\n",
       "      <td>-1</td>\n",
       "      <td>1</td>\n",
       "    </tr>\n",
       "    <tr>\n",
       "      <th>221</th>\n",
       "      <td>0.362982</td>\n",
       "      <td>-0.262321</td>\n",
       "      <td>-0.004045</td>\n",
       "      <td>2.937593</td>\n",
       "      <td>2.915000</td>\n",
       "      <td>2150.399902</td>\n",
       "      <td>-1</td>\n",
       "      <td>-1</td>\n",
       "      <td>1</td>\n",
       "    </tr>\n",
       "  </tbody>\n",
       "</table>\n",
       "<p>107 rows × 9 columns</p>\n",
       "</div>"
      ],
      "text/plain": [
       "     X.abs_min_discharge_capacity_difference_cycles_2:100  \\\n",
       "1                                            -1.086545      \n",
       "3                                            -1.191937      \n",
       "5                                            -1.549731      \n",
       "7                                            -1.556538      \n",
       "9                                            -1.354583      \n",
       "..                                                 ...      \n",
       "213                                          -1.677781      \n",
       "215                                          -1.624645      \n",
       "217                                           0.351140      \n",
       "219                                           0.342701      \n",
       "221                                           0.362982      \n",
       "\n",
       "     X.abs_variance_discharge_capacity_difference_cycles_2:100  \\\n",
       "1                                            -2.992572           \n",
       "3                                            -3.067906           \n",
       "5                                            -3.800628           \n",
       "7                                            -3.848486           \n",
       "9                                            -3.406424           \n",
       "..                                                 ...           \n",
       "213                                          -6.246062           \n",
       "215                                          -4.234325           \n",
       "217                                          -0.327336           \n",
       "219                                          -0.438810           \n",
       "221                                          -0.262321           \n",
       "\n",
       "     X.slope_discharge_capacity_cycle_number_2:100  \\\n",
       "1                                        -0.000139   \n",
       "3                                        -0.000135   \n",
       "5                                         0.000031   \n",
       "7                                         0.000031   \n",
       "9                                        -0.000006   \n",
       "..                                             ...   \n",
       "213                                      -0.004825   \n",
       "215                                      -0.004784   \n",
       "217                                      -0.004756   \n",
       "219                                      -0.003515   \n",
       "221                                      -0.004045   \n",
       "\n",
       "     X.intercept_discharge_capacity_cycle_number_2:100  \\\n",
       "1                                             1.024346   \n",
       "3                                             1.076665   \n",
       "5                                             1.080083   \n",
       "7                                             1.074474   \n",
       "9                                             1.088626   \n",
       "..                                                 ...   \n",
       "213                                           0.927062   \n",
       "215                                           0.924265   \n",
       "217                                           2.991382   \n",
       "219                                           2.915433   \n",
       "221                                           2.937593   \n",
       "\n",
       "     X.discharge_capacity_cycle_2  X.charge_time_cycles_1:5  X.LFP  X.NCA  \\\n",
       "1                        1.021925                819.200012      1     -1   \n",
       "3                        1.070200                537.599976      1     -1   \n",
       "5                        1.072903                716.799988      1     -1   \n",
       "7                        1.068212                640.000000      1     -1   \n",
       "9                        1.082596                588.799988      1     -1   \n",
       "..                            ...                       ...    ...    ...   \n",
       "213                      2.988000               2176.000000     -1     -1   \n",
       "215                      2.965000               2112.000000     -1     -1   \n",
       "217                      2.945000               2150.399902     -1     -1   \n",
       "219                      2.899000               2124.800049     -1     -1   \n",
       "221                      2.915000               2150.399902     -1     -1   \n",
       "\n",
       "     X.NMC  \n",
       "1       -1  \n",
       "3       -1  \n",
       "5       -1  \n",
       "7       -1  \n",
       "9       -1  \n",
       "..     ...  \n",
       "213      1  \n",
       "215      1  \n",
       "217      1  \n",
       "219      1  \n",
       "221      1  \n",
       "\n",
       "[107 rows x 9 columns]"
      ]
     },
     "execution_count": 83,
     "metadata": {},
     "output_type": "execute_result"
    }
   ],
   "source": [
    "X_train_full"
   ]
  },
  {
   "cell_type": "code",
   "execution_count": 84,
   "id": "likely-technology",
   "metadata": {},
   "outputs": [
    {
     "data": {
      "text/plain": [
       "Text(0.5, 1.0, 'Full Model Predicted vs. True Values (EN)')"
      ]
     },
     "execution_count": 84,
     "metadata": {},
     "output_type": "execute_result"
    },
    {
     "data": {
      "image/png": "[encoded data removed]",
      "text/plain": [
       "<Figure size 432x288 with 1 Axes>"
      ]
     },
     "metadata": {
      "needs_background": "light"
     },
     "output_type": "display_data"
    }
   ],
   "source": [
    "#Elastic Net\n",
    "min_full = y_test.min()[0]\n",
    "max_full = y_test.max()[0]\n",
    "\n",
    "plt.scatter(y_test, y_pred_test_en_full)\n",
    "plt.plot([0, max_full], [0, max_full], color=\"red\")\n",
    "plt.xlabel(\"True Values\")\n",
    "plt.ylabel(\"Predicted Values\")\n",
    "plt.title(\"Full Model Predicted vs. True Values (EN)\")\n",
    "# plt.ylim(0,8000)\n",
    "# plt.xlim(0,8000)"
   ]
  },
  {
   "cell_type": "markdown",
   "id": "patient-torture",
   "metadata": {},
   "source": [
    "## Old + New Data Plots"
   ]
  },
  {
   "cell_type": "code",
   "execution_count": 85,
   "id": "portable-mechanism",
   "metadata": {},
   "outputs": [
    {
     "name": "stderr",
     "output_type": "stream",
     "text": [
      "C:\\Users\\david\\Anaconda3\\lib\\site-packages\\seaborn\\distributions.py:2557: FutureWarning: `distplot` is a deprecated function and will be removed in a future version. Please adapt your code to use either `displot` (a figure-level function with similar flexibility) or `histplot` (an axes-level function for histograms).\n",
      "  warnings.warn(msg, FutureWarning)\n"
     ]
    },
    {
     "data": {
      "image/png": "[encoded data removed]",
      "text/plain": [
       "<Figure size 432x288 with 1 Axes>"
      ]
     },
     "metadata": {
      "needs_background": "light"
     },
     "output_type": "display_data"
    }
   ],
   "source": [
    "sns.distplot(old_ct[y], kde=False, color=\"yellow\", label='Old Data', bins=5)\n",
    "sns.distplot(new_ct_full[y], kde=False, color=\"red\", label='New Data', bins=10)\n",
    "\n",
    "# Plot formatting\n",
    "plt.legend(prop={'size': 12})\n",
    "if ct:\n",
    "    plt.title('Average Charge Throughput of Data Sources')\n",
    "    plt.xlabel('Charge Throughput')\n",
    "else:\n",
    "    plt.title('Average Cycle Life of Data Sources')\n",
    "    plt.xlabel('Cycle Life')\n",
    "plt.ylabel('Frequency');"
   ]
  },
  {
   "cell_type": "code",
   "execution_count": 86,
   "id": "digital-childhood",
   "metadata": {},
   "outputs": [
    {
     "data": {
      "image/png": "[encoded data removed]",
      "text/plain": [
       "<Figure size 432x288 with 1 Axes>"
      ]
     },
     "metadata": {
      "needs_background": "light"
     },
     "output_type": "display_data"
    }
   ],
   "source": [
    "sns.histplot(new_ct_full[y], color=\"red\", label='New Data')\n",
    "sns.histplot(full_data[y], color = \"yellow\", label = 'Combined Data')\n",
    "sns.histplot(old_ct[y], color=\"blue\", label='Old Data')\n",
    "\n",
    "\n",
    "# Plot formatting\n",
    "plt.legend(prop={'size': 12})\n",
    "if ct:\n",
    "    plt.title('Average Charge Throughput of Data Sources')\n",
    "    plt.xlabel('Charge Throughput')\n",
    "else:\n",
    "    plt.title('Average Cycle Life of Data Sources')\n",
    "    plt.xlabel('Cycle Life')\n",
    "plt.ylabel('Frequency');"
   ]
  },
  {
   "cell_type": "code",
   "execution_count": 87,
   "id": "international-adrian",
   "metadata": {},
   "outputs": [],
   "source": [
    "all_data_metrics = pd.DataFrame(data = {\"Model & Source\": [\"Var (Linear)\", \"Var (E.N.)\", \n",
    "                                                           \"Disc (Linear)\", \"Disc (E.N.)\",\n",
    "                                                           \"Full (Linear)\", \"Full (E.N.)\"],\n",
    "                               \n",
    "                               \"Model\": [\"Variance\", \"Variance\",\n",
    "                                         \"Discharge\", \"Discharge\",\n",
    "                                         \"Full\", \"Full\"],\n",
    "                                        \n",
    "                               \"Source\": [\"Basic Linear Regression\", \"Elastic Net\",\n",
    "                                          \"Basic Linear Regression\", \"Elastic Net\",\n",
    "                                          \"Basic Linear Regression\", \"Elastic Net\"],\n",
    "                                        \n",
    "                               \"Train RMSE\": [rmse_train_var, rmse_train_var_en,\n",
    "                                              rmse_train_dis, rmse_train_dis_en,\n",
    "                                              rmse_train_full, rmse_train_full_en],\n",
    "                               \n",
    "                               \"Test RMSE\": [rmse_test_var, rmse_test_var_en,\n",
    "                                             rmse_test_dis, rmse_test_dis_en,\n",
    "                                             rmse_test_full, rmse_test_full_en],\n",
    "                               \n",
    "                               \"Mean % Train Error\": [mape_train_var, mape_train_var_en,\n",
    "                                                      mape_train_dis, mape_train_dis_en,\n",
    "                                                      mape_train_full, mape_train_full_en],\n",
    "                               \n",
    "                               \"Mean % Test Error\": [mape_test_var, mape_test_var_en,\n",
    "                                                     mape_test_dis, mape_test_dis_en,\n",
    "                                                     mape_test_full, mape_test_full_en]})"
   ]
  },
  {
   "cell_type": "code",
   "execution_count": 88,
   "id": "packed-audit",
   "metadata": {},
   "outputs": [
    {
     "data": {
      "image/png": "[encoded data removed]",
      "text/plain": [
       "<Figure size 514.625x360 with 1 Axes>"
      ]
     },
     "metadata": {
      "needs_background": "light"
     },
     "output_type": "display_data"
    },
    {
     "data": {
      "image/png": "[encoded data removed]",
      "text/plain": [
       "<Figure size 514.625x360 with 1 Axes>"
      ]
     },
     "metadata": {
      "needs_background": "light"
     },
     "output_type": "display_data"
    },
    {
     "data": {
      "image/png": "[encoded data removed]",
      "text/plain": [
       "<Figure size 514.625x360 with 1 Axes>"
      ]
     },
     "metadata": {
      "needs_background": "light"
     },
     "output_type": "display_data"
    },
    {
     "data": {
      "image/png": "[encoded data removed]",
      "text/plain": [
       "<Figure size 514.625x360 with 1 Axes>"
      ]
     },
     "metadata": {
      "needs_background": "light"
     },
     "output_type": "display_data"
    }
   ],
   "source": [
    "for column in all_data_metrics.columns[3:]:\n",
    "    sns.catplot(data = all_data_metrics, kind=\"bar\",\n",
    "               x = \"Model\", y = column, hue = \"Source\")\n",
    "    plt.title(column + \" Comparison\")\n",
    "#     plt.ylim(0,2500)"
   ]
  },
  {
   "cell_type": "code",
   "execution_count": null,
   "id": "second-stadium",
   "metadata": {},
   "outputs": [],
   "source": []
  }
 ],
 "metadata": {
  "kernelspec": {
   "display_name": "Python 3",
   "language": "python",
   "name": "python3"
  },
  "language_info": {
   "codemirror_mode": {
    "name": "ipython",
    "version": 3
   },
   "file_extension": ".py",
   "mimetype": "text/x-python",
   "name": "python",
   "nbconvert_exporter": "python",
   "pygments_lexer": "ipython3",
   "version": "3.7.4"
  }
 },
 "nbformat": 4,
 "nbformat_minor": 5
}
