{
 "cells": [
  {
   "cell_type": "code",
   "execution_count": 1,
   "id": "elect-redhead",
   "metadata": {},
   "outputs": [],
   "source": [
    "import os\n",
    "import pandas as pd\n",
    "import numpy as np\n",
    "import requests\n",
    "import json\n",
    "import glob\n",
    "import re\n",
    "import seaborn as sns\n",
    "from matplotlib import pyplot as plt\n",
    "from monty.serialization import loadfn"
   ]
  },
  {
   "cell_type": "markdown",
   "id": "future-province",
   "metadata": {},
   "source": [
    "Select desired values for booleans:"
   ]
  },
  {
   "cell_type": "code",
   "execution_count": 2,
   "id": "mounted-alaska",
   "metadata": {},
   "outputs": [],
   "source": [
    "#True if using charge_throughput as response variable, False if using cycle life (X.capacity_0.8)\n",
    "ct = True\n",
    "\n",
    "#True if including 'X.integrated_time_temperature_cycles_1:100' to full model, False if not\n",
    "integrated_time_temp_cycles = False\n",
    "\n",
    "#True if applying a log transformtion to combined data, False if no transformation\n",
    "log_transformation = True\n",
    "\n",
    "#True if including internal resistance for old data, False if not (no internal resistance variable for new data)\n",
    "ir = False\n",
    "\n",
    "#True if standardizing explanatory variables, False otherwise (necessary for elastic net)\n",
    "standardized = True\n",
    "\n",
    "if standardized:\n",
    "    #True if using old and new data scaled separately in combined data, False if using a separate standard scaler for all combined data\n",
    "    old_new_scaler = True\n",
    "\n",
    "#True if using all battery chemistries, False if only LFP\n",
    "new_chemistries = True\n",
    "\n",
    "if new_chemistries:\n",
    "    #True if tracking the sources of the new chemistries, False if not\n",
    "    chem_sources = True\n",
    "    \n",
    "    #Identifies the combined data test set's chemistry, or identifies that there will be all new data or a combination all data\n",
    "    #Old data will not be used if LFP is selected, but will be used if combination is selected\n",
    "    test_set = [\"combination\", \"new\", \"half new\", \"LFP\", \"NCA\", \"NMC\"]\n",
    "    test_set = test_set[2]\n",
    "\n",
    "#True if identifying the source of the data (old, new), False if not\n",
    "sources = True\n",
    "\n",
    "#True if reading in the old data correctly, False if mistakenly. \n",
    "#The only reason to set this to false is if you're recreating incorrect plots to illustrate the change\n",
    "proper_old_reading = True"
   ]
  },
  {
   "cell_type": "markdown",
   "id": "swiss-richardson",
   "metadata": {},
   "source": [
    "## Reading in the Data"
   ]
  },
  {
   "cell_type": "code",
   "execution_count": 3,
   "id": "protective-expense",
   "metadata": {},
   "outputs": [],
   "source": [
    "path = \"E:/Data/TRI/\"\n",
    "\n",
    "if proper_old_reading:\n",
    "    old_subpath = \"FastCharge/features/\"\n",
    "\n",
    "    old_d_dir = path + old_subpath + \"DeltaQFastCharge\"\n",
    "    old_t_dir = path + old_subpath + \"TrajectoryFastCharge\"\n",
    "\n",
    "\n",
    "    def getListOfFiles(dirName):\n",
    "        listOfFile = os.listdir(dirName)\n",
    "        allFiles = list()\n",
    "        for entry in listOfFile:\n",
    "            fullPath = os.path.join(dirName, entry)\n",
    "            if \".json\" in fullPath:\n",
    "                allFiles.append(fullPath)\n",
    "        return allFiles\n",
    "\n",
    "    old_d_list = getListOfFiles(old_d_dir)\n",
    "    old_t_list = getListOfFiles(old_t_dir)"
   ]
  },
  {
   "cell_type": "code",
   "execution_count": 4,
   "id": "assumed-evidence",
   "metadata": {},
   "outputs": [],
   "source": [
    "if proper_old_reading:\n",
    "    def get_new_names(d_list):\n",
    "        new_names = []\n",
    "        for file in d_list:\n",
    "            new_names.append(re.findall(\"CH(.*?)\\_f\", file)[0])\n",
    "        return new_names\n",
    "\n",
    "    def make_df(file_list, batch=False):\n",
    "        df = pd.DataFrame()\n",
    "        for file in file_list:\n",
    "            with open(file) as data_file:    \n",
    "                data = json.load(data_file)\n",
    "                data_df = pd.json_normalize(data)\n",
    "                df = pd.concat([df,data_df])\n",
    "        df.reset_index(drop=True,inplace=True)\n",
    "        if batch:\n",
    "            df['bat_num'] = get_new_names(file_list)\n",
    "        return df\n",
    "\n",
    "    def merge_df(d_df, t_df):\n",
    "        df_full = d_df.merge(t_df, left_index=True, right_index=True)\n",
    "\n",
    "        # Making values not stored as lists\n",
    "        for column in df_full.columns:\n",
    "            if \"X.\" in column:\n",
    "                df_full[column] = df_full[column].apply(lambda x: x[0])\n",
    "\n",
    "        df_full.reset_index(inplace=True)\n",
    "        return df_full"
   ]
  },
  {
   "cell_type": "code",
   "execution_count": 5,
   "id": "indirect-deficit",
   "metadata": {},
   "outputs": [],
   "source": [
    "if proper_old_reading:\n",
    "    old_d_df = make_df(old_d_list, batch=True)\n",
    "    old_d_df.head()\n",
    "\n",
    "    batches = []\n",
    "    for i in old_d_df['metadata.protocol']:\n",
    "        if '2017-05' in i:\n",
    "            batches.append('b1')\n",
    "        elif '2017-06' in i:\n",
    "            batches.append('b2')\n",
    "        elif '2018-04' in i:\n",
    "            batches.append('b3')\n",
    "\n",
    "    old_d_df['batches'] = batches\n",
    "    old_d_df['bat_name'] = old_d_df['batches'] + 'c' + old_d_df['bat_num']"
   ]
  },
  {
   "cell_type": "code",
   "execution_count": 6,
   "id": "prime-television",
   "metadata": {},
   "outputs": [],
   "source": [
    "if proper_old_reading:\n",
    "    old_t_df = make_df(old_t_list)\n",
    "    old_t_df.head()"
   ]
  },
  {
   "cell_type": "code",
   "execution_count": 7,
   "id": "opposed-trade",
   "metadata": {},
   "outputs": [],
   "source": [
    "if proper_old_reading:\n",
    "    old_df_full = merge_df(old_d_df, old_t_df)\n",
    "    old_df_full.sort_values(by=['bat_name'],inplace=True)\n",
    "    old_df_full.head()"
   ]
  },
  {
   "cell_type": "code",
   "execution_count": 8,
   "id": "damaged-poison",
   "metadata": {},
   "outputs": [],
   "source": [
    "old_ct = pd.read_csv(path + \"OldData/OldDataFullCT.csv\")\n"
   ]
  },
  {
   "cell_type": "code",
   "execution_count": 9,
   "id": "placed-attachment",
   "metadata": {},
   "outputs": [],
   "source": [
    "if proper_old_reading:\n",
    "    old_ct = old_ct.filter([\"name_x\", \"charge_throughput\"])\n",
    "    old_ct = old_df_full.merge(old_ct, on=\"name_x\", how=\"left\")"
   ]
  },
  {
   "cell_type": "code",
   "execution_count": 10,
   "id": "after-nylon",
   "metadata": {},
   "outputs": [],
   "source": [
    "old_ct.rename(columns={\"X.capacity_0.8\": \"cycle_index\"}, inplace=True)"
   ]
  },
  {
   "cell_type": "code",
   "execution_count": 11,
   "id": "absolute-perth",
   "metadata": {},
   "outputs": [],
   "source": [
    "new_ct = pd.read_csv(path + \"NewData/charge_throughputs_BA.csv\")\n",
    "\n",
    "if new_chemistries:\n",
    "    nca_df = pd.read_csv(path + \"NewData/charge_throughputs_BA_NCA.csv\")\n",
    "    nmc_df = pd.read_csv(path + \"NewData/charge_throughputs_BA_NMC.csv\")\n",
    "    \n",
    "    chemistries = [\"LFP\", \"NCA\", \"NMC\"]\n",
    "    dfs = [new_ct, nca_df, nmc_df]\n",
    "    \n",
    "    for i in range(len(chemistries)):\n",
    "        chem = chemistries[i]\n",
    "        for j in range(len(dfs)):\n",
    "            df = dfs[j]\n",
    "            \n",
    "            if i == j:\n",
    "                df[chem] = 1\n",
    "            else:\n",
    "                df[chem] = -1\n",
    "            \n",
    "            dfs[j] = df\n",
    "        \n",
    "    new_ct = pd.concat([df for df in dfs], ignore_index=True)"
   ]
  },
  {
   "cell_type": "code",
   "execution_count": 12,
   "id": "close-newfoundland",
   "metadata": {},
   "outputs": [],
   "source": [
    "variance_model_features = ['X.abs_variance_discharge_capacity_difference_cycles_2:100']\n",
    "discharge_model_features = ['X.abs_min_discharge_capacity_difference_cycles_2:100',\n",
    "                            'X.abs_variance_discharge_capacity_difference_cycles_2:100',\n",
    "                            'X.abs_skew_discharge_capacity_difference_cycles_2:100',\n",
    "                            'X.abs_kurtosis_discharge_capacity_difference_cycles_2:100',\n",
    "                            'X.discharge_capacity_cycle_2',\n",
    "                            'X.max_discharge_capacity_difference'\n",
    "                            ]\n",
    "full_model_features = ['X.abs_min_discharge_capacity_difference_cycles_2:100',\n",
    "                       'X.abs_variance_discharge_capacity_difference_cycles_2:100',\n",
    "                       'X.slope_discharge_capacity_cycle_number_2:100',\n",
    "                       'X.intercept_discharge_capacity_cycle_number_2:100',\n",
    "                       'X.discharge_capacity_cycle_2',\n",
    "                       'X.charge_time_cycles_1:5']\n",
    "\n",
    "if integrated_time_temp_cycles:\n",
    "    full_model_features.append('X.integrated_time_temperature_cycles_1:100')\n",
    "\n",
    "if ir:\n",
    "    full_model_features.append('X.min_internal_resistance_cycles_2:100')\n",
    "    full_model_features.append('X.internal_resistance_difference_cycles_2:100')\n",
    "\n",
    "if ct:\n",
    "    y = 'charge_throughput'\n",
    "else:\n",
    "    y = 'cycle_index'"
   ]
  },
  {
   "cell_type": "code",
   "execution_count": 13,
   "id": "floating-examination",
   "metadata": {},
   "outputs": [],
   "source": [
    "from sklearn.linear_model import LinearRegression, ElasticNet, ElasticNetCV\n",
    "from sklearn.metrics import mean_squared_error, mean_absolute_percentage_error\n",
    "from sklearn.preprocessing import StandardScaler"
   ]
  },
  {
   "cell_type": "markdown",
   "id": "fiscal-donna",
   "metadata": {},
   "source": [
    "## Old Data"
   ]
  },
  {
   "cell_type": "code",
   "execution_count": 14,
   "id": "published-bahrain",
   "metadata": {},
   "outputs": [
    {
     "data": {
      "text/plain": [
       "<AxesSubplot:xlabel='X.abs_variance_discharge_capacity_difference_cycles_2:100', ylabel='charge_throughput'>"
      ]
     },
     "execution_count": 14,
     "metadata": {},
     "output_type": "execute_result"
    },
    {
     "data": {
      "image/png": "[encoded data removed]",
      "text/plain": [
       "<Figure size 432x288 with 1 Axes>"
      ]
     },
     "metadata": {
      "needs_background": "light"
     },
     "output_type": "display_data"
    }
   ],
   "source": [
    "old_ct.plot.scatter(x='X.abs_variance_discharge_capacity_difference_cycles_2:100', y = y)"
   ]
  },
  {
   "cell_type": "markdown",
   "id": "canadian-latex",
   "metadata": {},
   "source": [
    "#### Our split (odds to train, evens to test):"
   ]
  },
  {
   "cell_type": "code",
   "execution_count": 15,
   "id": "continental-irish",
   "metadata": {},
   "outputs": [],
   "source": [
    "# train_ind = [i for i in range(1, len(old_ct), 2)]\n",
    "# test_ind = [i for i in range(0, len(old_ct), 2)]"
   ]
  },
  {
   "cell_type": "code",
   "execution_count": 16,
   "id": "convertible-people",
   "metadata": {},
   "outputs": [
    {
     "data": {
      "text/plain": [
       "139"
      ]
     },
     "execution_count": 16,
     "metadata": {},
     "output_type": "execute_result"
    }
   ],
   "source": [
    "len(old_ct)"
   ]
  },
  {
   "cell_type": "markdown",
   "id": "authentic-image",
   "metadata": {},
   "source": [
    "#### TRI Split:"
   ]
  },
  {
   "cell_type": "code",
   "execution_count": 17,
   "id": "rotary-finland",
   "metadata": {},
   "outputs": [],
   "source": [
    "train_ind = [ 1,  3,  5,  7,  9, 11, 13, 15, 17, 19, 21, 23, 25, 27, 29, 31, 33,\n",
    "        35, 37, 39, 41, 43, 45, 47, 49, 51, 53, 55, 57, 59, 61, 63, 65, 67,\n",
    "        69, 71, 73, 75, 77, 79, 81]\n",
    "test_ind = [ 0,  2,  4,  6,  8, 10, 12, 14, 16, 18, 20, 22, 24, 26, 28, 30, 32,\n",
    "        34, 36, 38, 40, 42, 44, 46, 48, 50, 52, 54, 56, 58, 60, 62, 64, 66,\n",
    "        68, 70, 72, 74, 76, 78, 80, 82, 83]"
   ]
  },
  {
   "cell_type": "code",
   "execution_count": 18,
   "id": "desperate-elephant",
   "metadata": {},
   "outputs": [],
   "source": [
    "if standardized:\n",
    "    \n",
    "    all_model_features = full_model_features + list(set(discharge_model_features)-set(full_model_features))\n",
    "    \n",
    "    def standardize(train, test):\n",
    "        scaler = StandardScaler()\n",
    "        scaler.fit(train)\n",
    "        train_data = pd.DataFrame(scaler.transform(train), index=train.index, columns = train.columns)\n",
    "        test_data = pd.DataFrame(scaler.transform(test), index=test.index, columns = test.columns)\n",
    "        return [train_data, test_data]\n",
    "    \n",
    "    if old_new_scaler:\n",
    "        X_train_all_old = old_ct.iloc[train_ind][all_model_features]\n",
    "        temp_test_ind = list(set(old_ct.index)-set(train_ind))\n",
    "        X_test_all_old = old_ct.iloc[temp_test_ind][all_model_features]\n",
    "\n",
    "        X_train_all_old, X_test_all_old = standardize(X_train_all_old, X_test_all_old)\n",
    "\n",
    "        X_train_all_old[\"charge_throughput\"] = old_ct.iloc[train_ind][\"charge_throughput\"]\n",
    "        X_test_all_old[\"charge_throughput\"] = old_ct.iloc[temp_test_ind][\"charge_throughput\"]\n",
    "\n",
    "        X_all_old = X_train_all_old.append(X_test_all_old)\n",
    "        \n",
    "        X_test_all_old = X_test_all_old.iloc[test_ind]"
   ]
  },
  {
   "cell_type": "markdown",
   "id": "invisible-shareware",
   "metadata": {},
   "source": [
    "### Variance Model"
   ]
  },
  {
   "cell_type": "code",
   "execution_count": 19,
   "id": "diagnostic-combine",
   "metadata": {},
   "outputs": [],
   "source": [
    "# Variance model\n",
    "X_train_var = old_ct.iloc[train_ind][variance_model_features]\n",
    "\n",
    "y_train = old_ct.iloc[train_ind][[y]]\n",
    "\n",
    "X_test_var = old_ct.iloc[test_ind][variance_model_features]\n",
    "y_test = old_ct.iloc[test_ind][[y]]\n",
    "\n",
    "if standardized:\n",
    "    X_train_var, X_test_var = standardize(X_train_var, X_test_var)"
   ]
  },
  {
   "cell_type": "code",
   "execution_count": 20,
   "id": "configured-measure",
   "metadata": {},
   "outputs": [
    {
     "name": "stdout",
     "output_type": "stream",
     "text": [
      "Variance Basic Linear Regression Model\n",
      "Test RMSE:  133.31259554173033\n",
      "Mean % Test Error:  16.139010253557633\n"
     ]
    }
   ],
   "source": [
    "reg_var = LinearRegression().fit(X_train_var,y_train)\n",
    "y_pred_train_var = reg_var.predict(X_train_var)\n",
    "y_pred_test_var = reg_var.predict(X_test_var)\n",
    "\n",
    "rmse_train_var = np.sqrt(mean_squared_error(y_train, y_pred_train_var))\n",
    "rmse_test_var = np.sqrt(mean_squared_error(y_test, y_pred_test_var))\n",
    "mape_train_var = mean_absolute_percentage_error(y_train, y_pred_train_var)*100\n",
    "mape_test_var = mean_absolute_percentage_error(y_test, y_pred_test_var)*100\n",
    "\n",
    "print(\"Variance Basic Linear Regression Model\")\n",
    "# print(\"Training RMSE: \", rmse_train_var)\n",
    "print(\"Test RMSE: \", rmse_test_var)\n",
    "# print(\"Mean % Train Error: \", mape_train_var)\n",
    "print(\"Mean % Test Error: \", mape_test_var)"
   ]
  },
  {
   "cell_type": "code",
   "execution_count": 21,
   "id": "irish-balloon",
   "metadata": {},
   "outputs": [
    {
     "data": {
      "text/plain": [
       "Text(0.5, 1.0, 'Variance Model Predicted vs. True Values')"
      ]
     },
     "execution_count": 21,
     "metadata": {},
     "output_type": "execute_result"
    },
    {
     "data": {
      "image/png": "[encoded data removed]",
      "text/plain": [
       "<Figure size 432x288 with 1 Axes>"
      ]
     },
     "metadata": {
      "needs_background": "light"
     },
     "output_type": "display_data"
    }
   ],
   "source": [
    "# Variance model\n",
    "min_var = y_test.min()[0]\n",
    "max_var = y_test.max()[0]\n",
    "\n",
    "plt.scatter(y_test, y_pred_test_var)\n",
    "plt.plot([0, max_var], [0, max_var], color=\"red\")\n",
    "plt.xlabel(\"True Values\")\n",
    "plt.ylabel(\"Predicted Values\")\n",
    "plt.title(\"Variance Model Predicted vs. True Values\")"
   ]
  },
  {
   "cell_type": "code",
   "execution_count": 22,
   "id": "regular-damage",
   "metadata": {},
   "outputs": [
    {
     "name": "stdout",
     "output_type": "stream",
     "text": [
      "Variance Elastic Net Model\n",
      "l1_ratio = 0.5\n",
      "Test RMSE:  126.96168691136744\n",
      "Test Mean Absolute % Error:  14.741509283943868\n"
     ]
    }
   ],
   "source": [
    "k_fold = 5\n",
    "l1_ratios = [i/20 for i in range(1, 21)]\n",
    "max_iter = 1000000\n",
    "random_state = 1\n",
    "test_size = 2\n",
    "tol = 0.0001\n",
    "\n",
    "models = []\n",
    "y_pred_trains = []\n",
    "y_pred_tests = []\n",
    "train_rmses = []\n",
    "test_rmses = []\n",
    "train_mapes = []\n",
    "test_mapes = []\n",
    "\n",
    "for l1_ratio in l1_ratios:\n",
    "    elasticnetcv = ElasticNetCV(\n",
    "        fit_intercept=True,\n",
    "        normalize=False,\n",
    "        alphas=None,\n",
    "        cv=k_fold,\n",
    "        l1_ratio=l1_ratio,\n",
    "        max_iter=max_iter,\n",
    "    )\n",
    "    elasticnetcv.fit(X_train_var, y_train.values.ravel())\n",
    "\n",
    "    elasticnet_var = ElasticNet(\n",
    "        fit_intercept=True,\n",
    "        normalize=False,\n",
    "        l1_ratio=elasticnetcv.l1_ratio_,\n",
    "        alpha=elasticnetcv.alpha_,\n",
    "        max_iter=max_iter,\n",
    "    )\n",
    "\n",
    "    elasticnet_var.fit(X_train_var, y_train.values.ravel())\n",
    "    y_pred_train_en_var = elasticnet_var.predict(X_train_var)\n",
    "    y_pred_test_en_var = elasticnet_var.predict(X_test_var)\n",
    "\n",
    "    rmse_train_en_var = np.sqrt(mean_squared_error(y_train, y_pred_train_en_var))\n",
    "    rmse_test_en_var = np.sqrt(mean_squared_error(y_test, y_pred_test_en_var))\n",
    "    mape_train_en_var = mean_absolute_percentage_error(y_train, y_pred_train_en_var)*100\n",
    "    mape_test_en_var = mean_absolute_percentage_error(y_test, y_pred_test_en_var)*100\n",
    "\n",
    "    models.append(elasticnet_var)\n",
    "    y_pred_trains.append(y_pred_train_en_var)\n",
    "    y_pred_tests.append(y_pred_test_en_var)\n",
    "    train_rmses.append(rmse_train_en_var)\n",
    "    test_rmses.append(rmse_test_en_var)\n",
    "    train_mapes.append(mape_train_en_var)\n",
    "    test_mapes.append(mape_test_en_var)\n",
    "\n",
    "best_model_index = test_rmses.index(min(test_rmses))\n",
    "\n",
    "elasticnet_var = models[best_model_index]\n",
    "y_pred_train_en_var = y_pred_trains[best_model_index]\n",
    "y_pred_test_en_var = y_pred_tests[best_model_index]\n",
    "rmse_train_var_en = train_rmses[best_model_index]\n",
    "rmse_test_var_en = test_rmses[best_model_index]\n",
    "l1_ratio_var = l1_ratios[best_model_index]\n",
    "mape_train_var_en = train_mapes[best_model_index]\n",
    "mape_test_var_en = test_mapes[best_model_index]\n",
    "\n",
    "print(\"Variance Elastic Net Model\")\n",
    "print(\"l1_ratio =\", l1_ratio_var)\n",
    "print(\"Test RMSE: \", rmse_test_var_en)\n",
    "print(\"Test Mean Absolute % Error: \", mape_test_var_en)"
   ]
  },
  {
   "cell_type": "code",
   "execution_count": 23,
   "id": "worse-detail",
   "metadata": {},
   "outputs": [
    {
     "data": {
      "image/png": "[encoded data removed]",
      "text/plain": [
       "<Figure size 432x288 with 1 Axes>"
      ]
     },
     "metadata": {
      "needs_background": "light"
     },
     "output_type": "display_data"
    }
   ],
   "source": [
    "coeffs = np.polyfit(l1_ratios, test_rmses, 3)\n",
    "vals = [coeffs[0]*val**3 + coeffs[1]*val**2 + coeffs[2]*val + coeffs[3] for val in l1_ratios]\n",
    "\n",
    "plt.scatter(l1_ratios, test_rmses)\n",
    "plt.plot(l1_ratios, vals)\n",
    "plt.title(\"Test RMSE by Ridge/Lasso Ratio (Variance Model)\")\n",
    "plt.xlabel(\"L1 Ratio (0 = Ridge, 1 = Lasso)\")\n",
    "plt.ylabel(\"Test RMSE\");"
   ]
  },
  {
   "cell_type": "code",
   "execution_count": 24,
   "id": "disturbed-explanation",
   "metadata": {},
   "outputs": [
    {
     "data": {
      "text/plain": [
       "Text(0.5, 1.0, 'Variance Model Predicted vs. True Values (EN)')"
      ]
     },
     "execution_count": 24,
     "metadata": {},
     "output_type": "execute_result"
    },
    {
     "data": {
      "image/png": "[encoded data removed]",
      "text/plain": [
       "<Figure size 432x288 with 1 Axes>"
      ]
     },
     "metadata": {
      "needs_background": "light"
     },
     "output_type": "display_data"
    }
   ],
   "source": [
    "#Elastic Net\n",
    "min_var = y_test.min()[0]\n",
    "max_var = y_test.max()[0]\n",
    "\n",
    "plt.scatter(y_test, y_pred_test_en_var)\n",
    "plt.plot([0, max_var], [0, max_var], color=\"red\")\n",
    "plt.xlabel(\"True Values\")\n",
    "plt.ylabel(\"Predicted Values\")\n",
    "plt.title(\"Variance Model Predicted vs. True Values (EN)\")"
   ]
  },
  {
   "cell_type": "markdown",
   "id": "young-study",
   "metadata": {},
   "source": [
    "#### From paper (Variance Model)\n",
    "* Training RMSE: 103\n",
    "* Test RMSE: 138\n",
    "* Mean % Train Error: 14.1\n",
    "* Mean % Test Error: 14.7"
   ]
  },
  {
   "cell_type": "markdown",
   "id": "italic-violence",
   "metadata": {},
   "source": [
    "### Discharge Model"
   ]
  },
  {
   "cell_type": "code",
   "execution_count": 25,
   "id": "architectural-thanks",
   "metadata": {},
   "outputs": [
    {
     "name": "stdout",
     "output_type": "stream",
     "text": [
      "Discharge Basic Linear Regression Model\n",
      "Test RMSE:  92.8739752809802\n",
      "Test Mean % Error:  10.622273031548259\n"
     ]
    }
   ],
   "source": [
    "# discharge model\n",
    "X_train_dis = old_ct.iloc[train_ind][discharge_model_features]\n",
    "y_train = old_ct.iloc[train_ind][[y]]\n",
    "\n",
    "X_test_dis = old_ct.iloc[test_ind][discharge_model_features]\n",
    "y_test = old_ct.iloc[test_ind][[y]]\n",
    "\n",
    "if standardized:\n",
    "    X_train_dis, X_test_dis = standardize(X_train_dis, X_test_dis)\n",
    "\n",
    "reg_dis = LinearRegression().fit(X_train_dis,y_train)\n",
    "y_pred_train_dis = reg_dis.predict(X_train_dis)\n",
    "y_pred_test_dis = reg_dis.predict(X_test_dis)\n",
    "\n",
    "rmse_train_dis = np.sqrt(mean_squared_error(y_train, y_pred_train_dis))\n",
    "rmse_test_dis = np.sqrt(mean_squared_error(y_test, y_pred_test_dis))\n",
    "mape_train_dis = mean_absolute_percentage_error(y_train, y_pred_train_dis)*100\n",
    "mape_test_dis = mean_absolute_percentage_error(y_test, y_pred_test_dis)*100\n",
    "\n",
    "print(\"Discharge Basic Linear Regression Model\")\n",
    "# print(\"Training RMSE: \", rmse_train_dis)\n",
    "print(\"Test RMSE: \", rmse_test_dis)\n",
    "# print(\"Train Mean % Error: \", mape_train_dis)\n",
    "print(\"Test Mean % Error: \", mape_test_dis)"
   ]
  },
  {
   "cell_type": "code",
   "execution_count": 26,
   "id": "automatic-effectiveness",
   "metadata": {},
   "outputs": [
    {
     "data": {
      "text/plain": [
       "Text(0.5, 1.0, 'Discharge Model Predicted vs. True Values')"
      ]
     },
     "execution_count": 26,
     "metadata": {},
     "output_type": "execute_result"
    },
    {
     "data": {
      "image/png": "[encoded data removed]",
      "text/plain": [
       "<Figure size 432x288 with 1 Axes>"
      ]
     },
     "metadata": {
      "needs_background": "light"
     },
     "output_type": "display_data"
    }
   ],
   "source": [
    "# Discharge model\n",
    "max_dis = y_test.max()[0]\n",
    "\n",
    "plt.scatter(y_test, y_pred_test_dis)\n",
    "plt.plot([0, max_dis], [0, max_dis], color=\"red\")\n",
    "plt.xlabel(\"True Values\")\n",
    "plt.ylabel(\"Predicted Values\")\n",
    "plt.title(\"Discharge Model Predicted vs. True Values\")"
   ]
  },
  {
   "cell_type": "code",
   "execution_count": 27,
   "id": "physical-attack",
   "metadata": {},
   "outputs": [
    {
     "name": "stdout",
     "output_type": "stream",
     "text": [
      "Discharge Elastic Net Model\n",
      "l1_ratio = 0.75\n",
      "Test RMSE:  90.82495211459383\n",
      "Test Mean Absolute % Error:  10.333474731230906\n"
     ]
    }
   ],
   "source": [
    "k_fold = 5\n",
    "l1_ratios = [i/20 for i in range(1, 21)]\n",
    "max_iter = 1000000\n",
    "random_state = 1\n",
    "test_size = 2\n",
    "tol = 0.0001\n",
    "\n",
    "models = []\n",
    "y_pred_trains = []\n",
    "y_pred_tests = []\n",
    "train_rmses = []\n",
    "test_rmses = []\n",
    "train_mapes = []\n",
    "test_mapes = []\n",
    "\n",
    "for l1_ratio in l1_ratios:\n",
    "    elasticnetcv = ElasticNetCV(\n",
    "        fit_intercept=True,\n",
    "        normalize=False,\n",
    "        alphas=None,\n",
    "        cv=k_fold,\n",
    "        l1_ratio=l1_ratio,\n",
    "        max_iter=max_iter,\n",
    "    )\n",
    "    elasticnetcv.fit(X_train_dis, y_train.values.ravel())\n",
    "\n",
    "    elasticnet_dis = ElasticNet(\n",
    "        fit_intercept=True,\n",
    "        normalize=False,\n",
    "        l1_ratio=elasticnetcv.l1_ratio_,\n",
    "        alpha=elasticnetcv.alpha_,\n",
    "        max_iter=max_iter,\n",
    "    )\n",
    "\n",
    "    elasticnet_dis.fit(X_train_dis, y_train.values.ravel())\n",
    "    y_pred_train_en_dis = elasticnet_dis.predict(X_train_dis)\n",
    "    y_pred_test_en_dis = elasticnet_dis.predict(X_test_dis)\n",
    "\n",
    "    rmse_train_en_dis = np.sqrt(mean_squared_error(y_train, y_pred_train_en_dis))\n",
    "    rmse_test_en_dis = np.sqrt(mean_squared_error(y_test, y_pred_test_en_dis))\n",
    "    mape_train_en_dis = mean_absolute_percentage_error(y_train, y_pred_train_en_dis)*100\n",
    "    mape_test_en_dis = mean_absolute_percentage_error(y_test, y_pred_test_en_dis)*100\n",
    "\n",
    "    models.append(elasticnet_dis)\n",
    "    y_pred_trains.append(y_pred_train_en_dis)\n",
    "    y_pred_tests.append(y_pred_test_en_dis)\n",
    "    train_rmses.append(rmse_train_en_dis)\n",
    "    test_rmses.append(rmse_test_en_dis)\n",
    "    train_mapes.append(mape_train_en_dis)\n",
    "    test_mapes.append(mape_test_en_dis)\n",
    "\n",
    "best_model_index = test_rmses.index(min(test_rmses))\n",
    "\n",
    "elasticnet_dis = models[best_model_index]\n",
    "y_pred_train_en_dis = y_pred_trains[best_model_index]\n",
    "y_pred_test_en_dis = y_pred_tests[best_model_index]\n",
    "rmse_train_dis_en = train_rmses[best_model_index]\n",
    "rmse_test_dis_en = test_rmses[best_model_index]\n",
    "l1_ratio_dis = l1_ratios[best_model_index]\n",
    "mape_train_dis_en = train_mapes[best_model_index]\n",
    "mape_test_dis_en = test_mapes[best_model_index]\n",
    "\n",
    "print(\"Discharge Elastic Net Model\")\n",
    "print(\"l1_ratio =\", l1_ratio_dis)\n",
    "print(\"Test RMSE: \", rmse_test_dis_en)\n",
    "print(\"Test Mean Absolute % Error: \", mape_test_dis_en)"
   ]
  },
  {
   "cell_type": "code",
   "execution_count": 28,
   "id": "becoming-tribune",
   "metadata": {},
   "outputs": [
    {
     "data": {
      "image/png": "[encoded data removed]",
      "text/plain": [
       "<Figure size 432x288 with 1 Axes>"
      ]
     },
     "metadata": {
      "needs_background": "light"
     },
     "output_type": "display_data"
    }
   ],
   "source": [
    "# coeffs = np.polyfit(l1_ratios, test_rmses, 3)\n",
    "# vals = [coeffs[0]*val**3 + coeffs[1]*val**2 + coeffs[2]*val + coeffs[3] for val in l1_ratios[:-1]]\n",
    "\n",
    "plt.scatter(l1_ratios, test_rmses)\n",
    "# plt.plot(l1_ratios[:-1], vals)\n",
    "plt.title(\"Test RMSE by Ridge/Lasso Ratio (Discharge Model)\")\n",
    "plt.xlabel(\"L1 Ratio (0 = Ridge, 1 = Lasso)\")\n",
    "plt.ylabel(\"Test RMSE\");"
   ]
  },
  {
   "cell_type": "code",
   "execution_count": 29,
   "id": "biblical-thong",
   "metadata": {},
   "outputs": [
    {
     "data": {
      "text/plain": [
       "Text(0.5, 1.0, 'Discharge Model Predicted vs. True Values (EN)')"
      ]
     },
     "execution_count": 29,
     "metadata": {},
     "output_type": "execute_result"
    },
    {
     "data": {
      "image/png": "[encoded data removed]",
      "text/plain": [
       "<Figure size 432x288 with 1 Axes>"
      ]
     },
     "metadata": {
      "needs_background": "light"
     },
     "output_type": "display_data"
    }
   ],
   "source": [
    "#Elastic Net\n",
    "max_dis = y_test.max()[0]\n",
    "\n",
    "plt.scatter(y_test, y_pred_test_en_dis)\n",
    "plt.plot([0, max_dis], [0, max_dis], color=\"red\")\n",
    "plt.xlabel(\"True Values\")\n",
    "plt.ylabel(\"Predicted Values\")\n",
    "plt.title(\"Discharge Model Predicted vs. True Values (EN)\")"
   ]
  },
  {
   "cell_type": "markdown",
   "id": "stuffed-hypothesis",
   "metadata": {},
   "source": [
    "#### From paper (Discharge Model)\n",
    "* Training RMSE: 76\n",
    "* Test RMSE: 91\n",
    "* Mean % Train Error: 9.8\n",
    "* Mean % Test Error: 13.0"
   ]
  },
  {
   "cell_type": "markdown",
   "id": "compliant-census",
   "metadata": {},
   "source": [
    "### Full Model"
   ]
  },
  {
   "cell_type": "code",
   "execution_count": 30,
   "id": "drawn-borough",
   "metadata": {},
   "outputs": [
    {
     "name": "stdout",
     "output_type": "stream",
     "text": [
      "Full Basic Linear Regression Model\n",
      "Test RMSE:  84.92394617194614\n",
      "Mean % Test Error:  0.09958506820882049\n"
     ]
    }
   ],
   "source": [
    "# full model\n",
    "X_train_full = old_ct.iloc[train_ind][full_model_features]\n",
    "y_train = old_ct.iloc[train_ind][[y]]\n",
    "\n",
    "X_test_full = old_ct.iloc[test_ind][full_model_features]\n",
    "y_test = old_ct.iloc[test_ind][[y]]\n",
    "\n",
    "if standardized:\n",
    "    X_train_full, X_test_full = standardize(X_train_full, X_test_full)\n",
    "\n",
    "reg_full = LinearRegression().fit(X_train_full,y_train)\n",
    "y_pred_train_full = reg_full.predict(X_train_full)\n",
    "y_pred_test_full = reg_full.predict(X_test_full)\n",
    "\n",
    "rmse_train_full = np.sqrt(mean_squared_error(y_train, y_pred_train_full))\n",
    "rmse_test_full = np.sqrt(mean_squared_error(y_test, y_pred_test_full))\n",
    "mape_train_full = mean_absolute_percentage_error(y_train, y_pred_train_full)*100\n",
    "mape_test_full = mean_absolute_percentage_error(y_test, y_pred_test_full)*100\n",
    "\n",
    "print(\"Full Basic Linear Regression Model\")\n",
    "# print(\"Training RMSE: \", np.sqrt(mean_squared_error(y_train, y_pred_train_full)))\n",
    "print(\"Test RMSE: \", np.sqrt(mean_squared_error(y_test, y_pred_test_full)))\n",
    "# print(\"Mean % Train Error: \", mean_absolute_percentage_error(y_train, y_pred_train_full))\n",
    "print(\"Mean % Test Error: \", mean_absolute_percentage_error(y_test, y_pred_test_full))"
   ]
  },
  {
   "cell_type": "code",
   "execution_count": 31,
   "id": "standing-moldova",
   "metadata": {},
   "outputs": [
    {
     "data": {
      "text/plain": [
       "Text(0.5, 1.0, 'Full Model Predicted vs. True Values')"
      ]
     },
     "execution_count": 31,
     "metadata": {},
     "output_type": "execute_result"
    },
    {
     "data": {
      "image/png": "[encoded data removed]",
      "text/plain": [
       "<Figure size 432x288 with 1 Axes>"
      ]
     },
     "metadata": {
      "needs_background": "light"
     },
     "output_type": "display_data"
    }
   ],
   "source": [
    "min_full = y_test.min()[0]\n",
    "max_full = y_test.max()[0]\n",
    "\n",
    "plt.scatter(y_test, y_pred_test_full)\n",
    "plt.plot([0, max_full], [0, max_full], color=\"red\")\n",
    "plt.xlabel(\"True Values\")\n",
    "plt.ylabel(\"Predicted Values\")\n",
    "plt.title(\"Full Model Predicted vs. True Values\")"
   ]
  },
  {
   "cell_type": "code",
   "execution_count": 32,
   "id": "duplicate-package",
   "metadata": {},
   "outputs": [
    {
     "name": "stdout",
     "output_type": "stream",
     "text": [
      "Full Elastic Net Model\n",
      "l1_ratio = 1.0\n",
      "Test RMSE:  94.27154913239778\n",
      "Test Mean Absolute % Error:  14.211187162262501\n"
     ]
    }
   ],
   "source": [
    "k_fold = 5\n",
    "l1_ratios = [i/20 for i in range(1, 21)]   #use this when testing different ratios\n",
    "#l1_ratios = [0.8]   #use this when using only the best ratio\n",
    "max_iter = 1000000\n",
    "random_state = 1\n",
    "test_size = 2\n",
    "tol = 0.0001\n",
    "\n",
    "models = []\n",
    "y_pred_trains = []\n",
    "y_pred_tests = []\n",
    "train_rmses = []\n",
    "test_rmses = []\n",
    "train_mapes = []\n",
    "test_mapes = []\n",
    "\n",
    "for l1_ratio in l1_ratios:\n",
    "    elasticnetcv = ElasticNetCV(\n",
    "        fit_intercept=True,\n",
    "        normalize=False,\n",
    "        alphas=None,\n",
    "        cv=k_fold,\n",
    "        l1_ratio=l1_ratio,\n",
    "        max_iter=max_iter,\n",
    "    )\n",
    "    elasticnetcv.fit(X_train_full, y_train.values.ravel())\n",
    "\n",
    "    elasticnet_full = ElasticNet(\n",
    "        fit_intercept=True,\n",
    "        normalize=False,\n",
    "        l1_ratio=elasticnetcv.l1_ratio_,\n",
    "        alpha=elasticnetcv.alpha_,\n",
    "        max_iter=max_iter,\n",
    "    )\n",
    "\n",
    "    elasticnet_full.fit(X_train_full, y_train.values.ravel())\n",
    "    y_pred_train_en_full = elasticnet_full.predict(X_train_full)\n",
    "    y_pred_test_en_full = elasticnet_full.predict(X_test_full)\n",
    "\n",
    "    rmse_train_en_full = np.sqrt(mean_squared_error(y_train, y_pred_train_en_full))\n",
    "    rmse_test_en_full = np.sqrt(mean_squared_error(y_test, y_pred_test_en_full))\n",
    "    mape_train_en_full = mean_absolute_percentage_error(y_train, y_pred_train_en_full)*100\n",
    "    mape_test_en_full = mean_absolute_percentage_error(y_test, y_pred_test_en_full)*100\n",
    "\n",
    "    models.append(elasticnet_full)\n",
    "    y_pred_trains.append(y_pred_train_en_full)\n",
    "    y_pred_tests.append(y_pred_test_en_full)\n",
    "    train_rmses.append(rmse_train_en_full)\n",
    "    test_rmses.append(rmse_test_en_full)\n",
    "    train_mapes.append(mape_train_en_full)\n",
    "    test_mapes.append(mape_test_en_full)\n",
    "\n",
    "best_model_index = test_rmses.index(min(test_rmses))\n",
    "\n",
    "elasticnet_full = models[best_model_index]\n",
    "y_pred_train_en_full = y_pred_trains[best_model_index]\n",
    "y_pred_test_en_full = y_pred_tests[best_model_index]\n",
    "rmse_train_full_en = train_rmses[best_model_index]\n",
    "rmse_test_full_en = test_rmses[best_model_index]\n",
    "l1_ratio_full = l1_ratios[best_model_index]\n",
    "mape_train_full_en = train_mapes[best_model_index]\n",
    "mape_test_full_en = test_mapes[best_model_index]\n",
    "\n",
    "print(\"Full Elastic Net Model\")\n",
    "print(\"l1_ratio =\", l1_ratio_full)\n",
    "print(\"Test RMSE: \", rmse_test_full_en)\n",
    "print(\"Test Mean Absolute % Error: \", mape_test_full_en)"
   ]
  },
  {
   "cell_type": "code",
   "execution_count": 33,
   "id": "suspended-suspension",
   "metadata": {},
   "outputs": [
    {
     "data": {
      "image/png": "[encoded data removed]",
      "text/plain": [
       "<Figure size 432x288 with 1 Axes>"
      ]
     },
     "metadata": {
      "needs_background": "light"
     },
     "output_type": "display_data"
    }
   ],
   "source": [
    "plt.scatter(l1_ratios, test_rmses)\n",
    "plt.title(\"Test RMSE by Ridge/Lasso Ratio (Full Model)\")\n",
    "plt.xlabel(\"L1 Ratio (0 = Ridge, 1 = Lasso)\")\n",
    "plt.ylabel(\"Test RMSE\");"
   ]
  },
  {
   "cell_type": "code",
   "execution_count": 34,
   "id": "alleged-fifth",
   "metadata": {},
   "outputs": [
    {
     "data": {
      "text/plain": [
       "Text(0.5, 1.0, 'Full Model Predicted vs. True Values (EN)')"
      ]
     },
     "execution_count": 34,
     "metadata": {},
     "output_type": "execute_result"
    },
    {
     "data": {
      "image/png": "[encoded data removed]",
      "text/plain": [
       "<Figure size 432x288 with 1 Axes>"
      ]
     },
     "metadata": {
      "needs_background": "light"
     },
     "output_type": "display_data"
    }
   ],
   "source": [
    "#Elastic Net\n",
    "min_full = y_test.min()[0]\n",
    "max_full = y_test.max()[0]\n",
    "\n",
    "plt.scatter(y_test, y_pred_test_en_full)\n",
    "plt.plot([0, max_full], [0, max_full], color=\"red\")\n",
    "plt.xlabel(\"True Values\")\n",
    "plt.ylabel(\"Predicted Values\")\n",
    "plt.title(\"Full Model Predicted vs. True Values (EN)\")"
   ]
  },
  {
   "cell_type": "markdown",
   "id": "welsh-silver",
   "metadata": {},
   "source": [
    "#### From paper (Full Model)\n",
    "* Training RMSE: 51\n",
    "* Test RMSE: 118\n",
    "* Mean % Train Error: 5.6\n",
    "* Mean % Test Error: 14.1"
   ]
  },
  {
   "cell_type": "markdown",
   "id": "alien-green",
   "metadata": {},
   "source": [
    "### Old Data Plots"
   ]
  },
  {
   "cell_type": "code",
   "execution_count": 35,
   "id": "aggressive-confusion",
   "metadata": {},
   "outputs": [
    {
     "data": {
      "image/png": "[encoded data removed]",
      "text/plain": [
       "<Figure size 432x288 with 1 Axes>"
      ]
     },
     "metadata": {
      "needs_background": "light"
     },
     "output_type": "display_data"
    }
   ],
   "source": [
    "plt.hist(old_ct[y])\n",
    "plt.ylabel('Frequency')\n",
    "if ct:\n",
    "    plt.xlabel('Charge Throughput')\n",
    "    plt.title('Frequency of Charge Throughput')\n",
    "else:\n",
    "    plt.xlabel('Cycle Life')\n",
    "    plt.title('Frequency of Cycle Life')"
   ]
  },
  {
   "cell_type": "code",
   "execution_count": 36,
   "id": "preceding-inspector",
   "metadata": {},
   "outputs": [],
   "source": [
    "old_data_metrics = pd.DataFrame(data = {\"Model & Source\": [\"Var (Linear)\", \"Var (E.N.)\", \"Var (Paper)\",\n",
    "                                                           \"Disc (Linear)\", \"Disc (E.N.)\", \"Disc (Paper)\",\n",
    "                                                           \"Full (Linear)\", \"Full (E.N.)\", \"Full (Paper)\"],\n",
    "                               \n",
    "                               \"Model\": [\"Variance\", \"Variance\", \"Variance\",\n",
    "                                         \"Discharge\", \"Discharge\", \"Discharge\",\n",
    "                                         \"Full\", \"Full\", \"Full\"],\n",
    "                                        \n",
    "                               \"Source\": [\"Us (Basic Linear)\", \"Us (Elastic Net)\", \"Paper (Elastic Net)\",\n",
    "                                          \"Us (Basic Linear)\", \"Us (Elastic Net)\", \"Paper (Elastic Net)\",\n",
    "                                          \"Us (Basic Linear)\", \"Us (Elastic Net)\", \"Paper (Elastic Net)\"],\n",
    "                                        \n",
    "                               \"Train RMSE\": [rmse_train_var, rmse_train_var_en, 103,\n",
    "                                              rmse_train_dis, rmse_train_dis_en, 76,\n",
    "                                              rmse_train_full, rmse_train_full_en, 51],\n",
    "                               \n",
    "                               \"Test RMSE\": [rmse_test_var, rmse_test_var_en, 138,\n",
    "                                             rmse_test_dis, rmse_test_dis_en, 91, \n",
    "                                             rmse_test_full, rmse_test_full_en, 118],\n",
    "                               \n",
    "                               \"Mean % Train Error\": [mape_train_var, mape_train_var_en, 14.1,\n",
    "                                                      mape_train_dis, mape_train_dis_en, 9.8,\n",
    "                                                      mape_train_full, mape_train_full_en, 5.6],\n",
    "                               \n",
    "                               \"Mean % Test Error\": [mape_test_var, mape_test_var_en, 14.7,\n",
    "                                                     mape_test_dis, mape_test_dis_en, 13.0,\n",
    "                                                     mape_test_full, mape_test_full_en, 14.1]})"
   ]
  },
  {
   "cell_type": "code",
   "execution_count": 37,
   "id": "solar-pharmacology",
   "metadata": {},
   "outputs": [
    {
     "data": {
      "image/png": "[encoded data removed]",
      "text/plain": [
       "<Figure size 480.375x360 with 1 Axes>"
      ]
     },
     "metadata": {
      "needs_background": "light"
     },
     "output_type": "display_data"
    },
    {
     "data": {
      "image/png": "[encoded data removed]",
      "text/plain": [
       "<Figure size 480.375x360 with 1 Axes>"
      ]
     },
     "metadata": {
      "needs_background": "light"
     },
     "output_type": "display_data"
    },
    {
     "data": {
      "image/png": "[encoded data removed]",
      "text/plain": [
       "<Figure size 480.375x360 with 1 Axes>"
      ]
     },
     "metadata": {
      "needs_background": "light"
     },
     "output_type": "display_data"
    },
    {
     "data": {
      "image/png": "[encoded data removed]",
      "text/plain": [
       "<Figure size 480.375x360 with 1 Axes>"
      ]
     },
     "metadata": {
      "needs_background": "light"
     },
     "output_type": "display_data"
    }
   ],
   "source": [
    "if ct:\n",
    "    old_data_metrics = old_data_metrics.iloc[[0,1,3,4,6,7]]\n",
    "for column in old_data_metrics.columns[3:]:\n",
    "    sns.catplot(data = old_data_metrics, kind=\"bar\",\n",
    "               x = \"Model\", y = column, hue = \"Source\")\n",
    "    plt.title(column + \" Comparison\")"
   ]
  },
  {
   "cell_type": "code",
   "execution_count": 38,
   "id": "written-fortune",
   "metadata": {},
   "outputs": [],
   "source": [
    "#Removing internal_resistance features for models with new data\n",
    "if ir:\n",
    "    full_model_features.remove('X.min_internal_resistance_cycles_2:100')\n",
    "    full_model_features.remove('X.internal_resistance_difference_cycles_2:100')\n",
    "    \n",
    "    if standardized:\n",
    "        all_model_features.remove('X.min_internal_resistance_cycles_2:100')\n",
    "        all_model_features.remove('X.internal_resistance_difference_cycles_2:100')"
   ]
  },
  {
   "cell_type": "markdown",
   "id": "superb-rocket",
   "metadata": {},
   "source": [
    "## New Data"
   ]
  },
  {
   "cell_type": "code",
   "execution_count": 39,
   "id": "played-calendar",
   "metadata": {},
   "outputs": [],
   "source": [
    "new_df = pd.read_csv(path + \"NewData/LFPBatteries.csv\")\n",
    "\n",
    "if new_chemistries:\n",
    "    nca = pd.read_csv(path + \"NewData/NCABatteries.csv\")\n",
    "    nmc = pd.read_csv(path + \"NewData/NMCBatteries.csv\")\n",
    "    \n",
    "    new_df = pd.concat([new_df, nca, nmc], ignore_index=True)\n",
    "    \n",
    "    chemistries = [\"X.LFP\", \"X.NCA\", \"X.NMC\"]\n",
    "    \n",
    "    if chem_sources:\n",
    "        variance_model_features = variance_model_features + chemistries\n",
    "        discharge_model_features = discharge_model_features + chemistries\n",
    "        full_model_features = full_model_features + chemistries"
   ]
  },
  {
   "cell_type": "code",
   "execution_count": 40,
   "id": "remarkable-modification",
   "metadata": {},
   "outputs": [],
   "source": [
    "new_ct_full = new_df.merge(how = 'inner',right = new_ct, left_index = True, right_index=True)\n",
    "new_ct_full = new_ct_full.add_prefix('X.')\n",
    "new_ct_full.rename(columns={\"X.charge_throughput\": \"charge_throughput\"}, inplace=True)\n",
    "new_ct_full.rename(columns={\"X.capacity_0.8\": \"cycle_index\"}, inplace=True)"
   ]
  },
  {
   "cell_type": "code",
   "execution_count": 41,
   "id": "temporal-broadcasting",
   "metadata": {},
   "outputs": [],
   "source": [
    "train_ind = [i for i in range(1, len(new_ct_full), 2)]\n",
    "test_ind = [i for i in range(0, len(new_ct_full), 2)]"
   ]
  },
  {
   "cell_type": "code",
   "execution_count": 42,
   "id": "quality-morgan",
   "metadata": {},
   "outputs": [],
   "source": [
    "if standardized:\n",
    "    if old_new_scaler:\n",
    "        if new_chemistries & chem_sources:\n",
    "            all_model_features = all_model_features + chemistries\n",
    "        X_train_all_new = new_ct_full.iloc[train_ind][all_model_features].replace([np.inf, -np.inf, 0], np.nan)\n",
    "        X_train_all_new.dropna(axis=0, inplace=True)\n",
    "        X_test_all_new = new_ct_full.iloc[test_ind][all_model_features].replace([np.inf, -np.inf, 0], np.nan)\n",
    "        X_test_all_new.dropna(axis=0, inplace=True)\n",
    "\n",
    "        X_train_all_new, X_test_all_new = standardize(X_train_all_new, X_test_all_new)\n",
    "\n",
    "        X_train_all_new[\"charge_throughput\"] = new_ct_full.iloc[train_ind][\"charge_throughput\"]\n",
    "        X_test_all_new[\"charge_throughput\"] = new_ct_full.iloc[test_ind][\"charge_throughput\"]\n",
    "\n",
    "        X_all_new = X_train_all_new.append(X_test_all_new)"
   ]
  },
  {
   "cell_type": "markdown",
   "id": "chicken-baptist",
   "metadata": {},
   "source": [
    "### Variance Model"
   ]
  },
  {
   "cell_type": "code",
   "execution_count": 43,
   "id": "activated-harris",
   "metadata": {},
   "outputs": [],
   "source": [
    "# Variance model\n",
    "X_train_var = new_ct_full.iloc[train_ind][variance_model_features]\n",
    "X_train_var.dropna(axis=0, inplace=True)\n",
    "y_train = new_ct_full.iloc[X_train_var.index][[y]]\n",
    "\n",
    "X_test_var = new_ct_full.iloc[test_ind][variance_model_features]\n",
    "X_test_var.dropna(axis=0, inplace=True)\n",
    "y_test = new_ct_full.iloc[X_test_var.index][[y]]\n",
    "\n",
    "if standardized:\n",
    "    X_train_var, X_test_var = standardize(X_train_var, X_test_var)"
   ]
  },
  {
   "cell_type": "code",
   "execution_count": 44,
   "id": "posted-screening",
   "metadata": {},
   "outputs": [
    {
     "name": "stdout",
     "output_type": "stream",
     "text": [
      "Variance Basic Linear Regression Model\n",
      "Test RMSE:  1415.2480495542145\n",
      "Mean % Test Error:  52.17909543070982\n"
     ]
    }
   ],
   "source": [
    "reg_var = LinearRegression().fit(X_train_var,y_train)\n",
    "y_pred_train_var = reg_var.predict(X_train_var)\n",
    "y_pred_test_var = reg_var.predict(X_test_var)\n",
    "\n",
    "rmse_train_var = np.sqrt(mean_squared_error(y_train, y_pred_train_var))\n",
    "rmse_test_var = np.sqrt(mean_squared_error(y_test, y_pred_test_var))\n",
    "mape_train_var = mean_absolute_percentage_error(y_train, y_pred_train_var)*100\n",
    "mape_test_var = mean_absolute_percentage_error(y_test, y_pred_test_var)*100\n",
    "\n",
    "print(\"Variance Basic Linear Regression Model\")\n",
    "# print(\"Training RMSE: \", rmse_train_var)\n",
    "print(\"Test RMSE: \", rmse_test_var)\n",
    "# print(\"Mean % Train Error: \", mape_train_var)\n",
    "print(\"Mean % Test Error: \", mape_test_var)"
   ]
  },
  {
   "cell_type": "code",
   "execution_count": 45,
   "id": "changing-appendix",
   "metadata": {},
   "outputs": [
    {
     "data": {
      "text/plain": [
       "Text(0.5, 1.0, 'Variance Model Predicted vs. True Values (LR)')"
      ]
     },
     "execution_count": 45,
     "metadata": {},
     "output_type": "execute_result"
    },
    {
     "data": {
      "image/png": "[encoded data removed]",
      "text/plain": [
       "<Figure size 432x288 with 1 Axes>"
      ]
     },
     "metadata": {
      "needs_background": "light"
     },
     "output_type": "display_data"
    }
   ],
   "source": [
    "# Linear Regression\n",
    "max_var = y_test.max()[0]\n",
    "\n",
    "plt.scatter(y_test, y_pred_test_var)\n",
    "plt.plot([0, max_var], [0, max_var], color=\"red\")\n",
    "plt.xlabel(\"True Values\")\n",
    "plt.ylabel(\"Predicted Values\")\n",
    "plt.title(\"Variance Model Predicted vs. True Values (LR)\")"
   ]
  },
  {
   "cell_type": "code",
   "execution_count": 46,
   "id": "dated-supervision",
   "metadata": {},
   "outputs": [
    {
     "name": "stdout",
     "output_type": "stream",
     "text": [
      "Variance Elastic Net Model\n",
      "l1_ratio = 0.05\n",
      "Test RMSE:  1536.2683472586784\n",
      "Test Mean Absolute % Error:  61.11142514832755\n"
     ]
    }
   ],
   "source": [
    "k_fold = 5\n",
    "l1_ratios = [i/20 for i in range(1, 21)]\n",
    "max_iter = 1000000\n",
    "random_state = 1\n",
    "test_size = 2\n",
    "tol = 0.0001\n",
    "\n",
    "models = []\n",
    "y_pred_trains = []\n",
    "y_pred_tests = []\n",
    "train_rmses = []\n",
    "test_rmses = []\n",
    "train_mapes = []\n",
    "test_mapes = []\n",
    "\n",
    "for l1_ratio in l1_ratios:\n",
    "    elasticnetcv = ElasticNetCV(\n",
    "        fit_intercept=True,\n",
    "        normalize=False,\n",
    "        alphas=None,\n",
    "        cv=k_fold,\n",
    "        l1_ratio=l1_ratio,\n",
    "        max_iter=max_iter,\n",
    "    )\n",
    "    elasticnetcv.fit(X_train_var, y_train.values.ravel())\n",
    "\n",
    "    elasticnet_var = ElasticNet(\n",
    "        fit_intercept=True,\n",
    "        normalize=False,\n",
    "        l1_ratio=elasticnetcv.l1_ratio_,\n",
    "        alpha=elasticnetcv.alpha_,\n",
    "        max_iter=max_iter,\n",
    "    )\n",
    "\n",
    "    elasticnet_var.fit(X_train_var, y_train.values.ravel())\n",
    "    y_pred_train_en_var = elasticnet_var.predict(X_train_var)\n",
    "    y_pred_test_en_var = elasticnet_var.predict(X_test_var)\n",
    "\n",
    "    rmse_train_en_var = np.sqrt(mean_squared_error(y_train, y_pred_train_en_var))\n",
    "    rmse_test_en_var = np.sqrt(mean_squared_error(y_test, y_pred_test_en_var))\n",
    "    mape_train_en_var = mean_absolute_percentage_error(y_train, y_pred_train_en_var)*100\n",
    "    mape_test_en_var = mean_absolute_percentage_error(y_test, y_pred_test_en_var)*100\n",
    "\n",
    "    models.append(elasticnet_var)\n",
    "    y_pred_trains.append(y_pred_train_en_var)\n",
    "    y_pred_tests.append(y_pred_test_en_var)\n",
    "    train_rmses.append(rmse_train_en_var)\n",
    "    test_rmses.append(rmse_test_en_var)\n",
    "    train_mapes.append(mape_train_en_var)\n",
    "    test_mapes.append(mape_test_en_var)\n",
    "\n",
    "best_model_index = test_rmses.index(min(test_rmses))\n",
    "\n",
    "elasticnet_var = models[best_model_index]\n",
    "y_pred_train_en_var = y_pred_trains[best_model_index]\n",
    "y_pred_test_en_var = y_pred_tests[best_model_index]\n",
    "rmse_train_var_en = train_rmses[best_model_index]\n",
    "rmse_test_var_en = test_rmses[best_model_index]\n",
    "l1_ratio_var = l1_ratios[best_model_index]\n",
    "mape_train_var_en = train_mapes[best_model_index]\n",
    "mape_test_var_en = test_mapes[best_model_index]\n",
    "\n",
    "print(\"Variance Elastic Net Model\")\n",
    "print(\"l1_ratio =\", l1_ratio_var)\n",
    "print(\"Test RMSE: \", rmse_test_var_en)\n",
    "print(\"Test Mean Absolute % Error: \", mape_test_var_en)"
   ]
  },
  {
   "cell_type": "code",
   "execution_count": 47,
   "id": "developmental-examination",
   "metadata": {},
   "outputs": [
    {
     "data": {
      "image/png": "[encoded data removed]",
      "text/plain": [
       "<Figure size 432x288 with 1 Axes>"
      ]
     },
     "metadata": {
      "needs_background": "light"
     },
     "output_type": "display_data"
    }
   ],
   "source": [
    "coeffs = np.polyfit(l1_ratios, test_rmses, 3)\n",
    "vals = [coeffs[0]*val**3 + coeffs[1]*val**2 + coeffs[2]*val + coeffs[3] for val in l1_ratios]\n",
    "\n",
    "plt.scatter(l1_ratios, test_rmses)\n",
    "plt.plot(l1_ratios, vals)\n",
    "plt.title(\"Test RMSE by Ridge/Lasso Ratio (Variance Model)\")\n",
    "plt.xlabel(\"L1 Ratio (0 = Ridge, 1 = Lasso)\")\n",
    "plt.ylabel(\"Test RMSE\");"
   ]
  },
  {
   "cell_type": "code",
   "execution_count": 48,
   "id": "acting-sodium",
   "metadata": {},
   "outputs": [
    {
     "data": {
      "text/plain": [
       "Text(0.5, 1.0, 'Variance Model Predicted vs. True Values (EN)')"
      ]
     },
     "execution_count": 48,
     "metadata": {},
     "output_type": "execute_result"
    },
    {
     "data": {
      "image/png": "[encoded data removed]",
      "text/plain": [
       "<Figure size 432x288 with 1 Axes>"
      ]
     },
     "metadata": {
      "needs_background": "light"
     },
     "output_type": "display_data"
    }
   ],
   "source": [
    "#Elastic Net\n",
    "min_var = y_test.min()[0]\n",
    "max_var = y_test.max()[0]\n",
    "\n",
    "plt.scatter(y_test, y_pred_test_en_var)\n",
    "plt.plot([0, max_var], [0, max_var], color=\"red\")\n",
    "plt.xlabel(\"True Values\")\n",
    "plt.ylabel(\"Predicted Values\")\n",
    "plt.title(\"Variance Model Predicted vs. True Values (EN)\")"
   ]
  },
  {
   "cell_type": "markdown",
   "id": "parental-pencil",
   "metadata": {},
   "source": [
    "### Discharge Model"
   ]
  },
  {
   "cell_type": "code",
   "execution_count": 49,
   "id": "freelance-class",
   "metadata": {},
   "outputs": [
    {
     "name": "stdout",
     "output_type": "stream",
     "text": [
      "Discharge Basic Linear Regression Model\n",
      "Test RMSE:  1175.1407569924484\n",
      "Mean % Test Error:  0.3424423551140783\n"
     ]
    }
   ],
   "source": [
    "# discharge model\n",
    "X_train_dis = new_ct_full.iloc[train_ind][discharge_model_features].replace([np.inf, -np.inf, 0], np.nan)\n",
    "X_train_dis.dropna(axis=0, inplace=True)\n",
    "y_train = new_ct_full.iloc[X_train_dis.index][[y]]\n",
    "\n",
    "X_test_dis = new_ct_full.iloc[test_ind][discharge_model_features].replace([np.inf, -np.inf, 0], np.nan)\n",
    "X_test_dis.dropna(axis=0, inplace=True)\n",
    "y_test = new_ct_full.iloc[X_test_dis.index][[y]]\n",
    "\n",
    "if standardized:\n",
    "    X_train_dis, X_test_dis = standardize(X_train_dis, X_test_dis)\n",
    "\n",
    "reg_dis = LinearRegression().fit(X_train_dis,y_train)\n",
    "y_pred_train_dis = reg_dis.predict(X_train_dis)\n",
    "y_pred_test_dis = reg_dis.predict(X_test_dis)\n",
    "\n",
    "rmse_train_dis = np.sqrt(mean_squared_error(y_train, y_pred_train_dis))\n",
    "rmse_test_dis = np.sqrt(mean_squared_error(y_test, y_pred_test_dis))\n",
    "mape_train_dis = mean_absolute_percentage_error(y_train, y_pred_train_dis)*100\n",
    "mape_test_dis = mean_absolute_percentage_error(y_test, y_pred_test_dis)*100\n",
    "\n",
    "print(\"Discharge Basic Linear Regression Model\")\n",
    "# print(\"Training RMSE: \", np.sqrt(mean_squared_error(y_train, y_pred_train_dis)))\n",
    "print(\"Test RMSE: \", np.sqrt(mean_squared_error(y_test, y_pred_test_dis)))\n",
    "# print(\"Mean % Train Error: \", mean_absolute_percentage_error(y_train, y_pred_train_dis))\n",
    "print(\"Mean % Test Error: \", mean_absolute_percentage_error(y_test, y_pred_test_dis))"
   ]
  },
  {
   "cell_type": "code",
   "execution_count": 50,
   "id": "cutting-diamond",
   "metadata": {},
   "outputs": [
    {
     "data": {
      "text/plain": [
       "Text(0.5, 1.0, 'Discharge Model Predicted vs. True Values (LR)')"
      ]
     },
     "execution_count": 50,
     "metadata": {},
     "output_type": "execute_result"
    },
    {
     "data": {
      "image/png": "[encoded data removed]",
      "text/plain": [
       "<Figure size 432x288 with 1 Axes>"
      ]
     },
     "metadata": {
      "needs_background": "light"
     },
     "output_type": "display_data"
    }
   ],
   "source": [
    "# Linear Regression\n",
    "max_dis = y_test.max()[0]\n",
    "\n",
    "plt.scatter(y_test, y_pred_test_dis)\n",
    "plt.plot([0, max_dis], [0, max_dis], color=\"red\")\n",
    "plt.xlabel(\"True Values\")\n",
    "plt.ylabel(\"Predicted Values\")\n",
    "plt.title(\"Discharge Model Predicted vs. True Values (LR)\")"
   ]
  },
  {
   "cell_type": "code",
   "execution_count": 51,
   "id": "multiple-median",
   "metadata": {},
   "outputs": [
    {
     "name": "stdout",
     "output_type": "stream",
     "text": [
      "Discharge Elastic Net Model\n",
      "l1_ratio = 0.95\n",
      "Test RMSE:  1257.0408360920376\n",
      "Test Mean Absolute % Error:  44.39443793351402\n"
     ]
    }
   ],
   "source": [
    "k_fold = 5\n",
    "l1_ratios = [i/20 for i in range(1, 21)]\n",
    "max_iter = 1000000\n",
    "random_state = 1\n",
    "test_size = 2\n",
    "tol = 0.0001\n",
    "\n",
    "models = []\n",
    "y_pred_trains = []\n",
    "y_pred_tests = []\n",
    "train_rmses = []\n",
    "test_rmses = []\n",
    "train_mapes = []\n",
    "test_mapes = []\n",
    "\n",
    "for l1_ratio in l1_ratios:\n",
    "    elasticnetcv = ElasticNetCV(\n",
    "        fit_intercept=True,\n",
    "        normalize=False,\n",
    "        alphas=None,\n",
    "        cv=k_fold,\n",
    "        l1_ratio=l1_ratio,\n",
    "        max_iter=max_iter,\n",
    "    )\n",
    "    elasticnetcv.fit(X_train_dis, y_train.values.ravel())\n",
    "\n",
    "    elasticnet_dis = ElasticNet(\n",
    "        fit_intercept=True,\n",
    "        normalize=False,\n",
    "        l1_ratio=elasticnetcv.l1_ratio_,\n",
    "        alpha=elasticnetcv.alpha_,\n",
    "        max_iter=max_iter,\n",
    "    )\n",
    "\n",
    "    elasticnet_dis.fit(X_train_dis, y_train.values.ravel())\n",
    "    y_pred_train_en_dis = elasticnet_dis.predict(X_train_dis)\n",
    "    y_pred_test_en_dis = elasticnet_dis.predict(X_test_dis)\n",
    "\n",
    "    rmse_train_en_dis = np.sqrt(mean_squared_error(y_train, y_pred_train_en_dis))\n",
    "    rmse_test_en_dis = np.sqrt(mean_squared_error(y_test, y_pred_test_en_dis))\n",
    "    mape_train_en_dis = mean_absolute_percentage_error(y_train, y_pred_train_en_dis)*100\n",
    "    mape_test_en_dis = mean_absolute_percentage_error(y_test, y_pred_test_en_dis)*100\n",
    "\n",
    "    models.append(elasticnet_dis)\n",
    "    y_pred_trains.append(y_pred_train_en_dis)\n",
    "    y_pred_tests.append(y_pred_test_en_dis)\n",
    "    train_rmses.append(rmse_train_en_dis)\n",
    "    test_rmses.append(rmse_test_en_dis)\n",
    "    train_mapes.append(mape_train_en_dis)\n",
    "    test_mapes.append(mape_test_en_dis)\n",
    "\n",
    "best_model_index = test_rmses.index(min(test_rmses))\n",
    "\n",
    "elasticnet_dis = models[best_model_index]\n",
    "y_pred_train_en_dis = y_pred_trains[best_model_index]\n",
    "y_pred_test_en_dis = y_pred_tests[best_model_index]\n",
    "rmse_train_dis_en = train_rmses[best_model_index]\n",
    "rmse_test_dis_en = test_rmses[best_model_index]\n",
    "l1_ratio_dis = l1_ratios[best_model_index]\n",
    "mape_train_dis_en = train_mapes[best_model_index]\n",
    "mape_test_dis_en = test_mapes[best_model_index]\n",
    "\n",
    "print(\"Discharge Elastic Net Model\")\n",
    "print(\"l1_ratio =\", l1_ratio_dis)\n",
    "print(\"Test RMSE: \", rmse_test_dis_en)\n",
    "print(\"Test Mean Absolute % Error: \", mape_test_dis_en)"
   ]
  },
  {
   "cell_type": "code",
   "execution_count": 52,
   "id": "residential-drilling",
   "metadata": {},
   "outputs": [
    {
     "data": {
      "image/png": "[encoded data removed]",
      "text/plain": [
       "<Figure size 432x288 with 1 Axes>"
      ]
     },
     "metadata": {
      "needs_background": "light"
     },
     "output_type": "display_data"
    }
   ],
   "source": [
    "# coeffs = np.polyfit(l1_ratios, test_rmses, 3)\n",
    "# vals = [coeffs[0]*val**3 + coeffs[1]*val**2 + coeffs[2]*val + coeffs[3] for val in l1_ratios[:-1]]\n",
    "\n",
    "plt.scatter(l1_ratios, test_rmses)\n",
    "# plt.plot(l1_ratios[:-1], vals)\n",
    "plt.title(\"Test RMSE by Ridge/Lasso Ratio (Discharge Model)\")\n",
    "plt.xlabel(\"L1 Ratio (0 = Ridge, 1 = Lasso)\")\n",
    "plt.ylabel(\"Test RMSE\");"
   ]
  },
  {
   "cell_type": "code",
   "execution_count": 53,
   "id": "therapeutic-advice",
   "metadata": {},
   "outputs": [
    {
     "data": {
      "text/plain": [
       "(0.0, 7500.0)"
      ]
     },
     "execution_count": 53,
     "metadata": {},
     "output_type": "execute_result"
    },
    {
     "data": {
      "image/png": "[encoded data removed]",
      "text/plain": [
       "<Figure size 432x288 with 1 Axes>"
      ]
     },
     "metadata": {
      "needs_background": "light"
     },
     "output_type": "display_data"
    }
   ],
   "source": [
    "#Elastic Net\n",
    "max_dis = y_test.max()[0]\n",
    "\n",
    "plt.scatter(y_test, y_pred_test_en_dis)\n",
    "plt.plot([0, max_dis], [0, max_dis], color=\"red\")\n",
    "plt.xlabel(\"True Values\")\n",
    "plt.ylabel(\"Predicted Values\")\n",
    "plt.title(\"Discharge Model Predicted vs. True Values (EN)\")\n",
    "plt.ylim(0,7500)\n",
    "plt.xlim(0,7500)"
   ]
  },
  {
   "cell_type": "markdown",
   "id": "sustainable-function",
   "metadata": {},
   "source": [
    "### Full Model"
   ]
  },
  {
   "cell_type": "code",
   "execution_count": 54,
   "id": "blocked-wayne",
   "metadata": {},
   "outputs": [
    {
     "name": "stdout",
     "output_type": "stream",
     "text": [
      "Full Basic Linear Regression Model\n",
      "Test RMSE:  1323.583577820373\n",
      "Mean % Test Error:  0.47892705169572763\n"
     ]
    }
   ],
   "source": [
    "# full model\n",
    "X_train_full = new_ct_full.iloc[train_ind][full_model_features].replace([np.inf, -np.inf, 0], np.nan)\n",
    "X_train_full.dropna(axis=0, inplace=True) \n",
    "y_train = new_ct_full.iloc[X_train_full.index][[y]]\n",
    "\n",
    "X_test_full = new_ct_full.iloc[test_ind][full_model_features].replace([np.inf, -np.inf, 0], np.nan)\n",
    "X_test_full.dropna(axis=0, inplace=True) \n",
    "y_test = new_ct_full.iloc[X_test_full.index][[y]]\n",
    "\n",
    "if standardized:\n",
    "    X_train_full, X_test_full = standardize(X_train_full, X_test_full)\n",
    "\n",
    "reg_full = LinearRegression().fit(X_train_full,y_train)\n",
    "y_pred_train_full = reg_full.predict(X_train_full)\n",
    "y_pred_test_full = reg_full.predict(X_test_full)\n",
    "\n",
    "rmse_train_full = np.sqrt(mean_squared_error(y_train, y_pred_train_full))\n",
    "rmse_test_full = np.sqrt(mean_squared_error(y_test, y_pred_test_full))\n",
    "mape_train_full = mean_absolute_percentage_error(y_train, y_pred_train_full)*100\n",
    "mape_test_full = mean_absolute_percentage_error(y_test, y_pred_test_full)*100\n",
    "\n",
    "print(\"Full Basic Linear Regression Model\")\n",
    "# print(\"Training RMSE: \", np.sqrt(mean_squared_error(y_train, y_pred_train_full)))\n",
    "print(\"Test RMSE: \", np.sqrt(mean_squared_error(y_test, y_pred_test_full)))\n",
    "# print(\"Mean % Train Error: \", mean_absolute_percentage_error(y_train, y_pred_train_full))\n",
    "print(\"Mean % Test Error: \", mean_absolute_percentage_error(y_test, y_pred_test_full))"
   ]
  },
  {
   "cell_type": "code",
   "execution_count": 55,
   "id": "unavailable-cassette",
   "metadata": {},
   "outputs": [
    {
     "data": {
      "text/plain": [
       "Text(0.5, 1.0, 'Full Model Predicted vs. True Values (LR)')"
      ]
     },
     "execution_count": 55,
     "metadata": {},
     "output_type": "execute_result"
    },
    {
     "data": {
      "image/png": "[encoded data removed]",
      "text/plain": [
       "<Figure size 432x288 with 1 Axes>"
      ]
     },
     "metadata": {
      "needs_background": "light"
     },
     "output_type": "display_data"
    }
   ],
   "source": [
    "#Linear Regression\n",
    "min_full = y_test.min()[0]\n",
    "max_full = y_test.max()[0]\n",
    "\n",
    "plt.scatter(y_test, y_pred_test_full)\n",
    "plt.plot([0, max_full], [0, max_full], color=\"red\")\n",
    "plt.xlabel(\"True Values\")\n",
    "plt.ylabel(\"Predicted Values\")\n",
    "plt.title(\"Full Model Predicted vs. True Values (LR)\")"
   ]
  },
  {
   "cell_type": "code",
   "execution_count": 56,
   "id": "crazy-hospital",
   "metadata": {},
   "outputs": [
    {
     "name": "stdout",
     "output_type": "stream",
     "text": [
      "Full Elastic Net Model\n",
      "l1_ratio = 1.0\n",
      "Test RMSE:  1440.1316879228134\n",
      "Test Mean Absolute % Error:  51.0002744517273\n"
     ]
    }
   ],
   "source": [
    "k_fold = 5\n",
    "l1_ratios = [i/20 for i in range(1, 21)]   #use this when testing different ratios\n",
    "#l1_ratios = [0.8]   #use this when using only the best ratio\n",
    "max_iter = 1000000\n",
    "random_state = 1\n",
    "test_size = 2\n",
    "tol = 0.0001\n",
    "\n",
    "models = []\n",
    "y_pred_trains = []\n",
    "y_pred_tests = []\n",
    "train_rmses = []\n",
    "test_rmses = []\n",
    "train_mapes = []\n",
    "test_mapes = []\n",
    "\n",
    "for l1_ratio in l1_ratios:\n",
    "    elasticnetcv = ElasticNetCV(\n",
    "        fit_intercept=True,\n",
    "        normalize=False,\n",
    "        alphas=None,\n",
    "        cv=k_fold,\n",
    "        l1_ratio=l1_ratio,\n",
    "        max_iter=max_iter,\n",
    "    )\n",
    "    \n",
    "    elasticnetcv.fit(X_train_full, y_train.values.ravel())\n",
    "\n",
    "    elasticnet_full = ElasticNet(\n",
    "        fit_intercept=True,\n",
    "        normalize=False,\n",
    "        l1_ratio=elasticnetcv.l1_ratio_,\n",
    "        alpha=elasticnetcv.alpha_,\n",
    "        max_iter=max_iter,\n",
    "    )\n",
    "    \n",
    "    elasticnet_full.fit(X_train_full, y_train.values.ravel())\n",
    "    y_pred_train_en_full = elasticnet_full.predict(X_train_full)\n",
    "    y_pred_test_en_full = elasticnet_full.predict(X_test_full)\n",
    "\n",
    "    rmse_train_en_full = np.sqrt(mean_squared_error(y_train, y_pred_train_en_full))\n",
    "    rmse_test_en_full = np.sqrt(mean_squared_error(y_test, y_pred_test_en_full))\n",
    "    mape_train_en_full = mean_absolute_percentage_error(y_train, y_pred_train_en_full)*100\n",
    "    mape_test_en_full = mean_absolute_percentage_error(y_test, y_pred_test_en_full)*100\n",
    "\n",
    "    models.append(elasticnet_full)\n",
    "    y_pred_trains.append(y_pred_train_en_full)\n",
    "    y_pred_tests.append(y_pred_test_en_full)\n",
    "    train_rmses.append(rmse_train_en_full)\n",
    "    test_rmses.append(rmse_test_en_full)\n",
    "    train_mapes.append(mape_train_en_full)\n",
    "    test_mapes.append(mape_test_en_full)\n",
    "\n",
    "best_model_index = test_rmses.index(min(test_rmses))\n",
    "\n",
    "elasticnet_full = models[best_model_index]\n",
    "y_pred_train_en_full = y_pred_trains[best_model_index]\n",
    "y_pred_test_en_full = y_pred_tests[best_model_index]\n",
    "rmse_train_full_en = train_rmses[best_model_index]\n",
    "rmse_test_full_en = test_rmses[best_model_index]\n",
    "l1_ratio_full = l1_ratios[best_model_index]\n",
    "mape_train_full_en = train_mapes[best_model_index]\n",
    "mape_test_full_en = test_mapes[best_model_index]\n",
    "\n",
    "print(\"Full Elastic Net Model\")\n",
    "print(\"l1_ratio =\", l1_ratio_full)\n",
    "print(\"Test RMSE: \", rmse_test_full_en)\n",
    "print(\"Test Mean Absolute % Error: \", mape_test_full_en)"
   ]
  },
  {
   "cell_type": "code",
   "execution_count": 57,
   "id": "nutritional-lexington",
   "metadata": {
    "scrolled": true
   },
   "outputs": [
    {
     "data": {
      "image/png": "[encoded data removed]",
      "text/plain": [
       "<Figure size 432x288 with 1 Axes>"
      ]
     },
     "metadata": {
      "needs_background": "light"
     },
     "output_type": "display_data"
    }
   ],
   "source": [
    "plt.scatter(l1_ratios, test_rmses)\n",
    "plt.title(\"Test RMSE by Ridge/Lasso Ratio (Full Model)\")\n",
    "plt.xlabel(\"L1 Ratio (0 = Ridge, 1 = Lasso)\")\n",
    "plt.ylabel(\"Test RMSE\");"
   ]
  },
  {
   "cell_type": "code",
   "execution_count": 58,
   "id": "presidential-woman",
   "metadata": {},
   "outputs": [
    {
     "data": {
      "text/plain": [
       "(0.0, 7500.0)"
      ]
     },
     "execution_count": 58,
     "metadata": {},
     "output_type": "execute_result"
    },
    {
     "data": {
      "image/png": "[encoded data removed]",
      "text/plain": [
       "<Figure size 432x288 with 1 Axes>"
      ]
     },
     "metadata": {
      "needs_background": "light"
     },
     "output_type": "display_data"
    }
   ],
   "source": [
    "#Elastic Net\n",
    "max_full = y_test.max()[0]\n",
    "\n",
    "plt.scatter(y_test, y_pred_test_en_full)\n",
    "plt.plot([0, max_full], [0, max_full], color=\"red\")\n",
    "plt.xlabel(\"True Values\")\n",
    "plt.ylabel(\"Predicted Values\")\n",
    "plt.title(\"Full Model Predicted vs. True Values (EN)\")\n",
    "plt.ylim(0,7500)\n",
    "plt.xlim(0,7500)"
   ]
  },
  {
   "cell_type": "markdown",
   "id": "simple-intellectual",
   "metadata": {},
   "source": [
    "### New Data Plots"
   ]
  },
  {
   "cell_type": "code",
   "execution_count": 59,
   "id": "identical-coordination",
   "metadata": {},
   "outputs": [
    {
     "data": {
      "image/png": "[encoded data removed]",
      "text/plain": [
       "<Figure size 432x288 with 1 Axes>"
      ]
     },
     "metadata": {
      "needs_background": "light"
     },
     "output_type": "display_data"
    }
   ],
   "source": [
    "plt.hist(new_ct_full[y])\n",
    "plt.ylabel('Frequency')\n",
    "if ct:\n",
    "    plt.xlabel('Charge Throughput')\n",
    "    plt.title('Frequency of Charge Throughput')\n",
    "else:\n",
    "    plt.xlabel('Cycle Life')\n",
    "    plt.title('Frequency of Cycle Life (New Data)')"
   ]
  },
  {
   "cell_type": "code",
   "execution_count": 60,
   "id": "celtic-volleyball",
   "metadata": {},
   "outputs": [],
   "source": [
    "new_data_metrics = pd.DataFrame(data = {\"Model & Source\": [\"Var (Linear)\", \"Var (E.N.)\", \n",
    "                                                           \"Disc (Linear)\", \"Disc (E.N.)\",\n",
    "                                                           \"Full (Linear)\", \"Full (E.N.)\"],\n",
    "                               \n",
    "                               \"Model\": [\"Variance\", \"Variance\",\n",
    "                                         \"Discharge\", \"Discharge\",\n",
    "                                         \"Full\", \"Full\"],\n",
    "                                        \n",
    "                               \"Source\": [\"Basic Linear Regression\", \"Elastic Net\",\n",
    "                                          \"Basic Linear Regression\", \"Elastic Net\",\n",
    "                                          \"Basic Linear Regression\", \"Elastic Net\"],\n",
    "                                        \n",
    "                               \"Train RMSE\": [rmse_train_var, rmse_train_var_en,\n",
    "                                              rmse_train_dis, rmse_train_dis_en,\n",
    "                                              rmse_train_full, rmse_train_full_en],\n",
    "                               \n",
    "                               \"Test RMSE\": [rmse_test_var, rmse_test_var_en,\n",
    "                                             rmse_test_dis, rmse_test_dis_en,\n",
    "                                             rmse_test_full, rmse_test_full_en],\n",
    "                               \n",
    "                               \"Mean % Train Error\": [mape_train_var, mape_train_var_en,\n",
    "                                                      mape_train_dis, mape_train_dis_en,\n",
    "                                                      mape_train_full, mape_train_full_en],\n",
    "                               \n",
    "                               \"Mean % Test Error\": [mape_test_var, mape_test_var_en,\n",
    "                                                     mape_test_dis, mape_test_dis_en,\n",
    "                                                     mape_test_full, mape_test_full_en]})"
   ]
  },
  {
   "cell_type": "code",
   "execution_count": 61,
   "id": "marked-illinois",
   "metadata": {},
   "outputs": [
    {
     "data": {
      "image/png": "[encoded data removed]",
      "text/plain": [
       "<Figure size 514.625x360 with 1 Axes>"
      ]
     },
     "metadata": {
      "needs_background": "light"
     },
     "output_type": "display_data"
    },
    {
     "data": {
      "image/png": "[encoded data removed]",
      "text/plain": [
       "<Figure size 514.625x360 with 1 Axes>"
      ]
     },
     "metadata": {
      "needs_background": "light"
     },
     "output_type": "display_data"
    },
    {
     "data": {
      "image/png": "[encoded data removed]",
      "text/plain": [
       "<Figure size 514.625x360 with 1 Axes>"
      ]
     },
     "metadata": {
      "needs_background": "light"
     },
     "output_type": "display_data"
    },
    {
     "data": {
      "image/png": "[encoded data removed]",
      "text/plain": [
       "<Figure size 514.625x360 with 1 Axes>"
      ]
     },
     "metadata": {
      "needs_background": "light"
     },
     "output_type": "display_data"
    }
   ],
   "source": [
    "for column in new_data_metrics.columns[3:]:\n",
    "    sns.catplot(data = new_data_metrics, kind=\"bar\",\n",
    "               x = \"Model\", y = column, hue = \"Source\")\n",
    "    plt.title(column + \" Comparison\")"
   ]
  },
  {
   "cell_type": "markdown",
   "id": "beginning-klein",
   "metadata": {},
   "source": [
    "## New + Old Data"
   ]
  },
  {
   "cell_type": "code",
   "execution_count": 62,
   "id": "rural-irish",
   "metadata": {},
   "outputs": [],
   "source": [
    "if sources:\n",
    "    old_ct[\"Source\"] = -1\n",
    "    new_ct_full[\"Source\"] = 1\n",
    "    variance_model_features.append(\"Source\")\n",
    "    discharge_model_features.append(\"Source\")\n",
    "    full_model_features.append(\"Source\")\n",
    "\n",
    "if new_chemistries & chem_sources:\n",
    "    old_ct[\"X.LFP\"] = new_ct_full.iloc[0][\"X.LFP\"]\n",
    "    old_ct[\"X.NCA\"] = new_ct_full.iloc[0][\"X.NCA\"]\n",
    "    old_ct[\"X.NMC\"] = new_ct_full.iloc[0][\"X.NMC\"]"
   ]
  },
  {
   "cell_type": "code",
   "execution_count": 63,
   "id": "criminal-overhead",
   "metadata": {},
   "outputs": [],
   "source": [
    "full_data = old_ct.append(new_ct_full)\n",
    "full_data = full_data.reset_index()"
   ]
  },
  {
   "cell_type": "code",
   "execution_count": 64,
   "id": "scenic-honolulu",
   "metadata": {},
   "outputs": [],
   "source": [
    "if standardized:\n",
    "    if old_new_scaler:\n",
    "        if sources:\n",
    "            X_all_old[\"Source\"] = -1\n",
    "            X_all_new[\"Source\"] = 1\n",
    "            all_model_features.append(\"Source\")\n",
    "            \n",
    "        if new_chemistries & chem_sources:\n",
    "            X_all_old[\"X.LFP\"] = X_all_new.iloc[0][\"X.LFP\"]\n",
    "            X_all_old[\"X.NCA\"] = X_all_new.iloc[0][\"X.NCA\"]\n",
    "            X_all_old[\"X.NMC\"] = X_all_new.iloc[0][\"X.NMC\"]\n",
    "\n",
    "        full_data = X_all_old.append(X_all_new)\n",
    "        full_data = full_data.reset_index()"
   ]
  },
  {
   "cell_type": "code",
   "execution_count": 65,
   "id": "royal-looking",
   "metadata": {},
   "outputs": [],
   "source": [
    "if new_chemistries:\n",
    "    if test_set == \"combination\":\n",
    "        test_ind = [i for i in range(0, len(full_data), 2)]\n",
    "            \n",
    "    elif test_set == \"new\":\n",
    "        test_ind = [j for j in range(len(old_ct),len(full_data))]\n",
    "        \n",
    "    elif test_set == \"half new\":\n",
    "        test_ind = [j for j in range(len(old_ct),len(full_data), 2)]\n",
    "            \n",
    "    elif test_set == \"LFP\":\n",
    "        test_ind = list(full_data.iloc[len(old_ct):][(full_data[\"X.LFP\"] > 0)].index)\n",
    "            \n",
    "    elif test_set == \"NCA\":\n",
    "        test_ind = list(full_data[full_data[\"X.NCA\"] > 0].index)\n",
    "        \n",
    "    elif test_set == \"NMC\":\n",
    "        test_ind = list(full_data[full_data[\"X.NMC\"] > 0].index)\n",
    "    \n",
    "else:\n",
    "    test_ind = [i for i in range(0, len(full_data), 2)]\n",
    "        \n",
    "train_ind = list(set(full_data.index) - set(test_ind))"
   ]
  },
  {
   "cell_type": "markdown",
   "id": "stylish-prior",
   "metadata": {},
   "source": [
    "### Variance Model"
   ]
  },
  {
   "cell_type": "code",
   "execution_count": 66,
   "id": "occupational-ordinary",
   "metadata": {},
   "outputs": [],
   "source": [
    "# Variance model\n",
    "X_train_var = full_data.iloc[train_ind][variance_model_features]\n",
    "X_train_var.dropna(axis=0, inplace=True)\n",
    "y_train = full_data.iloc[X_train_var.index][[y]]\n",
    "\n",
    "X_test_var = full_data.iloc[test_ind][variance_model_features]\n",
    "X_test_var.dropna(axis=0, inplace=True)\n",
    "y_test = full_data.iloc[X_test_var.index][[y]]\n",
    "\n",
    "# if standardized:\n",
    "#     X_train_var, X_test_var = standardize(X_train_var, X_test_var)\n",
    "\n",
    "# log transformation\n",
    "if log_transformation:\n",
    "    y_train = np.log(y_train)\n",
    "    y_test = np.log(y_test)"
   ]
  },
  {
   "cell_type": "code",
   "execution_count": 67,
   "id": "patient-marina",
   "metadata": {},
   "outputs": [
    {
     "name": "stdout",
     "output_type": "stream",
     "text": [
      "Variance Basic Linear Regression Model\n",
      "Training RMSE:  588.7155149990434\n",
      "Test RMSE:  1279.9400305652102\n",
      "Mean % Train Error:  19.58550319866527\n",
      "Mean % Test Error:  26.777563942805305\n"
     ]
    }
   ],
   "source": [
    "reg_var = LinearRegression().fit(X_train_var,y_train)\n",
    "y_pred_train_var = reg_var.predict(X_train_var)\n",
    "y_pred_test_var = reg_var.predict(X_test_var)\n",
    "\n",
    "if log_transformation:\n",
    "    y_train = np.exp(y_train)\n",
    "    y_test = np.exp(y_test)\n",
    "    y_pred_train_var = np.exp(y_pred_train_var)\n",
    "    y_pred_test_var = np.exp(y_pred_test_var)\n",
    "\n",
    "rmse_train_var = np.sqrt(mean_squared_error(y_train, y_pred_train_var))\n",
    "rmse_test_var = np.sqrt(mean_squared_error(y_test, y_pred_test_var))\n",
    "mape_train_var = mean_absolute_percentage_error(y_train, y_pred_train_var)*100\n",
    "mape_test_var = mean_absolute_percentage_error(y_test, y_pred_test_var)*100\n",
    "\n",
    "print(\"Variance Basic Linear Regression Model\")\n",
    "print(\"Training RMSE: \", rmse_train_var)\n",
    "print(\"Test RMSE: \", rmse_test_var)\n",
    "print(\"Mean % Train Error: \", mape_train_var)\n",
    "print(\"Mean % Test Error: \", mape_test_var)"
   ]
  },
  {
   "cell_type": "code",
   "execution_count": 68,
   "id": "careful-tennis",
   "metadata": {},
   "outputs": [
    {
     "data": {
      "text/plain": [
       "Text(0.5, 1.0, 'Variance Model Predicted vs. True Values')"
      ]
     },
     "execution_count": 68,
     "metadata": {},
     "output_type": "execute_result"
    },
    {
     "data": {
      "image/png": "[encoded data removed]",
      "text/plain": [
       "<Figure size 432x288 with 1 Axes>"
      ]
     },
     "metadata": {
      "needs_background": "light"
     },
     "output_type": "display_data"
    }
   ],
   "source": [
    "# Variance model\n",
    "min_var = y_test.min()[0]\n",
    "max_var = y_test.max()[0]\n",
    "\n",
    "plt.scatter(y_test, y_pred_test_var)\n",
    "plt.plot([0, max_var], [0, max_var], color=\"red\")\n",
    "plt.xlabel(\"True Values\")\n",
    "plt.ylabel(\"Predicted Values\")\n",
    "plt.title(\"Variance Model Predicted vs. True Values\")"
   ]
  },
  {
   "cell_type": "code",
   "execution_count": 69,
   "id": "unique-legend",
   "metadata": {},
   "outputs": [
    {
     "name": "stdout",
     "output_type": "stream",
     "text": [
      "Variance Elastic Net Model\n",
      "l1_ratio = 1.0\n",
      "Test RMSE:  1356.069744626679\n",
      "Test Mean Absolute % Error:  29.011874234270408\n"
     ]
    }
   ],
   "source": [
    "k_fold = 5\n",
    "l1_ratios = [i/20 for i in range(1, 21)]\n",
    "max_iter = 1000000\n",
    "random_state = 1\n",
    "test_size = 2\n",
    "tol = 0.0001\n",
    "\n",
    "models = []\n",
    "y_pred_trains = []\n",
    "y_pred_tests = []\n",
    "train_rmses = []\n",
    "test_rmses = []\n",
    "train_mapes = []\n",
    "test_mapes = []\n",
    "\n",
    "for l1_ratio in l1_ratios:\n",
    "    elasticnetcv = ElasticNetCV(\n",
    "        fit_intercept=True,\n",
    "        normalize=False,\n",
    "        alphas=None,\n",
    "        cv=k_fold,\n",
    "        l1_ratio=l1_ratio,\n",
    "        max_iter=max_iter,\n",
    "    )\n",
    "    \n",
    "    if log_transformation:\n",
    "        y_train = np.log(y_train)\n",
    "        y_test = np.log(y_test)\n",
    "        \n",
    "    elasticnetcv.fit(X_train_var, y_train.values.ravel())\n",
    "\n",
    "    elasticnet_var = ElasticNet(\n",
    "        fit_intercept=True,\n",
    "        normalize=False,\n",
    "        l1_ratio=elasticnetcv.l1_ratio_,\n",
    "        alpha=elasticnetcv.alpha_,\n",
    "        max_iter=max_iter,\n",
    "    )\n",
    "    \n",
    "    elasticnet_var.fit(X_train_var, y_train.values.ravel())\n",
    "    y_pred_train_en_var = elasticnet_var.predict(X_train_var)\n",
    "    y_pred_test_en_var = elasticnet_var.predict(X_test_var)\n",
    "\n",
    "    if log_transformation:\n",
    "        y_train = np.exp(y_train)\n",
    "        y_test = np.exp(y_test)\n",
    "        y_pred_train_en_var = np.exp(y_pred_train_en_var)\n",
    "        y_pred_test_en_var = np.exp(y_pred_test_en_var)\n",
    "    \n",
    "    rmse_train_en_var = np.sqrt(mean_squared_error(y_train, y_pred_train_en_var))\n",
    "    rmse_test_en_var = np.sqrt(mean_squared_error(y_test, y_pred_test_en_var))\n",
    "    mape_train_en_var = mean_absolute_percentage_error(y_train, y_pred_train_en_var)*100\n",
    "    mape_test_en_var = mean_absolute_percentage_error(y_test, y_pred_test_en_var)*100\n",
    "\n",
    "    models.append(elasticnet_var)\n",
    "    y_pred_trains.append(y_pred_train_en_var)\n",
    "    y_pred_tests.append(y_pred_test_en_var)\n",
    "    train_rmses.append(rmse_train_en_var)\n",
    "    test_rmses.append(rmse_test_en_var)\n",
    "    train_mapes.append(mape_train_en_var)\n",
    "    test_mapes.append(mape_test_en_var)\n",
    "\n",
    "best_model_index = test_rmses.index(min(test_rmses))\n",
    "\n",
    "elasticnet_var = models[best_model_index]\n",
    "y_pred_train_en_var = y_pred_trains[best_model_index]\n",
    "y_pred_test_en_var = y_pred_tests[best_model_index]\n",
    "rmse_train_var_en = train_rmses[best_model_index]\n",
    "rmse_test_var_en = test_rmses[best_model_index]\n",
    "l1_ratio_var = l1_ratios[best_model_index]\n",
    "mape_train_var_en = train_mapes[best_model_index]\n",
    "mape_test_var_en = test_mapes[best_model_index]\n",
    "\n",
    "print(\"Variance Elastic Net Model\")\n",
    "print(\"l1_ratio =\", l1_ratio_var)\n",
    "print(\"Test RMSE: \", rmse_test_var_en)\n",
    "print(\"Test Mean Absolute % Error: \", mape_test_var_en)"
   ]
  },
  {
   "cell_type": "code",
   "execution_count": 70,
   "id": "rotary-jewel",
   "metadata": {},
   "outputs": [
    {
     "data": {
      "image/png": "[encoded data removed]",
      "text/plain": [
       "<Figure size 432x288 with 1 Axes>"
      ]
     },
     "metadata": {
      "needs_background": "light"
     },
     "output_type": "display_data"
    }
   ],
   "source": [
    "coeffs = np.polyfit(l1_ratios, test_rmses, 3)\n",
    "vals = [coeffs[0]*val**3 + coeffs[1]*val**2 + coeffs[2]*val + coeffs[3] for val in l1_ratios]\n",
    "\n",
    "plt.scatter(l1_ratios, test_rmses)\n",
    "plt.plot(l1_ratios, vals)\n",
    "plt.title(\"Test RMSE by Ridge/Lasso Ratio (Variance Model)\")\n",
    "plt.xlabel(\"L1 Ratio (0 = Ridge, 1 = Lasso)\")\n",
    "plt.ylabel(\"Test RMSE\");"
   ]
  },
  {
   "cell_type": "code",
   "execution_count": 71,
   "id": "entire-bradford",
   "metadata": {},
   "outputs": [
    {
     "data": {
      "text/plain": [
       "Text(0.5, 1.0, 'Variance Model Predicted vs. True Values (EN)')"
      ]
     },
     "execution_count": 71,
     "metadata": {},
     "output_type": "execute_result"
    },
    {
     "data": {
      "image/png": "[encoded data removed]",
      "text/plain": [
       "<Figure size 432x288 with 1 Axes>"
      ]
     },
     "metadata": {
      "needs_background": "light"
     },
     "output_type": "display_data"
    }
   ],
   "source": [
    "#Elastic Net\n",
    "max_var = y_test.max()[0]\n",
    "\n",
    "plt.scatter(y_test, y_pred_test_en_var)\n",
    "plt.plot([0, max_var], [0, max_var], color=\"red\")\n",
    "plt.xlabel(\"True Values\")\n",
    "plt.ylabel(\"Predicted Values\")\n",
    "plt.title(\"Variance Model Predicted vs. True Values (EN)\")"
   ]
  },
  {
   "cell_type": "markdown",
   "id": "cellular-birth",
   "metadata": {},
   "source": [
    "### Discharge Model"
   ]
  },
  {
   "cell_type": "code",
   "execution_count": 72,
   "id": "awful-spanking",
   "metadata": {},
   "outputs": [
    {
     "name": "stdout",
     "output_type": "stream",
     "text": [
      "Discharge Basic Linear Regression Model\n",
      "Test RMSE:  1272.237444309319\n",
      "Mean % Test Error:  0.2548490219565971\n"
     ]
    }
   ],
   "source": [
    "# discharge model\n",
    "X_train_dis = full_data.iloc[train_ind][discharge_model_features].replace([np.inf, -np.inf, 0], np.nan)\n",
    "X_train_dis.dropna(axis=0, inplace=True)\n",
    "y_train = full_data.iloc[X_train_dis.index][[y]]\n",
    "\n",
    "X_test_dis = full_data.iloc[test_ind][discharge_model_features].replace([np.inf, -np.inf, 0], np.nan)\n",
    "X_test_dis.dropna(axis=0, inplace=True)\n",
    "y_test = full_data.iloc[X_test_dis.index][[y]]\n",
    "\n",
    "# if standardized:\n",
    "#     X_train_dis, X_test_dis = standardize(X_train_dis, X_test_dis)\n",
    "    \n",
    "if log_transformation:\n",
    "    y_train = np.log(y_train)\n",
    "    y_test = np.log(y_test)\n",
    "    \n",
    "reg_dis = LinearRegression().fit(X_train_dis,y_train)\n",
    "y_pred_train_dis = reg_dis.predict(X_train_dis)\n",
    "y_pred_test_dis = reg_dis.predict(X_test_dis)\n",
    "\n",
    "if log_transformation:\n",
    "    y_train = np.exp(y_train)\n",
    "    y_test = np.exp(y_test)\n",
    "    y_pred_train_dis = np.exp(y_pred_train_dis)\n",
    "    y_pred_test_dis = np.exp(y_pred_test_dis)\n",
    "    \n",
    "rmse_train_dis = np.sqrt(mean_squared_error(y_train, y_pred_train_dis))\n",
    "rmse_test_dis = np.sqrt(mean_squared_error(y_test, y_pred_test_dis))\n",
    "mape_train_dis = mean_absolute_percentage_error(y_train, y_pred_train_dis)*100\n",
    "mape_test_dis = mean_absolute_percentage_error(y_test, y_pred_test_dis)*100\n",
    "\n",
    "print(\"Discharge Basic Linear Regression Model\")\n",
    "# print(\"Training RMSE: \", np.sqrt(mean_squared_error(y_train, y_pred_train_dis)))\n",
    "print(\"Test RMSE: \", np.sqrt(mean_squared_error(y_test, y_pred_test_dis)))\n",
    "# print(\"Mean % Train Error: \", mean_absolute_percentage_error(y_train, y_pred_train_dis))\n",
    "print(\"Mean % Test Error: \", mean_absolute_percentage_error(y_test, y_pred_test_dis))"
   ]
  },
  {
   "cell_type": "code",
   "execution_count": 73,
   "id": "wireless-budget",
   "metadata": {},
   "outputs": [
    {
     "data": {
      "text/plain": [
       "Text(0.5, 1.0, 'Discharge Model Predicted vs. True Values')"
      ]
     },
     "execution_count": 73,
     "metadata": {},
     "output_type": "execute_result"
    },
    {
     "data": {
      "image/png": "[encoded data removed]",
      "text/plain": [
       "<Figure size 432x288 with 1 Axes>"
      ]
     },
     "metadata": {
      "needs_background": "light"
     },
     "output_type": "display_data"
    }
   ],
   "source": [
    "# Discharge model\n",
    "max_dis = y_test.max()[0]\n",
    "\n",
    "plt.scatter(y_test, y_pred_test_dis)\n",
    "plt.plot([0, max_dis], [0, max_dis], color=\"red\")\n",
    "plt.xlabel(\"True Values\")\n",
    "plt.ylabel(\"Predicted Values\")\n",
    "plt.title(\"Discharge Model Predicted vs. True Values\")"
   ]
  },
  {
   "cell_type": "code",
   "execution_count": 74,
   "id": "enclosed-phone",
   "metadata": {},
   "outputs": [
    {
     "name": "stdout",
     "output_type": "stream",
     "text": [
      "Discharge Elastic Net Model\n",
      "l1_ratio = 1.0\n",
      "Test RMSE:  1274.9979006961194\n",
      "Test Mean Absolute % Error:  25.64036480165232\n"
     ]
    }
   ],
   "source": [
    "k_fold = 5\n",
    "l1_ratios = [i/20 for i in range(1, 21)]\n",
    "max_iter = 1000000\n",
    "random_state = 1\n",
    "test_size = 2\n",
    "tol = 0.0001\n",
    "\n",
    "models = []\n",
    "y_pred_trains = []\n",
    "y_pred_tests = []\n",
    "train_rmses = []\n",
    "test_rmses = []\n",
    "train_mapes = []\n",
    "test_mapes = []\n",
    "\n",
    "for l1_ratio in l1_ratios:\n",
    "    elasticnetcv = ElasticNetCV(\n",
    "        fit_intercept=True,\n",
    "        normalize=False,\n",
    "        alphas=None,\n",
    "        cv=k_fold,\n",
    "        l1_ratio=l1_ratio,\n",
    "        max_iter=max_iter,\n",
    "    )\n",
    "    \n",
    "    if log_transformation:\n",
    "        y_train = np.log(y_train)\n",
    "        y_test = np.log(y_test)\n",
    "    \n",
    "    elasticnetcv.fit(X_train_dis, y_train.values.ravel())\n",
    "\n",
    "    elasticnet_dis = ElasticNet(\n",
    "        fit_intercept=True,\n",
    "        normalize=False,\n",
    "        l1_ratio=elasticnetcv.l1_ratio_,\n",
    "        alpha=elasticnetcv.alpha_,\n",
    "        max_iter=max_iter,\n",
    "    )\n",
    "\n",
    "    elasticnet_dis.fit(X_train_dis, y_train.values.ravel())\n",
    "    y_pred_train_en_dis = elasticnet_dis.predict(X_train_dis)\n",
    "    y_pred_test_en_dis = elasticnet_dis.predict(X_test_dis)\n",
    "\n",
    "    if log_transformation:\n",
    "        y_train = np.exp(y_train)\n",
    "        y_test = np.exp(y_test)\n",
    "        y_pred_train_en_dis = np.exp(y_pred_train_en_dis)\n",
    "        y_pred_test_en_dis = np.exp(y_pred_test_en_dis)\n",
    "\n",
    "    \n",
    "    rmse_train_en_dis = np.sqrt(mean_squared_error(y_train, y_pred_train_en_dis))\n",
    "    rmse_test_en_dis = np.sqrt(mean_squared_error(y_test, y_pred_test_en_dis))\n",
    "    mape_train_en_dis = mean_absolute_percentage_error(y_train, y_pred_train_en_dis)*100\n",
    "    mape_test_en_dis = mean_absolute_percentage_error(y_test, y_pred_test_en_dis)*100\n",
    "\n",
    "    models.append(elasticnet_dis)\n",
    "    y_pred_trains.append(y_pred_train_en_dis)\n",
    "    y_pred_tests.append(y_pred_test_en_dis)\n",
    "    train_rmses.append(rmse_train_en_dis)\n",
    "    test_rmses.append(rmse_test_en_dis)\n",
    "    train_mapes.append(mape_train_en_dis)\n",
    "    test_mapes.append(mape_test_en_dis)\n",
    "\n",
    "best_model_index = test_rmses.index(min(test_rmses))\n",
    "\n",
    "elasticnet_dis = models[best_model_index]\n",
    "y_pred_train_en_dis = y_pred_trains[best_model_index]\n",
    "y_pred_test_en_dis = y_pred_tests[best_model_index]\n",
    "rmse_train_dis_en = train_rmses[best_model_index]\n",
    "rmse_test_dis_en = test_rmses[best_model_index]\n",
    "l1_ratio_dis = l1_ratios[best_model_index]\n",
    "mape_train_dis_en = train_mapes[best_model_index]\n",
    "mape_test_dis_en = test_mapes[best_model_index]\n",
    "\n",
    "print(\"Discharge Elastic Net Model\")\n",
    "print(\"l1_ratio =\", l1_ratio_dis)\n",
    "print(\"Test RMSE: \", rmse_test_dis_en)\n",
    "print(\"Test Mean Absolute % Error: \", mape_test_dis_en)"
   ]
  },
  {
   "cell_type": "code",
   "execution_count": 75,
   "id": "vital-architect",
   "metadata": {},
   "outputs": [
    {
     "data": {
      "image/png": "[encoded data removed]",
      "text/plain": [
       "<Figure size 432x288 with 1 Axes>"
      ]
     },
     "metadata": {
      "needs_background": "light"
     },
     "output_type": "display_data"
    }
   ],
   "source": [
    "# coeffs = np.polyfit(l1_ratios, test_rmses, 3)\n",
    "# vals = [coeffs[0]*val**3 + coeffs[1]*val**2 + coeffs[2]*val + coeffs[3] for val in l1_ratios[:-1]]\n",
    "\n",
    "plt.scatter(l1_ratios, test_rmses)\n",
    "# plt.plot(l1_ratios[:-1], vals)\n",
    "plt.title(\"Test RMSE by Ridge/Lasso Ratio (Discharge Model)\")\n",
    "plt.xlabel(\"L1 Ratio (0 = Ridge, 1 = Lasso)\")\n",
    "plt.ylabel(\"Test RMSE\");"
   ]
  },
  {
   "cell_type": "code",
   "execution_count": 76,
   "id": "fatty-saver",
   "metadata": {},
   "outputs": [
    {
     "data": {
      "text/plain": [
       "Text(0.5, 1.0, 'Discharge Model Predicted vs. True Values (EN)')"
      ]
     },
     "execution_count": 76,
     "metadata": {},
     "output_type": "execute_result"
    },
    {
     "data": {
      "image/png": "[encoded data removed]",
      "text/plain": [
       "<Figure size 432x288 with 1 Axes>"
      ]
     },
     "metadata": {
      "needs_background": "light"
     },
     "output_type": "display_data"
    }
   ],
   "source": [
    "#Elastic Net\n",
    "max_dis = y_test.max()[0]\n",
    "\n",
    "plt.scatter(y_test, y_pred_test_en_dis)\n",
    "plt.plot([0, max_dis], [0, max_dis], color=\"red\")\n",
    "plt.xlabel(\"True Values\")\n",
    "plt.ylabel(\"Predicted Values\")\n",
    "plt.title(\"Discharge Model Predicted vs. True Values (EN)\")"
   ]
  },
  {
   "cell_type": "markdown",
   "id": "prepared-sweet",
   "metadata": {},
   "source": [
    "### Full Model"
   ]
  },
  {
   "cell_type": "code",
   "execution_count": 77,
   "id": "present-recycling",
   "metadata": {},
   "outputs": [
    {
     "name": "stdout",
     "output_type": "stream",
     "text": [
      "Full Basic Linear Regression Model\n",
      "Test RMSE:  1318.03229840258\n",
      "Mean % Test Error:  0.25483471868930674\n"
     ]
    }
   ],
   "source": [
    "# full model\n",
    "X_train_full = full_data.iloc[train_ind][full_model_features].replace([np.inf, -np.inf, 0], np.nan)\n",
    "X_train_full.dropna(axis=0, inplace=True)\n",
    "y_train = full_data.loc[X_train_full.index][[y]]\n",
    "\n",
    "X_test_full = full_data.iloc[test_ind][full_model_features].replace([np.inf, -np.inf, 0], np.nan)\n",
    "X_test_full.dropna(axis=0, inplace=True)\n",
    "y_test = full_data.loc[X_test_full.index][[y]]\n",
    "\n",
    "# if standardized:\n",
    "#     X_train_full, X_test_full = standardize(X_train_full, X_test_full)\n",
    "\n",
    "if log_transformation:\n",
    "    y_train = np.log(y_train)\n",
    "    y_test = np.log(y_test)\n",
    "\n",
    "reg_full = LinearRegression().fit(X_train_full,y_train)\n",
    "y_pred_train_full = reg_full.predict(X_train_full)\n",
    "y_pred_test_full = reg_full.predict(X_test_full)\n",
    "\n",
    "if log_transformation:\n",
    "    y_train = np.exp(y_train)\n",
    "    y_test = np.exp(y_test)\n",
    "    y_pred_train_full = np.exp(y_pred_train_full)\n",
    "    y_pred_test_full = np.exp(y_pred_test_full)\n",
    "\n",
    "rmse_train_full = np.sqrt(mean_squared_error(y_train, y_pred_train_full))\n",
    "rmse_test_full = np.sqrt(mean_squared_error(y_test, y_pred_test_full))\n",
    "mape_train_full = mean_absolute_percentage_error(y_train, y_pred_train_full)*100\n",
    "mape_test_full = mean_absolute_percentage_error(y_test, y_pred_test_full)*100\n",
    "\n",
    "print(\"Full Basic Linear Regression Model\")\n",
    "# print(\"Training RMSE: \", np.sqrt(mean_squared_error(y_train, y_pred_train_full)))\n",
    "print(\"Test RMSE: \", np.sqrt(mean_squared_error(y_test, y_pred_test_full)))\n",
    "# print(\"Mean % Train Error: \", mean_absolute_percentage_error(y_train, y_pred_train_full))\n",
    "print(\"Mean % Test Error: \", mean_absolute_percentage_error(y_test, y_pred_test_full))"
   ]
  },
  {
   "cell_type": "code",
   "execution_count": 78,
   "id": "thick-indicator",
   "metadata": {},
   "outputs": [
    {
     "data": {
      "text/plain": [
       "Text(0.5, 1.0, 'Full Model Predicted vs. True Values')"
      ]
     },
     "execution_count": 78,
     "metadata": {},
     "output_type": "execute_result"
    },
    {
     "data": {
      "image/png": "[encoded data removed]",
      "text/plain": [
       "<Figure size 432x288 with 1 Axes>"
      ]
     },
     "metadata": {
      "needs_background": "light"
     },
     "output_type": "display_data"
    }
   ],
   "source": [
    "min_full = y_test.min()[0]\n",
    "max_full = y_test.max()[0]\n",
    "\n",
    "plt.scatter(y_test, y_pred_test_full)\n",
    "plt.plot([0, max_full], [0, max_full], color=\"red\")\n",
    "plt.xlabel(\"True Values\")\n",
    "plt.ylabel(\"Predicted Values\")\n",
    "plt.title(\"Full Model Predicted vs. True Values\")"
   ]
  },
  {
   "cell_type": "code",
   "execution_count": 79,
   "id": "southwest-specification",
   "metadata": {},
   "outputs": [
    {
     "data": {
      "text/html": [
       "<div>\n",
       "<style scoped>\n",
       "    .dataframe tbody tr th:only-of-type {\n",
       "        vertical-align: middle;\n",
       "    }\n",
       "\n",
       "    .dataframe tbody tr th {\n",
       "        vertical-align: top;\n",
       "    }\n",
       "\n",
       "    .dataframe thead th {\n",
       "        text-align: right;\n",
       "    }\n",
       "</style>\n",
       "<table border=\"1\" class=\"dataframe\">\n",
       "  <thead>\n",
       "    <tr style=\"text-align: right;\">\n",
       "      <th></th>\n",
       "      <th>X.abs_min_discharge_capacity_difference_cycles_2:100</th>\n",
       "      <th>X.abs_variance_discharge_capacity_difference_cycles_2:100</th>\n",
       "      <th>X.slope_discharge_capacity_cycle_number_2:100</th>\n",
       "      <th>X.intercept_discharge_capacity_cycle_number_2:100</th>\n",
       "      <th>X.discharge_capacity_cycle_2</th>\n",
       "      <th>X.charge_time_cycles_1:5</th>\n",
       "      <th>X.LFP</th>\n",
       "      <th>X.NCA</th>\n",
       "      <th>X.NMC</th>\n",
       "      <th>Source</th>\n",
       "    </tr>\n",
       "  </thead>\n",
       "  <tbody>\n",
       "    <tr>\n",
       "      <th>139</th>\n",
       "      <td>0.006799</td>\n",
       "      <td>-0.869904</td>\n",
       "      <td>1.535856</td>\n",
       "      <td>-1.185324</td>\n",
       "      <td>-1.406771</td>\n",
       "      <td>1.399558</td>\n",
       "      <td>1.414214</td>\n",
       "      <td>-0.707107</td>\n",
       "      <td>-0.707107</td>\n",
       "      <td>1</td>\n",
       "    </tr>\n",
       "    <tr>\n",
       "      <th>141</th>\n",
       "      <td>-0.204729</td>\n",
       "      <td>-0.445873</td>\n",
       "      <td>1.521056</td>\n",
       "      <td>-1.196766</td>\n",
       "      <td>-1.415407</td>\n",
       "      <td>1.399558</td>\n",
       "      <td>1.414214</td>\n",
       "      <td>-0.707107</td>\n",
       "      <td>-0.707107</td>\n",
       "      <td>1</td>\n",
       "    </tr>\n",
       "    <tr>\n",
       "      <th>143</th>\n",
       "      <td>-0.368825</td>\n",
       "      <td>-0.883444</td>\n",
       "      <td>1.523016</td>\n",
       "      <td>-1.195707</td>\n",
       "      <td>-1.411089</td>\n",
       "      <td>1.413921</td>\n",
       "      <td>1.414214</td>\n",
       "      <td>-0.707107</td>\n",
       "      <td>-0.707107</td>\n",
       "      <td>1</td>\n",
       "    </tr>\n",
       "    <tr>\n",
       "      <th>145</th>\n",
       "      <td>-1.046366</td>\n",
       "      <td>-1.197932</td>\n",
       "      <td>1.460215</td>\n",
       "      <td>-1.196219</td>\n",
       "      <td>-1.407851</td>\n",
       "      <td>1.399558</td>\n",
       "      <td>1.414214</td>\n",
       "      <td>-0.707107</td>\n",
       "      <td>-0.707107</td>\n",
       "      <td>1</td>\n",
       "    </tr>\n",
       "    <tr>\n",
       "      <th>147</th>\n",
       "      <td>-0.905924</td>\n",
       "      <td>-1.278623</td>\n",
       "      <td>0.953136</td>\n",
       "      <td>-1.575876</td>\n",
       "      <td>-1.380865</td>\n",
       "      <td>1.457011</td>\n",
       "      <td>1.414214</td>\n",
       "      <td>-0.707107</td>\n",
       "      <td>-0.707107</td>\n",
       "      <td>1</td>\n",
       "    </tr>\n",
       "    <tr>\n",
       "      <th>149</th>\n",
       "      <td>-2.545580</td>\n",
       "      <td>-2.375161</td>\n",
       "      <td>0.817268</td>\n",
       "      <td>-1.933526</td>\n",
       "      <td>-1.395977</td>\n",
       "      <td>1.421103</td>\n",
       "      <td>1.414214</td>\n",
       "      <td>-0.707107</td>\n",
       "      <td>-0.707107</td>\n",
       "      <td>1</td>\n",
       "    </tr>\n",
       "    <tr>\n",
       "      <th>151</th>\n",
       "      <td>0.840981</td>\n",
       "      <td>0.952199</td>\n",
       "      <td>-0.904396</td>\n",
       "      <td>0.692920</td>\n",
       "      <td>0.602066</td>\n",
       "      <td>-0.726220</td>\n",
       "      <td>-0.707107</td>\n",
       "      <td>1.414214</td>\n",
       "      <td>-0.707107</td>\n",
       "      <td>1</td>\n",
       "    </tr>\n",
       "    <tr>\n",
       "      <th>153</th>\n",
       "      <td>0.348041</td>\n",
       "      <td>0.179953</td>\n",
       "      <td>-0.445998</td>\n",
       "      <td>0.878227</td>\n",
       "      <td>0.838463</td>\n",
       "      <td>-0.754947</td>\n",
       "      <td>-0.707107</td>\n",
       "      <td>1.414214</td>\n",
       "      <td>-0.707107</td>\n",
       "      <td>1</td>\n",
       "    </tr>\n",
       "    <tr>\n",
       "      <th>155</th>\n",
       "      <td>0.598156</td>\n",
       "      <td>0.598719</td>\n",
       "      <td>-0.400421</td>\n",
       "      <td>0.800545</td>\n",
       "      <td>0.834145</td>\n",
       "      <td>-0.754947</td>\n",
       "      <td>-0.707107</td>\n",
       "      <td>1.414214</td>\n",
       "      <td>-0.707107</td>\n",
       "      <td>1</td>\n",
       "    </tr>\n",
       "    <tr>\n",
       "      <th>157</th>\n",
       "      <td>0.659558</td>\n",
       "      <td>0.763219</td>\n",
       "      <td>-0.646456</td>\n",
       "      <td>-0.053441</td>\n",
       "      <td>0.813636</td>\n",
       "      <td>-0.769311</td>\n",
       "      <td>-0.707107</td>\n",
       "      <td>1.414214</td>\n",
       "      <td>-0.707107</td>\n",
       "      <td>1</td>\n",
       "    </tr>\n",
       "    <tr>\n",
       "      <th>159</th>\n",
       "      <td>0.342865</td>\n",
       "      <td>0.238652</td>\n",
       "      <td>0.073156</td>\n",
       "      <td>0.990211</td>\n",
       "      <td>0.930215</td>\n",
       "      <td>-0.697494</td>\n",
       "      <td>-0.707107</td>\n",
       "      <td>1.414214</td>\n",
       "      <td>-0.707107</td>\n",
       "      <td>1</td>\n",
       "    </tr>\n",
       "    <tr>\n",
       "      <th>161</th>\n",
       "      <td>0.420035</td>\n",
       "      <td>0.420834</td>\n",
       "      <td>-0.969656</td>\n",
       "      <td>0.441494</td>\n",
       "      <td>0.254486</td>\n",
       "      <td>-0.683130</td>\n",
       "      <td>-0.707107</td>\n",
       "      <td>-0.707107</td>\n",
       "      <td>1.414214</td>\n",
       "      <td>1</td>\n",
       "    </tr>\n",
       "    <tr>\n",
       "      <th>163</th>\n",
       "      <td>0.840652</td>\n",
       "      <td>0.957545</td>\n",
       "      <td>-0.987932</td>\n",
       "      <td>0.755724</td>\n",
       "      <td>0.698136</td>\n",
       "      <td>-0.683130</td>\n",
       "      <td>-0.707107</td>\n",
       "      <td>-0.707107</td>\n",
       "      <td>1.414214</td>\n",
       "      <td>1</td>\n",
       "    </tr>\n",
       "    <tr>\n",
       "      <th>165</th>\n",
       "      <td>0.816995</td>\n",
       "      <td>0.878288</td>\n",
       "      <td>-0.864826</td>\n",
       "      <td>0.706211</td>\n",
       "      <td>0.665752</td>\n",
       "      <td>-0.683130</td>\n",
       "      <td>-0.707107</td>\n",
       "      <td>-0.707107</td>\n",
       "      <td>1.414214</td>\n",
       "      <td>1</td>\n",
       "    </tr>\n",
       "    <tr>\n",
       "      <th>167</th>\n",
       "      <td>0.696427</td>\n",
       "      <td>0.850355</td>\n",
       "      <td>-0.865995</td>\n",
       "      <td>0.706944</td>\n",
       "      <td>0.671150</td>\n",
       "      <td>-0.697494</td>\n",
       "      <td>-0.707107</td>\n",
       "      <td>-0.707107</td>\n",
       "      <td>1.414214</td>\n",
       "      <td>1</td>\n",
       "    </tr>\n",
       "    <tr>\n",
       "      <th>169</th>\n",
       "      <td>0.772379</td>\n",
       "      <td>0.830251</td>\n",
       "      <td>-0.739292</td>\n",
       "      <td>0.705440</td>\n",
       "      <td>0.668991</td>\n",
       "      <td>-0.625677</td>\n",
       "      <td>-0.707107</td>\n",
       "      <td>-0.707107</td>\n",
       "      <td>1.414214</td>\n",
       "      <td>1</td>\n",
       "    </tr>\n",
       "    <tr>\n",
       "      <th>171</th>\n",
       "      <td>0.501801</td>\n",
       "      <td>0.697945</td>\n",
       "      <td>-0.594198</td>\n",
       "      <td>0.700345</td>\n",
       "      <td>0.662514</td>\n",
       "      <td>-0.640040</td>\n",
       "      <td>-0.707107</td>\n",
       "      <td>-0.707107</td>\n",
       "      <td>1.414214</td>\n",
       "      <td>1</td>\n",
       "    </tr>\n",
       "    <tr>\n",
       "      <th>173</th>\n",
       "      <td>0.024392</td>\n",
       "      <td>-0.513433</td>\n",
       "      <td>1.540352</td>\n",
       "      <td>-1.198222</td>\n",
       "      <td>-1.417566</td>\n",
       "      <td>1.413921</td>\n",
       "      <td>1.414214</td>\n",
       "      <td>-0.707107</td>\n",
       "      <td>-0.707107</td>\n",
       "      <td>1</td>\n",
       "    </tr>\n",
       "    <tr>\n",
       "      <th>175</th>\n",
       "      <td>0.096999</td>\n",
       "      <td>-0.396801</td>\n",
       "      <td>1.528480</td>\n",
       "      <td>-1.191062</td>\n",
       "      <td>-1.412168</td>\n",
       "      <td>1.399558</td>\n",
       "      <td>1.414214</td>\n",
       "      <td>-0.707107</td>\n",
       "      <td>-0.707107</td>\n",
       "      <td>1</td>\n",
       "    </tr>\n",
       "    <tr>\n",
       "      <th>177</th>\n",
       "      <td>-0.668316</td>\n",
       "      <td>-0.958425</td>\n",
       "      <td>1.519544</td>\n",
       "      <td>-1.199619</td>\n",
       "      <td>-1.417566</td>\n",
       "      <td>1.399558</td>\n",
       "      <td>1.414214</td>\n",
       "      <td>-0.707107</td>\n",
       "      <td>-0.707107</td>\n",
       "      <td>1</td>\n",
       "    </tr>\n",
       "    <tr>\n",
       "      <th>179</th>\n",
       "      <td>0.202542</td>\n",
       "      <td>0.309538</td>\n",
       "      <td>1.462734</td>\n",
       "      <td>-1.174441</td>\n",
       "      <td>-1.383024</td>\n",
       "      <td>1.399558</td>\n",
       "      <td>1.414214</td>\n",
       "      <td>-0.707107</td>\n",
       "      <td>-0.707107</td>\n",
       "      <td>1</td>\n",
       "    </tr>\n",
       "    <tr>\n",
       "      <th>181</th>\n",
       "      <td>-1.271876</td>\n",
       "      <td>-1.604695</td>\n",
       "      <td>0.980825</td>\n",
       "      <td>-1.581500</td>\n",
       "      <td>-1.399215</td>\n",
       "      <td>1.421103</td>\n",
       "      <td>1.414214</td>\n",
       "      <td>-0.707107</td>\n",
       "      <td>-0.707107</td>\n",
       "      <td>1</td>\n",
       "    </tr>\n",
       "    <tr>\n",
       "      <th>183</th>\n",
       "      <td>-0.458706</td>\n",
       "      <td>-0.550071</td>\n",
       "      <td>-0.761888</td>\n",
       "      <td>0.724207</td>\n",
       "      <td>0.612860</td>\n",
       "      <td>-0.769311</td>\n",
       "      <td>-0.707107</td>\n",
       "      <td>1.414214</td>\n",
       "      <td>-0.707107</td>\n",
       "      <td>1</td>\n",
       "    </tr>\n",
       "    <tr>\n",
       "      <th>185</th>\n",
       "      <td>0.266185</td>\n",
       "      <td>0.102963</td>\n",
       "      <td>-0.484319</td>\n",
       "      <td>0.904877</td>\n",
       "      <td>0.863290</td>\n",
       "      <td>-0.769311</td>\n",
       "      <td>-0.707107</td>\n",
       "      <td>1.414214</td>\n",
       "      <td>-0.707107</td>\n",
       "      <td>1</td>\n",
       "    </tr>\n",
       "    <tr>\n",
       "      <th>187</th>\n",
       "      <td>0.672358</td>\n",
       "      <td>0.617836</td>\n",
       "      <td>-0.580238</td>\n",
       "      <td>0.917086</td>\n",
       "      <td>0.834145</td>\n",
       "      <td>-0.769311</td>\n",
       "      <td>-0.707107</td>\n",
       "      <td>1.414214</td>\n",
       "      <td>-0.707107</td>\n",
       "      <td>1</td>\n",
       "    </tr>\n",
       "    <tr>\n",
       "      <th>189</th>\n",
       "      <td>0.629772</td>\n",
       "      <td>0.658084</td>\n",
       "      <td>-0.727306</td>\n",
       "      <td>-0.009954</td>\n",
       "      <td>0.881640</td>\n",
       "      <td>-0.754947</td>\n",
       "      <td>-0.707107</td>\n",
       "      <td>1.414214</td>\n",
       "      <td>-0.707107</td>\n",
       "      <td>1</td>\n",
       "    </tr>\n",
       "    <tr>\n",
       "      <th>191</th>\n",
       "      <td>0.580145</td>\n",
       "      <td>0.442813</td>\n",
       "      <td>-0.317855</td>\n",
       "      <td>1.014681</td>\n",
       "      <td>0.910785</td>\n",
       "      <td>-0.711857</td>\n",
       "      <td>-0.707107</td>\n",
       "      <td>1.414214</td>\n",
       "      <td>-0.707107</td>\n",
       "      <td>1</td>\n",
       "    </tr>\n",
       "    <tr>\n",
       "      <th>193</th>\n",
       "      <td>0.348419</td>\n",
       "      <td>0.680137</td>\n",
       "      <td>-0.458240</td>\n",
       "      <td>0.862397</td>\n",
       "      <td>0.879481</td>\n",
       "      <td>-0.711857</td>\n",
       "      <td>-0.707107</td>\n",
       "      <td>1.414214</td>\n",
       "      <td>-0.707107</td>\n",
       "      <td>1</td>\n",
       "    </tr>\n",
       "    <tr>\n",
       "      <th>195</th>\n",
       "      <td>0.331550</td>\n",
       "      <td>0.493678</td>\n",
       "      <td>-1.495578</td>\n",
       "      <td>0.521128</td>\n",
       "      <td>0.411005</td>\n",
       "      <td>-0.683130</td>\n",
       "      <td>-0.707107</td>\n",
       "      <td>-0.707107</td>\n",
       "      <td>1.414214</td>\n",
       "      <td>1</td>\n",
       "    </tr>\n",
       "    <tr>\n",
       "      <th>197</th>\n",
       "      <td>0.814436</td>\n",
       "      <td>0.965571</td>\n",
       "      <td>-0.854548</td>\n",
       "      <td>0.720736</td>\n",
       "      <td>0.673309</td>\n",
       "      <td>-0.668767</td>\n",
       "      <td>-0.707107</td>\n",
       "      <td>-0.707107</td>\n",
       "      <td>1.414214</td>\n",
       "      <td>1</td>\n",
       "    </tr>\n",
       "    <tr>\n",
       "      <th>199</th>\n",
       "      <td>0.622743</td>\n",
       "      <td>0.678852</td>\n",
       "      <td>-0.775409</td>\n",
       "      <td>0.679987</td>\n",
       "      <td>0.632290</td>\n",
       "      <td>-0.697494</td>\n",
       "      <td>-0.707107</td>\n",
       "      <td>-0.707107</td>\n",
       "      <td>1.414214</td>\n",
       "      <td>1</td>\n",
       "    </tr>\n",
       "    <tr>\n",
       "      <th>201</th>\n",
       "      <td>0.741537</td>\n",
       "      <td>0.996862</td>\n",
       "      <td>-0.784585</td>\n",
       "      <td>0.693785</td>\n",
       "      <td>0.663594</td>\n",
       "      <td>-0.668767</td>\n",
       "      <td>-0.707107</td>\n",
       "      <td>-0.707107</td>\n",
       "      <td>1.414214</td>\n",
       "      <td>1</td>\n",
       "    </tr>\n",
       "    <tr>\n",
       "      <th>203</th>\n",
       "      <td>0.744953</td>\n",
       "      <td>0.743654</td>\n",
       "      <td>-0.317603</td>\n",
       "      <td>0.647572</td>\n",
       "      <td>0.599907</td>\n",
       "      <td>-0.654404</td>\n",
       "      <td>-0.707107</td>\n",
       "      <td>-0.707107</td>\n",
       "      <td>1.414214</td>\n",
       "      <td>1</td>\n",
       "    </tr>\n",
       "  </tbody>\n",
       "</table>\n",
       "</div>"
      ],
      "text/plain": [
       "     X.abs_min_discharge_capacity_difference_cycles_2:100  \\\n",
       "139                                           0.006799      \n",
       "141                                          -0.204729      \n",
       "143                                          -0.368825      \n",
       "145                                          -1.046366      \n",
       "147                                          -0.905924      \n",
       "149                                          -2.545580      \n",
       "151                                           0.840981      \n",
       "153                                           0.348041      \n",
       "155                                           0.598156      \n",
       "157                                           0.659558      \n",
       "159                                           0.342865      \n",
       "161                                           0.420035      \n",
       "163                                           0.840652      \n",
       "165                                           0.816995      \n",
       "167                                           0.696427      \n",
       "169                                           0.772379      \n",
       "171                                           0.501801      \n",
       "173                                           0.024392      \n",
       "175                                           0.096999      \n",
       "177                                          -0.668316      \n",
       "179                                           0.202542      \n",
       "181                                          -1.271876      \n",
       "183                                          -0.458706      \n",
       "185                                           0.266185      \n",
       "187                                           0.672358      \n",
       "189                                           0.629772      \n",
       "191                                           0.580145      \n",
       "193                                           0.348419      \n",
       "195                                           0.331550      \n",
       "197                                           0.814436      \n",
       "199                                           0.622743      \n",
       "201                                           0.741537      \n",
       "203                                           0.744953      \n",
       "\n",
       "     X.abs_variance_discharge_capacity_difference_cycles_2:100  \\\n",
       "139                                          -0.869904           \n",
       "141                                          -0.445873           \n",
       "143                                          -0.883444           \n",
       "145                                          -1.197932           \n",
       "147                                          -1.278623           \n",
       "149                                          -2.375161           \n",
       "151                                           0.952199           \n",
       "153                                           0.179953           \n",
       "155                                           0.598719           \n",
       "157                                           0.763219           \n",
       "159                                           0.238652           \n",
       "161                                           0.420834           \n",
       "163                                           0.957545           \n",
       "165                                           0.878288           \n",
       "167                                           0.850355           \n",
       "169                                           0.830251           \n",
       "171                                           0.697945           \n",
       "173                                          -0.513433           \n",
       "175                                          -0.396801           \n",
       "177                                          -0.958425           \n",
       "179                                           0.309538           \n",
       "181                                          -1.604695           \n",
       "183                                          -0.550071           \n",
       "185                                           0.102963           \n",
       "187                                           0.617836           \n",
       "189                                           0.658084           \n",
       "191                                           0.442813           \n",
       "193                                           0.680137           \n",
       "195                                           0.493678           \n",
       "197                                           0.965571           \n",
       "199                                           0.678852           \n",
       "201                                           0.996862           \n",
       "203                                           0.743654           \n",
       "\n",
       "     X.slope_discharge_capacity_cycle_number_2:100  \\\n",
       "139                                       1.535856   \n",
       "141                                       1.521056   \n",
       "143                                       1.523016   \n",
       "145                                       1.460215   \n",
       "147                                       0.953136   \n",
       "149                                       0.817268   \n",
       "151                                      -0.904396   \n",
       "153                                      -0.445998   \n",
       "155                                      -0.400421   \n",
       "157                                      -0.646456   \n",
       "159                                       0.073156   \n",
       "161                                      -0.969656   \n",
       "163                                      -0.987932   \n",
       "165                                      -0.864826   \n",
       "167                                      -0.865995   \n",
       "169                                      -0.739292   \n",
       "171                                      -0.594198   \n",
       "173                                       1.540352   \n",
       "175                                       1.528480   \n",
       "177                                       1.519544   \n",
       "179                                       1.462734   \n",
       "181                                       0.980825   \n",
       "183                                      -0.761888   \n",
       "185                                      -0.484319   \n",
       "187                                      -0.580238   \n",
       "189                                      -0.727306   \n",
       "191                                      -0.317855   \n",
       "193                                      -0.458240   \n",
       "195                                      -1.495578   \n",
       "197                                      -0.854548   \n",
       "199                                      -0.775409   \n",
       "201                                      -0.784585   \n",
       "203                                      -0.317603   \n",
       "\n",
       "     X.intercept_discharge_capacity_cycle_number_2:100  \\\n",
       "139                                          -1.185324   \n",
       "141                                          -1.196766   \n",
       "143                                          -1.195707   \n",
       "145                                          -1.196219   \n",
       "147                                          -1.575876   \n",
       "149                                          -1.933526   \n",
       "151                                           0.692920   \n",
       "153                                           0.878227   \n",
       "155                                           0.800545   \n",
       "157                                          -0.053441   \n",
       "159                                           0.990211   \n",
       "161                                           0.441494   \n",
       "163                                           0.755724   \n",
       "165                                           0.706211   \n",
       "167                                           0.706944   \n",
       "169                                           0.705440   \n",
       "171                                           0.700345   \n",
       "173                                          -1.198222   \n",
       "175                                          -1.191062   \n",
       "177                                          -1.199619   \n",
       "179                                          -1.174441   \n",
       "181                                          -1.581500   \n",
       "183                                           0.724207   \n",
       "185                                           0.904877   \n",
       "187                                           0.917086   \n",
       "189                                          -0.009954   \n",
       "191                                           1.014681   \n",
       "193                                           0.862397   \n",
       "195                                           0.521128   \n",
       "197                                           0.720736   \n",
       "199                                           0.679987   \n",
       "201                                           0.693785   \n",
       "203                                           0.647572   \n",
       "\n",
       "     X.discharge_capacity_cycle_2  X.charge_time_cycles_1:5     X.LFP  \\\n",
       "139                     -1.406771                  1.399558  1.414214   \n",
       "141                     -1.415407                  1.399558  1.414214   \n",
       "143                     -1.411089                  1.413921  1.414214   \n",
       "145                     -1.407851                  1.399558  1.414214   \n",
       "147                     -1.380865                  1.457011  1.414214   \n",
       "149                     -1.395977                  1.421103  1.414214   \n",
       "151                      0.602066                 -0.726220 -0.707107   \n",
       "153                      0.838463                 -0.754947 -0.707107   \n",
       "155                      0.834145                 -0.754947 -0.707107   \n",
       "157                      0.813636                 -0.769311 -0.707107   \n",
       "159                      0.930215                 -0.697494 -0.707107   \n",
       "161                      0.254486                 -0.683130 -0.707107   \n",
       "163                      0.698136                 -0.683130 -0.707107   \n",
       "165                      0.665752                 -0.683130 -0.707107   \n",
       "167                      0.671150                 -0.697494 -0.707107   \n",
       "169                      0.668991                 -0.625677 -0.707107   \n",
       "171                      0.662514                 -0.640040 -0.707107   \n",
       "173                     -1.417566                  1.413921  1.414214   \n",
       "175                     -1.412168                  1.399558  1.414214   \n",
       "177                     -1.417566                  1.399558  1.414214   \n",
       "179                     -1.383024                  1.399558  1.414214   \n",
       "181                     -1.399215                  1.421103  1.414214   \n",
       "183                      0.612860                 -0.769311 -0.707107   \n",
       "185                      0.863290                 -0.769311 -0.707107   \n",
       "187                      0.834145                 -0.769311 -0.707107   \n",
       "189                      0.881640                 -0.754947 -0.707107   \n",
       "191                      0.910785                 -0.711857 -0.707107   \n",
       "193                      0.879481                 -0.711857 -0.707107   \n",
       "195                      0.411005                 -0.683130 -0.707107   \n",
       "197                      0.673309                 -0.668767 -0.707107   \n",
       "199                      0.632290                 -0.697494 -0.707107   \n",
       "201                      0.663594                 -0.668767 -0.707107   \n",
       "203                      0.599907                 -0.654404 -0.707107   \n",
       "\n",
       "        X.NCA     X.NMC  Source  \n",
       "139 -0.707107 -0.707107       1  \n",
       "141 -0.707107 -0.707107       1  \n",
       "143 -0.707107 -0.707107       1  \n",
       "145 -0.707107 -0.707107       1  \n",
       "147 -0.707107 -0.707107       1  \n",
       "149 -0.707107 -0.707107       1  \n",
       "151  1.414214 -0.707107       1  \n",
       "153  1.414214 -0.707107       1  \n",
       "155  1.414214 -0.707107       1  \n",
       "157  1.414214 -0.707107       1  \n",
       "159  1.414214 -0.707107       1  \n",
       "161 -0.707107  1.414214       1  \n",
       "163 -0.707107  1.414214       1  \n",
       "165 -0.707107  1.414214       1  \n",
       "167 -0.707107  1.414214       1  \n",
       "169 -0.707107  1.414214       1  \n",
       "171 -0.707107  1.414214       1  \n",
       "173 -0.707107 -0.707107       1  \n",
       "175 -0.707107 -0.707107       1  \n",
       "177 -0.707107 -0.707107       1  \n",
       "179 -0.707107 -0.707107       1  \n",
       "181 -0.707107 -0.707107       1  \n",
       "183  1.414214 -0.707107       1  \n",
       "185  1.414214 -0.707107       1  \n",
       "187  1.414214 -0.707107       1  \n",
       "189  1.414214 -0.707107       1  \n",
       "191  1.414214 -0.707107       1  \n",
       "193  1.414214 -0.707107       1  \n",
       "195 -0.707107  1.414214       1  \n",
       "197 -0.707107  1.414214       1  \n",
       "199 -0.707107  1.414214       1  \n",
       "201 -0.707107  1.414214       1  \n",
       "203 -0.707107  1.414214       1  "
      ]
     },
     "execution_count": 79,
     "metadata": {},
     "output_type": "execute_result"
    }
   ],
   "source": [
    "X_test_full"
   ]
  },
  {
   "cell_type": "code",
   "execution_count": 80,
   "id": "fallen-anaheim",
   "metadata": {},
   "outputs": [
    {
     "name": "stdout",
     "output_type": "stream",
     "text": [
      "Full Elastic Net Model\n",
      "l1_ratio = 0.05\n",
      "Test RMSE:  1294.1949696386337\n",
      "Test Mean Absolute % Error:  25.7914827836355\n"
     ]
    }
   ],
   "source": [
    "k_fold = 5\n",
    "l1_ratios = [i/20 for i in range(1, 21)]   #use this when testing different ratios\n",
    "#l1_ratios = [0.8]   #use this when using only the best ratio\n",
    "max_iter = 1000000\n",
    "random_state = 1\n",
    "test_size = 2\n",
    "tol = 0.0001\n",
    "\n",
    "models = []\n",
    "y_pred_trains = []\n",
    "y_pred_tests = []\n",
    "train_rmses = []\n",
    "test_rmses = []\n",
    "train_mapes = []\n",
    "test_mapes = []\n",
    "\n",
    "for l1_ratio in l1_ratios:\n",
    "    elasticnetcv = ElasticNetCV(\n",
    "        fit_intercept=True,\n",
    "        normalize=False,\n",
    "        alphas=None,\n",
    "        cv=k_fold,\n",
    "        l1_ratio=l1_ratio,\n",
    "        max_iter=max_iter,\n",
    "    )\n",
    "    \n",
    "    if log_transformation:\n",
    "        y_train = np.log(y_train)\n",
    "        y_test = np.log(y_test)\n",
    "        \n",
    "    elasticnetcv.fit(X_train_full, y_train.values.ravel())\n",
    "\n",
    "    elasticnet_full = ElasticNet(\n",
    "        fit_intercept=True,\n",
    "        normalize=False,\n",
    "        l1_ratio=elasticnetcv.l1_ratio_,\n",
    "        alpha=elasticnetcv.alpha_,\n",
    "        max_iter=max_iter,\n",
    "    )\n",
    "\n",
    "    elasticnet_full.fit(X_train_full, y_train.values.ravel())\n",
    "    y_pred_train_en_full = elasticnet_full.predict(X_train_full)\n",
    "    y_pred_test_en_full = elasticnet_full.predict(X_test_full)\n",
    "\n",
    "    if log_transformation:\n",
    "        y_train = np.exp(y_train)\n",
    "        y_test = np.exp(y_test)\n",
    "        y_pred_train_en_full = np.exp(y_pred_train_en_full)\n",
    "        y_pred_test_en_full = np.exp(y_pred_test_en_full)\n",
    "        \n",
    "    rmse_train_en_full = np.sqrt(mean_squared_error(y_train, y_pred_train_en_full))\n",
    "    rmse_test_en_full = np.sqrt(mean_squared_error(y_test, y_pred_test_en_full))\n",
    "    mape_train_en_full = mean_absolute_percentage_error(y_train, y_pred_train_en_full)*100\n",
    "    mape_test_en_full = mean_absolute_percentage_error(y_test, y_pred_test_en_full)*100\n",
    "\n",
    "    models.append(elasticnet_full)\n",
    "    y_pred_trains.append(y_pred_train_en_full)\n",
    "    y_pred_tests.append(y_pred_test_en_full)\n",
    "    train_rmses.append(rmse_train_en_full)\n",
    "    test_rmses.append(rmse_test_en_full)\n",
    "    train_mapes.append(mape_train_en_full)\n",
    "    test_mapes.append(mape_test_en_full)\n",
    "\n",
    "best_model_index = test_rmses.index(min(test_rmses))\n",
    "\n",
    "elasticnet_full = models[best_model_index]\n",
    "y_pred_train_en_full = y_pred_trains[best_model_index]\n",
    "y_pred_test_en_full = y_pred_tests[best_model_index]\n",
    "rmse_train_full_en = train_rmses[best_model_index]\n",
    "rmse_test_full_en = test_rmses[best_model_index]\n",
    "l1_ratio_full = l1_ratios[best_model_index]\n",
    "mape_train_full_en = train_mapes[best_model_index]\n",
    "mape_test_full_en = test_mapes[best_model_index]\n",
    "\n",
    "print(\"Full Elastic Net Model\")\n",
    "print(\"l1_ratio =\", l1_ratio_full)\n",
    "print(\"Test RMSE: \", rmse_test_full_en)\n",
    "print(\"Test Mean Absolute % Error: \", mape_test_full_en)"
   ]
  },
  {
   "cell_type": "code",
   "execution_count": 81,
   "id": "false-million",
   "metadata": {},
   "outputs": [
    {
     "data": {
      "image/png": "[encoded data removed]",
      "text/plain": [
       "<Figure size 432x288 with 1 Axes>"
      ]
     },
     "metadata": {
      "needs_background": "light"
     },
     "output_type": "display_data"
    }
   ],
   "source": [
    "plt.scatter(l1_ratios, test_rmses)\n",
    "plt.title(\"Test RMSE by Ridge/Lasso Ratio (Full Model)\")\n",
    "plt.xlabel(\"L1 Ratio (0 = Ridge, 1 = Lasso)\")\n",
    "plt.ylabel(\"Test RMSE\");"
   ]
  },
  {
   "cell_type": "code",
   "execution_count": 82,
   "id": "little-immunology",
   "metadata": {},
   "outputs": [
    {
     "data": {
      "text/html": [
       "<div>\n",
       "<style scoped>\n",
       "    .dataframe tbody tr th:only-of-type {\n",
       "        vertical-align: middle;\n",
       "    }\n",
       "\n",
       "    .dataframe tbody tr th {\n",
       "        vertical-align: top;\n",
       "    }\n",
       "\n",
       "    .dataframe thead th {\n",
       "        text-align: right;\n",
       "    }\n",
       "</style>\n",
       "<table border=\"1\" class=\"dataframe\">\n",
       "  <thead>\n",
       "    <tr style=\"text-align: right;\">\n",
       "      <th></th>\n",
       "      <th>X.abs_min_discharge_capacity_difference_cycles_2:100</th>\n",
       "      <th>X.abs_variance_discharge_capacity_difference_cycles_2:100</th>\n",
       "      <th>X.slope_discharge_capacity_cycle_number_2:100</th>\n",
       "      <th>X.intercept_discharge_capacity_cycle_number_2:100</th>\n",
       "      <th>X.discharge_capacity_cycle_2</th>\n",
       "      <th>X.charge_time_cycles_1:5</th>\n",
       "      <th>X.LFP</th>\n",
       "      <th>X.NCA</th>\n",
       "      <th>X.NMC</th>\n",
       "      <th>Source</th>\n",
       "    </tr>\n",
       "  </thead>\n",
       "  <tbody>\n",
       "    <tr>\n",
       "      <th>0</th>\n",
       "      <td>1.591416</td>\n",
       "      <td>1.279236</td>\n",
       "      <td>-1.218165</td>\n",
       "      <td>-2.076291</td>\n",
       "      <td>-2.004938</td>\n",
       "      <td>2.652259</td>\n",
       "      <td>1.414214</td>\n",
       "      <td>-0.707107</td>\n",
       "      <td>-0.707107</td>\n",
       "      <td>-1</td>\n",
       "    </tr>\n",
       "    <tr>\n",
       "      <th>1</th>\n",
       "      <td>0.967965</td>\n",
       "      <td>1.067630</td>\n",
       "      <td>-1.174345</td>\n",
       "      <td>0.146487</td>\n",
       "      <td>0.162634</td>\n",
       "      <td>-1.458287</td>\n",
       "      <td>1.414214</td>\n",
       "      <td>-0.707107</td>\n",
       "      <td>-0.707107</td>\n",
       "      <td>-1</td>\n",
       "    </tr>\n",
       "    <tr>\n",
       "      <th>2</th>\n",
       "      <td>-1.148579</td>\n",
       "      <td>-0.990533</td>\n",
       "      <td>0.699600</td>\n",
       "      <td>0.291681</td>\n",
       "      <td>0.283994</td>\n",
       "      <td>1.157515</td>\n",
       "      <td>1.414214</td>\n",
       "      <td>-0.707107</td>\n",
       "      <td>-0.707107</td>\n",
       "      <td>-1</td>\n",
       "    </tr>\n",
       "    <tr>\n",
       "      <th>3</th>\n",
       "      <td>-1.188851</td>\n",
       "      <td>-1.124963</td>\n",
       "      <td>0.702884</td>\n",
       "      <td>0.053402</td>\n",
       "      <td>0.073360</td>\n",
       "      <td>0.036457</td>\n",
       "      <td>1.414214</td>\n",
       "      <td>-0.707107</td>\n",
       "      <td>-0.707107</td>\n",
       "      <td>-1</td>\n",
       "    </tr>\n",
       "    <tr>\n",
       "      <th>4</th>\n",
       "      <td>0.005824</td>\n",
       "      <td>0.116756</td>\n",
       "      <td>0.283323</td>\n",
       "      <td>0.654635</td>\n",
       "      <td>0.719217</td>\n",
       "      <td>-0.710915</td>\n",
       "      <td>1.414214</td>\n",
       "      <td>-0.707107</td>\n",
       "      <td>-0.707107</td>\n",
       "      <td>-1</td>\n",
       "    </tr>\n",
       "    <tr>\n",
       "      <th>...</th>\n",
       "      <td>...</td>\n",
       "      <td>...</td>\n",
       "      <td>...</td>\n",
       "      <td>...</td>\n",
       "      <td>...</td>\n",
       "      <td>...</td>\n",
       "      <td>...</td>\n",
       "      <td>...</td>\n",
       "      <td>...</td>\n",
       "      <td>...</td>\n",
       "    </tr>\n",
       "    <tr>\n",
       "      <th>196</th>\n",
       "      <td>0.758536</td>\n",
       "      <td>0.710530</td>\n",
       "      <td>-1.091279</td>\n",
       "      <td>0.566745</td>\n",
       "      <td>0.608542</td>\n",
       "      <td>-0.668767</td>\n",
       "      <td>-0.707107</td>\n",
       "      <td>-0.707107</td>\n",
       "      <td>1.414214</td>\n",
       "      <td>1</td>\n",
       "    </tr>\n",
       "    <tr>\n",
       "      <th>198</th>\n",
       "      <td>0.804366</td>\n",
       "      <td>0.975074</td>\n",
       "      <td>-0.761647</td>\n",
       "      <td>0.687311</td>\n",
       "      <td>0.634449</td>\n",
       "      <td>-0.683130</td>\n",
       "      <td>-0.707107</td>\n",
       "      <td>-0.707107</td>\n",
       "      <td>1.414214</td>\n",
       "      <td>1</td>\n",
       "    </tr>\n",
       "    <tr>\n",
       "      <th>200</th>\n",
       "      <td>0.671780</td>\n",
       "      <td>0.843633</td>\n",
       "      <td>-0.842425</td>\n",
       "      <td>0.696476</td>\n",
       "      <td>0.642005</td>\n",
       "      <td>-0.668767</td>\n",
       "      <td>-0.707107</td>\n",
       "      <td>-0.707107</td>\n",
       "      <td>1.414214</td>\n",
       "      <td>1</td>\n",
       "    </tr>\n",
       "    <tr>\n",
       "      <th>202</th>\n",
       "      <td>0.756250</td>\n",
       "      <td>0.812361</td>\n",
       "      <td>-1.108138</td>\n",
       "      <td>0.723577</td>\n",
       "      <td>0.649561</td>\n",
       "      <td>-0.640040</td>\n",
       "      <td>-0.707107</td>\n",
       "      <td>-0.707107</td>\n",
       "      <td>1.414214</td>\n",
       "      <td>1</td>\n",
       "    </tr>\n",
       "    <tr>\n",
       "      <th>204</th>\n",
       "      <td>0.772100</td>\n",
       "      <td>0.852432</td>\n",
       "      <td>-0.655279</td>\n",
       "      <td>0.669749</td>\n",
       "      <td>0.617178</td>\n",
       "      <td>-0.640040</td>\n",
       "      <td>-0.707107</td>\n",
       "      <td>-0.707107</td>\n",
       "      <td>1.414214</td>\n",
       "      <td>1</td>\n",
       "    </tr>\n",
       "  </tbody>\n",
       "</table>\n",
       "<p>172 rows × 10 columns</p>\n",
       "</div>"
      ],
      "text/plain": [
       "     X.abs_min_discharge_capacity_difference_cycles_2:100  \\\n",
       "0                                             1.591416      \n",
       "1                                             0.967965      \n",
       "2                                            -1.148579      \n",
       "3                                            -1.188851      \n",
       "4                                             0.005824      \n",
       "..                                                 ...      \n",
       "196                                           0.758536      \n",
       "198                                           0.804366      \n",
       "200                                           0.671780      \n",
       "202                                           0.756250      \n",
       "204                                           0.772100      \n",
       "\n",
       "     X.abs_variance_discharge_capacity_difference_cycles_2:100  \\\n",
       "0                                             1.279236           \n",
       "1                                             1.067630           \n",
       "2                                            -0.990533           \n",
       "3                                            -1.124963           \n",
       "4                                             0.116756           \n",
       "..                                                 ...           \n",
       "196                                           0.710530           \n",
       "198                                           0.975074           \n",
       "200                                           0.843633           \n",
       "202                                           0.812361           \n",
       "204                                           0.852432           \n",
       "\n",
       "     X.slope_discharge_capacity_cycle_number_2:100  \\\n",
       "0                                        -1.218165   \n",
       "1                                        -1.174345   \n",
       "2                                         0.699600   \n",
       "3                                         0.702884   \n",
       "4                                         0.283323   \n",
       "..                                             ...   \n",
       "196                                      -1.091279   \n",
       "198                                      -0.761647   \n",
       "200                                      -0.842425   \n",
       "202                                      -1.108138   \n",
       "204                                      -0.655279   \n",
       "\n",
       "     X.intercept_discharge_capacity_cycle_number_2:100  \\\n",
       "0                                            -2.076291   \n",
       "1                                             0.146487   \n",
       "2                                             0.291681   \n",
       "3                                             0.053402   \n",
       "4                                             0.654635   \n",
       "..                                                 ...   \n",
       "196                                           0.566745   \n",
       "198                                           0.687311   \n",
       "200                                           0.696476   \n",
       "202                                           0.723577   \n",
       "204                                           0.669749   \n",
       "\n",
       "     X.discharge_capacity_cycle_2  X.charge_time_cycles_1:5     X.LFP  \\\n",
       "0                       -2.004938                  2.652259  1.414214   \n",
       "1                        0.162634                 -1.458287  1.414214   \n",
       "2                        0.283994                  1.157515  1.414214   \n",
       "3                        0.073360                  0.036457  1.414214   \n",
       "4                        0.719217                 -0.710915  1.414214   \n",
       "..                            ...                       ...       ...   \n",
       "196                      0.608542                 -0.668767 -0.707107   \n",
       "198                      0.634449                 -0.683130 -0.707107   \n",
       "200                      0.642005                 -0.668767 -0.707107   \n",
       "202                      0.649561                 -0.640040 -0.707107   \n",
       "204                      0.617178                 -0.640040 -0.707107   \n",
       "\n",
       "        X.NCA     X.NMC  Source  \n",
       "0   -0.707107 -0.707107      -1  \n",
       "1   -0.707107 -0.707107      -1  \n",
       "2   -0.707107 -0.707107      -1  \n",
       "3   -0.707107 -0.707107      -1  \n",
       "4   -0.707107 -0.707107      -1  \n",
       "..        ...       ...     ...  \n",
       "196 -0.707107  1.414214       1  \n",
       "198 -0.707107  1.414214       1  \n",
       "200 -0.707107  1.414214       1  \n",
       "202 -0.707107  1.414214       1  \n",
       "204 -0.707107  1.414214       1  \n",
       "\n",
       "[172 rows x 10 columns]"
      ]
     },
     "execution_count": 82,
     "metadata": {},
     "output_type": "execute_result"
    }
   ],
   "source": [
    "X_train_full"
   ]
  },
  {
   "cell_type": "code",
   "execution_count": 83,
   "id": "simple-lending",
   "metadata": {},
   "outputs": [
    {
     "data": {
      "text/plain": [
       "Text(0.5, 1.0, 'Full Model Predicted vs. True Values (EN)')"
      ]
     },
     "execution_count": 83,
     "metadata": {},
     "output_type": "execute_result"
    },
    {
     "data": {
      "image/png": "[encoded data removed]",
      "text/plain": [
       "<Figure size 432x288 with 1 Axes>"
      ]
     },
     "metadata": {
      "needs_background": "light"
     },
     "output_type": "display_data"
    }
   ],
   "source": [
    "#Elastic Net\n",
    "min_full = y_test.min()[0]\n",
    "max_full = y_test.max()[0]\n",
    "\n",
    "plt.scatter(y_test, y_pred_test_en_full)\n",
    "plt.plot([0, max_full], [0, max_full], color=\"red\")\n",
    "plt.xlabel(\"True Values\")\n",
    "plt.ylabel(\"Predicted Values\")\n",
    "plt.title(\"Full Model Predicted vs. True Values (EN)\")\n",
    "# plt.ylim(0,8000)\n",
    "# plt.xlim(0,8000)"
   ]
  },
  {
   "cell_type": "markdown",
   "id": "tropical-middle",
   "metadata": {},
   "source": [
    "## Old + New Data Plots"
   ]
  },
  {
   "cell_type": "code",
   "execution_count": 84,
   "id": "tutorial-latin",
   "metadata": {},
   "outputs": [
    {
     "name": "stderr",
     "output_type": "stream",
     "text": [
      "C:\\Users\\david\\Anaconda3\\lib\\site-packages\\seaborn\\distributions.py:2557: FutureWarning: `distplot` is a deprecated function and will be removed in a future version. Please adapt your code to use either `displot` (a figure-level function with similar flexibility) or `histplot` (an axes-level function for histograms).\n",
      "  warnings.warn(msg, FutureWarning)\n"
     ]
    },
    {
     "data": {
      "image/png": "[encoded data removed]",
      "text/plain": [
       "<Figure size 432x288 with 1 Axes>"
      ]
     },
     "metadata": {
      "needs_background": "light"
     },
     "output_type": "display_data"
    }
   ],
   "source": [
    "sns.distplot(old_ct[y], kde=False, color=\"yellow\", label='Old Data', bins=5)\n",
    "sns.distplot(new_ct_full[y], kde=False, color=\"red\", label='New Data', bins=10)\n",
    "\n",
    "# Plot formatting\n",
    "plt.legend(prop={'size': 12})\n",
    "if ct:\n",
    "    plt.title('Average Charge Throughput of Data Sources')\n",
    "    plt.xlabel('Charge Throughput')\n",
    "else:\n",
    "    plt.title('Average Cycle Life of Data Sources')\n",
    "    plt.xlabel('Cycle Life')\n",
    "plt.ylabel('Frequency');"
   ]
  },
  {
   "cell_type": "code",
   "execution_count": 85,
   "id": "anonymous-success",
   "metadata": {},
   "outputs": [
    {
     "data": {
      "image/png": "[encoded data removed]",
      "text/plain": [
       "<Figure size 432x288 with 1 Axes>"
      ]
     },
     "metadata": {
      "needs_background": "light"
     },
     "output_type": "display_data"
    }
   ],
   "source": [
    "sns.histplot(new_ct_full[y], color=\"red\", label='New Data')\n",
    "sns.histplot(full_data[y], color = \"yellow\", label = 'Combined Data')\n",
    "sns.histplot(old_ct[y], color=\"blue\", label='Old Data')\n",
    "\n",
    "\n",
    "# Plot formatting\n",
    "plt.legend(prop={'size': 12})\n",
    "if ct:\n",
    "    plt.title('Average Charge Throughput of Data Sources')\n",
    "    plt.xlabel('Charge Throughput')\n",
    "else:\n",
    "    plt.title('Average Cycle Life of Data Sources')\n",
    "    plt.xlabel('Cycle Life')\n",
    "plt.ylabel('Frequency');"
   ]
  },
  {
   "cell_type": "code",
   "execution_count": 86,
   "id": "historical-stations",
   "metadata": {},
   "outputs": [],
   "source": [
    "all_data_metrics = pd.DataFrame(data = {\"Model & Source\": [\"Var (Linear)\", \"Var (E.N.)\", \n",
    "                                                           \"Disc (Linear)\", \"Disc (E.N.)\",\n",
    "                                                           \"Full (Linear)\", \"Full (E.N.)\"],\n",
    "                               \n",
    "                               \"Model\": [\"Variance\", \"Variance\",\n",
    "                                         \"Discharge\", \"Discharge\",\n",
    "                                         \"Full\", \"Full\"],\n",
    "                                        \n",
    "                               \"Source\": [\"Basic Linear Regression\", \"Elastic Net\",\n",
    "                                          \"Basic Linear Regression\", \"Elastic Net\",\n",
    "                                          \"Basic Linear Regression\", \"Elastic Net\"],\n",
    "                                        \n",
    "                               \"Train RMSE\": [rmse_train_var, rmse_train_var_en,\n",
    "                                              rmse_train_dis, rmse_train_dis_en,\n",
    "                                              rmse_train_full, rmse_train_full_en],\n",
    "                               \n",
    "                               \"Test RMSE\": [rmse_test_var, rmse_test_var_en,\n",
    "                                             rmse_test_dis, rmse_test_dis_en,\n",
    "                                             rmse_test_full, rmse_test_full_en],\n",
    "                               \n",
    "                               \"Mean % Train Error\": [mape_train_var, mape_train_var_en,\n",
    "                                                      mape_train_dis, mape_train_dis_en,\n",
    "                                                      mape_train_full, mape_train_full_en],\n",
    "                               \n",
    "                               \"Mean % Test Error\": [mape_test_var, mape_test_var_en,\n",
    "                                                     mape_test_dis, mape_test_dis_en,\n",
    "                                                     mape_test_full, mape_test_full_en]})"
   ]
  },
  {
   "cell_type": "code",
   "execution_count": 87,
   "id": "phantom-cutting",
   "metadata": {},
   "outputs": [
    {
     "data": {
      "image/png": "[encoded data removed]",
      "text/plain": [
       "<Figure size 514.625x360 with 1 Axes>"
      ]
     },
     "metadata": {
      "needs_background": "light"
     },
     "output_type": "display_data"
    },
    {
     "data": {
      "image/png": "[encoded data removed]",
      "text/plain": [
       "<Figure size 514.625x360 with 1 Axes>"
      ]
     },
     "metadata": {
      "needs_background": "light"
     },
     "output_type": "display_data"
    },
    {
     "data": {
      "image/png": "[encoded data removed]",
      "text/plain": [
       "<Figure size 514.625x360 with 1 Axes>"
      ]
     },
     "metadata": {
      "needs_background": "light"
     },
     "output_type": "display_data"
    },
    {
     "data": {
      "image/png": "[encoded data removed]",
      "text/plain": [
       "<Figure size 514.625x360 with 1 Axes>"
      ]
     },
     "metadata": {
      "needs_background": "light"
     },
     "output_type": "display_data"
    }
   ],
   "source": [
    "for column in all_data_metrics.columns[3:]:\n",
    "    sns.catplot(data = all_data_metrics, kind=\"bar\",\n",
    "               x = \"Model\", y = column, hue = \"Source\")\n",
    "    plt.title(column + \" Comparison\")\n",
    "#     plt.ylim(0,2500)"
   ]
  },
  {
   "cell_type": "code",
   "execution_count": null,
   "id": "associate-immunology",
   "metadata": {},
   "outputs": [],
   "source": []
  }
 ],
 "metadata": {
  "kernelspec": {
   "display_name": "Python 3",
   "language": "python",
   "name": "python3"
  },
  "language_info": {
   "codemirror_mode": {
    "name": "ipython",
    "version": 3
   },
   "file_extension": ".py",
   "mimetype": "text/x-python",
   "name": "python",
   "nbconvert_exporter": "python",
   "pygments_lexer": "ipython3",
   "version": "3.7.4"
  }
 },
 "nbformat": 4,
 "nbformat_minor": 5
}
