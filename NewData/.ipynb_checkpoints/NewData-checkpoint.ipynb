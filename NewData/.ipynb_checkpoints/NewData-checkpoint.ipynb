{
 "cells": [
  {
   "cell_type": "code",
   "execution_count": 1,
   "metadata": {},
   "outputs": [],
   "source": [
    "import os\n",
    "os.environ[\"BEEP_ENV\"] = \"dev\"\n",
    "os.environ[\"BEEP_PROCESSING_DIR\"] =\"data_transfer\"\n",
    "data_dir = \"./data_transfer\""
   ]
  },
  {
   "cell_type": "code",
   "execution_count": 2,
   "metadata": {},
   "outputs": [],
   "source": [
    "import pandas as pd\n",
    "import numpy as np\n",
    "import glob\n",
    "import json\n",
    "from datetime import datetime\n",
    "from matplotlib import pyplot as plt\n",
    "from monty.serialization import loadfn\n",
    "from beep import structure, featurize"
   ]
  },
  {
   "cell_type": "code",
   "execution_count": 3,
   "metadata": {},
   "outputs": [],
   "source": [
    "def get_time(d):\n",
    "    ds = d.split(\".\")\n",
    "    x = datetime.strptime(ds[0], '%Y-%m-%d %H:%M:%S')\n",
    "    return x.timestamp() + float('.' + (ds[1]))"
   ]
  },
  {
   "cell_type": "markdown",
   "metadata": {},
   "source": [
    "If trying to load in new timeseries.csv, make sure they are in data_transfer"
   ]
  },
  {
   "cell_type": "code",
   "execution_count": 4,
   "metadata": {},
   "outputs": [
    {
     "data": {
      "text/plain": [
       "['./data_transfer\\\\SNL_18650_LFP_15C_0-100_0.5-1C_a_timeseries.csv',\n",
       " './data_transfer\\\\SNL_18650_LFP_15C_0-100_0.5-1C_b_timeseries.csv',\n",
       " './data_transfer\\\\SNL_18650_LFP_15C_0-100_0.5-2C_a_timeseries.csv',\n",
       " './data_transfer\\\\SNL_18650_LFP_15C_0-100_0.5-2C_b_timeseries.csv',\n",
       " './data_transfer\\\\SNL_18650_LFP_25C_0-100_0.5-0.5C_a_timeseries.csv',\n",
       " './data_transfer\\\\SNL_18650_LFP_25C_0-100_0.5-1C_a_timeseries.csv',\n",
       " './data_transfer\\\\SNL_18650_LFP_25C_0-100_0.5-1C_b_timeseries.csv',\n",
       " './data_transfer\\\\SNL_18650_LFP_25C_0-100_0.5-1C_c_timeseries.csv',\n",
       " './data_transfer\\\\SNL_18650_LFP_25C_0-100_0.5-1C_d_timeseries.csv',\n",
       " './data_transfer\\\\SNL_18650_LFP_25C_0-100_0.5-2C_a_timeseries.csv',\n",
       " './data_transfer\\\\SNL_18650_LFP_25C_0-100_0.5-2C_b_timeseries.csv',\n",
       " './data_transfer\\\\SNL_18650_LFP_25C_0-100_0.5-3C_a_timeseries.csv',\n",
       " './data_transfer\\\\SNL_18650_LFP_25C_0-100_0.5-3C_b_timeseries.csv',\n",
       " './data_transfer\\\\SNL_18650_LFP_25C_0-100_0.5-3C_c_timeseries.csv',\n",
       " './data_transfer\\\\SNL_18650_LFP_25C_0-100_0.5-3C_d_timeseries.csv',\n",
       " './data_transfer\\\\SNL_18650_LFP_25C_20-80_0.5-0.5C_a_timeseries.csv',\n",
       " './data_transfer\\\\SNL_18650_LFP_25C_20-80_0.5-0.5C_b_timeseries.csv',\n",
       " './data_transfer\\\\SNL_18650_LFP_25C_20-80_0.5-0.5C_c_timeseries.csv',\n",
       " './data_transfer\\\\SNL_18650_LFP_25C_20-80_0.5-0.5C_d_timeseries.csv',\n",
       " './data_transfer\\\\SNL_18650_LFP_25C_20-80_0.5-3C_a_timeseries.csv',\n",
       " './data_transfer\\\\SNL_18650_LFP_25C_40-60_0.5-0.5C_a_timeseries.csv',\n",
       " './data_transfer\\\\SNL_18650_LFP_25C_40-60_0.5-0.5C_b_timeseries.csv',\n",
       " './data_transfer\\\\SNL_18650_LFP_25C_40-60_0.5-3C_a_timeseries.csv',\n",
       " './data_transfer\\\\SNL_18650_LFP_25C_40-60_0.5-3C_b_timeseries.csv',\n",
       " './data_transfer\\\\SNL_18650_LFP_35C_0-100_0.5-1C_a_timeseries.csv',\n",
       " './data_transfer\\\\SNL_18650_LFP_35C_0-100_0.5-1C_b_timeseries.csv',\n",
       " './data_transfer\\\\SNL_18650_LFP_35C_0-100_0.5-1C_c_timeseries.csv',\n",
       " './data_transfer\\\\SNL_18650_LFP_35C_0-100_0.5-1C_d_timeseries.csv',\n",
       " './data_transfer\\\\SNL_18650_LFP_35C_0-100_0.5-2C_a_timeseries.csv',\n",
       " './data_transfer\\\\SNL_18650_LFP_35C_0-100_0.5-2C_b_timeseries.csv']"
      ]
     },
     "execution_count": 4,
     "metadata": {},
     "output_type": "execute_result"
    }
   ],
   "source": [
    "data_dir = \"./data_transfer\"\n",
    "file_list = glob.glob(os.path.join(data_dir, '*timeseries.csv'))\n",
    "file_list = [f for f in file_list if \"LFP\" in f]\n",
    "file_list"
   ]
  },
  {
   "cell_type": "markdown",
   "metadata": {},
   "source": [
    "Cell below to generate csv files to run through structure and featurize from timeseries csv."
   ]
  },
  {
   "cell_type": "code",
   "execution_count": null,
   "metadata": {
    "scrolled": true
   },
   "outputs": [],
   "source": [
    "file_list = glob.glob(os.path.join(data_dir, '*timeseries.csv'))\n",
    "file_list = [f for f in file_list if \"LFP\" in f]\n",
    "column_rename = {'Date_Time': 'datetime', 'Test_Time (s)':'test_time', \n",
    "                   'Cycle_Index':'cycle_index', 'Current (A)':'current',\n",
    "                   'Voltage (V)':'voltage', \n",
    "                   'Charge_Capacity (Ah)':'charge_capacity',\n",
    "                   'Discharge_Capacity (Ah)':'discharge_capacity',\n",
    "                   'Charge_Energy (Wh)':'charge_energy', \n",
    "                   'Discharge_Energy (Wh)':'discharge_energy', \n",
    "                   'Cell_Temperature (C)':'temperature'}\n",
    "\n",
    "new_dtypes = {'datetime': np.float32, 'test_time':np.float32, \n",
    "              'step_index':np.int16,\n",
    "              'cycle_index': np.int32, 'current':np.float32,\n",
    "              'voltage': np.float32, \n",
    "              'charge_capacity': np.float64,\n",
    "              'discharge_capacity': np.float64,\n",
    "              'charge_energy':np.float64, \n",
    "              'discharge_energy':np.float64, \n",
    "              'temperature':np.float32}\n",
    "i = 0\n",
    "for f in file_list:\n",
    "    df = pd.read_csv(f)\n",
    "    df = df.rename(columns=column_rename)\n",
    "    df['step_index'] = 0\n",
    "    df.datetime = df.datetime.apply(lambda x: get_time(x))\n",
    "    df = df.astype(new_dtypes).drop('Environment_Temperature (C)', axis=1)\n",
    "    if i < 10:\n",
    "        j = \"0\" + str(i)\n",
    "    else:\n",
    "        j = str(i)\n",
    "    new_name = \"_\".join(test.split(\"_\")[3:8])+ \"_CH\"+ j\n",
    "    df.to_csv(\"./data_transfer/%s.csv\" %new_name, index=False)\n",
    "    i += 1"
   ]
  },
  {
   "cell_type": "markdown",
   "metadata": {},
   "source": [
    "Cell below to generate DeltaQ and Trajectory JSON files from newly created csv files"
   ]
  },
  {
   "cell_type": "code",
   "execution_count": null,
   "metadata": {
    "scrolled": true
   },
   "outputs": [],
   "source": [
    "file_list = glob.glob(os.path.join(data_dir, '*[0-9].csv'))\n",
    "for f in file_list:\n",
    "    print(f)\n",
    "    raw_cycler_run = structure.RawCyclerRun.from_file(f)\n",
    "    #raw_cycler_run.data = raw_cycler_run.data.dropna()\n",
    "    processed_cycler_run = structure.ProcessedCyclerRun.from_raw_cycler_run(raw_cycler_run, [2.8, 3.5])\n",
    "    \n",
    "    #featurize \n",
    "    featurizer_DeltaQ = featurize.DeltaQFastCharge.from_run(input_filename='dummy.json', feature_dir='.', processed_cycler_run=processed_cycler_run)\n",
    "    \n",
    "    #export json file in correct format\n",
    "    featurize_deltaQ_dict = {\"@module\": \"beep.featurize\", \"@class\": \"DeltaQFastCharge\"}\n",
    "    featurize_deltaQ_dict[\"name\"] = ('\\\\'.join(featurizer_DeltaQ.name.split(\"\\\\\")[:-1]) +\"\\\\\" \n",
    "                                     + f.split(\"\\\\\")[1][:-4] + \"_features_DeltaQFastCharge.json\")\n",
    "    X_dict = {}\n",
    "    for i in list(featurizer_DeltaQ.X.columns):\n",
    "        X_dict[i] = [featurizer_DeltaQ.X.loc[0, i].astype(np.float64)]\n",
    "    featurize_deltaQ_dict[\"X\"] = X_dict\n",
    "    featurize_deltaQ_dict[\"metadata\"] = featurizer_DeltaQ.metadata\n",
    "    featurize_deltaQ_dict[\"@version\"] = \"2021.1.11.15\"\n",
    "    json.dump(featurize_deltaQ_dict, open(featurize_deltaQ_dict['name'], 'w'))\n",
    "    \n",
    "    \n",
    "    #export trajectory data\n",
    "    featurize_Trajectory = featurize.TrajectoryFastCharge.from_run(input_filename=f.split(\"\\\\\")[1][:-4] + '.json', \n",
    "                                                                   feature_dir='.', processed_cycler_run=processed_cycler_run)\n",
    "    featurize_Trajectory_dict = {\"@module\": \"beep.featurize\", \"@class\": \"TrajectoryFastCharge\"}\n",
    "    featurize_Trajectory_dict[\"name\"] = ('\\\\'.join(featurize_Trajectory.name.split(\"\\\\\")[:-1]) +\"\\\\\"+\n",
    "                                         f.split(\"\\\\\")[1][:-4] + \"_features_TrajectoryFastCharge.json\")\n",
    "    X_dict = {}\n",
    "    for i in list(featurize_Trajectory.X.columns):\n",
    "        X_dict[i] = [featurize_Trajectory.X.loc[0, i].astype(np.float64)]\n",
    "    featurize_Trajectory_dict[\"X\"] = X_dict\n",
    "    featurize_Trajectory_dict[\"metadata\"] = featurize_Trajectory.metadata\n",
    "    featurize_Trajectory_dict[\"@version\"] = \"2021.1.11.15\"\n",
    "    json.dump(featurize_Trajectory_dict, open(featurize_Trajectory_dict['name'], 'w'))\n",
    "    "
   ]
  },
  {
   "cell_type": "code",
   "execution_count": 46,
   "metadata": {},
   "outputs": [
    {
     "name": "stderr",
     "output_type": "stream",
     "text": [
      "c:\\users\\mattm\\appdata\\local\\programs\\python\\python36\\lib\\site-packages\\beep\\featurize.py:1044: RuntimeWarning: All-NaN axis encountered\n",
      "  X[17] = np.nanmin(IR_trend)\n"
     ]
    },
    {
     "data": {
      "text/html": [
       "<div>\n",
       "<style scoped>\n",
       "    .dataframe tbody tr th:only-of-type {\n",
       "        vertical-align: middle;\n",
       "    }\n",
       "\n",
       "    .dataframe tbody tr th {\n",
       "        vertical-align: top;\n",
       "    }\n",
       "\n",
       "    .dataframe thead th {\n",
       "        text-align: right;\n",
       "    }\n",
       "</style>\n",
       "<table border=\"1\" class=\"dataframe\">\n",
       "  <thead>\n",
       "    <tr style=\"text-align: right;\">\n",
       "      <th></th>\n",
       "      <th>discharge_capacity_cycle_2</th>\n",
       "      <th>max_discharge_capacity_difference</th>\n",
       "      <th>discharge_capacity_cycle_100</th>\n",
       "      <th>integrated_time_temperature_cycles_1:100</th>\n",
       "      <th>charge_time_cycles_1:5</th>\n",
       "      <th>abs_min_discharge_capacity_difference_cycles_2:100</th>\n",
       "      <th>abs_mean_discharge_capacity_difference_cycles_2:100</th>\n",
       "      <th>abs_variance_discharge_capacity_difference_cycles_2:100</th>\n",
       "      <th>abs_skew_discharge_capacity_difference_cycles_2:100</th>\n",
       "      <th>abs_kurtosis_discharge_capacity_difference_cycles_2:100</th>\n",
       "      <th>...</th>\n",
       "      <th>max_temperature_cycles_1:100</th>\n",
       "      <th>min_temperature_cycles_1:100</th>\n",
       "      <th>slope_discharge_capacity_cycle_number_2:100</th>\n",
       "      <th>intercept_discharge_capacity_cycle_number_2:100</th>\n",
       "      <th>slope_discharge_capacity_cycle_number_91:100</th>\n",
       "      <th>intercept_discharge_capacity_cycle_number_91:100</th>\n",
       "      <th>min_internal_resistance_cycles_2:100</th>\n",
       "      <th>internal_resistance_cycle_2</th>\n",
       "      <th>internal_resistance_difference_cycles_2:100</th>\n",
       "      <th>nominal_capacity_by_median</th>\n",
       "    </tr>\n",
       "  </thead>\n",
       "  <tbody>\n",
       "    <tr>\n",
       "      <th>0</th>\n",
       "      <td>1.03</td>\n",
       "      <td>1.035</td>\n",
       "      <td>1.032</td>\n",
       "      <td>306697.588291</td>\n",
       "      <td>5760.0</td>\n",
       "      <td>-0.446806</td>\n",
       "      <td>-2.742859</td>\n",
       "      <td>-3.166992</td>\n",
       "      <td>0.584775</td>\n",
       "      <td>1.867028</td>\n",
       "      <td>...</td>\n",
       "      <td>18.459</td>\n",
       "      <td>15.16</td>\n",
       "      <td>-0.000595</td>\n",
       "      <td>1.072909</td>\n",
       "      <td>1.217792e-17</td>\n",
       "      <td>1.032</td>\n",
       "      <td>NaN</td>\n",
       "      <td>NaN</td>\n",
       "      <td>NaN</td>\n",
       "      <td>1.033</td>\n",
       "    </tr>\n",
       "  </tbody>\n",
       "</table>\n",
       "<p>1 rows × 21 columns</p>\n",
       "</div>"
      ],
      "text/plain": [
       "   discharge_capacity_cycle_2  max_discharge_capacity_difference  \\\n",
       "0                        1.03                              1.035   \n",
       "\n",
       "   discharge_capacity_cycle_100  integrated_time_temperature_cycles_1:100  \\\n",
       "0                         1.032                             306697.588291   \n",
       "\n",
       "   charge_time_cycles_1:5  abs_min_discharge_capacity_difference_cycles_2:100  \\\n",
       "0                  5760.0                                          -0.446806    \n",
       "\n",
       "   abs_mean_discharge_capacity_difference_cycles_2:100  \\\n",
       "0                                          -2.742859     \n",
       "\n",
       "   abs_variance_discharge_capacity_difference_cycles_2:100  \\\n",
       "0                                          -3.166992         \n",
       "\n",
       "   abs_skew_discharge_capacity_difference_cycles_2:100  \\\n",
       "0                                           0.584775     \n",
       "\n",
       "   abs_kurtosis_discharge_capacity_difference_cycles_2:100  ...  \\\n",
       "0                                           1.867028        ...   \n",
       "\n",
       "   max_temperature_cycles_1:100  min_temperature_cycles_1:100  \\\n",
       "0                        18.459                         15.16   \n",
       "\n",
       "   slope_discharge_capacity_cycle_number_2:100  \\\n",
       "0                                    -0.000595   \n",
       "\n",
       "   intercept_discharge_capacity_cycle_number_2:100  \\\n",
       "0                                         1.072909   \n",
       "\n",
       "   slope_discharge_capacity_cycle_number_91:100  \\\n",
       "0                                  1.217792e-17   \n",
       "\n",
       "   intercept_discharge_capacity_cycle_number_91:100  \\\n",
       "0                                             1.032   \n",
       "\n",
       "   min_internal_resistance_cycles_2:100  internal_resistance_cycle_2  \\\n",
       "0                                   NaN                          NaN   \n",
       "\n",
       "   internal_resistance_difference_cycles_2:100  nominal_capacity_by_median  \n",
       "0                                          NaN                       1.033  \n",
       "\n",
       "[1 rows x 21 columns]"
      ]
     },
     "execution_count": 46,
     "metadata": {},
     "output_type": "execute_result"
    }
   ],
   "source": [
    "featurizer_DeltaQ = featurize.DeltaQFastCharge.from_run(input_filename='dummy.json', feature_dir='.', processed_cycler_run=processed_cycler_run)\n",
    "featurizer_DeltaQ.X"
   ]
  },
  {
   "cell_type": "code",
   "execution_count": 18,
   "metadata": {
    "scrolled": true
   },
   "outputs": [
    {
     "data": {
      "text/plain": [
       "{'@module': 'beep.featurize',\n",
       " '@class': 'DeltaQFastCharge',\n",
       " 'name': 'C:\\\\Users\\\\mattm\\\\Documents\\\\CalPoly\\\\DATA 451\\\\Toyota\\\\DeltaQFastCharge\\\\LFP_15C_0-100_0.5-1C_a_CH00_features_DeltaQFastCharge.json',\n",
       " 'X': {'discharge_capacity_cycle_2': [1.03],\n",
       "  'max_discharge_capacity_difference': [1.035],\n",
       "  'discharge_capacity_cycle_100': [1.032],\n",
       "  'integrated_time_temperature_cycles_1:100': [306697.58829142264],\n",
       "  'charge_time_cycles_1:5': [5760.0],\n",
       "  'abs_min_discharge_capacity_difference_cycles_2:100': [-0.44680629485828904],\n",
       "  'abs_mean_discharge_capacity_difference_cycles_2:100': [-2.7428591200248187],\n",
       "  'abs_variance_discharge_capacity_difference_cycles_2:100': [-3.16699189126899],\n",
       "  'abs_skew_discharge_capacity_difference_cycles_2:100': [0.5847754492806106],\n",
       "  'abs_kurtosis_discharge_capacity_difference_cycles_2:100': [1.867027981692003],\n",
       "  'abs_first_discharge_capacity_difference_cycles_2:100': [-3.309824012313473],\n",
       "  'max_temperature_cycles_1:100': [18.458999633789062],\n",
       "  'min_temperature_cycles_1:100': [15.15999984741211],\n",
       "  'slope_discharge_capacity_cycle_number_2:100': [-0.0005947433518861992],\n",
       "  'intercept_discharge_capacity_cycle_number_2:100': [1.0729088847660275],\n",
       "  'slope_discharge_capacity_cycle_number_91:100': [1.217792177277779e-17],\n",
       "  'intercept_discharge_capacity_cycle_number_91:100': [1.0319999999999983],\n",
       "  'min_internal_resistance_cycles_2:100': [nan],\n",
       "  'internal_resistance_cycle_2': [nan],\n",
       "  'internal_resistance_difference_cycles_2:100': [nan],\n",
       "  'nominal_capacity_by_median': [1.033]},\n",
       " 'metadata': {'barcode': None,\n",
       "  'protocol': None,\n",
       "  'channel_id': None,\n",
       "  'parameters': {'init_pred_cycle': 10,\n",
       "   'mid_pred_cycle': 91,\n",
       "   'final_pred_cycle': 100,\n",
       "   'n_nominal_cycles': 40}},\n",
       " '@version': '2021.1.11.15'}"
      ]
     },
     "execution_count": 18,
     "metadata": {},
     "output_type": "execute_result"
    }
   ],
   "source": [
    "# featurize_deltaQ_dict = {\"@module\": \"beep.featurize\", \"@class\": \"DeltaQFastCharge\"}\n",
    "# featurize_deltaQ_dict[\"name\"] = ('\\\\'.join(featurizer_DeltaQ.name.split(\"\\\\\")[:-1]) +\"\\\\\" \n",
    "#                                  + file_list[0].split(\"\\\\\")[1][:-4] + \"_features_DeltaQFastCharge.json\")\n",
    "# X_dict = {}\n",
    "# for i in list(featurizer_DeltaQ.X.columns):\n",
    "#     X_dict[i] = [featurizer_DeltaQ.X.loc[0, i].astype(np.float64)]\n",
    "# featurize_deltaQ_dict[\"X\"] = X_dict\n",
    "# featurize_deltaQ_dict[\"metadata\"] = featurizer_DeltaQ.metadata\n",
    "# featurize_deltaQ_dict[\"@version\"] = \"2021.1.11.15\"\n",
    "# json.dump(featurize_deltaQ_dict, open(featurize_deltaQ_dict['name'], 'w'))\n",
    "# featurize_deltaQ_dict"
   ]
  },
  {
   "cell_type": "code",
   "execution_count": 40,
   "metadata": {},
   "outputs": [
    {
     "data": {
      "text/plain": [
       "{'@module': 'beep.featurize',\n",
       " '@class': 'TrajectoryFastCharge',\n",
       " 'name': 'C:\\\\Users\\\\mattm\\\\Documents\\\\CalPoly\\\\DATA 451\\\\Toyota\\\\TrajectoryFastCharge\\\\LFP_15C_0-100.5-1C_a_features_TrajectoryFastCharge.json',\n",
       " 'X': {'capacity_0.98': [506.0],\n",
       "  'capacity_0.95': [506.0],\n",
       "  'capacity_0.92': [506.0],\n",
       "  'capacity_0.89': [4550.0],\n",
       "  'capacity_0.86': [4550.0],\n",
       "  'capacity_0.83': [4550.0],\n",
       "  'capacity_0.8': [4550.0]},\n",
       " 'metadata': {'barcode': None,\n",
       "  'protocol': None,\n",
       "  'channel_id': None,\n",
       "  'parameters': {'thresh_max_cap': 0.98,\n",
       "   'thresh_min_cap': 0.78,\n",
       "   'interval_cap': 0.03}},\n",
       " '@version': '2021.1.11.15'}"
      ]
     },
     "execution_count": 40,
     "metadata": {},
     "output_type": "execute_result"
    }
   ],
   "source": [
    "# featurize_Trajectory = featurize.TrajectoryFastCharge.from_run(input_filename=file_list[0].split(\"\\\\\")[1][:-4] + '.json', \n",
    "#                                                                 feature_dir='.', processed_cycler_run=processed_cycler_run)\n",
    "# featurize_Trajectory_dict = {\"@module\": \"beep.featurize\", \"@class\": \"TrajectoryFastCharge\"}\n",
    "# featurize_Trajectory_dict[\"name\"] = featurize_Trajectory.name\n",
    "# # ('\\\\'.join(featurizer_Trajectory.name.split(\"\\\\\")[:-1]) +\"\\\\\" \n",
    "# #                                  + file_list[0].split(\"\\\\\")[1][:-4] + \"_features_TrajectoryFastCharge.json\")\n",
    "# X_dict = {}\n",
    "# for i in list(featurizer_Trajectory.X.columns):\n",
    "#     X_dict[i] = [featurizer_Trajectory.X.loc[0, i].astype(np.float64)]\n",
    "# featurize_Trajectory_dict[\"X\"] = X_dict\n",
    "# featurize_Trajectory_dict[\"metadata\"] = featurizer_Trajectory.metadata\n",
    "# featurize_Trajectory_dict[\"@version\"] = \"2021.1.11.15\"\n",
    "# json.dump(featurize_Trajectory_dict, open(featurize_Trajectory_dict['name'], 'w'))\n",
    "# featurize_Trajectory_dict"
   ]
  },
  {
   "cell_type": "code",
   "execution_count": 25,
   "metadata": {},
   "outputs": [],
   "source": [
    "variance_model = [\"abs_variance_discharge_capacity_difference_cycles_2:100\"]\n",
    "variance_model_ind = [7]\n",
    "discharge_model_ind = [5, 7, 8, 9, 0, 1]\n",
    "full_model_ind = [5, 7, 13, 14, 0, 4, 3, 17, 19]"
   ]
  },
  {
   "cell_type": "code",
   "execution_count": null,
   "metadata": {},
   "outputs": [],
   "source": []
  }
 ],
 "metadata": {
  "kernelspec": {
   "display_name": "Python 3",
   "language": "python",
   "name": "python3"
  },
  "language_info": {
   "codemirror_mode": {
    "name": "ipython",
    "version": 3
   },
   "file_extension": ".py",
   "mimetype": "text/x-python",
   "name": "python",
   "nbconvert_exporter": "python",
   "pygments_lexer": "ipython3",
   "version": "3.6.5"
  }
 },
 "nbformat": 4,
 "nbformat_minor": 2
}
