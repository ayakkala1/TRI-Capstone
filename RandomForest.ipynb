{
 "cells": [
  {
   "cell_type": "code",
   "execution_count": 287,
   "metadata": {},
   "outputs": [],
   "source": [
    "import os\n",
    "import pandas as pd\n",
    "import numpy as np\n",
    "import requests\n",
    "import json\n",
    "import glob\n",
    "import re\n",
    "import seaborn as sns\n",
    "from matplotlib import pyplot as plt\n",
    "from monty.serialization import loadfn\n",
    "\n",
    "from sklearn.ensemble import RandomForestRegressor\n",
    "from sklearn.datasets import make_regression"
   ]
  },
  {
   "cell_type": "markdown",
   "metadata": {},
   "source": [
    "Select desired values for booleans:"
   ]
  },
  {
   "cell_type": "code",
   "execution_count": 288,
   "metadata": {},
   "outputs": [],
   "source": [
    "#True if using charge_throughput as response variable, False if using cycle life (X.capacity_0.8)\n",
    "ct = True\n",
    "\n",
    "#True if training on old data and testing on new data, False if mixing both old and new data into train and test set\n",
    "#Only applies to when old and new data are combined\n",
    "train_old_test_new = False\n",
    "\n",
    "#True if including 'X.integrated_time_temperature_cycles_1:100' to full model, False if not\n",
    "integrated_time_temp_cycles = False\n",
    "\n",
    "#True if applying a log transformtion to combined data, False if no transformation\n",
    "log_transformation = False\n",
    "\n",
    "#True if including internal resistance for old data, False if not (no internal resistance variable for new data)\n",
    "ir = False\n",
    "\n",
    "#True if standardizing explanatory variables, False otherwise (necessary for elastic net)\n",
    "standardized = False\n",
    "\n",
    "#True if using old and new data scaled separately in combined data, False if using a separate standard scaler for all combined data\n",
    "old_new_scaler = False\n",
    "\n",
    "#True if using all battery chemistries, False if only LFP\n",
    "new_chemistries = True\n",
    "\n",
    "#True if identifying the source of the data (old, LFP, NCA, NMC), False if not\n",
    "sources = True\n",
    "\n",
    "#True if reading in the old data correctly, False if mistakenly. \n",
    "#The only reason to set this to false is if you're recreating incorrect plots to illustrate the change\n",
    "proper_old_reading = True"
   ]
  },
  {
   "cell_type": "markdown",
   "metadata": {},
   "source": [
    "## Reading in the Data"
   ]
  },
  {
   "cell_type": "code",
   "execution_count": 289,
   "metadata": {},
   "outputs": [],
   "source": [
    "path = \"../\"\n",
    "\n",
    "if proper_old_reading:\n",
    "    old_subpath = \"FastCharge/data-share/features/\"\n",
    "\n",
    "    old_d_dir = path + old_subpath + \"DeltaQFastCharge\"\n",
    "    old_t_dir = path + old_subpath + \"TrajectoryFastCharge\"\n",
    "\n",
    "\n",
    "    def getListOfFiles(dirName):\n",
    "        listOfFile = os.listdir(dirName)\n",
    "        allFiles = list()\n",
    "        for entry in listOfFile:\n",
    "            fullPath = os.path.join(dirName, entry)\n",
    "            if \".json\" in fullPath:\n",
    "                allFiles.append(fullPath)\n",
    "        return allFiles\n",
    "\n",
    "    old_d_list = getListOfFiles(old_d_dir)\n",
    "    old_t_list = getListOfFiles(old_t_dir)"
   ]
  },
  {
   "cell_type": "code",
   "execution_count": 290,
   "metadata": {},
   "outputs": [],
   "source": [
    "if proper_old_reading:\n",
    "    def get_new_names(d_list):\n",
    "        new_names = []\n",
    "        for file in d_list:\n",
    "            new_names.append(re.findall(\"CH(.*?)\\_f\", file)[0])\n",
    "        return new_names\n",
    "\n",
    "    def make_df(file_list, batch=False):\n",
    "        df = pd.DataFrame()\n",
    "        for file in file_list:\n",
    "            with open(file) as data_file:    \n",
    "                data = json.load(data_file)\n",
    "                data_df = pd.json_normalize(data)\n",
    "                df = pd.concat([df,data_df])\n",
    "        df.reset_index(drop=True,inplace=True)\n",
    "        if batch:\n",
    "            df['bat_num'] = get_new_names(file_list)\n",
    "        return df\n",
    "\n",
    "    def merge_df(d_df, t_df):\n",
    "        df_full = d_df.merge(t_df, left_index=True, right_index=True)\n",
    "\n",
    "        # Making values not stored as lists\n",
    "        for column in df_full.columns:\n",
    "            if \"X.\" in column:\n",
    "                df_full[column] = df_full[column].apply(lambda x: x[0])\n",
    "\n",
    "        df_full.reset_index(inplace=True)\n",
    "        return df_full"
   ]
  },
  {
   "cell_type": "code",
   "execution_count": 291,
   "metadata": {},
   "outputs": [],
   "source": [
    "if proper_old_reading:\n",
    "    old_d_df = make_df(old_d_list, batch=True)\n",
    "    old_d_df.head()\n",
    "\n",
    "    batches = []\n",
    "    for i in old_d_df['metadata.protocol']:\n",
    "        if '2017-05' in i:\n",
    "            batches.append('b1')\n",
    "        elif '2017-06' in i:\n",
    "            batches.append('b2')\n",
    "        elif '2018-04' in i:\n",
    "            batches.append('b3')\n",
    "\n",
    "    old_d_df['batches'] = batches\n",
    "    old_d_df['bat_name'] = old_d_df['batches'] + 'c' + old_d_df['bat_num']"
   ]
  },
  {
   "cell_type": "code",
   "execution_count": 292,
   "metadata": {},
   "outputs": [],
   "source": [
    "if proper_old_reading:\n",
    "    old_t_df = make_df(old_t_list)\n",
    "    old_t_df.head()"
   ]
  },
  {
   "cell_type": "code",
   "execution_count": 293,
   "metadata": {},
   "outputs": [],
   "source": [
    "if proper_old_reading:\n",
    "    old_df_full = merge_df(old_d_df, old_t_df)\n",
    "    old_df_full.sort_values(by=['bat_name'],inplace=True)\n",
    "    old_df_full.head()"
   ]
  },
  {
   "cell_type": "code",
   "execution_count": 294,
   "metadata": {},
   "outputs": [],
   "source": [
    "old_ct = pd.read_csv(\"./OldData/OldDataFullCT.csv\")"
   ]
  },
  {
   "cell_type": "code",
   "execution_count": 295,
   "metadata": {},
   "outputs": [],
   "source": [
    "old_ct.rename(columns={\"Unnamed: 0\": \"ind\"},inplace=True)"
   ]
  },
  {
   "cell_type": "code",
   "execution_count": 296,
   "metadata": {},
   "outputs": [],
   "source": [
    "old_df_full.rename(columns={\"index\": \"ind\"},inplace = True)"
   ]
  },
  {
   "cell_type": "code",
   "execution_count": 297,
   "metadata": {},
   "outputs": [],
   "source": [
    "if proper_old_reading:\n",
    "    old_ct = old_ct.filter([\"ind\", \"charge_throughput\"])\n",
    "    old_ct = old_df_full.merge(old_ct, on=\"ind\", how=\"left\")"
   ]
  },
  {
   "cell_type": "code",
   "execution_count": 298,
   "metadata": {},
   "outputs": [],
   "source": [
    "old_ct.rename(columns={\"X.capacity_0.8\": \"cycle_index\"}, inplace=True)"
   ]
  },
  {
   "cell_type": "code",
   "execution_count": 299,
   "metadata": {},
   "outputs": [],
   "source": [
    "new_ct = pd.read_csv(\"NewData/charge_throughputs_BA.csv\")\n",
    "\n",
    "if new_chemistries:\n",
    "    nca_df = pd.read_csv(\"NewData/charge_throughputs_BA_NCA.csv\")\n",
    "    nmc_df = pd.read_csv(\"NewData/charge_throughputs_BA_NMC.csv\")\n",
    "    \n",
    "    chemistries = [\"LFP\", \"NCA\", \"NMC\"]\n",
    "    dfs = [new_ct, nca_df, nmc_df]\n",
    "    \n",
    "    for i in range(len(chemistries)):\n",
    "        chem = chemistries[i]\n",
    "        for j in range(len(dfs)):\n",
    "            df = dfs[j]\n",
    "            \n",
    "            if i == j:\n",
    "                df[chem] = 1\n",
    "            else:\n",
    "                df[chem] = -1\n",
    "            \n",
    "            dfs[j] = df\n",
    "        \n",
    "    new_ct = pd.concat([df for df in dfs], ignore_index=True)"
   ]
  },
  {
   "cell_type": "code",
   "execution_count": 300,
   "metadata": {},
   "outputs": [],
   "source": [
    "variance_model_features = ['X.abs_variance_discharge_capacity_difference_cycles_2:100']\n",
    "discharge_model_features = ['X.abs_min_discharge_capacity_difference_cycles_2:100',\n",
    "                            'X.abs_variance_discharge_capacity_difference_cycles_2:100',\n",
    "                            'X.abs_skew_discharge_capacity_difference_cycles_2:100',\n",
    "                            'X.abs_kurtosis_discharge_capacity_difference_cycles_2:100',\n",
    "                            'X.discharge_capacity_cycle_2',\n",
    "                            'X.max_discharge_capacity_difference'\n",
    "                            ]\n",
    "full_model_features = ['X.abs_min_discharge_capacity_difference_cycles_2:100',\n",
    "                       'X.abs_variance_discharge_capacity_difference_cycles_2:100',\n",
    "                       'X.slope_discharge_capacity_cycle_number_2:100',\n",
    "                       'X.intercept_discharge_capacity_cycle_number_2:100',\n",
    "                       'X.discharge_capacity_cycle_2',\n",
    "                       'X.charge_time_cycles_1:5']\n",
    "\n",
    "if integrated_time_temp_cycles:\n",
    "    full_model_features.append('X.integrated_time_temperature_cycles_1:100')\n",
    "\n",
    "if ir:\n",
    "    full_model_features.append('X.min_internal_resistance_cycles_2:100')\n",
    "    full_model_features.append('X.internal_resistance_difference_cycles_2:100')\n",
    "\n",
    "if ct:\n",
    "    y = 'charge_throughput'\n",
    "else:\n",
    "    y = 'cycle_index'"
   ]
  },
  {
   "cell_type": "code",
   "execution_count": 301,
   "metadata": {},
   "outputs": [],
   "source": [
    "from sklearn.linear_model import LinearRegression, ElasticNet, ElasticNetCV\n",
    "from sklearn.metrics import mean_squared_error, mean_absolute_percentage_error\n",
    "from sklearn.preprocessing import StandardScaler\n",
    "from sklearn.ensemble import RandomForestRegressor"
   ]
  },
  {
   "cell_type": "markdown",
   "metadata": {},
   "source": [
    "## Old Data"
   ]
  },
  {
   "cell_type": "code",
   "execution_count": 302,
   "metadata": {},
   "outputs": [
    {
     "data": {
      "text/plain": [
       "<AxesSubplot:xlabel='X.abs_variance_discharge_capacity_difference_cycles_2:100', ylabel='charge_throughput'>"
      ]
     },
     "execution_count": 302,
     "metadata": {},
     "output_type": "execute_result"
    },
    {
     "data": {
      "image/png": "[encoded data removed]",
      "text/plain": [
       "<Figure size 432x288 with 1 Axes>"
      ]
     },
     "metadata": {
      "needs_background": "light"
     },
     "output_type": "display_data"
    }
   ],
   "source": [
    "old_ct.plot.scatter(x='X.abs_variance_discharge_capacity_difference_cycles_2:100', y = y)"
   ]
  },
  {
   "cell_type": "markdown",
   "metadata": {},
   "source": [
    "#### Our split (odds to train, evens to test):"
   ]
  },
  {
   "cell_type": "code",
   "execution_count": 303,
   "metadata": {},
   "outputs": [],
   "source": [
    "# train_ind = [i for i in range(1, len(old_ct), 2)]\n",
    "# test_ind = [i for i in range(0, len(old_ct), 2)]"
   ]
  },
  {
   "cell_type": "code",
   "execution_count": 304,
   "metadata": {},
   "outputs": [
    {
     "data": {
      "text/plain": [
       "139"
      ]
     },
     "execution_count": 304,
     "metadata": {},
     "output_type": "execute_result"
    }
   ],
   "source": [
    "len(old_ct)"
   ]
  },
  {
   "cell_type": "markdown",
   "metadata": {},
   "source": [
    "#### TRI Split:"
   ]
  },
  {
   "cell_type": "code",
   "execution_count": 305,
   "metadata": {},
   "outputs": [],
   "source": [
    "train_ind = [ 1,  3,  5,  7,  9, 11, 13, 15, 17, 19, 21, 23, 25, 27, 29, 31, 33,\n",
    "        35, 37, 39, 41, 43, 45, 47, 49, 51, 53, 55, 57, 59, 61, 63, 65, 67,\n",
    "        69, 71, 73, 75, 77, 79, 81]\n",
    "test_ind = [ 0,  2,  4,  6,  8, 10, 12, 14, 16, 18, 20, 22, 24, 26, 28, 30, 32,\n",
    "        34, 36, 38, 40, 42, 44, 46, 48, 50, 52, 54, 56, 58, 60, 62, 64, 66,\n",
    "        68, 70, 72, 74, 76, 78, 80, 82, 83]"
   ]
  },
  {
   "cell_type": "code",
   "execution_count": 306,
   "metadata": {},
   "outputs": [],
   "source": [
    "if standardized:\n",
    "    \n",
    "    all_model_features = full_model_features + list(set(discharge_model_features)-set(full_model_features))\n",
    "    \n",
    "    def standardize(train, test):\n",
    "        scaler = StandardScaler()\n",
    "        scaler.fit(train)\n",
    "        train_data = pd.DataFrame(scaler.transform(train), index=train.index, columns = train.columns)\n",
    "        test_data = pd.DataFrame(scaler.transform(test), index=test.index, columns = test.columns)\n",
    "        return [train_data, test_data]"
   ]
  },
  {
   "cell_type": "code",
   "execution_count": 307,
   "metadata": {},
   "outputs": [],
   "source": [
    "if old_new_scaler:\n",
    "    X_train_all_old = old_ct.iloc[train_ind][all_model_features]\n",
    "    X_test_all_old = old_ct.iloc[test_ind][all_model_features]\n",
    "\n",
    "    X_train_all_old, X_test_all_old = standardize(X_train_all_old, X_test_all_old)\n",
    "\n",
    "    X_train_all_old[\"charge_throughput\"] = old_ct.iloc[train_ind][\"charge_throughput\"]\n",
    "    X_test_all_old[\"charge_throughput\"] = old_ct.iloc[test_ind][\"charge_throughput\"]\n",
    "\n",
    "    X_all_old = X_train_all_old.append(X_test_all_old)"
   ]
  },
  {
   "cell_type": "markdown",
   "metadata": {},
   "source": [
    "### Variance Model"
   ]
  },
  {
   "cell_type": "code",
   "execution_count": 308,
   "metadata": {},
   "outputs": [],
   "source": [
    "# Variance model\n",
    "X_train_var = old_ct.iloc[train_ind][variance_model_features]\n",
    "\n",
    "y_train = old_ct.iloc[train_ind][[y]]\n",
    "\n",
    "X_test_var = old_ct.iloc[test_ind][variance_model_features]\n",
    "y_test = old_ct.iloc[test_ind][[y]]\n",
    "\n",
    "if standardized:\n",
    "    X_train_var, X_test_var = standardize(X_train_var, X_test_var)"
   ]
  },
  {
   "cell_type": "code",
   "execution_count": 309,
   "metadata": {},
   "outputs": [
    {
     "name": "stdout",
     "output_type": "stream",
     "text": [
      "Variance Random Forest Model\n",
      "Test RMSE:  159.15464037997847\n",
      "Mean % Test Error:  16.749879527349435\n"
     ]
    }
   ],
   "source": [
    "reg_var = RandomForestRegressor(criterion='mae').fit(X_train_var, np.ravel(y_train))\n",
    "\n",
    "y_pred_train_var = reg_var.predict(X_train_var)\n",
    "y_pred_test_var = reg_var.predict(X_test_var)\n",
    "\n",
    "rmse_train_var = np.sqrt(mean_squared_error(y_train, y_pred_train_var))\n",
    "rmse_test_var = np.sqrt(mean_squared_error(y_test, y_pred_test_var))\n",
    "mape_train_var = mean_absolute_percentage_error(y_train, y_pred_train_var)*100\n",
    "mape_test_var = mean_absolute_percentage_error(y_test, y_pred_test_var)*100\n",
    "\n",
    "print(\"Variance Random Forest Model\")\n",
    "# print(\"Training RMSE: \", rmse_train_var)\n",
    "print(\"Test RMSE: \", rmse_test_var)\n",
    "# print(\"Mean % Train Error: \", mape_train_var)\n",
    "print(\"Mean % Test Error: \", mape_test_var)"
   ]
  },
  {
   "cell_type": "code",
   "execution_count": 310,
   "metadata": {},
   "outputs": [
    {
     "data": {
      "text/plain": [
       "Text(0.5, 1.0, 'Variance Model Predicted vs. True Values')"
      ]
     },
     "execution_count": 310,
     "metadata": {},
     "output_type": "execute_result"
    },
    {
     "data": {
      "image/png": "[encoded data removed]",
      "text/plain": [
       "<Figure size 432x288 with 1 Axes>"
      ]
     },
     "metadata": {
      "needs_background": "light"
     },
     "output_type": "display_data"
    }
   ],
   "source": [
    "# Variance model\n",
    "min_var = y_test.min()[0]\n",
    "max_var = y_test.max()[0]\n",
    "\n",
    "plt.scatter(y_test, y_pred_test_var)\n",
    "plt.plot([0, max_var], [0, max_var], color=\"red\")\n",
    "plt.xlabel(\"True Values\")\n",
    "plt.ylabel(\"Predicted Values\")\n",
    "plt.title(\"Variance Model Predicted vs. True Values\")"
   ]
  },
  {
   "cell_type": "markdown",
   "metadata": {},
   "source": [
    "#### From paper (Variance Model)\n",
    "* Training RMSE: 103\n",
    "* Test RMSE: 138\n",
    "* Mean % Train Error: 14.1\n",
    "* Mean % Test Error: 14.7"
   ]
  },
  {
   "cell_type": "markdown",
   "metadata": {},
   "source": [
    "### Discharge Model"
   ]
  },
  {
   "cell_type": "code",
   "execution_count": 311,
   "metadata": {},
   "outputs": [
    {
     "name": "stdout",
     "output_type": "stream",
     "text": [
      "Discharge Random Forest Model\n",
      "Test RMSE:  115.05302523268823\n",
      "Test Mean % Error:  13.735997282536113\n"
     ]
    }
   ],
   "source": [
    "# discharge model\n",
    "X_train_dis = old_ct.iloc[train_ind][discharge_model_features]\n",
    "y_train = old_ct.iloc[train_ind][[y]]\n",
    "\n",
    "X_test_dis = old_ct.iloc[test_ind][discharge_model_features]\n",
    "y_test = old_ct.iloc[test_ind][[y]]\n",
    "\n",
    "if standardized:\n",
    "    X_train_dis, X_test_dis = standardize(X_train_dis, X_test_dis)\n",
    "\n",
    "reg_dis = RandomForestRegressor(criterion='mae').fit(X_train_dis,np.ravel(y_train))\n",
    "y_pred_train_dis = reg_dis.predict(X_train_dis)\n",
    "y_pred_test_dis = reg_dis.predict(X_test_dis)\n",
    "\n",
    "rmse_train_dis = np.sqrt(mean_squared_error(y_train, y_pred_train_dis))\n",
    "rmse_test_dis = np.sqrt(mean_squared_error(y_test, y_pred_test_dis))\n",
    "mape_train_dis = mean_absolute_percentage_error(y_train, y_pred_train_dis)*100\n",
    "mape_test_dis = mean_absolute_percentage_error(y_test, y_pred_test_dis)*100\n",
    "\n",
    "print(\"Discharge Random Forest Model\")\n",
    "# print(\"Training RMSE: \", rmse_train_dis)\n",
    "print(\"Test RMSE: \", rmse_test_dis)\n",
    "# print(\"Train Mean % Error: \", mape_train_dis)\n",
    "print(\"Test Mean % Error: \", mape_test_dis)"
   ]
  },
  {
   "cell_type": "code",
   "execution_count": 312,
   "metadata": {},
   "outputs": [
    {
     "data": {
      "text/plain": [
       "Text(0.5, 1.0, 'Discharge Model Predicted vs. True Values')"
      ]
     },
     "execution_count": 312,
     "metadata": {},
     "output_type": "execute_result"
    },
    {
     "data": {
      "image/png": "[encoded data removed]",
      "text/plain": [
       "<Figure size 432x288 with 1 Axes>"
      ]
     },
     "metadata": {
      "needs_background": "light"
     },
     "output_type": "display_data"
    }
   ],
   "source": [
    "# Discharge model\n",
    "max_dis = y_test.max()[0]\n",
    "\n",
    "plt.scatter(y_test, y_pred_test_dis)\n",
    "plt.plot([0, max_dis], [0, max_dis], color=\"red\")\n",
    "plt.xlabel(\"True Values\")\n",
    "plt.ylabel(\"Predicted Values\")\n",
    "plt.title(\"Discharge Model Predicted vs. True Values\")"
   ]
  },
  {
   "cell_type": "markdown",
   "metadata": {},
   "source": [
    "#### From paper (Discharge Model)\n",
    "* Training RMSE: 76\n",
    "* Test RMSE: 91\n",
    "* Mean % Train Error: 9.8\n",
    "* Mean % Test Error: 13.0"
   ]
  },
  {
   "cell_type": "markdown",
   "metadata": {},
   "source": [
    "### Full Model"
   ]
  },
  {
   "cell_type": "code",
   "execution_count": 313,
   "metadata": {},
   "outputs": [
    {
     "name": "stdout",
     "output_type": "stream",
     "text": [
      "Full Random Forest Model\n",
      "Test RMSE:  106.06016733934408\n",
      "Mean % Test Error:  13.68172914606296\n"
     ]
    }
   ],
   "source": [
    "# full model\n",
    "X_train_full = old_ct.iloc[train_ind][full_model_features]\n",
    "y_train = old_ct.iloc[train_ind][[y]]\n",
    "\n",
    "X_test_full = old_ct.iloc[test_ind][full_model_features]\n",
    "y_test = old_ct.iloc[test_ind][[y]]\n",
    "\n",
    "if standardized:\n",
    "    X_train_full, X_test_full = standardize(X_train_full, X_test_full)\n",
    "\n",
    "reg_full = RandomForestRegressor(criterion='mae').fit(X_train_full,np.ravel(y_train))\n",
    "y_pred_train_full = reg_full.predict(X_train_full)\n",
    "y_pred_test_full = reg_full.predict(X_test_full)\n",
    "\n",
    "rmse_train_full = np.sqrt(mean_squared_error(y_train, y_pred_train_full))\n",
    "rmse_test_full = np.sqrt(mean_squared_error(y_test, y_pred_test_full))\n",
    "mape_train_full = mean_absolute_percentage_error(y_train, y_pred_train_full)*100\n",
    "mape_test_full = mean_absolute_percentage_error(y_test, y_pred_test_full)*100\n",
    "\n",
    "print(\"Full Random Forest Model\")\n",
    "# print(\"Training RMSE: \", np.sqrt(mean_squared_error(y_train, y_pred_train_full)))\n",
    "print(\"Test RMSE: \", rmse_test_full)\n",
    "# print(\"Mean % Train Error: \", mean_absolute_percentage_error(y_train, y_pred_train_full))\n",
    "print(\"Mean % Test Error: \", mape_test_full)"
   ]
  },
  {
   "cell_type": "code",
   "execution_count": 314,
   "metadata": {},
   "outputs": [
    {
     "data": {
      "text/plain": [
       "Text(0.5, 1.0, 'Full Model Predicted vs. True Values')"
      ]
     },
     "execution_count": 314,
     "metadata": {},
     "output_type": "execute_result"
    },
    {
     "data": {
      "image/png": "[encoded data removed]",
      "text/plain": [
       "<Figure size 432x288 with 1 Axes>"
      ]
     },
     "metadata": {
      "needs_background": "light"
     },
     "output_type": "display_data"
    }
   ],
   "source": [
    "min_full = y_test.min()[0]\n",
    "max_full = y_test.max()[0]\n",
    "\n",
    "plt.scatter(y_test, y_pred_test_full)\n",
    "plt.plot([0, max_full], [0, max_full], color=\"red\")\n",
    "plt.xlabel(\"True Values\")\n",
    "plt.ylabel(\"Predicted Values\")\n",
    "plt.title(\"Full Model Predicted vs. True Values\")"
   ]
  },
  {
   "cell_type": "markdown",
   "metadata": {},
   "source": [
    "#### From paper (Full Model)\n",
    "* Training RMSE: 51\n",
    "* Test RMSE: 118\n",
    "* Mean % Train Error: 5.6\n",
    "* Mean % Test Error: 14.1"
   ]
  },
  {
   "cell_type": "markdown",
   "metadata": {},
   "source": [
    "### Old Data Plots"
   ]
  },
  {
   "cell_type": "code",
   "execution_count": 315,
   "metadata": {},
   "outputs": [
    {
     "data": {
      "image/png": "[encoded data removed]",
      "text/plain": [
       "<Figure size 432x288 with 1 Axes>"
      ]
     },
     "metadata": {
      "needs_background": "light"
     },
     "output_type": "display_data"
    }
   ],
   "source": [
    "plt.hist(old_ct[y])\n",
    "plt.ylabel('Frequency')\n",
    "if ct:\n",
    "    plt.xlabel('Charge Throughput')\n",
    "    plt.title('Frequency of Charge Throughput')\n",
    "else:\n",
    "    plt.xlabel('Cycle Life')\n",
    "    plt.title('Frequency of Cycle Life')"
   ]
  },
  {
   "cell_type": "code",
   "execution_count": 316,
   "metadata": {},
   "outputs": [],
   "source": [
    "old_data_metrics = pd.DataFrame(data = {\n",
    "    \n",
    "                               \"Model\": [\"Variance\",\n",
    "                                         \"Discharge\",\n",
    "                                         \"Full\"],\n",
    "                                        \n",
    "                               \"Test MAPE\": [mape_test_var,\n",
    "                                              mape_test_dis,\n",
    "                                              mape_test_full],\n",
    "                               \n",
    "                               \"Test RMSE\": [rmse_test_var,\n",
    "                                             rmse_test_dis,\n",
    "                                             rmse_test_full]})#,"
   ]
  },
  {
   "cell_type": "code",
   "execution_count": 317,
   "metadata": {},
   "outputs": [
    {
     "data": {
      "text/plain": [
       "Text(0.5, 1.0, 'Old Data Test RMSE Comparison')"
      ]
     },
     "execution_count": 317,
     "metadata": {},
     "output_type": "execute_result"
    },
    {
     "data": {
      "image/png": "[encoded data removed]",
      "text/plain": [
       "<Figure size 360x360 with 1 Axes>"
      ]
     },
     "metadata": {
      "needs_background": "light"
     },
     "output_type": "display_data"
    }
   ],
   "source": [
    "sns.catplot(data = old_data_metrics, kind=\"bar\",\n",
    "               x = \"Model\", y = \"Test RMSE\")\n",
    "plt.title(\"Old Data Test RMSE Comparison\")"
   ]
  },
  {
   "cell_type": "code",
   "execution_count": 318,
   "metadata": {},
   "outputs": [
    {
     "data": {
      "text/plain": [
       "Text(0.5, 1.0, 'Old Data Test MAPE Comparison')"
      ]
     },
     "execution_count": 318,
     "metadata": {},
     "output_type": "execute_result"
    },
    {
     "data": {
      "image/png": "[encoded data removed]",
      "text/plain": [
       "<Figure size 360x360 with 1 Axes>"
      ]
     },
     "metadata": {
      "needs_background": "light"
     },
     "output_type": "display_data"
    }
   ],
   "source": [
    "sns.catplot(data = old_data_metrics, kind=\"bar\",\n",
    "               x = \"Model\", y = \"Test MAPE\")\n",
    "plt.title(\"Old Data Test MAPE Comparison\")"
   ]
  },
  {
   "cell_type": "code",
   "execution_count": 319,
   "metadata": {},
   "outputs": [],
   "source": [
    "#Removing internal_resistance features for models with new data\n",
    "if ir:\n",
    "    full_model_features.remove('X.min_internal_resistance_cycles_2:100')\n",
    "    full_model_features.remove('X.internal_resistance_difference_cycles_2:100')\n",
    "    \n",
    "    if standardized:\n",
    "        all_model_features.remove('X.min_internal_resistance_cycles_2:100')\n",
    "        all_model_features.remove('X.internal_resistance_difference_cycles_2:100')"
   ]
  },
  {
   "cell_type": "markdown",
   "metadata": {},
   "source": [
    "## New Data"
   ]
  },
  {
   "cell_type": "code",
   "execution_count": 320,
   "metadata": {},
   "outputs": [],
   "source": [
    "new_df = pd.read_csv(\"NewData/LFPBatteries.csv\")\n",
    "\n",
    "if new_chemistries:\n",
    "    nca = pd.read_csv(\"NewData/NCABatteries.csv\")\n",
    "    nmc = pd.read_csv(\"NewData/NMCBatteries.csv\")\n",
    "    \n",
    "    new_df = pd.concat([new_df, nca, nmc], ignore_index=True)\n",
    "    \n",
    "    if sources:    \n",
    "        chemistries = [\"X.LFP\", \"X.NCA\", \"X.NMC\"]\n",
    "\n",
    "        variance_model_features = variance_model_features + chemistries\n",
    "        discharge_model_features = discharge_model_features + chemistries\n",
    "        full_model_features = full_model_features + chemistries"
   ]
  },
  {
   "cell_type": "code",
   "execution_count": 321,
   "metadata": {},
   "outputs": [],
   "source": [
    "new_ct_full = new_df.merge(how = 'inner',right = new_ct, left_index = True, right_index=True)\n",
    "new_ct_full = new_ct_full.add_prefix('X.')\n",
    "new_ct_full.rename(columns={\"X.charge_throughput\": \"charge_throughput\"}, inplace=True)\n",
    "new_ct_full.rename(columns={\"X.capacity_0.8\": \"cycle_index\"}, inplace=True)"
   ]
  },
  {
   "cell_type": "code",
   "execution_count": 322,
   "metadata": {},
   "outputs": [],
   "source": [
    "train_ind = [i for i in range(1, len(new_ct_full), 2)]\n",
    "test_ind = [i for i in range(0, len(new_ct_full), 2)]"
   ]
  },
  {
   "cell_type": "code",
   "execution_count": 323,
   "metadata": {},
   "outputs": [],
   "source": [
    "if old_new_scaler:\n",
    "    all_model_features = all_model_features + chemistries\n",
    "    X_train_all_new = new_ct_full.iloc[train_ind][all_model_features].replace([np.inf, -np.inf], np.nan)\n",
    "    X_train_all_new.dropna(axis=0, inplace=True)\n",
    "    X_test_all_new = new_ct_full.iloc[test_ind][all_model_features].replace([np.inf, -np.inf], np.nan)\n",
    "    X_test_all_new.dropna(axis=0, inplace=True)\n",
    "\n",
    "    X_train_all_new, X_test_all_new = standardize(X_train_all_new, X_test_all_new)\n",
    "\n",
    "    X_train_all_new[\"charge_throughput\"] = new_ct_full.iloc[train_ind][\"charge_throughput\"]\n",
    "    X_test_all_new[\"charge_throughput\"] = new_ct_full.iloc[test_ind][\"charge_throughput\"]\n",
    "\n",
    "    X_all_new = X_train_all_new.append(X_test_all_new)"
   ]
  },
  {
   "cell_type": "markdown",
   "metadata": {},
   "source": [
    "### Variance Model"
   ]
  },
  {
   "cell_type": "code",
   "execution_count": 324,
   "metadata": {},
   "outputs": [],
   "source": [
    "# Variance model\n",
    "X_train_var = new_ct_full.iloc[train_ind][variance_model_features]\n",
    "X_train_var.dropna(axis=0, inplace=True)\n",
    "y_train = new_ct_full.iloc[X_train_var.index][[y]]\n",
    "\n",
    "X_test_var = new_ct_full.iloc[test_ind][variance_model_features]\n",
    "X_test_var.dropna(axis=0, inplace=True)\n",
    "y_test = new_ct_full.iloc[X_test_var.index][[y]]\n",
    "\n",
    "if standardized:\n",
    "    X_train_var, X_test_var = standardize(X_train_var, X_test_var)"
   ]
  },
  {
   "cell_type": "code",
   "execution_count": 325,
   "metadata": {},
   "outputs": [
    {
     "name": "stdout",
     "output_type": "stream",
     "text": [
      "Variance Random Forest Model\n",
      "Test RMSE:  1437.6122998666092\n",
      "Mean % Test Error:  33.63757293776185\n"
     ]
    }
   ],
   "source": [
    "reg_var = RandomForestRegressor(criterion='mae').fit(X_train_var, np.ravel(y_train))\n",
    "y_pred_train_var = reg_var.predict(X_train_var)\n",
    "y_pred_test_var = reg_var.predict(X_test_var)\n",
    "\n",
    "rmse_train_var = np.sqrt(mean_squared_error(y_train, y_pred_train_var))\n",
    "rmse_test_var = np.sqrt(mean_squared_error(y_test, y_pred_test_var))\n",
    "mape_train_var = mean_absolute_percentage_error(y_train, y_pred_train_var)*100\n",
    "mape_test_var = mean_absolute_percentage_error(y_test, y_pred_test_var)*100\n",
    "\n",
    "print(\"Variance Random Forest Model\")\n",
    "# print(\"Training RMSE: \", rmse_train_var)\n",
    "print(\"Test RMSE: \", rmse_test_var)\n",
    "# print(\"Mean % Train Error: \", mape_train_var)\n",
    "print(\"Mean % Test Error: \", mape_test_var)"
   ]
  },
  {
   "cell_type": "code",
   "execution_count": 326,
   "metadata": {},
   "outputs": [
    {
     "data": {
      "text/plain": [
       "Text(0.5, 1.0, 'Variance Model Predicted vs. True Values (LR)')"
      ]
     },
     "execution_count": 326,
     "metadata": {},
     "output_type": "execute_result"
    },
    {
     "data": {
      "image/png": "[encoded data removed]",
      "text/plain": [
       "<Figure size 432x288 with 1 Axes>"
      ]
     },
     "metadata": {
      "needs_background": "light"
     },
     "output_type": "display_data"
    }
   ],
   "source": [
    "# Linear Regression\n",
    "max_var = y_test.max()[0]\n",
    "\n",
    "plt.scatter(y_test, y_pred_test_var)\n",
    "plt.plot([0, max_var], [0, max_var], color=\"red\")\n",
    "plt.xlabel(\"True Values\")\n",
    "plt.ylabel(\"Predicted Values\")\n",
    "plt.title(\"Variance Model Predicted vs. True Values (LR)\")"
   ]
  },
  {
   "cell_type": "markdown",
   "metadata": {},
   "source": [
    "### Discharge Model"
   ]
  },
  {
   "cell_type": "code",
   "execution_count": 327,
   "metadata": {},
   "outputs": [
    {
     "name": "stdout",
     "output_type": "stream",
     "text": [
      "Discharge Random Forest Model\n",
      "Test RMSE:  973.1115168215617\n",
      "Mean % Test Error:  32.57237540143013\n"
     ]
    }
   ],
   "source": [
    "# discharge model\n",
    "X_train_dis = new_ct_full.iloc[train_ind][discharge_model_features].replace([np.inf, -np.inf], np.nan)\n",
    "X_train_dis.dropna(axis=0, inplace=True)\n",
    "y_train = new_ct_full.iloc[X_train_dis.index][[y]]\n",
    "\n",
    "X_test_dis = new_ct_full.iloc[test_ind][discharge_model_features].replace([np.inf, -np.inf], np.nan)\n",
    "X_test_dis.dropna(axis=0, inplace=True)\n",
    "y_test = new_ct_full.iloc[X_test_dis.index][[y]]\n",
    "\n",
    "if standardized:\n",
    "    X_train_dis, X_test_dis = standardize(X_train_dis, X_test_dis)\n",
    "\n",
    "reg_dis = RandomForestRegressor(criterion='mae').fit(X_train_dis, np.ravel(y_train))\n",
    "y_pred_train_dis = reg_dis.predict(X_train_dis)\n",
    "y_pred_test_dis = reg_dis.predict(X_test_dis)\n",
    "\n",
    "rmse_train_dis = np.sqrt(mean_squared_error(y_train, y_pred_train_dis))\n",
    "rmse_test_dis = np.sqrt(mean_squared_error(y_test, y_pred_test_dis))\n",
    "mape_train_dis = mean_absolute_percentage_error(y_train, y_pred_train_dis)*100\n",
    "mape_test_dis = mean_absolute_percentage_error(y_test, y_pred_test_dis)*100\n",
    "\n",
    "print(\"Discharge Random Forest Model\")\n",
    "# print(\"Training RMSE: \", np.sqrt(mean_squared_error(y_train, y_pred_train_dis)))\n",
    "print(\"Test RMSE: \", rmse_test_dis)\n",
    "# print(\"Mean % Train Error: \", mean_absolute_percentage_error(y_train, y_pred_train_dis))\n",
    "print(\"Mean % Test Error: \", mape_test_dis)"
   ]
  },
  {
   "cell_type": "code",
   "execution_count": 328,
   "metadata": {},
   "outputs": [
    {
     "data": {
      "text/plain": [
       "Text(0.5, 1.0, 'Discharge Model Predicted vs. True Values (LR)')"
      ]
     },
     "execution_count": 328,
     "metadata": {},
     "output_type": "execute_result"
    },
    {
     "data": {
      "image/png": "[encoded data removed]",
      "text/plain": [
       "<Figure size 432x288 with 1 Axes>"
      ]
     },
     "metadata": {
      "needs_background": "light"
     },
     "output_type": "display_data"
    }
   ],
   "source": [
    "# Linear Regression\n",
    "max_dis = y_test.max()[0]\n",
    "\n",
    "plt.scatter(y_test, y_pred_test_dis)\n",
    "plt.plot([0, max_dis], [0, max_dis], color=\"red\")\n",
    "plt.xlabel(\"True Values\")\n",
    "plt.ylabel(\"Predicted Values\")\n",
    "plt.title(\"Discharge Model Predicted vs. True Values (LR)\")"
   ]
  },
  {
   "cell_type": "markdown",
   "metadata": {},
   "source": [
    "### Full Model"
   ]
  },
  {
   "cell_type": "code",
   "execution_count": 329,
   "metadata": {},
   "outputs": [
    {
     "name": "stdout",
     "output_type": "stream",
     "text": [
      "Full Random Forest Model\n",
      "Test RMSE:  1084.72098341559\n",
      "Mean % Test Error:  25.829581573153952\n"
     ]
    }
   ],
   "source": [
    "# full model\n",
    "X_train_full = new_ct_full.iloc[train_ind][full_model_features].replace([np.inf, -np.inf], np.nan)\n",
    "X_train_full.dropna(axis=0, inplace=True) \n",
    "y_train = new_ct_full.iloc[X_train_full.index][[y]]\n",
    "\n",
    "X_test_full = new_ct_full.iloc[test_ind][full_model_features].replace([np.inf, -np.inf], np.nan)\n",
    "X_test_full.dropna(axis=0, inplace=True) \n",
    "y_test = new_ct_full.iloc[X_test_full.index][[y]]\n",
    "\n",
    "if standardized:\n",
    "    X_train_full, X_test_full = standardize(X_train_full, X_test_full)\n",
    "\n",
    "reg_full = RandomForestRegressor(criterion='mae').fit(X_train_full, np.ravel(y_train))\n",
    "y_pred_train_full = reg_full.predict(X_train_full)\n",
    "y_pred_test_full = reg_full.predict(X_test_full)\n",
    "\n",
    "rmse_train_full = np.sqrt(mean_squared_error(y_train, y_pred_train_full))\n",
    "rmse_test_full = np.sqrt(mean_squared_error(y_test, y_pred_test_full))\n",
    "mape_train_full = mean_absolute_percentage_error(y_train, y_pred_train_full)*100\n",
    "mape_test_full = mean_absolute_percentage_error(y_test, y_pred_test_full)*100\n",
    "\n",
    "print(\"Full Random Forest Model\")\n",
    "# print(\"Training RMSE: \", np.sqrt(mean_squared_error(y_train, y_pred_train_full)))\n",
    "print(\"Test RMSE: \", rmse_test_full)\n",
    "# print(\"Mean % Train Error: \", mean_absolute_percentage_error(y_train, y_pred_train_full))\n",
    "print(\"Mean % Test Error: \", mape_test_full)"
   ]
  },
  {
   "cell_type": "code",
   "execution_count": 330,
   "metadata": {},
   "outputs": [
    {
     "data": {
      "text/plain": [
       "Text(0.5, 1.0, 'Full Model Predicted vs. True Values (LR)')"
      ]
     },
     "execution_count": 330,
     "metadata": {},
     "output_type": "execute_result"
    },
    {
     "data": {
      "image/png": "[encoded data removed]",
      "text/plain": [
       "<Figure size 432x288 with 1 Axes>"
      ]
     },
     "metadata": {
      "needs_background": "light"
     },
     "output_type": "display_data"
    }
   ],
   "source": [
    "#Linear Regression\n",
    "min_full = y_test.min()[0]\n",
    "max_full = y_test.max()[0]\n",
    "\n",
    "plt.scatter(y_test, y_pred_test_full)\n",
    "plt.plot([0, max_full], [0, max_full], color=\"red\")\n",
    "plt.xlabel(\"True Values\")\n",
    "plt.ylabel(\"Predicted Values\")\n",
    "plt.title(\"Full Model Predicted vs. True Values (LR)\")"
   ]
  },
  {
   "cell_type": "markdown",
   "metadata": {},
   "source": [
    "### New Data Plots"
   ]
  },
  {
   "cell_type": "code",
   "execution_count": 331,
   "metadata": {},
   "outputs": [
    {
     "data": {
      "image/png": "[encoded data removed]",
      "text/plain": [
       "<Figure size 432x288 with 1 Axes>"
      ]
     },
     "metadata": {
      "needs_background": "light"
     },
     "output_type": "display_data"
    }
   ],
   "source": [
    "plt.hist(new_ct_full[y])\n",
    "plt.ylabel('Frequency')\n",
    "if ct:\n",
    "    plt.xlabel('Charge Throughput')\n",
    "    plt.title('Frequency of Charge Throughput')\n",
    "else:\n",
    "    plt.xlabel('Cycle Life')\n",
    "    plt.title('Frequency of Cycle Life (New Data)')"
   ]
  },
  {
   "cell_type": "code",
   "execution_count": 332,
   "metadata": {},
   "outputs": [],
   "source": [
    "new_data_metrics = pd.DataFrame(data = {\n",
    "    \n",
    "                               \"Model\": [\"Variance\",\n",
    "                                         \"Discharge\",\n",
    "                                         \"Full\"],\n",
    "                                        \n",
    "                               \"Test MAPE\": [mape_test_var,\n",
    "                                              mape_test_dis,\n",
    "                                              mape_test_full],\n",
    "                               \n",
    "                               \"Test RMSE\": [rmse_test_var,\n",
    "                                             rmse_test_dis,\n",
    "                                             rmse_test_full]})#,"
   ]
  },
  {
   "cell_type": "code",
   "execution_count": 333,
   "metadata": {},
   "outputs": [
    {
     "data": {
      "text/plain": [
       "Text(0.5, 1.0, 'New Data Test RMSE Comparison')"
      ]
     },
     "execution_count": 333,
     "metadata": {},
     "output_type": "execute_result"
    },
    {
     "data": {
      "image/png": "[encoded data removed]",
      "text/plain": [
       "<Figure size 360x360 with 1 Axes>"
      ]
     },
     "metadata": {
      "needs_background": "light"
     },
     "output_type": "display_data"
    }
   ],
   "source": [
    "sns.catplot(data = new_data_metrics, kind=\"bar\",\n",
    "               x = \"Model\", y = \"Test RMSE\")\n",
    "plt.title(\"New Data Test RMSE Comparison\")"
   ]
  },
  {
   "cell_type": "code",
   "execution_count": 334,
   "metadata": {},
   "outputs": [
    {
     "data": {
      "text/plain": [
       "Text(0.5, 1.0, 'New Data Test MAPE Comparison')"
      ]
     },
     "execution_count": 334,
     "metadata": {},
     "output_type": "execute_result"
    },
    {
     "data": {
      "image/png": "[encoded data removed]",
      "text/plain": [
       "<Figure size 360x360 with 1 Axes>"
      ]
     },
     "metadata": {
      "needs_background": "light"
     },
     "output_type": "display_data"
    }
   ],
   "source": [
    "sns.catplot(data = new_data_metrics, kind=\"bar\",\n",
    "               x = \"Model\", y = \"Test MAPE\")\n",
    "plt.title(\"New Data Test MAPE Comparison\")"
   ]
  },
  {
   "cell_type": "markdown",
   "metadata": {},
   "source": [
    "## New + Old Data"
   ]
  },
  {
   "cell_type": "code",
   "execution_count": 335,
   "metadata": {},
   "outputs": [],
   "source": [
    "if sources:\n",
    "    old_ct[\"Source\"] = -1\n",
    "    new_ct_full[\"Source\"] = 1\n",
    "\n",
    "    if new_chemistries:\n",
    "        for chem in chemistries:\n",
    "            old_ct[chem] = -1\n",
    "\n",
    "    variance_model_features.append(\"Source\")\n",
    "    discharge_model_features.append(\"Source\")\n",
    "    full_model_features.append(\"Source\")"
   ]
  },
  {
   "cell_type": "code",
   "execution_count": 336,
   "metadata": {},
   "outputs": [],
   "source": [
    "full_data = old_ct.append(new_ct_full)\n",
    "full_data = full_data.reset_index()"
   ]
  },
  {
   "cell_type": "code",
   "execution_count": 337,
   "metadata": {},
   "outputs": [],
   "source": [
    "if old_new_scaler:\n",
    "    X_all_old[\"Source\"] = -1\n",
    "    X_all_new[\"Source\"] = 1\n",
    "    for chem in chemistries:\n",
    "        X_all_old[chem] = -1\n",
    "\n",
    "    all_model_features.append(\"Source\")\n",
    "\n",
    "    full_data = X_all_old.append(X_all_new)\n",
    "    full_data = full_data.reset_index()"
   ]
  },
  {
   "cell_type": "code",
   "execution_count": 338,
   "metadata": {},
   "outputs": [],
   "source": [
    "if train_old_test_new:\n",
    "    train_ind = [i for i in range(len(old_ct))]\n",
    "    test_ind = [j for j in range(len(old_ct),len(full_data))]\n",
    "    \n",
    "else:\n",
    "    train_ind = [i for i in range(1, len(full_data), 2)]\n",
    "    test_ind = [i for i in range(0, len(full_data), 2)]"
   ]
  },
  {
   "cell_type": "markdown",
   "metadata": {},
   "source": [
    "### Variance Model"
   ]
  },
  {
   "cell_type": "code",
   "execution_count": 339,
   "metadata": {},
   "outputs": [],
   "source": [
    "# Variance model\n",
    "X_train_var = full_data.iloc[train_ind][variance_model_features]\n",
    "X_train_var.dropna(axis=0, inplace=True)\n",
    "y_train = full_data.iloc[X_train_var.index][[y]]\n",
    "\n",
    "X_test_var = full_data.iloc[test_ind][variance_model_features]\n",
    "X_test_var.dropna(axis=0, inplace=True)\n",
    "y_test = full_data.iloc[X_test_var.index][[y]]\n",
    "\n",
    "# if standardized:\n",
    "#     X_train_var, X_test_var = standardize(X_train_var, X_test_var)\n",
    "\n",
    "# log transformation\n",
    "if log_transformation:\n",
    "    y_train = np.log(y_train)\n",
    "    y_test = np.log(y_test)"
   ]
  },
  {
   "cell_type": "code",
   "execution_count": 340,
   "metadata": {},
   "outputs": [
    {
     "name": "stdout",
     "output_type": "stream",
     "text": [
      "Variance Basic Linear Regression Model\n",
      "Test RMSE:  977.9865719436475\n",
      "Mean % Test Error:  27.86271831069498\n"
     ]
    }
   ],
   "source": [
    "reg_var = RandomForestRegressor(criterion='mae').fit(X_train_var, np.ravel(y_train))\n",
    "y_pred_train_var = reg_var.predict(X_train_var)\n",
    "y_pred_test_var = reg_var.predict(X_test_var)\n",
    "\n",
    "if log_transformation:\n",
    "    y_train = np.exp(y_train)\n",
    "    y_test = np.exp(y_test)\n",
    "    y_pred_train_var = np.exp(y_pred_train_var)\n",
    "    y_pred_test_var = np.exp(y_pred_test_var)\n",
    "\n",
    "rmse_train_var = np.sqrt(mean_squared_error(y_train, y_pred_train_var))\n",
    "rmse_test_var = np.sqrt(mean_squared_error(y_test, y_pred_test_var))\n",
    "mape_train_var = mean_absolute_percentage_error(y_train, y_pred_train_var)*100\n",
    "mape_test_var = mean_absolute_percentage_error(y_test, y_pred_test_var)*100\n",
    "\n",
    "print(\"Variance Basic Linear Regression Model\")\n",
    "# print(\"Training RMSE: \", rmse_train_var)\n",
    "print(\"Test RMSE: \", rmse_test_var)\n",
    "# print(\"Mean % Train Error: \", mape_train_var)\n",
    "print(\"Mean % Test Error: \", mape_test_var)"
   ]
  },
  {
   "cell_type": "code",
   "execution_count": 341,
   "metadata": {},
   "outputs": [
    {
     "data": {
      "text/plain": [
       "Text(0.5, 1.0, 'Variance Model Predicted vs. True Values')"
      ]
     },
     "execution_count": 341,
     "metadata": {},
     "output_type": "execute_result"
    },
    {
     "data": {
      "image/png": "[encoded data removed]",
      "text/plain": [
       "<Figure size 432x288 with 1 Axes>"
      ]
     },
     "metadata": {
      "needs_background": "light"
     },
     "output_type": "display_data"
    }
   ],
   "source": [
    "# Variance model\n",
    "min_var = y_test.min()[0]\n",
    "max_var = y_test.max()[0]\n",
    "\n",
    "plt.scatter(y_test, y_pred_test_var)\n",
    "plt.plot([0, max_var], [0, max_var], color=\"red\")\n",
    "plt.xlabel(\"True Values\")\n",
    "plt.ylabel(\"Predicted Values\")\n",
    "plt.title(\"Variance Model Predicted vs. True Values\")"
   ]
  },
  {
   "cell_type": "markdown",
   "metadata": {},
   "source": [
    "### Discharge Model"
   ]
  },
  {
   "cell_type": "code",
   "execution_count": 342,
   "metadata": {},
   "outputs": [
    {
     "name": "stdout",
     "output_type": "stream",
     "text": [
      "Discharge Basic Linear Regression Model\n",
      "Test RMSE:  592.8275756339937\n",
      "Mean % Test Error:  20.632615113403276\n"
     ]
    }
   ],
   "source": [
    "# discharge model\n",
    "X_train_dis = full_data.iloc[train_ind][discharge_model_features].replace([np.inf, -np.inf, 0], np.nan)\n",
    "X_train_dis.dropna(axis=0, inplace=True)\n",
    "y_train = full_data.iloc[X_train_dis.index][[y]]\n",
    "\n",
    "X_test_dis = full_data.iloc[test_ind][discharge_model_features].replace([np.inf, -np.inf, 0], np.nan)\n",
    "X_test_dis.dropna(axis=0, inplace=True)\n",
    "y_test = full_data.iloc[X_test_dis.index][[y]]\n",
    "\n",
    "# if standardized:\n",
    "#     X_train_dis, X_test_dis = standardize(X_train_dis, X_test_dis)\n",
    "    \n",
    "if log_transformation:\n",
    "    y_train = np.log(y_train)\n",
    "    y_test = np.log(y_test)\n",
    "    \n",
    "reg_dis = RandomForestRegressor(criterion='mae').fit(X_train_dis, np.ravel(y_train))\n",
    "y_pred_train_dis = reg_dis.predict(X_train_dis)\n",
    "y_pred_test_dis = reg_dis.predict(X_test_dis)\n",
    "\n",
    "if log_transformation:\n",
    "    y_train = np.exp(y_train)\n",
    "    y_test = np.exp(y_test)\n",
    "    y_pred_train_dis = np.exp(y_pred_train_dis)\n",
    "    y_pred_test_dis = np.exp(y_pred_test_dis)\n",
    "    \n",
    "rmse_train_dis = np.sqrt(mean_squared_error(y_train, y_pred_train_dis))\n",
    "rmse_test_dis = np.sqrt(mean_squared_error(y_test, y_pred_test_dis))\n",
    "mape_train_dis = mean_absolute_percentage_error(y_train, y_pred_train_dis)*100\n",
    "mape_test_dis = mean_absolute_percentage_error(y_test, y_pred_test_dis)*100\n",
    "\n",
    "print(\"Discharge Basic Linear Regression Model\")\n",
    "# print(\"Training RMSE: \", np.sqrt(mean_squared_error(y_train, y_pred_train_dis)))\n",
    "print(\"Test RMSE: \", rmse_test_dis)\n",
    "# print(\"Mean % Train Error: \", mean_absolute_percentage_error(y_train, y_pred_train_dis))\n",
    "print(\"Mean % Test Error: \", mape_test_dis)"
   ]
  },
  {
   "cell_type": "code",
   "execution_count": 343,
   "metadata": {},
   "outputs": [
    {
     "data": {
      "text/plain": [
       "Text(0.5, 1.0, 'Discharge Model Predicted vs. True Values')"
      ]
     },
     "execution_count": 343,
     "metadata": {},
     "output_type": "execute_result"
    },
    {
     "data": {
      "image/png": "[encoded data removed]",
      "text/plain": [
       "<Figure size 432x288 with 1 Axes>"
      ]
     },
     "metadata": {
      "needs_background": "light"
     },
     "output_type": "display_data"
    }
   ],
   "source": [
    "# Discharge model\n",
    "max_dis = y_test.max()[0]\n",
    "\n",
    "plt.scatter(y_test, y_pred_test_dis)\n",
    "plt.plot([0, max_dis], [0, max_dis], color=\"red\")\n",
    "plt.xlabel(\"True Values\")\n",
    "plt.ylabel(\"Predicted Values\")\n",
    "plt.title(\"Discharge Model Predicted vs. True Values\")"
   ]
  },
  {
   "cell_type": "markdown",
   "metadata": {},
   "source": [
    "### Full Model"
   ]
  },
  {
   "cell_type": "code",
   "execution_count": 344,
   "metadata": {},
   "outputs": [
    {
     "name": "stdout",
     "output_type": "stream",
     "text": [
      "Full Basic Linear Regression Model\n",
      "Test RMSE:  675.3999769122585\n",
      "Mean % Test Error:  9.87063841404066\n"
     ]
    }
   ],
   "source": [
    "# full model\n",
    "X_train_full = full_data.iloc[train_ind][full_model_features].replace([np.inf, -np.inf, 0], np.nan)\n",
    "X_train_full.dropna(axis=0, inplace=True)\n",
    "y_train = full_data.loc[X_train_full.index][[y]]\n",
    "\n",
    "X_test_full = full_data.iloc[test_ind][full_model_features].replace([np.inf, -np.inf, 0], np.nan)\n",
    "X_test_full.dropna(axis=0, inplace=True)\n",
    "y_test = full_data.loc[X_test_full.index][[y]]\n",
    "\n",
    "# if standardized:\n",
    "#     X_train_full, X_test_full = standardize(X_train_full, X_test_full)\n",
    "\n",
    "if log_transformation:\n",
    "    y_train = np.log(y_train)\n",
    "    y_test = np.log(y_test)\n",
    "\n",
    "reg_full = RandomForestRegressor(criterion='mae').fit(X_train_full, np.ravel(y_train))\n",
    "y_pred_train_full = reg_full.predict(X_train_full)\n",
    "y_pred_test_full = reg_full.predict(X_test_full)\n",
    "\n",
    "if log_transformation:\n",
    "    y_train = np.exp(y_train)\n",
    "    y_test = np.exp(y_test)\n",
    "    y_pred_train_full = np.exp(y_pred_train_full)\n",
    "    y_pred_test_full = np.exp(y_pred_test_full)\n",
    "\n",
    "rmse_train_full = np.sqrt(mean_squared_error(y_train, y_pred_train_full))\n",
    "rmse_test_full = np.sqrt(mean_squared_error(y_test, y_pred_test_full))\n",
    "mape_train_full = mean_absolute_percentage_error(y_train, y_pred_train_full)*100\n",
    "mape_test_full = mean_absolute_percentage_error(y_test, y_pred_test_full)*100\n",
    "\n",
    "print(\"Full Basic Linear Regression Model\")\n",
    "# print(\"Training RMSE: \", np.sqrt(mean_squared_error(y_train, y_pred_train_full)))\n",
    "print(\"Test RMSE: \", rmse_test_full)\n",
    "# print(\"Mean % Train Error: \", mean_absolute_percentage_error(y_train, y_pred_train_full))\n",
    "print(\"Mean % Test Error: \", mape_train_full)"
   ]
  },
  {
   "cell_type": "code",
   "execution_count": 345,
   "metadata": {},
   "outputs": [
    {
     "data": {
      "text/plain": [
       "Text(0.5, 1.0, 'Full Model Predicted vs. True Values')"
      ]
     },
     "execution_count": 345,
     "metadata": {},
     "output_type": "execute_result"
    },
    {
     "data": {
      "image/png": "[encoded data removed]",
      "text/plain": [
       "<Figure size 432x288 with 1 Axes>"
      ]
     },
     "metadata": {
      "needs_background": "light"
     },
     "output_type": "display_data"
    }
   ],
   "source": [
    "min_full = y_test.min()[0]\n",
    "max_full = y_test.max()[0]\n",
    "\n",
    "plt.scatter(y_test, y_pred_test_full)\n",
    "plt.plot([0, max_full], [0, max_full], color=\"red\")\n",
    "plt.xlabel(\"True Values\")\n",
    "plt.ylabel(\"Predicted Values\")\n",
    "plt.title(\"Full Model Predicted vs. True Values\")"
   ]
  },
  {
   "cell_type": "markdown",
   "metadata": {},
   "source": [
    "## Old + New Data Plots"
   ]
  },
  {
   "cell_type": "code",
   "execution_count": 346,
   "metadata": {},
   "outputs": [
    {
     "name": "stderr",
     "output_type": "stream",
     "text": [
      "/home/steven/.local/lib/python3.8/site-packages/seaborn/distributions.py:2557: FutureWarning: `distplot` is a deprecated function and will be removed in a future version. Please adapt your code to use either `displot` (a figure-level function with similar flexibility) or `histplot` (an axes-level function for histograms).\n",
      "  warnings.warn(msg, FutureWarning)\n"
     ]
    },
    {
     "data": {
      "image/png": "[encoded data removed]",
      "text/plain": [
       "<Figure size 432x288 with 1 Axes>"
      ]
     },
     "metadata": {
      "needs_background": "light"
     },
     "output_type": "display_data"
    }
   ],
   "source": [
    "sns.distplot(old_ct[y], kde=False, color=\"yellow\", label='Old Data', bins=5)\n",
    "sns.distplot(new_ct_full[y], kde=False, color=\"red\", label='New Data', bins=10)\n",
    "\n",
    "# Plot formatting\n",
    "plt.legend(prop={'size': 12})\n",
    "if ct:\n",
    "    plt.title('Average Charge Throughput of Data Sources')\n",
    "    plt.xlabel('Charge Throughput')\n",
    "else:\n",
    "    plt.title('Average Cycle Life of Data Sources')\n",
    "    plt.xlabel('Cycle Life')\n",
    "plt.ylabel('Frequency');"
   ]
  },
  {
   "cell_type": "code",
   "execution_count": 347,
   "metadata": {},
   "outputs": [
    {
     "data": {
      "image/png": "[encoded data removed]",
      "text/plain": [
       "<Figure size 432x288 with 1 Axes>"
      ]
     },
     "metadata": {
      "needs_background": "light"
     },
     "output_type": "display_data"
    }
   ],
   "source": [
    "sns.histplot(new_ct_full[y], color=\"red\", label='New Data')\n",
    "sns.histplot(full_data[y], color = \"yellow\", label = 'Combined Data')\n",
    "sns.histplot(old_ct[y], color=\"blue\", label='Old Data')\n",
    "\n",
    "\n",
    "# Plot formatting\n",
    "plt.legend(prop={'size': 12})\n",
    "if ct:\n",
    "    plt.title('Average Charge Throughput of Data Sources')\n",
    "    plt.xlabel('Charge Throughput')\n",
    "else:\n",
    "    plt.title('Average Cycle Life of Data Sources')\n",
    "    plt.xlabel('Cycle Life')\n",
    "plt.ylabel('Frequency');"
   ]
  },
  {
   "cell_type": "code",
   "execution_count": 348,
   "metadata": {},
   "outputs": [],
   "source": [
    "all_data_metrics = pd.DataFrame(data = {\n",
    "    \n",
    "                               \"Model\": [\"Variance\",\n",
    "                                         \"Discharge\",\n",
    "                                         \"Full\"],\n",
    "                                        \n",
    "                               \"Test MAPE\": [mape_test_var,\n",
    "                                              mape_test_dis,\n",
    "                                              mape_test_full],\n",
    "                               \n",
    "                               \"Test RMSE\": [rmse_test_var,\n",
    "                                             rmse_test_dis,\n",
    "                                             rmse_test_full]})#,"
   ]
  },
  {
   "cell_type": "code",
   "execution_count": 349,
   "metadata": {},
   "outputs": [
    {
     "data": {
      "text/plain": [
       "Text(0.5, 1.0, 'Combined Data Test RMSE Comparison')"
      ]
     },
     "execution_count": 349,
     "metadata": {},
     "output_type": "execute_result"
    },
    {
     "data": {
      "image/png": "[encoded data removed]",
      "text/plain": [
       "<Figure size 360x360 with 1 Axes>"
      ]
     },
     "metadata": {
      "needs_background": "light"
     },
     "output_type": "display_data"
    }
   ],
   "source": [
    "sns.catplot(data = all_data_metrics, kind=\"bar\",\n",
    "               x = \"Model\", y = \"Test RMSE\")\n",
    "plt.title(\"Combined Data Test RMSE Comparison\")"
   ]
  },
  {
   "cell_type": "code",
   "execution_count": 350,
   "metadata": {},
   "outputs": [
    {
     "data": {
      "text/plain": [
       "Text(0.5, 1.0, 'Combined Data Test MAPE Comparison')"
      ]
     },
     "execution_count": 350,
     "metadata": {},
     "output_type": "execute_result"
    },
    {
     "data": {
      "image/png": "[encoded data removed]",
      "text/plain": [
       "<Figure size 360x360 with 1 Axes>"
      ]
     },
     "metadata": {
      "needs_background": "light"
     },
     "output_type": "display_data"
    }
   ],
   "source": [
    "sns.catplot(data = all_data_metrics, kind=\"bar\",\n",
    "               x = \"Model\", y = \"Test MAPE\")\n",
    "plt.title(\"Combined Data Test MAPE Comparison\")"
   ]
  },
  {
   "cell_type": "code",
   "execution_count": 351,
   "metadata": {},
   "outputs": [],
   "source": [
    "all_data_metrics['Data'] = 'Combined'\n",
    "new_data_metrics['Data'] = 'New'\n",
    "old_data_metrics['Data'] = 'Old'"
   ]
  },
  {
   "cell_type": "code",
   "execution_count": 352,
   "metadata": {},
   "outputs": [],
   "source": [
    "entire_data_metrics = pd.concat([old_data_metrics,new_data_metrics,all_data_metrics]).reset_index()"
   ]
  },
  {
   "cell_type": "code",
   "execution_count": 355,
   "metadata": {},
   "outputs": [
    {
     "data": {
      "text/plain": [
       "(0.0, 85.0)"
      ]
     },
     "execution_count": 355,
     "metadata": {},
     "output_type": "execute_result"
    },
    {
     "data": {
      "image/png": "[encoded data removed]",
      "text/plain": [
       "<Figure size 446.375x360 with 1 Axes>"
      ]
     },
     "metadata": {
      "needs_background": "light"
     },
     "output_type": "display_data"
    }
   ],
   "source": [
    "sns.catplot(data = entire_data_metrics, kind=\"bar\",\n",
    "               x = \"Data\", y = \"Test MAPE\",hue = 'Model')\n",
    "plt.title(\"Random Forest Test MAPE Comparison (Source)\")\n",
    "plt.ylabel(\"Mean Absolute % Error\")\n",
    "plt.ylim(0, 85)"
   ]
  }
 ],
 "metadata": {
  "kernelspec": {
   "display_name": "Python 3",
   "language": "python",
   "name": "python3"
  },
  "language_info": {
   "codemirror_mode": {
    "name": "ipython",
    "version": 3
   },
   "file_extension": ".py",
   "mimetype": "text/x-python",
   "name": "python",
   "nbconvert_exporter": "python",
   "pygments_lexer": "ipython3",
   "version": "3.8.5"
  }
 },
 "nbformat": 4,
 "nbformat_minor": 5
}
