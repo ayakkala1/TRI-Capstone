{
 "cells": [
  {
   "cell_type": "code",
   "execution_count": 1,
   "id": "coupled-revolution",
   "metadata": {},
   "outputs": [],
   "source": [
    "import os\n",
    "import pandas as pd\n",
    "import numpy as np\n",
    "import requests\n",
    "import json\n",
    "import glob\n",
    "import re\n",
    "import seaborn as sns\n",
    "from matplotlib import pyplot as plt\n",
    "from monty.serialization import loadfn\n",
    "\n",
    "os.environ['BEEP_ENV'] = 'dev'"
   ]
  },
  {
   "cell_type": "markdown",
   "id": "peaceful-companion",
   "metadata": {},
   "source": [
    "__Reading in files__:"
   ]
  },
  {
   "cell_type": "code",
   "execution_count": 2,
   "id": "motivated-degree",
   "metadata": {},
   "outputs": [],
   "source": [
    "#Directories for old data DeltaQFastCharge and TrajectoryFastCharge\n",
    "# old_d_dir = './FastCharge/data-share/features/DeltaQFastCharge'\n",
    "# old_t_dir = './FastCharge/data-share/features/TrajectoryFastCharge'\n",
    "\n",
    "#Directories for new data DeltaQFastCharge and TrajectoryFastCharge\n",
    "# new_d_dir = \"./NewData/DeltaQFastCharge/\"\n",
    "# new_t_dir = \"./NewData/TrajectoryFastCharge/\""
   ]
  },
  {
   "cell_type": "code",
   "execution_count": 3,
   "id": "rolled-maria",
   "metadata": {},
   "outputs": [],
   "source": [
    "path = \"E:/Data/TRI/\"\n",
    "\n",
    "old_subpath = \"FastCharge/features/\"\n",
    "\n",
    "old_d_dir = path + old_subpath + \"DeltaQFastCharge\"\n",
    "old_t_dir = path + old_subpath + \"TrajectoryFastCharge\"\n",
    "\n",
    "\n",
    "new_subpath = \"NewData/\"\n",
    "\n",
    "new_d_dir = path + new_subpath + \"DeltaQFastCharge/\"\n",
    "new_t_dir = path + new_subpath + \"TrajectoryFastCharge/\""
   ]
  },
  {
   "cell_type": "code",
   "execution_count": 4,
   "id": "determined-dylan",
   "metadata": {},
   "outputs": [],
   "source": [
    "def getListOfFiles(dirName):\n",
    "    listOfFile = os.listdir(dirName)\n",
    "    allFiles = list()\n",
    "    for entry in listOfFile:\n",
    "        fullPath = os.path.join(dirName, entry)\n",
    "        if \".json\" in fullPath:\n",
    "            allFiles.append(fullPath)\n",
    "    return allFiles"
   ]
  },
  {
   "cell_type": "code",
   "execution_count": 5,
   "id": "acknowledged-balance",
   "metadata": {},
   "outputs": [
    {
     "name": "stdout",
     "output_type": "stream",
     "text": [
      "139\n"
     ]
    },
    {
     "data": {
      "text/plain": [
       "['E:/Data/TRI/FastCharge/features/DeltaQFastCharge\\\\FastCharge_000000_CH19_features_DeltaQFastCharge.json',\n",
       " 'E:/Data/TRI/FastCharge/features/DeltaQFastCharge\\\\FastCharge_000001_CH16_features_DeltaQFastCharge.json',\n",
       " 'E:/Data/TRI/FastCharge/features/DeltaQFastCharge\\\\FastCharge_000001_CH30_features_DeltaQFastCharge.json',\n",
       " 'E:/Data/TRI/FastCharge/features/DeltaQFastCharge\\\\FastCharge_000001_CH38_features_DeltaQFastCharge.json',\n",
       " 'E:/Data/TRI/FastCharge/features/DeltaQFastCharge\\\\FastCharge_000002_CH10_features_DeltaQFastCharge.json']"
      ]
     },
     "execution_count": 5,
     "metadata": {},
     "output_type": "execute_result"
    }
   ],
   "source": [
    "old_d_list = getListOfFiles(old_d_dir)\n",
    "print(len(old_d_list))\n",
    "old_d_list[:5]"
   ]
  },
  {
   "cell_type": "code",
   "execution_count": 6,
   "id": "spanish-vatican",
   "metadata": {},
   "outputs": [
    {
     "name": "stdout",
     "output_type": "stream",
     "text": [
      "139\n"
     ]
    },
    {
     "data": {
      "text/plain": [
       "['E:/Data/TRI/FastCharge/features/TrajectoryFastCharge\\\\FastCharge_000000_CH19_features_TrajectoryFastCharge.json',\n",
       " 'E:/Data/TRI/FastCharge/features/TrajectoryFastCharge\\\\FastCharge_000001_CH16_features_TrajectoryFastCharge.json',\n",
       " 'E:/Data/TRI/FastCharge/features/TrajectoryFastCharge\\\\FastCharge_000001_CH30_features_TrajectoryFastCharge.json',\n",
       " 'E:/Data/TRI/FastCharge/features/TrajectoryFastCharge\\\\FastCharge_000001_CH38_features_TrajectoryFastCharge.json',\n",
       " 'E:/Data/TRI/FastCharge/features/TrajectoryFastCharge\\\\FastCharge_000002_CH10_features_TrajectoryFastCharge.json']"
      ]
     },
     "execution_count": 6,
     "metadata": {},
     "output_type": "execute_result"
    }
   ],
   "source": [
    "old_t_list = getListOfFiles(old_t_dir)\n",
    "print(len(old_t_list))\n",
    "old_t_list[:5]"
   ]
  },
  {
   "cell_type": "code",
   "execution_count": 7,
   "id": "spread-contamination",
   "metadata": {},
   "outputs": [
    {
     "name": "stdout",
     "output_type": "stream",
     "text": [
      "30\n"
     ]
    },
    {
     "data": {
      "text/plain": [
       "['E:/Data/TRI/NewData/DeltaQFastCharge/LFP_15C_0-100_0.5-1C_a_CH00_features_DeltaQFastCharge.json',\n",
       " 'E:/Data/TRI/NewData/DeltaQFastCharge/LFP_15C_0-100_0.5-1C_a_CH01_features_DeltaQFastCharge.json',\n",
       " 'E:/Data/TRI/NewData/DeltaQFastCharge/LFP_15C_0-100_0.5-1C_a_CH02_features_DeltaQFastCharge.json',\n",
       " 'E:/Data/TRI/NewData/DeltaQFastCharge/LFP_15C_0-100_0.5-1C_a_CH03_features_DeltaQFastCharge.json',\n",
       " 'E:/Data/TRI/NewData/DeltaQFastCharge/LFP_15C_0-100_0.5-1C_a_CH04_features_DeltaQFastCharge.json']"
      ]
     },
     "execution_count": 7,
     "metadata": {},
     "output_type": "execute_result"
    }
   ],
   "source": [
    "new_d_list = getListOfFiles(new_d_dir)\n",
    "print(len(new_d_list))\n",
    "new_d_list[:5]"
   ]
  },
  {
   "cell_type": "code",
   "execution_count": 8,
   "id": "interstate-projection",
   "metadata": {},
   "outputs": [
    {
     "name": "stdout",
     "output_type": "stream",
     "text": [
      "30\n"
     ]
    },
    {
     "data": {
      "text/plain": [
       "['E:/Data/TRI/NewData/TrajectoryFastCharge/LFP_15C_0-100_0.5-1C_a_CH00_features_TrajectoryFastCharge.json',\n",
       " 'E:/Data/TRI/NewData/TrajectoryFastCharge/LFP_15C_0-100_0.5-1C_a_CH01_features_TrajectoryFastCharge.json',\n",
       " 'E:/Data/TRI/NewData/TrajectoryFastCharge/LFP_15C_0-100_0.5-1C_a_CH02_features_TrajectoryFastCharge.json',\n",
       " 'E:/Data/TRI/NewData/TrajectoryFastCharge/LFP_15C_0-100_0.5-1C_a_CH03_features_TrajectoryFastCharge.json',\n",
       " 'E:/Data/TRI/NewData/TrajectoryFastCharge/LFP_15C_0-100_0.5-1C_a_CH04_features_TrajectoryFastCharge.json']"
      ]
     },
     "execution_count": 8,
     "metadata": {},
     "output_type": "execute_result"
    }
   ],
   "source": [
    "new_t_list = getListOfFiles(new_t_dir)\n",
    "print(len(new_t_list))\n",
    "new_t_list[:5]"
   ]
  },
  {
   "cell_type": "markdown",
   "id": "future-spank",
   "metadata": {},
   "source": [
    "Combining DeltaQFastCharge and TrajectoryFastCharge:"
   ]
  },
  {
   "cell_type": "code",
   "execution_count": 9,
   "id": "strong-reunion",
   "metadata": {},
   "outputs": [],
   "source": [
    "def get_new_names(d_list):\n",
    "    new_names = []\n",
    "    for file in d_list:\n",
    "        new_names.append(re.findall(\"CH(.*?)\\_f\", file)[0])\n",
    "    return new_names\n",
    "        \n",
    "def make_df(file_list, batch=False):\n",
    "    df = pd.DataFrame()\n",
    "    for file in file_list:\n",
    "        with open(file) as data_file:    \n",
    "            data = json.load(data_file)\n",
    "            data_df = pd.json_normalize(data)\n",
    "            df = pd.concat([df,data_df])\n",
    "    df.reset_index(drop=True,inplace=True)\n",
    "    if batch:\n",
    "        df['bat_num'] = get_new_names(file_list)\n",
    "    return df\n",
    "\n",
    "def merge_df(d_df, t_df):\n",
    "    df_full = d_df.merge(t_df, left_index=True, right_index=True)\n",
    "\n",
    "    # Making values not stored as lists\n",
    "    for column in df_full.columns:\n",
    "        if \"X.\" in column:\n",
    "            df_full[column] = df_full[column].apply(lambda x: x[0])\n",
    "\n",
    "    df_full.reset_index(inplace=True)\n",
    "    return df_full"
   ]
  },
  {
   "cell_type": "markdown",
   "id": "north-proposition",
   "metadata": {},
   "source": [
    "__Old data__:"
   ]
  },
  {
   "cell_type": "code",
   "execution_count": 10,
   "id": "peripheral-flexibility",
   "metadata": {},
   "outputs": [
    {
     "data": {
      "text/html": [
       "<div>\n",
       "<style scoped>\n",
       "    .dataframe tbody tr th:only-of-type {\n",
       "        vertical-align: middle;\n",
       "    }\n",
       "\n",
       "    .dataframe tbody tr th {\n",
       "        vertical-align: top;\n",
       "    }\n",
       "\n",
       "    .dataframe thead th {\n",
       "        text-align: right;\n",
       "    }\n",
       "</style>\n",
       "<table border=\"1\" class=\"dataframe\">\n",
       "  <thead>\n",
       "    <tr style=\"text-align: right;\">\n",
       "      <th></th>\n",
       "      <th>@module</th>\n",
       "      <th>@class</th>\n",
       "      <th>name</th>\n",
       "      <th>@version</th>\n",
       "      <th>X.discharge_capacity_cycle_2</th>\n",
       "      <th>X.max_discharge_capacity_difference</th>\n",
       "      <th>X.discharge_capacity_cycle_100</th>\n",
       "      <th>X.integrated_time_temperature_cycles_1:100</th>\n",
       "      <th>X.charge_time_cycles_1:5</th>\n",
       "      <th>X.abs_min_discharge_capacity_difference_cycles_2:100</th>\n",
       "      <th>...</th>\n",
       "      <th>X.internal_resistance_difference_cycles_2:100</th>\n",
       "      <th>X.nominal_capacity_by_median</th>\n",
       "      <th>metadata.barcode</th>\n",
       "      <th>metadata.protocol</th>\n",
       "      <th>metadata.channel_id</th>\n",
       "      <th>metadata.parameters.init_pred_cycle</th>\n",
       "      <th>metadata.parameters.mid_pred_cycle</th>\n",
       "      <th>metadata.parameters.final_pred_cycle</th>\n",
       "      <th>metadata.parameters.n_nominal_cycles</th>\n",
       "      <th>bat_num</th>\n",
       "    </tr>\n",
       "  </thead>\n",
       "  <tbody>\n",
       "    <tr>\n",
       "      <th>0</th>\n",
       "      <td>beep.featurize</td>\n",
       "      <td>DeltaQFastCharge</td>\n",
       "      <td>/mnt/c/Users/sjrt1/Documents/School/Winter2021...</td>\n",
       "      <td>2021.1.11.15</td>\n",
       "      <td>[1.0454259]</td>\n",
       "      <td>[0.8891461000000003]</td>\n",
       "      <td>[1.0331815]</td>\n",
       "      <td>[231072.4263671875]</td>\n",
       "      <td>[614.4000244140625]</td>\n",
       "      <td>[-1.1444158302992298]</td>\n",
       "      <td>...</td>\n",
       "      <td>[-0.0010415539145469666]</td>\n",
       "      <td>[1.047977]</td>\n",
       "      <td>el150800440551</td>\n",
       "      <td>2017-06-30_tests\\20170630-4_4C_55per_6C.sdu</td>\n",
       "      <td>18</td>\n",
       "      <td>10</td>\n",
       "      <td>91</td>\n",
       "      <td>100</td>\n",
       "      <td>40</td>\n",
       "      <td>19</td>\n",
       "    </tr>\n",
       "    <tr>\n",
       "      <th>1</th>\n",
       "      <td>beep.featurize</td>\n",
       "      <td>DeltaQFastCharge</td>\n",
       "      <td>/mnt/c/Users/sjrt1/Documents/School/Winter2021...</td>\n",
       "      <td>2021.1.11.15</td>\n",
       "      <td>[1.0620247999999999]</td>\n",
       "      <td>[0.48970650000000004]</td>\n",
       "      <td>[1.0439155]</td>\n",
       "      <td>[149767.85131961218]</td>\n",
       "      <td>[563.2000122070312]</td>\n",
       "      <td>[-1.2773591296554208]</td>\n",
       "      <td>...</td>\n",
       "      <td>[0.0003414759412407875]</td>\n",
       "      <td>[1.06011365]</td>\n",
       "      <td>el150800737229</td>\n",
       "      <td>2018-04-12_batch8\\20180412-3_7C_31per_5_9C_new...</td>\n",
       "      <td>15</td>\n",
       "      <td>10</td>\n",
       "      <td>91</td>\n",
       "      <td>100</td>\n",
       "      <td>40</td>\n",
       "      <td>16</td>\n",
       "    </tr>\n",
       "    <tr>\n",
       "      <th>2</th>\n",
       "      <td>beep.featurize</td>\n",
       "      <td>DeltaQFastCharge</td>\n",
       "      <td>/mnt/c/Users/sjrt1/Documents/School/Winter2021...</td>\n",
       "      <td>2021.1.11.15</td>\n",
       "      <td>[1.0678786]</td>\n",
       "      <td>[0.4961450999999999]</td>\n",
       "      <td>[1.054091]</td>\n",
       "      <td>[205315.4877278646]</td>\n",
       "      <td>[614.4000244140625]</td>\n",
       "      <td>[-1.3752393675218624]</td>\n",
       "      <td>...</td>\n",
       "      <td>[0.00024036318063735962]</td>\n",
       "      <td>[1.06736225]</td>\n",
       "      <td>el150800737366</td>\n",
       "      <td>2018-04-12_batch8\\20180412-3_7C_31per_5_9C_new...</td>\n",
       "      <td>29</td>\n",
       "      <td>10</td>\n",
       "      <td>91</td>\n",
       "      <td>100</td>\n",
       "      <td>40</td>\n",
       "      <td>30</td>\n",
       "    </tr>\n",
       "    <tr>\n",
       "      <th>3</th>\n",
       "      <td>beep.featurize</td>\n",
       "      <td>DeltaQFastCharge</td>\n",
       "      <td>/mnt/c/Users/sjrt1/Documents/School/Winter2021...</td>\n",
       "      <td>2021.1.11.15</td>\n",
       "      <td>[1.0512739]</td>\n",
       "      <td>[0.49011190000000004]</td>\n",
       "      <td>[1.0341983000000001]</td>\n",
       "      <td>[159799.4890051929]</td>\n",
       "      <td>[563.2000122070312]</td>\n",
       "      <td>[-1.2430890844325302]</td>\n",
       "      <td>...</td>\n",
       "      <td>[0.00042933784425258636]</td>\n",
       "      <td>[1.05098615]</td>\n",
       "      <td>el150800737234</td>\n",
       "      <td>2018-04-12_batch8\\20180412-3_7C_31per_5_9C_new...</td>\n",
       "      <td>37</td>\n",
       "      <td>10</td>\n",
       "      <td>91</td>\n",
       "      <td>100</td>\n",
       "      <td>40</td>\n",
       "      <td>38</td>\n",
       "    </tr>\n",
       "    <tr>\n",
       "      <th>4</th>\n",
       "      <td>beep.featurize</td>\n",
       "      <td>DeltaQFastCharge</td>\n",
       "      <td>/mnt/c/Users/sjrt1/Documents/School/Winter2021...</td>\n",
       "      <td>2021.1.11.15</td>\n",
       "      <td>[1.0665728]</td>\n",
       "      <td>[0.47571469999999993]</td>\n",
       "      <td>[1.0695093]</td>\n",
       "      <td>[146029.5250360061]</td>\n",
       "      <td>[614.4000244140625]</td>\n",
       "      <td>[-1.640443517452452]</td>\n",
       "      <td>...</td>\n",
       "      <td>[-0.0001586293801665306]</td>\n",
       "      <td>[1.0708095]</td>\n",
       "      <td>el150800737329</td>\n",
       "      <td>2018-04-12_batch8\\20180412-5C_67per_4C_newstru...</td>\n",
       "      <td>9</td>\n",
       "      <td>10</td>\n",
       "      <td>91</td>\n",
       "      <td>100</td>\n",
       "      <td>40</td>\n",
       "      <td>10</td>\n",
       "    </tr>\n",
       "  </tbody>\n",
       "</table>\n",
       "<p>5 rows × 33 columns</p>\n",
       "</div>"
      ],
      "text/plain": [
       "          @module            @class  \\\n",
       "0  beep.featurize  DeltaQFastCharge   \n",
       "1  beep.featurize  DeltaQFastCharge   \n",
       "2  beep.featurize  DeltaQFastCharge   \n",
       "3  beep.featurize  DeltaQFastCharge   \n",
       "4  beep.featurize  DeltaQFastCharge   \n",
       "\n",
       "                                                name      @version  \\\n",
       "0  /mnt/c/Users/sjrt1/Documents/School/Winter2021...  2021.1.11.15   \n",
       "1  /mnt/c/Users/sjrt1/Documents/School/Winter2021...  2021.1.11.15   \n",
       "2  /mnt/c/Users/sjrt1/Documents/School/Winter2021...  2021.1.11.15   \n",
       "3  /mnt/c/Users/sjrt1/Documents/School/Winter2021...  2021.1.11.15   \n",
       "4  /mnt/c/Users/sjrt1/Documents/School/Winter2021...  2021.1.11.15   \n",
       "\n",
       "  X.discharge_capacity_cycle_2 X.max_discharge_capacity_difference  \\\n",
       "0                  [1.0454259]                [0.8891461000000003]   \n",
       "1         [1.0620247999999999]               [0.48970650000000004]   \n",
       "2                  [1.0678786]                [0.4961450999999999]   \n",
       "3                  [1.0512739]               [0.49011190000000004]   \n",
       "4                  [1.0665728]               [0.47571469999999993]   \n",
       "\n",
       "  X.discharge_capacity_cycle_100 X.integrated_time_temperature_cycles_1:100  \\\n",
       "0                    [1.0331815]                        [231072.4263671875]   \n",
       "1                    [1.0439155]                       [149767.85131961218]   \n",
       "2                     [1.054091]                        [205315.4877278646]   \n",
       "3           [1.0341983000000001]                        [159799.4890051929]   \n",
       "4                    [1.0695093]                        [146029.5250360061]   \n",
       "\n",
       "  X.charge_time_cycles_1:5  \\\n",
       "0      [614.4000244140625]   \n",
       "1      [563.2000122070312]   \n",
       "2      [614.4000244140625]   \n",
       "3      [563.2000122070312]   \n",
       "4      [614.4000244140625]   \n",
       "\n",
       "  X.abs_min_discharge_capacity_difference_cycles_2:100  ...  \\\n",
       "0                              [-1.1444158302992298]    ...   \n",
       "1                              [-1.2773591296554208]    ...   \n",
       "2                              [-1.3752393675218624]    ...   \n",
       "3                              [-1.2430890844325302]    ...   \n",
       "4                               [-1.640443517452452]    ...   \n",
       "\n",
       "  X.internal_resistance_difference_cycles_2:100 X.nominal_capacity_by_median  \\\n",
       "0                      [-0.0010415539145469666]                   [1.047977]   \n",
       "1                       [0.0003414759412407875]                 [1.06011365]   \n",
       "2                      [0.00024036318063735962]                 [1.06736225]   \n",
       "3                      [0.00042933784425258636]                 [1.05098615]   \n",
       "4                      [-0.0001586293801665306]                  [1.0708095]   \n",
       "\n",
       "  metadata.barcode                                  metadata.protocol  \\\n",
       "0   el150800440551        2017-06-30_tests\\20170630-4_4C_55per_6C.sdu   \n",
       "1   el150800737229  2018-04-12_batch8\\20180412-3_7C_31per_5_9C_new...   \n",
       "2   el150800737366  2018-04-12_batch8\\20180412-3_7C_31per_5_9C_new...   \n",
       "3   el150800737234  2018-04-12_batch8\\20180412-3_7C_31per_5_9C_new...   \n",
       "4   el150800737329  2018-04-12_batch8\\20180412-5C_67per_4C_newstru...   \n",
       "\n",
       "  metadata.channel_id metadata.parameters.init_pred_cycle  \\\n",
       "0                  18                                  10   \n",
       "1                  15                                  10   \n",
       "2                  29                                  10   \n",
       "3                  37                                  10   \n",
       "4                   9                                  10   \n",
       "\n",
       "  metadata.parameters.mid_pred_cycle metadata.parameters.final_pred_cycle  \\\n",
       "0                                 91                                  100   \n",
       "1                                 91                                  100   \n",
       "2                                 91                                  100   \n",
       "3                                 91                                  100   \n",
       "4                                 91                                  100   \n",
       "\n",
       "  metadata.parameters.n_nominal_cycles bat_num  \n",
       "0                                   40      19  \n",
       "1                                   40      16  \n",
       "2                                   40      30  \n",
       "3                                   40      38  \n",
       "4                                   40      10  \n",
       "\n",
       "[5 rows x 33 columns]"
      ]
     },
     "execution_count": 10,
     "metadata": {},
     "output_type": "execute_result"
    }
   ],
   "source": [
    "old_d_df = make_df(old_d_list, batch=True)\n",
    "old_d_df.head()"
   ]
  },
  {
   "cell_type": "code",
   "execution_count": 11,
   "id": "shaped-resolution",
   "metadata": {},
   "outputs": [],
   "source": [
    "batches = []\n",
    "for i in old_d_df['metadata.protocol']:\n",
    "    if '2017-05' in i:\n",
    "        batches.append('b1')\n",
    "    elif '2017-06' in i:\n",
    "        batches.append('b2')\n",
    "    elif '2018-04' in i:\n",
    "        batches.append('b3')"
   ]
  },
  {
   "cell_type": "code",
   "execution_count": 12,
   "id": "absent-chile",
   "metadata": {},
   "outputs": [
    {
     "data": {
      "text/plain": [
       "0      b2c19\n",
       "1      b3c16\n",
       "2      b3c30\n",
       "3      b3c38\n",
       "4      b3c10\n",
       "       ...  \n",
       "134    b2c25\n",
       "135    b2c46\n",
       "136    b2c40\n",
       "137    b2c34\n",
       "138    b2c35\n",
       "Name: bat_name, Length: 139, dtype: object"
      ]
     },
     "execution_count": 12,
     "metadata": {},
     "output_type": "execute_result"
    }
   ],
   "source": [
    "old_d_df['batches'] = batches\n",
    "old_d_df['bat_name'] = old_d_df['batches'] + 'c' + old_d_df['bat_num']\n",
    "old_d_df['bat_name']"
   ]
  },
  {
   "cell_type": "code",
   "execution_count": 13,
   "id": "laden-belfast",
   "metadata": {},
   "outputs": [
    {
     "data": {
      "text/html": [
       "<div>\n",
       "<style scoped>\n",
       "    .dataframe tbody tr th:only-of-type {\n",
       "        vertical-align: middle;\n",
       "    }\n",
       "\n",
       "    .dataframe tbody tr th {\n",
       "        vertical-align: top;\n",
       "    }\n",
       "\n",
       "    .dataframe thead th {\n",
       "        text-align: right;\n",
       "    }\n",
       "</style>\n",
       "<table border=\"1\" class=\"dataframe\">\n",
       "  <thead>\n",
       "    <tr style=\"text-align: right;\">\n",
       "      <th></th>\n",
       "      <th>@module</th>\n",
       "      <th>@class</th>\n",
       "      <th>name</th>\n",
       "      <th>@version</th>\n",
       "      <th>X.capacity_0.98</th>\n",
       "      <th>X.capacity_0.95</th>\n",
       "      <th>X.capacity_0.92</th>\n",
       "      <th>X.capacity_0.89</th>\n",
       "      <th>X.capacity_0.86</th>\n",
       "      <th>X.capacity_0.83</th>\n",
       "      <th>X.capacity_0.8</th>\n",
       "      <th>metadata.barcode</th>\n",
       "      <th>metadata.protocol</th>\n",
       "      <th>metadata.channel_id</th>\n",
       "      <th>metadata.parameters.thresh_max_cap</th>\n",
       "      <th>metadata.parameters.thresh_min_cap</th>\n",
       "      <th>metadata.parameters.interval_cap</th>\n",
       "    </tr>\n",
       "  </thead>\n",
       "  <tbody>\n",
       "    <tr>\n",
       "      <th>0</th>\n",
       "      <td>beep.featurize</td>\n",
       "      <td>TrajectoryFastCharge</td>\n",
       "      <td>/mnt/c/Users/sjrt1/Documents/School/Winter2021...</td>\n",
       "      <td>2021.1.11.15</td>\n",
       "      <td>[127]</td>\n",
       "      <td>[269]</td>\n",
       "      <td>[376]</td>\n",
       "      <td>[423]</td>\n",
       "      <td>[449]</td>\n",
       "      <td>[467]</td>\n",
       "      <td>[483]</td>\n",
       "      <td>el150800440551</td>\n",
       "      <td>2017-06-30_tests\\20170630-4_4C_55per_6C.sdu</td>\n",
       "      <td>18</td>\n",
       "      <td>0.98</td>\n",
       "      <td>0.78</td>\n",
       "      <td>0.03</td>\n",
       "    </tr>\n",
       "    <tr>\n",
       "      <th>1</th>\n",
       "      <td>beep.featurize</td>\n",
       "      <td>TrajectoryFastCharge</td>\n",
       "      <td>/mnt/c/Users/sjrt1/Documents/School/Winter2021...</td>\n",
       "      <td>2021.1.11.15</td>\n",
       "      <td>[125]</td>\n",
       "      <td>[276]</td>\n",
       "      <td>[426]</td>\n",
       "      <td>[528]</td>\n",
       "      <td>[613]</td>\n",
       "      <td>[668]</td>\n",
       "      <td>[668]</td>\n",
       "      <td>el150800737229</td>\n",
       "      <td>2018-04-12_batch8\\20180412-3_7C_31per_5_9C_new...</td>\n",
       "      <td>15</td>\n",
       "      <td>0.98</td>\n",
       "      <td>0.78</td>\n",
       "      <td>0.03</td>\n",
       "    </tr>\n",
       "    <tr>\n",
       "      <th>2</th>\n",
       "      <td>beep.featurize</td>\n",
       "      <td>TrajectoryFastCharge</td>\n",
       "      <td>/mnt/c/Users/sjrt1/Documents/School/Winter2021...</td>\n",
       "      <td>2021.1.11.15</td>\n",
       "      <td>[774]</td>\n",
       "      <td>[774]</td>\n",
       "      <td>[774]</td>\n",
       "      <td>[774]</td>\n",
       "      <td>[774]</td>\n",
       "      <td>[774]</td>\n",
       "      <td>[774]</td>\n",
       "      <td>el150800737366</td>\n",
       "      <td>2018-04-12_batch8\\20180412-3_7C_31per_5_9C_new...</td>\n",
       "      <td>29</td>\n",
       "      <td>0.98</td>\n",
       "      <td>0.78</td>\n",
       "      <td>0.03</td>\n",
       "    </tr>\n",
       "    <tr>\n",
       "      <th>3</th>\n",
       "      <td>beep.featurize</td>\n",
       "      <td>TrajectoryFastCharge</td>\n",
       "      <td>/mnt/c/Users/sjrt1/Documents/School/Winter2021...</td>\n",
       "      <td>2021.1.11.15</td>\n",
       "      <td>[543]</td>\n",
       "      <td>[543]</td>\n",
       "      <td>[543]</td>\n",
       "      <td>[543]</td>\n",
       "      <td>[543]</td>\n",
       "      <td>[543]</td>\n",
       "      <td>[543]</td>\n",
       "      <td>el150800737234</td>\n",
       "      <td>2018-04-12_batch8\\20180412-3_7C_31per_5_9C_new...</td>\n",
       "      <td>37</td>\n",
       "      <td>0.98</td>\n",
       "      <td>0.78</td>\n",
       "      <td>0.03</td>\n",
       "    </tr>\n",
       "    <tr>\n",
       "      <th>4</th>\n",
       "      <td>beep.featurize</td>\n",
       "      <td>TrajectoryFastCharge</td>\n",
       "      <td>/mnt/c/Users/sjrt1/Documents/School/Winter2021...</td>\n",
       "      <td>2021.1.11.15</td>\n",
       "      <td>[1011]</td>\n",
       "      <td>[1011]</td>\n",
       "      <td>[1011]</td>\n",
       "      <td>[1011]</td>\n",
       "      <td>[1011]</td>\n",
       "      <td>[1011]</td>\n",
       "      <td>[1011]</td>\n",
       "      <td>el150800737329</td>\n",
       "      <td>2018-04-12_batch8\\20180412-5C_67per_4C_newstru...</td>\n",
       "      <td>9</td>\n",
       "      <td>0.98</td>\n",
       "      <td>0.78</td>\n",
       "      <td>0.03</td>\n",
       "    </tr>\n",
       "  </tbody>\n",
       "</table>\n",
       "</div>"
      ],
      "text/plain": [
       "          @module                @class  \\\n",
       "0  beep.featurize  TrajectoryFastCharge   \n",
       "1  beep.featurize  TrajectoryFastCharge   \n",
       "2  beep.featurize  TrajectoryFastCharge   \n",
       "3  beep.featurize  TrajectoryFastCharge   \n",
       "4  beep.featurize  TrajectoryFastCharge   \n",
       "\n",
       "                                                name      @version  \\\n",
       "0  /mnt/c/Users/sjrt1/Documents/School/Winter2021...  2021.1.11.15   \n",
       "1  /mnt/c/Users/sjrt1/Documents/School/Winter2021...  2021.1.11.15   \n",
       "2  /mnt/c/Users/sjrt1/Documents/School/Winter2021...  2021.1.11.15   \n",
       "3  /mnt/c/Users/sjrt1/Documents/School/Winter2021...  2021.1.11.15   \n",
       "4  /mnt/c/Users/sjrt1/Documents/School/Winter2021...  2021.1.11.15   \n",
       "\n",
       "  X.capacity_0.98 X.capacity_0.95 X.capacity_0.92 X.capacity_0.89  \\\n",
       "0           [127]           [269]           [376]           [423]   \n",
       "1           [125]           [276]           [426]           [528]   \n",
       "2           [774]           [774]           [774]           [774]   \n",
       "3           [543]           [543]           [543]           [543]   \n",
       "4          [1011]          [1011]          [1011]          [1011]   \n",
       "\n",
       "  X.capacity_0.86 X.capacity_0.83 X.capacity_0.8 metadata.barcode  \\\n",
       "0           [449]           [467]          [483]   el150800440551   \n",
       "1           [613]           [668]          [668]   el150800737229   \n",
       "2           [774]           [774]          [774]   el150800737366   \n",
       "3           [543]           [543]          [543]   el150800737234   \n",
       "4          [1011]          [1011]         [1011]   el150800737329   \n",
       "\n",
       "                                   metadata.protocol  metadata.channel_id  \\\n",
       "0        2017-06-30_tests\\20170630-4_4C_55per_6C.sdu                   18   \n",
       "1  2018-04-12_batch8\\20180412-3_7C_31per_5_9C_new...                   15   \n",
       "2  2018-04-12_batch8\\20180412-3_7C_31per_5_9C_new...                   29   \n",
       "3  2018-04-12_batch8\\20180412-3_7C_31per_5_9C_new...                   37   \n",
       "4  2018-04-12_batch8\\20180412-5C_67per_4C_newstru...                    9   \n",
       "\n",
       "   metadata.parameters.thresh_max_cap  metadata.parameters.thresh_min_cap  \\\n",
       "0                                0.98                                0.78   \n",
       "1                                0.98                                0.78   \n",
       "2                                0.98                                0.78   \n",
       "3                                0.98                                0.78   \n",
       "4                                0.98                                0.78   \n",
       "\n",
       "   metadata.parameters.interval_cap  \n",
       "0                              0.03  \n",
       "1                              0.03  \n",
       "2                              0.03  \n",
       "3                              0.03  \n",
       "4                              0.03  "
      ]
     },
     "execution_count": 13,
     "metadata": {},
     "output_type": "execute_result"
    }
   ],
   "source": [
    "old_t_df = make_df(old_t_list)\n",
    "old_t_df.head()"
   ]
  },
  {
   "cell_type": "code",
   "execution_count": 14,
   "id": "indonesian-season",
   "metadata": {},
   "outputs": [
    {
     "data": {
      "text/html": [
       "<div>\n",
       "<style scoped>\n",
       "    .dataframe tbody tr th:only-of-type {\n",
       "        vertical-align: middle;\n",
       "    }\n",
       "\n",
       "    .dataframe tbody tr th {\n",
       "        vertical-align: top;\n",
       "    }\n",
       "\n",
       "    .dataframe thead th {\n",
       "        text-align: right;\n",
       "    }\n",
       "</style>\n",
       "<table border=\"1\" class=\"dataframe\">\n",
       "  <thead>\n",
       "    <tr style=\"text-align: right;\">\n",
       "      <th></th>\n",
       "      <th>index</th>\n",
       "      <th>@module_x</th>\n",
       "      <th>@class_x</th>\n",
       "      <th>name_x</th>\n",
       "      <th>@version_x</th>\n",
       "      <th>X.discharge_capacity_cycle_2</th>\n",
       "      <th>X.max_discharge_capacity_difference</th>\n",
       "      <th>X.discharge_capacity_cycle_100</th>\n",
       "      <th>X.integrated_time_temperature_cycles_1:100</th>\n",
       "      <th>X.charge_time_cycles_1:5</th>\n",
       "      <th>...</th>\n",
       "      <th>X.capacity_0.89</th>\n",
       "      <th>X.capacity_0.86</th>\n",
       "      <th>X.capacity_0.83</th>\n",
       "      <th>X.capacity_0.8</th>\n",
       "      <th>metadata.barcode_y</th>\n",
       "      <th>metadata.protocol_y</th>\n",
       "      <th>metadata.channel_id_y</th>\n",
       "      <th>metadata.parameters.thresh_max_cap</th>\n",
       "      <th>metadata.parameters.thresh_min_cap</th>\n",
       "      <th>metadata.parameters.interval_cap</th>\n",
       "    </tr>\n",
       "  </thead>\n",
       "  <tbody>\n",
       "    <tr>\n",
       "      <th>98</th>\n",
       "      <td>98</td>\n",
       "      <td>beep.featurize</td>\n",
       "      <td>DeltaQFastCharge</td>\n",
       "      <td>/mnt/c/Users/sjrt1/Documents/School/Winter2021...</td>\n",
       "      <td>2021.1.11.15</td>\n",
       "      <td>1.069159</td>\n",
       "      <td>0.609605</td>\n",
       "      <td>1.075878</td>\n",
       "      <td>194523.331238</td>\n",
       "      <td>768.000000</td>\n",
       "      <td>...</td>\n",
       "      <td>1191</td>\n",
       "      <td>1191</td>\n",
       "      <td>1191</td>\n",
       "      <td>1191</td>\n",
       "      <td>EL150800460514</td>\n",
       "      <td>2017-05-12_TESTS\\20170512-3_6C-80PER_3_6C.SDU</td>\n",
       "      <td>0</td>\n",
       "      <td>0.98</td>\n",
       "      <td>0.78</td>\n",
       "      <td>0.03</td>\n",
       "    </tr>\n",
       "    <tr>\n",
       "      <th>13</th>\n",
       "      <td>13</td>\n",
       "      <td>beep.featurize</td>\n",
       "      <td>DeltaQFastCharge</td>\n",
       "      <td>/mnt/c/Users/sjrt1/Documents/School/Winter2021...</td>\n",
       "      <td>2021.1.11.15</td>\n",
       "      <td>1.021925</td>\n",
       "      <td>0.234529</td>\n",
       "      <td>1.010972</td>\n",
       "      <td>163310.066862</td>\n",
       "      <td>819.200012</td>\n",
       "      <td>...</td>\n",
       "      <td>528</td>\n",
       "      <td>663</td>\n",
       "      <td>665</td>\n",
       "      <td>665</td>\n",
       "      <td>EL150800460514</td>\n",
       "      <td>2017-05-12_TESTS\\20170512-3_6C-80PER_3_6C.SDU</td>\n",
       "      <td>0</td>\n",
       "      <td>0.98</td>\n",
       "      <td>0.78</td>\n",
       "      <td>0.03</td>\n",
       "    </tr>\n",
       "    <tr>\n",
       "      <th>78</th>\n",
       "      <td>78</td>\n",
       "      <td>beep.featurize</td>\n",
       "      <td>DeltaQFastCharge</td>\n",
       "      <td>/mnt/c/Users/sjrt1/Documents/School/Winter2021...</td>\n",
       "      <td>2021.1.11.15</td>\n",
       "      <td>1.072973</td>\n",
       "      <td>0.607773</td>\n",
       "      <td>1.079325</td>\n",
       "      <td>182982.491752</td>\n",
       "      <td>563.200012</td>\n",
       "      <td>...</td>\n",
       "      <td>583</td>\n",
       "      <td>605</td>\n",
       "      <td>625</td>\n",
       "      <td>638</td>\n",
       "      <td>EL150800463886</td>\n",
       "      <td>2017-05-12_TESTS\\20170512-4_8C-80PER_4_8C.SDU</td>\n",
       "      <td>9</td>\n",
       "      <td>0.98</td>\n",
       "      <td>0.78</td>\n",
       "      <td>0.03</td>\n",
       "    </tr>\n",
       "    <tr>\n",
       "      <th>96</th>\n",
       "      <td>96</td>\n",
       "      <td>beep.featurize</td>\n",
       "      <td>DeltaQFastCharge</td>\n",
       "      <td>/mnt/c/Users/sjrt1/Documents/School/Winter2021...</td>\n",
       "      <td>2021.1.11.15</td>\n",
       "      <td>1.070200</td>\n",
       "      <td>0.609325</td>\n",
       "      <td>1.061485</td>\n",
       "      <td>178767.125004</td>\n",
       "      <td>537.599976</td>\n",
       "      <td>...</td>\n",
       "      <td>441</td>\n",
       "      <td>492</td>\n",
       "      <td>525</td>\n",
       "      <td>536</td>\n",
       "      <td>EL150800464002</td>\n",
       "      <td>2017-05-12_TESTS\\20170512-5_4C-80PER_5_4C.SDU</td>\n",
       "      <td>10</td>\n",
       "      <td>0.98</td>\n",
       "      <td>0.78</td>\n",
       "      <td>0.03</td>\n",
       "    </tr>\n",
       "    <tr>\n",
       "      <th>97</th>\n",
       "      <td>97</td>\n",
       "      <td>beep.featurize</td>\n",
       "      <td>DeltaQFastCharge</td>\n",
       "      <td>/mnt/c/Users/sjrt1/Documents/School/Winter2021...</td>\n",
       "      <td>2021.1.11.15</td>\n",
       "      <td>1.080072</td>\n",
       "      <td>0.606653</td>\n",
       "      <td>1.076906</td>\n",
       "      <td>184036.176107</td>\n",
       "      <td>512.000000</td>\n",
       "      <td>...</td>\n",
       "      <td>492</td>\n",
       "      <td>526</td>\n",
       "      <td>549</td>\n",
       "      <td>561</td>\n",
       "      <td>EL150800463871</td>\n",
       "      <td>2017-05-12_TESTS\\20170512-5_4C-80PER_5_4C.SDU</td>\n",
       "      <td>11</td>\n",
       "      <td>0.98</td>\n",
       "      <td>0.78</td>\n",
       "      <td>0.03</td>\n",
       "    </tr>\n",
       "  </tbody>\n",
       "</table>\n",
       "<p>5 rows × 53 columns</p>\n",
       "</div>"
      ],
      "text/plain": [
       "    index       @module_x          @class_x  \\\n",
       "98     98  beep.featurize  DeltaQFastCharge   \n",
       "13     13  beep.featurize  DeltaQFastCharge   \n",
       "78     78  beep.featurize  DeltaQFastCharge   \n",
       "96     96  beep.featurize  DeltaQFastCharge   \n",
       "97     97  beep.featurize  DeltaQFastCharge   \n",
       "\n",
       "                                               name_x    @version_x  \\\n",
       "98  /mnt/c/Users/sjrt1/Documents/School/Winter2021...  2021.1.11.15   \n",
       "13  /mnt/c/Users/sjrt1/Documents/School/Winter2021...  2021.1.11.15   \n",
       "78  /mnt/c/Users/sjrt1/Documents/School/Winter2021...  2021.1.11.15   \n",
       "96  /mnt/c/Users/sjrt1/Documents/School/Winter2021...  2021.1.11.15   \n",
       "97  /mnt/c/Users/sjrt1/Documents/School/Winter2021...  2021.1.11.15   \n",
       "\n",
       "    X.discharge_capacity_cycle_2  X.max_discharge_capacity_difference  \\\n",
       "98                      1.069159                             0.609605   \n",
       "13                      1.021925                             0.234529   \n",
       "78                      1.072973                             0.607773   \n",
       "96                      1.070200                             0.609325   \n",
       "97                      1.080072                             0.606653   \n",
       "\n",
       "    X.discharge_capacity_cycle_100  \\\n",
       "98                        1.075878   \n",
       "13                        1.010972   \n",
       "78                        1.079325   \n",
       "96                        1.061485   \n",
       "97                        1.076906   \n",
       "\n",
       "    X.integrated_time_temperature_cycles_1:100  X.charge_time_cycles_1:5  ...  \\\n",
       "98                               194523.331238                768.000000  ...   \n",
       "13                               163310.066862                819.200012  ...   \n",
       "78                               182982.491752                563.200012  ...   \n",
       "96                               178767.125004                537.599976  ...   \n",
       "97                               184036.176107                512.000000  ...   \n",
       "\n",
       "    X.capacity_0.89  X.capacity_0.86  X.capacity_0.83  X.capacity_0.8  \\\n",
       "98             1191             1191             1191            1191   \n",
       "13              528              663              665             665   \n",
       "78              583              605              625             638   \n",
       "96              441              492              525             536   \n",
       "97              492              526              549             561   \n",
       "\n",
       "    metadata.barcode_y                            metadata.protocol_y  \\\n",
       "98      EL150800460514  2017-05-12_TESTS\\20170512-3_6C-80PER_3_6C.SDU   \n",
       "13      EL150800460514  2017-05-12_TESTS\\20170512-3_6C-80PER_3_6C.SDU   \n",
       "78      EL150800463886  2017-05-12_TESTS\\20170512-4_8C-80PER_4_8C.SDU   \n",
       "96      EL150800464002  2017-05-12_TESTS\\20170512-5_4C-80PER_5_4C.SDU   \n",
       "97      EL150800463871  2017-05-12_TESTS\\20170512-5_4C-80PER_5_4C.SDU   \n",
       "\n",
       "    metadata.channel_id_y  metadata.parameters.thresh_max_cap  \\\n",
       "98                      0                                0.98   \n",
       "13                      0                                0.98   \n",
       "78                      9                                0.98   \n",
       "96                     10                                0.98   \n",
       "97                     11                                0.98   \n",
       "\n",
       "    metadata.parameters.thresh_min_cap  metadata.parameters.interval_cap  \n",
       "98                                0.78                              0.03  \n",
       "13                                0.78                              0.03  \n",
       "78                                0.78                              0.03  \n",
       "96                                0.78                              0.03  \n",
       "97                                0.78                              0.03  \n",
       "\n",
       "[5 rows x 53 columns]"
      ]
     },
     "execution_count": 14,
     "metadata": {},
     "output_type": "execute_result"
    }
   ],
   "source": [
    "old_df_full = merge_df(old_d_df, old_t_df)\n",
    "old_df_full.sort_values(by=['bat_name'],inplace=True)\n",
    "old_df_full.head()"
   ]
  },
  {
   "cell_type": "code",
   "execution_count": 15,
   "id": "daily-hayes",
   "metadata": {},
   "outputs": [
    {
     "data": {
      "text/plain": [
       "Index(['index', '@module_x', '@class_x', 'name_x', '@version_x',\n",
       "       'X.discharge_capacity_cycle_2', 'X.max_discharge_capacity_difference',\n",
       "       'X.discharge_capacity_cycle_100',\n",
       "       'X.integrated_time_temperature_cycles_1:100',\n",
       "       'X.charge_time_cycles_1:5',\n",
       "       'X.abs_min_discharge_capacity_difference_cycles_2:100',\n",
       "       'X.abs_mean_discharge_capacity_difference_cycles_2:100',\n",
       "       'X.abs_variance_discharge_capacity_difference_cycles_2:100',\n",
       "       'X.abs_skew_discharge_capacity_difference_cycles_2:100',\n",
       "       'X.abs_kurtosis_discharge_capacity_difference_cycles_2:100',\n",
       "       'X.abs_first_discharge_capacity_difference_cycles_2:100',\n",
       "       'X.max_temperature_cycles_1:100', 'X.min_temperature_cycles_1:100',\n",
       "       'X.slope_discharge_capacity_cycle_number_2:100',\n",
       "       'X.intercept_discharge_capacity_cycle_number_2:100',\n",
       "       'X.slope_discharge_capacity_cycle_number_91:100',\n",
       "       'X.intercept_discharge_capacity_cycle_number_91:100',\n",
       "       'X.min_internal_resistance_cycles_2:100',\n",
       "       'X.internal_resistance_cycle_2',\n",
       "       'X.internal_resistance_difference_cycles_2:100',\n",
       "       'X.nominal_capacity_by_median', 'metadata.barcode_x',\n",
       "       'metadata.protocol_x', 'metadata.channel_id_x',\n",
       "       'metadata.parameters.init_pred_cycle',\n",
       "       'metadata.parameters.mid_pred_cycle',\n",
       "       'metadata.parameters.final_pred_cycle',\n",
       "       'metadata.parameters.n_nominal_cycles', 'bat_num', 'batches',\n",
       "       'bat_name', '@module_y', '@class_y', 'name_y', '@version_y',\n",
       "       'X.capacity_0.98', 'X.capacity_0.95', 'X.capacity_0.92',\n",
       "       'X.capacity_0.89', 'X.capacity_0.86', 'X.capacity_0.83',\n",
       "       'X.capacity_0.8', 'metadata.barcode_y', 'metadata.protocol_y',\n",
       "       'metadata.channel_id_y', 'metadata.parameters.thresh_max_cap',\n",
       "       'metadata.parameters.thresh_min_cap',\n",
       "       'metadata.parameters.interval_cap'],\n",
       "      dtype='object')"
      ]
     },
     "execution_count": 15,
     "metadata": {},
     "output_type": "execute_result"
    }
   ],
   "source": [
    "old_df_full.keys()"
   ]
  },
  {
   "cell_type": "code",
   "execution_count": 16,
   "id": "perfect-sherman",
   "metadata": {},
   "outputs": [
    {
     "name": "stdout",
     "output_type": "stream",
     "text": [
      "161\n",
      "2239\n"
     ]
    }
   ],
   "source": [
    "print(min(old_df_full['X.capacity_0.8']))\n",
    "print(max(old_df_full['X.capacity_0.8']))"
   ]
  },
  {
   "cell_type": "markdown",
   "id": "boxed-fancy",
   "metadata": {},
   "source": [
    "__New data__:"
   ]
  },
  {
   "cell_type": "code",
   "execution_count": 17,
   "id": "interesting-creator",
   "metadata": {},
   "outputs": [
    {
     "data": {
      "text/html": [
       "<div>\n",
       "<style scoped>\n",
       "    .dataframe tbody tr th:only-of-type {\n",
       "        vertical-align: middle;\n",
       "    }\n",
       "\n",
       "    .dataframe tbody tr th {\n",
       "        vertical-align: top;\n",
       "    }\n",
       "\n",
       "    .dataframe thead th {\n",
       "        text-align: right;\n",
       "    }\n",
       "</style>\n",
       "<table border=\"1\" class=\"dataframe\">\n",
       "  <thead>\n",
       "    <tr style=\"text-align: right;\">\n",
       "      <th></th>\n",
       "      <th>@module</th>\n",
       "      <th>@class</th>\n",
       "      <th>name</th>\n",
       "      <th>@version</th>\n",
       "      <th>X.discharge_capacity_cycle_2</th>\n",
       "      <th>X.max_discharge_capacity_difference</th>\n",
       "      <th>X.discharge_capacity_cycle_100</th>\n",
       "      <th>X.integrated_time_temperature_cycles_1:100</th>\n",
       "      <th>X.charge_time_cycles_1:5</th>\n",
       "      <th>X.abs_min_discharge_capacity_difference_cycles_2:100</th>\n",
       "      <th>...</th>\n",
       "      <th>X.internal_resistance_difference_cycles_2:100</th>\n",
       "      <th>X.nominal_capacity_by_median</th>\n",
       "      <th>metadata.barcode</th>\n",
       "      <th>metadata.protocol</th>\n",
       "      <th>metadata.channel_id</th>\n",
       "      <th>metadata.parameters.init_pred_cycle</th>\n",
       "      <th>metadata.parameters.mid_pred_cycle</th>\n",
       "      <th>metadata.parameters.final_pred_cycle</th>\n",
       "      <th>metadata.parameters.n_nominal_cycles</th>\n",
       "      <th>bat_num</th>\n",
       "    </tr>\n",
       "  </thead>\n",
       "  <tbody>\n",
       "    <tr>\n",
       "      <th>0</th>\n",
       "      <td>beep.featurize</td>\n",
       "      <td>DeltaQFastCharge</td>\n",
       "      <td>C:\\Users\\mattm\\Documents\\CalPoly\\DATA 451\\Toyo...</td>\n",
       "      <td>2021.1.11.15</td>\n",
       "      <td>[1.03]</td>\n",
       "      <td>[1.035]</td>\n",
       "      <td>[1.032]</td>\n",
       "      <td>[306697.58829142264]</td>\n",
       "      <td>[5760.0]</td>\n",
       "      <td>[-0.44680629485828904]</td>\n",
       "      <td>...</td>\n",
       "      <td>[nan]</td>\n",
       "      <td>[1.033]</td>\n",
       "      <td>None</td>\n",
       "      <td>None</td>\n",
       "      <td>None</td>\n",
       "      <td>10</td>\n",
       "      <td>91</td>\n",
       "      <td>100</td>\n",
       "      <td>40</td>\n",
       "      <td>00</td>\n",
       "    </tr>\n",
       "    <tr>\n",
       "      <th>1</th>\n",
       "      <td>beep.featurize</td>\n",
       "      <td>DeltaQFastCharge</td>\n",
       "      <td>C:\\Users\\mattm\\Documents\\CalPoly\\DATA 451\\Toyo...</td>\n",
       "      <td>2021.1.11.15</td>\n",
       "      <td>[1.04]</td>\n",
       "      <td>[1.0430000000000001]</td>\n",
       "      <td>[1.042]</td>\n",
       "      <td>[296427.4028991698]</td>\n",
       "      <td>[5785.60009765625]</td>\n",
       "      <td>[-0.20877572651236104]</td>\n",
       "      <td>...</td>\n",
       "      <td>[nan]</td>\n",
       "      <td>[1.044]</td>\n",
       "      <td>None</td>\n",
       "      <td>None</td>\n",
       "      <td>None</td>\n",
       "      <td>10</td>\n",
       "      <td>91</td>\n",
       "      <td>100</td>\n",
       "      <td>40</td>\n",
       "      <td>01</td>\n",
       "    </tr>\n",
       "    <tr>\n",
       "      <th>2</th>\n",
       "      <td>beep.featurize</td>\n",
       "      <td>DeltaQFastCharge</td>\n",
       "      <td>C:\\Users\\mattm\\Documents\\CalPoly\\DATA 451\\Toyo...</td>\n",
       "      <td>2021.1.11.15</td>\n",
       "      <td>[1.03]</td>\n",
       "      <td>[1.0290000000000001]</td>\n",
       "      <td>[1.03]</td>\n",
       "      <td>[262556.75055948895]</td>\n",
       "      <td>[5811.2001953125]</td>\n",
       "      <td>[-0.19563143967312835]</td>\n",
       "      <td>...</td>\n",
       "      <td>[nan]</td>\n",
       "      <td>[1.031]</td>\n",
       "      <td>None</td>\n",
       "      <td>None</td>\n",
       "      <td>None</td>\n",
       "      <td>10</td>\n",
       "      <td>91</td>\n",
       "      <td>100</td>\n",
       "      <td>40</td>\n",
       "      <td>02</td>\n",
       "    </tr>\n",
       "    <tr>\n",
       "      <th>3</th>\n",
       "      <td>beep.featurize</td>\n",
       "      <td>DeltaQFastCharge</td>\n",
       "      <td>C:\\Users\\mattm\\Documents\\CalPoly\\DATA 451\\Toyo...</td>\n",
       "      <td>2021.1.11.15</td>\n",
       "      <td>[1.029]</td>\n",
       "      <td>[1.0260000000000002]</td>\n",
       "      <td>[1.025]</td>\n",
       "      <td>[268508.7274637858]</td>\n",
       "      <td>[5785.60009765625]</td>\n",
       "      <td>[-0.6317302807027921]</td>\n",
       "      <td>...</td>\n",
       "      <td>[nan]</td>\n",
       "      <td>[1.028]</td>\n",
       "      <td>None</td>\n",
       "      <td>None</td>\n",
       "      <td>None</td>\n",
       "      <td>10</td>\n",
       "      <td>91</td>\n",
       "      <td>100</td>\n",
       "      <td>40</td>\n",
       "      <td>03</td>\n",
       "    </tr>\n",
       "    <tr>\n",
       "      <th>4</th>\n",
       "      <td>beep.featurize</td>\n",
       "      <td>DeltaQFastCharge</td>\n",
       "      <td>C:\\Users\\mattm\\Documents\\CalPoly\\DATA 451\\Toyo...</td>\n",
       "      <td>2021.1.11.15</td>\n",
       "      <td>[1.067]</td>\n",
       "      <td>[1.074]</td>\n",
       "      <td>[1.0590000000000002]</td>\n",
       "      <td>[614925.4964558918]</td>\n",
       "      <td>[5785.60009765625]</td>\n",
       "      <td>[-0.1893985483034041]</td>\n",
       "      <td>...</td>\n",
       "      <td>[nan]</td>\n",
       "      <td>[1.067]</td>\n",
       "      <td>None</td>\n",
       "      <td>None</td>\n",
       "      <td>None</td>\n",
       "      <td>10</td>\n",
       "      <td>91</td>\n",
       "      <td>100</td>\n",
       "      <td>40</td>\n",
       "      <td>04</td>\n",
       "    </tr>\n",
       "  </tbody>\n",
       "</table>\n",
       "<p>5 rows × 33 columns</p>\n",
       "</div>"
      ],
      "text/plain": [
       "          @module            @class  \\\n",
       "0  beep.featurize  DeltaQFastCharge   \n",
       "1  beep.featurize  DeltaQFastCharge   \n",
       "2  beep.featurize  DeltaQFastCharge   \n",
       "3  beep.featurize  DeltaQFastCharge   \n",
       "4  beep.featurize  DeltaQFastCharge   \n",
       "\n",
       "                                                name      @version  \\\n",
       "0  C:\\Users\\mattm\\Documents\\CalPoly\\DATA 451\\Toyo...  2021.1.11.15   \n",
       "1  C:\\Users\\mattm\\Documents\\CalPoly\\DATA 451\\Toyo...  2021.1.11.15   \n",
       "2  C:\\Users\\mattm\\Documents\\CalPoly\\DATA 451\\Toyo...  2021.1.11.15   \n",
       "3  C:\\Users\\mattm\\Documents\\CalPoly\\DATA 451\\Toyo...  2021.1.11.15   \n",
       "4  C:\\Users\\mattm\\Documents\\CalPoly\\DATA 451\\Toyo...  2021.1.11.15   \n",
       "\n",
       "  X.discharge_capacity_cycle_2 X.max_discharge_capacity_difference  \\\n",
       "0                       [1.03]                             [1.035]   \n",
       "1                       [1.04]                [1.0430000000000001]   \n",
       "2                       [1.03]                [1.0290000000000001]   \n",
       "3                      [1.029]                [1.0260000000000002]   \n",
       "4                      [1.067]                             [1.074]   \n",
       "\n",
       "  X.discharge_capacity_cycle_100 X.integrated_time_temperature_cycles_1:100  \\\n",
       "0                        [1.032]                       [306697.58829142264]   \n",
       "1                        [1.042]                        [296427.4028991698]   \n",
       "2                         [1.03]                       [262556.75055948895]   \n",
       "3                        [1.025]                        [268508.7274637858]   \n",
       "4           [1.0590000000000002]                        [614925.4964558918]   \n",
       "\n",
       "  X.charge_time_cycles_1:5  \\\n",
       "0                 [5760.0]   \n",
       "1       [5785.60009765625]   \n",
       "2        [5811.2001953125]   \n",
       "3       [5785.60009765625]   \n",
       "4       [5785.60009765625]   \n",
       "\n",
       "  X.abs_min_discharge_capacity_difference_cycles_2:100  ...  \\\n",
       "0                             [-0.44680629485828904]    ...   \n",
       "1                             [-0.20877572651236104]    ...   \n",
       "2                             [-0.19563143967312835]    ...   \n",
       "3                              [-0.6317302807027921]    ...   \n",
       "4                              [-0.1893985483034041]    ...   \n",
       "\n",
       "  X.internal_resistance_difference_cycles_2:100 X.nominal_capacity_by_median  \\\n",
       "0                                         [nan]                      [1.033]   \n",
       "1                                         [nan]                      [1.044]   \n",
       "2                                         [nan]                      [1.031]   \n",
       "3                                         [nan]                      [1.028]   \n",
       "4                                         [nan]                      [1.067]   \n",
       "\n",
       "  metadata.barcode metadata.protocol metadata.channel_id  \\\n",
       "0             None              None                None   \n",
       "1             None              None                None   \n",
       "2             None              None                None   \n",
       "3             None              None                None   \n",
       "4             None              None                None   \n",
       "\n",
       "  metadata.parameters.init_pred_cycle metadata.parameters.mid_pred_cycle  \\\n",
       "0                                  10                                 91   \n",
       "1                                  10                                 91   \n",
       "2                                  10                                 91   \n",
       "3                                  10                                 91   \n",
       "4                                  10                                 91   \n",
       "\n",
       "  metadata.parameters.final_pred_cycle metadata.parameters.n_nominal_cycles  \\\n",
       "0                                  100                                   40   \n",
       "1                                  100                                   40   \n",
       "2                                  100                                   40   \n",
       "3                                  100                                   40   \n",
       "4                                  100                                   40   \n",
       "\n",
       "  bat_num  \n",
       "0      00  \n",
       "1      01  \n",
       "2      02  \n",
       "3      03  \n",
       "4      04  \n",
       "\n",
       "[5 rows x 33 columns]"
      ]
     },
     "execution_count": 17,
     "metadata": {},
     "output_type": "execute_result"
    }
   ],
   "source": [
    "new_d_df = make_df(new_d_list, batch=True)\n",
    "new_d_df.head()"
   ]
  },
  {
   "cell_type": "code",
   "execution_count": 18,
   "id": "proprietary-yield",
   "metadata": {},
   "outputs": [
    {
     "data": {
      "text/html": [
       "<div>\n",
       "<style scoped>\n",
       "    .dataframe tbody tr th:only-of-type {\n",
       "        vertical-align: middle;\n",
       "    }\n",
       "\n",
       "    .dataframe tbody tr th {\n",
       "        vertical-align: top;\n",
       "    }\n",
       "\n",
       "    .dataframe thead th {\n",
       "        text-align: right;\n",
       "    }\n",
       "</style>\n",
       "<table border=\"1\" class=\"dataframe\">\n",
       "  <thead>\n",
       "    <tr style=\"text-align: right;\">\n",
       "      <th></th>\n",
       "      <th>@module</th>\n",
       "      <th>@class</th>\n",
       "      <th>name</th>\n",
       "      <th>@version</th>\n",
       "      <th>X.capacity_0.98</th>\n",
       "      <th>X.capacity_0.95</th>\n",
       "      <th>X.capacity_0.92</th>\n",
       "      <th>X.capacity_0.89</th>\n",
       "      <th>X.capacity_0.86</th>\n",
       "      <th>X.capacity_0.83</th>\n",
       "      <th>X.capacity_0.8</th>\n",
       "      <th>metadata.barcode</th>\n",
       "      <th>metadata.protocol</th>\n",
       "      <th>metadata.channel_id</th>\n",
       "      <th>metadata.parameters.thresh_max_cap</th>\n",
       "      <th>metadata.parameters.thresh_min_cap</th>\n",
       "      <th>metadata.parameters.interval_cap</th>\n",
       "    </tr>\n",
       "  </thead>\n",
       "  <tbody>\n",
       "    <tr>\n",
       "      <th>0</th>\n",
       "      <td>beep.featurize</td>\n",
       "      <td>TrajectoryFastCharge</td>\n",
       "      <td>C:\\Users\\mattm\\Documents\\CalPoly\\DATA 451\\Toyo...</td>\n",
       "      <td>2021.1.11.15</td>\n",
       "      <td>[506.0]</td>\n",
       "      <td>[506.0]</td>\n",
       "      <td>[506.0]</td>\n",
       "      <td>[4550.0]</td>\n",
       "      <td>[4550.0]</td>\n",
       "      <td>[4550.0]</td>\n",
       "      <td>[4550.0]</td>\n",
       "      <td>None</td>\n",
       "      <td>None</td>\n",
       "      <td>None</td>\n",
       "      <td>0.98</td>\n",
       "      <td>0.78</td>\n",
       "      <td>0.03</td>\n",
       "    </tr>\n",
       "    <tr>\n",
       "      <th>1</th>\n",
       "      <td>beep.featurize</td>\n",
       "      <td>TrajectoryFastCharge</td>\n",
       "      <td>C:\\Users\\mattm\\Documents\\CalPoly\\DATA 451\\Toyo...</td>\n",
       "      <td>2021.1.11.15</td>\n",
       "      <td>[506.0]</td>\n",
       "      <td>[506.0]</td>\n",
       "      <td>[3552.0]</td>\n",
       "      <td>[3552.0]</td>\n",
       "      <td>[3552.0]</td>\n",
       "      <td>[3552.0]</td>\n",
       "      <td>[3552.0]</td>\n",
       "      <td>None</td>\n",
       "      <td>None</td>\n",
       "      <td>None</td>\n",
       "      <td>0.98</td>\n",
       "      <td>0.78</td>\n",
       "      <td>0.03</td>\n",
       "    </tr>\n",
       "    <tr>\n",
       "      <th>2</th>\n",
       "      <td>beep.featurize</td>\n",
       "      <td>TrajectoryFastCharge</td>\n",
       "      <td>C:\\Users\\mattm\\Documents\\CalPoly\\DATA 451\\Toyo...</td>\n",
       "      <td>2021.1.11.15</td>\n",
       "      <td>[506.0]</td>\n",
       "      <td>[506.0]</td>\n",
       "      <td>[506.0]</td>\n",
       "      <td>[3760.0]</td>\n",
       "      <td>[3760.0]</td>\n",
       "      <td>[3760.0]</td>\n",
       "      <td>[3760.0]</td>\n",
       "      <td>None</td>\n",
       "      <td>None</td>\n",
       "      <td>None</td>\n",
       "      <td>0.98</td>\n",
       "      <td>0.78</td>\n",
       "      <td>0.03</td>\n",
       "    </tr>\n",
       "    <tr>\n",
       "      <th>3</th>\n",
       "      <td>beep.featurize</td>\n",
       "      <td>TrajectoryFastCharge</td>\n",
       "      <td>C:\\Users\\mattm\\Documents\\CalPoly\\DATA 451\\Toyo...</td>\n",
       "      <td>2021.1.11.15</td>\n",
       "      <td>[506.0]</td>\n",
       "      <td>[506.0]</td>\n",
       "      <td>[506.0]</td>\n",
       "      <td>[3753.0]</td>\n",
       "      <td>[3753.0]</td>\n",
       "      <td>[3753.0]</td>\n",
       "      <td>[3753.0]</td>\n",
       "      <td>None</td>\n",
       "      <td>None</td>\n",
       "      <td>None</td>\n",
       "      <td>0.98</td>\n",
       "      <td>0.78</td>\n",
       "      <td>0.03</td>\n",
       "    </tr>\n",
       "    <tr>\n",
       "      <th>4</th>\n",
       "      <td>beep.featurize</td>\n",
       "      <td>TrajectoryFastCharge</td>\n",
       "      <td>C:\\Users\\mattm\\Documents\\CalPoly\\DATA 451\\Toyo...</td>\n",
       "      <td>2021.1.11.15</td>\n",
       "      <td>[207.0]</td>\n",
       "      <td>[207.0]</td>\n",
       "      <td>[207.0]</td>\n",
       "      <td>[3049.0]</td>\n",
       "      <td>[3049.0]</td>\n",
       "      <td>[3049.0]</td>\n",
       "      <td>[3049.0]</td>\n",
       "      <td>None</td>\n",
       "      <td>None</td>\n",
       "      <td>None</td>\n",
       "      <td>0.98</td>\n",
       "      <td>0.78</td>\n",
       "      <td>0.03</td>\n",
       "    </tr>\n",
       "  </tbody>\n",
       "</table>\n",
       "</div>"
      ],
      "text/plain": [
       "          @module                @class  \\\n",
       "0  beep.featurize  TrajectoryFastCharge   \n",
       "1  beep.featurize  TrajectoryFastCharge   \n",
       "2  beep.featurize  TrajectoryFastCharge   \n",
       "3  beep.featurize  TrajectoryFastCharge   \n",
       "4  beep.featurize  TrajectoryFastCharge   \n",
       "\n",
       "                                                name      @version  \\\n",
       "0  C:\\Users\\mattm\\Documents\\CalPoly\\DATA 451\\Toyo...  2021.1.11.15   \n",
       "1  C:\\Users\\mattm\\Documents\\CalPoly\\DATA 451\\Toyo...  2021.1.11.15   \n",
       "2  C:\\Users\\mattm\\Documents\\CalPoly\\DATA 451\\Toyo...  2021.1.11.15   \n",
       "3  C:\\Users\\mattm\\Documents\\CalPoly\\DATA 451\\Toyo...  2021.1.11.15   \n",
       "4  C:\\Users\\mattm\\Documents\\CalPoly\\DATA 451\\Toyo...  2021.1.11.15   \n",
       "\n",
       "  X.capacity_0.98 X.capacity_0.95 X.capacity_0.92 X.capacity_0.89  \\\n",
       "0         [506.0]         [506.0]         [506.0]        [4550.0]   \n",
       "1         [506.0]         [506.0]        [3552.0]        [3552.0]   \n",
       "2         [506.0]         [506.0]         [506.0]        [3760.0]   \n",
       "3         [506.0]         [506.0]         [506.0]        [3753.0]   \n",
       "4         [207.0]         [207.0]         [207.0]        [3049.0]   \n",
       "\n",
       "  X.capacity_0.86 X.capacity_0.83 X.capacity_0.8 metadata.barcode  \\\n",
       "0        [4550.0]        [4550.0]       [4550.0]             None   \n",
       "1        [3552.0]        [3552.0]       [3552.0]             None   \n",
       "2        [3760.0]        [3760.0]       [3760.0]             None   \n",
       "3        [3753.0]        [3753.0]       [3753.0]             None   \n",
       "4        [3049.0]        [3049.0]       [3049.0]             None   \n",
       "\n",
       "  metadata.protocol metadata.channel_id  metadata.parameters.thresh_max_cap  \\\n",
       "0              None                None                                0.98   \n",
       "1              None                None                                0.98   \n",
       "2              None                None                                0.98   \n",
       "3              None                None                                0.98   \n",
       "4              None                None                                0.98   \n",
       "\n",
       "   metadata.parameters.thresh_min_cap  metadata.parameters.interval_cap  \n",
       "0                                0.78                              0.03  \n",
       "1                                0.78                              0.03  \n",
       "2                                0.78                              0.03  \n",
       "3                                0.78                              0.03  \n",
       "4                                0.78                              0.03  "
      ]
     },
     "execution_count": 18,
     "metadata": {},
     "output_type": "execute_result"
    }
   ],
   "source": [
    "new_t_df = make_df(new_t_list)\n",
    "new_t_df.head()"
   ]
  },
  {
   "cell_type": "code",
   "execution_count": 19,
   "id": "based-enemy",
   "metadata": {},
   "outputs": [
    {
     "data": {
      "text/html": [
       "<div>\n",
       "<style scoped>\n",
       "    .dataframe tbody tr th:only-of-type {\n",
       "        vertical-align: middle;\n",
       "    }\n",
       "\n",
       "    .dataframe tbody tr th {\n",
       "        vertical-align: top;\n",
       "    }\n",
       "\n",
       "    .dataframe thead th {\n",
       "        text-align: right;\n",
       "    }\n",
       "</style>\n",
       "<table border=\"1\" class=\"dataframe\">\n",
       "  <thead>\n",
       "    <tr style=\"text-align: right;\">\n",
       "      <th></th>\n",
       "      <th>index</th>\n",
       "      <th>@module_x</th>\n",
       "      <th>@class_x</th>\n",
       "      <th>name_x</th>\n",
       "      <th>@version_x</th>\n",
       "      <th>X.discharge_capacity_cycle_2</th>\n",
       "      <th>X.max_discharge_capacity_difference</th>\n",
       "      <th>X.discharge_capacity_cycle_100</th>\n",
       "      <th>X.integrated_time_temperature_cycles_1:100</th>\n",
       "      <th>X.charge_time_cycles_1:5</th>\n",
       "      <th>...</th>\n",
       "      <th>X.capacity_0.89</th>\n",
       "      <th>X.capacity_0.86</th>\n",
       "      <th>X.capacity_0.83</th>\n",
       "      <th>X.capacity_0.8</th>\n",
       "      <th>metadata.barcode_y</th>\n",
       "      <th>metadata.protocol_y</th>\n",
       "      <th>metadata.channel_id_y</th>\n",
       "      <th>metadata.parameters.thresh_max_cap</th>\n",
       "      <th>metadata.parameters.thresh_min_cap</th>\n",
       "      <th>metadata.parameters.interval_cap</th>\n",
       "    </tr>\n",
       "  </thead>\n",
       "  <tbody>\n",
       "    <tr>\n",
       "      <th>0</th>\n",
       "      <td>0</td>\n",
       "      <td>beep.featurize</td>\n",
       "      <td>DeltaQFastCharge</td>\n",
       "      <td>C:\\Users\\mattm\\Documents\\CalPoly\\DATA 451\\Toyo...</td>\n",
       "      <td>2021.1.11.15</td>\n",
       "      <td>1.030</td>\n",
       "      <td>1.035</td>\n",
       "      <td>1.032</td>\n",
       "      <td>306697.588291</td>\n",
       "      <td>5760.000000</td>\n",
       "      <td>...</td>\n",
       "      <td>4550.0</td>\n",
       "      <td>4550.0</td>\n",
       "      <td>4550.0</td>\n",
       "      <td>4550.0</td>\n",
       "      <td>None</td>\n",
       "      <td>None</td>\n",
       "      <td>None</td>\n",
       "      <td>0.98</td>\n",
       "      <td>0.78</td>\n",
       "      <td>0.03</td>\n",
       "    </tr>\n",
       "    <tr>\n",
       "      <th>1</th>\n",
       "      <td>1</td>\n",
       "      <td>beep.featurize</td>\n",
       "      <td>DeltaQFastCharge</td>\n",
       "      <td>C:\\Users\\mattm\\Documents\\CalPoly\\DATA 451\\Toyo...</td>\n",
       "      <td>2021.1.11.15</td>\n",
       "      <td>1.040</td>\n",
       "      <td>1.043</td>\n",
       "      <td>1.042</td>\n",
       "      <td>296427.402899</td>\n",
       "      <td>5785.600098</td>\n",
       "      <td>...</td>\n",
       "      <td>3552.0</td>\n",
       "      <td>3552.0</td>\n",
       "      <td>3552.0</td>\n",
       "      <td>3552.0</td>\n",
       "      <td>None</td>\n",
       "      <td>None</td>\n",
       "      <td>None</td>\n",
       "      <td>0.98</td>\n",
       "      <td>0.78</td>\n",
       "      <td>0.03</td>\n",
       "    </tr>\n",
       "    <tr>\n",
       "      <th>2</th>\n",
       "      <td>2</td>\n",
       "      <td>beep.featurize</td>\n",
       "      <td>DeltaQFastCharge</td>\n",
       "      <td>C:\\Users\\mattm\\Documents\\CalPoly\\DATA 451\\Toyo...</td>\n",
       "      <td>2021.1.11.15</td>\n",
       "      <td>1.030</td>\n",
       "      <td>1.029</td>\n",
       "      <td>1.030</td>\n",
       "      <td>262556.750559</td>\n",
       "      <td>5811.200195</td>\n",
       "      <td>...</td>\n",
       "      <td>3760.0</td>\n",
       "      <td>3760.0</td>\n",
       "      <td>3760.0</td>\n",
       "      <td>3760.0</td>\n",
       "      <td>None</td>\n",
       "      <td>None</td>\n",
       "      <td>None</td>\n",
       "      <td>0.98</td>\n",
       "      <td>0.78</td>\n",
       "      <td>0.03</td>\n",
       "    </tr>\n",
       "    <tr>\n",
       "      <th>3</th>\n",
       "      <td>3</td>\n",
       "      <td>beep.featurize</td>\n",
       "      <td>DeltaQFastCharge</td>\n",
       "      <td>C:\\Users\\mattm\\Documents\\CalPoly\\DATA 451\\Toyo...</td>\n",
       "      <td>2021.1.11.15</td>\n",
       "      <td>1.029</td>\n",
       "      <td>1.026</td>\n",
       "      <td>1.025</td>\n",
       "      <td>268508.727464</td>\n",
       "      <td>5785.600098</td>\n",
       "      <td>...</td>\n",
       "      <td>3753.0</td>\n",
       "      <td>3753.0</td>\n",
       "      <td>3753.0</td>\n",
       "      <td>3753.0</td>\n",
       "      <td>None</td>\n",
       "      <td>None</td>\n",
       "      <td>None</td>\n",
       "      <td>0.98</td>\n",
       "      <td>0.78</td>\n",
       "      <td>0.03</td>\n",
       "    </tr>\n",
       "    <tr>\n",
       "      <th>4</th>\n",
       "      <td>4</td>\n",
       "      <td>beep.featurize</td>\n",
       "      <td>DeltaQFastCharge</td>\n",
       "      <td>C:\\Users\\mattm\\Documents\\CalPoly\\DATA 451\\Toyo...</td>\n",
       "      <td>2021.1.11.15</td>\n",
       "      <td>1.067</td>\n",
       "      <td>1.074</td>\n",
       "      <td>1.059</td>\n",
       "      <td>614925.496456</td>\n",
       "      <td>5785.600098</td>\n",
       "      <td>...</td>\n",
       "      <td>3049.0</td>\n",
       "      <td>3049.0</td>\n",
       "      <td>3049.0</td>\n",
       "      <td>3049.0</td>\n",
       "      <td>None</td>\n",
       "      <td>None</td>\n",
       "      <td>None</td>\n",
       "      <td>0.98</td>\n",
       "      <td>0.78</td>\n",
       "      <td>0.03</td>\n",
       "    </tr>\n",
       "  </tbody>\n",
       "</table>\n",
       "<p>5 rows × 51 columns</p>\n",
       "</div>"
      ],
      "text/plain": [
       "   index       @module_x          @class_x  \\\n",
       "0      0  beep.featurize  DeltaQFastCharge   \n",
       "1      1  beep.featurize  DeltaQFastCharge   \n",
       "2      2  beep.featurize  DeltaQFastCharge   \n",
       "3      3  beep.featurize  DeltaQFastCharge   \n",
       "4      4  beep.featurize  DeltaQFastCharge   \n",
       "\n",
       "                                              name_x    @version_x  \\\n",
       "0  C:\\Users\\mattm\\Documents\\CalPoly\\DATA 451\\Toyo...  2021.1.11.15   \n",
       "1  C:\\Users\\mattm\\Documents\\CalPoly\\DATA 451\\Toyo...  2021.1.11.15   \n",
       "2  C:\\Users\\mattm\\Documents\\CalPoly\\DATA 451\\Toyo...  2021.1.11.15   \n",
       "3  C:\\Users\\mattm\\Documents\\CalPoly\\DATA 451\\Toyo...  2021.1.11.15   \n",
       "4  C:\\Users\\mattm\\Documents\\CalPoly\\DATA 451\\Toyo...  2021.1.11.15   \n",
       "\n",
       "   X.discharge_capacity_cycle_2  X.max_discharge_capacity_difference  \\\n",
       "0                         1.030                                1.035   \n",
       "1                         1.040                                1.043   \n",
       "2                         1.030                                1.029   \n",
       "3                         1.029                                1.026   \n",
       "4                         1.067                                1.074   \n",
       "\n",
       "   X.discharge_capacity_cycle_100  X.integrated_time_temperature_cycles_1:100  \\\n",
       "0                           1.032                               306697.588291   \n",
       "1                           1.042                               296427.402899   \n",
       "2                           1.030                               262556.750559   \n",
       "3                           1.025                               268508.727464   \n",
       "4                           1.059                               614925.496456   \n",
       "\n",
       "   X.charge_time_cycles_1:5  ...  X.capacity_0.89  X.capacity_0.86  \\\n",
       "0               5760.000000  ...           4550.0           4550.0   \n",
       "1               5785.600098  ...           3552.0           3552.0   \n",
       "2               5811.200195  ...           3760.0           3760.0   \n",
       "3               5785.600098  ...           3753.0           3753.0   \n",
       "4               5785.600098  ...           3049.0           3049.0   \n",
       "\n",
       "   X.capacity_0.83  X.capacity_0.8  metadata.barcode_y  metadata.protocol_y  \\\n",
       "0           4550.0          4550.0                None                 None   \n",
       "1           3552.0          3552.0                None                 None   \n",
       "2           3760.0          3760.0                None                 None   \n",
       "3           3753.0          3753.0                None                 None   \n",
       "4           3049.0          3049.0                None                 None   \n",
       "\n",
       "   metadata.channel_id_y  metadata.parameters.thresh_max_cap  \\\n",
       "0                   None                                0.98   \n",
       "1                   None                                0.98   \n",
       "2                   None                                0.98   \n",
       "3                   None                                0.98   \n",
       "4                   None                                0.98   \n",
       "\n",
       "   metadata.parameters.thresh_min_cap  metadata.parameters.interval_cap  \n",
       "0                                0.78                              0.03  \n",
       "1                                0.78                              0.03  \n",
       "2                                0.78                              0.03  \n",
       "3                                0.78                              0.03  \n",
       "4                                0.78                              0.03  \n",
       "\n",
       "[5 rows x 51 columns]"
      ]
     },
     "execution_count": 19,
     "metadata": {},
     "output_type": "execute_result"
    }
   ],
   "source": [
    "new_df_full = merge_df(new_d_df, new_t_df)\n",
    "new_df_full.head()"
   ]
  },
  {
   "cell_type": "markdown",
   "id": "baking-ecuador",
   "metadata": {},
   "source": [
    "__Model Recreation__:"
   ]
  },
  {
   "cell_type": "code",
   "execution_count": 20,
   "id": "comfortable-calculator",
   "metadata": {},
   "outputs": [],
   "source": [
    "variance_model_features = 'X.abs_variance_discharge_capacity_difference_cycles_2:100'\n",
    "discharge_model_features = ['X.abs_min_discharge_capacity_difference_cycles_2:100',\n",
    "                            'X.abs_variance_discharge_capacity_difference_cycles_2:100',\n",
    "                            'X.abs_skew_discharge_capacity_difference_cycles_2:100',\n",
    "                            'X.abs_kurtosis_discharge_capacity_difference_cycles_2:100',\n",
    "                            'X.discharge_capacity_cycle_2',\n",
    "                            'X.max_discharge_capacity_difference'\n",
    "                            ]\n",
    "full_model_features = ['X.abs_min_discharge_capacity_difference_cycles_2:100',\n",
    "                       'X.abs_variance_discharge_capacity_difference_cycles_2:100',\n",
    "                       'X.slope_discharge_capacity_cycle_number_2:100',\n",
    "                       'X.intercept_discharge_capacity_cycle_number_2:100',\n",
    "                       'X.discharge_capacity_cycle_2',\n",
    "                       'X.charge_time_cycles_1:5',\n",
    "                       'X.integrated_time_temperature_cycles_1:100']\n",
    "#                        'X.min_internal_resistance_cycles_2:100',\n",
    "#                        'X.internal_resistance_difference_cycles_2:100']\n",
    "\n",
    "internal_resistance = ['X.min_internal_resistance_cycles_2:100', \n",
    "                       'X.internal_resistance_difference_cycles_2:100']\n",
    "\n",
    "y = 'X.capacity_0.8'"
   ]
  },
  {
   "cell_type": "markdown",
   "id": "careful-worst",
   "metadata": {},
   "source": [
    "__Old Data Models__"
   ]
  },
  {
   "cell_type": "code",
   "execution_count": 21,
   "id": "possible-fellowship",
   "metadata": {},
   "outputs": [],
   "source": [
    "from sklearn.linear_model import LinearRegression, ElasticNet, ElasticNetCV\n",
    "from sklearn.metrics import mean_squared_error, mean_absolute_percentage_error"
   ]
  },
  {
   "cell_type": "code",
   "execution_count": 22,
   "id": "metallic-consideration",
   "metadata": {},
   "outputs": [
    {
     "data": {
      "text/plain": [
       "<AxesSubplot:xlabel='X.abs_variance_discharge_capacity_difference_cycles_2:100', ylabel='X.capacity_0.8'>"
      ]
     },
     "execution_count": 22,
     "metadata": {},
     "output_type": "execute_result"
    },
    {
     "data": {
      "image/png": "[encoded data removed]",
      "text/plain": [
       "<Figure size 432x288 with 1 Axes>"
      ]
     },
     "metadata": {
      "needs_background": "light"
     },
     "output_type": "display_data"
    }
   ],
   "source": [
    "old_df_full.plot.scatter(x='X.abs_variance_discharge_capacity_difference_cycles_2:100', y = 'X.capacity_0.8')"
   ]
  },
  {
   "cell_type": "code",
   "execution_count": 23,
   "id": "sporting-proposition",
   "metadata": {},
   "outputs": [],
   "source": [
    "train_ind = [ 1,  3,  5,  7,  9, 11, 13, 15, 17, 19, 21, 23, 25, 27, 29, 31, 33,\n",
    "        35, 37, 39, 41, 43, 45, 47, 49, 51, 53, 55, 57, 59, 61, 63, 65, 67,\n",
    "        69, 71, 73, 75, 77, 79, 81]\n",
    "test_ind = [ 0,  2,  4,  6,  8, 10, 12, 14, 16, 18, 20, 22, 24, 26, 28, 30, 32,\n",
    "        34, 36, 38, 40, 42, 44, 46, 48, 50, 52, 54, 56, 58, 60, 62, 64, 66,\n",
    "        68, 70, 72, 74, 76, 78, 80, 82, 83]"
   ]
  },
  {
   "cell_type": "code",
   "execution_count": 24,
   "id": "enabling-satellite",
   "metadata": {},
   "outputs": [],
   "source": [
    "# Variance model\n",
    "X_train_var = old_df_full.iloc[train_ind][[variance_model_features]]\n",
    "y_train = old_df_full.iloc[train_ind][[y]]\n",
    "\n",
    "X_test_var = old_df_full.iloc[test_ind][[variance_model_features]]\n",
    "y_test = old_df_full.iloc[test_ind][[y]]"
   ]
  },
  {
   "cell_type": "code",
   "execution_count": 25,
   "id": "metropolitan-validation",
   "metadata": {},
   "outputs": [
    {
     "name": "stdout",
     "output_type": "stream",
     "text": [
      "Variance Basic Linear Regression Model\n",
      "Training RMSE:  135.62503334493\n",
      "Test RMSE:  127.88180518799862\n",
      "Mean % Train Error:  0.17993325696610188\n",
      "Mean % Test Error:  0.16873584348741344\n"
     ]
    }
   ],
   "source": [
    "reg_var = LinearRegression().fit(X_train_var,y_train)\n",
    "y_pred_train_var = reg_var.predict(X_train_var)\n",
    "y_pred_test_var = reg_var.predict(X_test_var)\n",
    "\n",
    "rmse_train_var = np.sqrt(mean_squared_error(y_train, y_pred_train_var))\n",
    "rmse_test_var = np.sqrt(mean_squared_error(y_test, y_pred_test_var))\n",
    "mape_train_var = mean_absolute_percentage_error(y_train, y_pred_train_var)\n",
    "mape_test_var = mean_absolute_percentage_error(y_test, y_pred_test_var)\n",
    "\n",
    "print(\"Variance Basic Linear Regression Model\")\n",
    "print(\"Training RMSE: \", rmse_train_var)\n",
    "print(\"Test RMSE: \", rmse_test_var)\n",
    "print(\"Mean % Train Error: \", mape_train_var)\n",
    "print(\"Mean % Test Error: \", mape_test_var)"
   ]
  },
  {
   "cell_type": "code",
   "execution_count": 26,
   "id": "leading-house",
   "metadata": {
    "scrolled": true
   },
   "outputs": [
    {
     "name": "stderr",
     "output_type": "stream",
     "text": [
      "C:\\Users\\david\\Anaconda3\\lib\\site-packages\\sklearn\\utils\\validation.py:63: DataConversionWarning: A column-vector y was passed when a 1d array was expected. Please change the shape of y to (n_samples, ), for example using ravel().\n",
      "  return f(*args, **kwargs)\n",
      "C:\\Users\\david\\Anaconda3\\lib\\site-packages\\sklearn\\utils\\validation.py:63: DataConversionWarning: A column-vector y was passed when a 1d array was expected. Please change the shape of y to (n_samples, ), for example using ravel().\n",
      "  return f(*args, **kwargs)\n",
      "C:\\Users\\david\\Anaconda3\\lib\\site-packages\\sklearn\\utils\\validation.py:63: DataConversionWarning: A column-vector y was passed when a 1d array was expected. Please change the shape of y to (n_samples, ), for example using ravel().\n",
      "  return f(*args, **kwargs)\n",
      "C:\\Users\\david\\Anaconda3\\lib\\site-packages\\sklearn\\utils\\validation.py:63: DataConversionWarning: A column-vector y was passed when a 1d array was expected. Please change the shape of y to (n_samples, ), for example using ravel().\n",
      "  return f(*args, **kwargs)\n",
      "C:\\Users\\david\\Anaconda3\\lib\\site-packages\\sklearn\\utils\\validation.py:63: DataConversionWarning: A column-vector y was passed when a 1d array was expected. Please change the shape of y to (n_samples, ), for example using ravel().\n",
      "  return f(*args, **kwargs)\n",
      "C:\\Users\\david\\Anaconda3\\lib\\site-packages\\sklearn\\utils\\validation.py:63: DataConversionWarning: A column-vector y was passed when a 1d array was expected. Please change the shape of y to (n_samples, ), for example using ravel().\n",
      "  return f(*args, **kwargs)\n",
      "C:\\Users\\david\\Anaconda3\\lib\\site-packages\\sklearn\\utils\\validation.py:63: DataConversionWarning: A column-vector y was passed when a 1d array was expected. Please change the shape of y to (n_samples, ), for example using ravel().\n",
      "  return f(*args, **kwargs)\n",
      "C:\\Users\\david\\Anaconda3\\lib\\site-packages\\sklearn\\utils\\validation.py:63: DataConversionWarning: A column-vector y was passed when a 1d array was expected. Please change the shape of y to (n_samples, ), for example using ravel().\n",
      "  return f(*args, **kwargs)\n"
     ]
    },
    {
     "name": "stdout",
     "output_type": "stream",
     "text": [
      "Variance Elastic Net Model\n",
      "l1_ratio = 0.75\n",
      "Test RMSE:  122.6386967125838\n"
     ]
    },
    {
     "name": "stderr",
     "output_type": "stream",
     "text": [
      "C:\\Users\\david\\Anaconda3\\lib\\site-packages\\sklearn\\utils\\validation.py:63: DataConversionWarning: A column-vector y was passed when a 1d array was expected. Please change the shape of y to (n_samples, ), for example using ravel().\n",
      "  return f(*args, **kwargs)\n",
      "C:\\Users\\david\\Anaconda3\\lib\\site-packages\\sklearn\\utils\\validation.py:63: DataConversionWarning: A column-vector y was passed when a 1d array was expected. Please change the shape of y to (n_samples, ), for example using ravel().\n",
      "  return f(*args, **kwargs)\n",
      "C:\\Users\\david\\Anaconda3\\lib\\site-packages\\sklearn\\utils\\validation.py:63: DataConversionWarning: A column-vector y was passed when a 1d array was expected. Please change the shape of y to (n_samples, ), for example using ravel().\n",
      "  return f(*args, **kwargs)\n"
     ]
    }
   ],
   "source": [
    "k_fold = 5\n",
    "l1_ratios = [i/20 for i in range(10, 21)]\n",
    "max_iter = 1000000\n",
    "random_state = 1\n",
    "test_size = 2\n",
    "tol = 0.0001\n",
    "\n",
    "models = []\n",
    "y_pred_trains = []\n",
    "y_pred_tests = []\n",
    "train_rmses = []\n",
    "test_rmses = []\n",
    "\n",
    "for l1_ratio in l1_ratios:\n",
    "    elasticnetcv = ElasticNetCV(\n",
    "        fit_intercept=True,\n",
    "        normalize=False,\n",
    "        alphas=None,\n",
    "        cv=k_fold,\n",
    "        l1_ratio=l1_ratio,\n",
    "        max_iter=max_iter,\n",
    "    )\n",
    "    elasticnetcv.fit(X_train_var, y_train)\n",
    "\n",
    "    elasticnet_var = ElasticNet(\n",
    "        fit_intercept=True,\n",
    "        normalize=False,\n",
    "        l1_ratio=elasticnetcv.l1_ratio_,\n",
    "        alpha=elasticnetcv.alpha_,\n",
    "        max_iter=max_iter,\n",
    "    )\n",
    "\n",
    "    elasticnet_var.fit(X_train_var, y_train)\n",
    "    y_pred_train_en_var = elasticnet_var.predict(X_train_var)\n",
    "    y_pred_test_en_var = elasticnet_var.predict(X_test_var)\n",
    "\n",
    "    rmse_train_en_var = np.sqrt(mean_squared_error(y_train, y_pred_train_en_var))\n",
    "    rmse_test_en_var = np.sqrt(mean_squared_error(y_test, y_pred_test_en_var))\n",
    "#     mape_train_en_var = mean_absolute_percentage_error(y_train, y_pred_train_en_var)\n",
    "#     mape_test_en_var = mean_absolute_percentage_error(y_test, y_pred_test_en_var)\n",
    "\n",
    "    models.append(elasticnet_var)\n",
    "    y_pred_trains.append(y_pred_train_en_var)\n",
    "    y_pred_tests.append(y_pred_test_en_var)\n",
    "    train_rmses.append(rmse_train_en_var)\n",
    "    test_rmses.append(rmse_test_en_var)\n",
    "\n",
    "best_model_index = test_rmses.index(min(test_rmses))\n",
    "\n",
    "elasticnet_var = models[best_model_index]\n",
    "y_pred_train_en_var = y_pred_trains[best_model_index]\n",
    "y_pred_test_en_var = y_pred_tests[best_model_index]\n",
    "rmse_train_var_en = train_rmses[best_model_index]\n",
    "rmse_test_var_en = test_rmses[best_model_index]\n",
    "l1_ratio_var = l1_ratios[best_model_index]\n",
    "\n",
    "print(\"Variance Elastic Net Model\")\n",
    "print(\"l1_ratio =\", l1_ratio_var)\n",
    "print(\"Test RMSE: \", rmse_test_var_en)"
   ]
  },
  {
   "cell_type": "code",
   "execution_count": 27,
   "id": "velvet-iraqi",
   "metadata": {},
   "outputs": [
    {
     "data": {
      "image/png": "[encoded data removed]",
      "text/plain": [
       "<Figure size 432x288 with 1 Axes>"
      ]
     },
     "metadata": {
      "needs_background": "light"
     },
     "output_type": "display_data"
    }
   ],
   "source": [
    "coeffs = np.polyfit(l1_ratios, test_rmses, 3)\n",
    "vals = [coeffs[0]*val**3 + coeffs[1]*val**2 + coeffs[2]*val + coeffs[3] for val in l1_ratios]\n",
    "\n",
    "plt.scatter(l1_ratios, test_rmses)\n",
    "plt.plot(l1_ratios, vals)\n",
    "plt.title(\"Test RMSE by Ridge/Lasso Ratio (Variance Model)\")\n",
    "plt.xlabel(\"L1 Ratio (0 = Ridge, 1 = Lasso)\")\n",
    "plt.ylabel(\"Test RMSE\");"
   ]
  },
  {
   "cell_type": "markdown",
   "id": "japanese-fossil",
   "metadata": {},
   "source": [
    "#### From paper (Variance Model)\n",
    "* Training RMSE: 103\n",
    "* Test RMSE: 138\n",
    "* Mean % Train Error: 14.1\n",
    "* Mean % Test Error: 14.7"
   ]
  },
  {
   "cell_type": "code",
   "execution_count": 28,
   "id": "lovely-grain",
   "metadata": {},
   "outputs": [
    {
     "data": {
      "text/plain": [
       "Text(0.5, 1.0, 'Variance Model Predicted vs. True Values')"
      ]
     },
     "execution_count": 28,
     "metadata": {},
     "output_type": "execute_result"
    },
    {
     "data": {
      "image/png": "[encoded data removed]",
      "text/plain": [
       "<Figure size 432x288 with 1 Axes>"
      ]
     },
     "metadata": {
      "needs_background": "light"
     },
     "output_type": "display_data"
    }
   ],
   "source": [
    "# Variance model\n",
    "min_var = y_test.min()[0]\n",
    "max_var = y_test.max()[0]\n",
    "\n",
    "plt.scatter(y_test, y_pred_test_var)\n",
    "plt.plot([0, max_var], [0, max_var], color=\"red\")\n",
    "plt.xlabel(\"True Values\")\n",
    "plt.ylabel(\"Predicted Values\")\n",
    "plt.title(\"Variance Model Predicted vs. True Values\")"
   ]
  },
  {
   "cell_type": "code",
   "execution_count": 29,
   "id": "subsequent-solid",
   "metadata": {},
   "outputs": [
    {
     "name": "stdout",
     "output_type": "stream",
     "text": [
      "Discharge Basic Linear Regression Model\n",
      "Training RMSE:  75.16314536569475\n",
      "Test RMSE:  89.43996365251705\n"
     ]
    }
   ],
   "source": [
    "# discharge model\n",
    "X_train_dis = old_df_full.iloc[train_ind][discharge_model_features]\n",
    "y_train = old_df_full.iloc[train_ind][[y]]\n",
    "\n",
    "X_test_dis = old_df_full.iloc[test_ind][discharge_model_features]\n",
    "y_test = old_df_full.iloc[test_ind][[y]]\n",
    "\n",
    "reg_dis = LinearRegression().fit(X_train_dis,y_train)\n",
    "y_pred_train_dis = reg_dis.predict(X_train_dis)\n",
    "y_pred_test_dis = reg_dis.predict(X_test_dis)\n",
    "\n",
    "rmse_train_dis = np.sqrt(mean_squared_error(y_train, y_pred_train_dis))\n",
    "rmse_test_dis = np.sqrt(mean_squared_error(y_test, y_pred_test_dis))\n",
    "mape_train_dis = mean_absolute_percentage_error(y_train, y_pred_train_dis)\n",
    "mape_test_dis = mean_absolute_percentage_error(y_test, y_pred_test_dis)\n",
    "\n",
    "print(\"Discharge Basic Linear Regression Model\")\n",
    "print(\"Training RMSE: \", np.sqrt(mean_squared_error(y_train, y_pred_train_dis)))\n",
    "print(\"Test RMSE: \", np.sqrt(mean_squared_error(y_test, y_pred_test_dis)))\n",
    "# print(\"Mean % Train Error: \", mean_absolute_percentage_error(y_train, y_pred_train_dis))\n",
    "# print(\"Mean % Test Error: \", mean_absolute_percentage_error(y_test, y_pred_test_dis))"
   ]
  },
  {
   "cell_type": "code",
   "execution_count": 30,
   "id": "political-channel",
   "metadata": {},
   "outputs": [
    {
     "name": "stderr",
     "output_type": "stream",
     "text": [
      "C:\\Users\\david\\Anaconda3\\lib\\site-packages\\sklearn\\utils\\validation.py:63: DataConversionWarning: A column-vector y was passed when a 1d array was expected. Please change the shape of y to (n_samples, ), for example using ravel().\n",
      "  return f(*args, **kwargs)\n",
      "C:\\Users\\david\\Anaconda3\\lib\\site-packages\\sklearn\\utils\\validation.py:63: DataConversionWarning: A column-vector y was passed when a 1d array was expected. Please change the shape of y to (n_samples, ), for example using ravel().\n",
      "  return f(*args, **kwargs)\n",
      "C:\\Users\\david\\Anaconda3\\lib\\site-packages\\sklearn\\utils\\validation.py:63: DataConversionWarning: A column-vector y was passed when a 1d array was expected. Please change the shape of y to (n_samples, ), for example using ravel().\n",
      "  return f(*args, **kwargs)\n",
      "C:\\Users\\david\\Anaconda3\\lib\\site-packages\\sklearn\\utils\\validation.py:63: DataConversionWarning: A column-vector y was passed when a 1d array was expected. Please change the shape of y to (n_samples, ), for example using ravel().\n",
      "  return f(*args, **kwargs)\n",
      "C:\\Users\\david\\Anaconda3\\lib\\site-packages\\sklearn\\utils\\validation.py:63: DataConversionWarning: A column-vector y was passed when a 1d array was expected. Please change the shape of y to (n_samples, ), for example using ravel().\n",
      "  return f(*args, **kwargs)\n",
      "C:\\Users\\david\\Anaconda3\\lib\\site-packages\\sklearn\\utils\\validation.py:63: DataConversionWarning: A column-vector y was passed when a 1d array was expected. Please change the shape of y to (n_samples, ), for example using ravel().\n",
      "  return f(*args, **kwargs)\n",
      "C:\\Users\\david\\Anaconda3\\lib\\site-packages\\sklearn\\utils\\validation.py:63: DataConversionWarning: A column-vector y was passed when a 1d array was expected. Please change the shape of y to (n_samples, ), for example using ravel().\n",
      "  return f(*args, **kwargs)\n",
      "C:\\Users\\david\\Anaconda3\\lib\\site-packages\\sklearn\\utils\\validation.py:63: DataConversionWarning: A column-vector y was passed when a 1d array was expected. Please change the shape of y to (n_samples, ), for example using ravel().\n",
      "  return f(*args, **kwargs)\n"
     ]
    },
    {
     "name": "stdout",
     "output_type": "stream",
     "text": [
      "Discharge Elastic Net Model\n",
      "l1_ratio = 1.0\n",
      "Test RMSE:  88.14542375409735\n"
     ]
    },
    {
     "name": "stderr",
     "output_type": "stream",
     "text": [
      "C:\\Users\\david\\Anaconda3\\lib\\site-packages\\sklearn\\utils\\validation.py:63: DataConversionWarning: A column-vector y was passed when a 1d array was expected. Please change the shape of y to (n_samples, ), for example using ravel().\n",
      "  return f(*args, **kwargs)\n",
      "C:\\Users\\david\\Anaconda3\\lib\\site-packages\\sklearn\\utils\\validation.py:63: DataConversionWarning: A column-vector y was passed when a 1d array was expected. Please change the shape of y to (n_samples, ), for example using ravel().\n",
      "  return f(*args, **kwargs)\n",
      "C:\\Users\\david\\Anaconda3\\lib\\site-packages\\sklearn\\utils\\validation.py:63: DataConversionWarning: A column-vector y was passed when a 1d array was expected. Please change the shape of y to (n_samples, ), for example using ravel().\n",
      "  return f(*args, **kwargs)\n"
     ]
    }
   ],
   "source": [
    "k_fold = 5\n",
    "l1_ratios = [i/20 for i in range(10, 21)]\n",
    "max_iter = 1000000\n",
    "random_state = 1\n",
    "test_size = 2\n",
    "tol = 0.0001\n",
    "\n",
    "models = []\n",
    "y_pred_trains = []\n",
    "y_pred_tests = []\n",
    "train_rmses = []\n",
    "test_rmses = []\n",
    "\n",
    "for l1_ratio in l1_ratios:\n",
    "    elasticnetcv = ElasticNetCV(\n",
    "        fit_intercept=True,\n",
    "        normalize=False,\n",
    "        alphas=None,\n",
    "        cv=k_fold,\n",
    "        l1_ratio=l1_ratio,\n",
    "        max_iter=max_iter,\n",
    "    )\n",
    "    elasticnetcv.fit(X_train_dis, y_train)\n",
    "\n",
    "    elasticnet_dis = ElasticNet(\n",
    "        fit_intercept=True,\n",
    "        normalize=False,\n",
    "        l1_ratio=elasticnetcv.l1_ratio_,\n",
    "        alpha=elasticnetcv.alpha_,\n",
    "        max_iter=max_iter,\n",
    "    )\n",
    "\n",
    "    elasticnet_dis.fit(X_train_dis, y_train)\n",
    "    y_pred_train_en_dis = elasticnet_dis.predict(X_train_dis)\n",
    "    y_pred_test_en_dis = elasticnet_dis.predict(X_test_dis)\n",
    "\n",
    "    rmse_train_en_dis = np.sqrt(mean_squared_error(y_train, y_pred_train_en_dis))\n",
    "    rmse_test_en_dis = np.sqrt(mean_squared_error(y_test, y_pred_test_en_dis))\n",
    "#     mape_train_en_dis = mean_absolute_percentage_error(y_train, y_pred_train_en_dis)\n",
    "#     mape_test_en_dis = mean_absolute_percentage_error(y_test, y_pred_test_en_dis)\n",
    "\n",
    "    models.append(elasticnet_dis)\n",
    "    y_pred_trains.append(y_pred_train_en_dis)\n",
    "    y_pred_tests.append(y_pred_test_en_dis)\n",
    "    train_rmses.append(rmse_train_en_dis)\n",
    "    test_rmses.append(rmse_test_en_dis)\n",
    "\n",
    "best_model_index = test_rmses.index(min(test_rmses))\n",
    "\n",
    "elasticnet_dis = models[best_model_index]\n",
    "y_pred_train_en_dis = y_pred_trains[best_model_index]\n",
    "y_pred_test_en_dis = y_pred_tests[best_model_index]\n",
    "rmse_train_dis_en = train_rmses[best_model_index]\n",
    "rmse_test_dis_en = test_rmses[best_model_index]\n",
    "l1_ratio_dis = l1_ratios[best_model_index]\n",
    "\n",
    "print(\"Discharge Elastic Net Model\")\n",
    "print(\"l1_ratio =\", l1_ratio_dis)\n",
    "print(\"Test RMSE: \", rmse_test_dis_en)"
   ]
  },
  {
   "cell_type": "code",
   "execution_count": 31,
   "id": "alpine-springer",
   "metadata": {},
   "outputs": [
    {
     "data": {
      "text/plain": [
       "[116.39170240986502,\n",
       " 112.85260556841311,\n",
       " 110.23259382311062,\n",
       " 108.3686428303756,\n",
       " 107.11188557202188,\n",
       " 106.32375936225459,\n",
       " 106.05540790880175,\n",
       " 106.0818892835179,\n",
       " 106.17933615257365,\n",
       " 106.2486259585202,\n",
       " 88.14542375409735]"
      ]
     },
     "execution_count": 31,
     "metadata": {},
     "output_type": "execute_result"
    }
   ],
   "source": [
    "test_rmses"
   ]
  },
  {
   "cell_type": "code",
   "execution_count": 32,
   "id": "foster-lawrence",
   "metadata": {},
   "outputs": [
    {
     "data": {
      "image/png": "[encoded data removed]",
      "text/plain": [
       "<Figure size 432x288 with 1 Axes>"
      ]
     },
     "metadata": {
      "needs_background": "light"
     },
     "output_type": "display_data"
    }
   ],
   "source": [
    "# coeffs = np.polyfit(l1_ratios, test_rmses, 3)\n",
    "# vals = [coeffs[0]*val**3 + coeffs[1]*val**2 + coeffs[2]*val + coeffs[3] for val in l1_ratios[:-1]]\n",
    "\n",
    "plt.scatter(l1_ratios, test_rmses)\n",
    "# plt.plot(l1_ratios[:-1], vals)\n",
    "plt.title(\"Test RMSE by Ridge/Lasso Ratio (Discharge Model)\")\n",
    "plt.xlabel(\"L1 Ratio (0 = Ridge, 1 = Lasso)\")\n",
    "plt.ylabel(\"Test RMSE\");"
   ]
  },
  {
   "cell_type": "markdown",
   "id": "prime-segment",
   "metadata": {},
   "source": [
    "#### From paper (Discharge Model)\n",
    "* Training RMSE: 76\n",
    "* Test RMSE: 91\n",
    "* Mean % Train Error: 9.8\n",
    "* Mean % Test Error: 13.0"
   ]
  },
  {
   "cell_type": "code",
   "execution_count": 33,
   "id": "growing-timber",
   "metadata": {},
   "outputs": [
    {
     "data": {
      "text/plain": [
       "Text(0.5, 1.0, 'Discharge Model Predicted vs. True Values')"
      ]
     },
     "execution_count": 33,
     "metadata": {},
     "output_type": "execute_result"
    },
    {
     "data": {
      "image/png": "[encoded data removed]",
      "text/plain": [
       "<Figure size 432x288 with 1 Axes>"
      ]
     },
     "metadata": {
      "needs_background": "light"
     },
     "output_type": "display_data"
    }
   ],
   "source": [
    "# Discharge model\n",
    "max_dis = y_test.max()[0]\n",
    "\n",
    "plt.scatter(y_test, y_pred_test_dis)\n",
    "plt.plot([0, max_dis], [0, max_dis], color=\"red\")\n",
    "plt.xlabel(\"True Values\")\n",
    "plt.ylabel(\"Predicted Values\")\n",
    "plt.title(\"Discharge Model Predicted vs. True Values\")"
   ]
  },
  {
   "cell_type": "code",
   "execution_count": 34,
   "id": "endless-fashion",
   "metadata": {},
   "outputs": [
    {
     "name": "stdout",
     "output_type": "stream",
     "text": [
      "Full Basic Linear Regression Model\n",
      "Training RMSE:  71.58632659423431\n",
      "Test RMSE:  112.65973495727872\n",
      "Mean % Train Error:  0.08264893071355266\n",
      "Mean % Test Error:  0.13254246755725682\n"
     ]
    }
   ],
   "source": [
    "# full model\n",
    "X_train_full = old_df_full.iloc[train_ind][full_model_features + internal_resistance]\n",
    "y_train = old_df_full.iloc[train_ind][[y]]\n",
    "\n",
    "X_test_full = old_df_full.iloc[test_ind][full_model_features + internal_resistance]\n",
    "y_test = old_df_full.iloc[test_ind][[y]]\n",
    "\n",
    "reg_full = LinearRegression().fit(X_train_full,y_train)\n",
    "y_pred_train_full = reg_full.predict(X_train_full)\n",
    "y_pred_test_full = reg_full.predict(X_test_full)\n",
    "\n",
    "rmse_train_full = np.sqrt(mean_squared_error(y_train, y_pred_train_full))\n",
    "rmse_test_full = np.sqrt(mean_squared_error(y_test, y_pred_test_full))\n",
    "mape_train_full = mean_absolute_percentage_error(y_train, y_pred_train_full)\n",
    "mape_test_full = mean_absolute_percentage_error(y_test, y_pred_test_full)\n",
    "\n",
    "print(\"Full Basic Linear Regression Model\")\n",
    "print(\"Training RMSE: \", np.sqrt(mean_squared_error(y_train, y_pred_train_full)))\n",
    "print(\"Test RMSE: \", np.sqrt(mean_squared_error(y_test, y_pred_test_full)))\n",
    "print(\"Mean % Train Error: \", mean_absolute_percentage_error(y_train, y_pred_train_full))\n",
    "print(\"Mean % Test Error: \", mean_absolute_percentage_error(y_test, y_pred_test_full))"
   ]
  },
  {
   "cell_type": "code",
   "execution_count": 35,
   "id": "incorrect-drama",
   "metadata": {},
   "outputs": [
    {
     "name": "stderr",
     "output_type": "stream",
     "text": [
      "C:\\Users\\david\\Anaconda3\\lib\\site-packages\\sklearn\\utils\\validation.py:63: DataConversionWarning: A column-vector y was passed when a 1d array was expected. Please change the shape of y to (n_samples, ), for example using ravel().\n",
      "  return f(*args, **kwargs)\n",
      "C:\\Users\\david\\Anaconda3\\lib\\site-packages\\sklearn\\utils\\validation.py:63: DataConversionWarning: A column-vector y was passed when a 1d array was expected. Please change the shape of y to (n_samples, ), for example using ravel().\n",
      "  return f(*args, **kwargs)\n",
      "C:\\Users\\david\\Anaconda3\\lib\\site-packages\\sklearn\\utils\\validation.py:63: DataConversionWarning: A column-vector y was passed when a 1d array was expected. Please change the shape of y to (n_samples, ), for example using ravel().\n",
      "  return f(*args, **kwargs)\n",
      "C:\\Users\\david\\Anaconda3\\lib\\site-packages\\sklearn\\utils\\validation.py:63: DataConversionWarning: A column-vector y was passed when a 1d array was expected. Please change the shape of y to (n_samples, ), for example using ravel().\n",
      "  return f(*args, **kwargs)\n",
      "C:\\Users\\david\\Anaconda3\\lib\\site-packages\\sklearn\\utils\\validation.py:63: DataConversionWarning: A column-vector y was passed when a 1d array was expected. Please change the shape of y to (n_samples, ), for example using ravel().\n",
      "  return f(*args, **kwargs)\n",
      "C:\\Users\\david\\Anaconda3\\lib\\site-packages\\sklearn\\utils\\validation.py:63: DataConversionWarning: A column-vector y was passed when a 1d array was expected. Please change the shape of y to (n_samples, ), for example using ravel().\n",
      "  return f(*args, **kwargs)\n",
      "C:\\Users\\david\\Anaconda3\\lib\\site-packages\\sklearn\\utils\\validation.py:63: DataConversionWarning: A column-vector y was passed when a 1d array was expected. Please change the shape of y to (n_samples, ), for example using ravel().\n",
      "  return f(*args, **kwargs)\n",
      "C:\\Users\\david\\Anaconda3\\lib\\site-packages\\sklearn\\utils\\validation.py:63: DataConversionWarning: A column-vector y was passed when a 1d array was expected. Please change the shape of y to (n_samples, ), for example using ravel().\n",
      "  return f(*args, **kwargs)\n",
      "C:\\Users\\david\\Anaconda3\\lib\\site-packages\\sklearn\\utils\\validation.py:63: DataConversionWarning: A column-vector y was passed when a 1d array was expected. Please change the shape of y to (n_samples, ), for example using ravel().\n",
      "  return f(*args, **kwargs)\n",
      "C:\\Users\\david\\Anaconda3\\lib\\site-packages\\sklearn\\utils\\validation.py:63: DataConversionWarning: A column-vector y was passed when a 1d array was expected. Please change the shape of y to (n_samples, ), for example using ravel().\n",
      "  return f(*args, **kwargs)\n",
      "C:\\Users\\david\\Anaconda3\\lib\\site-packages\\sklearn\\utils\\validation.py:63: DataConversionWarning: A column-vector y was passed when a 1d array was expected. Please change the shape of y to (n_samples, ), for example using ravel().\n",
      "  return f(*args, **kwargs)\n",
      "C:\\Users\\david\\Anaconda3\\lib\\site-packages\\sklearn\\utils\\validation.py:63: DataConversionWarning: A column-vector y was passed when a 1d array was expected. Please change the shape of y to (n_samples, ), for example using ravel().\n",
      "  return f(*args, **kwargs)\n",
      "C:\\Users\\david\\Anaconda3\\lib\\site-packages\\sklearn\\utils\\validation.py:63: DataConversionWarning: A column-vector y was passed when a 1d array was expected. Please change the shape of y to (n_samples, ), for example using ravel().\n",
      "  return f(*args, **kwargs)\n",
      "C:\\Users\\david\\Anaconda3\\lib\\site-packages\\sklearn\\utils\\validation.py:63: DataConversionWarning: A column-vector y was passed when a 1d array was expected. Please change the shape of y to (n_samples, ), for example using ravel().\n",
      "  return f(*args, **kwargs)\n",
      "C:\\Users\\david\\Anaconda3\\lib\\site-packages\\sklearn\\utils\\validation.py:63: DataConversionWarning: A column-vector y was passed when a 1d array was expected. Please change the shape of y to (n_samples, ), for example using ravel().\n",
      "  return f(*args, **kwargs)\n",
      "C:\\Users\\david\\Anaconda3\\lib\\site-packages\\sklearn\\utils\\validation.py:63: DataConversionWarning: A column-vector y was passed when a 1d array was expected. Please change the shape of y to (n_samples, ), for example using ravel().\n",
      "  return f(*args, **kwargs)\n",
      "C:\\Users\\david\\Anaconda3\\lib\\site-packages\\sklearn\\utils\\validation.py:63: DataConversionWarning: A column-vector y was passed when a 1d array was expected. Please change the shape of y to (n_samples, ), for example using ravel().\n",
      "  return f(*args, **kwargs)\n",
      "C:\\Users\\david\\Anaconda3\\lib\\site-packages\\sklearn\\utils\\validation.py:63: DataConversionWarning: A column-vector y was passed when a 1d array was expected. Please change the shape of y to (n_samples, ), for example using ravel().\n",
      "  return f(*args, **kwargs)\n",
      "C:\\Users\\david\\Anaconda3\\lib\\site-packages\\sklearn\\utils\\validation.py:63: DataConversionWarning: A column-vector y was passed when a 1d array was expected. Please change the shape of y to (n_samples, ), for example using ravel().\n",
      "  return f(*args, **kwargs)\n",
      "C:\\Users\\david\\Anaconda3\\lib\\site-packages\\sklearn\\utils\\validation.py:63: DataConversionWarning: A column-vector y was passed when a 1d array was expected. Please change the shape of y to (n_samples, ), for example using ravel().\n",
      "  return f(*args, **kwargs)\n"
     ]
    },
    {
     "name": "stdout",
     "output_type": "stream",
     "text": [
      "Full Elastic Net Model\n",
      "l1_ratio = 1.0\n",
      "Test RMSE:  203.0550617195523\n"
     ]
    }
   ],
   "source": [
    "k_fold = 5\n",
    "l1_ratios = [i/20 for i in range(1, 21)]   #use this when testing different ratios\n",
    "#l1_ratios = [0.8]   #use this when using only the best ratio\n",
    "max_iter = 1000000\n",
    "random_state = 1\n",
    "test_size = 2\n",
    "tol = 0.0001\n",
    "\n",
    "models = []\n",
    "y_pred_trains = []\n",
    "y_pred_tests = []\n",
    "train_rmses = []\n",
    "test_rmses = []\n",
    "\n",
    "for l1_ratio in l1_ratios:\n",
    "    elasticnetcv = ElasticNetCV(\n",
    "        fit_intercept=True,\n",
    "        normalize=False,\n",
    "        alphas=None,\n",
    "        cv=k_fold,\n",
    "        l1_ratio=l1_ratio,\n",
    "        max_iter=max_iter,\n",
    "    )\n",
    "    elasticnetcv.fit(X_train_full, y_train)\n",
    "\n",
    "    elasticnet_full = ElasticNet(\n",
    "        fit_intercept=True,\n",
    "        normalize=False,\n",
    "        l1_ratio=elasticnetcv.l1_ratio_,\n",
    "        alpha=elasticnetcv.alpha_,\n",
    "        max_iter=max_iter,\n",
    "    )\n",
    "\n",
    "    elasticnet_full.fit(X_train_full, y_train)\n",
    "    y_pred_train_en_full = elasticnet_full.predict(X_train_full)\n",
    "    y_pred_test_en_full = elasticnet_full.predict(X_test_full)\n",
    "\n",
    "    rmse_train_en_full = np.sqrt(mean_squared_error(y_train, y_pred_train_en_full))\n",
    "    rmse_test_en_full = np.sqrt(mean_squared_error(y_test, y_pred_test_en_full))\n",
    "#     mape_train_en_full = mean_absolute_percentage_error(y_train, y_pred_train_en_full)\n",
    "#     mape_test_en_full = mean_absolute_percentage_error(y_test, y_pred_test_en_full)\n",
    "\n",
    "    models.append(elasticnet_full)\n",
    "    y_pred_trains.append(y_pred_train_en_full)\n",
    "    y_pred_tests.append(y_pred_test_en_full)\n",
    "    train_rmses.append(rmse_train_en_full)\n",
    "    test_rmses.append(rmse_test_en_full)\n",
    "\n",
    "best_model_index = test_rmses.index(min(test_rmses))\n",
    "\n",
    "elasticnet_full = models[best_model_index]\n",
    "y_pred_train_en_full = y_pred_trains[best_model_index]\n",
    "y_pred_test_en_full = y_pred_tests[best_model_index]\n",
    "rmse_train_full_en = train_rmses[best_model_index]\n",
    "rmse_test_full_en = test_rmses[best_model_index]\n",
    "l1_ratio_full = l1_ratios[best_model_index]\n",
    "\n",
    "print(\"Full Elastic Net Model\")\n",
    "print(\"l1_ratio =\", l1_ratio_full)\n",
    "print(\"Test RMSE: \", rmse_test_full_en)"
   ]
  },
  {
   "cell_type": "code",
   "execution_count": 36,
   "id": "public-gothic",
   "metadata": {},
   "outputs": [
    {
     "data": {
      "image/png": "[encoded data removed]",
      "text/plain": [
       "<Figure size 432x288 with 1 Axes>"
      ]
     },
     "metadata": {
      "needs_background": "light"
     },
     "output_type": "display_data"
    }
   ],
   "source": [
    "plt.scatter(l1_ratios, test_rmses)\n",
    "plt.title(\"Test RMSE by Ridge/Lasso Ratio (Full Model)\")\n",
    "plt.xlabel(\"L1 Ratio (0 = Ridge, 1 = Lasso)\")\n",
    "plt.ylabel(\"Test RMSE\");"
   ]
  },
  {
   "cell_type": "markdown",
   "id": "offshore-window",
   "metadata": {},
   "source": [
    "#### From paper (Full Model)\n",
    "* Training RMSE: 51\n",
    "* Test RMSE: 118\n",
    "* Mean % Train Error: 5.6\n",
    "* Mean % Test Error: 14.1"
   ]
  },
  {
   "cell_type": "code",
   "execution_count": 37,
   "id": "young-translator",
   "metadata": {},
   "outputs": [
    {
     "data": {
      "text/plain": [
       "Text(0.5, 1.0, 'Full Model Predicted vs. True Values')"
      ]
     },
     "execution_count": 37,
     "metadata": {},
     "output_type": "execute_result"
    },
    {
     "data": {
      "image/png": "[encoded data removed]",
      "text/plain": [
       "<Figure size 432x288 with 1 Axes>"
      ]
     },
     "metadata": {
      "needs_background": "light"
     },
     "output_type": "display_data"
    }
   ],
   "source": [
    "min_full = y_test.min()[0]\n",
    "max_full = y_test.max()[0]\n",
    "\n",
    "plt.scatter(y_test, y_pred_test_full)\n",
    "plt.plot([0, max_full], [0, max_full], color=\"red\")\n",
    "plt.xlabel(\"True Values\")\n",
    "plt.ylabel(\"Predicted Values\")\n",
    "plt.title(\"Full Model Predicted vs. True Values\")"
   ]
  },
  {
   "cell_type": "markdown",
   "id": "eleven-major",
   "metadata": {},
   "source": [
    "__Old Data Plots__"
   ]
  },
  {
   "cell_type": "code",
   "execution_count": 38,
   "id": "fitted-tomato",
   "metadata": {},
   "outputs": [],
   "source": [
    "old_cycle_life = old_df_full[\"X.capacity_0.8\"]"
   ]
  },
  {
   "cell_type": "code",
   "execution_count": 39,
   "id": "changed-modeling",
   "metadata": {},
   "outputs": [
    {
     "data": {
      "text/plain": [
       "Text(0.5, 1.0, 'Frequency of Cycle Life')"
      ]
     },
     "execution_count": 39,
     "metadata": {},
     "output_type": "execute_result"
    },
    {
     "data": {
      "image/png": "[encoded data removed]",
      "text/plain": [
       "<Figure size 432x288 with 1 Axes>"
      ]
     },
     "metadata": {
      "needs_background": "light"
     },
     "output_type": "display_data"
    }
   ],
   "source": [
    "plt.hist(old_cycle_life)\n",
    "plt.xlabel('Cycle Life')\n",
    "plt.ylabel('Frequency')\n",
    "plt.title('Frequency of Cycle Life')"
   ]
  },
  {
   "cell_type": "code",
   "execution_count": 40,
   "id": "proud-subcommittee",
   "metadata": {},
   "outputs": [
    {
     "data": {
      "image/png": "[encoded data removed]",
      "text/plain": [
       "<Figure size 432x288 with 1 Axes>"
      ]
     },
     "metadata": {
      "needs_background": "light"
     },
     "output_type": "display_data"
    },
    {
     "data": {
      "image/png": "[encoded data removed]",
      "text/plain": [
       "<Figure size 432x288 with 1 Axes>"
      ]
     },
     "metadata": {
      "needs_background": "light"
     },
     "output_type": "display_data"
    },
    {
     "data": {
      "image/png": "[encoded data removed]",
      "text/plain": [
       "<Figure size 432x288 with 1 Axes>"
      ]
     },
     "metadata": {
      "needs_background": "light"
     },
     "output_type": "display_data"
    },
    {
     "data": {
      "image/png": "[encoded data removed]",
      "text/plain": [
       "<Figure size 432x288 with 1 Axes>"
      ]
     },
     "metadata": {
      "needs_background": "light"
     },
     "output_type": "display_data"
    },
    {
     "data": {
      "image/png": "[encoded data removed]",
      "text/plain": [
       "<Figure size 432x288 with 1 Axes>"
      ]
     },
     "metadata": {
      "needs_background": "light"
     },
     "output_type": "display_data"
    },
    {
     "data": {
      "image/png": "[encoded data removed]",
      "text/plain": [
       "<Figure size 432x288 with 1 Axes>"
      ]
     },
     "metadata": {
      "needs_background": "light"
     },
     "output_type": "display_data"
    },
    {
     "data": {
      "image/png": "[encoded data removed]",
      "text/plain": [
       "<Figure size 432x288 with 1 Axes>"
      ]
     },
     "metadata": {
      "needs_background": "light"
     },
     "output_type": "display_data"
    },
    {
     "data": {
      "image/png": "[encoded data removed]",
      "text/plain": [
       "<Figure size 432x288 with 1 Axes>"
      ]
     },
     "metadata": {
      "needs_background": "light"
     },
     "output_type": "display_data"
    },
    {
     "data": {
      "image/png": "[encoded data removed]",
      "text/plain": [
       "<Figure size 432x288 with 1 Axes>"
      ]
     },
     "metadata": {
      "needs_background": "light"
     },
     "output_type": "display_data"
    }
   ],
   "source": [
    "# All columns in X_test_full\n",
    "for feature in X_test_full.columns:\n",
    "    plt.hist(X_test_full[feature])\n",
    "    plt.xlabel(feature)\n",
    "    plt.ylabel(\"Frequency\")\n",
    "    plt.title(\"Frequency of \" + feature)\n",
    "    plt.show()"
   ]
  },
  {
   "cell_type": "code",
   "execution_count": 49,
   "id": "lasting-allen",
   "metadata": {},
   "outputs": [],
   "source": [
    "old_data_metrics = pd.DataFrame(data = {\"Model & Source\": [\"Var (Linear)\", \"Var (E.N.)\", \"Var (Paper)\",\n",
    "                                                           \"Disc (Linear)\", \"Disc (E.N.)\", \"Disc (Paper)\",\n",
    "                                                           \"Full (Linear)\", \"Full (E.N.)\", \"Full (Paper)\"],\n",
    "                               \n",
    "                               \"Model\": [\"Variance\", \"Variance\", \"Variance\",\n",
    "                                         \"Discharge\", \"Discharge\", \"Discharge\",\n",
    "                                         \"Full\", \"Full\", \"Full\"],\n",
    "                                        \n",
    "                               \"Source\": [\"Us (Basic Linear)\", \"Us (Elastic Net)\", \"Paper (Elastic Net)\",\n",
    "                                          \"Us (Basic Linear)\", \"Us (Elastic Net)\", \"Paper (Elastic Net)\",\n",
    "                                          \"Us (Basic Linear)\", \"Us (Elastic Net)\", \"Paper (Elastic Net)\"],\n",
    "                                        \n",
    "                               \"Train RMSE\": [rmse_train_var, rmse_train_var_en, 103,\n",
    "                                              rmse_train_dis, rmse_train_dis_en, 76,\n",
    "                                              rmse_train_full, rmse_train_full_en, 51],\n",
    "                               \n",
    "                               \"Test RMSE\": [rmse_test_var, rmse_test_var_en, 138,\n",
    "                                             rmse_test_dis, rmse_test_dis_en, 91, \n",
    "                                             rmse_test_full, rmse_test_full_en, 118]})#,\n",
    "                               \n",
    "#                                \"Mean % Train Error\": [mape_train_var, 14.1,\n",
    "#                                                       mape_train_dis, 9.8,\n",
    "#                                                       mape_train_full, 5.6],\n",
    "                               \n",
    "#                                \"Mean % Test Error\": [mape_test_var, 14.7,\n",
    "#                                                      mape_test_dis, 13.0,\n",
    "#                                                      mape_test_full, 14.1]})"
   ]
  },
  {
   "cell_type": "code",
   "execution_count": 51,
   "id": "organized-photograph",
   "metadata": {},
   "outputs": [
    {
     "data": {
      "image/png": "[encoded data removed]",
      "text/plain": [
       "<Figure size 576x576 with 1 Axes>"
      ]
     },
     "metadata": {
      "needs_background": "light"
     },
     "output_type": "display_data"
    },
    {
     "data": {
      "image/png": "[encoded data removed]",
      "text/plain": [
       "<Figure size 576x576 with 1 Axes>"
      ]
     },
     "metadata": {
      "needs_background": "light"
     },
     "output_type": "display_data"
    }
   ],
   "source": [
    "#better plots in chunk below\n",
    "for column in old_data_metrics.columns[3:5]:\n",
    "    ax = old_data_metrics.plot.bar(x='Model & Source', y=column, rot=0,\n",
    "                         fontsize = 12, legend=False, figsize = (8,8),\n",
    "                         color = [\"y\",\"y\",\"y\",\"b\",\"b\",\"b\",\"r\",\"r\",\"r\"])\n",
    "\n",
    "    ax.set_xlabel(\"Model & Source\", fontsize = 16)\n",
    "    ax.set_ylabel(column, fontsize=16)\n",
    "    ax.set_title(column + \" Comparison\", fontsize=16)\n",
    "    plt.show()"
   ]
  },
  {
   "cell_type": "code",
   "execution_count": 52,
   "id": "excited-concert",
   "metadata": {},
   "outputs": [
    {
     "data": {
      "image/png": "[encoded data removed]",
      "text/plain": [
       "<Figure size 488.375x360 with 1 Axes>"
      ]
     },
     "metadata": {
      "needs_background": "light"
     },
     "output_type": "display_data"
    },
    {
     "data": {
      "image/png": "[encoded data removed]",
      "text/plain": [
       "<Figure size 488.375x360 with 1 Axes>"
      ]
     },
     "metadata": {
      "needs_background": "light"
     },
     "output_type": "display_data"
    }
   ],
   "source": [
    "for column in old_data_metrics.columns[3:5]:\n",
    "    sns.catplot(data = old_data_metrics, kind=\"bar\",\n",
    "               x = \"Model\", y = column, hue = \"Source\")\n",
    "    plt.title(column + \" Comparison\")"
   ]
  },
  {
   "cell_type": "code",
   "execution_count": null,
   "id": "brief-probability",
   "metadata": {},
   "outputs": [],
   "source": [
    "old_data_rmse = pd.DataFrame([[round(rmse_test_var), 138, \"Variance\"],\n",
    "                              [round(rmse_test_dis), 91, \"Discharge\"],\n",
    "                              [round(rmse_test_full), 118, \"Full\"]],\n",
    "                             columns = [\"Our Model RMSE\", \"Paper Model RMSE\", \"Model\"]\n",
    "                            ).set_index(\"Model\")\n",
    "old_data_rmse"
   ]
  },
  {
   "cell_type": "code",
   "execution_count": null,
   "id": "tracked-folks",
   "metadata": {},
   "outputs": [],
   "source": []
  },
  {
   "cell_type": "markdown",
   "id": "comparable-rotation",
   "metadata": {},
   "source": [
    "__New Data Models__"
   ]
  },
  {
   "cell_type": "code",
   "execution_count": null,
   "id": "final-jamaica",
   "metadata": {},
   "outputs": [],
   "source": [
    "from sklearn.model_selection import KFold\n",
    "from sklearn.utils import resample\n",
    "from matplotlib import pyplot as plt"
   ]
  },
  {
   "cell_type": "code",
   "execution_count": null,
   "id": "raised-creek",
   "metadata": {},
   "outputs": [],
   "source": [
    "new_df_full.plot.scatter(x='X.abs_variance_discharge_capacity_difference_cycles_2:100', y = 'X.capacity_0.8')"
   ]
  },
  {
   "cell_type": "code",
   "execution_count": null,
   "id": "apparent-aside",
   "metadata": {},
   "outputs": [],
   "source": [
    "# KFold \n",
    "splits = []\n",
    "kf = KFold(n_splits=2,shuffle=True, random_state = 451)\n",
    "for train_index, test_index in kf.split(new_df_full):\n",
    "    splits.append((train_index,test_index))\n",
    "    print(\"TRAIN:\", train_index, \"TEST:\", test_index)"
   ]
  },
  {
   "cell_type": "code",
   "execution_count": null,
   "id": "constant-dollar",
   "metadata": {},
   "outputs": [],
   "source": [
    "splits"
   ]
  },
  {
   "cell_type": "code",
   "execution_count": null,
   "id": "radio-species",
   "metadata": {},
   "outputs": [],
   "source": [
    "train_ind = splits[0][0]\n",
    "test_ind = splits[0][1]"
   ]
  },
  {
   "cell_type": "code",
   "execution_count": null,
   "id": "martial-cruise",
   "metadata": {},
   "outputs": [],
   "source": [
    "# Variance model\n",
    "X_train_var = new_df_full.iloc[train_ind][[variance_model_features]]\n",
    "y_train = new_df_full.iloc[train_ind][[y]]\n",
    "\n",
    "X_test_var = new_df_full.iloc[test_ind][[variance_model_features]]\n",
    "y_test = new_df_full.iloc[test_ind][[y]]\n",
    "\n",
    "reg_var = LinearRegression().fit(X_train_var,y_train)\n",
    "y_pred_train_var = reg_var.predict(X_train_var)\n",
    "y_pred_test_var = reg_var.predict(X_test_var)\n",
    "\n",
    "rmse_train_var = np.sqrt(mean_squared_error(y_train, y_pred_train_var))\n",
    "rmse_test_var = np.sqrt(mean_squared_error(y_test, y_pred_test_var))\n",
    "mape_train_var = mean_absolute_percentage_error(y_train, y_pred_train_var)\n",
    "mape_test_var = mean_absolute_percentage_error(y_test, y_pred_test_var)\n",
    "\n",
    "print(\"Variance Model\")\n",
    "print(\"Training RMSE: \", rmse_train_var)\n",
    "print(\"Test RMSE: \", rmse_test_var)\n",
    "print(\"Mean % Train Error: \", mape_train_var)\n",
    "print(\"Mean % Test Error: \", mape_test_var)"
   ]
  },
  {
   "cell_type": "code",
   "execution_count": null,
   "id": "developing-engineering",
   "metadata": {},
   "outputs": [],
   "source": [
    "# Variance model\n",
    "max_var = y_test.max()[0]\n",
    "\n",
    "plt.scatter(y_test, y_pred_test_var)\n",
    "plt.plot([0, max_var], [0, max_var], color=\"red\")\n",
    "plt.xlabel(\"True Values\")\n",
    "plt.ylabel(\"Predicted Values\")\n",
    "plt.title(\"Variance Model Predicted vs. True Values\")"
   ]
  },
  {
   "cell_type": "code",
   "execution_count": null,
   "id": "strange-moldova",
   "metadata": {},
   "outputs": [],
   "source": [
    "# discharge model\n",
    "X_train_dis = new_df_full.iloc[train_ind][discharge_model_features]\n",
    "X_train_dis = X_train_dis.replace([np.inf, -np.inf], np.nan)\n",
    "X_train_dis.dropna(inplace = True)\n",
    "X_train_dis_index = list(X_train_dis.index.values)\n",
    "\n",
    "y_train = new_df_full.iloc[X_train_dis_index][[y]]\n",
    "\n",
    "X_test_dis = new_df_full.iloc[test_ind][discharge_model_features]\n",
    "X_test_dis = X_test_dis.replace([np.inf, -np.inf], np.nan)\n",
    "X_test_dis.dropna(inplace = True)\n",
    "X_test_dis_index = list(X_test_dis.index.values)\n",
    "\n",
    "y_test = new_df_full.iloc[X_test_dis_index][[y]]\n",
    "\n",
    "reg_dis = LinearRegression().fit(X_train_dis,y_train)\n",
    "y_pred_train_dis = reg_dis.predict(X_train_dis)\n",
    "y_pred_test_dis = reg_dis.predict(X_test_dis)\n",
    "\n",
    "rmse_train_dis = np.sqrt(mean_squared_error(y_train, y_pred_train_dis))\n",
    "rmse_test_dis = np.sqrt(mean_squared_error(y_test, y_pred_test_dis))\n",
    "mape_train_dis = mean_absolute_percentage_error(y_train, y_pred_train_dis)\n",
    "mape_test_dis = mean_absolute_percentage_error(y_test, y_pred_test_dis)\n",
    "\n",
    "print(\"Discharge Model\")\n",
    "print(\"Training RMSE: \", np.sqrt(mean_squared_error(y_train, y_pred_train_dis)))\n",
    "print(\"Test RMSE: \", np.sqrt(mean_squared_error(y_test, y_pred_test_dis)))\n",
    "print(\"Mean % Train Error: \", mean_absolute_percentage_error(y_train, y_pred_train_dis))\n",
    "print(\"Mean % Test Error: \", mean_absolute_percentage_error(y_test, y_pred_test_dis))"
   ]
  },
  {
   "cell_type": "code",
   "execution_count": null,
   "id": "sublime-empty",
   "metadata": {},
   "outputs": [],
   "source": [
    "# Discharge model\n",
    "max_dis = y_test.max()[0]\n",
    "\n",
    "plt.scatter(y_test, y_pred_test_dis)\n",
    "plt.plot([0, max_dis], [0, max_dis], color=\"red\")\n",
    "plt.xlabel(\"True Values\")\n",
    "plt.ylabel(\"Predicted Values\")\n",
    "plt.title(\"Discharge Model Predicted vs. True Values\")"
   ]
  },
  {
   "cell_type": "code",
   "execution_count": null,
   "id": "adverse-opportunity",
   "metadata": {},
   "outputs": [],
   "source": [
    "# full model\n",
    "X_train_full = new_df_full.iloc[train_ind][full_model_features]\n",
    "X_train_full.replace(-np.Inf, np.nan, inplace = True)\n",
    "X_train_full.dropna(inplace = True)\n",
    "X_train_full_index = list(X_train_full.index.values)\n",
    "\n",
    "y_train = new_df_full.iloc[X_train_full_index][[y]]\n",
    "\n",
    "X_test_full = new_df_full.iloc[test_ind][full_model_features]\n",
    "X_test_full.replace(-np.Inf, np.nan, inplace = True)\n",
    "X_test_full.dropna(inplace = True)\n",
    "X_test_full_index = list(X_test_full.index.values)\n",
    "\n",
    "y_test = new_df_full.iloc[X_test_full_index][[y]]\n",
    "\n",
    "reg_full = LinearRegression().fit(X_train_full,y_train)\n",
    "y_pred_train_full = reg_full.predict(X_train_full)\n",
    "y_pred_test_full = reg_full.predict(X_test_full)\n",
    "\n",
    "rmse_train_full = np.sqrt(mean_squared_error(y_train, y_pred_train_full))\n",
    "rmse_test_full = np.sqrt(mean_squared_error(y_test, y_pred_test_full))\n",
    "mape_train_full = mean_absolute_percentage_error(y_train, y_pred_train_full)\n",
    "mape_test_full = mean_absolute_percentage_error(y_test, y_pred_test_full)\n",
    "\n",
    "print(\"Full Model\")\n",
    "print(\"Training RMSE: \", np.sqrt(mean_squared_error(y_train, y_pred_train_full)))\n",
    "print(\"Test RMSE: \", np.sqrt(mean_squared_error(y_test, y_pred_test_full)))\n",
    "print(\"Mean % Train Error: \", mean_absolute_percentage_error(y_train, y_pred_train_full))\n",
    "print(\"Mean % Test Error: \", mean_absolute_percentage_error(y_test, y_pred_test_full))"
   ]
  },
  {
   "cell_type": "code",
   "execution_count": null,
   "id": "romantic-establishment",
   "metadata": {},
   "outputs": [],
   "source": [
    "# full model\n",
    "max_full = y_test.max()[0]\n",
    "\n",
    "plt.scatter(y_test, y_pred_test_full)\n",
    "plt.plot([0, max_full], [0, max_full], color=\"red\")\n",
    "plt.xlabel(\"True Values\")\n",
    "plt.ylabel(\"Predicted Values\")\n",
    "plt.title(\"Full Model Predicted vs. True Values\")"
   ]
  },
  {
   "cell_type": "markdown",
   "id": "likely-violence",
   "metadata": {},
   "source": [
    "__New Data Plots__"
   ]
  },
  {
   "cell_type": "code",
   "execution_count": null,
   "id": "reliable-cassette",
   "metadata": {},
   "outputs": [],
   "source": [
    "new_cycle_life = new_df_full[\"X.capacity_0.8\"]"
   ]
  },
  {
   "cell_type": "code",
   "execution_count": null,
   "id": "practical-monaco",
   "metadata": {},
   "outputs": [],
   "source": [
    "plt.hist(new_cycle_life)\n",
    "plt.xlabel('Cycle Life')\n",
    "plt.ylabel('Frequency')\n",
    "plt.title('Frequency of Cycle Life')"
   ]
  },
  {
   "cell_type": "code",
   "execution_count": null,
   "id": "better-pottery",
   "metadata": {},
   "outputs": [],
   "source": [
    "# All columns in X_test_full\n",
    "for feature in X_test_full.columns:\n",
    "    plt.hist(X_test_full[feature])\n",
    "    plt.xlabel(feature)\n",
    "    plt.ylabel(\"Frequency\")\n",
    "    plt.title(\"Frequency of \" + feature)\n",
    "    plt.show()"
   ]
  },
  {
   "cell_type": "code",
   "execution_count": null,
   "id": "eleven-brain",
   "metadata": {},
   "outputs": [],
   "source": [
    "metrics = pd.DataFrame(data = {\"Model & Source\": [\"Variance (New)\",\"Discharge (New)\", \"Full (New)\"],\n",
    "                               \"Train RMSE\": [rmse_train_var, rmse_train_dis, rmse_train_full],\n",
    "                               \"Test RMSE\": [rmse_test_var, rmse_test_dis, rmse_test_full]#,\n",
    "#                                \"Mean % Train Error\": [mape_train_var, mape_train_dis, mape_train_full],\n",
    "#                                \"Mean % Test Error\": [mape_test_var, mape_test_dis, mape_test_full]}\n",
    "                              })\n",
    "\n",
    "\n",
    "for column in metrics.columns[1:]:\n",
    "    ax = metrics.plot.bar(x='Model & Source', y=column, rot=0,\n",
    "                         fontsize = 12, legend=False, figsize = (8,8),\n",
    "                         color = [\"y\",\"b\",\"r\"])\n",
    "\n",
    "    ax.set_xlabel(\"Model & Source\", fontsize = 16)\n",
    "    ax.set_ylabel(column, fontsize=16)\n",
    "    ax.set_title(column + \" Comparison\", fontsize=16)\n",
    "    plt.show()"
   ]
  },
  {
   "cell_type": "code",
   "execution_count": null,
   "id": "veterinary-starter",
   "metadata": {},
   "outputs": [],
   "source": [
    "pd.DataFrame([[round(rmse_test_var), \"Variance\"], \n",
    "              [round(rmse_test_dis), \"Discharge\"], \n",
    "              [round(rmse_test_full), \"Full\"]], \n",
    "             columns = [\"Our Model RMSE\", \"Model\"]\n",
    "            ).set_index(\"Model\")"
   ]
  },
  {
   "cell_type": "markdown",
   "id": "developmental-envelope",
   "metadata": {},
   "source": [
    "__Combined Plots__"
   ]
  },
  {
   "cell_type": "code",
   "execution_count": null,
   "id": "graduate-scanning",
   "metadata": {},
   "outputs": [],
   "source": [
    "sns.distplot(old_cycle_life, kde=False, color=\"orange\", label='Old Data', bins=5)\n",
    "sns.distplot(new_cycle_life, kde=False, color=\"blue\", label='New Data', bins=25)\n",
    "\n",
    "# Plot formatting\n",
    "plt.legend(prop={'size': 12})\n",
    "plt.title('Average Cycle Life of Data Sources')\n",
    "plt.xlabel('Cycle Life')\n",
    "plt.ylabel('Frequency');"
   ]
  }
 ],
 "metadata": {
  "kernelspec": {
   "display_name": "Python 3",
   "language": "python",
   "name": "python3"
  },
  "language_info": {
   "codemirror_mode": {
    "name": "ipython",
    "version": 3
   },
   "file_extension": ".py",
   "mimetype": "text/x-python",
   "name": "python",
   "nbconvert_exporter": "python",
   "pygments_lexer": "ipython3",
   "version": "3.7.4"
  }
 },
 "nbformat": 4,
 "nbformat_minor": 5
}
